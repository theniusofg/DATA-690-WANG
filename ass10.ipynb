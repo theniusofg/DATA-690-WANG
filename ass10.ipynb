{
 "cells": [
  {
   "cell_type": "code",
   "metadata": {
    "deepnote_to_be_reexecuted": false,
    "execution_millis": 1,
    "execution_start": 1620082526161,
    "source_hash": "d31af9aa",
    "cell_id": "00000-36b6865b-204d-49ef-b997-99fd77849f70",
    "deepnote_cell_type": "code"
   },
   "source": "import pandas",
   "execution_count": null,
   "outputs": []
  },
  {
   "cell_type": "code",
   "metadata": {
    "deepnote_to_be_reexecuted": false,
    "execution_millis": 27,
    "execution_start": 1620082529545,
    "source_hash": "34ea68ba",
    "cell_id": "00001-2641ffb5-3e51-42bf-9c17-b51064b60746",
    "deepnote_cell_type": "code"
   },
   "source": "df = pandas.read_csv('./gapminder.tsv', sep='\\t')",
   "execution_count": null,
   "outputs": []
  },
  {
   "cell_type": "code",
   "metadata": {
    "deepnote_to_be_reexecuted": false,
    "execution_millis": 54,
    "execution_start": 1620082533614,
    "source_hash": "c085b6ba",
    "cell_id": "00002-4dfdc1f9-7981-4a12-bf2c-0309661bbc3a",
    "deepnote_cell_type": "code"
   },
   "source": "df.head()",
   "execution_count": null,
   "outputs": [
    {
     "data": {
      "application/vnd.deepnote.dataframe.v2+json": {
       "column_count": 6,
       "columns": [
        {
         "dtype": "object",
         "name": "country",
         "stats": {
          "categories": [
           {
            "count": 5,
            "name": "Afghanistan"
           }
          ],
          "nan_count": 0,
          "unique_count": 1
         }
        },
        {
         "dtype": "object",
         "name": "continent",
         "stats": {
          "categories": [
           {
            "count": 5,
            "name": "Asia"
           }
          ],
          "nan_count": 0,
          "unique_count": 1
         }
        },
        {
         "dtype": "int64",
         "name": "year",
         "stats": {
          "histogram": [
           {
            "bin_end": 1954,
            "bin_start": 1952,
            "count": 1
           },
           {
            "bin_end": 1956,
            "bin_start": 1954,
            "count": 0
           },
           {
            "bin_end": 1958,
            "bin_start": 1956,
            "count": 1
           },
           {
            "bin_end": 1960,
            "bin_start": 1958,
            "count": 0
           },
           {
            "bin_end": 1962,
            "bin_start": 1960,
            "count": 0
           },
           {
            "bin_end": 1964,
            "bin_start": 1962,
            "count": 1
           },
           {
            "bin_end": 1966,
            "bin_start": 1964,
            "count": 0
           },
           {
            "bin_end": 1968,
            "bin_start": 1966,
            "count": 1
           },
           {
            "bin_end": 1970,
            "bin_start": 1968,
            "count": 0
           },
           {
            "bin_end": 1972,
            "bin_start": 1970,
            "count": 1
           }
          ],
          "max": "1972",
          "min": "1952",
          "nan_count": 0,
          "unique_count": 5
         }
        },
        {
         "dtype": "float64",
         "name": "lifeExp",
         "stats": {
          "histogram": [
           {
            "bin_end": 29.5297,
            "bin_start": 28.801,
            "count": 1
           },
           {
            "bin_end": 30.258399999999998,
            "bin_start": 29.5297,
            "count": 0
           },
           {
            "bin_end": 30.987099999999998,
            "bin_start": 30.258399999999998,
            "count": 1
           },
           {
            "bin_end": 31.715799999999998,
            "bin_start": 30.987099999999998,
            "count": 0
           },
           {
            "bin_end": 32.4445,
            "bin_start": 31.715799999999998,
            "count": 1
           },
           {
            "bin_end": 33.1732,
            "bin_start": 32.4445,
            "count": 0
           },
           {
            "bin_end": 33.9019,
            "bin_start": 33.1732,
            "count": 0
           },
           {
            "bin_end": 34.6306,
            "bin_start": 33.9019,
            "count": 1
           },
           {
            "bin_end": 35.3593,
            "bin_start": 34.6306,
            "count": 0
           },
           {
            "bin_end": 36.088,
            "bin_start": 35.3593,
            "count": 1
           }
          ],
          "max": "36.088",
          "min": "28.801",
          "nan_count": 0,
          "unique_count": 5
         }
        },
        {
         "dtype": "int64",
         "name": "pop",
         "stats": {
          "histogram": [
           {
            "bin_end": 8890745.7,
            "bin_start": 8425333,
            "count": 1
           },
           {
            "bin_end": 9356158.4,
            "bin_start": 8890745.7,
            "count": 1
           },
           {
            "bin_end": 9821571.1,
            "bin_start": 9356158.4,
            "count": 0
           },
           {
            "bin_end": 10286983.8,
            "bin_start": 9821571.1,
            "count": 1
           },
           {
            "bin_end": 10752396.5,
            "bin_start": 10286983.8,
            "count": 0
           },
           {
            "bin_end": 11217809.2,
            "bin_start": 10752396.5,
            "count": 0
           },
           {
            "bin_end": 11683221.9,
            "bin_start": 11217809.2,
            "count": 1
           },
           {
            "bin_end": 12148634.6,
            "bin_start": 11683221.9,
            "count": 0
           },
           {
            "bin_end": 12614047.3,
            "bin_start": 12148634.6,
            "count": 0
           },
           {
            "bin_end": 13079460,
            "bin_start": 12614047.3,
            "count": 1
           }
          ],
          "max": "13079460",
          "min": "8425333",
          "nan_count": 0,
          "unique_count": 5
         }
        },
        {
         "dtype": "float64",
         "name": "gdpPercap",
         "stats": {
          "histogram": [
           {
            "bin_end": 751.29306622,
            "bin_start": 739.9811058,
            "count": 1
           },
           {
            "bin_end": 762.60502664,
            "bin_start": 751.29306622,
            "count": 0
           },
           {
            "bin_end": 773.91698706,
            "bin_start": 762.60502664,
            "count": 0
           },
           {
            "bin_end": 785.22894748,
            "bin_start": 773.91698706,
            "count": 1
           },
           {
            "bin_end": 796.5409079000001,
            "bin_start": 785.22894748,
            "count": 0
           },
           {
            "bin_end": 807.85286832,
            "bin_start": 796.5409079000001,
            "count": 0
           },
           {
            "bin_end": 819.1648287400001,
            "bin_start": 807.85286832,
            "count": 0
           },
           {
            "bin_end": 830.4767891600001,
            "bin_start": 819.1648287400001,
            "count": 1
           },
           {
            "bin_end": 841.7887495800001,
            "bin_start": 830.4767891600001,
            "count": 1
           },
           {
            "bin_end": 853.10071,
            "bin_start": 841.7887495800001,
            "count": 1
           }
          ],
          "max": "853.10071",
          "min": "739.9811058",
          "nan_count": 0,
          "unique_count": 5
         }
        },
        {
         "dtype": "int64",
         "name": "_deepnote_index_column"
        }
       ],
       "row_count": 5,
       "rows_bottom": null,
       "rows_top": [
        {
         "_deepnote_index_column": 0,
         "continent": "Asia",
         "country": "Afghanistan",
         "gdpPercap": 779.4453145,
         "lifeExp": 28.801,
         "pop": 8425333,
         "year": 1952
        },
        {
         "_deepnote_index_column": 1,
         "continent": "Asia",
         "country": "Afghanistan",
         "gdpPercap": 820.8530296,
         "lifeExp": 30.332,
         "pop": 9240934,
         "year": 1957
        },
        {
         "_deepnote_index_column": 2,
         "continent": "Asia",
         "country": "Afghanistan",
         "gdpPercap": 853.10071,
         "lifeExp": 31.997,
         "pop": 10267083,
         "year": 1962
        },
        {
         "_deepnote_index_column": 3,
         "continent": "Asia",
         "country": "Afghanistan",
         "gdpPercap": 836.1971382,
         "lifeExp": 34.02,
         "pop": 11537966,
         "year": 1967
        },
        {
         "_deepnote_index_column": 4,
         "continent": "Asia",
         "country": "Afghanistan",
         "gdpPercap": 739.9811058,
         "lifeExp": 36.088,
         "pop": 13079460,
         "year": 1972
        }
       ]
      },
      "text/html": "<div>\n<style scoped>\n    .dataframe tbody tr th:only-of-type {\n        vertical-align: middle;\n    }\n\n    .dataframe tbody tr th {\n        vertical-align: top;\n    }\n\n    .dataframe thead th {\n        text-align: right;\n    }\n</style>\n<table border=\"1\" class=\"dataframe\">\n  <thead>\n    <tr style=\"text-align: right;\">\n      <th></th>\n      <th>country</th>\n      <th>continent</th>\n      <th>year</th>\n      <th>lifeExp</th>\n      <th>pop</th>\n      <th>gdpPercap</th>\n    </tr>\n  </thead>\n  <tbody>\n    <tr>\n      <th>0</th>\n      <td>Afghanistan</td>\n      <td>Asia</td>\n      <td>1952</td>\n      <td>28.801</td>\n      <td>8425333</td>\n      <td>779.445314</td>\n    </tr>\n    <tr>\n      <th>1</th>\n      <td>Afghanistan</td>\n      <td>Asia</td>\n      <td>1957</td>\n      <td>30.332</td>\n      <td>9240934</td>\n      <td>820.853030</td>\n    </tr>\n    <tr>\n      <th>2</th>\n      <td>Afghanistan</td>\n      <td>Asia</td>\n      <td>1962</td>\n      <td>31.997</td>\n      <td>10267083</td>\n      <td>853.100710</td>\n    </tr>\n    <tr>\n      <th>3</th>\n      <td>Afghanistan</td>\n      <td>Asia</td>\n      <td>1967</td>\n      <td>34.020</td>\n      <td>11537966</td>\n      <td>836.197138</td>\n    </tr>\n    <tr>\n      <th>4</th>\n      <td>Afghanistan</td>\n      <td>Asia</td>\n      <td>1972</td>\n      <td>36.088</td>\n      <td>13079460</td>\n      <td>739.981106</td>\n    </tr>\n  </tbody>\n</table>\n</div>",
      "text/plain": "       country continent  year  lifeExp       pop   gdpPercap\n0  Afghanistan      Asia  1952   28.801   8425333  779.445314\n1  Afghanistan      Asia  1957   30.332   9240934  820.853030\n2  Afghanistan      Asia  1962   31.997  10267083  853.100710\n3  Afghanistan      Asia  1967   34.020  11537966  836.197138\n4  Afghanistan      Asia  1972   36.088  13079460  739.981106"
     },
     "execution_count": 3,
     "metadata": {},
     "output_type": "execute_result"
    }
   ]
  },
  {
   "cell_type": "code",
   "metadata": {
    "deepnote_to_be_reexecuted": false,
    "execution_millis": 7,
    "execution_start": 1620082549182,
    "source_hash": "25d43fa0",
    "cell_id": "00003-a1637464-a039-44cb-82ca-1d4131f6197d",
    "deepnote_cell_type": "code"
   },
   "source": "df.columns",
   "execution_count": null,
   "outputs": [
    {
     "data": {
      "text/plain": "Index(['country', 'continent', 'year', 'lifeExp', 'pop', 'gdpPercap'], dtype='object')"
     },
     "execution_count": 4,
     "metadata": {},
     "output_type": "execute_result"
    }
   ]
  },
  {
   "cell_type": "code",
   "metadata": {
    "deepnote_to_be_reexecuted": false,
    "execution_millis": 14,
    "execution_start": 1620082616373,
    "source_hash": "651ad380",
    "cell_id": "00004-00853b7b-0e2a-4997-9782-a29f8f2285e9",
    "deepnote_cell_type": "code"
   },
   "source": "df.index",
   "execution_count": null,
   "outputs": [
    {
     "data": {
      "text/plain": "RangeIndex(start=0, stop=1704, step=1)"
     },
     "execution_count": 5,
     "metadata": {},
     "output_type": "execute_result"
    }
   ]
  },
  {
   "cell_type": "code",
   "metadata": {
    "deepnote_to_be_reexecuted": false,
    "execution_millis": 19,
    "execution_start": 1620082621738,
    "source_hash": "c00d0602",
    "cell_id": "00005-36617c6d-c087-4561-9c57-5f97f9935d22",
    "deepnote_cell_type": "code"
   },
   "source": "df.values",
   "execution_count": null,
   "outputs": [
    {
     "data": {
      "text/plain": "array([['Afghanistan', 'Asia', 1952, 28.801, 8425333, 779.4453145],\n       ['Afghanistan', 'Asia', 1957, 30.332, 9240934, 820.8530296],\n       ['Afghanistan', 'Asia', 1962, 31.997, 10267083, 853.10071],\n       ...,\n       ['Zimbabwe', 'Africa', 1997, 46.809, 11404948, 792.4499603],\n       ['Zimbabwe', 'Africa', 2002, 39.989, 11926563, 672.0386227],\n       ['Zimbabwe', 'Africa', 2007, 43.487, 12311143, 469.7092981]],\n      dtype=object)"
     },
     "execution_count": 6,
     "metadata": {},
     "output_type": "execute_result"
    }
   ]
  },
  {
   "cell_type": "code",
   "metadata": {
    "deepnote_to_be_reexecuted": false,
    "execution_millis": 13,
    "execution_start": 1620082639409,
    "source_hash": "61a12043",
    "cell_id": "00006-d4092042-c25e-4078-bee3-3d9a3b014ed6",
    "deepnote_cell_type": "code"
   },
   "source": "type(df)",
   "execution_count": null,
   "outputs": [
    {
     "data": {
      "text/plain": "pandas.core.frame.DataFrame"
     },
     "execution_count": 7,
     "metadata": {},
     "output_type": "execute_result"
    }
   ]
  },
  {
   "cell_type": "code",
   "metadata": {
    "deepnote_to_be_reexecuted": false,
    "execution_millis": 7,
    "execution_start": 1620082652440,
    "source_hash": "14f60b8f",
    "cell_id": "00007-83fc49aa-95c5-4d10-8bf7-35cb1a20c9ff",
    "deepnote_cell_type": "code"
   },
   "source": "df.shape",
   "execution_count": null,
   "outputs": [
    {
     "data": {
      "text/plain": "(1704, 6)"
     },
     "execution_count": 8,
     "metadata": {},
     "output_type": "execute_result"
    }
   ]
  },
  {
   "cell_type": "code",
   "metadata": {
    "deepnote_to_be_reexecuted": false,
    "execution_millis": 781,
    "execution_start": 1620082673707,
    "source_hash": "5f63f1ae",
    "cell_id": "00008-569cd4d1-da10-4267-9c10-a586d82d1c81",
    "deepnote_cell_type": "code"
   },
   "source": "df.shape()",
   "execution_count": null,
   "outputs": [
    {
     "ename": "TypeError",
     "evalue": "'tuple' object is not callable",
     "output_type": "error",
     "traceback": [
      "\u001b[0;31m---------------------------------------------------------------------------\u001b[0m",
      "\u001b[0;31mTypeError\u001b[0m                                 Traceback (most recent call last)",
      "\u001b[0;32m<ipython-input-9-0e566b70f572>\u001b[0m in \u001b[0;36m<module>\u001b[0;34m\u001b[0m\n\u001b[0;32m----> 1\u001b[0;31m \u001b[0mdf\u001b[0m\u001b[0;34m.\u001b[0m\u001b[0mshape\u001b[0m\u001b[0;34m(\u001b[0m\u001b[0;34m)\u001b[0m\u001b[0;34m\u001b[0m\u001b[0;34m\u001b[0m\u001b[0m\n\u001b[0m",
      "\u001b[0;31mTypeError\u001b[0m: 'tuple' object is not callable"
     ]
    }
   ]
  },
  {
   "cell_type": "code",
   "metadata": {
    "deepnote_to_be_reexecuted": false,
    "execution_millis": 27,
    "execution_start": 1620082686066,
    "source_hash": "de1e323c",
    "cell_id": "00009-3ba4e9a8-a0ea-4351-94c6-402f92b7a29e",
    "deepnote_cell_type": "code"
   },
   "source": "df.info()",
   "execution_count": null,
   "outputs": [
    {
     "name": "stdout",
     "output_type": "stream",
     "text": "<class 'pandas.core.frame.DataFrame'>\nRangeIndex: 1704 entries, 0 to 1703\nData columns (total 6 columns):\n #   Column     Non-Null Count  Dtype  \n---  ------     --------------  -----  \n 0   country    1704 non-null   object \n 1   continent  1704 non-null   object \n 2   year       1704 non-null   int64  \n 3   lifeExp    1704 non-null   float64\n 4   pop        1704 non-null   int64  \n 5   gdpPercap  1704 non-null   float64\ndtypes: float64(2), int64(2), object(2)\nmemory usage: 80.0+ KB\n"
    }
   ]
  },
  {
   "cell_type": "code",
   "metadata": {
    "deepnote_to_be_reexecuted": false,
    "execution_millis": 5,
    "execution_start": 1620082736938,
    "source_hash": "3af5b800",
    "cell_id": "00010-fea8f433-c60d-419c-b665-63dd3cc58fc9",
    "deepnote_cell_type": "code"
   },
   "source": "df['country']",
   "execution_count": null,
   "outputs": [
    {
     "data": {
      "text/plain": "0       Afghanistan\n1       Afghanistan\n2       Afghanistan\n3       Afghanistan\n4       Afghanistan\n           ...     \n1699       Zimbabwe\n1700       Zimbabwe\n1701       Zimbabwe\n1702       Zimbabwe\n1703       Zimbabwe\nName: country, Length: 1704, dtype: object"
     },
     "execution_count": 11,
     "metadata": {},
     "output_type": "execute_result"
    }
   ]
  },
  {
   "cell_type": "code",
   "metadata": {
    "deepnote_to_be_reexecuted": false,
    "execution_millis": 6,
    "execution_start": 1620082764862,
    "source_hash": "f3718ab4",
    "cell_id": "00011-59e91e79-32ce-4d3b-8dab-b82578ac1f62",
    "deepnote_cell_type": "code"
   },
   "source": "country_df = df['country']",
   "execution_count": null,
   "outputs": []
  },
  {
   "cell_type": "code",
   "metadata": {
    "deepnote_to_be_reexecuted": false,
    "execution_millis": 16,
    "execution_start": 1620082765836,
    "source_hash": "98ba0e48",
    "cell_id": "00012-9b4687d7-74c3-46e7-9c21-36db14748925",
    "deepnote_cell_type": "code"
   },
   "source": "country_df.head()",
   "execution_count": null,
   "outputs": [
    {
     "data": {
      "text/plain": "0    Afghanistan\n1    Afghanistan\n2    Afghanistan\n3    Afghanistan\n4    Afghanistan\nName: country, dtype: object"
     },
     "execution_count": 13,
     "metadata": {},
     "output_type": "execute_result"
    }
   ]
  },
  {
   "cell_type": "code",
   "metadata": {
    "deepnote_to_be_reexecuted": false,
    "execution_millis": 189,
    "execution_start": 1620082803490,
    "source_hash": "9b1f19c2",
    "cell_id": "00013-d0e582c4-4338-4747-8e37-54296760e6cb",
    "deepnote_cell_type": "code"
   },
   "source": "type(country_df)",
   "execution_count": null,
   "outputs": [
    {
     "data": {
      "text/plain": "pandas.core.series.Series"
     },
     "execution_count": 15,
     "metadata": {},
     "output_type": "execute_result"
    }
   ]
  },
  {
   "cell_type": "code",
   "metadata": {
    "deepnote_to_be_reexecuted": false,
    "execution_millis": 0,
    "execution_start": 1620082806631,
    "source_hash": "d9247761",
    "cell_id": "00014-c6a42f57-4e4c-43fd-b42b-1b1265c89ce9",
    "deepnote_cell_type": "code"
   },
   "source": "subset = df[['country', 'continent', 'year']]",
   "execution_count": null,
   "outputs": []
  },
  {
   "cell_type": "code",
   "metadata": {
    "deepnote_to_be_reexecuted": false,
    "execution_millis": 32,
    "execution_start": 1620082813530,
    "source_hash": "8d3cf01e",
    "cell_id": "00015-2f3ad38d-d9a2-49d4-bc20-67f7e2786be7",
    "deepnote_cell_type": "code"
   },
   "source": "subset.head()",
   "execution_count": null,
   "outputs": [
    {
     "data": {
      "application/vnd.deepnote.dataframe.v2+json": {
       "column_count": 3,
       "columns": [
        {
         "dtype": "object",
         "name": "country",
         "stats": {
          "categories": [
           {
            "count": 5,
            "name": "Afghanistan"
           }
          ],
          "nan_count": 0,
          "unique_count": 1
         }
        },
        {
         "dtype": "object",
         "name": "continent",
         "stats": {
          "categories": [
           {
            "count": 5,
            "name": "Asia"
           }
          ],
          "nan_count": 0,
          "unique_count": 1
         }
        },
        {
         "dtype": "int64",
         "name": "year",
         "stats": {
          "histogram": [
           {
            "bin_end": 1954,
            "bin_start": 1952,
            "count": 1
           },
           {
            "bin_end": 1956,
            "bin_start": 1954,
            "count": 0
           },
           {
            "bin_end": 1958,
            "bin_start": 1956,
            "count": 1
           },
           {
            "bin_end": 1960,
            "bin_start": 1958,
            "count": 0
           },
           {
            "bin_end": 1962,
            "bin_start": 1960,
            "count": 0
           },
           {
            "bin_end": 1964,
            "bin_start": 1962,
            "count": 1
           },
           {
            "bin_end": 1966,
            "bin_start": 1964,
            "count": 0
           },
           {
            "bin_end": 1968,
            "bin_start": 1966,
            "count": 1
           },
           {
            "bin_end": 1970,
            "bin_start": 1968,
            "count": 0
           },
           {
            "bin_end": 1972,
            "bin_start": 1970,
            "count": 1
           }
          ],
          "max": "1972",
          "min": "1952",
          "nan_count": 0,
          "unique_count": 5
         }
        },
        {
         "dtype": "int64",
         "name": "_deepnote_index_column"
        }
       ],
       "row_count": 5,
       "rows_bottom": null,
       "rows_top": [
        {
         "_deepnote_index_column": 0,
         "continent": "Asia",
         "country": "Afghanistan",
         "year": 1952
        },
        {
         "_deepnote_index_column": 1,
         "continent": "Asia",
         "country": "Afghanistan",
         "year": 1957
        },
        {
         "_deepnote_index_column": 2,
         "continent": "Asia",
         "country": "Afghanistan",
         "year": 1962
        },
        {
         "_deepnote_index_column": 3,
         "continent": "Asia",
         "country": "Afghanistan",
         "year": 1967
        },
        {
         "_deepnote_index_column": 4,
         "continent": "Asia",
         "country": "Afghanistan",
         "year": 1972
        }
       ]
      },
      "text/html": "<div>\n<style scoped>\n    .dataframe tbody tr th:only-of-type {\n        vertical-align: middle;\n    }\n\n    .dataframe tbody tr th {\n        vertical-align: top;\n    }\n\n    .dataframe thead th {\n        text-align: right;\n    }\n</style>\n<table border=\"1\" class=\"dataframe\">\n  <thead>\n    <tr style=\"text-align: right;\">\n      <th></th>\n      <th>country</th>\n      <th>continent</th>\n      <th>year</th>\n    </tr>\n  </thead>\n  <tbody>\n    <tr>\n      <th>0</th>\n      <td>Afghanistan</td>\n      <td>Asia</td>\n      <td>1952</td>\n    </tr>\n    <tr>\n      <th>1</th>\n      <td>Afghanistan</td>\n      <td>Asia</td>\n      <td>1957</td>\n    </tr>\n    <tr>\n      <th>2</th>\n      <td>Afghanistan</td>\n      <td>Asia</td>\n      <td>1962</td>\n    </tr>\n    <tr>\n      <th>3</th>\n      <td>Afghanistan</td>\n      <td>Asia</td>\n      <td>1967</td>\n    </tr>\n    <tr>\n      <th>4</th>\n      <td>Afghanistan</td>\n      <td>Asia</td>\n      <td>1972</td>\n    </tr>\n  </tbody>\n</table>\n</div>",
      "text/plain": "       country continent  year\n0  Afghanistan      Asia  1952\n1  Afghanistan      Asia  1957\n2  Afghanistan      Asia  1962\n3  Afghanistan      Asia  1967\n4  Afghanistan      Asia  1972"
     },
     "execution_count": 18,
     "metadata": {},
     "output_type": "execute_result"
    }
   ]
  },
  {
   "cell_type": "code",
   "metadata": {
    "deepnote_to_be_reexecuted": false,
    "execution_millis": 8,
    "execution_start": 1620082821366,
    "source_hash": "c2aac475",
    "cell_id": "00016-d6eb5a94-86c0-40db-8a6e-e9f06eea06a9",
    "deepnote_cell_type": "code"
   },
   "source": "pandas.__version__",
   "execution_count": null,
   "outputs": [
    {
     "data": {
      "text/plain": "'1.2.4'"
     },
     "execution_count": 19,
     "metadata": {},
     "output_type": "execute_result"
    }
   ]
  },
  {
   "cell_type": "code",
   "metadata": {
    "deepnote_to_be_reexecuted": false,
    "execution_millis": 18,
    "execution_start": 1620082843676,
    "source_hash": "c25fd91a",
    "cell_id": "00017-0abf84e2-8abe-4a12-8957-cf52043b64ec",
    "deepnote_cell_type": "code"
   },
   "source": "df.loc[2]",
   "execution_count": null,
   "outputs": [
    {
     "data": {
      "text/plain": "country      Afghanistan\ncontinent           Asia\nyear                1962\nlifeExp           31.997\npop             10267083\ngdpPercap      853.10071\nName: 2, dtype: object"
     },
     "execution_count": 20,
     "metadata": {},
     "output_type": "execute_result"
    }
   ]
  },
  {
   "cell_type": "code",
   "metadata": {
    "deepnote_to_be_reexecuted": false,
    "execution_millis": 26,
    "execution_start": 1620082873979,
    "source_hash": "18a8fc21",
    "cell_id": "00018-0d9dc183-d489-41f0-a49a-5ef892aed4b4",
    "deepnote_cell_type": "code"
   },
   "source": "df.loc[[2, 0]]",
   "execution_count": null,
   "outputs": [
    {
     "data": {
      "application/vnd.deepnote.dataframe.v2+json": {
       "column_count": 6,
       "columns": [
        {
         "dtype": "object",
         "name": "country",
         "stats": {
          "categories": [
           {
            "count": 2,
            "name": "Afghanistan"
           }
          ],
          "nan_count": 0,
          "unique_count": 1
         }
        },
        {
         "dtype": "object",
         "name": "continent",
         "stats": {
          "categories": [
           {
            "count": 2,
            "name": "Asia"
           }
          ],
          "nan_count": 0,
          "unique_count": 1
         }
        },
        {
         "dtype": "int64",
         "name": "year",
         "stats": {
          "histogram": [
           {
            "bin_end": 1953,
            "bin_start": 1952,
            "count": 1
           },
           {
            "bin_end": 1954,
            "bin_start": 1953,
            "count": 0
           },
           {
            "bin_end": 1955,
            "bin_start": 1954,
            "count": 0
           },
           {
            "bin_end": 1956,
            "bin_start": 1955,
            "count": 0
           },
           {
            "bin_end": 1957,
            "bin_start": 1956,
            "count": 0
           },
           {
            "bin_end": 1958,
            "bin_start": 1957,
            "count": 0
           },
           {
            "bin_end": 1959,
            "bin_start": 1958,
            "count": 0
           },
           {
            "bin_end": 1960,
            "bin_start": 1959,
            "count": 0
           },
           {
            "bin_end": 1961,
            "bin_start": 1960,
            "count": 0
           },
           {
            "bin_end": 1962,
            "bin_start": 1961,
            "count": 1
           }
          ],
          "max": "1962",
          "min": "1952",
          "nan_count": 0,
          "unique_count": 2
         }
        },
        {
         "dtype": "float64",
         "name": "lifeExp",
         "stats": {
          "histogram": [
           {
            "bin_end": 29.1206,
            "bin_start": 28.801,
            "count": 1
           },
           {
            "bin_end": 29.440199999999997,
            "bin_start": 29.1206,
            "count": 0
           },
           {
            "bin_end": 29.7598,
            "bin_start": 29.440199999999997,
            "count": 0
           },
           {
            "bin_end": 30.0794,
            "bin_start": 29.7598,
            "count": 0
           },
           {
            "bin_end": 30.399,
            "bin_start": 30.0794,
            "count": 0
           },
           {
            "bin_end": 30.7186,
            "bin_start": 30.399,
            "count": 0
           },
           {
            "bin_end": 31.0382,
            "bin_start": 30.7186,
            "count": 0
           },
           {
            "bin_end": 31.3578,
            "bin_start": 31.0382,
            "count": 0
           },
           {
            "bin_end": 31.6774,
            "bin_start": 31.3578,
            "count": 0
           },
           {
            "bin_end": 31.997,
            "bin_start": 31.6774,
            "count": 1
           }
          ],
          "max": "31.997",
          "min": "28.801",
          "nan_count": 0,
          "unique_count": 2
         }
        },
        {
         "dtype": "int64",
         "name": "pop",
         "stats": {
          "histogram": [
           {
            "bin_end": 8609508,
            "bin_start": 8425333,
            "count": 1
           },
           {
            "bin_end": 8793683,
            "bin_start": 8609508,
            "count": 0
           },
           {
            "bin_end": 8977858,
            "bin_start": 8793683,
            "count": 0
           },
           {
            "bin_end": 9162033,
            "bin_start": 8977858,
            "count": 0
           },
           {
            "bin_end": 9346208,
            "bin_start": 9162033,
            "count": 0
           },
           {
            "bin_end": 9530383,
            "bin_start": 9346208,
            "count": 0
           },
           {
            "bin_end": 9714558,
            "bin_start": 9530383,
            "count": 0
           },
           {
            "bin_end": 9898733,
            "bin_start": 9714558,
            "count": 0
           },
           {
            "bin_end": 10082908,
            "bin_start": 9898733,
            "count": 0
           },
           {
            "bin_end": 10267083,
            "bin_start": 10082908,
            "count": 1
           }
          ],
          "max": "10267083",
          "min": "8425333",
          "nan_count": 0,
          "unique_count": 2
         }
        },
        {
         "dtype": "float64",
         "name": "gdpPercap",
         "stats": {
          "histogram": [
           {
            "bin_end": 786.81085405,
            "bin_start": 779.4453145,
            "count": 1
           },
           {
            "bin_end": 794.1763936,
            "bin_start": 786.81085405,
            "count": 0
           },
           {
            "bin_end": 801.54193315,
            "bin_start": 794.1763936,
            "count": 0
           },
           {
            "bin_end": 808.9074727,
            "bin_start": 801.54193315,
            "count": 0
           },
           {
            "bin_end": 816.27301225,
            "bin_start": 808.9074727,
            "count": 0
           },
           {
            "bin_end": 823.6385518000001,
            "bin_start": 816.27301225,
            "count": 0
           },
           {
            "bin_end": 831.0040913500001,
            "bin_start": 823.6385518000001,
            "count": 0
           },
           {
            "bin_end": 838.3696309000001,
            "bin_start": 831.0040913500001,
            "count": 0
           },
           {
            "bin_end": 845.73517045,
            "bin_start": 838.3696309000001,
            "count": 0
           },
           {
            "bin_end": 853.10071,
            "bin_start": 845.73517045,
            "count": 1
           }
          ],
          "max": "853.10071",
          "min": "779.4453145",
          "nan_count": 0,
          "unique_count": 2
         }
        },
        {
         "dtype": "int64",
         "name": "_deepnote_index_column"
        }
       ],
       "row_count": 2,
       "rows_bottom": null,
       "rows_top": [
        {
         "_deepnote_index_column": 2,
         "continent": "Asia",
         "country": "Afghanistan",
         "gdpPercap": 853.10071,
         "lifeExp": 31.997,
         "pop": 10267083,
         "year": 1962
        },
        {
         "_deepnote_index_column": 0,
         "continent": "Asia",
         "country": "Afghanistan",
         "gdpPercap": 779.4453145,
         "lifeExp": 28.801,
         "pop": 8425333,
         "year": 1952
        }
       ]
      },
      "text/html": "<div>\n<style scoped>\n    .dataframe tbody tr th:only-of-type {\n        vertical-align: middle;\n    }\n\n    .dataframe tbody tr th {\n        vertical-align: top;\n    }\n\n    .dataframe thead th {\n        text-align: right;\n    }\n</style>\n<table border=\"1\" class=\"dataframe\">\n  <thead>\n    <tr style=\"text-align: right;\">\n      <th></th>\n      <th>country</th>\n      <th>continent</th>\n      <th>year</th>\n      <th>lifeExp</th>\n      <th>pop</th>\n      <th>gdpPercap</th>\n    </tr>\n  </thead>\n  <tbody>\n    <tr>\n      <th>2</th>\n      <td>Afghanistan</td>\n      <td>Asia</td>\n      <td>1962</td>\n      <td>31.997</td>\n      <td>10267083</td>\n      <td>853.100710</td>\n    </tr>\n    <tr>\n      <th>0</th>\n      <td>Afghanistan</td>\n      <td>Asia</td>\n      <td>1952</td>\n      <td>28.801</td>\n      <td>8425333</td>\n      <td>779.445314</td>\n    </tr>\n  </tbody>\n</table>\n</div>",
      "text/plain": "       country continent  year  lifeExp       pop   gdpPercap\n2  Afghanistan      Asia  1962   31.997  10267083  853.100710\n0  Afghanistan      Asia  1952   28.801   8425333  779.445314"
     },
     "execution_count": 21,
     "metadata": {},
     "output_type": "execute_result"
    }
   ]
  },
  {
   "cell_type": "code",
   "metadata": {
    "deepnote_to_be_reexecuted": false,
    "execution_millis": 12,
    "execution_start": 1620082921430,
    "source_hash": "7bd7608c",
    "cell_id": "00019-b3d18200-ee0a-497c-998b-c8d6ba59aba8",
    "deepnote_cell_type": "code"
   },
   "source": "df.iloc[2]",
   "execution_count": null,
   "outputs": [
    {
     "data": {
      "text/plain": "country      Afghanistan\ncontinent           Asia\nyear                1962\nlifeExp           31.997\npop             10267083\ngdpPercap      853.10071\nName: 2, dtype: object"
     },
     "execution_count": 22,
     "metadata": {},
     "output_type": "execute_result"
    }
   ]
  },
  {
   "cell_type": "code",
   "metadata": {
    "deepnote_to_be_reexecuted": false,
    "execution_millis": 23,
    "execution_start": 1620082937876,
    "source_hash": "c085b6ba",
    "cell_id": "00020-e10c3886-245e-4640-a453-3923918db44b",
    "deepnote_cell_type": "code"
   },
   "source": "df.head()",
   "execution_count": null,
   "outputs": [
    {
     "data": {
      "application/vnd.deepnote.dataframe.v2+json": {
       "column_count": 6,
       "columns": [
        {
         "dtype": "object",
         "name": "country",
         "stats": {
          "categories": [
           {
            "count": 5,
            "name": "Afghanistan"
           }
          ],
          "nan_count": 0,
          "unique_count": 1
         }
        },
        {
         "dtype": "object",
         "name": "continent",
         "stats": {
          "categories": [
           {
            "count": 5,
            "name": "Asia"
           }
          ],
          "nan_count": 0,
          "unique_count": 1
         }
        },
        {
         "dtype": "int64",
         "name": "year",
         "stats": {
          "histogram": [
           {
            "bin_end": 1954,
            "bin_start": 1952,
            "count": 1
           },
           {
            "bin_end": 1956,
            "bin_start": 1954,
            "count": 0
           },
           {
            "bin_end": 1958,
            "bin_start": 1956,
            "count": 1
           },
           {
            "bin_end": 1960,
            "bin_start": 1958,
            "count": 0
           },
           {
            "bin_end": 1962,
            "bin_start": 1960,
            "count": 0
           },
           {
            "bin_end": 1964,
            "bin_start": 1962,
            "count": 1
           },
           {
            "bin_end": 1966,
            "bin_start": 1964,
            "count": 0
           },
           {
            "bin_end": 1968,
            "bin_start": 1966,
            "count": 1
           },
           {
            "bin_end": 1970,
            "bin_start": 1968,
            "count": 0
           },
           {
            "bin_end": 1972,
            "bin_start": 1970,
            "count": 1
           }
          ],
          "max": "1972",
          "min": "1952",
          "nan_count": 0,
          "unique_count": 5
         }
        },
        {
         "dtype": "float64",
         "name": "lifeExp",
         "stats": {
          "histogram": [
           {
            "bin_end": 29.5297,
            "bin_start": 28.801,
            "count": 1
           },
           {
            "bin_end": 30.258399999999998,
            "bin_start": 29.5297,
            "count": 0
           },
           {
            "bin_end": 30.987099999999998,
            "bin_start": 30.258399999999998,
            "count": 1
           },
           {
            "bin_end": 31.715799999999998,
            "bin_start": 30.987099999999998,
            "count": 0
           },
           {
            "bin_end": 32.4445,
            "bin_start": 31.715799999999998,
            "count": 1
           },
           {
            "bin_end": 33.1732,
            "bin_start": 32.4445,
            "count": 0
           },
           {
            "bin_end": 33.9019,
            "bin_start": 33.1732,
            "count": 0
           },
           {
            "bin_end": 34.6306,
            "bin_start": 33.9019,
            "count": 1
           },
           {
            "bin_end": 35.3593,
            "bin_start": 34.6306,
            "count": 0
           },
           {
            "bin_end": 36.088,
            "bin_start": 35.3593,
            "count": 1
           }
          ],
          "max": "36.088",
          "min": "28.801",
          "nan_count": 0,
          "unique_count": 5
         }
        },
        {
         "dtype": "int64",
         "name": "pop",
         "stats": {
          "histogram": [
           {
            "bin_end": 8890745.7,
            "bin_start": 8425333,
            "count": 1
           },
           {
            "bin_end": 9356158.4,
            "bin_start": 8890745.7,
            "count": 1
           },
           {
            "bin_end": 9821571.1,
            "bin_start": 9356158.4,
            "count": 0
           },
           {
            "bin_end": 10286983.8,
            "bin_start": 9821571.1,
            "count": 1
           },
           {
            "bin_end": 10752396.5,
            "bin_start": 10286983.8,
            "count": 0
           },
           {
            "bin_end": 11217809.2,
            "bin_start": 10752396.5,
            "count": 0
           },
           {
            "bin_end": 11683221.9,
            "bin_start": 11217809.2,
            "count": 1
           },
           {
            "bin_end": 12148634.6,
            "bin_start": 11683221.9,
            "count": 0
           },
           {
            "bin_end": 12614047.3,
            "bin_start": 12148634.6,
            "count": 0
           },
           {
            "bin_end": 13079460,
            "bin_start": 12614047.3,
            "count": 1
           }
          ],
          "max": "13079460",
          "min": "8425333",
          "nan_count": 0,
          "unique_count": 5
         }
        },
        {
         "dtype": "float64",
         "name": "gdpPercap",
         "stats": {
          "histogram": [
           {
            "bin_end": 751.29306622,
            "bin_start": 739.9811058,
            "count": 1
           },
           {
            "bin_end": 762.60502664,
            "bin_start": 751.29306622,
            "count": 0
           },
           {
            "bin_end": 773.91698706,
            "bin_start": 762.60502664,
            "count": 0
           },
           {
            "bin_end": 785.22894748,
            "bin_start": 773.91698706,
            "count": 1
           },
           {
            "bin_end": 796.5409079000001,
            "bin_start": 785.22894748,
            "count": 0
           },
           {
            "bin_end": 807.85286832,
            "bin_start": 796.5409079000001,
            "count": 0
           },
           {
            "bin_end": 819.1648287400001,
            "bin_start": 807.85286832,
            "count": 0
           },
           {
            "bin_end": 830.4767891600001,
            "bin_start": 819.1648287400001,
            "count": 1
           },
           {
            "bin_end": 841.7887495800001,
            "bin_start": 830.4767891600001,
            "count": 1
           },
           {
            "bin_end": 853.10071,
            "bin_start": 841.7887495800001,
            "count": 1
           }
          ],
          "max": "853.10071",
          "min": "739.9811058",
          "nan_count": 0,
          "unique_count": 5
         }
        },
        {
         "dtype": "int64",
         "name": "_deepnote_index_column"
        }
       ],
       "row_count": 5,
       "rows_bottom": null,
       "rows_top": [
        {
         "_deepnote_index_column": 0,
         "continent": "Asia",
         "country": "Afghanistan",
         "gdpPercap": 779.4453145,
         "lifeExp": 28.801,
         "pop": 8425333,
         "year": 1952
        },
        {
         "_deepnote_index_column": 1,
         "continent": "Asia",
         "country": "Afghanistan",
         "gdpPercap": 820.8530296,
         "lifeExp": 30.332,
         "pop": 9240934,
         "year": 1957
        },
        {
         "_deepnote_index_column": 2,
         "continent": "Asia",
         "country": "Afghanistan",
         "gdpPercap": 853.10071,
         "lifeExp": 31.997,
         "pop": 10267083,
         "year": 1962
        },
        {
         "_deepnote_index_column": 3,
         "continent": "Asia",
         "country": "Afghanistan",
         "gdpPercap": 836.1971382,
         "lifeExp": 34.02,
         "pop": 11537966,
         "year": 1967
        },
        {
         "_deepnote_index_column": 4,
         "continent": "Asia",
         "country": "Afghanistan",
         "gdpPercap": 739.9811058,
         "lifeExp": 36.088,
         "pop": 13079460,
         "year": 1972
        }
       ]
      },
      "text/html": "<div>\n<style scoped>\n    .dataframe tbody tr th:only-of-type {\n        vertical-align: middle;\n    }\n\n    .dataframe tbody tr th {\n        vertical-align: top;\n    }\n\n    .dataframe thead th {\n        text-align: right;\n    }\n</style>\n<table border=\"1\" class=\"dataframe\">\n  <thead>\n    <tr style=\"text-align: right;\">\n      <th></th>\n      <th>country</th>\n      <th>continent</th>\n      <th>year</th>\n      <th>lifeExp</th>\n      <th>pop</th>\n      <th>gdpPercap</th>\n    </tr>\n  </thead>\n  <tbody>\n    <tr>\n      <th>0</th>\n      <td>Afghanistan</td>\n      <td>Asia</td>\n      <td>1952</td>\n      <td>28.801</td>\n      <td>8425333</td>\n      <td>779.445314</td>\n    </tr>\n    <tr>\n      <th>1</th>\n      <td>Afghanistan</td>\n      <td>Asia</td>\n      <td>1957</td>\n      <td>30.332</td>\n      <td>9240934</td>\n      <td>820.853030</td>\n    </tr>\n    <tr>\n      <th>2</th>\n      <td>Afghanistan</td>\n      <td>Asia</td>\n      <td>1962</td>\n      <td>31.997</td>\n      <td>10267083</td>\n      <td>853.100710</td>\n    </tr>\n    <tr>\n      <th>3</th>\n      <td>Afghanistan</td>\n      <td>Asia</td>\n      <td>1967</td>\n      <td>34.020</td>\n      <td>11537966</td>\n      <td>836.197138</td>\n    </tr>\n    <tr>\n      <th>4</th>\n      <td>Afghanistan</td>\n      <td>Asia</td>\n      <td>1972</td>\n      <td>36.088</td>\n      <td>13079460</td>\n      <td>739.981106</td>\n    </tr>\n  </tbody>\n</table>\n</div>",
      "text/plain": "       country continent  year  lifeExp       pop   gdpPercap\n0  Afghanistan      Asia  1952   28.801   8425333  779.445314\n1  Afghanistan      Asia  1957   30.332   9240934  820.853030\n2  Afghanistan      Asia  1962   31.997  10267083  853.100710\n3  Afghanistan      Asia  1967   34.020  11537966  836.197138\n4  Afghanistan      Asia  1972   36.088  13079460  739.981106"
     },
     "execution_count": 23,
     "metadata": {},
     "output_type": "execute_result"
    }
   ]
  },
  {
   "cell_type": "code",
   "metadata": {
    "deepnote_to_be_reexecuted": false,
    "execution_millis": 12,
    "execution_start": 1620082948327,
    "source_hash": "c21974e5",
    "cell_id": "00021-3d207ec5-6c35-4c29-a489-1198791d136b",
    "deepnote_cell_type": "code"
   },
   "source": "# df.ix[2]\n\n# deprecated. no longer has any ix attribute.",
   "execution_count": null,
   "outputs": [
    {
     "ename": "AttributeError",
     "evalue": "'DataFrame' object has no attribute 'ix'",
     "output_type": "error",
     "traceback": [
      "\u001b[0;31m---------------------------------------------------------------------------\u001b[0m",
      "\u001b[0;31mAttributeError\u001b[0m                            Traceback (most recent call last)",
      "\u001b[0;32m<ipython-input-25-bf07bbaeddde>\u001b[0m in \u001b[0;36m<module>\u001b[0;34m\u001b[0m\n\u001b[0;32m----> 1\u001b[0;31m \u001b[0mdf\u001b[0m\u001b[0;34m.\u001b[0m\u001b[0mix\u001b[0m\u001b[0;34m[\u001b[0m\u001b[0;36m2\u001b[0m\u001b[0;34m]\u001b[0m\u001b[0;34m\u001b[0m\u001b[0;34m\u001b[0m\u001b[0m\n\u001b[0m",
      "\u001b[0;32m/shared-libs/python3.7/py/lib/python3.7/site-packages/pandas/core/generic.py\u001b[0m in \u001b[0;36m__getattr__\u001b[0;34m(self, name)\u001b[0m\n\u001b[1;32m   5463\u001b[0m             \u001b[0;32mif\u001b[0m \u001b[0mself\u001b[0m\u001b[0;34m.\u001b[0m\u001b[0m_info_axis\u001b[0m\u001b[0;34m.\u001b[0m\u001b[0m_can_hold_identifiers_and_holds_name\u001b[0m\u001b[0;34m(\u001b[0m\u001b[0mname\u001b[0m\u001b[0;34m)\u001b[0m\u001b[0;34m:\u001b[0m\u001b[0;34m\u001b[0m\u001b[0;34m\u001b[0m\u001b[0m\n\u001b[1;32m   5464\u001b[0m                 \u001b[0;32mreturn\u001b[0m \u001b[0mself\u001b[0m\u001b[0;34m[\u001b[0m\u001b[0mname\u001b[0m\u001b[0;34m]\u001b[0m\u001b[0;34m\u001b[0m\u001b[0;34m\u001b[0m\u001b[0m\n\u001b[0;32m-> 5465\u001b[0;31m             \u001b[0;32mreturn\u001b[0m \u001b[0mobject\u001b[0m\u001b[0;34m.\u001b[0m\u001b[0m__getattribute__\u001b[0m\u001b[0;34m(\u001b[0m\u001b[0mself\u001b[0m\u001b[0;34m,\u001b[0m \u001b[0mname\u001b[0m\u001b[0;34m)\u001b[0m\u001b[0;34m\u001b[0m\u001b[0;34m\u001b[0m\u001b[0m\n\u001b[0m\u001b[1;32m   5466\u001b[0m \u001b[0;34m\u001b[0m\u001b[0m\n\u001b[1;32m   5467\u001b[0m     \u001b[0;32mdef\u001b[0m \u001b[0m__setattr__\u001b[0m\u001b[0;34m(\u001b[0m\u001b[0mself\u001b[0m\u001b[0;34m,\u001b[0m \u001b[0mname\u001b[0m\u001b[0;34m:\u001b[0m \u001b[0mstr\u001b[0m\u001b[0;34m,\u001b[0m \u001b[0mvalue\u001b[0m\u001b[0;34m)\u001b[0m \u001b[0;34m->\u001b[0m \u001b[0;32mNone\u001b[0m\u001b[0;34m:\u001b[0m\u001b[0;34m\u001b[0m\u001b[0;34m\u001b[0m\u001b[0m\n",
      "\u001b[0;31mAttributeError\u001b[0m: 'DataFrame' object has no attribute 'ix'"
     ]
    }
   ]
  },
  {
   "cell_type": "code",
   "metadata": {
    "deepnote_to_be_reexecuted": false,
    "execution_millis": 1,
    "execution_start": 1620083074078,
    "source_hash": "d95f452a",
    "cell_id": "00022-05d4efec-31aa-472d-bfa9-a8a21ca50702",
    "deepnote_cell_type": "code"
   },
   "source": "subset = df.loc[:, ['year', 'pop']]",
   "execution_count": null,
   "outputs": []
  },
  {
   "cell_type": "code",
   "metadata": {
    "deepnote_to_be_reexecuted": false,
    "execution_millis": 18,
    "execution_start": 1620083075375,
    "source_hash": "8d3cf01e",
    "cell_id": "00023-b9842097-216b-4ac0-aa9d-edafd37aaec0",
    "deepnote_cell_type": "code"
   },
   "source": "subset.head()",
   "execution_count": null,
   "outputs": [
    {
     "data": {
      "application/vnd.deepnote.dataframe.v2+json": {
       "column_count": 2,
       "columns": [
        {
         "dtype": "int64",
         "name": "year",
         "stats": {
          "histogram": [
           {
            "bin_end": 1954,
            "bin_start": 1952,
            "count": 1
           },
           {
            "bin_end": 1956,
            "bin_start": 1954,
            "count": 0
           },
           {
            "bin_end": 1958,
            "bin_start": 1956,
            "count": 1
           },
           {
            "bin_end": 1960,
            "bin_start": 1958,
            "count": 0
           },
           {
            "bin_end": 1962,
            "bin_start": 1960,
            "count": 0
           },
           {
            "bin_end": 1964,
            "bin_start": 1962,
            "count": 1
           },
           {
            "bin_end": 1966,
            "bin_start": 1964,
            "count": 0
           },
           {
            "bin_end": 1968,
            "bin_start": 1966,
            "count": 1
           },
           {
            "bin_end": 1970,
            "bin_start": 1968,
            "count": 0
           },
           {
            "bin_end": 1972,
            "bin_start": 1970,
            "count": 1
           }
          ],
          "max": "1972",
          "min": "1952",
          "nan_count": 0,
          "unique_count": 5
         }
        },
        {
         "dtype": "int64",
         "name": "pop",
         "stats": {
          "histogram": [
           {
            "bin_end": 8890745.7,
            "bin_start": 8425333,
            "count": 1
           },
           {
            "bin_end": 9356158.4,
            "bin_start": 8890745.7,
            "count": 1
           },
           {
            "bin_end": 9821571.1,
            "bin_start": 9356158.4,
            "count": 0
           },
           {
            "bin_end": 10286983.8,
            "bin_start": 9821571.1,
            "count": 1
           },
           {
            "bin_end": 10752396.5,
            "bin_start": 10286983.8,
            "count": 0
           },
           {
            "bin_end": 11217809.2,
            "bin_start": 10752396.5,
            "count": 0
           },
           {
            "bin_end": 11683221.9,
            "bin_start": 11217809.2,
            "count": 1
           },
           {
            "bin_end": 12148634.6,
            "bin_start": 11683221.9,
            "count": 0
           },
           {
            "bin_end": 12614047.3,
            "bin_start": 12148634.6,
            "count": 0
           },
           {
            "bin_end": 13079460,
            "bin_start": 12614047.3,
            "count": 1
           }
          ],
          "max": "13079460",
          "min": "8425333",
          "nan_count": 0,
          "unique_count": 5
         }
        },
        {
         "dtype": "int64",
         "name": "_deepnote_index_column"
        }
       ],
       "row_count": 5,
       "rows_bottom": null,
       "rows_top": [
        {
         "_deepnote_index_column": 0,
         "pop": 8425333,
         "year": 1952
        },
        {
         "_deepnote_index_column": 1,
         "pop": 9240934,
         "year": 1957
        },
        {
         "_deepnote_index_column": 2,
         "pop": 10267083,
         "year": 1962
        },
        {
         "_deepnote_index_column": 3,
         "pop": 11537966,
         "year": 1967
        },
        {
         "_deepnote_index_column": 4,
         "pop": 13079460,
         "year": 1972
        }
       ]
      },
      "text/html": "<div>\n<style scoped>\n    .dataframe tbody tr th:only-of-type {\n        vertical-align: middle;\n    }\n\n    .dataframe tbody tr th {\n        vertical-align: top;\n    }\n\n    .dataframe thead th {\n        text-align: right;\n    }\n</style>\n<table border=\"1\" class=\"dataframe\">\n  <thead>\n    <tr style=\"text-align: right;\">\n      <th></th>\n      <th>year</th>\n      <th>pop</th>\n    </tr>\n  </thead>\n  <tbody>\n    <tr>\n      <th>0</th>\n      <td>1952</td>\n      <td>8425333</td>\n    </tr>\n    <tr>\n      <th>1</th>\n      <td>1957</td>\n      <td>9240934</td>\n    </tr>\n    <tr>\n      <th>2</th>\n      <td>1962</td>\n      <td>10267083</td>\n    </tr>\n    <tr>\n      <th>3</th>\n      <td>1967</td>\n      <td>11537966</td>\n    </tr>\n    <tr>\n      <th>4</th>\n      <td>1972</td>\n      <td>13079460</td>\n    </tr>\n  </tbody>\n</table>\n</div>",
      "text/plain": "   year       pop\n0  1952   8425333\n1  1957   9240934\n2  1962  10267083\n3  1967  11537966\n4  1972  13079460"
     },
     "execution_count": 27,
     "metadata": {},
     "output_type": "execute_result"
    }
   ]
  },
  {
   "cell_type": "code",
   "metadata": {
    "deepnote_to_be_reexecuted": false,
    "execution_millis": 49,
    "execution_start": 1620083109158,
    "source_hash": "55e6cfe",
    "cell_id": "00024-c6e367a6-9b17-4f63-acff-1c99f1f7c2c9",
    "deepnote_cell_type": "code"
   },
   "source": "df.loc[df['year'] == 1967, ['year', 'pop']]",
   "execution_count": null,
   "outputs": [
    {
     "data": {
      "application/vnd.deepnote.dataframe.v2+json": {
       "column_count": 2,
       "columns": [
        {
         "dtype": "int64",
         "name": "year",
         "stats": {
          "histogram": [
           {
            "bin_end": 1966.6,
            "bin_start": 1966.5,
            "count": 0
           },
           {
            "bin_end": 1966.7,
            "bin_start": 1966.6,
            "count": 0
           },
           {
            "bin_end": 1966.8,
            "bin_start": 1966.7,
            "count": 0
           },
           {
            "bin_end": 1966.9,
            "bin_start": 1966.8,
            "count": 0
           },
           {
            "bin_end": 1967,
            "bin_start": 1966.9,
            "count": 0
           },
           {
            "bin_end": 1967.1,
            "bin_start": 1967,
            "count": 142
           },
           {
            "bin_end": 1967.2,
            "bin_start": 1967.1,
            "count": 0
           },
           {
            "bin_end": 1967.3,
            "bin_start": 1967.2,
            "count": 0
           },
           {
            "bin_end": 1967.4,
            "bin_start": 1967.3,
            "count": 0
           },
           {
            "bin_end": 1967.5,
            "bin_start": 1967.4,
            "count": 0
           }
          ],
          "max": "1967",
          "min": "1967",
          "nan_count": 0,
          "unique_count": 1
         }
        },
        {
         "dtype": "int64",
         "name": "pop",
         "stats": {
          "histogram": [
           {
            "bin_end": 75518708.3,
            "bin_start": 70787,
            "count": 135
           },
           {
            "bin_end": 150966629.6,
            "bin_start": 75518708.3,
            "count": 4
           },
           {
            "bin_end": 226414550.89999998,
            "bin_start": 150966629.6,
            "count": 1
           },
           {
            "bin_end": 301862472.2,
            "bin_start": 226414550.89999998,
            "count": 0
           },
           {
            "bin_end": 377310393.5,
            "bin_start": 301862472.2,
            "count": 0
           },
           {
            "bin_end": 452758314.79999995,
            "bin_start": 377310393.5,
            "count": 0
           },
           {
            "bin_end": 528206236.09999996,
            "bin_start": 452758314.79999995,
            "count": 1
           },
           {
            "bin_end": 603654157.4,
            "bin_start": 528206236.09999996,
            "count": 0
           },
           {
            "bin_end": 679102078.6999999,
            "bin_start": 603654157.4,
            "count": 0
           },
           {
            "bin_end": 754550000,
            "bin_start": 679102078.6999999,
            "count": 1
           }
          ],
          "max": "754550000",
          "min": "70787",
          "nan_count": 0,
          "unique_count": 142
         }
        },
        {
         "dtype": "int64",
         "name": "_deepnote_index_column"
        }
       ],
       "row_count": 142,
       "rows_bottom": null,
       "rows_top": [
        {
         "_deepnote_index_column": 3,
         "pop": 11537966,
         "year": 1967
        },
        {
         "_deepnote_index_column": 15,
         "pop": 1984060,
         "year": 1967
        },
        {
         "_deepnote_index_column": 27,
         "pop": 12760499,
         "year": 1967
        },
        {
         "_deepnote_index_column": 39,
         "pop": 5247469,
         "year": 1967
        },
        {
         "_deepnote_index_column": 51,
         "pop": 22934225,
         "year": 1967
        },
        {
         "_deepnote_index_column": 63,
         "pop": 11872264,
         "year": 1967
        },
        {
         "_deepnote_index_column": 75,
         "pop": 7376998,
         "year": 1967
        },
        {
         "_deepnote_index_column": 87,
         "pop": 202182,
         "year": 1967
        },
        {
         "_deepnote_index_column": 99,
         "pop": 62821884,
         "year": 1967
        },
        {
         "_deepnote_index_column": 111,
         "pop": 9556500,
         "year": 1967
        },
        {
         "_deepnote_index_column": 123,
         "pop": 2427334,
         "year": 1967
        },
        {
         "_deepnote_index_column": 135,
         "pop": 4040665,
         "year": 1967
        },
        {
         "_deepnote_index_column": 147,
         "pop": 3585000,
         "year": 1967
        },
        {
         "_deepnote_index_column": 159,
         "pop": 553541,
         "year": 1967
        },
        {
         "_deepnote_index_column": 171,
         "pop": 88049823,
         "year": 1967
        },
        {
         "_deepnote_index_column": 183,
         "pop": 8310226,
         "year": 1967
        },
        {
         "_deepnote_index_column": 195,
         "pop": 5127935,
         "year": 1967
        },
        {
         "_deepnote_index_column": 207,
         "pop": 3330989,
         "year": 1967
        },
        {
         "_deepnote_index_column": 219,
         "pop": 6960067,
         "year": 1967
        },
        {
         "_deepnote_index_column": 231,
         "pop": 6335506,
         "year": 1967
        },
        {
         "_deepnote_index_column": 243,
         "pop": 20819767,
         "year": 1967
        },
        {
         "_deepnote_index_column": 255,
         "pop": 1733638,
         "year": 1967
        },
        {
         "_deepnote_index_column": 267,
         "pop": 3495967,
         "year": 1967
        },
        {
         "_deepnote_index_column": 279,
         "pop": 8858908,
         "year": 1967
        },
        {
         "_deepnote_index_column": 291,
         "pop": 754550000,
         "year": 1967
        },
        {
         "_deepnote_index_column": 303,
         "pop": 19764027,
         "year": 1967
        },
        {
         "_deepnote_index_column": 315,
         "pop": 217378,
         "year": 1967
        },
        {
         "_deepnote_index_column": 327,
         "pop": 19941073,
         "year": 1967
        },
        {
         "_deepnote_index_column": 339,
         "pop": 1179760,
         "year": 1967
        },
        {
         "_deepnote_index_column": 351,
         "pop": 1588717,
         "year": 1967
        },
        {
         "_deepnote_index_column": 363,
         "pop": 4744870,
         "year": 1967
        },
        {
         "_deepnote_index_column": 375,
         "pop": 4174366,
         "year": 1967
        },
        {
         "_deepnote_index_column": 387,
         "pop": 8139332,
         "year": 1967
        },
        {
         "_deepnote_index_column": 399,
         "pop": 9835109,
         "year": 1967
        },
        {
         "_deepnote_index_column": 411,
         "pop": 4838800,
         "year": 1967
        },
        {
         "_deepnote_index_column": 423,
         "pop": 127617,
         "year": 1967
        },
        {
         "_deepnote_index_column": 435,
         "pop": 4049146,
         "year": 1967
        },
        {
         "_deepnote_index_column": 447,
         "pop": 5432424,
         "year": 1967
        },
        {
         "_deepnote_index_column": 459,
         "pop": 31681188,
         "year": 1967
        },
        {
         "_deepnote_index_column": 471,
         "pop": 3232927,
         "year": 1967
        },
        {
         "_deepnote_index_column": 483,
         "pop": 259864,
         "year": 1967
        },
        {
         "_deepnote_index_column": 495,
         "pop": 1820319,
         "year": 1967
        },
        {
         "_deepnote_index_column": 507,
         "pop": 27860297,
         "year": 1967
        },
        {
         "_deepnote_index_column": 519,
         "pop": 4605744,
         "year": 1967
        },
        {
         "_deepnote_index_column": 531,
         "pop": 49569000,
         "year": 1967
        },
        {
         "_deepnote_index_column": 543,
         "pop": 489004,
         "year": 1967
        },
        {
         "_deepnote_index_column": 555,
         "pop": 439593,
         "year": 1967
        },
        {
         "_deepnote_index_column": 567,
         "pop": 76368453,
         "year": 1967
        },
        {
         "_deepnote_index_column": 579,
         "pop": 8490213,
         "year": 1967
        },
        {
         "_deepnote_index_column": 591,
         "pop": 8716441,
         "year": 1967
        },
        {
         "_deepnote_index_column": 603,
         "pop": 4690773,
         "year": 1967
        },
        {
         "_deepnote_index_column": 615,
         "pop": 3451418,
         "year": 1967
        },
        {
         "_deepnote_index_column": 627,
         "pop": 601287,
         "year": 1967
        },
        {
         "_deepnote_index_column": 639,
         "pop": 4318137,
         "year": 1967
        },
        {
         "_deepnote_index_column": 651,
         "pop": 2500689,
         "year": 1967
        },
        {
         "_deepnote_index_column": 663,
         "pop": 3722800,
         "year": 1967
        },
        {
         "_deepnote_index_column": 675,
         "pop": 10223422,
         "year": 1967
        },
        {
         "_deepnote_index_column": 687,
         "pop": 198676,
         "year": 1967
        },
        {
         "_deepnote_index_column": 699,
         "pop": 506000000,
         "year": 1967
        },
        {
         "_deepnote_index_column": 711,
         "pop": 109343000,
         "year": 1967
        },
        {
         "_deepnote_index_column": 723,
         "pop": 26538000,
         "year": 1967
        },
        {
         "_deepnote_index_column": 735,
         "pop": 8519282,
         "year": 1967
        },
        {
         "_deepnote_index_column": 747,
         "pop": 2900100,
         "year": 1967
        },
        {
         "_deepnote_index_column": 759,
         "pop": 2693585,
         "year": 1967
        },
        {
         "_deepnote_index_column": 771,
         "pop": 52667100,
         "year": 1967
        },
        {
         "_deepnote_index_column": 783,
         "pop": 1861096,
         "year": 1967
        },
        {
         "_deepnote_index_column": 795,
         "pop": 100825279,
         "year": 1967
        },
        {
         "_deepnote_index_column": 807,
         "pop": 1255058,
         "year": 1967
        },
        {
         "_deepnote_index_column": 819,
         "pop": 10191512,
         "year": 1967
        },
        {
         "_deepnote_index_column": 831,
         "pop": 12617009,
         "year": 1967
        },
        {
         "_deepnote_index_column": 843,
         "pop": 30131000,
         "year": 1967
        },
        {
         "_deepnote_index_column": 855,
         "pop": 575003,
         "year": 1967
        },
        {
         "_deepnote_index_column": 867,
         "pop": 2186894,
         "year": 1967
        },
        {
         "_deepnote_index_column": 879,
         "pop": 996380,
         "year": 1967
        },
        {
         "_deepnote_index_column": 891,
         "pop": 1279406,
         "year": 1967
        },
        {
         "_deepnote_index_column": 903,
         "pop": 1759224,
         "year": 1967
        },
        {
         "_deepnote_index_column": 915,
         "pop": 6334556,
         "year": 1967
        },
        {
         "_deepnote_index_column": 927,
         "pop": 4147252,
         "year": 1967
        },
        {
         "_deepnote_index_column": 939,
         "pop": 10154878,
         "year": 1967
        },
        {
         "_deepnote_index_column": 951,
         "pop": 5212416,
         "year": 1967
        },
        {
         "_deepnote_index_column": 963,
         "pop": 1230542,
         "year": 1967
        },
        {
         "_deepnote_index_column": 975,
         "pop": 789309,
         "year": 1967
        },
        {
         "_deepnote_index_column": 987,
         "pop": 47995559,
         "year": 1967
        },
        {
         "_deepnote_index_column": 999,
         "pop": 1149500,
         "year": 1967
        },
        {
         "_deepnote_index_column": 1011,
         "pop": 501035,
         "year": 1967
        },
        {
         "_deepnote_index_column": 1023,
         "pop": 14770296,
         "year": 1967
        },
        {
         "_deepnote_index_column": 1035,
         "pop": 8680909,
         "year": 1967
        },
        {
         "_deepnote_index_column": 1047,
         "pop": 25870271,
         "year": 1967
        },
        {
         "_deepnote_index_column": 1059,
         "pop": 706640,
         "year": 1967
        },
        {
         "_deepnote_index_column": 1071,
         "pop": 11261690,
         "year": 1967
        },
        {
         "_deepnote_index_column": 1083,
         "pop": 12596822,
         "year": 1967
        },
        {
         "_deepnote_index_column": 1095,
         "pop": 2728150,
         "year": 1967
        },
        {
         "_deepnote_index_column": 1107,
         "pop": 1865490,
         "year": 1967
        },
        {
         "_deepnote_index_column": 1119,
         "pop": 4534062,
         "year": 1967
        },
        {
         "_deepnote_index_column": 1131,
         "pop": 47287752,
         "year": 1967
        },
        {
         "_deepnote_index_column": 1143,
         "pop": 3786019,
         "year": 1967
        },
        {
         "_deepnote_index_column": 1155,
         "pop": 714775,
         "year": 1967
        },
        {
         "_deepnote_index_column": 1167,
         "pop": 60641899,
         "year": 1967
        },
        {
         "_deepnote_index_column": 1179,
         "pop": 1405486,
         "year": 1967
        },
        {
         "_deepnote_index_column": 1191,
         "pop": 2287985,
         "year": 1967
        },
        {
         "_deepnote_index_column": 1203,
         "pop": 12132200,
         "year": 1967
        },
        {
         "_deepnote_index_column": 1215,
         "pop": 35356600,
         "year": 1967
        },
        {
         "_deepnote_index_column": 1227,
         "pop": 31785378,
         "year": 1967
        },
        {
         "_deepnote_index_column": 1239,
         "pop": 9103000,
         "year": 1967
        },
        {
         "_deepnote_index_column": 1251,
         "pop": 2648961,
         "year": 1967
        },
        {
         "_deepnote_index_column": 1263,
         "pop": 414024,
         "year": 1967
        },
        {
         "_deepnote_index_column": 1275,
         "pop": 19284814,
         "year": 1967
        },
        {
         "_deepnote_index_column": 1287,
         "pop": 3451079,
         "year": 1967
        },
        {
         "_deepnote_index_column": 1299,
         "pop": 70787,
         "year": 1967
        },
        {
         "_deepnote_index_column": 1311,
         "pop": 5618198,
         "year": 1967
        },
        {
         "_deepnote_index_column": 1323,
         "pop": 3965841,
         "year": 1967
        },
        {
         "_deepnote_index_column": 1335,
         "pop": 7971222,
         "year": 1967
        },
        {
         "_deepnote_index_column": 1347,
         "pop": 2662190,
         "year": 1967
        },
        {
         "_deepnote_index_column": 1359,
         "pop": 1977600,
         "year": 1967
        },
        {
         "_deepnote_index_column": 1371,
         "pop": 4442238,
         "year": 1967
        },
        {
         "_deepnote_index_column": 1383,
         "pop": 1646912,
         "year": 1967
        },
        {
         "_deepnote_index_column": 1395,
         "pop": 3428839,
         "year": 1967
        },
        {
         "_deepnote_index_column": 1407,
         "pop": 20997321,
         "year": 1967
        },
        {
         "_deepnote_index_column": 1419,
         "pop": 32850275,
         "year": 1967
        },
        {
         "_deepnote_index_column": 1431,
         "pop": 11737396,
         "year": 1967
        },
        {
         "_deepnote_index_column": 1443,
         "pop": 12716129,
         "year": 1967
        },
        {
         "_deepnote_index_column": 1455,
         "pop": 420690,
         "year": 1967
        },
        {
         "_deepnote_index_column": 1467,
         "pop": 7867931,
         "year": 1967
        },
        {
         "_deepnote_index_column": 1479,
         "pop": 6063000,
         "year": 1967
        },
        {
         "_deepnote_index_column": 1491,
         "pop": 5680812,
         "year": 1967
        },
        {
         "_deepnote_index_column": 1503,
         "pop": 13648692,
         "year": 1967
        },
        {
         "_deepnote_index_column": 1515,
         "pop": 12607312,
         "year": 1967
        },
        {
         "_deepnote_index_column": 1527,
         "pop": 34024249,
         "year": 1967
        },
        {
         "_deepnote_index_column": 1539,
         "pop": 1735550,
         "year": 1967
        },
        {
         "_deepnote_index_column": 1551,
         "pop": 960155,
         "year": 1967
        },
        {
         "_deepnote_index_column": 1563,
         "pop": 4786986,
         "year": 1967
        },
        {
         "_deepnote_index_column": 1575,
         "pop": 33411317,
         "year": 1967
        },
        {
         "_deepnote_index_column": 1587,
         "pop": 8900294,
         "year": 1967
        },
        {
         "_deepnote_index_column": 1599,
         "pop": 54959000,
         "year": 1967
        },
        {
         "_deepnote_index_column": 1611,
         "pop": 198712000,
         "year": 1967
        },
        {
         "_deepnote_index_column": 1623,
         "pop": 2748579,
         "year": 1967
        },
        {
         "_deepnote_index_column": 1635,
         "pop": 9709552,
         "year": 1967
        },
        {
         "_deepnote_index_column": 1647,
         "pop": 39463910,
         "year": 1967
        },
        {
         "_deepnote_index_column": 1659,
         "pop": 1142636,
         "year": 1967
        },
        {
         "_deepnote_index_column": 1671,
         "pop": 6740785,
         "year": 1967
        },
        {
         "_deepnote_index_column": 1683,
         "pop": 3900000,
         "year": 1967
        },
        {
         "_deepnote_index_column": 1695,
         "pop": 4995432,
         "year": 1967
        }
       ]
      },
      "text/html": "<div>\n<style scoped>\n    .dataframe tbody tr th:only-of-type {\n        vertical-align: middle;\n    }\n\n    .dataframe tbody tr th {\n        vertical-align: top;\n    }\n\n    .dataframe thead th {\n        text-align: right;\n    }\n</style>\n<table border=\"1\" class=\"dataframe\">\n  <thead>\n    <tr style=\"text-align: right;\">\n      <th></th>\n      <th>year</th>\n      <th>pop</th>\n    </tr>\n  </thead>\n  <tbody>\n    <tr>\n      <th>3</th>\n      <td>1967</td>\n      <td>11537966</td>\n    </tr>\n    <tr>\n      <th>15</th>\n      <td>1967</td>\n      <td>1984060</td>\n    </tr>\n    <tr>\n      <th>27</th>\n      <td>1967</td>\n      <td>12760499</td>\n    </tr>\n    <tr>\n      <th>39</th>\n      <td>1967</td>\n      <td>5247469</td>\n    </tr>\n    <tr>\n      <th>51</th>\n      <td>1967</td>\n      <td>22934225</td>\n    </tr>\n    <tr>\n      <th>...</th>\n      <td>...</td>\n      <td>...</td>\n    </tr>\n    <tr>\n      <th>1647</th>\n      <td>1967</td>\n      <td>39463910</td>\n    </tr>\n    <tr>\n      <th>1659</th>\n      <td>1967</td>\n      <td>1142636</td>\n    </tr>\n    <tr>\n      <th>1671</th>\n      <td>1967</td>\n      <td>6740785</td>\n    </tr>\n    <tr>\n      <th>1683</th>\n      <td>1967</td>\n      <td>3900000</td>\n    </tr>\n    <tr>\n      <th>1695</th>\n      <td>1967</td>\n      <td>4995432</td>\n    </tr>\n  </tbody>\n</table>\n<p>142 rows × 2 columns</p>\n</div>",
      "text/plain": "      year       pop\n3     1967  11537966\n15    1967   1984060\n27    1967  12760499\n39    1967   5247469\n51    1967  22934225\n...    ...       ...\n1647  1967  39463910\n1659  1967   1142636\n1671  1967   6740785\n1683  1967   3900000\n1695  1967   4995432\n\n[142 rows x 2 columns]"
     },
     "execution_count": 28,
     "metadata": {},
     "output_type": "execute_result"
    }
   ]
  },
  {
   "cell_type": "code",
   "metadata": {
    "deepnote_to_be_reexecuted": false,
    "execution_millis": 16,
    "execution_start": 1620083146591,
    "source_hash": "aa4235fe",
    "cell_id": "00025-32d2e011-3911-46ab-ab31-49f43d7be0be",
    "deepnote_cell_type": "code"
   },
   "source": "df.loc[(df['year'] == 1967) & (df['pop'] > 1_000_000),\n       ['year', 'pop']]",
   "execution_count": null,
   "outputs": [
    {
     "data": {
      "application/vnd.deepnote.dataframe.v2+json": {
       "column_count": 2,
       "columns": [
        {
         "dtype": "int64",
         "name": "year",
         "stats": {
          "histogram": [
           {
            "bin_end": 1966.6,
            "bin_start": 1966.5,
            "count": 0
           },
           {
            "bin_end": 1966.7,
            "bin_start": 1966.6,
            "count": 0
           },
           {
            "bin_end": 1966.8,
            "bin_start": 1966.7,
            "count": 0
           },
           {
            "bin_end": 1966.9,
            "bin_start": 1966.8,
            "count": 0
           },
           {
            "bin_end": 1967,
            "bin_start": 1966.9,
            "count": 0
           },
           {
            "bin_end": 1967.1,
            "bin_start": 1967,
            "count": 123
           },
           {
            "bin_end": 1967.2,
            "bin_start": 1967.1,
            "count": 0
           },
           {
            "bin_end": 1967.3,
            "bin_start": 1967.2,
            "count": 0
           },
           {
            "bin_end": 1967.4,
            "bin_start": 1967.3,
            "count": 0
           },
           {
            "bin_end": 1967.5,
            "bin_start": 1967.4,
            "count": 0
           }
          ],
          "max": "1967",
          "min": "1967",
          "nan_count": 0,
          "unique_count": 1
         }
        },
        {
         "dtype": "int64",
         "name": "pop",
         "stats": {
          "histogram": [
           {
            "bin_end": 76483372.4,
            "bin_start": 1142636,
            "count": 117
           },
           {
            "bin_end": 151824108.8,
            "bin_start": 76483372.4,
            "count": 3
           },
           {
            "bin_end": 227164845.20000002,
            "bin_start": 151824108.8,
            "count": 1
           },
           {
            "bin_end": 302505581.6,
            "bin_start": 227164845.20000002,
            "count": 0
           },
           {
            "bin_end": 377846318,
            "bin_start": 302505581.6,
            "count": 0
           },
           {
            "bin_end": 453187054.40000004,
            "bin_start": 377846318,
            "count": 0
           },
           {
            "bin_end": 528527790.8000001,
            "bin_start": 453187054.40000004,
            "count": 1
           },
           {
            "bin_end": 603868527.2,
            "bin_start": 528527790.8000001,
            "count": 0
           },
           {
            "bin_end": 679209263.6,
            "bin_start": 603868527.2,
            "count": 0
           },
           {
            "bin_end": 754550000,
            "bin_start": 679209263.6,
            "count": 1
           }
          ],
          "max": "754550000",
          "min": "1142636",
          "nan_count": 0,
          "unique_count": 123
         }
        },
        {
         "dtype": "int64",
         "name": "_deepnote_index_column"
        }
       ],
       "row_count": 123,
       "rows_bottom": null,
       "rows_top": [
        {
         "_deepnote_index_column": 3,
         "pop": 11537966,
         "year": 1967
        },
        {
         "_deepnote_index_column": 15,
         "pop": 1984060,
         "year": 1967
        },
        {
         "_deepnote_index_column": 27,
         "pop": 12760499,
         "year": 1967
        },
        {
         "_deepnote_index_column": 39,
         "pop": 5247469,
         "year": 1967
        },
        {
         "_deepnote_index_column": 51,
         "pop": 22934225,
         "year": 1967
        },
        {
         "_deepnote_index_column": 63,
         "pop": 11872264,
         "year": 1967
        },
        {
         "_deepnote_index_column": 75,
         "pop": 7376998,
         "year": 1967
        },
        {
         "_deepnote_index_column": 99,
         "pop": 62821884,
         "year": 1967
        },
        {
         "_deepnote_index_column": 111,
         "pop": 9556500,
         "year": 1967
        },
        {
         "_deepnote_index_column": 123,
         "pop": 2427334,
         "year": 1967
        },
        {
         "_deepnote_index_column": 135,
         "pop": 4040665,
         "year": 1967
        },
        {
         "_deepnote_index_column": 147,
         "pop": 3585000,
         "year": 1967
        },
        {
         "_deepnote_index_column": 171,
         "pop": 88049823,
         "year": 1967
        },
        {
         "_deepnote_index_column": 183,
         "pop": 8310226,
         "year": 1967
        },
        {
         "_deepnote_index_column": 195,
         "pop": 5127935,
         "year": 1967
        },
        {
         "_deepnote_index_column": 207,
         "pop": 3330989,
         "year": 1967
        },
        {
         "_deepnote_index_column": 219,
         "pop": 6960067,
         "year": 1967
        },
        {
         "_deepnote_index_column": 231,
         "pop": 6335506,
         "year": 1967
        },
        {
         "_deepnote_index_column": 243,
         "pop": 20819767,
         "year": 1967
        },
        {
         "_deepnote_index_column": 255,
         "pop": 1733638,
         "year": 1967
        },
        {
         "_deepnote_index_column": 267,
         "pop": 3495967,
         "year": 1967
        },
        {
         "_deepnote_index_column": 279,
         "pop": 8858908,
         "year": 1967
        },
        {
         "_deepnote_index_column": 291,
         "pop": 754550000,
         "year": 1967
        },
        {
         "_deepnote_index_column": 303,
         "pop": 19764027,
         "year": 1967
        },
        {
         "_deepnote_index_column": 327,
         "pop": 19941073,
         "year": 1967
        },
        {
         "_deepnote_index_column": 339,
         "pop": 1179760,
         "year": 1967
        },
        {
         "_deepnote_index_column": 351,
         "pop": 1588717,
         "year": 1967
        },
        {
         "_deepnote_index_column": 363,
         "pop": 4744870,
         "year": 1967
        },
        {
         "_deepnote_index_column": 375,
         "pop": 4174366,
         "year": 1967
        },
        {
         "_deepnote_index_column": 387,
         "pop": 8139332,
         "year": 1967
        },
        {
         "_deepnote_index_column": 399,
         "pop": 9835109,
         "year": 1967
        },
        {
         "_deepnote_index_column": 411,
         "pop": 4838800,
         "year": 1967
        },
        {
         "_deepnote_index_column": 435,
         "pop": 4049146,
         "year": 1967
        },
        {
         "_deepnote_index_column": 447,
         "pop": 5432424,
         "year": 1967
        },
        {
         "_deepnote_index_column": 459,
         "pop": 31681188,
         "year": 1967
        },
        {
         "_deepnote_index_column": 471,
         "pop": 3232927,
         "year": 1967
        },
        {
         "_deepnote_index_column": 495,
         "pop": 1820319,
         "year": 1967
        },
        {
         "_deepnote_index_column": 507,
         "pop": 27860297,
         "year": 1967
        },
        {
         "_deepnote_index_column": 519,
         "pop": 4605744,
         "year": 1967
        },
        {
         "_deepnote_index_column": 531,
         "pop": 49569000,
         "year": 1967
        },
        {
         "_deepnote_index_column": 567,
         "pop": 76368453,
         "year": 1967
        },
        {
         "_deepnote_index_column": 579,
         "pop": 8490213,
         "year": 1967
        },
        {
         "_deepnote_index_column": 591,
         "pop": 8716441,
         "year": 1967
        },
        {
         "_deepnote_index_column": 603,
         "pop": 4690773,
         "year": 1967
        },
        {
         "_deepnote_index_column": 615,
         "pop": 3451418,
         "year": 1967
        },
        {
         "_deepnote_index_column": 639,
         "pop": 4318137,
         "year": 1967
        },
        {
         "_deepnote_index_column": 651,
         "pop": 2500689,
         "year": 1967
        },
        {
         "_deepnote_index_column": 663,
         "pop": 3722800,
         "year": 1967
        },
        {
         "_deepnote_index_column": 675,
         "pop": 10223422,
         "year": 1967
        },
        {
         "_deepnote_index_column": 699,
         "pop": 506000000,
         "year": 1967
        },
        {
         "_deepnote_index_column": 711,
         "pop": 109343000,
         "year": 1967
        },
        {
         "_deepnote_index_column": 723,
         "pop": 26538000,
         "year": 1967
        },
        {
         "_deepnote_index_column": 735,
         "pop": 8519282,
         "year": 1967
        },
        {
         "_deepnote_index_column": 747,
         "pop": 2900100,
         "year": 1967
        },
        {
         "_deepnote_index_column": 759,
         "pop": 2693585,
         "year": 1967
        },
        {
         "_deepnote_index_column": 771,
         "pop": 52667100,
         "year": 1967
        },
        {
         "_deepnote_index_column": 783,
         "pop": 1861096,
         "year": 1967
        },
        {
         "_deepnote_index_column": 795,
         "pop": 100825279,
         "year": 1967
        },
        {
         "_deepnote_index_column": 807,
         "pop": 1255058,
         "year": 1967
        },
        {
         "_deepnote_index_column": 819,
         "pop": 10191512,
         "year": 1967
        },
        {
         "_deepnote_index_column": 831,
         "pop": 12617009,
         "year": 1967
        },
        {
         "_deepnote_index_column": 843,
         "pop": 30131000,
         "year": 1967
        },
        {
         "_deepnote_index_column": 867,
         "pop": 2186894,
         "year": 1967
        },
        {
         "_deepnote_index_column": 891,
         "pop": 1279406,
         "year": 1967
        },
        {
         "_deepnote_index_column": 903,
         "pop": 1759224,
         "year": 1967
        },
        {
         "_deepnote_index_column": 915,
         "pop": 6334556,
         "year": 1967
        },
        {
         "_deepnote_index_column": 927,
         "pop": 4147252,
         "year": 1967
        },
        {
         "_deepnote_index_column": 939,
         "pop": 10154878,
         "year": 1967
        },
        {
         "_deepnote_index_column": 951,
         "pop": 5212416,
         "year": 1967
        },
        {
         "_deepnote_index_column": 963,
         "pop": 1230542,
         "year": 1967
        },
        {
         "_deepnote_index_column": 987,
         "pop": 47995559,
         "year": 1967
        },
        {
         "_deepnote_index_column": 999,
         "pop": 1149500,
         "year": 1967
        },
        {
         "_deepnote_index_column": 1023,
         "pop": 14770296,
         "year": 1967
        },
        {
         "_deepnote_index_column": 1035,
         "pop": 8680909,
         "year": 1967
        },
        {
         "_deepnote_index_column": 1047,
         "pop": 25870271,
         "year": 1967
        },
        {
         "_deepnote_index_column": 1071,
         "pop": 11261690,
         "year": 1967
        },
        {
         "_deepnote_index_column": 1083,
         "pop": 12596822,
         "year": 1967
        },
        {
         "_deepnote_index_column": 1095,
         "pop": 2728150,
         "year": 1967
        },
        {
         "_deepnote_index_column": 1107,
         "pop": 1865490,
         "year": 1967
        },
        {
         "_deepnote_index_column": 1119,
         "pop": 4534062,
         "year": 1967
        },
        {
         "_deepnote_index_column": 1131,
         "pop": 47287752,
         "year": 1967
        },
        {
         "_deepnote_index_column": 1143,
         "pop": 3786019,
         "year": 1967
        },
        {
         "_deepnote_index_column": 1167,
         "pop": 60641899,
         "year": 1967
        },
        {
         "_deepnote_index_column": 1179,
         "pop": 1405486,
         "year": 1967
        },
        {
         "_deepnote_index_column": 1191,
         "pop": 2287985,
         "year": 1967
        },
        {
         "_deepnote_index_column": 1203,
         "pop": 12132200,
         "year": 1967
        },
        {
         "_deepnote_index_column": 1215,
         "pop": 35356600,
         "year": 1967
        },
        {
         "_deepnote_index_column": 1227,
         "pop": 31785378,
         "year": 1967
        },
        {
         "_deepnote_index_column": 1239,
         "pop": 9103000,
         "year": 1967
        },
        {
         "_deepnote_index_column": 1251,
         "pop": 2648961,
         "year": 1967
        },
        {
         "_deepnote_index_column": 1275,
         "pop": 19284814,
         "year": 1967
        },
        {
         "_deepnote_index_column": 1287,
         "pop": 3451079,
         "year": 1967
        },
        {
         "_deepnote_index_column": 1311,
         "pop": 5618198,
         "year": 1967
        },
        {
         "_deepnote_index_column": 1323,
         "pop": 3965841,
         "year": 1967
        },
        {
         "_deepnote_index_column": 1335,
         "pop": 7971222,
         "year": 1967
        },
        {
         "_deepnote_index_column": 1347,
         "pop": 2662190,
         "year": 1967
        },
        {
         "_deepnote_index_column": 1359,
         "pop": 1977600,
         "year": 1967
        },
        {
         "_deepnote_index_column": 1371,
         "pop": 4442238,
         "year": 1967
        },
        {
         "_deepnote_index_column": 1383,
         "pop": 1646912,
         "year": 1967
        },
        {
         "_deepnote_index_column": 1395,
         "pop": 3428839,
         "year": 1967
        },
        {
         "_deepnote_index_column": 1407,
         "pop": 20997321,
         "year": 1967
        },
        {
         "_deepnote_index_column": 1419,
         "pop": 32850275,
         "year": 1967
        },
        {
         "_deepnote_index_column": 1431,
         "pop": 11737396,
         "year": 1967
        },
        {
         "_deepnote_index_column": 1443,
         "pop": 12716129,
         "year": 1967
        },
        {
         "_deepnote_index_column": 1467,
         "pop": 7867931,
         "year": 1967
        },
        {
         "_deepnote_index_column": 1479,
         "pop": 6063000,
         "year": 1967
        },
        {
         "_deepnote_index_column": 1491,
         "pop": 5680812,
         "year": 1967
        },
        {
         "_deepnote_index_column": 1503,
         "pop": 13648692,
         "year": 1967
        },
        {
         "_deepnote_index_column": 1515,
         "pop": 12607312,
         "year": 1967
        },
        {
         "_deepnote_index_column": 1527,
         "pop": 34024249,
         "year": 1967
        },
        {
         "_deepnote_index_column": 1539,
         "pop": 1735550,
         "year": 1967
        },
        {
         "_deepnote_index_column": 1563,
         "pop": 4786986,
         "year": 1967
        },
        {
         "_deepnote_index_column": 1575,
         "pop": 33411317,
         "year": 1967
        },
        {
         "_deepnote_index_column": 1587,
         "pop": 8900294,
         "year": 1967
        },
        {
         "_deepnote_index_column": 1599,
         "pop": 54959000,
         "year": 1967
        },
        {
         "_deepnote_index_column": 1611,
         "pop": 198712000,
         "year": 1967
        },
        {
         "_deepnote_index_column": 1623,
         "pop": 2748579,
         "year": 1967
        },
        {
         "_deepnote_index_column": 1635,
         "pop": 9709552,
         "year": 1967
        },
        {
         "_deepnote_index_column": 1647,
         "pop": 39463910,
         "year": 1967
        },
        {
         "_deepnote_index_column": 1659,
         "pop": 1142636,
         "year": 1967
        },
        {
         "_deepnote_index_column": 1671,
         "pop": 6740785,
         "year": 1967
        },
        {
         "_deepnote_index_column": 1683,
         "pop": 3900000,
         "year": 1967
        },
        {
         "_deepnote_index_column": 1695,
         "pop": 4995432,
         "year": 1967
        }
       ]
      },
      "text/html": "<div>\n<style scoped>\n    .dataframe tbody tr th:only-of-type {\n        vertical-align: middle;\n    }\n\n    .dataframe tbody tr th {\n        vertical-align: top;\n    }\n\n    .dataframe thead th {\n        text-align: right;\n    }\n</style>\n<table border=\"1\" class=\"dataframe\">\n  <thead>\n    <tr style=\"text-align: right;\">\n      <th></th>\n      <th>year</th>\n      <th>pop</th>\n    </tr>\n  </thead>\n  <tbody>\n    <tr>\n      <th>3</th>\n      <td>1967</td>\n      <td>11537966</td>\n    </tr>\n    <tr>\n      <th>15</th>\n      <td>1967</td>\n      <td>1984060</td>\n    </tr>\n    <tr>\n      <th>27</th>\n      <td>1967</td>\n      <td>12760499</td>\n    </tr>\n    <tr>\n      <th>39</th>\n      <td>1967</td>\n      <td>5247469</td>\n    </tr>\n    <tr>\n      <th>51</th>\n      <td>1967</td>\n      <td>22934225</td>\n    </tr>\n    <tr>\n      <th>...</th>\n      <td>...</td>\n      <td>...</td>\n    </tr>\n    <tr>\n      <th>1647</th>\n      <td>1967</td>\n      <td>39463910</td>\n    </tr>\n    <tr>\n      <th>1659</th>\n      <td>1967</td>\n      <td>1142636</td>\n    </tr>\n    <tr>\n      <th>1671</th>\n      <td>1967</td>\n      <td>6740785</td>\n    </tr>\n    <tr>\n      <th>1683</th>\n      <td>1967</td>\n      <td>3900000</td>\n    </tr>\n    <tr>\n      <th>1695</th>\n      <td>1967</td>\n      <td>4995432</td>\n    </tr>\n  </tbody>\n</table>\n<p>123 rows × 2 columns</p>\n</div>",
      "text/plain": "      year       pop\n3     1967  11537966\n15    1967   1984060\n27    1967  12760499\n39    1967   5247469\n51    1967  22934225\n...    ...       ...\n1647  1967  39463910\n1659  1967   1142636\n1671  1967   6740785\n1683  1967   3900000\n1695  1967   4995432\n\n[123 rows x 2 columns]"
     },
     "execution_count": 29,
     "metadata": {},
     "output_type": "execute_result"
    }
   ]
  },
  {
   "cell_type": "code",
   "metadata": {
    "deepnote_to_be_reexecuted": false,
    "execution_millis": 1,
    "execution_start": 1620082473429,
    "source_hash": "9b82ee11",
    "cell_id": "00027-904cffdb-2515-4c6a-9dbc-a22d4f9ed0ae",
    "deepnote_cell_type": "code"
   },
   "source": "import pandas as pd",
   "execution_count": null,
   "outputs": []
  },
  {
   "cell_type": "code",
   "metadata": {
    "deepnote_to_be_reexecuted": false,
    "execution_millis": 0,
    "execution_start": 1620083262351,
    "source_hash": "348d82b7",
    "cell_id": "00028-1731ca15-8d9f-4ad9-af86-40f09e32d3df",
    "deepnote_cell_type": "code"
   },
   "source": "pew = pd.read_csv('../data/pew.csv')",
   "execution_count": null,
   "outputs": []
  },
  {
   "cell_type": "code",
   "metadata": {
    "deepnote_to_be_reexecuted": false,
    "execution_millis": 27,
    "execution_start": 1620083421283,
    "source_hash": "190b4ed4",
    "cell_id": "00029-c590a038-8ea2-4f24-802f-773b563144eb",
    "deepnote_cell_type": "code"
   },
   "source": "pew.head()",
   "execution_count": null,
   "outputs": [
    {
     "data": {
      "application/vnd.deepnote.dataframe.v2+json": {
       "column_count": 11,
       "columns": [
        {
         "dtype": "object",
         "name": "religion",
         "stats": {
          "categories": [
           {
            "count": 1,
            "name": "Agnostic"
           },
           {
            "count": 1,
            "name": "Atheist"
           },
           {
            "count": 3,
            "name": "3 others"
           }
          ],
          "nan_count": 0,
          "unique_count": 5
         }
        },
        {
         "dtype": "int64",
         "name": "<$10k",
         "stats": {
          "histogram": [
           {
            "bin_end": 52.6,
            "bin_start": 12,
            "count": 4
           },
           {
            "bin_end": 93.2,
            "bin_start": 52.6,
            "count": 0
           },
           {
            "bin_end": 133.8,
            "bin_start": 93.2,
            "count": 0
           },
           {
            "bin_end": 174.4,
            "bin_start": 133.8,
            "count": 0
           },
           {
            "bin_end": 215,
            "bin_start": 174.4,
            "count": 0
           },
           {
            "bin_end": 255.60000000000002,
            "bin_start": 215,
            "count": 0
           },
           {
            "bin_end": 296.2,
            "bin_start": 255.60000000000002,
            "count": 0
           },
           {
            "bin_end": 336.8,
            "bin_start": 296.2,
            "count": 0
           },
           {
            "bin_end": 377.40000000000003,
            "bin_start": 336.8,
            "count": 0
           },
           {
            "bin_end": 418,
            "bin_start": 377.40000000000003,
            "count": 1
           }
          ],
          "max": "418",
          "min": "12",
          "nan_count": 0,
          "unique_count": 4
         }
        },
        {
         "dtype": "int64",
         "name": "$10-20k",
         "stats": {
          "histogram": [
           {
            "bin_end": 74.3,
            "bin_start": 14,
            "count": 4
           },
           {
            "bin_end": 134.6,
            "bin_start": 74.3,
            "count": 0
           },
           {
            "bin_end": 194.89999999999998,
            "bin_start": 134.6,
            "count": 0
           },
           {
            "bin_end": 255.2,
            "bin_start": 194.89999999999998,
            "count": 0
           },
           {
            "bin_end": 315.5,
            "bin_start": 255.2,
            "count": 0
           },
           {
            "bin_end": 375.79999999999995,
            "bin_start": 315.5,
            "count": 0
           },
           {
            "bin_end": 436.09999999999997,
            "bin_start": 375.79999999999995,
            "count": 0
           },
           {
            "bin_end": 496.4,
            "bin_start": 436.09999999999997,
            "count": 0
           },
           {
            "bin_end": 556.6999999999999,
            "bin_start": 496.4,
            "count": 0
           },
           {
            "bin_end": 617,
            "bin_start": 556.6999999999999,
            "count": 1
           }
          ],
          "max": "617",
          "min": "14",
          "nan_count": 0,
          "unique_count": 5
         }
        },
        {
         "dtype": "int64",
         "name": "$20-30k",
         "stats": {
          "histogram": [
           {
            "bin_end": 86.7,
            "bin_start": 15,
            "count": 4
           },
           {
            "bin_end": 158.4,
            "bin_start": 86.7,
            "count": 0
           },
           {
            "bin_end": 230.10000000000002,
            "bin_start": 158.4,
            "count": 0
           },
           {
            "bin_end": 301.8,
            "bin_start": 230.10000000000002,
            "count": 0
           },
           {
            "bin_end": 373.5,
            "bin_start": 301.8,
            "count": 0
           },
           {
            "bin_end": 445.20000000000005,
            "bin_start": 373.5,
            "count": 0
           },
           {
            "bin_end": 516.9000000000001,
            "bin_start": 445.20000000000005,
            "count": 0
           },
           {
            "bin_end": 588.6,
            "bin_start": 516.9000000000001,
            "count": 0
           },
           {
            "bin_end": 660.3000000000001,
            "bin_start": 588.6,
            "count": 0
           },
           {
            "bin_end": 732,
            "bin_start": 660.3000000000001,
            "count": 1
           }
          ],
          "max": "732",
          "min": "15",
          "nan_count": 0,
          "unique_count": 5
         }
        },
        {
         "dtype": "int64",
         "name": "$30-40k",
         "stats": {
          "histogram": [
           {
            "bin_end": 76.9,
            "bin_start": 11,
            "count": 3
           },
           {
            "bin_end": 142.8,
            "bin_start": 76.9,
            "count": 1
           },
           {
            "bin_end": 208.70000000000002,
            "bin_start": 142.8,
            "count": 0
           },
           {
            "bin_end": 274.6,
            "bin_start": 208.70000000000002,
            "count": 0
           },
           {
            "bin_end": 340.5,
            "bin_start": 274.6,
            "count": 0
           },
           {
            "bin_end": 406.40000000000003,
            "bin_start": 340.5,
            "count": 0
           },
           {
            "bin_end": 472.30000000000007,
            "bin_start": 406.40000000000003,
            "count": 0
           },
           {
            "bin_end": 538.2,
            "bin_start": 472.30000000000007,
            "count": 0
           },
           {
            "bin_end": 604.1,
            "bin_start": 538.2,
            "count": 0
           },
           {
            "bin_end": 670,
            "bin_start": 604.1,
            "count": 1
           }
          ],
          "max": "670",
          "min": "11",
          "nan_count": 0,
          "unique_count": 5
         }
        },
        {
         "dtype": "int64",
         "name": "$40-50k",
         "stats": {
          "histogram": [
           {
            "bin_end": 72.8,
            "bin_start": 10,
            "count": 3
           },
           {
            "bin_end": 135.6,
            "bin_start": 72.8,
            "count": 1
           },
           {
            "bin_end": 198.39999999999998,
            "bin_start": 135.6,
            "count": 0
           },
           {
            "bin_end": 261.2,
            "bin_start": 198.39999999999998,
            "count": 0
           },
           {
            "bin_end": 324,
            "bin_start": 261.2,
            "count": 0
           },
           {
            "bin_end": 386.79999999999995,
            "bin_start": 324,
            "count": 0
           },
           {
            "bin_end": 449.59999999999997,
            "bin_start": 386.79999999999995,
            "count": 0
           },
           {
            "bin_end": 512.4,
            "bin_start": 449.59999999999997,
            "count": 0
           },
           {
            "bin_end": 575.1999999999999,
            "bin_start": 512.4,
            "count": 0
           },
           {
            "bin_end": 638,
            "bin_start": 575.1999999999999,
            "count": 1
           }
          ],
          "max": "638",
          "min": "10",
          "nan_count": 0,
          "unique_count": 5
         }
        },
        {
         "dtype": "int64",
         "name": "$50-75k",
         "stats": {
          "histogram": [
           {
            "bin_end": 143.1,
            "bin_start": 35,
            "count": 4
           },
           {
            "bin_end": 251.2,
            "bin_start": 143.1,
            "count": 0
           },
           {
            "bin_end": 359.29999999999995,
            "bin_start": 251.2,
            "count": 0
           },
           {
            "bin_end": 467.4,
            "bin_start": 359.29999999999995,
            "count": 0
           },
           {
            "bin_end": 575.5,
            "bin_start": 467.4,
            "count": 0
           },
           {
            "bin_end": 683.5999999999999,
            "bin_start": 575.5,
            "count": 0
           },
           {
            "bin_end": 791.6999999999999,
            "bin_start": 683.5999999999999,
            "count": 0
           },
           {
            "bin_end": 899.8,
            "bin_start": 791.6999999999999,
            "count": 0
           },
           {
            "bin_end": 1007.9,
            "bin_start": 899.8,
            "count": 0
           },
           {
            "bin_end": 1116,
            "bin_start": 1007.9,
            "count": 1
           }
          ],
          "max": "1116",
          "min": "35",
          "nan_count": 0,
          "unique_count": 5
         }
        },
        {
         "dtype": "int64",
         "name": "$75-100k",
         "stats": {
          "histogram": [
           {
            "bin_end": 113.8,
            "bin_start": 21,
            "count": 3
           },
           {
            "bin_end": 206.6,
            "bin_start": 113.8,
            "count": 1
           },
           {
            "bin_end": 299.4,
            "bin_start": 206.6,
            "count": 0
           },
           {
            "bin_end": 392.2,
            "bin_start": 299.4,
            "count": 0
           },
           {
            "bin_end": 485,
            "bin_start": 392.2,
            "count": 0
           },
           {
            "bin_end": 577.8,
            "bin_start": 485,
            "count": 0
           },
           {
            "bin_end": 670.6,
            "bin_start": 577.8,
            "count": 0
           },
           {
            "bin_end": 763.4,
            "bin_start": 670.6,
            "count": 0
           },
           {
            "bin_end": 856.1999999999999,
            "bin_start": 763.4,
            "count": 0
           },
           {
            "bin_end": 949,
            "bin_start": 856.1999999999999,
            "count": 1
           }
          ],
          "max": "949",
          "min": "21",
          "nan_count": 0,
          "unique_count": 5
         }
        },
        {
         "dtype": "int64",
         "name": "$100-150k",
         "stats": {
          "histogram": [
           {
            "bin_end": 94.5,
            "bin_start": 17,
            "count": 3
           },
           {
            "bin_end": 172,
            "bin_start": 94.5,
            "count": 1
           },
           {
            "bin_end": 249.5,
            "bin_start": 172,
            "count": 0
           },
           {
            "bin_end": 327,
            "bin_start": 249.5,
            "count": 0
           },
           {
            "bin_end": 404.5,
            "bin_start": 327,
            "count": 0
           },
           {
            "bin_end": 482,
            "bin_start": 404.5,
            "count": 0
           },
           {
            "bin_end": 559.5,
            "bin_start": 482,
            "count": 0
           },
           {
            "bin_end": 637,
            "bin_start": 559.5,
            "count": 0
           },
           {
            "bin_end": 714.5,
            "bin_start": 637,
            "count": 0
           },
           {
            "bin_end": 792,
            "bin_start": 714.5,
            "count": 1
           }
          ],
          "max": "792",
          "min": "17",
          "nan_count": 0,
          "unique_count": 5
         }
        },
        {
         "dtype": "int64",
         "name": ">150k",
         "stats": {
          "histogram": [
           {
            "bin_end": 79.5,
            "bin_start": 18,
            "count": 3
           },
           {
            "bin_end": 141,
            "bin_start": 79.5,
            "count": 1
           },
           {
            "bin_end": 202.5,
            "bin_start": 141,
            "count": 0
           },
           {
            "bin_end": 264,
            "bin_start": 202.5,
            "count": 0
           },
           {
            "bin_end": 325.5,
            "bin_start": 264,
            "count": 0
           },
           {
            "bin_end": 387,
            "bin_start": 325.5,
            "count": 0
           },
           {
            "bin_end": 448.5,
            "bin_start": 387,
            "count": 0
           },
           {
            "bin_end": 510,
            "bin_start": 448.5,
            "count": 0
           },
           {
            "bin_end": 571.5,
            "bin_start": 510,
            "count": 0
           },
           {
            "bin_end": 633,
            "bin_start": 571.5,
            "count": 1
           }
          ],
          "max": "633",
          "min": "18",
          "nan_count": 0,
          "unique_count": 5
         }
        },
        {
         "dtype": "int64",
         "name": "Don't know/refused",
         "stats": {
          "histogram": [
           {
            "bin_end": 197.5,
            "bin_start": 54,
            "count": 4
           },
           {
            "bin_end": 341,
            "bin_start": 197.5,
            "count": 0
           },
           {
            "bin_end": 484.5,
            "bin_start": 341,
            "count": 0
           },
           {
            "bin_end": 628,
            "bin_start": 484.5,
            "count": 0
           },
           {
            "bin_end": 771.5,
            "bin_start": 628,
            "count": 0
           },
           {
            "bin_end": 915,
            "bin_start": 771.5,
            "count": 0
           },
           {
            "bin_end": 1058.5,
            "bin_start": 915,
            "count": 0
           },
           {
            "bin_end": 1202,
            "bin_start": 1058.5,
            "count": 0
           },
           {
            "bin_end": 1345.5,
            "bin_start": 1202,
            "count": 0
           },
           {
            "bin_end": 1489,
            "bin_start": 1345.5,
            "count": 1
           }
          ],
          "max": "1489",
          "min": "54",
          "nan_count": 0,
          "unique_count": 5
         }
        },
        {
         "dtype": "int64",
         "name": "_deepnote_index_column"
        }
       ],
       "row_count": 5,
       "rows_bottom": null,
       "rows_top": [
        {
         "$10-20k": 34,
         "$100-150k": 109,
         "$20-30k": 60,
         "$30-40k": 81,
         "$40-50k": 76,
         "$50-75k": 137,
         "$75-100k": 122,
         "<$10k": 27,
         ">150k": 84,
         "Don't know/refused": 96,
         "_deepnote_index_column": 0,
         "religion": "Agnostic"
        },
        {
         "$10-20k": 27,
         "$100-150k": 59,
         "$20-30k": 37,
         "$30-40k": 52,
         "$40-50k": 35,
         "$50-75k": 70,
         "$75-100k": 73,
         "<$10k": 12,
         ">150k": 74,
         "Don't know/refused": 76,
         "_deepnote_index_column": 1,
         "religion": "Atheist"
        },
        {
         "$10-20k": 21,
         "$100-150k": 39,
         "$20-30k": 30,
         "$30-40k": 34,
         "$40-50k": 33,
         "$50-75k": 58,
         "$75-100k": 62,
         "<$10k": 27,
         ">150k": 53,
         "Don't know/refused": 54,
         "_deepnote_index_column": 2,
         "religion": "Buddhist"
        },
        {
         "$10-20k": 617,
         "$100-150k": 792,
         "$20-30k": 732,
         "$30-40k": 670,
         "$40-50k": 638,
         "$50-75k": 1116,
         "$75-100k": 949,
         "<$10k": 418,
         ">150k": 633,
         "Don't know/refused": 1489,
         "_deepnote_index_column": 3,
         "religion": "Catholic"
        },
        {
         "$10-20k": 14,
         "$100-150k": 17,
         "$20-30k": 15,
         "$30-40k": 11,
         "$40-50k": 10,
         "$50-75k": 35,
         "$75-100k": 21,
         "<$10k": 15,
         ">150k": 18,
         "Don't know/refused": 116,
         "_deepnote_index_column": 4,
         "religion": "Don’t know/refused"
        }
       ]
      },
      "text/html": "<div>\n<style scoped>\n    .dataframe tbody tr th:only-of-type {\n        vertical-align: middle;\n    }\n\n    .dataframe tbody tr th {\n        vertical-align: top;\n    }\n\n    .dataframe thead th {\n        text-align: right;\n    }\n</style>\n<table border=\"1\" class=\"dataframe\">\n  <thead>\n    <tr style=\"text-align: right;\">\n      <th></th>\n      <th>religion</th>\n      <th>&lt;$10k</th>\n      <th>$10-20k</th>\n      <th>$20-30k</th>\n      <th>$30-40k</th>\n      <th>$40-50k</th>\n      <th>$50-75k</th>\n      <th>$75-100k</th>\n      <th>$100-150k</th>\n      <th>&gt;150k</th>\n      <th>Don't know/refused</th>\n    </tr>\n  </thead>\n  <tbody>\n    <tr>\n      <th>0</th>\n      <td>Agnostic</td>\n      <td>27</td>\n      <td>34</td>\n      <td>60</td>\n      <td>81</td>\n      <td>76</td>\n      <td>137</td>\n      <td>122</td>\n      <td>109</td>\n      <td>84</td>\n      <td>96</td>\n    </tr>\n    <tr>\n      <th>1</th>\n      <td>Atheist</td>\n      <td>12</td>\n      <td>27</td>\n      <td>37</td>\n      <td>52</td>\n      <td>35</td>\n      <td>70</td>\n      <td>73</td>\n      <td>59</td>\n      <td>74</td>\n      <td>76</td>\n    </tr>\n    <tr>\n      <th>2</th>\n      <td>Buddhist</td>\n      <td>27</td>\n      <td>21</td>\n      <td>30</td>\n      <td>34</td>\n      <td>33</td>\n      <td>58</td>\n      <td>62</td>\n      <td>39</td>\n      <td>53</td>\n      <td>54</td>\n    </tr>\n    <tr>\n      <th>3</th>\n      <td>Catholic</td>\n      <td>418</td>\n      <td>617</td>\n      <td>732</td>\n      <td>670</td>\n      <td>638</td>\n      <td>1116</td>\n      <td>949</td>\n      <td>792</td>\n      <td>633</td>\n      <td>1489</td>\n    </tr>\n    <tr>\n      <th>4</th>\n      <td>Don’t know/refused</td>\n      <td>15</td>\n      <td>14</td>\n      <td>15</td>\n      <td>11</td>\n      <td>10</td>\n      <td>35</td>\n      <td>21</td>\n      <td>17</td>\n      <td>18</td>\n      <td>116</td>\n    </tr>\n  </tbody>\n</table>\n</div>",
      "text/plain": "             religion  <$10k  $10-20k  $20-30k  $30-40k  $40-50k  $50-75k  \\\n0            Agnostic     27       34       60       81       76      137   \n1             Atheist     12       27       37       52       35       70   \n2            Buddhist     27       21       30       34       33       58   \n3            Catholic    418      617      732      670      638     1116   \n4  Don’t know/refused     15       14       15       11       10       35   \n\n   $75-100k  $100-150k  >150k  Don't know/refused  \n0       122        109     84                  96  \n1        73         59     74                  76  \n2        62         39     53                  54  \n3       949        792    633                1489  \n4        21         17     18                 116  "
     },
     "execution_count": 7,
     "metadata": {},
     "output_type": "execute_result"
    }
   ]
  },
  {
   "cell_type": "code",
   "metadata": {
    "deepnote_to_be_reexecuted": false,
    "execution_millis": 1,
    "execution_start": 1620083506254,
    "source_hash": "b834560f",
    "cell_id": "00030-c07ea7f2-690c-49f3-b5ff-7756619643b9",
    "deepnote_cell_type": "code"
   },
   "source": "pew_long = pd.melt(pew, id_vars='religion')",
   "execution_count": null,
   "outputs": []
  },
  {
   "cell_type": "code",
   "metadata": {
    "deepnote_to_be_reexecuted": false,
    "execution_millis": 46,
    "execution_start": 1620083508276,
    "source_hash": "413880b1",
    "cell_id": "00031-93c0ae1b-b7dc-4846-9360-63c6d04b485b",
    "deepnote_cell_type": "code"
   },
   "source": "pew_long.head()",
   "execution_count": null,
   "outputs": [
    {
     "data": {
      "application/vnd.deepnote.dataframe.v2+json": {
       "column_count": 3,
       "columns": [
        {
         "dtype": "object",
         "name": "religion",
         "stats": {
          "categories": [
           {
            "count": 1,
            "name": "Agnostic"
           },
           {
            "count": 1,
            "name": "Atheist"
           },
           {
            "count": 3,
            "name": "3 others"
           }
          ],
          "nan_count": 0,
          "unique_count": 5
         }
        },
        {
         "dtype": "object",
         "name": "variable",
         "stats": {
          "categories": [
           {
            "count": 5,
            "name": "<$10k"
           }
          ],
          "nan_count": 0,
          "unique_count": 1
         }
        },
        {
         "dtype": "int64",
         "name": "value",
         "stats": {
          "histogram": [
           {
            "bin_end": 52.6,
            "bin_start": 12,
            "count": 4
           },
           {
            "bin_end": 93.2,
            "bin_start": 52.6,
            "count": 0
           },
           {
            "bin_end": 133.8,
            "bin_start": 93.2,
            "count": 0
           },
           {
            "bin_end": 174.4,
            "bin_start": 133.8,
            "count": 0
           },
           {
            "bin_end": 215,
            "bin_start": 174.4,
            "count": 0
           },
           {
            "bin_end": 255.60000000000002,
            "bin_start": 215,
            "count": 0
           },
           {
            "bin_end": 296.2,
            "bin_start": 255.60000000000002,
            "count": 0
           },
           {
            "bin_end": 336.8,
            "bin_start": 296.2,
            "count": 0
           },
           {
            "bin_end": 377.40000000000003,
            "bin_start": 336.8,
            "count": 0
           },
           {
            "bin_end": 418,
            "bin_start": 377.40000000000003,
            "count": 1
           }
          ],
          "max": "418",
          "min": "12",
          "nan_count": 0,
          "unique_count": 4
         }
        },
        {
         "dtype": "int64",
         "name": "_deepnote_index_column"
        }
       ],
       "row_count": 5,
       "rows_bottom": null,
       "rows_top": [
        {
         "_deepnote_index_column": 0,
         "religion": "Agnostic",
         "value": 27,
         "variable": "<$10k"
        },
        {
         "_deepnote_index_column": 1,
         "religion": "Atheist",
         "value": 12,
         "variable": "<$10k"
        },
        {
         "_deepnote_index_column": 2,
         "religion": "Buddhist",
         "value": 27,
         "variable": "<$10k"
        },
        {
         "_deepnote_index_column": 3,
         "religion": "Catholic",
         "value": 418,
         "variable": "<$10k"
        },
        {
         "_deepnote_index_column": 4,
         "religion": "Don’t know/refused",
         "value": 15,
         "variable": "<$10k"
        }
       ]
      },
      "text/html": "<div>\n<style scoped>\n    .dataframe tbody tr th:only-of-type {\n        vertical-align: middle;\n    }\n\n    .dataframe tbody tr th {\n        vertical-align: top;\n    }\n\n    .dataframe thead th {\n        text-align: right;\n    }\n</style>\n<table border=\"1\" class=\"dataframe\">\n  <thead>\n    <tr style=\"text-align: right;\">\n      <th></th>\n      <th>religion</th>\n      <th>variable</th>\n      <th>value</th>\n    </tr>\n  </thead>\n  <tbody>\n    <tr>\n      <th>0</th>\n      <td>Agnostic</td>\n      <td>&lt;$10k</td>\n      <td>27</td>\n    </tr>\n    <tr>\n      <th>1</th>\n      <td>Atheist</td>\n      <td>&lt;$10k</td>\n      <td>12</td>\n    </tr>\n    <tr>\n      <th>2</th>\n      <td>Buddhist</td>\n      <td>&lt;$10k</td>\n      <td>27</td>\n    </tr>\n    <tr>\n      <th>3</th>\n      <td>Catholic</td>\n      <td>&lt;$10k</td>\n      <td>418</td>\n    </tr>\n    <tr>\n      <th>4</th>\n      <td>Don’t know/refused</td>\n      <td>&lt;$10k</td>\n      <td>15</td>\n    </tr>\n  </tbody>\n</table>\n</div>",
      "text/plain": "             religion variable  value\n0            Agnostic    <$10k     27\n1             Atheist    <$10k     12\n2            Buddhist    <$10k     27\n3            Catholic    <$10k    418\n4  Don’t know/refused    <$10k     15"
     },
     "execution_count": 9,
     "metadata": {},
     "output_type": "execute_result"
    }
   ]
  },
  {
   "cell_type": "code",
   "metadata": {
    "deepnote_to_be_reexecuted": false,
    "execution_millis": 1,
    "execution_start": 1620083601514,
    "source_hash": "97f7fa60",
    "cell_id": "00032-fc3270ea-43a3-4fdc-84e1-c90b03d51e08",
    "deepnote_cell_type": "code"
   },
   "source": "pew_long = pd.melt(pew, id_vars='religion',\n                   var_name='income',\n                  value_name='count')",
   "execution_count": null,
   "outputs": []
  },
  {
   "cell_type": "code",
   "metadata": {
    "deepnote_to_be_reexecuted": false,
    "execution_millis": 26,
    "execution_start": 1620083608652,
    "source_hash": "413880b1",
    "cell_id": "00033-1050a76d-3892-4c46-8596-59d711230911",
    "deepnote_cell_type": "code"
   },
   "source": "pew_long.head()",
   "execution_count": null,
   "outputs": [
    {
     "data": {
      "application/vnd.deepnote.dataframe.v2+json": {
       "column_count": 3,
       "columns": [
        {
         "dtype": "object",
         "name": "religion",
         "stats": {
          "categories": [
           {
            "count": 1,
            "name": "Agnostic"
           },
           {
            "count": 1,
            "name": "Atheist"
           },
           {
            "count": 3,
            "name": "3 others"
           }
          ],
          "nan_count": 0,
          "unique_count": 5
         }
        },
        {
         "dtype": "object",
         "name": "income",
         "stats": {
          "categories": [
           {
            "count": 5,
            "name": "<$10k"
           }
          ],
          "nan_count": 0,
          "unique_count": 1
         }
        },
        {
         "dtype": "int64",
         "name": "count",
         "stats": {
          "histogram": [
           {
            "bin_end": 52.6,
            "bin_start": 12,
            "count": 4
           },
           {
            "bin_end": 93.2,
            "bin_start": 52.6,
            "count": 0
           },
           {
            "bin_end": 133.8,
            "bin_start": 93.2,
            "count": 0
           },
           {
            "bin_end": 174.4,
            "bin_start": 133.8,
            "count": 0
           },
           {
            "bin_end": 215,
            "bin_start": 174.4,
            "count": 0
           },
           {
            "bin_end": 255.60000000000002,
            "bin_start": 215,
            "count": 0
           },
           {
            "bin_end": 296.2,
            "bin_start": 255.60000000000002,
            "count": 0
           },
           {
            "bin_end": 336.8,
            "bin_start": 296.2,
            "count": 0
           },
           {
            "bin_end": 377.40000000000003,
            "bin_start": 336.8,
            "count": 0
           },
           {
            "bin_end": 418,
            "bin_start": 377.40000000000003,
            "count": 1
           }
          ],
          "max": "418",
          "min": "12",
          "nan_count": 0,
          "unique_count": 4
         }
        },
        {
         "dtype": "int64",
         "name": "_deepnote_index_column"
        }
       ],
       "row_count": 5,
       "rows_bottom": null,
       "rows_top": [
        {
         "_deepnote_index_column": 0,
         "count": 27,
         "income": "<$10k",
         "religion": "Agnostic"
        },
        {
         "_deepnote_index_column": 1,
         "count": 12,
         "income": "<$10k",
         "religion": "Atheist"
        },
        {
         "_deepnote_index_column": 2,
         "count": 27,
         "income": "<$10k",
         "religion": "Buddhist"
        },
        {
         "_deepnote_index_column": 3,
         "count": 418,
         "income": "<$10k",
         "religion": "Catholic"
        },
        {
         "_deepnote_index_column": 4,
         "count": 15,
         "income": "<$10k",
         "religion": "Don’t know/refused"
        }
       ]
      },
      "text/html": "<div>\n<style scoped>\n    .dataframe tbody tr th:only-of-type {\n        vertical-align: middle;\n    }\n\n    .dataframe tbody tr th {\n        vertical-align: top;\n    }\n\n    .dataframe thead th {\n        text-align: right;\n    }\n</style>\n<table border=\"1\" class=\"dataframe\">\n  <thead>\n    <tr style=\"text-align: right;\">\n      <th></th>\n      <th>religion</th>\n      <th>income</th>\n      <th>count</th>\n    </tr>\n  </thead>\n  <tbody>\n    <tr>\n      <th>0</th>\n      <td>Agnostic</td>\n      <td>&lt;$10k</td>\n      <td>27</td>\n    </tr>\n    <tr>\n      <th>1</th>\n      <td>Atheist</td>\n      <td>&lt;$10k</td>\n      <td>12</td>\n    </tr>\n    <tr>\n      <th>2</th>\n      <td>Buddhist</td>\n      <td>&lt;$10k</td>\n      <td>27</td>\n    </tr>\n    <tr>\n      <th>3</th>\n      <td>Catholic</td>\n      <td>&lt;$10k</td>\n      <td>418</td>\n    </tr>\n    <tr>\n      <th>4</th>\n      <td>Don’t know/refused</td>\n      <td>&lt;$10k</td>\n      <td>15</td>\n    </tr>\n  </tbody>\n</table>\n</div>",
      "text/plain": "             religion income  count\n0            Agnostic  <$10k     27\n1             Atheist  <$10k     12\n2            Buddhist  <$10k     27\n3            Catholic  <$10k    418\n4  Don’t know/refused  <$10k     15"
     },
     "execution_count": 12,
     "metadata": {},
     "output_type": "execute_result"
    }
   ]
  },
  {
   "cell_type": "code",
   "metadata": {
    "deepnote_to_be_reexecuted": false,
    "execution_millis": 23,
    "execution_start": 1620083633697,
    "source_hash": "fda4d5a",
    "cell_id": "00034-5dc56b22-b792-49dc-b17c-9d710c1a6ecb",
    "deepnote_cell_type": "code"
   },
   "source": "billboard = pd.read_csv('../data/billboard.csv')",
   "execution_count": null,
   "outputs": []
  },
  {
   "cell_type": "code",
   "metadata": {
    "deepnote_to_be_reexecuted": false,
    "execution_millis": 408,
    "execution_start": 1620083636429,
    "source_hash": "8c0e668",
    "cell_id": "00035-8bdcf2e3-7e2d-4e40-a9cb-8512cbc4db48",
    "deepnote_cell_type": "code"
   },
   "source": "billboard",
   "execution_count": null,
   "outputs": [
    {
     "data": {
      "application/vnd.deepnote.dataframe.v2+json": {
       "column_count": 81,
       "columns": [
        {
         "dtype": "int64",
         "name": "year",
         "stats": {
          "histogram": [
           {
            "bin_end": 1999.6,
            "bin_start": 1999.5,
            "count": 0
           },
           {
            "bin_end": 1999.7,
            "bin_start": 1999.6,
            "count": 0
           },
           {
            "bin_end": 1999.8,
            "bin_start": 1999.7,
            "count": 0
           },
           {
            "bin_end": 1999.9,
            "bin_start": 1999.8,
            "count": 0
           },
           {
            "bin_end": 2000,
            "bin_start": 1999.9,
            "count": 0
           },
           {
            "bin_end": 2000.1,
            "bin_start": 2000,
            "count": 317
           },
           {
            "bin_end": 2000.2,
            "bin_start": 2000.1,
            "count": 0
           },
           {
            "bin_end": 2000.3,
            "bin_start": 2000.2,
            "count": 0
           },
           {
            "bin_end": 2000.4,
            "bin_start": 2000.3,
            "count": 0
           },
           {
            "bin_end": 2000.5,
            "bin_start": 2000.4,
            "count": 0
           }
          ],
          "max": "2000",
          "min": "2000",
          "nan_count": 0,
          "unique_count": 1
         }
        },
        {
         "dtype": "object",
         "name": "artist",
         "stats": {
          "categories": [
           {
            "count": 5,
            "name": "Jay-Z"
           },
           {
            "count": 4,
            "name": "Dixie Chicks, The"
           },
           {
            "count": 308,
            "name": "226 others"
           }
          ],
          "nan_count": 0,
          "unique_count": 228
         }
        },
        {
         "dtype": "object",
         "name": "track",
         "stats": {
          "categories": [
           {
            "count": 2,
            "name": "Where I Wanna Be"
           },
           {
            "count": 1,
            "name": "Baby Don't Cry (Keep..."
           },
           {
            "count": 314,
            "name": "314 others"
           }
          ],
          "nan_count": 0,
          "unique_count": 316
         }
        },
        {
         "dtype": "object",
         "name": "time",
         "stats": {
          "categories": [
           {
            "count": 9,
            "name": "3:50"
           },
           {
            "count": 7,
            "name": "3:54"
           },
           {
            "count": 301,
            "name": "124 others"
           }
          ],
          "nan_count": 0,
          "unique_count": 126
         }
        },
        {
         "dtype": "object",
         "name": "date.entered",
         "stats": {
          "categories": [
           {
            "count": 11,
            "name": "2000-01-29"
           },
           {
            "count": 10,
            "name": "2000-08-12"
           },
           {
            "count": 296,
            "name": "66 others"
           }
          ],
          "nan_count": 0,
          "unique_count": 68
         }
        },
        {
         "dtype": "int64",
         "name": "wk1",
         "stats": {
          "histogram": [
           {
            "bin_end": 23.5,
            "bin_start": 15,
            "count": 2
           },
           {
            "bin_end": 32,
            "bin_start": 23.5,
            "count": 2
           },
           {
            "bin_end": 40.5,
            "bin_start": 32,
            "count": 4
           },
           {
            "bin_end": 49,
            "bin_start": 40.5,
            "count": 5
           },
           {
            "bin_end": 57.5,
            "bin_start": 49,
            "count": 9
           },
           {
            "bin_end": 66,
            "bin_start": 57.5,
            "count": 17
           },
           {
            "bin_end": 74.5,
            "bin_start": 66,
            "count": 47
           },
           {
            "bin_end": 83,
            "bin_start": 74.5,
            "count": 91
           },
           {
            "bin_end": 91.5,
            "bin_start": 83,
            "count": 64
           },
           {
            "bin_end": 100,
            "bin_start": 91.5,
            "count": 76
           }
          ],
          "max": "100",
          "min": "15",
          "nan_count": 0,
          "unique_count": 63
         }
        },
        {
         "dtype": "float64",
         "name": "wk2",
         "stats": {
          "histogram": [
           {
            "bin_end": 17.2,
            "bin_start": 8,
            "count": 2
           },
           {
            "bin_end": 26.4,
            "bin_start": 17.2,
            "count": 5
           },
           {
            "bin_end": 35.599999999999994,
            "bin_start": 26.4,
            "count": 14
           },
           {
            "bin_end": 44.8,
            "bin_start": 35.599999999999994,
            "count": 7
           },
           {
            "bin_end": 54,
            "bin_start": 44.8,
            "count": 18
           },
           {
            "bin_end": 63.199999999999996,
            "bin_start": 54,
            "count": 35
           },
           {
            "bin_end": 72.39999999999999,
            "bin_start": 63.199999999999996,
            "count": 72
           },
           {
            "bin_end": 81.6,
            "bin_start": 72.39999999999999,
            "count": 66
           },
           {
            "bin_end": 90.8,
            "bin_start": 81.6,
            "count": 48
           },
           {
            "bin_end": 100,
            "bin_start": 90.8,
            "count": 45
           }
          ],
          "max": "100.0",
          "min": "8.0",
          "nan_count": 5,
          "unique_count": 72
         }
        },
        {
         "dtype": "float64",
         "name": "wk3",
         "stats": {
          "histogram": [
           {
            "bin_end": 15.4,
            "bin_start": 6,
            "count": 4
           },
           {
            "bin_end": 24.8,
            "bin_start": 15.4,
            "count": 13
           },
           {
            "bin_end": 34.2,
            "bin_start": 24.8,
            "count": 13
           },
           {
            "bin_end": 43.6,
            "bin_start": 34.2,
            "count": 11
           },
           {
            "bin_end": 53,
            "bin_start": 43.6,
            "count": 34
           },
           {
            "bin_end": 62.400000000000006,
            "bin_start": 53,
            "count": 46
           },
           {
            "bin_end": 71.8,
            "bin_start": 62.400000000000006,
            "count": 69
           },
           {
            "bin_end": 81.2,
            "bin_start": 71.8,
            "count": 52
           },
           {
            "bin_end": 90.60000000000001,
            "bin_start": 81.2,
            "count": 26
           },
           {
            "bin_end": 100,
            "bin_start": 90.60000000000001,
            "count": 39
           }
          ],
          "max": "100.0",
          "min": "6.0",
          "nan_count": 10,
          "unique_count": 79
         }
        },
        {
         "dtype": "float64",
         "name": "wk4",
         "stats": {
          "histogram": [
           {
            "bin_end": 14.5,
            "bin_start": 5,
            "count": 6
           },
           {
            "bin_end": 24,
            "bin_start": 14.5,
            "count": 16
           },
           {
            "bin_end": 33.5,
            "bin_start": 24,
            "count": 19
           },
           {
            "bin_end": 43,
            "bin_start": 33.5,
            "count": 29
           },
           {
            "bin_end": 52.5,
            "bin_start": 43,
            "count": 35
           },
           {
            "bin_end": 62,
            "bin_start": 52.5,
            "count": 47
           },
           {
            "bin_end": 71.5,
            "bin_start": 62,
            "count": 54
           },
           {
            "bin_end": 81,
            "bin_start": 71.5,
            "count": 40
           },
           {
            "bin_end": 90.5,
            "bin_start": 81,
            "count": 23
           },
           {
            "bin_end": 100,
            "bin_start": 90.5,
            "count": 31
           }
          ],
          "max": "100.0",
          "min": "5.0",
          "nan_count": 17,
          "unique_count": 88
         }
        },
        {
         "dtype": "float64",
         "name": "wk5",
         "stats": {
          "histogram": [
           {
            "bin_end": 11.8,
            "bin_start": 2,
            "count": 7
           },
           {
            "bin_end": 21.6,
            "bin_start": 11.8,
            "count": 20
           },
           {
            "bin_end": 31.400000000000002,
            "bin_start": 21.6,
            "count": 22
           },
           {
            "bin_end": 41.2,
            "bin_start": 31.400000000000002,
            "count": 34
           },
           {
            "bin_end": 51,
            "bin_start": 41.2,
            "count": 30
           },
           {
            "bin_end": 60.800000000000004,
            "bin_start": 51,
            "count": 50
           },
           {
            "bin_end": 70.60000000000001,
            "bin_start": 60.800000000000004,
            "count": 48
           },
           {
            "bin_end": 80.4,
            "bin_start": 70.60000000000001,
            "count": 23
           },
           {
            "bin_end": 90.2,
            "bin_start": 80.4,
            "count": 31
           },
           {
            "bin_end": 100,
            "bin_start": 90.2,
            "count": 27
           }
          ],
          "max": "100.0",
          "min": "2.0",
          "nan_count": 25,
          "unique_count": 91
         }
        },
        {
         "dtype": "float64",
         "name": "wk6",
         "stats": {
          "histogram": [
           {
            "bin_end": 10.8,
            "bin_start": 1,
            "count": 8
           },
           {
            "bin_end": 20.6,
            "bin_start": 10.8,
            "count": 25
           },
           {
            "bin_end": 30.400000000000002,
            "bin_start": 20.6,
            "count": 24
           },
           {
            "bin_end": 40.2,
            "bin_start": 30.400000000000002,
            "count": 36
           },
           {
            "bin_end": 50,
            "bin_start": 40.2,
            "count": 41
           },
           {
            "bin_end": 59.800000000000004,
            "bin_start": 50,
            "count": 39
           },
           {
            "bin_end": 69.60000000000001,
            "bin_start": 59.800000000000004,
            "count": 32
           },
           {
            "bin_end": 79.4,
            "bin_start": 69.60000000000001,
            "count": 29
           },
           {
            "bin_end": 89.2,
            "bin_start": 79.4,
            "count": 24
           },
           {
            "bin_end": 99,
            "bin_start": 89.2,
            "count": 22
           }
          ],
          "max": "99.0",
          "min": "1.0",
          "nan_count": 37,
          "unique_count": 92
         }
        },
        {
         "dtype": "float64",
         "name": "wk7",
         "stats": {
          "histogram": [
           {
            "bin_end": 10.9,
            "bin_start": 1,
            "count": 16
           },
           {
            "bin_end": 20.8,
            "bin_start": 10.9,
            "count": 25
           },
           {
            "bin_end": 30.700000000000003,
            "bin_start": 20.8,
            "count": 29
           },
           {
            "bin_end": 40.6,
            "bin_start": 30.700000000000003,
            "count": 39
           },
           {
            "bin_end": 50.5,
            "bin_start": 40.6,
            "count": 37
           },
           {
            "bin_end": 60.400000000000006,
            "bin_start": 50.5,
            "count": 35
           },
           {
            "bin_end": 70.3,
            "bin_start": 60.400000000000006,
            "count": 25
           },
           {
            "bin_end": 80.2,
            "bin_start": 70.3,
            "count": 19
           },
           {
            "bin_end": 90.10000000000001,
            "bin_start": 80.2,
            "count": 24
           },
           {
            "bin_end": 100,
            "bin_start": 90.10000000000001,
            "count": 20
           }
          ],
          "max": "100.0",
          "min": "1.0",
          "nan_count": 48,
          "unique_count": 90
         }
        },
        {
         "dtype": "float64",
         "name": "wk8",
         "stats": {
          "histogram": [
           {
            "bin_end": 10.8,
            "bin_start": 1,
            "count": 24
           },
           {
            "bin_end": 20.6,
            "bin_start": 10.8,
            "count": 23
           },
           {
            "bin_end": 30.400000000000002,
            "bin_start": 20.6,
            "count": 32
           },
           {
            "bin_end": 40.2,
            "bin_start": 30.400000000000002,
            "count": 37
           },
           {
            "bin_end": 50,
            "bin_start": 40.2,
            "count": 31
           },
           {
            "bin_end": 59.800000000000004,
            "bin_start": 50,
            "count": 33
           },
           {
            "bin_end": 69.60000000000001,
            "bin_start": 59.800000000000004,
            "count": 20
           },
           {
            "bin_end": 79.4,
            "bin_start": 69.60000000000001,
            "count": 17
           },
           {
            "bin_end": 89.2,
            "bin_start": 79.4,
            "count": 24
           },
           {
            "bin_end": 99,
            "bin_start": 89.2,
            "count": 19
           }
          ],
          "max": "99.0",
          "min": "1.0",
          "nan_count": 57,
          "unique_count": 91
         }
        },
        {
         "dtype": "float64",
         "name": "wk9",
         "stats": {
          "histogram": [
           {
            "bin_end": 10.9,
            "bin_start": 1,
            "count": 24
           },
           {
            "bin_end": 20.8,
            "bin_start": 10.9,
            "count": 25
           },
           {
            "bin_end": 30.700000000000003,
            "bin_start": 20.8,
            "count": 35
           },
           {
            "bin_end": 40.6,
            "bin_start": 30.700000000000003,
            "count": 38
           },
           {
            "bin_end": 50.5,
            "bin_start": 40.6,
            "count": 22
           },
           {
            "bin_end": 60.400000000000006,
            "bin_start": 50.5,
            "count": 31
           },
           {
            "bin_end": 70.3,
            "bin_start": 60.400000000000006,
            "count": 20
           },
           {
            "bin_end": 80.2,
            "bin_start": 70.3,
            "count": 19
           },
           {
            "bin_end": 90.10000000000001,
            "bin_start": 80.2,
            "count": 22
           },
           {
            "bin_end": 100,
            "bin_start": 90.10000000000001,
            "count": 17
           }
          ],
          "max": "100.0",
          "min": "1.0",
          "nan_count": 64,
          "unique_count": 92
         }
        },
        {
         "dtype": "float64",
         "name": "wk10",
         "stats": {
          "histogram": [
           {
            "bin_end": 10.9,
            "bin_start": 1,
            "count": 28
           },
           {
            "bin_end": 20.8,
            "bin_start": 10.9,
            "count": 25
           },
           {
            "bin_end": 30.700000000000003,
            "bin_start": 20.8,
            "count": 34
           },
           {
            "bin_end": 40.6,
            "bin_start": 30.700000000000003,
            "count": 36
           },
           {
            "bin_end": 50.5,
            "bin_start": 40.6,
            "count": 18
           },
           {
            "bin_end": 60.400000000000006,
            "bin_start": 50.5,
            "count": 28
           },
           {
            "bin_end": 70.3,
            "bin_start": 60.400000000000006,
            "count": 20
           },
           {
            "bin_end": 80.2,
            "bin_start": 70.3,
            "count": 17
           },
           {
            "bin_end": 90.10000000000001,
            "bin_start": 80.2,
            "count": 16
           },
           {
            "bin_end": 100,
            "bin_start": 90.10000000000001,
            "count": 22
           }
          ],
          "max": "100.0",
          "min": "1.0",
          "nan_count": 73,
          "unique_count": 92
         }
        },
        {
         "dtype": "float64",
         "name": "wk11",
         "stats": {
          "histogram": [
           {
            "bin_end": 10.9,
            "bin_start": 1,
            "count": 29
           },
           {
            "bin_end": 20.8,
            "bin_start": 10.9,
            "count": 24
           },
           {
            "bin_end": 30.700000000000003,
            "bin_start": 20.8,
            "count": 34
           },
           {
            "bin_end": 40.6,
            "bin_start": 30.700000000000003,
            "count": 28
           },
           {
            "bin_end": 50.5,
            "bin_start": 40.6,
            "count": 24
           },
           {
            "bin_end": 60.400000000000006,
            "bin_start": 50.5,
            "count": 22
           },
           {
            "bin_end": 70.3,
            "bin_start": 60.400000000000006,
            "count": 17
           },
           {
            "bin_end": 80.2,
            "bin_start": 70.3,
            "count": 19
           },
           {
            "bin_end": 90.10000000000001,
            "bin_start": 80.2,
            "count": 13
           },
           {
            "bin_end": 100,
            "bin_start": 90.10000000000001,
            "count": 26
           }
          ],
          "max": "100.0",
          "min": "1.0",
          "nan_count": 81,
          "unique_count": 92
         }
        },
        {
         "dtype": "float64",
         "name": "wk12",
         "stats": {
          "histogram": [
           {
            "bin_end": 10.9,
            "bin_start": 1,
            "count": 32
           },
           {
            "bin_end": 20.8,
            "bin_start": 10.9,
            "count": 24
           },
           {
            "bin_end": 30.700000000000003,
            "bin_start": 20.8,
            "count": 32
           },
           {
            "bin_end": 40.6,
            "bin_start": 30.700000000000003,
            "count": 20
           },
           {
            "bin_end": 50.5,
            "bin_start": 40.6,
            "count": 25
           },
           {
            "bin_end": 60.400000000000006,
            "bin_start": 50.5,
            "count": 26
           },
           {
            "bin_end": 70.3,
            "bin_start": 60.400000000000006,
            "count": 13
           },
           {
            "bin_end": 80.2,
            "bin_start": 70.3,
            "count": 11
           },
           {
            "bin_end": 90.10000000000001,
            "bin_start": 80.2,
            "count": 22
           },
           {
            "bin_end": 100,
            "bin_start": 90.10000000000001,
            "count": 17
           }
          ],
          "max": "100.0",
          "min": "1.0",
          "nan_count": 95,
          "unique_count": 91
         }
        },
        {
         "dtype": "float64",
         "name": "wk13",
         "stats": {
          "histogram": [
           {
            "bin_end": 10.9,
            "bin_start": 1,
            "count": 32
           },
           {
            "bin_end": 20.8,
            "bin_start": 10.9,
            "count": 23
           },
           {
            "bin_end": 30.700000000000003,
            "bin_start": 20.8,
            "count": 27
           },
           {
            "bin_end": 40.6,
            "bin_start": 30.700000000000003,
            "count": 21
           },
           {
            "bin_end": 50.5,
            "bin_start": 40.6,
            "count": 23
           },
           {
            "bin_end": 60.400000000000006,
            "bin_start": 50.5,
            "count": 21
           },
           {
            "bin_end": 70.3,
            "bin_start": 60.400000000000006,
            "count": 16
           },
           {
            "bin_end": 80.2,
            "bin_start": 70.3,
            "count": 11
           },
           {
            "bin_end": 90.10000000000001,
            "bin_start": 80.2,
            "count": 19
           },
           {
            "bin_end": 100,
            "bin_start": 90.10000000000001,
            "count": 17
           }
          ],
          "max": "100.0",
          "min": "1.0",
          "nan_count": 107,
          "unique_count": 86
         }
        },
        {
         "dtype": "float64",
         "name": "wk14",
         "stats": {
          "histogram": [
           {
            "bin_end": 10.9,
            "bin_start": 1,
            "count": 32
           },
           {
            "bin_end": 20.8,
            "bin_start": 10.9,
            "count": 23
           },
           {
            "bin_end": 30.700000000000003,
            "bin_start": 20.8,
            "count": 22
           },
           {
            "bin_end": 40.6,
            "bin_start": 30.700000000000003,
            "count": 21
           },
           {
            "bin_end": 50.5,
            "bin_start": 40.6,
            "count": 16
           },
           {
            "bin_end": 60.400000000000006,
            "bin_start": 50.5,
            "count": 21
           },
           {
            "bin_end": 70.3,
            "bin_start": 60.400000000000006,
            "count": 17
           },
           {
            "bin_end": 80.2,
            "bin_start": 70.3,
            "count": 10
           },
           {
            "bin_end": 90.10000000000001,
            "bin_start": 80.2,
            "count": 20
           },
           {
            "bin_end": 100,
            "bin_start": 90.10000000000001,
            "count": 22
           }
          ],
          "max": "100.0",
          "min": "1.0",
          "nan_count": 113,
          "unique_count": 87
         }
        },
        {
         "dtype": "float64",
         "name": "wk15",
         "stats": {
          "histogram": [
           {
            "bin_end": 10.9,
            "bin_start": 1,
            "count": 30
           },
           {
            "bin_end": 20.8,
            "bin_start": 10.9,
            "count": 25
           },
           {
            "bin_end": 30.700000000000003,
            "bin_start": 20.8,
            "count": 13
           },
           {
            "bin_end": 40.6,
            "bin_start": 30.700000000000003,
            "count": 22
           },
           {
            "bin_end": 50.5,
            "bin_start": 40.6,
            "count": 14
           },
           {
            "bin_end": 60.400000000000006,
            "bin_start": 50.5,
            "count": 16
           },
           {
            "bin_end": 70.3,
            "bin_start": 60.400000000000006,
            "count": 19
           },
           {
            "bin_end": 80.2,
            "bin_start": 70.3,
            "count": 16
           },
           {
            "bin_end": 90.10000000000001,
            "bin_start": 80.2,
            "count": 17
           },
           {
            "bin_end": 100,
            "bin_start": 90.10000000000001,
            "count": 25
           }
          ],
          "max": "100.0",
          "min": "1.0",
          "nan_count": 120,
          "unique_count": 86
         }
        },
        {
         "dtype": "float64",
         "name": "wk16",
         "stats": {
          "histogram": [
           {
            "bin_end": 10.9,
            "bin_start": 1,
            "count": 30
           },
           {
            "bin_end": 20.8,
            "bin_start": 10.9,
            "count": 22
           },
           {
            "bin_end": 30.700000000000003,
            "bin_start": 20.8,
            "count": 13
           },
           {
            "bin_end": 40.6,
            "bin_start": 30.700000000000003,
            "count": 16
           },
           {
            "bin_end": 50.5,
            "bin_start": 40.6,
            "count": 16
           },
           {
            "bin_end": 60.400000000000006,
            "bin_start": 50.5,
            "count": 8
           },
           {
            "bin_end": 70.3,
            "bin_start": 60.400000000000006,
            "count": 21
           },
           {
            "bin_end": 80.2,
            "bin_start": 70.3,
            "count": 15
           },
           {
            "bin_end": 90.10000000000001,
            "bin_start": 80.2,
            "count": 19
           },
           {
            "bin_end": 100,
            "bin_start": 90.10000000000001,
            "count": 22
           }
          ],
          "max": "100.0",
          "min": "1.0",
          "nan_count": 135,
          "unique_count": 78
         }
        },
        {
         "dtype": "float64",
         "name": "wk17",
         "stats": {
          "histogram": [
           {
            "bin_end": 10.9,
            "bin_start": 1,
            "count": 25
           },
           {
            "bin_end": 20.8,
            "bin_start": 10.9,
            "count": 22
           },
           {
            "bin_end": 30.700000000000003,
            "bin_start": 20.8,
            "count": 16
           },
           {
            "bin_end": 40.6,
            "bin_start": 30.700000000000003,
            "count": 9
           },
           {
            "bin_end": 50.5,
            "bin_start": 40.6,
            "count": 13
           },
           {
            "bin_end": 60.400000000000006,
            "bin_start": 50.5,
            "count": 14
           },
           {
            "bin_end": 70.3,
            "bin_start": 60.400000000000006,
            "count": 15
           },
           {
            "bin_end": 80.2,
            "bin_start": 70.3,
            "count": 12
           },
           {
            "bin_end": 90.10000000000001,
            "bin_start": 80.2,
            "count": 20
           },
           {
            "bin_end": 100,
            "bin_start": 90.10000000000001,
            "count": 31
           }
          ],
          "max": "100.0",
          "min": "1.0",
          "nan_count": 140,
          "unique_count": 79
         }
        },
        {
         "dtype": "float64",
         "name": "wk18",
         "stats": {
          "histogram": [
           {
            "bin_end": 10.9,
            "bin_start": 1,
            "count": 23
           },
           {
            "bin_end": 20.8,
            "bin_start": 10.9,
            "count": 22
           },
           {
            "bin_end": 30.700000000000003,
            "bin_start": 20.8,
            "count": 14
           },
           {
            "bin_end": 40.6,
            "bin_start": 30.700000000000003,
            "count": 9
           },
           {
            "bin_end": 50.5,
            "bin_start": 40.6,
            "count": 11
           },
           {
            "bin_end": 60.400000000000006,
            "bin_start": 50.5,
            "count": 10
           },
           {
            "bin_end": 70.3,
            "bin_start": 60.400000000000006,
            "count": 15
           },
           {
            "bin_end": 80.2,
            "bin_start": 70.3,
            "count": 10
           },
           {
            "bin_end": 90.10000000000001,
            "bin_start": 80.2,
            "count": 26
           },
           {
            "bin_end": 100,
            "bin_start": 90.10000000000001,
            "count": 26
           }
          ],
          "max": "100.0",
          "min": "1.0",
          "nan_count": 151,
          "unique_count": 83
         }
        },
        {
         "dtype": "float64",
         "name": "wk19",
         "stats": {
          "histogram": [
           {
            "bin_end": 10.8,
            "bin_start": 1,
            "count": 19
           },
           {
            "bin_end": 20.6,
            "bin_start": 10.8,
            "count": 20
           },
           {
            "bin_end": 30.400000000000002,
            "bin_start": 20.6,
            "count": 15
           },
           {
            "bin_end": 40.2,
            "bin_start": 30.400000000000002,
            "count": 8
           },
           {
            "bin_end": 50,
            "bin_start": 40.2,
            "count": 8
           },
           {
            "bin_end": 59.800000000000004,
            "bin_start": 50,
            "count": 14
           },
           {
            "bin_end": 69.60000000000001,
            "bin_start": 59.800000000000004,
            "count": 9
           },
           {
            "bin_end": 79.4,
            "bin_start": 69.60000000000001,
            "count": 12
           },
           {
            "bin_end": 89.2,
            "bin_start": 79.4,
            "count": 21
           },
           {
            "bin_end": 99,
            "bin_start": 89.2,
            "count": 30
           }
          ],
          "max": "99.0",
          "min": "1.0",
          "nan_count": 161,
          "unique_count": 77
         }
        },
        {
         "dtype": "float64",
         "name": "wk20",
         "stats": {
          "histogram": [
           {
            "bin_end": 11.8,
            "bin_start": 2,
            "count": 18
           },
           {
            "bin_end": 21.6,
            "bin_start": 11.8,
            "count": 17
           },
           {
            "bin_end": 31.400000000000002,
            "bin_start": 21.6,
            "count": 16
           },
           {
            "bin_end": 41.2,
            "bin_start": 31.400000000000002,
            "count": 6
           },
           {
            "bin_end": 51,
            "bin_start": 41.2,
            "count": 9
           },
           {
            "bin_end": 60.800000000000004,
            "bin_start": 51,
            "count": 10
           },
           {
            "bin_end": 70.60000000000001,
            "bin_start": 60.800000000000004,
            "count": 13
           },
           {
            "bin_end": 80.4,
            "bin_start": 70.60000000000001,
            "count": 9
           },
           {
            "bin_end": 90.2,
            "bin_start": 80.4,
            "count": 25
           },
           {
            "bin_end": 100,
            "bin_start": 90.2,
            "count": 23
           }
          ],
          "max": "100.0",
          "min": "2.0",
          "nan_count": 171,
          "unique_count": 73
         }
        },
        {
         "dtype": "float64",
         "name": "wk21",
         "stats": {
          "histogram": [
           {
            "bin_end": 12.4,
            "bin_start": 3,
            "count": 21
           },
           {
            "bin_end": 21.8,
            "bin_start": 12.4,
            "count": 11
           },
           {
            "bin_end": 31.200000000000003,
            "bin_start": 21.8,
            "count": 12
           },
           {
            "bin_end": 40.6,
            "bin_start": 31.200000000000003,
            "count": 7
           },
           {
            "bin_end": 50,
            "bin_start": 40.6,
            "count": 10
           },
           {
            "bin_end": 59.400000000000006,
            "bin_start": 50,
            "count": 1
           },
           {
            "bin_end": 68.8,
            "bin_start": 59.400000000000006,
            "count": 0
           },
           {
            "bin_end": 78.2,
            "bin_start": 68.8,
            "count": 0
           },
           {
            "bin_end": 87.60000000000001,
            "bin_start": 78.2,
            "count": 0
           },
           {
            "bin_end": 97,
            "bin_start": 87.60000000000001,
            "count": 3
           }
          ],
          "max": "97.0",
          "min": "3.0",
          "nan_count": 252,
          "unique_count": 38
         }
        },
        {
         "dtype": "float64",
         "name": "wk22",
         "stats": {
          "histogram": [
           {
            "bin_end": 12.7,
            "bin_start": 3,
            "count": 19
           },
           {
            "bin_end": 22.4,
            "bin_start": 12.7,
            "count": 10
           },
           {
            "bin_end": 32.099999999999994,
            "bin_start": 22.4,
            "count": 9
           },
           {
            "bin_end": 41.8,
            "bin_start": 32.099999999999994,
            "count": 9
           },
           {
            "bin_end": 51.5,
            "bin_start": 41.8,
            "count": 5
           },
           {
            "bin_end": 61.199999999999996,
            "bin_start": 51.5,
            "count": 0
           },
           {
            "bin_end": 70.89999999999999,
            "bin_start": 61.199999999999996,
            "count": 0
           },
           {
            "bin_end": 80.6,
            "bin_start": 70.89999999999999,
            "count": 1
           },
           {
            "bin_end": 90.3,
            "bin_start": 80.6,
            "count": 0
           },
           {
            "bin_end": 100,
            "bin_start": 90.3,
            "count": 2
           }
          ],
          "max": "100.0",
          "min": "3.0",
          "nan_count": 262,
          "unique_count": 37
         }
        },
        {
         "dtype": "float64",
         "name": "wk23",
         "stats": {
          "histogram": [
           {
            "bin_end": 11.8,
            "bin_start": 3,
            "count": 16
           },
           {
            "bin_end": 20.6,
            "bin_start": 11.8,
            "count": 8
           },
           {
            "bin_end": 29.400000000000002,
            "bin_start": 20.6,
            "count": 8
           },
           {
            "bin_end": 38.2,
            "bin_start": 29.400000000000002,
            "count": 7
           },
           {
            "bin_end": 47,
            "bin_start": 38.2,
            "count": 7
           },
           {
            "bin_end": 55.800000000000004,
            "bin_start": 47,
            "count": 0
           },
           {
            "bin_end": 64.60000000000001,
            "bin_start": 55.800000000000004,
            "count": 0
           },
           {
            "bin_end": 73.4,
            "bin_start": 64.60000000000001,
            "count": 0
           },
           {
            "bin_end": 82.2,
            "bin_start": 73.4,
            "count": 1
           },
           {
            "bin_end": 91,
            "bin_start": 82.2,
            "count": 1
           }
          ],
          "max": "91.0",
          "min": "3.0",
          "nan_count": 269,
          "unique_count": 32
         }
        },
        {
         "dtype": "float64",
         "name": "wk24",
         "stats": {
          "histogram": [
           {
            "bin_end": 11.8,
            "bin_start": 3,
            "count": 10
           },
           {
            "bin_end": 20.6,
            "bin_start": 11.8,
            "count": 12
           },
           {
            "bin_end": 29.400000000000002,
            "bin_start": 20.6,
            "count": 4
           },
           {
            "bin_end": 38.2,
            "bin_start": 29.400000000000002,
            "count": 7
           },
           {
            "bin_end": 47,
            "bin_start": 38.2,
            "count": 7
           },
           {
            "bin_end": 55.800000000000004,
            "bin_start": 47,
            "count": 4
           },
           {
            "bin_end": 64.60000000000001,
            "bin_start": 55.800000000000004,
            "count": 0
           },
           {
            "bin_end": 73.4,
            "bin_start": 64.60000000000001,
            "count": 1
           },
           {
            "bin_end": 82.2,
            "bin_start": 73.4,
            "count": 0
           },
           {
            "bin_end": 91,
            "bin_start": 82.2,
            "count": 1
           }
          ],
          "max": "91.0",
          "min": "3.0",
          "nan_count": 271,
          "unique_count": 32
         }
        },
        {
         "dtype": "float64",
         "name": "wk25",
         "stats": {
          "histogram": [
           {
            "bin_end": 10.8,
            "bin_start": 2,
            "count": 7
           },
           {
            "bin_end": 19.6,
            "bin_start": 10.8,
            "count": 9
           },
           {
            "bin_end": 28.400000000000002,
            "bin_start": 19.6,
            "count": 8
           },
           {
            "bin_end": 37.2,
            "bin_start": 28.400000000000002,
            "count": 4
           },
           {
            "bin_end": 46,
            "bin_start": 37.2,
            "count": 5
           },
           {
            "bin_end": 54.800000000000004,
            "bin_start": 46,
            "count": 3
           },
           {
            "bin_end": 63.60000000000001,
            "bin_start": 54.800000000000004,
            "count": 0
           },
           {
            "bin_end": 72.4,
            "bin_start": 63.60000000000001,
            "count": 1
           },
           {
            "bin_end": 81.2,
            "bin_start": 72.4,
            "count": 0
           },
           {
            "bin_end": 90,
            "bin_start": 81.2,
            "count": 1
           }
          ],
          "max": "90.0",
          "min": "2.0",
          "nan_count": 279,
          "unique_count": 27
         }
        },
        {
         "dtype": "float64",
         "name": "wk26",
         "stats": {
          "histogram": [
           {
            "bin_end": 9.8,
            "bin_start": 1,
            "count": 6
           },
           {
            "bin_end": 18.6,
            "bin_start": 9.8,
            "count": 8
           },
           {
            "bin_end": 27.400000000000002,
            "bin_start": 18.6,
            "count": 5
           },
           {
            "bin_end": 36.2,
            "bin_start": 27.400000000000002,
            "count": 5
           },
           {
            "bin_end": 45,
            "bin_start": 36.2,
            "count": 4
           },
           {
            "bin_end": 53.800000000000004,
            "bin_start": 45,
            "count": 6
           },
           {
            "bin_end": 62.60000000000001,
            "bin_start": 53.800000000000004,
            "count": 1
           },
           {
            "bin_end": 71.4,
            "bin_start": 62.60000000000001,
            "count": 0
           },
           {
            "bin_end": 80.2,
            "bin_start": 71.4,
            "count": 0
           },
           {
            "bin_end": 89,
            "bin_start": 80.2,
            "count": 1
           }
          ],
          "max": "89.0",
          "min": "1.0",
          "nan_count": 281,
          "unique_count": 32
         }
        },
        {
         "dtype": "float64",
         "name": "wk27",
         "stats": {
          "histogram": [
           {
            "bin_end": 9.5,
            "bin_start": 1,
            "count": 5
           },
           {
            "bin_end": 18,
            "bin_start": 9.5,
            "count": 5
           },
           {
            "bin_end": 26.5,
            "bin_start": 18,
            "count": 6
           },
           {
            "bin_end": 35,
            "bin_start": 26.5,
            "count": 3
           },
           {
            "bin_end": 43.5,
            "bin_start": 35,
            "count": 4
           },
           {
            "bin_end": 52,
            "bin_start": 43.5,
            "count": 4
           },
           {
            "bin_end": 60.5,
            "bin_start": 52,
            "count": 1
           },
           {
            "bin_end": 69,
            "bin_start": 60.5,
            "count": 0
           },
           {
            "bin_end": 77.5,
            "bin_start": 69,
            "count": 0
           },
           {
            "bin_end": 86,
            "bin_start": 77.5,
            "count": 1
           }
          ],
          "max": "86.0",
          "min": "1.0",
          "nan_count": 288,
          "unique_count": 25
         }
        },
        {
         "dtype": "float64",
         "name": "wk28",
         "stats": {
          "histogram": [
           {
            "bin_end": 7.6,
            "bin_start": 2,
            "count": 5
           },
           {
            "bin_end": 13.2,
            "bin_start": 7.6,
            "count": 1
           },
           {
            "bin_end": 18.799999999999997,
            "bin_start": 13.2,
            "count": 3
           },
           {
            "bin_end": 24.4,
            "bin_start": 18.799999999999997,
            "count": 5
           },
           {
            "bin_end": 30,
            "bin_start": 24.4,
            "count": 1
           },
           {
            "bin_end": 35.599999999999994,
            "bin_start": 30,
            "count": 2
           },
           {
            "bin_end": 41.199999999999996,
            "bin_start": 35.599999999999994,
            "count": 2
           },
           {
            "bin_end": 46.8,
            "bin_start": 41.199999999999996,
            "count": 3
           },
           {
            "bin_end": 52.4,
            "bin_start": 46.8,
            "count": 1
           },
           {
            "bin_end": 58,
            "bin_start": 52.4,
            "count": 1
           }
          ],
          "max": "58.0",
          "min": "2.0",
          "nan_count": 293,
          "unique_count": 19
         }
        },
        {
         "dtype": "float64",
         "name": "wk29",
         "stats": {
          "histogram": [
           {
            "bin_end": 6.7,
            "bin_start": 2,
            "count": 5
           },
           {
            "bin_end": 11.4,
            "bin_start": 6.7,
            "count": 0
           },
           {
            "bin_end": 16.1,
            "bin_start": 11.4,
            "count": 0
           },
           {
            "bin_end": 20.8,
            "bin_start": 16.1,
            "count": 4
           },
           {
            "bin_end": 25.5,
            "bin_start": 20.8,
            "count": 3
           },
           {
            "bin_end": 30.200000000000003,
            "bin_start": 25.5,
            "count": 1
           },
           {
            "bin_end": 34.9,
            "bin_start": 30.200000000000003,
            "count": 1
           },
           {
            "bin_end": 39.6,
            "bin_start": 34.9,
            "count": 2
           },
           {
            "bin_end": 44.300000000000004,
            "bin_start": 39.6,
            "count": 3
           },
           {
            "bin_end": 49,
            "bin_start": 44.300000000000004,
            "count": 1
           }
          ],
          "max": "49.0",
          "min": "2.0",
          "nan_count": 297,
          "unique_count": 16
         }
        },
        {
         "dtype": "float64",
         "name": "wk30",
         "stats": {
          "histogram": [
           {
            "bin_end": 6.3,
            "bin_start": 2,
            "count": 4
           },
           {
            "bin_end": 10.6,
            "bin_start": 6.3,
            "count": 1
           },
           {
            "bin_end": 14.899999999999999,
            "bin_start": 10.6,
            "count": 0
           },
           {
            "bin_end": 19.2,
            "bin_start": 14.899999999999999,
            "count": 1
           },
           {
            "bin_end": 23.5,
            "bin_start": 19.2,
            "count": 2
           },
           {
            "bin_end": 27.799999999999997,
            "bin_start": 23.5,
            "count": 1
           },
           {
            "bin_end": 32.099999999999994,
            "bin_start": 27.799999999999997,
            "count": 1
           },
           {
            "bin_end": 36.4,
            "bin_start": 32.099999999999994,
            "count": 4
           },
           {
            "bin_end": 40.699999999999996,
            "bin_start": 36.4,
            "count": 1
           },
           {
            "bin_end": 45,
            "bin_start": 40.699999999999996,
            "count": 5
           }
          ],
          "max": "45.0",
          "min": "2.0",
          "nan_count": 297,
          "unique_count": 16
         }
        },
        {
         "dtype": "float64",
         "name": "wk31",
         "stats": {
          "histogram": [
           {
            "bin_end": 7.6,
            "bin_start": 3,
            "count": 4
           },
           {
            "bin_end": 12.2,
            "bin_start": 7.6,
            "count": 1
           },
           {
            "bin_end": 16.799999999999997,
            "bin_start": 12.2,
            "count": 0
           },
           {
            "bin_end": 21.4,
            "bin_start": 16.799999999999997,
            "count": 0
           },
           {
            "bin_end": 26,
            "bin_start": 21.4,
            "count": 1
           },
           {
            "bin_end": 30.599999999999998,
            "bin_start": 26,
            "count": 2
           },
           {
            "bin_end": 35.199999999999996,
            "bin_start": 30.599999999999998,
            "count": 3
           },
           {
            "bin_end": 39.8,
            "bin_start": 35.199999999999996,
            "count": 2
           },
           {
            "bin_end": 44.4,
            "bin_start": 39.8,
            "count": 3
           },
           {
            "bin_end": 49,
            "bin_start": 44.4,
            "count": 3
           }
          ],
          "max": "49.0",
          "min": "3.0",
          "nan_count": 298,
          "unique_count": 18
         }
        },
        {
         "dtype": "float64",
         "name": "wk32",
         "stats": {
          "histogram": [
           {
            "bin_end": 7.4,
            "bin_start": 3,
            "count": 4
           },
           {
            "bin_end": 11.8,
            "bin_start": 7.4,
            "count": 1
           },
           {
            "bin_end": 16.200000000000003,
            "bin_start": 11.8,
            "count": 0
           },
           {
            "bin_end": 20.6,
            "bin_start": 16.200000000000003,
            "count": 0
           },
           {
            "bin_end": 25,
            "bin_start": 20.6,
            "count": 0
           },
           {
            "bin_end": 29.400000000000002,
            "bin_start": 25,
            "count": 3
           },
           {
            "bin_end": 33.800000000000004,
            "bin_start": 29.400000000000002,
            "count": 0
           },
           {
            "bin_end": 38.2,
            "bin_start": 33.800000000000004,
            "count": 1
           },
           {
            "bin_end": 42.6,
            "bin_start": 38.2,
            "count": 2
           },
           {
            "bin_end": 47,
            "bin_start": 42.6,
            "count": 7
           }
          ],
          "max": "47.0",
          "min": "3.0",
          "nan_count": 299,
          "unique_count": 14
         }
        },
        {
         "dtype": "float64",
         "name": "wk33",
         "stats": {
          "histogram": [
           {
            "bin_end": 6.8,
            "bin_start": 2,
            "count": 4
           },
           {
            "bin_end": 11.6,
            "bin_start": 6.8,
            "count": 0
           },
           {
            "bin_end": 16.4,
            "bin_start": 11.6,
            "count": 0
           },
           {
            "bin_end": 21.2,
            "bin_start": 16.4,
            "count": 1
           },
           {
            "bin_end": 26,
            "bin_start": 21.2,
            "count": 2
           },
           {
            "bin_end": 30.799999999999997,
            "bin_start": 26,
            "count": 1
           },
           {
            "bin_end": 35.6,
            "bin_start": 30.799999999999997,
            "count": 0
           },
           {
            "bin_end": 40.4,
            "bin_start": 35.6,
            "count": 2
           },
           {
            "bin_end": 45.199999999999996,
            "bin_start": 40.4,
            "count": 0
           },
           {
            "bin_end": 50,
            "bin_start": 45.199999999999996,
            "count": 2
           }
          ],
          "max": "50.0",
          "min": "2.0",
          "nan_count": 305,
          "unique_count": 12
         }
        },
        {
         "dtype": "float64",
         "name": "wk34",
         "stats": {
          "histogram": [
           {
            "bin_end": 7.6,
            "bin_start": 3,
            "count": 3
           },
           {
            "bin_end": 12.2,
            "bin_start": 7.6,
            "count": 1
           },
           {
            "bin_end": 16.799999999999997,
            "bin_start": 12.2,
            "count": 0
           },
           {
            "bin_end": 21.4,
            "bin_start": 16.799999999999997,
            "count": 2
           },
           {
            "bin_end": 26,
            "bin_start": 21.4,
            "count": 1
           },
           {
            "bin_end": 30.599999999999998,
            "bin_start": 26,
            "count": 1
           },
           {
            "bin_end": 35.199999999999996,
            "bin_start": 30.599999999999998,
            "count": 1
           },
           {
            "bin_end": 39.8,
            "bin_start": 35.199999999999996,
            "count": 0
           },
           {
            "bin_end": 44.4,
            "bin_start": 39.8,
            "count": 0
           },
           {
            "bin_end": 49,
            "bin_start": 44.4,
            "count": 1
           }
          ],
          "max": "49.0",
          "min": "3.0",
          "nan_count": 307,
          "unique_count": 9
         }
        },
        {
         "dtype": "float64",
         "name": "wk35",
         "stats": {
          "histogram": [
           {
            "bin_end": 7,
            "bin_start": 4,
            "count": 3
           },
           {
            "bin_end": 10,
            "bin_start": 7,
            "count": 1
           },
           {
            "bin_end": 13,
            "bin_start": 10,
            "count": 0
           },
           {
            "bin_end": 16,
            "bin_start": 13,
            "count": 1
           },
           {
            "bin_end": 19,
            "bin_start": 16,
            "count": 0
           },
           {
            "bin_end": 22,
            "bin_start": 19,
            "count": 0
           },
           {
            "bin_end": 25,
            "bin_start": 22,
            "count": 1
           },
           {
            "bin_end": 28,
            "bin_start": 25,
            "count": 1
           },
           {
            "bin_end": 31,
            "bin_start": 28,
            "count": 0
           },
           {
            "bin_end": 34,
            "bin_start": 31,
            "count": 2
           }
          ],
          "max": "34.0",
          "min": "4.0",
          "nan_count": 308,
          "unique_count": 8
         }
        },
        {
         "dtype": "float64",
         "name": "wk36",
         "stats": {
          "histogram": [
           {
            "bin_end": 8.6,
            "bin_start": 5,
            "count": 3
           },
           {
            "bin_end": 12.2,
            "bin_start": 8.6,
            "count": 1
           },
           {
            "bin_end": 15.8,
            "bin_start": 12.2,
            "count": 0
           },
           {
            "bin_end": 19.4,
            "bin_start": 15.8,
            "count": 2
           },
           {
            "bin_end": 23,
            "bin_start": 19.4,
            "count": 0
           },
           {
            "bin_end": 26.6,
            "bin_start": 23,
            "count": 0
           },
           {
            "bin_end": 30.2,
            "bin_start": 26.6,
            "count": 1
           },
           {
            "bin_end": 33.8,
            "bin_start": 30.2,
            "count": 0
           },
           {
            "bin_end": 37.4,
            "bin_start": 33.8,
            "count": 1
           },
           {
            "bin_end": 41,
            "bin_start": 37.4,
            "count": 1
           }
          ],
          "max": "41.0",
          "min": "5.0",
          "nan_count": 308,
          "unique_count": 8
         }
        },
        {
         "dtype": "float64",
         "name": "wk37",
         "stats": {
          "histogram": [
           {
            "bin_end": 9.3,
            "bin_start": 5,
            "count": 3
           },
           {
            "bin_end": 13.6,
            "bin_start": 9.3,
            "count": 1
           },
           {
            "bin_end": 17.9,
            "bin_start": 13.6,
            "count": 1
           },
           {
            "bin_end": 22.2,
            "bin_start": 17.9,
            "count": 1
           },
           {
            "bin_end": 26.5,
            "bin_start": 22.2,
            "count": 0
           },
           {
            "bin_end": 30.799999999999997,
            "bin_start": 26.5,
            "count": 0
           },
           {
            "bin_end": 35.099999999999994,
            "bin_start": 30.799999999999997,
            "count": 0
           },
           {
            "bin_end": 39.4,
            "bin_start": 35.099999999999994,
            "count": 2
           },
           {
            "bin_end": 43.699999999999996,
            "bin_start": 39.4,
            "count": 0
           },
           {
            "bin_end": 48,
            "bin_start": 43.699999999999996,
            "count": 1
           }
          ],
          "max": "48.0",
          "min": "5.0",
          "nan_count": 308,
          "unique_count": 8
         }
        },
        {
         "dtype": "float64",
         "name": "wk38",
         "stats": {
          "histogram": [
           {
            "bin_end": 12.1,
            "bin_start": 9,
            "count": 3
           },
           {
            "bin_end": 15.2,
            "bin_start": 12.1,
            "count": 1
           },
           {
            "bin_end": 18.3,
            "bin_start": 15.2,
            "count": 2
           },
           {
            "bin_end": 21.4,
            "bin_start": 18.3,
            "count": 0
           },
           {
            "bin_end": 24.5,
            "bin_start": 21.4,
            "count": 0
           },
           {
            "bin_end": 27.6,
            "bin_start": 24.5,
            "count": 0
           },
           {
            "bin_end": 30.7,
            "bin_start": 27.6,
            "count": 0
           },
           {
            "bin_end": 33.8,
            "bin_start": 30.7,
            "count": 0
           },
           {
            "bin_end": 36.900000000000006,
            "bin_start": 33.8,
            "count": 0
           },
           {
            "bin_end": 40,
            "bin_start": 36.900000000000006,
            "count": 2
           }
          ],
          "max": "40.0",
          "min": "9.0",
          "nan_count": 309,
          "unique_count": 5
         }
        },
        {
         "dtype": "float64",
         "name": "wk39",
         "stats": {
          "histogram": [
           {
            "bin_end": 7.7,
            "bin_start": 3,
            "count": 1
           },
           {
            "bin_end": 12.4,
            "bin_start": 7.7,
            "count": 3
           },
           {
            "bin_end": 17.1,
            "bin_start": 12.4,
            "count": 1
           },
           {
            "bin_end": 21.8,
            "bin_start": 17.1,
            "count": 1
           },
           {
            "bin_end": 26.5,
            "bin_start": 21.8,
            "count": 0
           },
           {
            "bin_end": 31.200000000000003,
            "bin_start": 26.5,
            "count": 0
           },
           {
            "bin_end": 35.9,
            "bin_start": 31.200000000000003,
            "count": 0
           },
           {
            "bin_end": 40.6,
            "bin_start": 35.9,
            "count": 0
           },
           {
            "bin_end": 45.300000000000004,
            "bin_start": 40.6,
            "count": 0
           },
           {
            "bin_end": 50,
            "bin_start": 45.300000000000004,
            "count": 2
           }
          ],
          "max": "50.0",
          "min": "3.0",
          "nan_count": 309,
          "unique_count": 8
         }
        },
        {
         "dtype": "float64",
         "name": "wk40",
         "stats": {
          "histogram": [
           {
            "bin_end": 5.6,
            "bin_start": 1,
            "count": 1
           },
           {
            "bin_end": 10.2,
            "bin_start": 5.6,
            "count": 0
           },
           {
            "bin_end": 14.799999999999999,
            "bin_start": 10.2,
            "count": 3
           },
           {
            "bin_end": 19.4,
            "bin_start": 14.799999999999999,
            "count": 1
           },
           {
            "bin_end": 24,
            "bin_start": 19.4,
            "count": 1
           },
           {
            "bin_end": 28.599999999999998,
            "bin_start": 24,
            "count": 0
           },
           {
            "bin_end": 33.199999999999996,
            "bin_start": 28.599999999999998,
            "count": 0
           },
           {
            "bin_end": 37.8,
            "bin_start": 33.199999999999996,
            "count": 0
           },
           {
            "bin_end": 42.4,
            "bin_start": 37.8,
            "count": 0
           },
           {
            "bin_end": 47,
            "bin_start": 42.4,
            "count": 1
           }
          ],
          "max": "47.0",
          "min": "1.0",
          "nan_count": 310,
          "unique_count": 6
         }
        },
        {
         "dtype": "float64",
         "name": "wk41",
         "stats": {
          "histogram": [
           {
            "bin_end": 5.9,
            "bin_start": 1,
            "count": 1
           },
           {
            "bin_end": 10.8,
            "bin_start": 5.9,
            "count": 0
           },
           {
            "bin_end": 15.700000000000001,
            "bin_start": 10.8,
            "count": 3
           },
           {
            "bin_end": 20.6,
            "bin_start": 15.700000000000001,
            "count": 1
           },
           {
            "bin_end": 25.5,
            "bin_start": 20.6,
            "count": 1
           },
           {
            "bin_end": 30.400000000000002,
            "bin_start": 25.5,
            "count": 0
           },
           {
            "bin_end": 35.300000000000004,
            "bin_start": 30.400000000000002,
            "count": 0
           },
           {
            "bin_end": 40.2,
            "bin_start": 35.300000000000004,
            "count": 0
           },
           {
            "bin_end": 45.1,
            "bin_start": 40.2,
            "count": 0
           },
           {
            "bin_end": 50,
            "bin_start": 45.1,
            "count": 1
           }
          ],
          "max": "50.0",
          "min": "1.0",
          "nan_count": 310,
          "unique_count": 6
         }
        },
        {
         "dtype": "float64",
         "name": "wk42",
         "stats": {
          "histogram": [
           {
            "bin_end": 4,
            "bin_start": 2,
            "count": 1
           },
           {
            "bin_end": 6,
            "bin_start": 4,
            "count": 0
           },
           {
            "bin_end": 8,
            "bin_start": 6,
            "count": 0
           },
           {
            "bin_end": 10,
            "bin_start": 8,
            "count": 0
           },
           {
            "bin_end": 12,
            "bin_start": 10,
            "count": 1
           },
           {
            "bin_end": 14,
            "bin_start": 12,
            "count": 1
           },
           {
            "bin_end": 16,
            "bin_start": 14,
            "count": 0
           },
           {
            "bin_end": 18,
            "bin_start": 16,
            "count": 1
           },
           {
            "bin_end": 20,
            "bin_start": 18,
            "count": 0
           },
           {
            "bin_end": 22,
            "bin_start": 20,
            "count": 2
           }
          ],
          "max": "22.0",
          "min": "2.0",
          "nan_count": 311,
          "unique_count": 6
         }
        },
        {
         "dtype": "float64",
         "name": "wk43",
         "stats": {
          "histogram": [
           {
            "bin_end": 5.9,
            "bin_start": 3,
            "count": 1
           },
           {
            "bin_end": 8.8,
            "bin_start": 5.9,
            "count": 0
           },
           {
            "bin_end": 11.7,
            "bin_start": 8.8,
            "count": 1
           },
           {
            "bin_end": 14.6,
            "bin_start": 11.7,
            "count": 1
           },
           {
            "bin_end": 17.5,
            "bin_start": 14.6,
            "count": 0
           },
           {
            "bin_end": 20.4,
            "bin_start": 17.5,
            "count": 0
           },
           {
            "bin_end": 23.3,
            "bin_start": 20.4,
            "count": 1
           },
           {
            "bin_end": 26.2,
            "bin_start": 23.3,
            "count": 1
           },
           {
            "bin_end": 29.099999999999998,
            "bin_start": 26.2,
            "count": 0
           },
           {
            "bin_end": 32,
            "bin_start": 29.099999999999998,
            "count": 1
           }
          ],
          "max": "32.0",
          "min": "3.0",
          "nan_count": 311,
          "unique_count": 6
         }
        },
        {
         "dtype": "float64",
         "name": "wk44",
         "stats": {
          "histogram": [
           {
            "bin_end": 8.1,
            "bin_start": 4,
            "count": 1
           },
           {
            "bin_end": 12.2,
            "bin_start": 8.1,
            "count": 1
           },
           {
            "bin_end": 16.299999999999997,
            "bin_start": 12.2,
            "count": 1
           },
           {
            "bin_end": 20.4,
            "bin_start": 16.299999999999997,
            "count": 0
           },
           {
            "bin_end": 24.5,
            "bin_start": 20.4,
            "count": 0
           },
           {
            "bin_end": 28.599999999999998,
            "bin_start": 24.5,
            "count": 1
           },
           {
            "bin_end": 32.699999999999996,
            "bin_start": 28.599999999999998,
            "count": 1
           },
           {
            "bin_end": 36.8,
            "bin_start": 32.699999999999996,
            "count": 0
           },
           {
            "bin_end": 40.9,
            "bin_start": 36.8,
            "count": 0
           },
           {
            "bin_end": 45,
            "bin_start": 40.9,
            "count": 1
           }
          ],
          "max": "45.0",
          "min": "4.0",
          "nan_count": 311,
          "unique_count": 6
         }
        },
        {
         "dtype": "float64",
         "name": "wk45",
         "stats": {
          "histogram": [
           {
            "bin_end": 6.7,
            "bin_start": 4,
            "count": 1
           },
           {
            "bin_end": 9.4,
            "bin_start": 6.7,
            "count": 1
           },
           {
            "bin_end": 12.100000000000001,
            "bin_start": 9.4,
            "count": 0
           },
           {
            "bin_end": 14.8,
            "bin_start": 12.100000000000001,
            "count": 0
           },
           {
            "bin_end": 17.5,
            "bin_start": 14.8,
            "count": 1
           },
           {
            "bin_end": 20.200000000000003,
            "bin_start": 17.5,
            "count": 0
           },
           {
            "bin_end": 22.900000000000002,
            "bin_start": 20.200000000000003,
            "count": 0
           },
           {
            "bin_end": 25.6,
            "bin_start": 22.900000000000002,
            "count": 0
           },
           {
            "bin_end": 28.3,
            "bin_start": 25.6,
            "count": 1
           },
           {
            "bin_end": 31,
            "bin_start": 28.3,
            "count": 1
           }
          ],
          "max": "31.0",
          "min": "4.0",
          "nan_count": 312,
          "unique_count": 5
         }
        },
        {
         "dtype": "float64",
         "name": "wk46",
         "stats": {
          "histogram": [
           {
            "bin_end": 8.2,
            "bin_start": 5,
            "count": 2
           },
           {
            "bin_end": 11.4,
            "bin_start": 8.2,
            "count": 0
           },
           {
            "bin_end": 14.600000000000001,
            "bin_start": 11.4,
            "count": 0
           },
           {
            "bin_end": 17.8,
            "bin_start": 14.600000000000001,
            "count": 0
           },
           {
            "bin_end": 21,
            "bin_start": 17.8,
            "count": 0
           },
           {
            "bin_end": 24.200000000000003,
            "bin_start": 21,
            "count": 1
           },
           {
            "bin_end": 27.400000000000002,
            "bin_start": 24.200000000000003,
            "count": 0
           },
           {
            "bin_end": 30.6,
            "bin_start": 27.400000000000002,
            "count": 0
           },
           {
            "bin_end": 33.8,
            "bin_start": 30.6,
            "count": 1
           },
           {
            "bin_end": 37,
            "bin_start": 33.8,
            "count": 1
           }
          ],
          "max": "37.0",
          "min": "5.0",
          "nan_count": 312,
          "unique_count": 5
         }
        },
        {
         "dtype": "float64",
         "name": "wk47",
         "stats": {
          "histogram": [
           {
            "bin_end": 9.5,
            "bin_start": 6,
            "count": 2
           },
           {
            "bin_end": 13,
            "bin_start": 9.5,
            "count": 0
           },
           {
            "bin_end": 16.5,
            "bin_start": 13,
            "count": 0
           },
           {
            "bin_end": 20,
            "bin_start": 16.5,
            "count": 0
           },
           {
            "bin_end": 23.5,
            "bin_start": 20,
            "count": 1
           },
           {
            "bin_end": 27,
            "bin_start": 23.5,
            "count": 0
           },
           {
            "bin_end": 30.5,
            "bin_start": 27,
            "count": 0
           },
           {
            "bin_end": 34,
            "bin_start": 30.5,
            "count": 0
           },
           {
            "bin_end": 37.5,
            "bin_start": 34,
            "count": 0
           },
           {
            "bin_end": 41,
            "bin_start": 37.5,
            "count": 2
           }
          ],
          "max": "41.0",
          "min": "6.0",
          "nan_count": 312,
          "unique_count": 5
         }
        },
        {
         "dtype": "float64",
         "name": "wk48",
         "stats": {
          "histogram": [
           {
            "bin_end": 11.1,
            "bin_start": 8,
            "count": 2
           },
           {
            "bin_end": 14.2,
            "bin_start": 11.1,
            "count": 0
           },
           {
            "bin_end": 17.3,
            "bin_start": 14.2,
            "count": 0
           },
           {
            "bin_end": 20.4,
            "bin_start": 17.3,
            "count": 0
           },
           {
            "bin_end": 23.5,
            "bin_start": 20.4,
            "count": 0
           },
           {
            "bin_end": 26.6,
            "bin_start": 23.5,
            "count": 1
           },
           {
            "bin_end": 29.7,
            "bin_start": 26.6,
            "count": 0
           },
           {
            "bin_end": 32.8,
            "bin_start": 29.7,
            "count": 0
           },
           {
            "bin_end": 35.900000000000006,
            "bin_start": 32.8,
            "count": 0
           },
           {
            "bin_end": 39,
            "bin_start": 35.900000000000006,
            "count": 1
           }
          ],
          "max": "39.0",
          "min": "8.0",
          "nan_count": 313,
          "unique_count": 4
         }
        },
        {
         "dtype": "float64",
         "name": "wk49",
         "stats": {
          "histogram": [
           {
            "bin_end": 12.3,
            "bin_start": 9,
            "count": 2
           },
           {
            "bin_end": 15.6,
            "bin_start": 12.3,
            "count": 0
           },
           {
            "bin_end": 18.9,
            "bin_start": 15.6,
            "count": 0
           },
           {
            "bin_end": 22.2,
            "bin_start": 18.9,
            "count": 0
           },
           {
            "bin_end": 25.5,
            "bin_start": 22.2,
            "count": 0
           },
           {
            "bin_end": 28.799999999999997,
            "bin_start": 25.5,
            "count": 1
           },
           {
            "bin_end": 32.099999999999994,
            "bin_start": 28.799999999999997,
            "count": 0
           },
           {
            "bin_end": 35.4,
            "bin_start": 32.099999999999994,
            "count": 0
           },
           {
            "bin_end": 38.7,
            "bin_start": 35.4,
            "count": 0
           },
           {
            "bin_end": 42,
            "bin_start": 38.7,
            "count": 1
           }
          ],
          "max": "42.0",
          "min": "9.0",
          "nan_count": 313,
          "unique_count": 3
         }
        },
        {
         "dtype": "float64",
         "name": "wk50",
         "stats": {
          "histogram": [
           {
            "bin_end": 13.9,
            "bin_start": 10,
            "count": 2
           },
           {
            "bin_end": 17.8,
            "bin_start": 13.9,
            "count": 0
           },
           {
            "bin_end": 21.7,
            "bin_start": 17.8,
            "count": 0
           },
           {
            "bin_end": 25.6,
            "bin_start": 21.7,
            "count": 0
           },
           {
            "bin_end": 29.5,
            "bin_start": 25.6,
            "count": 0
           },
           {
            "bin_end": 33.4,
            "bin_start": 29.5,
            "count": 1
           },
           {
            "bin_end": 37.3,
            "bin_start": 33.4,
            "count": 0
           },
           {
            "bin_end": 41.2,
            "bin_start": 37.3,
            "count": 0
           },
           {
            "bin_end": 45.1,
            "bin_start": 41.2,
            "count": 0
           },
           {
            "bin_end": 49,
            "bin_start": 45.1,
            "count": 1
           }
          ],
          "max": "49.0",
          "min": "10.0",
          "nan_count": 313,
          "unique_count": 4
         }
        },
        {
         "dtype": "float64",
         "name": "wk51",
         "stats": {
          "histogram": [
           {
            "bin_end": 15.7,
            "bin_start": 12,
            "count": 2
           },
           {
            "bin_end": 19.4,
            "bin_start": 15.7,
            "count": 0
           },
           {
            "bin_end": 23.1,
            "bin_start": 19.4,
            "count": 0
           },
           {
            "bin_end": 26.8,
            "bin_start": 23.1,
            "count": 0
           },
           {
            "bin_end": 30.5,
            "bin_start": 26.8,
            "count": 0
           },
           {
            "bin_end": 34.2,
            "bin_start": 30.5,
            "count": 0
           },
           {
            "bin_end": 37.900000000000006,
            "bin_start": 34.2,
            "count": 0
           },
           {
            "bin_end": 41.6,
            "bin_start": 37.900000000000006,
            "count": 0
           },
           {
            "bin_end": 45.300000000000004,
            "bin_start": 41.6,
            "count": 1
           },
           {
            "bin_end": 49,
            "bin_start": 45.300000000000004,
            "count": 1
           }
          ],
          "max": "49.0",
          "min": "12.0",
          "nan_count": 313,
          "unique_count": 4
         }
        },
        {
         "dtype": "float64",
         "name": "wk52",
         "stats": {
          "histogram": [
           {
            "bin_end": 18.3,
            "bin_start": 15,
            "count": 2
           },
           {
            "bin_end": 21.6,
            "bin_start": 18.3,
            "count": 0
           },
           {
            "bin_end": 24.9,
            "bin_start": 21.6,
            "count": 0
           },
           {
            "bin_end": 28.2,
            "bin_start": 24.9,
            "count": 0
           },
           {
            "bin_end": 31.5,
            "bin_start": 28.2,
            "count": 0
           },
           {
            "bin_end": 34.8,
            "bin_start": 31.5,
            "count": 0
           },
           {
            "bin_end": 38.099999999999994,
            "bin_start": 34.8,
            "count": 0
           },
           {
            "bin_end": 41.4,
            "bin_start": 38.099999999999994,
            "count": 0
           },
           {
            "bin_end": 44.7,
            "bin_start": 41.4,
            "count": 1
           },
           {
            "bin_end": 48,
            "bin_start": 44.7,
            "count": 1
           }
          ],
          "max": "48.0",
          "min": "15.0",
          "nan_count": 313,
          "unique_count": 4
         }
        },
        {
         "dtype": "float64",
         "name": "wk53",
         "stats": {
          "histogram": [
           {
            "bin_end": 20.2,
            "bin_start": 17,
            "count": 2
           },
           {
            "bin_end": 23.4,
            "bin_start": 20.2,
            "count": 0
           },
           {
            "bin_end": 26.6,
            "bin_start": 23.4,
            "count": 0
           },
           {
            "bin_end": 29.8,
            "bin_start": 26.6,
            "count": 0
           },
           {
            "bin_end": 33,
            "bin_start": 29.8,
            "count": 0
           },
           {
            "bin_end": 36.2,
            "bin_start": 33,
            "count": 0
           },
           {
            "bin_end": 39.400000000000006,
            "bin_start": 36.2,
            "count": 0
           },
           {
            "bin_end": 42.6,
            "bin_start": 39.400000000000006,
            "count": 0
           },
           {
            "bin_end": 45.8,
            "bin_start": 42.6,
            "count": 0
           },
           {
            "bin_end": 49,
            "bin_start": 45.8,
            "count": 2
           }
          ],
          "max": "49.0",
          "min": "17.0",
          "nan_count": 313,
          "unique_count": 4
         }
        },
        {
         "dtype": "float64",
         "name": "wk54",
         "stats": {
          "histogram": [
           {
            "bin_end": 17.5,
            "bin_start": 17,
            "count": 1
           },
           {
            "bin_end": 18,
            "bin_start": 17.5,
            "count": 0
           },
           {
            "bin_end": 18.5,
            "bin_start": 18,
            "count": 0
           },
           {
            "bin_end": 19,
            "bin_start": 18.5,
            "count": 0
           },
           {
            "bin_end": 19.5,
            "bin_start": 19,
            "count": 0
           },
           {
            "bin_end": 20,
            "bin_start": 19.5,
            "count": 0
           },
           {
            "bin_end": 20.5,
            "bin_start": 20,
            "count": 0
           },
           {
            "bin_end": 21,
            "bin_start": 20.5,
            "count": 0
           },
           {
            "bin_end": 21.5,
            "bin_start": 21,
            "count": 0
           },
           {
            "bin_end": 22,
            "bin_start": 21.5,
            "count": 1
           }
          ],
          "max": "22.0",
          "min": "17.0",
          "nan_count": 315,
          "unique_count": 2
         }
        },
        {
         "dtype": "float64",
         "name": "wk55",
         "stats": {
          "histogram": [
           {
            "bin_end": 21.1,
            "bin_start": 21,
            "count": 1
           },
           {
            "bin_end": 21.2,
            "bin_start": 21.1,
            "count": 0
           },
           {
            "bin_end": 21.3,
            "bin_start": 21.2,
            "count": 0
           },
           {
            "bin_end": 21.4,
            "bin_start": 21.3,
            "count": 0
           },
           {
            "bin_end": 21.5,
            "bin_start": 21.4,
            "count": 0
           },
           {
            "bin_end": 21.6,
            "bin_start": 21.5,
            "count": 0
           },
           {
            "bin_end": 21.7,
            "bin_start": 21.6,
            "count": 0
           },
           {
            "bin_end": 21.8,
            "bin_start": 21.7,
            "count": 0
           },
           {
            "bin_end": 21.9,
            "bin_start": 21.8,
            "count": 0
           },
           {
            "bin_end": 22,
            "bin_start": 21.9,
            "count": 1
           }
          ],
          "max": "22.0",
          "min": "21.0",
          "nan_count": 315,
          "unique_count": 2
         }
        },
        {
         "dtype": "float64",
         "name": "wk56",
         "stats": {
          "histogram": [
           {
            "bin_end": 25.1,
            "bin_start": 25,
            "count": 1
           },
           {
            "bin_end": 25.2,
            "bin_start": 25.1,
            "count": 0
           },
           {
            "bin_end": 25.3,
            "bin_start": 25.2,
            "count": 0
           },
           {
            "bin_end": 25.4,
            "bin_start": 25.3,
            "count": 0
           },
           {
            "bin_end": 25.5,
            "bin_start": 25.4,
            "count": 0
           },
           {
            "bin_end": 25.6,
            "bin_start": 25.5,
            "count": 0
           },
           {
            "bin_end": 25.7,
            "bin_start": 25.6,
            "count": 0
           },
           {
            "bin_end": 25.8,
            "bin_start": 25.7,
            "count": 0
           },
           {
            "bin_end": 25.9,
            "bin_start": 25.8,
            "count": 0
           },
           {
            "bin_end": 26,
            "bin_start": 25.9,
            "count": 1
           }
          ],
          "max": "26.0",
          "min": "25.0",
          "nan_count": 315,
          "unique_count": 2
         }
        },
        {
         "dtype": "float64",
         "name": "wk57",
         "stats": {
          "histogram": [
           {
            "bin_end": 26.3,
            "bin_start": 26,
            "count": 1
           },
           {
            "bin_end": 26.6,
            "bin_start": 26.3,
            "count": 0
           },
           {
            "bin_end": 26.9,
            "bin_start": 26.6,
            "count": 0
           },
           {
            "bin_end": 27.2,
            "bin_start": 26.9,
            "count": 0
           },
           {
            "bin_end": 27.5,
            "bin_start": 27.2,
            "count": 0
           },
           {
            "bin_end": 27.8,
            "bin_start": 27.5,
            "count": 0
           },
           {
            "bin_end": 28.1,
            "bin_start": 27.8,
            "count": 0
           },
           {
            "bin_end": 28.4,
            "bin_start": 28.1,
            "count": 0
           },
           {
            "bin_end": 28.7,
            "bin_start": 28.4,
            "count": 0
           },
           {
            "bin_end": 29,
            "bin_start": 28.7,
            "count": 1
           }
          ],
          "max": "29.0",
          "min": "26.0",
          "nan_count": 315,
          "unique_count": 2
         }
        },
        {
         "dtype": "float64",
         "name": "wk58",
         "stats": {
          "histogram": [
           {
            "bin_end": 31.1,
            "bin_start": 31,
            "count": 1
           },
           {
            "bin_end": 31.2,
            "bin_start": 31.1,
            "count": 0
           },
           {
            "bin_end": 31.3,
            "bin_start": 31.2,
            "count": 0
           },
           {
            "bin_end": 31.4,
            "bin_start": 31.3,
            "count": 0
           },
           {
            "bin_end": 31.5,
            "bin_start": 31.4,
            "count": 0
           },
           {
            "bin_end": 31.6,
            "bin_start": 31.5,
            "count": 0
           },
           {
            "bin_end": 31.7,
            "bin_start": 31.6,
            "count": 0
           },
           {
            "bin_end": 31.8,
            "bin_start": 31.7,
            "count": 0
           },
           {
            "bin_end": 31.9,
            "bin_start": 31.8,
            "count": 0
           },
           {
            "bin_end": 32,
            "bin_start": 31.9,
            "count": 1
           }
          ],
          "max": "32.0",
          "min": "31.0",
          "nan_count": 315,
          "unique_count": 2
         }
        },
        {
         "dtype": "float64",
         "name": "wk59",
         "stats": {
          "histogram": [
           {
            "bin_end": 32.7,
            "bin_start": 32,
            "count": 1
           },
           {
            "bin_end": 33.4,
            "bin_start": 32.7,
            "count": 0
           },
           {
            "bin_end": 34.1,
            "bin_start": 33.4,
            "count": 0
           },
           {
            "bin_end": 34.8,
            "bin_start": 34.1,
            "count": 0
           },
           {
            "bin_end": 35.5,
            "bin_start": 34.8,
            "count": 0
           },
           {
            "bin_end": 36.2,
            "bin_start": 35.5,
            "count": 0
           },
           {
            "bin_end": 36.9,
            "bin_start": 36.2,
            "count": 0
           },
           {
            "bin_end": 37.6,
            "bin_start": 36.9,
            "count": 0
           },
           {
            "bin_end": 38.3,
            "bin_start": 37.6,
            "count": 0
           },
           {
            "bin_end": 39,
            "bin_start": 38.3,
            "count": 1
           }
          ],
          "max": "39.0",
          "min": "32.0",
          "nan_count": 315,
          "unique_count": 2
         }
        },
        {
         "dtype": "float64",
         "name": "wk60",
         "stats": {
          "histogram": [
           {
            "bin_end": 37.2,
            "bin_start": 37,
            "count": 1
           },
           {
            "bin_end": 37.4,
            "bin_start": 37.2,
            "count": 0
           },
           {
            "bin_end": 37.6,
            "bin_start": 37.4,
            "count": 0
           },
           {
            "bin_end": 37.8,
            "bin_start": 37.6,
            "count": 0
           },
           {
            "bin_end": 38,
            "bin_start": 37.8,
            "count": 0
           },
           {
            "bin_end": 38.2,
            "bin_start": 38,
            "count": 0
           },
           {
            "bin_end": 38.4,
            "bin_start": 38.2,
            "count": 0
           },
           {
            "bin_end": 38.6,
            "bin_start": 38.4,
            "count": 0
           },
           {
            "bin_end": 38.8,
            "bin_start": 38.6,
            "count": 0
           },
           {
            "bin_end": 39,
            "bin_start": 38.8,
            "count": 1
           }
          ],
          "max": "39.0",
          "min": "37.0",
          "nan_count": 315,
          "unique_count": 2
         }
        },
        {
         "dtype": "float64",
         "name": "wk61",
         "stats": {
          "histogram": [
           {
            "bin_end": 42.1,
            "bin_start": 42,
            "count": 1
           },
           {
            "bin_end": 42.2,
            "bin_start": 42.1,
            "count": 0
           },
           {
            "bin_end": 42.3,
            "bin_start": 42.2,
            "count": 0
           },
           {
            "bin_end": 42.4,
            "bin_start": 42.3,
            "count": 0
           },
           {
            "bin_end": 42.5,
            "bin_start": 42.4,
            "count": 0
           },
           {
            "bin_end": 42.6,
            "bin_start": 42.5,
            "count": 0
           },
           {
            "bin_end": 42.7,
            "bin_start": 42.6,
            "count": 0
           },
           {
            "bin_end": 42.8,
            "bin_start": 42.7,
            "count": 0
           },
           {
            "bin_end": 42.9,
            "bin_start": 42.8,
            "count": 0
           },
           {
            "bin_end": 43,
            "bin_start": 42.9,
            "count": 1
           }
          ],
          "max": "43.0",
          "min": "42.0",
          "nan_count": 315,
          "unique_count": 2
         }
        },
        {
         "dtype": "float64",
         "name": "wk62",
         "stats": {
          "histogram": [
           {
            "bin_end": 42.5,
            "bin_start": 42,
            "count": 1
           },
           {
            "bin_end": 43,
            "bin_start": 42.5,
            "count": 0
           },
           {
            "bin_end": 43.5,
            "bin_start": 43,
            "count": 0
           },
           {
            "bin_end": 44,
            "bin_start": 43.5,
            "count": 0
           },
           {
            "bin_end": 44.5,
            "bin_start": 44,
            "count": 0
           },
           {
            "bin_end": 45,
            "bin_start": 44.5,
            "count": 0
           },
           {
            "bin_end": 45.5,
            "bin_start": 45,
            "count": 0
           },
           {
            "bin_end": 46,
            "bin_start": 45.5,
            "count": 0
           },
           {
            "bin_end": 46.5,
            "bin_start": 46,
            "count": 0
           },
           {
            "bin_end": 47,
            "bin_start": 46.5,
            "count": 1
           }
          ],
          "max": "47.0",
          "min": "42.0",
          "nan_count": 315,
          "unique_count": 2
         }
        },
        {
         "dtype": "float64",
         "name": "wk63",
         "stats": {
          "histogram": [
           {
            "bin_end": 45.5,
            "bin_start": 45,
            "count": 1
           },
           {
            "bin_end": 46,
            "bin_start": 45.5,
            "count": 0
           },
           {
            "bin_end": 46.5,
            "bin_start": 46,
            "count": 0
           },
           {
            "bin_end": 47,
            "bin_start": 46.5,
            "count": 0
           },
           {
            "bin_end": 47.5,
            "bin_start": 47,
            "count": 0
           },
           {
            "bin_end": 48,
            "bin_start": 47.5,
            "count": 0
           },
           {
            "bin_end": 48.5,
            "bin_start": 48,
            "count": 0
           },
           {
            "bin_end": 49,
            "bin_start": 48.5,
            "count": 0
           },
           {
            "bin_end": 49.5,
            "bin_start": 49,
            "count": 0
           },
           {
            "bin_end": 50,
            "bin_start": 49.5,
            "count": 1
           }
          ],
          "max": "50.0",
          "min": "45.0",
          "nan_count": 315,
          "unique_count": 2
         }
        },
        {
         "dtype": "float64",
         "name": "wk64",
         "stats": {
          "histogram": [
           {
            "bin_end": 49.6,
            "bin_start": 49.5,
            "count": 0
           },
           {
            "bin_end": 49.7,
            "bin_start": 49.6,
            "count": 0
           },
           {
            "bin_end": 49.8,
            "bin_start": 49.7,
            "count": 0
           },
           {
            "bin_end": 49.9,
            "bin_start": 49.8,
            "count": 0
           },
           {
            "bin_end": 50,
            "bin_start": 49.9,
            "count": 0
           },
           {
            "bin_end": 50.1,
            "bin_start": 50,
            "count": 2
           },
           {
            "bin_end": 50.2,
            "bin_start": 50.1,
            "count": 0
           },
           {
            "bin_end": 50.3,
            "bin_start": 50.2,
            "count": 0
           },
           {
            "bin_end": 50.4,
            "bin_start": 50.3,
            "count": 0
           },
           {
            "bin_end": 50.5,
            "bin_start": 50.4,
            "count": 0
           }
          ],
          "max": "50.0",
          "min": "50.0",
          "nan_count": 315,
          "unique_count": 1
         }
        },
        {
         "dtype": "float64",
         "name": "wk65",
         "stats": {
          "histogram": [
           {
            "bin_end": 48.6,
            "bin_start": 48.5,
            "count": 0
           },
           {
            "bin_end": 48.7,
            "bin_start": 48.6,
            "count": 0
           },
           {
            "bin_end": 48.8,
            "bin_start": 48.7,
            "count": 0
           },
           {
            "bin_end": 48.9,
            "bin_start": 48.8,
            "count": 0
           },
           {
            "bin_end": 49,
            "bin_start": 48.9,
            "count": 0
           },
           {
            "bin_end": 49.1,
            "bin_start": 49,
            "count": 1
           },
           {
            "bin_end": 49.2,
            "bin_start": 49.1,
            "count": 0
           },
           {
            "bin_end": 49.3,
            "bin_start": 49.2,
            "count": 0
           },
           {
            "bin_end": 49.4,
            "bin_start": 49.3,
            "count": 0
           },
           {
            "bin_end": 49.5,
            "bin_start": 49.4,
            "count": 0
           }
          ],
          "max": "49.0",
          "min": "49.0",
          "nan_count": 316,
          "unique_count": 1
         }
        },
        {
         "dtype": "float64",
         "name": "wk66",
         "stats": {
          "histogram": [
           {
            "bin_end": 0.1,
            "bin_start": 0,
            "count": 0
           },
           {
            "bin_end": 0.2,
            "bin_start": 0.1,
            "count": 0
           },
           {
            "bin_end": 0.30000000000000004,
            "bin_start": 0.2,
            "count": 0
           },
           {
            "bin_end": 0.4,
            "bin_start": 0.30000000000000004,
            "count": 0
           },
           {
            "bin_end": 0.5,
            "bin_start": 0.4,
            "count": 0
           },
           {
            "bin_end": 0.6000000000000001,
            "bin_start": 0.5,
            "count": 0
           },
           {
            "bin_end": 0.7000000000000001,
            "bin_start": 0.6000000000000001,
            "count": 0
           },
           {
            "bin_end": 0.8,
            "bin_start": 0.7000000000000001,
            "count": 0
           },
           {
            "bin_end": 0.9,
            "bin_start": 0.8,
            "count": 0
           },
           {
            "bin_end": 1,
            "bin_start": 0.9,
            "count": 0
           }
          ],
          "max": null,
          "min": null,
          "nan_count": 317,
          "unique_count": 0
         }
        },
        {
         "dtype": "float64",
         "name": "wk67",
         "stats": {
          "histogram": [
           {
            "bin_end": 0.1,
            "bin_start": 0,
            "count": 0
           },
           {
            "bin_end": 0.2,
            "bin_start": 0.1,
            "count": 0
           },
           {
            "bin_end": 0.30000000000000004,
            "bin_start": 0.2,
            "count": 0
           },
           {
            "bin_end": 0.4,
            "bin_start": 0.30000000000000004,
            "count": 0
           },
           {
            "bin_end": 0.5,
            "bin_start": 0.4,
            "count": 0
           },
           {
            "bin_end": 0.6000000000000001,
            "bin_start": 0.5,
            "count": 0
           },
           {
            "bin_end": 0.7000000000000001,
            "bin_start": 0.6000000000000001,
            "count": 0
           },
           {
            "bin_end": 0.8,
            "bin_start": 0.7000000000000001,
            "count": 0
           },
           {
            "bin_end": 0.9,
            "bin_start": 0.8,
            "count": 0
           },
           {
            "bin_end": 1,
            "bin_start": 0.9,
            "count": 0
           }
          ],
          "max": null,
          "min": null,
          "nan_count": 317,
          "unique_count": 0
         }
        },
        {
         "dtype": "float64",
         "name": "wk68",
         "stats": {
          "histogram": [
           {
            "bin_end": 0.1,
            "bin_start": 0,
            "count": 0
           },
           {
            "bin_end": 0.2,
            "bin_start": 0.1,
            "count": 0
           },
           {
            "bin_end": 0.30000000000000004,
            "bin_start": 0.2,
            "count": 0
           },
           {
            "bin_end": 0.4,
            "bin_start": 0.30000000000000004,
            "count": 0
           },
           {
            "bin_end": 0.5,
            "bin_start": 0.4,
            "count": 0
           },
           {
            "bin_end": 0.6000000000000001,
            "bin_start": 0.5,
            "count": 0
           },
           {
            "bin_end": 0.7000000000000001,
            "bin_start": 0.6000000000000001,
            "count": 0
           },
           {
            "bin_end": 0.8,
            "bin_start": 0.7000000000000001,
            "count": 0
           },
           {
            "bin_end": 0.9,
            "bin_start": 0.8,
            "count": 0
           },
           {
            "bin_end": 1,
            "bin_start": 0.9,
            "count": 0
           }
          ],
          "max": null,
          "min": null,
          "nan_count": 317,
          "unique_count": 0
         }
        },
        {
         "dtype": "float64",
         "name": "wk69",
         "stats": {
          "histogram": [
           {
            "bin_end": 0.1,
            "bin_start": 0,
            "count": 0
           },
           {
            "bin_end": 0.2,
            "bin_start": 0.1,
            "count": 0
           },
           {
            "bin_end": 0.30000000000000004,
            "bin_start": 0.2,
            "count": 0
           },
           {
            "bin_end": 0.4,
            "bin_start": 0.30000000000000004,
            "count": 0
           },
           {
            "bin_end": 0.5,
            "bin_start": 0.4,
            "count": 0
           },
           {
            "bin_end": 0.6000000000000001,
            "bin_start": 0.5,
            "count": 0
           },
           {
            "bin_end": 0.7000000000000001,
            "bin_start": 0.6000000000000001,
            "count": 0
           },
           {
            "bin_end": 0.8,
            "bin_start": 0.7000000000000001,
            "count": 0
           },
           {
            "bin_end": 0.9,
            "bin_start": 0.8,
            "count": 0
           },
           {
            "bin_end": 1,
            "bin_start": 0.9,
            "count": 0
           }
          ],
          "max": null,
          "min": null,
          "nan_count": 317,
          "unique_count": 0
         }
        },
        {
         "dtype": "float64",
         "name": "wk70",
         "stats": {
          "histogram": [
           {
            "bin_end": 0.1,
            "bin_start": 0,
            "count": 0
           },
           {
            "bin_end": 0.2,
            "bin_start": 0.1,
            "count": 0
           },
           {
            "bin_end": 0.30000000000000004,
            "bin_start": 0.2,
            "count": 0
           },
           {
            "bin_end": 0.4,
            "bin_start": 0.30000000000000004,
            "count": 0
           },
           {
            "bin_end": 0.5,
            "bin_start": 0.4,
            "count": 0
           },
           {
            "bin_end": 0.6000000000000001,
            "bin_start": 0.5,
            "count": 0
           },
           {
            "bin_end": 0.7000000000000001,
            "bin_start": 0.6000000000000001,
            "count": 0
           },
           {
            "bin_end": 0.8,
            "bin_start": 0.7000000000000001,
            "count": 0
           },
           {
            "bin_end": 0.9,
            "bin_start": 0.8,
            "count": 0
           },
           {
            "bin_end": 1,
            "bin_start": 0.9,
            "count": 0
           }
          ],
          "max": null,
          "min": null,
          "nan_count": 317,
          "unique_count": 0
         }
        },
        {
         "dtype": "float64",
         "name": "wk71",
         "stats": {
          "histogram": [
           {
            "bin_end": 0.1,
            "bin_start": 0,
            "count": 0
           },
           {
            "bin_end": 0.2,
            "bin_start": 0.1,
            "count": 0
           },
           {
            "bin_end": 0.30000000000000004,
            "bin_start": 0.2,
            "count": 0
           },
           {
            "bin_end": 0.4,
            "bin_start": 0.30000000000000004,
            "count": 0
           },
           {
            "bin_end": 0.5,
            "bin_start": 0.4,
            "count": 0
           },
           {
            "bin_end": 0.6000000000000001,
            "bin_start": 0.5,
            "count": 0
           },
           {
            "bin_end": 0.7000000000000001,
            "bin_start": 0.6000000000000001,
            "count": 0
           },
           {
            "bin_end": 0.8,
            "bin_start": 0.7000000000000001,
            "count": 0
           },
           {
            "bin_end": 0.9,
            "bin_start": 0.8,
            "count": 0
           },
           {
            "bin_end": 1,
            "bin_start": 0.9,
            "count": 0
           }
          ],
          "max": null,
          "min": null,
          "nan_count": 317,
          "unique_count": 0
         }
        },
        {
         "dtype": "float64",
         "name": "wk72",
         "stats": {
          "histogram": [
           {
            "bin_end": 0.1,
            "bin_start": 0,
            "count": 0
           },
           {
            "bin_end": 0.2,
            "bin_start": 0.1,
            "count": 0
           },
           {
            "bin_end": 0.30000000000000004,
            "bin_start": 0.2,
            "count": 0
           },
           {
            "bin_end": 0.4,
            "bin_start": 0.30000000000000004,
            "count": 0
           },
           {
            "bin_end": 0.5,
            "bin_start": 0.4,
            "count": 0
           },
           {
            "bin_end": 0.6000000000000001,
            "bin_start": 0.5,
            "count": 0
           },
           {
            "bin_end": 0.7000000000000001,
            "bin_start": 0.6000000000000001,
            "count": 0
           },
           {
            "bin_end": 0.8,
            "bin_start": 0.7000000000000001,
            "count": 0
           },
           {
            "bin_end": 0.9,
            "bin_start": 0.8,
            "count": 0
           },
           {
            "bin_end": 1,
            "bin_start": 0.9,
            "count": 0
           }
          ],
          "max": null,
          "min": null,
          "nan_count": 317,
          "unique_count": 0
         }
        },
        {
         "dtype": "float64",
         "name": "wk73",
         "stats": {
          "histogram": [
           {
            "bin_end": 0.1,
            "bin_start": 0,
            "count": 0
           },
           {
            "bin_end": 0.2,
            "bin_start": 0.1,
            "count": 0
           },
           {
            "bin_end": 0.30000000000000004,
            "bin_start": 0.2,
            "count": 0
           },
           {
            "bin_end": 0.4,
            "bin_start": 0.30000000000000004,
            "count": 0
           },
           {
            "bin_end": 0.5,
            "bin_start": 0.4,
            "count": 0
           },
           {
            "bin_end": 0.6000000000000001,
            "bin_start": 0.5,
            "count": 0
           },
           {
            "bin_end": 0.7000000000000001,
            "bin_start": 0.6000000000000001,
            "count": 0
           },
           {
            "bin_end": 0.8,
            "bin_start": 0.7000000000000001,
            "count": 0
           },
           {
            "bin_end": 0.9,
            "bin_start": 0.8,
            "count": 0
           },
           {
            "bin_end": 1,
            "bin_start": 0.9,
            "count": 0
           }
          ],
          "max": null,
          "min": null,
          "nan_count": 317,
          "unique_count": 0
         }
        },
        {
         "dtype": "float64",
         "name": "wk74",
         "stats": {
          "histogram": [
           {
            "bin_end": 0.1,
            "bin_start": 0,
            "count": 0
           },
           {
            "bin_end": 0.2,
            "bin_start": 0.1,
            "count": 0
           },
           {
            "bin_end": 0.30000000000000004,
            "bin_start": 0.2,
            "count": 0
           },
           {
            "bin_end": 0.4,
            "bin_start": 0.30000000000000004,
            "count": 0
           },
           {
            "bin_end": 0.5,
            "bin_start": 0.4,
            "count": 0
           },
           {
            "bin_end": 0.6000000000000001,
            "bin_start": 0.5,
            "count": 0
           },
           {
            "bin_end": 0.7000000000000001,
            "bin_start": 0.6000000000000001,
            "count": 0
           },
           {
            "bin_end": 0.8,
            "bin_start": 0.7000000000000001,
            "count": 0
           },
           {
            "bin_end": 0.9,
            "bin_start": 0.8,
            "count": 0
           },
           {
            "bin_end": 1,
            "bin_start": 0.9,
            "count": 0
           }
          ],
          "max": null,
          "min": null,
          "nan_count": 317,
          "unique_count": 0
         }
        },
        {
         "dtype": "float64",
         "name": "wk75",
         "stats": {
          "histogram": [
           {
            "bin_end": 0.1,
            "bin_start": 0,
            "count": 0
           },
           {
            "bin_end": 0.2,
            "bin_start": 0.1,
            "count": 0
           },
           {
            "bin_end": 0.30000000000000004,
            "bin_start": 0.2,
            "count": 0
           },
           {
            "bin_end": 0.4,
            "bin_start": 0.30000000000000004,
            "count": 0
           },
           {
            "bin_end": 0.5,
            "bin_start": 0.4,
            "count": 0
           },
           {
            "bin_end": 0.6000000000000001,
            "bin_start": 0.5,
            "count": 0
           },
           {
            "bin_end": 0.7000000000000001,
            "bin_start": 0.6000000000000001,
            "count": 0
           },
           {
            "bin_end": 0.8,
            "bin_start": 0.7000000000000001,
            "count": 0
           },
           {
            "bin_end": 0.9,
            "bin_start": 0.8,
            "count": 0
           },
           {
            "bin_end": 1,
            "bin_start": 0.9,
            "count": 0
           }
          ],
          "max": null,
          "min": null,
          "nan_count": 317,
          "unique_count": 0
         }
        },
        {
         "dtype": "float64",
         "name": "wk76",
         "stats": {
          "histogram": [
           {
            "bin_end": 0.1,
            "bin_start": 0,
            "count": 0
           },
           {
            "bin_end": 0.2,
            "bin_start": 0.1,
            "count": 0
           },
           {
            "bin_end": 0.30000000000000004,
            "bin_start": 0.2,
            "count": 0
           },
           {
            "bin_end": 0.4,
            "bin_start": 0.30000000000000004,
            "count": 0
           },
           {
            "bin_end": 0.5,
            "bin_start": 0.4,
            "count": 0
           },
           {
            "bin_end": 0.6000000000000001,
            "bin_start": 0.5,
            "count": 0
           },
           {
            "bin_end": 0.7000000000000001,
            "bin_start": 0.6000000000000001,
            "count": 0
           },
           {
            "bin_end": 0.8,
            "bin_start": 0.7000000000000001,
            "count": 0
           },
           {
            "bin_end": 0.9,
            "bin_start": 0.8,
            "count": 0
           },
           {
            "bin_end": 1,
            "bin_start": 0.9,
            "count": 0
           }
          ],
          "max": null,
          "min": null,
          "nan_count": 317,
          "unique_count": 0
         }
        },
        {
         "dtype": "int64",
         "name": "_deepnote_index_column"
        }
       ],
       "row_count": 317,
       "rows_bottom": [
        {
         "_deepnote_index_column": 311,
         "artist": "Wright, Chely",
         "date.entered": "2000-03-04",
         "time": "3:51",
         "track": "It Was",
         "wk1": 86,
         "wk10": "98.0",
         "wk11": "nan",
         "wk12": "nan",
         "wk13": "nan",
         "wk14": "nan",
         "wk15": "nan",
         "wk16": "nan",
         "wk17": "nan",
         "wk18": "nan",
         "wk19": "nan",
         "wk2": 78,
         "wk20": "nan",
         "wk21": "nan",
         "wk22": "nan",
         "wk23": "nan",
         "wk24": "nan",
         "wk25": "nan",
         "wk26": "nan",
         "wk27": "nan",
         "wk28": "nan",
         "wk29": "nan",
         "wk3": "75.0",
         "wk30": "nan",
         "wk31": "nan",
         "wk32": "nan",
         "wk33": "nan",
         "wk34": "nan",
         "wk35": "nan",
         "wk36": "nan",
         "wk37": "nan",
         "wk38": "nan",
         "wk39": "nan",
         "wk4": "72.0",
         "wk40": "nan",
         "wk41": "nan",
         "wk42": "nan",
         "wk43": "nan",
         "wk44": "nan",
         "wk45": "nan",
         "wk46": "nan",
         "wk47": "nan",
         "wk48": "nan",
         "wk49": "nan",
         "wk5": "71.0",
         "wk50": "nan",
         "wk51": "nan",
         "wk52": "nan",
         "wk53": "nan",
         "wk54": "nan",
         "wk55": "nan",
         "wk56": "nan",
         "wk57": "nan",
         "wk58": "nan",
         "wk59": "nan",
         "wk6": "69.0",
         "wk60": "nan",
         "wk61": "nan",
         "wk62": "nan",
         "wk63": "nan",
         "wk64": "nan",
         "wk65": "nan",
         "wk66": "nan",
         "wk67": "nan",
         "wk68": "nan",
         "wk69": "nan",
         "wk7": "64.0",
         "wk70": "nan",
         "wk71": "nan",
         "wk72": "nan",
         "wk73": "nan",
         "wk74": "nan",
         "wk75": "nan",
         "wk76": "nan",
         "wk8": "75.0",
         "wk9": "85.0",
         "year": 2000
        },
        {
         "_deepnote_index_column": 312,
         "artist": "Yankee Grey",
         "date.entered": "2000-04-29",
         "time": "3:10",
         "track": "Another Nine Minutes",
         "wk1": 86,
         "wk10": "nan",
         "wk11": "nan",
         "wk12": "nan",
         "wk13": "nan",
         "wk14": "nan",
         "wk15": "nan",
         "wk16": "nan",
         "wk17": "nan",
         "wk18": "nan",
         "wk19": "nan",
         "wk2": 83,
         "wk20": "nan",
         "wk21": "nan",
         "wk22": "nan",
         "wk23": "nan",
         "wk24": "nan",
         "wk25": "nan",
         "wk26": "nan",
         "wk27": "nan",
         "wk28": "nan",
         "wk29": "nan",
         "wk3": "77.0",
         "wk30": "nan",
         "wk31": "nan",
         "wk32": "nan",
         "wk33": "nan",
         "wk34": "nan",
         "wk35": "nan",
         "wk36": "nan",
         "wk37": "nan",
         "wk38": "nan",
         "wk39": "nan",
         "wk4": "74.0",
         "wk40": "nan",
         "wk41": "nan",
         "wk42": "nan",
         "wk43": "nan",
         "wk44": "nan",
         "wk45": "nan",
         "wk46": "nan",
         "wk47": "nan",
         "wk48": "nan",
         "wk49": "nan",
         "wk5": "83.0",
         "wk50": "nan",
         "wk51": "nan",
         "wk52": "nan",
         "wk53": "nan",
         "wk54": "nan",
         "wk55": "nan",
         "wk56": "nan",
         "wk57": "nan",
         "wk58": "nan",
         "wk59": "nan",
         "wk6": "79.0",
         "wk60": "nan",
         "wk61": "nan",
         "wk62": "nan",
         "wk63": "nan",
         "wk64": "nan",
         "wk65": "nan",
         "wk66": "nan",
         "wk67": "nan",
         "wk68": "nan",
         "wk69": "nan",
         "wk7": "88.0",
         "wk70": "nan",
         "wk71": "nan",
         "wk72": "nan",
         "wk73": "nan",
         "wk74": "nan",
         "wk75": "nan",
         "wk76": "nan",
         "wk8": "95.0",
         "wk9": "nan",
         "year": 2000
        },
        {
         "_deepnote_index_column": 313,
         "artist": "Yearwood, Trisha",
         "date.entered": "2000-04-01",
         "time": "3:55",
         "track": "Real Live Woman",
         "wk1": 85,
         "wk10": "nan",
         "wk11": "nan",
         "wk12": "nan",
         "wk13": "nan",
         "wk14": "nan",
         "wk15": "nan",
         "wk16": "nan",
         "wk17": "nan",
         "wk18": "nan",
         "wk19": "nan",
         "wk2": 83,
         "wk20": "nan",
         "wk21": "nan",
         "wk22": "nan",
         "wk23": "nan",
         "wk24": "nan",
         "wk25": "nan",
         "wk26": "nan",
         "wk27": "nan",
         "wk28": "nan",
         "wk29": "nan",
         "wk3": "83.0",
         "wk30": "nan",
         "wk31": "nan",
         "wk32": "nan",
         "wk33": "nan",
         "wk34": "nan",
         "wk35": "nan",
         "wk36": "nan",
         "wk37": "nan",
         "wk38": "nan",
         "wk39": "nan",
         "wk4": "82.0",
         "wk40": "nan",
         "wk41": "nan",
         "wk42": "nan",
         "wk43": "nan",
         "wk44": "nan",
         "wk45": "nan",
         "wk46": "nan",
         "wk47": "nan",
         "wk48": "nan",
         "wk49": "nan",
         "wk5": "81.0",
         "wk50": "nan",
         "wk51": "nan",
         "wk52": "nan",
         "wk53": "nan",
         "wk54": "nan",
         "wk55": "nan",
         "wk56": "nan",
         "wk57": "nan",
         "wk58": "nan",
         "wk59": "nan",
         "wk6": "91.0",
         "wk60": "nan",
         "wk61": "nan",
         "wk62": "nan",
         "wk63": "nan",
         "wk64": "nan",
         "wk65": "nan",
         "wk66": "nan",
         "wk67": "nan",
         "wk68": "nan",
         "wk69": "nan",
         "wk7": "nan",
         "wk70": "nan",
         "wk71": "nan",
         "wk72": "nan",
         "wk73": "nan",
         "wk74": "nan",
         "wk75": "nan",
         "wk76": "nan",
         "wk8": "nan",
         "wk9": "nan",
         "year": 2000
        },
        {
         "_deepnote_index_column": 314,
         "artist": "Ying Yang Twins",
         "date.entered": "2000-03-18",
         "time": "4:19",
         "track": "Whistle While You Tw...",
         "wk1": 95,
         "wk10": "89.0",
         "wk11": "97.0",
         "wk12": "96.0",
         "wk13": "99.0",
         "wk14": "99.0",
         "wk15": "nan",
         "wk16": "nan",
         "wk17": "nan",
         "wk18": "nan",
         "wk19": "nan",
         "wk2": 94,
         "wk20": "nan",
         "wk21": "nan",
         "wk22": "nan",
         "wk23": "nan",
         "wk24": "nan",
         "wk25": "nan",
         "wk26": "nan",
         "wk27": "nan",
         "wk28": "nan",
         "wk29": "nan",
         "wk3": "91.0",
         "wk30": "nan",
         "wk31": "nan",
         "wk32": "nan",
         "wk33": "nan",
         "wk34": "nan",
         "wk35": "nan",
         "wk36": "nan",
         "wk37": "nan",
         "wk38": "nan",
         "wk39": "nan",
         "wk4": "85.0",
         "wk40": "nan",
         "wk41": "nan",
         "wk42": "nan",
         "wk43": "nan",
         "wk44": "nan",
         "wk45": "nan",
         "wk46": "nan",
         "wk47": "nan",
         "wk48": "nan",
         "wk49": "nan",
         "wk5": "84.0",
         "wk50": "nan",
         "wk51": "nan",
         "wk52": "nan",
         "wk53": "nan",
         "wk54": "nan",
         "wk55": "nan",
         "wk56": "nan",
         "wk57": "nan",
         "wk58": "nan",
         "wk59": "nan",
         "wk6": "78.0",
         "wk60": "nan",
         "wk61": "nan",
         "wk62": "nan",
         "wk63": "nan",
         "wk64": "nan",
         "wk65": "nan",
         "wk66": "nan",
         "wk67": "nan",
         "wk68": "nan",
         "wk69": "nan",
         "wk7": "74.0",
         "wk70": "nan",
         "wk71": "nan",
         "wk72": "nan",
         "wk73": "nan",
         "wk74": "nan",
         "wk75": "nan",
         "wk76": "nan",
         "wk8": "78.0",
         "wk9": "85.0",
         "year": 2000
        },
        {
         "_deepnote_index_column": 315,
         "artist": "Zombie Nation",
         "date.entered": "2000-09-02",
         "time": "3:30",
         "track": "Kernkraft 400",
         "wk1": 99,
         "wk10": "nan",
         "wk11": "nan",
         "wk12": "nan",
         "wk13": "nan",
         "wk14": "nan",
         "wk15": "nan",
         "wk16": "nan",
         "wk17": "nan",
         "wk18": "nan",
         "wk19": "nan",
         "wk2": 99,
         "wk20": "nan",
         "wk21": "nan",
         "wk22": "nan",
         "wk23": "nan",
         "wk24": "nan",
         "wk25": "nan",
         "wk26": "nan",
         "wk27": "nan",
         "wk28": "nan",
         "wk29": "nan",
         "wk3": "nan",
         "wk30": "nan",
         "wk31": "nan",
         "wk32": "nan",
         "wk33": "nan",
         "wk34": "nan",
         "wk35": "nan",
         "wk36": "nan",
         "wk37": "nan",
         "wk38": "nan",
         "wk39": "nan",
         "wk4": "nan",
         "wk40": "nan",
         "wk41": "nan",
         "wk42": "nan",
         "wk43": "nan",
         "wk44": "nan",
         "wk45": "nan",
         "wk46": "nan",
         "wk47": "nan",
         "wk48": "nan",
         "wk49": "nan",
         "wk5": "nan",
         "wk50": "nan",
         "wk51": "nan",
         "wk52": "nan",
         "wk53": "nan",
         "wk54": "nan",
         "wk55": "nan",
         "wk56": "nan",
         "wk57": "nan",
         "wk58": "nan",
         "wk59": "nan",
         "wk6": "nan",
         "wk60": "nan",
         "wk61": "nan",
         "wk62": "nan",
         "wk63": "nan",
         "wk64": "nan",
         "wk65": "nan",
         "wk66": "nan",
         "wk67": "nan",
         "wk68": "nan",
         "wk69": "nan",
         "wk7": "nan",
         "wk70": "nan",
         "wk71": "nan",
         "wk72": "nan",
         "wk73": "nan",
         "wk74": "nan",
         "wk75": "nan",
         "wk76": "nan",
         "wk8": "nan",
         "wk9": "nan",
         "year": 2000
        },
        {
         "_deepnote_index_column": 316,
         "artist": "matchbox twenty",
         "date.entered": "2000-04-29",
         "time": "4:12",
         "track": "Bent",
         "wk1": 60,
         "wk10": "12.0",
         "wk11": "8.0",
         "wk12": "6.0",
         "wk13": "1.0",
         "wk14": "2.0",
         "wk15": "3.0",
         "wk16": "2.0",
         "wk17": "2.0",
         "wk18": "3.0",
         "wk19": "4.0",
         "wk2": 37,
         "wk20": "5.0",
         "wk21": "4.0",
         "wk22": "4.0",
         "wk23": "6.0",
         "wk24": "9.0",
         "wk25": "12.0",
         "wk26": "13.0",
         "wk27": "19.0",
         "wk28": "20.0",
         "wk29": "20.0",
         "wk3": "29.0",
         "wk30": "24.0",
         "wk31": "29.0",
         "wk32": "28.0",
         "wk33": "27.0",
         "wk34": "30.0",
         "wk35": "33.0",
         "wk36": "37.0",
         "wk37": "38.0",
         "wk38": "38.0",
         "wk39": "48.0",
         "wk4": "24.0",
         "wk40": "nan",
         "wk41": "nan",
         "wk42": "nan",
         "wk43": "nan",
         "wk44": "nan",
         "wk45": "nan",
         "wk46": "nan",
         "wk47": "nan",
         "wk48": "nan",
         "wk49": "nan",
         "wk5": "22.0",
         "wk50": "nan",
         "wk51": "nan",
         "wk52": "nan",
         "wk53": "nan",
         "wk54": "nan",
         "wk55": "nan",
         "wk56": "nan",
         "wk57": "nan",
         "wk58": "nan",
         "wk59": "nan",
         "wk6": "21.0",
         "wk60": "nan",
         "wk61": "nan",
         "wk62": "nan",
         "wk63": "nan",
         "wk64": "nan",
         "wk65": "nan",
         "wk66": "nan",
         "wk67": "nan",
         "wk68": "nan",
         "wk69": "nan",
         "wk7": "18.0",
         "wk70": "nan",
         "wk71": "nan",
         "wk72": "nan",
         "wk73": "nan",
         "wk74": "nan",
         "wk75": "nan",
         "wk76": "nan",
         "wk8": "16.0",
         "wk9": "13.0",
         "year": 2000
        }
       ],
       "rows_top": [
        {
         "_deepnote_index_column": 0,
         "artist": "2 Pac",
         "date.entered": "2000-02-26",
         "time": "4:22",
         "track": "Baby Don't Cry (Keep...",
         "wk1": 87,
         "wk10": "nan",
         "wk11": "nan",
         "wk12": "nan",
         "wk13": "nan",
         "wk14": "nan",
         "wk15": "nan",
         "wk16": "nan",
         "wk17": "nan",
         "wk18": "nan",
         "wk19": "nan",
         "wk2": 82,
         "wk20": "nan",
         "wk21": "nan",
         "wk22": "nan",
         "wk23": "nan",
         "wk24": "nan",
         "wk25": "nan",
         "wk26": "nan",
         "wk27": "nan",
         "wk28": "nan",
         "wk29": "nan",
         "wk3": 72,
         "wk30": "nan",
         "wk31": "nan",
         "wk32": "nan",
         "wk33": "nan",
         "wk34": "nan",
         "wk35": "nan",
         "wk36": "nan",
         "wk37": "nan",
         "wk38": "nan",
         "wk39": "nan",
         "wk4": "77.0",
         "wk40": "nan",
         "wk41": "nan",
         "wk42": "nan",
         "wk43": "nan",
         "wk44": "nan",
         "wk45": "nan",
         "wk46": "nan",
         "wk47": "nan",
         "wk48": "nan",
         "wk49": "nan",
         "wk5": "87.0",
         "wk50": "nan",
         "wk51": "nan",
         "wk52": "nan",
         "wk53": "nan",
         "wk54": "nan",
         "wk55": "nan",
         "wk56": "nan",
         "wk57": "nan",
         "wk58": "nan",
         "wk59": "nan",
         "wk6": "94.0",
         "wk60": "nan",
         "wk61": "nan",
         "wk62": "nan",
         "wk63": "nan",
         "wk64": "nan",
         "wk65": "nan",
         "wk66": "nan",
         "wk67": "nan",
         "wk68": "nan",
         "wk69": "nan",
         "wk7": "99.0",
         "wk70": "nan",
         "wk71": "nan",
         "wk72": "nan",
         "wk73": "nan",
         "wk74": "nan",
         "wk75": "nan",
         "wk76": "nan",
         "wk8": "nan",
         "wk9": "nan",
         "year": 2000
        },
        {
         "_deepnote_index_column": 1,
         "artist": "2Ge+her",
         "date.entered": "2000-09-02",
         "time": "3:15",
         "track": "The Hardest Part Of ...",
         "wk1": 91,
         "wk10": "nan",
         "wk11": "nan",
         "wk12": "nan",
         "wk13": "nan",
         "wk14": "nan",
         "wk15": "nan",
         "wk16": "nan",
         "wk17": "nan",
         "wk18": "nan",
         "wk19": "nan",
         "wk2": 87,
         "wk20": "nan",
         "wk21": "nan",
         "wk22": "nan",
         "wk23": "nan",
         "wk24": "nan",
         "wk25": "nan",
         "wk26": "nan",
         "wk27": "nan",
         "wk28": "nan",
         "wk29": "nan",
         "wk3": 92,
         "wk30": "nan",
         "wk31": "nan",
         "wk32": "nan",
         "wk33": "nan",
         "wk34": "nan",
         "wk35": "nan",
         "wk36": "nan",
         "wk37": "nan",
         "wk38": "nan",
         "wk39": "nan",
         "wk4": "nan",
         "wk40": "nan",
         "wk41": "nan",
         "wk42": "nan",
         "wk43": "nan",
         "wk44": "nan",
         "wk45": "nan",
         "wk46": "nan",
         "wk47": "nan",
         "wk48": "nan",
         "wk49": "nan",
         "wk5": "nan",
         "wk50": "nan",
         "wk51": "nan",
         "wk52": "nan",
         "wk53": "nan",
         "wk54": "nan",
         "wk55": "nan",
         "wk56": "nan",
         "wk57": "nan",
         "wk58": "nan",
         "wk59": "nan",
         "wk6": "nan",
         "wk60": "nan",
         "wk61": "nan",
         "wk62": "nan",
         "wk63": "nan",
         "wk64": "nan",
         "wk65": "nan",
         "wk66": "nan",
         "wk67": "nan",
         "wk68": "nan",
         "wk69": "nan",
         "wk7": "nan",
         "wk70": "nan",
         "wk71": "nan",
         "wk72": "nan",
         "wk73": "nan",
         "wk74": "nan",
         "wk75": "nan",
         "wk76": "nan",
         "wk8": "nan",
         "wk9": "nan",
         "year": 2000
        },
        {
         "_deepnote_index_column": 2,
         "artist": "3 Doors Down",
         "date.entered": "2000-04-08",
         "time": "3:53",
         "track": "Kryptonite",
         "wk1": 81,
         "wk10": "51.0",
         "wk11": "51.0",
         "wk12": "51.0",
         "wk13": "47.0",
         "wk14": "44.0",
         "wk15": "38.0",
         "wk16": "28.0",
         "wk17": "22.0",
         "wk18": "18.0",
         "wk19": "18.0",
         "wk2": 70,
         "wk20": "14.0",
         "wk21": "12.0",
         "wk22": "7.0",
         "wk23": "6.0",
         "wk24": "6.0",
         "wk25": "6.0",
         "wk26": "5.0",
         "wk27": "5.0",
         "wk28": "4.0",
         "wk29": "4.0",
         "wk3": 68,
         "wk30": "4.0",
         "wk31": "4.0",
         "wk32": "3.0",
         "wk33": "3.0",
         "wk34": "3.0",
         "wk35": "4.0",
         "wk36": "5.0",
         "wk37": "5.0",
         "wk38": "9.0",
         "wk39": "9.0",
         "wk4": "67.0",
         "wk40": "15.0",
         "wk41": "14.0",
         "wk42": "13.0",
         "wk43": "14.0",
         "wk44": "16.0",
         "wk45": "17.0",
         "wk46": "21.0",
         "wk47": "22.0",
         "wk48": "24.0",
         "wk49": "28.0",
         "wk5": "66.0",
         "wk50": "33.0",
         "wk51": "42.0",
         "wk52": "42.0",
         "wk53": "49.0",
         "wk54": "nan",
         "wk55": "nan",
         "wk56": "nan",
         "wk57": "nan",
         "wk58": "nan",
         "wk59": "nan",
         "wk6": "57.0",
         "wk60": "nan",
         "wk61": "nan",
         "wk62": "nan",
         "wk63": "nan",
         "wk64": "nan",
         "wk65": "nan",
         "wk66": "nan",
         "wk67": "nan",
         "wk68": "nan",
         "wk69": "nan",
         "wk7": "54.0",
         "wk70": "nan",
         "wk71": "nan",
         "wk72": "nan",
         "wk73": "nan",
         "wk74": "nan",
         "wk75": "nan",
         "wk76": "nan",
         "wk8": "53.0",
         "wk9": "51.0",
         "year": 2000
        },
        {
         "_deepnote_index_column": 3,
         "artist": "3 Doors Down",
         "date.entered": "2000-10-21",
         "time": "4:24",
         "track": "Loser",
         "wk1": 76,
         "wk10": "61.0",
         "wk11": "61.0",
         "wk12": "59.0",
         "wk13": "61.0",
         "wk14": "66.0",
         "wk15": "72.0",
         "wk16": "76.0",
         "wk17": "75.0",
         "wk18": "67.0",
         "wk19": "73.0",
         "wk2": 76,
         "wk20": "70.0",
         "wk21": "nan",
         "wk22": "nan",
         "wk23": "nan",
         "wk24": "nan",
         "wk25": "nan",
         "wk26": "nan",
         "wk27": "nan",
         "wk28": "nan",
         "wk29": "nan",
         "wk3": 72,
         "wk30": "nan",
         "wk31": "nan",
         "wk32": "nan",
         "wk33": "nan",
         "wk34": "nan",
         "wk35": "nan",
         "wk36": "nan",
         "wk37": "nan",
         "wk38": "nan",
         "wk39": "nan",
         "wk4": "69.0",
         "wk40": "nan",
         "wk41": "nan",
         "wk42": "nan",
         "wk43": "nan",
         "wk44": "nan",
         "wk45": "nan",
         "wk46": "nan",
         "wk47": "nan",
         "wk48": "nan",
         "wk49": "nan",
         "wk5": "67.0",
         "wk50": "nan",
         "wk51": "nan",
         "wk52": "nan",
         "wk53": "nan",
         "wk54": "nan",
         "wk55": "nan",
         "wk56": "nan",
         "wk57": "nan",
         "wk58": "nan",
         "wk59": "nan",
         "wk6": "65.0",
         "wk60": "nan",
         "wk61": "nan",
         "wk62": "nan",
         "wk63": "nan",
         "wk64": "nan",
         "wk65": "nan",
         "wk66": "nan",
         "wk67": "nan",
         "wk68": "nan",
         "wk69": "nan",
         "wk7": "55.0",
         "wk70": "nan",
         "wk71": "nan",
         "wk72": "nan",
         "wk73": "nan",
         "wk74": "nan",
         "wk75": "nan",
         "wk76": "nan",
         "wk8": "59.0",
         "wk9": "62.0",
         "year": 2000
        },
        {
         "_deepnote_index_column": 4,
         "artist": "504 Boyz",
         "date.entered": "2000-04-15",
         "time": "3:35",
         "track": "Wobble Wobble",
         "wk1": 57,
         "wk10": "57.0",
         "wk11": "64.0",
         "wk12": "70.0",
         "wk13": "75.0",
         "wk14": "76.0",
         "wk15": "78.0",
         "wk16": "85.0",
         "wk17": "92.0",
         "wk18": "96.0",
         "wk19": "nan",
         "wk2": 34,
         "wk20": "nan",
         "wk21": "nan",
         "wk22": "nan",
         "wk23": "nan",
         "wk24": "nan",
         "wk25": "nan",
         "wk26": "nan",
         "wk27": "nan",
         "wk28": "nan",
         "wk29": "nan",
         "wk3": 25,
         "wk30": "nan",
         "wk31": "nan",
         "wk32": "nan",
         "wk33": "nan",
         "wk34": "nan",
         "wk35": "nan",
         "wk36": "nan",
         "wk37": "nan",
         "wk38": "nan",
         "wk39": "nan",
         "wk4": "17.0",
         "wk40": "nan",
         "wk41": "nan",
         "wk42": "nan",
         "wk43": "nan",
         "wk44": "nan",
         "wk45": "nan",
         "wk46": "nan",
         "wk47": "nan",
         "wk48": "nan",
         "wk49": "nan",
         "wk5": "17.0",
         "wk50": "nan",
         "wk51": "nan",
         "wk52": "nan",
         "wk53": "nan",
         "wk54": "nan",
         "wk55": "nan",
         "wk56": "nan",
         "wk57": "nan",
         "wk58": "nan",
         "wk59": "nan",
         "wk6": "31.0",
         "wk60": "nan",
         "wk61": "nan",
         "wk62": "nan",
         "wk63": "nan",
         "wk64": "nan",
         "wk65": "nan",
         "wk66": "nan",
         "wk67": "nan",
         "wk68": "nan",
         "wk69": "nan",
         "wk7": "36.0",
         "wk70": "nan",
         "wk71": "nan",
         "wk72": "nan",
         "wk73": "nan",
         "wk74": "nan",
         "wk75": "nan",
         "wk76": "nan",
         "wk8": "49.0",
         "wk9": "53.0",
         "year": 2000
        },
        {
         "_deepnote_index_column": 5,
         "artist": "98^0",
         "date.entered": "2000-08-19",
         "time": "3:24",
         "track": "Give Me Just One Nig...",
         "wk1": 51,
         "wk10": "6.0",
         "wk11": "7.0",
         "wk12": "22.0",
         "wk13": "29.0",
         "wk14": "36.0",
         "wk15": "47.0",
         "wk16": "67.0",
         "wk17": "66.0",
         "wk18": "84.0",
         "wk19": "93.0",
         "wk2": 39,
         "wk20": "94.0",
         "wk21": "nan",
         "wk22": "nan",
         "wk23": "nan",
         "wk24": "nan",
         "wk25": "nan",
         "wk26": "nan",
         "wk27": "nan",
         "wk28": "nan",
         "wk29": "nan",
         "wk3": 34,
         "wk30": "nan",
         "wk31": "nan",
         "wk32": "nan",
         "wk33": "nan",
         "wk34": "nan",
         "wk35": "nan",
         "wk36": "nan",
         "wk37": "nan",
         "wk38": "nan",
         "wk39": "nan",
         "wk4": "26.0",
         "wk40": "nan",
         "wk41": "nan",
         "wk42": "nan",
         "wk43": "nan",
         "wk44": "nan",
         "wk45": "nan",
         "wk46": "nan",
         "wk47": "nan",
         "wk48": "nan",
         "wk49": "nan",
         "wk5": "26.0",
         "wk50": "nan",
         "wk51": "nan",
         "wk52": "nan",
         "wk53": "nan",
         "wk54": "nan",
         "wk55": "nan",
         "wk56": "nan",
         "wk57": "nan",
         "wk58": "nan",
         "wk59": "nan",
         "wk6": "19.0",
         "wk60": "nan",
         "wk61": "nan",
         "wk62": "nan",
         "wk63": "nan",
         "wk64": "nan",
         "wk65": "nan",
         "wk66": "nan",
         "wk67": "nan",
         "wk68": "nan",
         "wk69": "nan",
         "wk7": "2.0",
         "wk70": "nan",
         "wk71": "nan",
         "wk72": "nan",
         "wk73": "nan",
         "wk74": "nan",
         "wk75": "nan",
         "wk76": "nan",
         "wk8": "2.0",
         "wk9": "3.0",
         "year": 2000
        }
       ]
      },
      "text/html": "<div>\n<style scoped>\n    .dataframe tbody tr th:only-of-type {\n        vertical-align: middle;\n    }\n\n    .dataframe tbody tr th {\n        vertical-align: top;\n    }\n\n    .dataframe thead th {\n        text-align: right;\n    }\n</style>\n<table border=\"1\" class=\"dataframe\">\n  <thead>\n    <tr style=\"text-align: right;\">\n      <th></th>\n      <th>year</th>\n      <th>artist</th>\n      <th>track</th>\n      <th>time</th>\n      <th>date.entered</th>\n      <th>wk1</th>\n      <th>wk2</th>\n      <th>wk3</th>\n      <th>wk4</th>\n      <th>wk5</th>\n      <th>...</th>\n      <th>wk67</th>\n      <th>wk68</th>\n      <th>wk69</th>\n      <th>wk70</th>\n      <th>wk71</th>\n      <th>wk72</th>\n      <th>wk73</th>\n      <th>wk74</th>\n      <th>wk75</th>\n      <th>wk76</th>\n    </tr>\n  </thead>\n  <tbody>\n    <tr>\n      <th>0</th>\n      <td>2000</td>\n      <td>2 Pac</td>\n      <td>Baby Don't Cry (Keep...</td>\n      <td>4:22</td>\n      <td>2000-02-26</td>\n      <td>87</td>\n      <td>82.0</td>\n      <td>72.0</td>\n      <td>77.0</td>\n      <td>87.0</td>\n      <td>...</td>\n      <td>NaN</td>\n      <td>NaN</td>\n      <td>NaN</td>\n      <td>NaN</td>\n      <td>NaN</td>\n      <td>NaN</td>\n      <td>NaN</td>\n      <td>NaN</td>\n      <td>NaN</td>\n      <td>NaN</td>\n    </tr>\n    <tr>\n      <th>1</th>\n      <td>2000</td>\n      <td>2Ge+her</td>\n      <td>The Hardest Part Of ...</td>\n      <td>3:15</td>\n      <td>2000-09-02</td>\n      <td>91</td>\n      <td>87.0</td>\n      <td>92.0</td>\n      <td>NaN</td>\n      <td>NaN</td>\n      <td>...</td>\n      <td>NaN</td>\n      <td>NaN</td>\n      <td>NaN</td>\n      <td>NaN</td>\n      <td>NaN</td>\n      <td>NaN</td>\n      <td>NaN</td>\n      <td>NaN</td>\n      <td>NaN</td>\n      <td>NaN</td>\n    </tr>\n    <tr>\n      <th>2</th>\n      <td>2000</td>\n      <td>3 Doors Down</td>\n      <td>Kryptonite</td>\n      <td>3:53</td>\n      <td>2000-04-08</td>\n      <td>81</td>\n      <td>70.0</td>\n      <td>68.0</td>\n      <td>67.0</td>\n      <td>66.0</td>\n      <td>...</td>\n      <td>NaN</td>\n      <td>NaN</td>\n      <td>NaN</td>\n      <td>NaN</td>\n      <td>NaN</td>\n      <td>NaN</td>\n      <td>NaN</td>\n      <td>NaN</td>\n      <td>NaN</td>\n      <td>NaN</td>\n    </tr>\n    <tr>\n      <th>3</th>\n      <td>2000</td>\n      <td>3 Doors Down</td>\n      <td>Loser</td>\n      <td>4:24</td>\n      <td>2000-10-21</td>\n      <td>76</td>\n      <td>76.0</td>\n      <td>72.0</td>\n      <td>69.0</td>\n      <td>67.0</td>\n      <td>...</td>\n      <td>NaN</td>\n      <td>NaN</td>\n      <td>NaN</td>\n      <td>NaN</td>\n      <td>NaN</td>\n      <td>NaN</td>\n      <td>NaN</td>\n      <td>NaN</td>\n      <td>NaN</td>\n      <td>NaN</td>\n    </tr>\n    <tr>\n      <th>4</th>\n      <td>2000</td>\n      <td>504 Boyz</td>\n      <td>Wobble Wobble</td>\n      <td>3:35</td>\n      <td>2000-04-15</td>\n      <td>57</td>\n      <td>34.0</td>\n      <td>25.0</td>\n      <td>17.0</td>\n      <td>17.0</td>\n      <td>...</td>\n      <td>NaN</td>\n      <td>NaN</td>\n      <td>NaN</td>\n      <td>NaN</td>\n      <td>NaN</td>\n      <td>NaN</td>\n      <td>NaN</td>\n      <td>NaN</td>\n      <td>NaN</td>\n      <td>NaN</td>\n    </tr>\n    <tr>\n      <th>...</th>\n      <td>...</td>\n      <td>...</td>\n      <td>...</td>\n      <td>...</td>\n      <td>...</td>\n      <td>...</td>\n      <td>...</td>\n      <td>...</td>\n      <td>...</td>\n      <td>...</td>\n      <td>...</td>\n      <td>...</td>\n      <td>...</td>\n      <td>...</td>\n      <td>...</td>\n      <td>...</td>\n      <td>...</td>\n      <td>...</td>\n      <td>...</td>\n      <td>...</td>\n      <td>...</td>\n    </tr>\n    <tr>\n      <th>312</th>\n      <td>2000</td>\n      <td>Yankee Grey</td>\n      <td>Another Nine Minutes</td>\n      <td>3:10</td>\n      <td>2000-04-29</td>\n      <td>86</td>\n      <td>83.0</td>\n      <td>77.0</td>\n      <td>74.0</td>\n      <td>83.0</td>\n      <td>...</td>\n      <td>NaN</td>\n      <td>NaN</td>\n      <td>NaN</td>\n      <td>NaN</td>\n      <td>NaN</td>\n      <td>NaN</td>\n      <td>NaN</td>\n      <td>NaN</td>\n      <td>NaN</td>\n      <td>NaN</td>\n    </tr>\n    <tr>\n      <th>313</th>\n      <td>2000</td>\n      <td>Yearwood, Trisha</td>\n      <td>Real Live Woman</td>\n      <td>3:55</td>\n      <td>2000-04-01</td>\n      <td>85</td>\n      <td>83.0</td>\n      <td>83.0</td>\n      <td>82.0</td>\n      <td>81.0</td>\n      <td>...</td>\n      <td>NaN</td>\n      <td>NaN</td>\n      <td>NaN</td>\n      <td>NaN</td>\n      <td>NaN</td>\n      <td>NaN</td>\n      <td>NaN</td>\n      <td>NaN</td>\n      <td>NaN</td>\n      <td>NaN</td>\n    </tr>\n    <tr>\n      <th>314</th>\n      <td>2000</td>\n      <td>Ying Yang Twins</td>\n      <td>Whistle While You Tw...</td>\n      <td>4:19</td>\n      <td>2000-03-18</td>\n      <td>95</td>\n      <td>94.0</td>\n      <td>91.0</td>\n      <td>85.0</td>\n      <td>84.0</td>\n      <td>...</td>\n      <td>NaN</td>\n      <td>NaN</td>\n      <td>NaN</td>\n      <td>NaN</td>\n      <td>NaN</td>\n      <td>NaN</td>\n      <td>NaN</td>\n      <td>NaN</td>\n      <td>NaN</td>\n      <td>NaN</td>\n    </tr>\n    <tr>\n      <th>315</th>\n      <td>2000</td>\n      <td>Zombie Nation</td>\n      <td>Kernkraft 400</td>\n      <td>3:30</td>\n      <td>2000-09-02</td>\n      <td>99</td>\n      <td>99.0</td>\n      <td>NaN</td>\n      <td>NaN</td>\n      <td>NaN</td>\n      <td>...</td>\n      <td>NaN</td>\n      <td>NaN</td>\n      <td>NaN</td>\n      <td>NaN</td>\n      <td>NaN</td>\n      <td>NaN</td>\n      <td>NaN</td>\n      <td>NaN</td>\n      <td>NaN</td>\n      <td>NaN</td>\n    </tr>\n    <tr>\n      <th>316</th>\n      <td>2000</td>\n      <td>matchbox twenty</td>\n      <td>Bent</td>\n      <td>4:12</td>\n      <td>2000-04-29</td>\n      <td>60</td>\n      <td>37.0</td>\n      <td>29.0</td>\n      <td>24.0</td>\n      <td>22.0</td>\n      <td>...</td>\n      <td>NaN</td>\n      <td>NaN</td>\n      <td>NaN</td>\n      <td>NaN</td>\n      <td>NaN</td>\n      <td>NaN</td>\n      <td>NaN</td>\n      <td>NaN</td>\n      <td>NaN</td>\n      <td>NaN</td>\n    </tr>\n  </tbody>\n</table>\n<p>317 rows × 81 columns</p>\n</div>",
      "text/plain": "     year            artist                    track  time date.entered  wk1  \\\n0    2000             2 Pac  Baby Don't Cry (Keep...  4:22   2000-02-26   87   \n1    2000           2Ge+her  The Hardest Part Of ...  3:15   2000-09-02   91   \n2    2000      3 Doors Down               Kryptonite  3:53   2000-04-08   81   \n3    2000      3 Doors Down                    Loser  4:24   2000-10-21   76   \n4    2000          504 Boyz            Wobble Wobble  3:35   2000-04-15   57   \n..    ...               ...                      ...   ...          ...  ...   \n312  2000       Yankee Grey     Another Nine Minutes  3:10   2000-04-29   86   \n313  2000  Yearwood, Trisha          Real Live Woman  3:55   2000-04-01   85   \n314  2000   Ying Yang Twins  Whistle While You Tw...  4:19   2000-03-18   95   \n315  2000     Zombie Nation            Kernkraft 400  3:30   2000-09-02   99   \n316  2000   matchbox twenty                     Bent  4:12   2000-04-29   60   \n\n      wk2   wk3   wk4   wk5  ...  wk67  wk68  wk69  wk70  wk71  wk72  wk73  \\\n0    82.0  72.0  77.0  87.0  ...   NaN   NaN   NaN   NaN   NaN   NaN   NaN   \n1    87.0  92.0   NaN   NaN  ...   NaN   NaN   NaN   NaN   NaN   NaN   NaN   \n2    70.0  68.0  67.0  66.0  ...   NaN   NaN   NaN   NaN   NaN   NaN   NaN   \n3    76.0  72.0  69.0  67.0  ...   NaN   NaN   NaN   NaN   NaN   NaN   NaN   \n4    34.0  25.0  17.0  17.0  ...   NaN   NaN   NaN   NaN   NaN   NaN   NaN   \n..    ...   ...   ...   ...  ...   ...   ...   ...   ...   ...   ...   ...   \n312  83.0  77.0  74.0  83.0  ...   NaN   NaN   NaN   NaN   NaN   NaN   NaN   \n313  83.0  83.0  82.0  81.0  ...   NaN   NaN   NaN   NaN   NaN   NaN   NaN   \n314  94.0  91.0  85.0  84.0  ...   NaN   NaN   NaN   NaN   NaN   NaN   NaN   \n315  99.0   NaN   NaN   NaN  ...   NaN   NaN   NaN   NaN   NaN   NaN   NaN   \n316  37.0  29.0  24.0  22.0  ...   NaN   NaN   NaN   NaN   NaN   NaN   NaN   \n\n     wk74  wk75  wk76  \n0     NaN   NaN   NaN  \n1     NaN   NaN   NaN  \n2     NaN   NaN   NaN  \n3     NaN   NaN   NaN  \n4     NaN   NaN   NaN  \n..    ...   ...   ...  \n312   NaN   NaN   NaN  \n313   NaN   NaN   NaN  \n314   NaN   NaN   NaN  \n315   NaN   NaN   NaN  \n316   NaN   NaN   NaN  \n\n[317 rows x 81 columns]"
     },
     "execution_count": 14,
     "metadata": {},
     "output_type": "execute_result"
    }
   ]
  },
  {
   "cell_type": "code",
   "metadata": {
    "deepnote_to_be_reexecuted": false,
    "execution_millis": 274,
    "execution_start": 1620083674476,
    "source_hash": "631c4d59",
    "cell_id": "00036-103de3da-8d83-4ade-bb04-e60afa59984e",
    "deepnote_cell_type": "code"
   },
   "source": "billboard.head()",
   "execution_count": null,
   "outputs": [
    {
     "data": {
      "application/vnd.deepnote.dataframe.v2+json": {
       "column_count": 81,
       "columns": [
        {
         "dtype": "int64",
         "name": "year",
         "stats": {
          "histogram": [
           {
            "bin_end": 1999.6,
            "bin_start": 1999.5,
            "count": 0
           },
           {
            "bin_end": 1999.7,
            "bin_start": 1999.6,
            "count": 0
           },
           {
            "bin_end": 1999.8,
            "bin_start": 1999.7,
            "count": 0
           },
           {
            "bin_end": 1999.9,
            "bin_start": 1999.8,
            "count": 0
           },
           {
            "bin_end": 2000,
            "bin_start": 1999.9,
            "count": 0
           },
           {
            "bin_end": 2000.1,
            "bin_start": 2000,
            "count": 5
           },
           {
            "bin_end": 2000.2,
            "bin_start": 2000.1,
            "count": 0
           },
           {
            "bin_end": 2000.3,
            "bin_start": 2000.2,
            "count": 0
           },
           {
            "bin_end": 2000.4,
            "bin_start": 2000.3,
            "count": 0
           },
           {
            "bin_end": 2000.5,
            "bin_start": 2000.4,
            "count": 0
           }
          ],
          "max": "2000",
          "min": "2000",
          "nan_count": 0,
          "unique_count": 1
         }
        },
        {
         "dtype": "object",
         "name": "artist",
         "stats": {
          "categories": [
           {
            "count": 2,
            "name": "3 Doors Down"
           },
           {
            "count": 1,
            "name": "2 Pac"
           },
           {
            "count": 2,
            "name": "2 others"
           }
          ],
          "nan_count": 0,
          "unique_count": 4
         }
        },
        {
         "dtype": "object",
         "name": "track",
         "stats": {
          "categories": [
           {
            "count": 1,
            "name": "Baby Don't Cry (Keep..."
           },
           {
            "count": 1,
            "name": "The Hardest Part Of ..."
           },
           {
            "count": 3,
            "name": "3 others"
           }
          ],
          "nan_count": 0,
          "unique_count": 5
         }
        },
        {
         "dtype": "object",
         "name": "time",
         "stats": {
          "categories": [
           {
            "count": 1,
            "name": "4:22"
           },
           {
            "count": 1,
            "name": "3:15"
           },
           {
            "count": 3,
            "name": "3 others"
           }
          ],
          "nan_count": 0,
          "unique_count": 5
         }
        },
        {
         "dtype": "object",
         "name": "date.entered",
         "stats": {
          "categories": [
           {
            "count": 1,
            "name": "2000-02-26"
           },
           {
            "count": 1,
            "name": "2000-09-02"
           },
           {
            "count": 3,
            "name": "3 others"
           }
          ],
          "nan_count": 0,
          "unique_count": 5
         }
        },
        {
         "dtype": "int64",
         "name": "wk1",
         "stats": {
          "histogram": [
           {
            "bin_end": 60.4,
            "bin_start": 57,
            "count": 1
           },
           {
            "bin_end": 63.8,
            "bin_start": 60.4,
            "count": 0
           },
           {
            "bin_end": 67.2,
            "bin_start": 63.8,
            "count": 0
           },
           {
            "bin_end": 70.6,
            "bin_start": 67.2,
            "count": 0
           },
           {
            "bin_end": 74,
            "bin_start": 70.6,
            "count": 0
           },
           {
            "bin_end": 77.4,
            "bin_start": 74,
            "count": 1
           },
           {
            "bin_end": 80.8,
            "bin_start": 77.4,
            "count": 0
           },
           {
            "bin_end": 84.2,
            "bin_start": 80.8,
            "count": 1
           },
           {
            "bin_end": 87.6,
            "bin_start": 84.2,
            "count": 1
           },
           {
            "bin_end": 91,
            "bin_start": 87.6,
            "count": 1
           }
          ],
          "max": "91",
          "min": "57",
          "nan_count": 0,
          "unique_count": 5
         }
        },
        {
         "dtype": "float64",
         "name": "wk2",
         "stats": {
          "histogram": [
           {
            "bin_end": 39.3,
            "bin_start": 34,
            "count": 1
           },
           {
            "bin_end": 44.6,
            "bin_start": 39.3,
            "count": 0
           },
           {
            "bin_end": 49.9,
            "bin_start": 44.6,
            "count": 0
           },
           {
            "bin_end": 55.2,
            "bin_start": 49.9,
            "count": 0
           },
           {
            "bin_end": 60.5,
            "bin_start": 55.2,
            "count": 0
           },
           {
            "bin_end": 65.8,
            "bin_start": 60.5,
            "count": 0
           },
           {
            "bin_end": 71.1,
            "bin_start": 65.8,
            "count": 1
           },
           {
            "bin_end": 76.4,
            "bin_start": 71.1,
            "count": 1
           },
           {
            "bin_end": 81.69999999999999,
            "bin_start": 76.4,
            "count": 0
           },
           {
            "bin_end": 87,
            "bin_start": 81.69999999999999,
            "count": 2
           }
          ],
          "max": "87.0",
          "min": "34.0",
          "nan_count": 0,
          "unique_count": 5
         }
        },
        {
         "dtype": "float64",
         "name": "wk3",
         "stats": {
          "histogram": [
           {
            "bin_end": 31.7,
            "bin_start": 25,
            "count": 1
           },
           {
            "bin_end": 38.4,
            "bin_start": 31.7,
            "count": 0
           },
           {
            "bin_end": 45.1,
            "bin_start": 38.4,
            "count": 0
           },
           {
            "bin_end": 51.8,
            "bin_start": 45.1,
            "count": 0
           },
           {
            "bin_end": 58.5,
            "bin_start": 51.8,
            "count": 0
           },
           {
            "bin_end": 65.2,
            "bin_start": 58.5,
            "count": 0
           },
           {
            "bin_end": 71.9,
            "bin_start": 65.2,
            "count": 1
           },
           {
            "bin_end": 78.6,
            "bin_start": 71.9,
            "count": 2
           },
           {
            "bin_end": 85.30000000000001,
            "bin_start": 78.6,
            "count": 0
           },
           {
            "bin_end": 92,
            "bin_start": 85.30000000000001,
            "count": 1
           }
          ],
          "max": "92.0",
          "min": "25.0",
          "nan_count": 0,
          "unique_count": 4
         }
        },
        {
         "dtype": "float64",
         "name": "wk4",
         "stats": {
          "histogram": [
           {
            "bin_end": 23,
            "bin_start": 17,
            "count": 1
           },
           {
            "bin_end": 29,
            "bin_start": 23,
            "count": 0
           },
           {
            "bin_end": 35,
            "bin_start": 29,
            "count": 0
           },
           {
            "bin_end": 41,
            "bin_start": 35,
            "count": 0
           },
           {
            "bin_end": 47,
            "bin_start": 41,
            "count": 0
           },
           {
            "bin_end": 53,
            "bin_start": 47,
            "count": 0
           },
           {
            "bin_end": 59,
            "bin_start": 53,
            "count": 0
           },
           {
            "bin_end": 65,
            "bin_start": 59,
            "count": 0
           },
           {
            "bin_end": 71,
            "bin_start": 65,
            "count": 2
           },
           {
            "bin_end": 77,
            "bin_start": 71,
            "count": 1
           }
          ],
          "max": "77.0",
          "min": "17.0",
          "nan_count": 1,
          "unique_count": 4
         }
        },
        {
         "dtype": "float64",
         "name": "wk5",
         "stats": {
          "histogram": [
           {
            "bin_end": 24,
            "bin_start": 17,
            "count": 1
           },
           {
            "bin_end": 31,
            "bin_start": 24,
            "count": 0
           },
           {
            "bin_end": 38,
            "bin_start": 31,
            "count": 0
           },
           {
            "bin_end": 45,
            "bin_start": 38,
            "count": 0
           },
           {
            "bin_end": 52,
            "bin_start": 45,
            "count": 0
           },
           {
            "bin_end": 59,
            "bin_start": 52,
            "count": 0
           },
           {
            "bin_end": 66,
            "bin_start": 59,
            "count": 0
           },
           {
            "bin_end": 73,
            "bin_start": 66,
            "count": 2
           },
           {
            "bin_end": 80,
            "bin_start": 73,
            "count": 0
           },
           {
            "bin_end": 87,
            "bin_start": 80,
            "count": 1
           }
          ],
          "max": "87.0",
          "min": "17.0",
          "nan_count": 1,
          "unique_count": 4
         }
        },
        {
         "dtype": "float64",
         "name": "wk6",
         "stats": {
          "histogram": [
           {
            "bin_end": 37.3,
            "bin_start": 31,
            "count": 1
           },
           {
            "bin_end": 43.6,
            "bin_start": 37.3,
            "count": 0
           },
           {
            "bin_end": 49.9,
            "bin_start": 43.6,
            "count": 0
           },
           {
            "bin_end": 56.2,
            "bin_start": 49.9,
            "count": 0
           },
           {
            "bin_end": 62.5,
            "bin_start": 56.2,
            "count": 1
           },
           {
            "bin_end": 68.8,
            "bin_start": 62.5,
            "count": 1
           },
           {
            "bin_end": 75.1,
            "bin_start": 68.8,
            "count": 0
           },
           {
            "bin_end": 81.4,
            "bin_start": 75.1,
            "count": 0
           },
           {
            "bin_end": 87.69999999999999,
            "bin_start": 81.4,
            "count": 0
           },
           {
            "bin_end": 94,
            "bin_start": 87.69999999999999,
            "count": 1
           }
          ],
          "max": "94.0",
          "min": "31.0",
          "nan_count": 1,
          "unique_count": 4
         }
        },
        {
         "dtype": "float64",
         "name": "wk7",
         "stats": {
          "histogram": [
           {
            "bin_end": 42.3,
            "bin_start": 36,
            "count": 1
           },
           {
            "bin_end": 48.6,
            "bin_start": 42.3,
            "count": 0
           },
           {
            "bin_end": 54.9,
            "bin_start": 48.6,
            "count": 1
           },
           {
            "bin_end": 61.2,
            "bin_start": 54.9,
            "count": 1
           },
           {
            "bin_end": 67.5,
            "bin_start": 61.2,
            "count": 0
           },
           {
            "bin_end": 73.8,
            "bin_start": 67.5,
            "count": 0
           },
           {
            "bin_end": 80.1,
            "bin_start": 73.8,
            "count": 0
           },
           {
            "bin_end": 86.4,
            "bin_start": 80.1,
            "count": 0
           },
           {
            "bin_end": 92.69999999999999,
            "bin_start": 86.4,
            "count": 0
           },
           {
            "bin_end": 99,
            "bin_start": 92.69999999999999,
            "count": 1
           }
          ],
          "max": "99.0",
          "min": "36.0",
          "nan_count": 1,
          "unique_count": 4
         }
        },
        {
         "dtype": "float64",
         "name": "wk8",
         "stats": {
          "histogram": [
           {
            "bin_end": 50,
            "bin_start": 49,
            "count": 1
           },
           {
            "bin_end": 51,
            "bin_start": 50,
            "count": 0
           },
           {
            "bin_end": 52,
            "bin_start": 51,
            "count": 0
           },
           {
            "bin_end": 53,
            "bin_start": 52,
            "count": 0
           },
           {
            "bin_end": 54,
            "bin_start": 53,
            "count": 1
           },
           {
            "bin_end": 55,
            "bin_start": 54,
            "count": 0
           },
           {
            "bin_end": 56,
            "bin_start": 55,
            "count": 0
           },
           {
            "bin_end": 57,
            "bin_start": 56,
            "count": 0
           },
           {
            "bin_end": 58,
            "bin_start": 57,
            "count": 0
           },
           {
            "bin_end": 59,
            "bin_start": 58,
            "count": 1
           }
          ],
          "max": "59.0",
          "min": "49.0",
          "nan_count": 2,
          "unique_count": 3
         }
        },
        {
         "dtype": "float64",
         "name": "wk9",
         "stats": {
          "histogram": [
           {
            "bin_end": 52.1,
            "bin_start": 51,
            "count": 1
           },
           {
            "bin_end": 53.2,
            "bin_start": 52.1,
            "count": 1
           },
           {
            "bin_end": 54.3,
            "bin_start": 53.2,
            "count": 0
           },
           {
            "bin_end": 55.4,
            "bin_start": 54.3,
            "count": 0
           },
           {
            "bin_end": 56.5,
            "bin_start": 55.4,
            "count": 0
           },
           {
            "bin_end": 57.6,
            "bin_start": 56.5,
            "count": 0
           },
           {
            "bin_end": 58.7,
            "bin_start": 57.6,
            "count": 0
           },
           {
            "bin_end": 59.8,
            "bin_start": 58.7,
            "count": 0
           },
           {
            "bin_end": 60.9,
            "bin_start": 59.8,
            "count": 0
           },
           {
            "bin_end": 62,
            "bin_start": 60.9,
            "count": 1
           }
          ],
          "max": "62.0",
          "min": "51.0",
          "nan_count": 2,
          "unique_count": 3
         }
        },
        {
         "dtype": "float64",
         "name": "wk10",
         "stats": {
          "histogram": [
           {
            "bin_end": 52,
            "bin_start": 51,
            "count": 1
           },
           {
            "bin_end": 53,
            "bin_start": 52,
            "count": 0
           },
           {
            "bin_end": 54,
            "bin_start": 53,
            "count": 0
           },
           {
            "bin_end": 55,
            "bin_start": 54,
            "count": 0
           },
           {
            "bin_end": 56,
            "bin_start": 55,
            "count": 0
           },
           {
            "bin_end": 57,
            "bin_start": 56,
            "count": 0
           },
           {
            "bin_end": 58,
            "bin_start": 57,
            "count": 1
           },
           {
            "bin_end": 59,
            "bin_start": 58,
            "count": 0
           },
           {
            "bin_end": 60,
            "bin_start": 59,
            "count": 0
           },
           {
            "bin_end": 61,
            "bin_start": 60,
            "count": 1
           }
          ],
          "max": "61.0",
          "min": "51.0",
          "nan_count": 2,
          "unique_count": 3
         }
        },
        {
         "dtype": "float64",
         "name": "wk11",
         "stats": {
          "histogram": [
           {
            "bin_end": 52.3,
            "bin_start": 51,
            "count": 1
           },
           {
            "bin_end": 53.6,
            "bin_start": 52.3,
            "count": 0
           },
           {
            "bin_end": 54.9,
            "bin_start": 53.6,
            "count": 0
           },
           {
            "bin_end": 56.2,
            "bin_start": 54.9,
            "count": 0
           },
           {
            "bin_end": 57.5,
            "bin_start": 56.2,
            "count": 0
           },
           {
            "bin_end": 58.8,
            "bin_start": 57.5,
            "count": 0
           },
           {
            "bin_end": 60.1,
            "bin_start": 58.8,
            "count": 0
           },
           {
            "bin_end": 61.4,
            "bin_start": 60.1,
            "count": 1
           },
           {
            "bin_end": 62.7,
            "bin_start": 61.4,
            "count": 0
           },
           {
            "bin_end": 64,
            "bin_start": 62.7,
            "count": 1
           }
          ],
          "max": "64.0",
          "min": "51.0",
          "nan_count": 2,
          "unique_count": 3
         }
        },
        {
         "dtype": "float64",
         "name": "wk12",
         "stats": {
          "histogram": [
           {
            "bin_end": 52.9,
            "bin_start": 51,
            "count": 1
           },
           {
            "bin_end": 54.8,
            "bin_start": 52.9,
            "count": 0
           },
           {
            "bin_end": 56.7,
            "bin_start": 54.8,
            "count": 0
           },
           {
            "bin_end": 58.6,
            "bin_start": 56.7,
            "count": 0
           },
           {
            "bin_end": 60.5,
            "bin_start": 58.6,
            "count": 1
           },
           {
            "bin_end": 62.4,
            "bin_start": 60.5,
            "count": 0
           },
           {
            "bin_end": 64.3,
            "bin_start": 62.4,
            "count": 0
           },
           {
            "bin_end": 66.2,
            "bin_start": 64.3,
            "count": 0
           },
           {
            "bin_end": 68.1,
            "bin_start": 66.2,
            "count": 0
           },
           {
            "bin_end": 70,
            "bin_start": 68.1,
            "count": 1
           }
          ],
          "max": "70.0",
          "min": "51.0",
          "nan_count": 2,
          "unique_count": 3
         }
        },
        {
         "dtype": "float64",
         "name": "wk13",
         "stats": {
          "histogram": [
           {
            "bin_end": 49.8,
            "bin_start": 47,
            "count": 1
           },
           {
            "bin_end": 52.6,
            "bin_start": 49.8,
            "count": 0
           },
           {
            "bin_end": 55.4,
            "bin_start": 52.6,
            "count": 0
           },
           {
            "bin_end": 58.2,
            "bin_start": 55.4,
            "count": 0
           },
           {
            "bin_end": 61,
            "bin_start": 58.2,
            "count": 0
           },
           {
            "bin_end": 63.8,
            "bin_start": 61,
            "count": 1
           },
           {
            "bin_end": 66.6,
            "bin_start": 63.8,
            "count": 0
           },
           {
            "bin_end": 69.4,
            "bin_start": 66.6,
            "count": 0
           },
           {
            "bin_end": 72.2,
            "bin_start": 69.4,
            "count": 0
           },
           {
            "bin_end": 75,
            "bin_start": 72.2,
            "count": 1
           }
          ],
          "max": "75.0",
          "min": "47.0",
          "nan_count": 2,
          "unique_count": 3
         }
        },
        {
         "dtype": "float64",
         "name": "wk14",
         "stats": {
          "histogram": [
           {
            "bin_end": 47.2,
            "bin_start": 44,
            "count": 1
           },
           {
            "bin_end": 50.4,
            "bin_start": 47.2,
            "count": 0
           },
           {
            "bin_end": 53.6,
            "bin_start": 50.4,
            "count": 0
           },
           {
            "bin_end": 56.8,
            "bin_start": 53.6,
            "count": 0
           },
           {
            "bin_end": 60,
            "bin_start": 56.8,
            "count": 0
           },
           {
            "bin_end": 63.2,
            "bin_start": 60,
            "count": 0
           },
           {
            "bin_end": 66.4,
            "bin_start": 63.2,
            "count": 1
           },
           {
            "bin_end": 69.6,
            "bin_start": 66.4,
            "count": 0
           },
           {
            "bin_end": 72.8,
            "bin_start": 69.6,
            "count": 0
           },
           {
            "bin_end": 76,
            "bin_start": 72.8,
            "count": 1
           }
          ],
          "max": "76.0",
          "min": "44.0",
          "nan_count": 2,
          "unique_count": 3
         }
        },
        {
         "dtype": "float64",
         "name": "wk15",
         "stats": {
          "histogram": [
           {
            "bin_end": 42,
            "bin_start": 38,
            "count": 1
           },
           {
            "bin_end": 46,
            "bin_start": 42,
            "count": 0
           },
           {
            "bin_end": 50,
            "bin_start": 46,
            "count": 0
           },
           {
            "bin_end": 54,
            "bin_start": 50,
            "count": 0
           },
           {
            "bin_end": 58,
            "bin_start": 54,
            "count": 0
           },
           {
            "bin_end": 62,
            "bin_start": 58,
            "count": 0
           },
           {
            "bin_end": 66,
            "bin_start": 62,
            "count": 0
           },
           {
            "bin_end": 70,
            "bin_start": 66,
            "count": 0
           },
           {
            "bin_end": 74,
            "bin_start": 70,
            "count": 1
           },
           {
            "bin_end": 78,
            "bin_start": 74,
            "count": 1
           }
          ],
          "max": "78.0",
          "min": "38.0",
          "nan_count": 2,
          "unique_count": 3
         }
        },
        {
         "dtype": "float64",
         "name": "wk16",
         "stats": {
          "histogram": [
           {
            "bin_end": 33.7,
            "bin_start": 28,
            "count": 1
           },
           {
            "bin_end": 39.4,
            "bin_start": 33.7,
            "count": 0
           },
           {
            "bin_end": 45.1,
            "bin_start": 39.4,
            "count": 0
           },
           {
            "bin_end": 50.8,
            "bin_start": 45.1,
            "count": 0
           },
           {
            "bin_end": 56.5,
            "bin_start": 50.8,
            "count": 0
           },
           {
            "bin_end": 62.2,
            "bin_start": 56.5,
            "count": 0
           },
           {
            "bin_end": 67.9,
            "bin_start": 62.2,
            "count": 0
           },
           {
            "bin_end": 73.6,
            "bin_start": 67.9,
            "count": 0
           },
           {
            "bin_end": 79.30000000000001,
            "bin_start": 73.6,
            "count": 1
           },
           {
            "bin_end": 85,
            "bin_start": 79.30000000000001,
            "count": 1
           }
          ],
          "max": "85.0",
          "min": "28.0",
          "nan_count": 2,
          "unique_count": 3
         }
        },
        {
         "dtype": "float64",
         "name": "wk17",
         "stats": {
          "histogram": [
           {
            "bin_end": 29,
            "bin_start": 22,
            "count": 1
           },
           {
            "bin_end": 36,
            "bin_start": 29,
            "count": 0
           },
           {
            "bin_end": 43,
            "bin_start": 36,
            "count": 0
           },
           {
            "bin_end": 50,
            "bin_start": 43,
            "count": 0
           },
           {
            "bin_end": 57,
            "bin_start": 50,
            "count": 0
           },
           {
            "bin_end": 64,
            "bin_start": 57,
            "count": 0
           },
           {
            "bin_end": 71,
            "bin_start": 64,
            "count": 0
           },
           {
            "bin_end": 78,
            "bin_start": 71,
            "count": 1
           },
           {
            "bin_end": 85,
            "bin_start": 78,
            "count": 0
           },
           {
            "bin_end": 92,
            "bin_start": 85,
            "count": 1
           }
          ],
          "max": "92.0",
          "min": "22.0",
          "nan_count": 2,
          "unique_count": 3
         }
        },
        {
         "dtype": "float64",
         "name": "wk18",
         "stats": {
          "histogram": [
           {
            "bin_end": 25.8,
            "bin_start": 18,
            "count": 1
           },
           {
            "bin_end": 33.6,
            "bin_start": 25.8,
            "count": 0
           },
           {
            "bin_end": 41.4,
            "bin_start": 33.6,
            "count": 0
           },
           {
            "bin_end": 49.2,
            "bin_start": 41.4,
            "count": 0
           },
           {
            "bin_end": 57,
            "bin_start": 49.2,
            "count": 0
           },
           {
            "bin_end": 64.8,
            "bin_start": 57,
            "count": 0
           },
           {
            "bin_end": 72.6,
            "bin_start": 64.8,
            "count": 1
           },
           {
            "bin_end": 80.4,
            "bin_start": 72.6,
            "count": 0
           },
           {
            "bin_end": 88.2,
            "bin_start": 80.4,
            "count": 0
           },
           {
            "bin_end": 96,
            "bin_start": 88.2,
            "count": 1
           }
          ],
          "max": "96.0",
          "min": "18.0",
          "nan_count": 2,
          "unique_count": 3
         }
        },
        {
         "dtype": "float64",
         "name": "wk19",
         "stats": {
          "histogram": [
           {
            "bin_end": 23.5,
            "bin_start": 18,
            "count": 1
           },
           {
            "bin_end": 29,
            "bin_start": 23.5,
            "count": 0
           },
           {
            "bin_end": 34.5,
            "bin_start": 29,
            "count": 0
           },
           {
            "bin_end": 40,
            "bin_start": 34.5,
            "count": 0
           },
           {
            "bin_end": 45.5,
            "bin_start": 40,
            "count": 0
           },
           {
            "bin_end": 51,
            "bin_start": 45.5,
            "count": 0
           },
           {
            "bin_end": 56.5,
            "bin_start": 51,
            "count": 0
           },
           {
            "bin_end": 62,
            "bin_start": 56.5,
            "count": 0
           },
           {
            "bin_end": 67.5,
            "bin_start": 62,
            "count": 0
           },
           {
            "bin_end": 73,
            "bin_start": 67.5,
            "count": 1
           }
          ],
          "max": "73.0",
          "min": "18.0",
          "nan_count": 3,
          "unique_count": 2
         }
        },
        {
         "dtype": "float64",
         "name": "wk20",
         "stats": {
          "histogram": [
           {
            "bin_end": 19.6,
            "bin_start": 14,
            "count": 1
           },
           {
            "bin_end": 25.2,
            "bin_start": 19.6,
            "count": 0
           },
           {
            "bin_end": 30.799999999999997,
            "bin_start": 25.2,
            "count": 0
           },
           {
            "bin_end": 36.4,
            "bin_start": 30.799999999999997,
            "count": 0
           },
           {
            "bin_end": 42,
            "bin_start": 36.4,
            "count": 0
           },
           {
            "bin_end": 47.599999999999994,
            "bin_start": 42,
            "count": 0
           },
           {
            "bin_end": 53.199999999999996,
            "bin_start": 47.599999999999994,
            "count": 0
           },
           {
            "bin_end": 58.8,
            "bin_start": 53.199999999999996,
            "count": 0
           },
           {
            "bin_end": 64.4,
            "bin_start": 58.8,
            "count": 0
           },
           {
            "bin_end": 70,
            "bin_start": 64.4,
            "count": 1
           }
          ],
          "max": "70.0",
          "min": "14.0",
          "nan_count": 3,
          "unique_count": 2
         }
        },
        {
         "dtype": "float64",
         "name": "wk21",
         "stats": {
          "histogram": [
           {
            "bin_end": 11.6,
            "bin_start": 11.5,
            "count": 0
           },
           {
            "bin_end": 11.7,
            "bin_start": 11.6,
            "count": 0
           },
           {
            "bin_end": 11.8,
            "bin_start": 11.7,
            "count": 0
           },
           {
            "bin_end": 11.9,
            "bin_start": 11.8,
            "count": 0
           },
           {
            "bin_end": 12,
            "bin_start": 11.9,
            "count": 0
           },
           {
            "bin_end": 12.1,
            "bin_start": 12,
            "count": 1
           },
           {
            "bin_end": 12.2,
            "bin_start": 12.1,
            "count": 0
           },
           {
            "bin_end": 12.3,
            "bin_start": 12.2,
            "count": 0
           },
           {
            "bin_end": 12.4,
            "bin_start": 12.3,
            "count": 0
           },
           {
            "bin_end": 12.5,
            "bin_start": 12.4,
            "count": 0
           }
          ],
          "max": "12.0",
          "min": "12.0",
          "nan_count": 4,
          "unique_count": 1
         }
        },
        {
         "dtype": "float64",
         "name": "wk22",
         "stats": {
          "histogram": [
           {
            "bin_end": 6.6,
            "bin_start": 6.5,
            "count": 0
           },
           {
            "bin_end": 6.7,
            "bin_start": 6.6,
            "count": 0
           },
           {
            "bin_end": 6.8,
            "bin_start": 6.7,
            "count": 0
           },
           {
            "bin_end": 6.9,
            "bin_start": 6.8,
            "count": 0
           },
           {
            "bin_end": 7,
            "bin_start": 6.9,
            "count": 0
           },
           {
            "bin_end": 7.1,
            "bin_start": 7,
            "count": 1
           },
           {
            "bin_end": 7.2,
            "bin_start": 7.1,
            "count": 0
           },
           {
            "bin_end": 7.3,
            "bin_start": 7.2,
            "count": 0
           },
           {
            "bin_end": 7.4,
            "bin_start": 7.3,
            "count": 0
           },
           {
            "bin_end": 7.5,
            "bin_start": 7.4,
            "count": 0
           }
          ],
          "max": "7.0",
          "min": "7.0",
          "nan_count": 4,
          "unique_count": 1
         }
        },
        {
         "dtype": "float64",
         "name": "wk23",
         "stats": {
          "histogram": [
           {
            "bin_end": 5.6,
            "bin_start": 5.5,
            "count": 0
           },
           {
            "bin_end": 5.7,
            "bin_start": 5.6,
            "count": 0
           },
           {
            "bin_end": 5.8,
            "bin_start": 5.7,
            "count": 0
           },
           {
            "bin_end": 5.9,
            "bin_start": 5.8,
            "count": 0
           },
           {
            "bin_end": 6,
            "bin_start": 5.9,
            "count": 0
           },
           {
            "bin_end": 6.1,
            "bin_start": 6,
            "count": 1
           },
           {
            "bin_end": 6.2,
            "bin_start": 6.1,
            "count": 0
           },
           {
            "bin_end": 6.3,
            "bin_start": 6.2,
            "count": 0
           },
           {
            "bin_end": 6.4,
            "bin_start": 6.3,
            "count": 0
           },
           {
            "bin_end": 6.5,
            "bin_start": 6.4,
            "count": 0
           }
          ],
          "max": "6.0",
          "min": "6.0",
          "nan_count": 4,
          "unique_count": 1
         }
        },
        {
         "dtype": "float64",
         "name": "wk24",
         "stats": {
          "histogram": [
           {
            "bin_end": 5.6,
            "bin_start": 5.5,
            "count": 0
           },
           {
            "bin_end": 5.7,
            "bin_start": 5.6,
            "count": 0
           },
           {
            "bin_end": 5.8,
            "bin_start": 5.7,
            "count": 0
           },
           {
            "bin_end": 5.9,
            "bin_start": 5.8,
            "count": 0
           },
           {
            "bin_end": 6,
            "bin_start": 5.9,
            "count": 0
           },
           {
            "bin_end": 6.1,
            "bin_start": 6,
            "count": 1
           },
           {
            "bin_end": 6.2,
            "bin_start": 6.1,
            "count": 0
           },
           {
            "bin_end": 6.3,
            "bin_start": 6.2,
            "count": 0
           },
           {
            "bin_end": 6.4,
            "bin_start": 6.3,
            "count": 0
           },
           {
            "bin_end": 6.5,
            "bin_start": 6.4,
            "count": 0
           }
          ],
          "max": "6.0",
          "min": "6.0",
          "nan_count": 4,
          "unique_count": 1
         }
        },
        {
         "dtype": "float64",
         "name": "wk25",
         "stats": {
          "histogram": [
           {
            "bin_end": 5.6,
            "bin_start": 5.5,
            "count": 0
           },
           {
            "bin_end": 5.7,
            "bin_start": 5.6,
            "count": 0
           },
           {
            "bin_end": 5.8,
            "bin_start": 5.7,
            "count": 0
           },
           {
            "bin_end": 5.9,
            "bin_start": 5.8,
            "count": 0
           },
           {
            "bin_end": 6,
            "bin_start": 5.9,
            "count": 0
           },
           {
            "bin_end": 6.1,
            "bin_start": 6,
            "count": 1
           },
           {
            "bin_end": 6.2,
            "bin_start": 6.1,
            "count": 0
           },
           {
            "bin_end": 6.3,
            "bin_start": 6.2,
            "count": 0
           },
           {
            "bin_end": 6.4,
            "bin_start": 6.3,
            "count": 0
           },
           {
            "bin_end": 6.5,
            "bin_start": 6.4,
            "count": 0
           }
          ],
          "max": "6.0",
          "min": "6.0",
          "nan_count": 4,
          "unique_count": 1
         }
        },
        {
         "dtype": "float64",
         "name": "wk26",
         "stats": {
          "histogram": [
           {
            "bin_end": 4.6,
            "bin_start": 4.5,
            "count": 0
           },
           {
            "bin_end": 4.7,
            "bin_start": 4.6,
            "count": 0
           },
           {
            "bin_end": 4.8,
            "bin_start": 4.7,
            "count": 0
           },
           {
            "bin_end": 4.9,
            "bin_start": 4.8,
            "count": 0
           },
           {
            "bin_end": 5,
            "bin_start": 4.9,
            "count": 0
           },
           {
            "bin_end": 5.1,
            "bin_start": 5,
            "count": 1
           },
           {
            "bin_end": 5.2,
            "bin_start": 5.1,
            "count": 0
           },
           {
            "bin_end": 5.3,
            "bin_start": 5.2,
            "count": 0
           },
           {
            "bin_end": 5.4,
            "bin_start": 5.3,
            "count": 0
           },
           {
            "bin_end": 5.5,
            "bin_start": 5.4,
            "count": 0
           }
          ],
          "max": "5.0",
          "min": "5.0",
          "nan_count": 4,
          "unique_count": 1
         }
        },
        {
         "dtype": "float64",
         "name": "wk27",
         "stats": {
          "histogram": [
           {
            "bin_end": 4.6,
            "bin_start": 4.5,
            "count": 0
           },
           {
            "bin_end": 4.7,
            "bin_start": 4.6,
            "count": 0
           },
           {
            "bin_end": 4.8,
            "bin_start": 4.7,
            "count": 0
           },
           {
            "bin_end": 4.9,
            "bin_start": 4.8,
            "count": 0
           },
           {
            "bin_end": 5,
            "bin_start": 4.9,
            "count": 0
           },
           {
            "bin_end": 5.1,
            "bin_start": 5,
            "count": 1
           },
           {
            "bin_end": 5.2,
            "bin_start": 5.1,
            "count": 0
           },
           {
            "bin_end": 5.3,
            "bin_start": 5.2,
            "count": 0
           },
           {
            "bin_end": 5.4,
            "bin_start": 5.3,
            "count": 0
           },
           {
            "bin_end": 5.5,
            "bin_start": 5.4,
            "count": 0
           }
          ],
          "max": "5.0",
          "min": "5.0",
          "nan_count": 4,
          "unique_count": 1
         }
        },
        {
         "dtype": "float64",
         "name": "wk28",
         "stats": {
          "histogram": [
           {
            "bin_end": 3.6,
            "bin_start": 3.5,
            "count": 0
           },
           {
            "bin_end": 3.7,
            "bin_start": 3.6,
            "count": 0
           },
           {
            "bin_end": 3.8,
            "bin_start": 3.7,
            "count": 0
           },
           {
            "bin_end": 3.9,
            "bin_start": 3.8,
            "count": 0
           },
           {
            "bin_end": 4,
            "bin_start": 3.9,
            "count": 0
           },
           {
            "bin_end": 4.1,
            "bin_start": 4,
            "count": 1
           },
           {
            "bin_end": 4.2,
            "bin_start": 4.1,
            "count": 0
           },
           {
            "bin_end": 4.3,
            "bin_start": 4.2,
            "count": 0
           },
           {
            "bin_end": 4.4,
            "bin_start": 4.3,
            "count": 0
           },
           {
            "bin_end": 4.5,
            "bin_start": 4.4,
            "count": 0
           }
          ],
          "max": "4.0",
          "min": "4.0",
          "nan_count": 4,
          "unique_count": 1
         }
        },
        {
         "dtype": "float64",
         "name": "wk29",
         "stats": {
          "histogram": [
           {
            "bin_end": 3.6,
            "bin_start": 3.5,
            "count": 0
           },
           {
            "bin_end": 3.7,
            "bin_start": 3.6,
            "count": 0
           },
           {
            "bin_end": 3.8,
            "bin_start": 3.7,
            "count": 0
           },
           {
            "bin_end": 3.9,
            "bin_start": 3.8,
            "count": 0
           },
           {
            "bin_end": 4,
            "bin_start": 3.9,
            "count": 0
           },
           {
            "bin_end": 4.1,
            "bin_start": 4,
            "count": 1
           },
           {
            "bin_end": 4.2,
            "bin_start": 4.1,
            "count": 0
           },
           {
            "bin_end": 4.3,
            "bin_start": 4.2,
            "count": 0
           },
           {
            "bin_end": 4.4,
            "bin_start": 4.3,
            "count": 0
           },
           {
            "bin_end": 4.5,
            "bin_start": 4.4,
            "count": 0
           }
          ],
          "max": "4.0",
          "min": "4.0",
          "nan_count": 4,
          "unique_count": 1
         }
        },
        {
         "dtype": "float64",
         "name": "wk30",
         "stats": {
          "histogram": [
           {
            "bin_end": 3.6,
            "bin_start": 3.5,
            "count": 0
           },
           {
            "bin_end": 3.7,
            "bin_start": 3.6,
            "count": 0
           },
           {
            "bin_end": 3.8,
            "bin_start": 3.7,
            "count": 0
           },
           {
            "bin_end": 3.9,
            "bin_start": 3.8,
            "count": 0
           },
           {
            "bin_end": 4,
            "bin_start": 3.9,
            "count": 0
           },
           {
            "bin_end": 4.1,
            "bin_start": 4,
            "count": 1
           },
           {
            "bin_end": 4.2,
            "bin_start": 4.1,
            "count": 0
           },
           {
            "bin_end": 4.3,
            "bin_start": 4.2,
            "count": 0
           },
           {
            "bin_end": 4.4,
            "bin_start": 4.3,
            "count": 0
           },
           {
            "bin_end": 4.5,
            "bin_start": 4.4,
            "count": 0
           }
          ],
          "max": "4.0",
          "min": "4.0",
          "nan_count": 4,
          "unique_count": 1
         }
        },
        {
         "dtype": "float64",
         "name": "wk31",
         "stats": {
          "histogram": [
           {
            "bin_end": 3.6,
            "bin_start": 3.5,
            "count": 0
           },
           {
            "bin_end": 3.7,
            "bin_start": 3.6,
            "count": 0
           },
           {
            "bin_end": 3.8,
            "bin_start": 3.7,
            "count": 0
           },
           {
            "bin_end": 3.9,
            "bin_start": 3.8,
            "count": 0
           },
           {
            "bin_end": 4,
            "bin_start": 3.9,
            "count": 0
           },
           {
            "bin_end": 4.1,
            "bin_start": 4,
            "count": 1
           },
           {
            "bin_end": 4.2,
            "bin_start": 4.1,
            "count": 0
           },
           {
            "bin_end": 4.3,
            "bin_start": 4.2,
            "count": 0
           },
           {
            "bin_end": 4.4,
            "bin_start": 4.3,
            "count": 0
           },
           {
            "bin_end": 4.5,
            "bin_start": 4.4,
            "count": 0
           }
          ],
          "max": "4.0",
          "min": "4.0",
          "nan_count": 4,
          "unique_count": 1
         }
        },
        {
         "dtype": "float64",
         "name": "wk32",
         "stats": {
          "histogram": [
           {
            "bin_end": 2.6,
            "bin_start": 2.5,
            "count": 0
           },
           {
            "bin_end": 2.7,
            "bin_start": 2.6,
            "count": 0
           },
           {
            "bin_end": 2.8,
            "bin_start": 2.7,
            "count": 0
           },
           {
            "bin_end": 2.9,
            "bin_start": 2.8,
            "count": 0
           },
           {
            "bin_end": 3,
            "bin_start": 2.9,
            "count": 0
           },
           {
            "bin_end": 3.1,
            "bin_start": 3,
            "count": 1
           },
           {
            "bin_end": 3.2,
            "bin_start": 3.1,
            "count": 0
           },
           {
            "bin_end": 3.3,
            "bin_start": 3.2,
            "count": 0
           },
           {
            "bin_end": 3.4,
            "bin_start": 3.3,
            "count": 0
           },
           {
            "bin_end": 3.5,
            "bin_start": 3.4,
            "count": 0
           }
          ],
          "max": "3.0",
          "min": "3.0",
          "nan_count": 4,
          "unique_count": 1
         }
        },
        {
         "dtype": "float64",
         "name": "wk33",
         "stats": {
          "histogram": [
           {
            "bin_end": 2.6,
            "bin_start": 2.5,
            "count": 0
           },
           {
            "bin_end": 2.7,
            "bin_start": 2.6,
            "count": 0
           },
           {
            "bin_end": 2.8,
            "bin_start": 2.7,
            "count": 0
           },
           {
            "bin_end": 2.9,
            "bin_start": 2.8,
            "count": 0
           },
           {
            "bin_end": 3,
            "bin_start": 2.9,
            "count": 0
           },
           {
            "bin_end": 3.1,
            "bin_start": 3,
            "count": 1
           },
           {
            "bin_end": 3.2,
            "bin_start": 3.1,
            "count": 0
           },
           {
            "bin_end": 3.3,
            "bin_start": 3.2,
            "count": 0
           },
           {
            "bin_end": 3.4,
            "bin_start": 3.3,
            "count": 0
           },
           {
            "bin_end": 3.5,
            "bin_start": 3.4,
            "count": 0
           }
          ],
          "max": "3.0",
          "min": "3.0",
          "nan_count": 4,
          "unique_count": 1
         }
        },
        {
         "dtype": "float64",
         "name": "wk34",
         "stats": {
          "histogram": [
           {
            "bin_end": 2.6,
            "bin_start": 2.5,
            "count": 0
           },
           {
            "bin_end": 2.7,
            "bin_start": 2.6,
            "count": 0
           },
           {
            "bin_end": 2.8,
            "bin_start": 2.7,
            "count": 0
           },
           {
            "bin_end": 2.9,
            "bin_start": 2.8,
            "count": 0
           },
           {
            "bin_end": 3,
            "bin_start": 2.9,
            "count": 0
           },
           {
            "bin_end": 3.1,
            "bin_start": 3,
            "count": 1
           },
           {
            "bin_end": 3.2,
            "bin_start": 3.1,
            "count": 0
           },
           {
            "bin_end": 3.3,
            "bin_start": 3.2,
            "count": 0
           },
           {
            "bin_end": 3.4,
            "bin_start": 3.3,
            "count": 0
           },
           {
            "bin_end": 3.5,
            "bin_start": 3.4,
            "count": 0
           }
          ],
          "max": "3.0",
          "min": "3.0",
          "nan_count": 4,
          "unique_count": 1
         }
        },
        {
         "dtype": "float64",
         "name": "wk35",
         "stats": {
          "histogram": [
           {
            "bin_end": 3.6,
            "bin_start": 3.5,
            "count": 0
           },
           {
            "bin_end": 3.7,
            "bin_start": 3.6,
            "count": 0
           },
           {
            "bin_end": 3.8,
            "bin_start": 3.7,
            "count": 0
           },
           {
            "bin_end": 3.9,
            "bin_start": 3.8,
            "count": 0
           },
           {
            "bin_end": 4,
            "bin_start": 3.9,
            "count": 0
           },
           {
            "bin_end": 4.1,
            "bin_start": 4,
            "count": 1
           },
           {
            "bin_end": 4.2,
            "bin_start": 4.1,
            "count": 0
           },
           {
            "bin_end": 4.3,
            "bin_start": 4.2,
            "count": 0
           },
           {
            "bin_end": 4.4,
            "bin_start": 4.3,
            "count": 0
           },
           {
            "bin_end": 4.5,
            "bin_start": 4.4,
            "count": 0
           }
          ],
          "max": "4.0",
          "min": "4.0",
          "nan_count": 4,
          "unique_count": 1
         }
        },
        {
         "dtype": "float64",
         "name": "wk36",
         "stats": {
          "histogram": [
           {
            "bin_end": 4.6,
            "bin_start": 4.5,
            "count": 0
           },
           {
            "bin_end": 4.7,
            "bin_start": 4.6,
            "count": 0
           },
           {
            "bin_end": 4.8,
            "bin_start": 4.7,
            "count": 0
           },
           {
            "bin_end": 4.9,
            "bin_start": 4.8,
            "count": 0
           },
           {
            "bin_end": 5,
            "bin_start": 4.9,
            "count": 0
           },
           {
            "bin_end": 5.1,
            "bin_start": 5,
            "count": 1
           },
           {
            "bin_end": 5.2,
            "bin_start": 5.1,
            "count": 0
           },
           {
            "bin_end": 5.3,
            "bin_start": 5.2,
            "count": 0
           },
           {
            "bin_end": 5.4,
            "bin_start": 5.3,
            "count": 0
           },
           {
            "bin_end": 5.5,
            "bin_start": 5.4,
            "count": 0
           }
          ],
          "max": "5.0",
          "min": "5.0",
          "nan_count": 4,
          "unique_count": 1
         }
        },
        {
         "dtype": "float64",
         "name": "wk37",
         "stats": {
          "histogram": [
           {
            "bin_end": 4.6,
            "bin_start": 4.5,
            "count": 0
           },
           {
            "bin_end": 4.7,
            "bin_start": 4.6,
            "count": 0
           },
           {
            "bin_end": 4.8,
            "bin_start": 4.7,
            "count": 0
           },
           {
            "bin_end": 4.9,
            "bin_start": 4.8,
            "count": 0
           },
           {
            "bin_end": 5,
            "bin_start": 4.9,
            "count": 0
           },
           {
            "bin_end": 5.1,
            "bin_start": 5,
            "count": 1
           },
           {
            "bin_end": 5.2,
            "bin_start": 5.1,
            "count": 0
           },
           {
            "bin_end": 5.3,
            "bin_start": 5.2,
            "count": 0
           },
           {
            "bin_end": 5.4,
            "bin_start": 5.3,
            "count": 0
           },
           {
            "bin_end": 5.5,
            "bin_start": 5.4,
            "count": 0
           }
          ],
          "max": "5.0",
          "min": "5.0",
          "nan_count": 4,
          "unique_count": 1
         }
        },
        {
         "dtype": "float64",
         "name": "wk38",
         "stats": {
          "histogram": [
           {
            "bin_end": 8.6,
            "bin_start": 8.5,
            "count": 0
           },
           {
            "bin_end": 8.7,
            "bin_start": 8.6,
            "count": 0
           },
           {
            "bin_end": 8.8,
            "bin_start": 8.7,
            "count": 0
           },
           {
            "bin_end": 8.9,
            "bin_start": 8.8,
            "count": 0
           },
           {
            "bin_end": 9,
            "bin_start": 8.9,
            "count": 0
           },
           {
            "bin_end": 9.1,
            "bin_start": 9,
            "count": 1
           },
           {
            "bin_end": 9.2,
            "bin_start": 9.1,
            "count": 0
           },
           {
            "bin_end": 9.3,
            "bin_start": 9.2,
            "count": 0
           },
           {
            "bin_end": 9.4,
            "bin_start": 9.3,
            "count": 0
           },
           {
            "bin_end": 9.5,
            "bin_start": 9.4,
            "count": 0
           }
          ],
          "max": "9.0",
          "min": "9.0",
          "nan_count": 4,
          "unique_count": 1
         }
        },
        {
         "dtype": "float64",
         "name": "wk39",
         "stats": {
          "histogram": [
           {
            "bin_end": 8.6,
            "bin_start": 8.5,
            "count": 0
           },
           {
            "bin_end": 8.7,
            "bin_start": 8.6,
            "count": 0
           },
           {
            "bin_end": 8.8,
            "bin_start": 8.7,
            "count": 0
           },
           {
            "bin_end": 8.9,
            "bin_start": 8.8,
            "count": 0
           },
           {
            "bin_end": 9,
            "bin_start": 8.9,
            "count": 0
           },
           {
            "bin_end": 9.1,
            "bin_start": 9,
            "count": 1
           },
           {
            "bin_end": 9.2,
            "bin_start": 9.1,
            "count": 0
           },
           {
            "bin_end": 9.3,
            "bin_start": 9.2,
            "count": 0
           },
           {
            "bin_end": 9.4,
            "bin_start": 9.3,
            "count": 0
           },
           {
            "bin_end": 9.5,
            "bin_start": 9.4,
            "count": 0
           }
          ],
          "max": "9.0",
          "min": "9.0",
          "nan_count": 4,
          "unique_count": 1
         }
        },
        {
         "dtype": "float64",
         "name": "wk40",
         "stats": {
          "histogram": [
           {
            "bin_end": 14.6,
            "bin_start": 14.5,
            "count": 0
           },
           {
            "bin_end": 14.7,
            "bin_start": 14.6,
            "count": 0
           },
           {
            "bin_end": 14.8,
            "bin_start": 14.7,
            "count": 0
           },
           {
            "bin_end": 14.9,
            "bin_start": 14.8,
            "count": 0
           },
           {
            "bin_end": 15,
            "bin_start": 14.9,
            "count": 0
           },
           {
            "bin_end": 15.1,
            "bin_start": 15,
            "count": 1
           },
           {
            "bin_end": 15.2,
            "bin_start": 15.1,
            "count": 0
           },
           {
            "bin_end": 15.3,
            "bin_start": 15.2,
            "count": 0
           },
           {
            "bin_end": 15.4,
            "bin_start": 15.3,
            "count": 0
           },
           {
            "bin_end": 15.5,
            "bin_start": 15.4,
            "count": 0
           }
          ],
          "max": "15.0",
          "min": "15.0",
          "nan_count": 4,
          "unique_count": 1
         }
        },
        {
         "dtype": "float64",
         "name": "wk41",
         "stats": {
          "histogram": [
           {
            "bin_end": 13.6,
            "bin_start": 13.5,
            "count": 0
           },
           {
            "bin_end": 13.7,
            "bin_start": 13.6,
            "count": 0
           },
           {
            "bin_end": 13.8,
            "bin_start": 13.7,
            "count": 0
           },
           {
            "bin_end": 13.9,
            "bin_start": 13.8,
            "count": 0
           },
           {
            "bin_end": 14,
            "bin_start": 13.9,
            "count": 0
           },
           {
            "bin_end": 14.1,
            "bin_start": 14,
            "count": 1
           },
           {
            "bin_end": 14.2,
            "bin_start": 14.1,
            "count": 0
           },
           {
            "bin_end": 14.3,
            "bin_start": 14.2,
            "count": 0
           },
           {
            "bin_end": 14.4,
            "bin_start": 14.3,
            "count": 0
           },
           {
            "bin_end": 14.5,
            "bin_start": 14.4,
            "count": 0
           }
          ],
          "max": "14.0",
          "min": "14.0",
          "nan_count": 4,
          "unique_count": 1
         }
        },
        {
         "dtype": "float64",
         "name": "wk42",
         "stats": {
          "histogram": [
           {
            "bin_end": 12.6,
            "bin_start": 12.5,
            "count": 0
           },
           {
            "bin_end": 12.7,
            "bin_start": 12.6,
            "count": 0
           },
           {
            "bin_end": 12.8,
            "bin_start": 12.7,
            "count": 0
           },
           {
            "bin_end": 12.9,
            "bin_start": 12.8,
            "count": 0
           },
           {
            "bin_end": 13,
            "bin_start": 12.9,
            "count": 0
           },
           {
            "bin_end": 13.1,
            "bin_start": 13,
            "count": 1
           },
           {
            "bin_end": 13.2,
            "bin_start": 13.1,
            "count": 0
           },
           {
            "bin_end": 13.3,
            "bin_start": 13.2,
            "count": 0
           },
           {
            "bin_end": 13.4,
            "bin_start": 13.3,
            "count": 0
           },
           {
            "bin_end": 13.5,
            "bin_start": 13.4,
            "count": 0
           }
          ],
          "max": "13.0",
          "min": "13.0",
          "nan_count": 4,
          "unique_count": 1
         }
        },
        {
         "dtype": "float64",
         "name": "wk43",
         "stats": {
          "histogram": [
           {
            "bin_end": 13.6,
            "bin_start": 13.5,
            "count": 0
           },
           {
            "bin_end": 13.7,
            "bin_start": 13.6,
            "count": 0
           },
           {
            "bin_end": 13.8,
            "bin_start": 13.7,
            "count": 0
           },
           {
            "bin_end": 13.9,
            "bin_start": 13.8,
            "count": 0
           },
           {
            "bin_end": 14,
            "bin_start": 13.9,
            "count": 0
           },
           {
            "bin_end": 14.1,
            "bin_start": 14,
            "count": 1
           },
           {
            "bin_end": 14.2,
            "bin_start": 14.1,
            "count": 0
           },
           {
            "bin_end": 14.3,
            "bin_start": 14.2,
            "count": 0
           },
           {
            "bin_end": 14.4,
            "bin_start": 14.3,
            "count": 0
           },
           {
            "bin_end": 14.5,
            "bin_start": 14.4,
            "count": 0
           }
          ],
          "max": "14.0",
          "min": "14.0",
          "nan_count": 4,
          "unique_count": 1
         }
        },
        {
         "dtype": "float64",
         "name": "wk44",
         "stats": {
          "histogram": [
           {
            "bin_end": 15.6,
            "bin_start": 15.5,
            "count": 0
           },
           {
            "bin_end": 15.7,
            "bin_start": 15.6,
            "count": 0
           },
           {
            "bin_end": 15.8,
            "bin_start": 15.7,
            "count": 0
           },
           {
            "bin_end": 15.9,
            "bin_start": 15.8,
            "count": 0
           },
           {
            "bin_end": 16,
            "bin_start": 15.9,
            "count": 0
           },
           {
            "bin_end": 16.1,
            "bin_start": 16,
            "count": 1
           },
           {
            "bin_end": 16.2,
            "bin_start": 16.1,
            "count": 0
           },
           {
            "bin_end": 16.3,
            "bin_start": 16.2,
            "count": 0
           },
           {
            "bin_end": 16.4,
            "bin_start": 16.3,
            "count": 0
           },
           {
            "bin_end": 16.5,
            "bin_start": 16.4,
            "count": 0
           }
          ],
          "max": "16.0",
          "min": "16.0",
          "nan_count": 4,
          "unique_count": 1
         }
        },
        {
         "dtype": "float64",
         "name": "wk45",
         "stats": {
          "histogram": [
           {
            "bin_end": 16.6,
            "bin_start": 16.5,
            "count": 0
           },
           {
            "bin_end": 16.7,
            "bin_start": 16.6,
            "count": 0
           },
           {
            "bin_end": 16.8,
            "bin_start": 16.7,
            "count": 0
           },
           {
            "bin_end": 16.9,
            "bin_start": 16.8,
            "count": 0
           },
           {
            "bin_end": 17,
            "bin_start": 16.9,
            "count": 0
           },
           {
            "bin_end": 17.1,
            "bin_start": 17,
            "count": 1
           },
           {
            "bin_end": 17.2,
            "bin_start": 17.1,
            "count": 0
           },
           {
            "bin_end": 17.3,
            "bin_start": 17.2,
            "count": 0
           },
           {
            "bin_end": 17.4,
            "bin_start": 17.3,
            "count": 0
           },
           {
            "bin_end": 17.5,
            "bin_start": 17.4,
            "count": 0
           }
          ],
          "max": "17.0",
          "min": "17.0",
          "nan_count": 4,
          "unique_count": 1
         }
        },
        {
         "dtype": "float64",
         "name": "wk46",
         "stats": {
          "histogram": [
           {
            "bin_end": 20.6,
            "bin_start": 20.5,
            "count": 0
           },
           {
            "bin_end": 20.7,
            "bin_start": 20.6,
            "count": 0
           },
           {
            "bin_end": 20.8,
            "bin_start": 20.7,
            "count": 0
           },
           {
            "bin_end": 20.9,
            "bin_start": 20.8,
            "count": 0
           },
           {
            "bin_end": 21,
            "bin_start": 20.9,
            "count": 0
           },
           {
            "bin_end": 21.1,
            "bin_start": 21,
            "count": 1
           },
           {
            "bin_end": 21.2,
            "bin_start": 21.1,
            "count": 0
           },
           {
            "bin_end": 21.3,
            "bin_start": 21.2,
            "count": 0
           },
           {
            "bin_end": 21.4,
            "bin_start": 21.3,
            "count": 0
           },
           {
            "bin_end": 21.5,
            "bin_start": 21.4,
            "count": 0
           }
          ],
          "max": "21.0",
          "min": "21.0",
          "nan_count": 4,
          "unique_count": 1
         }
        },
        {
         "dtype": "float64",
         "name": "wk47",
         "stats": {
          "histogram": [
           {
            "bin_end": 21.6,
            "bin_start": 21.5,
            "count": 0
           },
           {
            "bin_end": 21.7,
            "bin_start": 21.6,
            "count": 0
           },
           {
            "bin_end": 21.8,
            "bin_start": 21.7,
            "count": 0
           },
           {
            "bin_end": 21.9,
            "bin_start": 21.8,
            "count": 0
           },
           {
            "bin_end": 22,
            "bin_start": 21.9,
            "count": 0
           },
           {
            "bin_end": 22.1,
            "bin_start": 22,
            "count": 1
           },
           {
            "bin_end": 22.2,
            "bin_start": 22.1,
            "count": 0
           },
           {
            "bin_end": 22.3,
            "bin_start": 22.2,
            "count": 0
           },
           {
            "bin_end": 22.4,
            "bin_start": 22.3,
            "count": 0
           },
           {
            "bin_end": 22.5,
            "bin_start": 22.4,
            "count": 0
           }
          ],
          "max": "22.0",
          "min": "22.0",
          "nan_count": 4,
          "unique_count": 1
         }
        },
        {
         "dtype": "float64",
         "name": "wk48",
         "stats": {
          "histogram": [
           {
            "bin_end": 23.6,
            "bin_start": 23.5,
            "count": 0
           },
           {
            "bin_end": 23.7,
            "bin_start": 23.6,
            "count": 0
           },
           {
            "bin_end": 23.8,
            "bin_start": 23.7,
            "count": 0
           },
           {
            "bin_end": 23.9,
            "bin_start": 23.8,
            "count": 0
           },
           {
            "bin_end": 24,
            "bin_start": 23.9,
            "count": 0
           },
           {
            "bin_end": 24.1,
            "bin_start": 24,
            "count": 1
           },
           {
            "bin_end": 24.2,
            "bin_start": 24.1,
            "count": 0
           },
           {
            "bin_end": 24.3,
            "bin_start": 24.2,
            "count": 0
           },
           {
            "bin_end": 24.4,
            "bin_start": 24.3,
            "count": 0
           },
           {
            "bin_end": 24.5,
            "bin_start": 24.4,
            "count": 0
           }
          ],
          "max": "24.0",
          "min": "24.0",
          "nan_count": 4,
          "unique_count": 1
         }
        },
        {
         "dtype": "float64",
         "name": "wk49",
         "stats": {
          "histogram": [
           {
            "bin_end": 27.6,
            "bin_start": 27.5,
            "count": 0
           },
           {
            "bin_end": 27.7,
            "bin_start": 27.6,
            "count": 0
           },
           {
            "bin_end": 27.8,
            "bin_start": 27.7,
            "count": 0
           },
           {
            "bin_end": 27.9,
            "bin_start": 27.8,
            "count": 0
           },
           {
            "bin_end": 28,
            "bin_start": 27.9,
            "count": 0
           },
           {
            "bin_end": 28.1,
            "bin_start": 28,
            "count": 1
           },
           {
            "bin_end": 28.2,
            "bin_start": 28.1,
            "count": 0
           },
           {
            "bin_end": 28.3,
            "bin_start": 28.2,
            "count": 0
           },
           {
            "bin_end": 28.4,
            "bin_start": 28.3,
            "count": 0
           },
           {
            "bin_end": 28.5,
            "bin_start": 28.4,
            "count": 0
           }
          ],
          "max": "28.0",
          "min": "28.0",
          "nan_count": 4,
          "unique_count": 1
         }
        },
        {
         "dtype": "float64",
         "name": "wk50",
         "stats": {
          "histogram": [
           {
            "bin_end": 32.6,
            "bin_start": 32.5,
            "count": 0
           },
           {
            "bin_end": 32.7,
            "bin_start": 32.6,
            "count": 0
           },
           {
            "bin_end": 32.8,
            "bin_start": 32.7,
            "count": 0
           },
           {
            "bin_end": 32.9,
            "bin_start": 32.8,
            "count": 0
           },
           {
            "bin_end": 33,
            "bin_start": 32.9,
            "count": 0
           },
           {
            "bin_end": 33.1,
            "bin_start": 33,
            "count": 1
           },
           {
            "bin_end": 33.2,
            "bin_start": 33.1,
            "count": 0
           },
           {
            "bin_end": 33.3,
            "bin_start": 33.2,
            "count": 0
           },
           {
            "bin_end": 33.4,
            "bin_start": 33.3,
            "count": 0
           },
           {
            "bin_end": 33.5,
            "bin_start": 33.4,
            "count": 0
           }
          ],
          "max": "33.0",
          "min": "33.0",
          "nan_count": 4,
          "unique_count": 1
         }
        },
        {
         "dtype": "float64",
         "name": "wk51",
         "stats": {
          "histogram": [
           {
            "bin_end": 41.6,
            "bin_start": 41.5,
            "count": 0
           },
           {
            "bin_end": 41.7,
            "bin_start": 41.6,
            "count": 0
           },
           {
            "bin_end": 41.8,
            "bin_start": 41.7,
            "count": 0
           },
           {
            "bin_end": 41.9,
            "bin_start": 41.8,
            "count": 0
           },
           {
            "bin_end": 42,
            "bin_start": 41.9,
            "count": 0
           },
           {
            "bin_end": 42.1,
            "bin_start": 42,
            "count": 1
           },
           {
            "bin_end": 42.2,
            "bin_start": 42.1,
            "count": 0
           },
           {
            "bin_end": 42.3,
            "bin_start": 42.2,
            "count": 0
           },
           {
            "bin_end": 42.4,
            "bin_start": 42.3,
            "count": 0
           },
           {
            "bin_end": 42.5,
            "bin_start": 42.4,
            "count": 0
           }
          ],
          "max": "42.0",
          "min": "42.0",
          "nan_count": 4,
          "unique_count": 1
         }
        },
        {
         "dtype": "float64",
         "name": "wk52",
         "stats": {
          "histogram": [
           {
            "bin_end": 41.6,
            "bin_start": 41.5,
            "count": 0
           },
           {
            "bin_end": 41.7,
            "bin_start": 41.6,
            "count": 0
           },
           {
            "bin_end": 41.8,
            "bin_start": 41.7,
            "count": 0
           },
           {
            "bin_end": 41.9,
            "bin_start": 41.8,
            "count": 0
           },
           {
            "bin_end": 42,
            "bin_start": 41.9,
            "count": 0
           },
           {
            "bin_end": 42.1,
            "bin_start": 42,
            "count": 1
           },
           {
            "bin_end": 42.2,
            "bin_start": 42.1,
            "count": 0
           },
           {
            "bin_end": 42.3,
            "bin_start": 42.2,
            "count": 0
           },
           {
            "bin_end": 42.4,
            "bin_start": 42.3,
            "count": 0
           },
           {
            "bin_end": 42.5,
            "bin_start": 42.4,
            "count": 0
           }
          ],
          "max": "42.0",
          "min": "42.0",
          "nan_count": 4,
          "unique_count": 1
         }
        },
        {
         "dtype": "float64",
         "name": "wk53",
         "stats": {
          "histogram": [
           {
            "bin_end": 48.6,
            "bin_start": 48.5,
            "count": 0
           },
           {
            "bin_end": 48.7,
            "bin_start": 48.6,
            "count": 0
           },
           {
            "bin_end": 48.8,
            "bin_start": 48.7,
            "count": 0
           },
           {
            "bin_end": 48.9,
            "bin_start": 48.8,
            "count": 0
           },
           {
            "bin_end": 49,
            "bin_start": 48.9,
            "count": 0
           },
           {
            "bin_end": 49.1,
            "bin_start": 49,
            "count": 1
           },
           {
            "bin_end": 49.2,
            "bin_start": 49.1,
            "count": 0
           },
           {
            "bin_end": 49.3,
            "bin_start": 49.2,
            "count": 0
           },
           {
            "bin_end": 49.4,
            "bin_start": 49.3,
            "count": 0
           },
           {
            "bin_end": 49.5,
            "bin_start": 49.4,
            "count": 0
           }
          ],
          "max": "49.0",
          "min": "49.0",
          "nan_count": 4,
          "unique_count": 1
         }
        },
        {
         "dtype": "float64",
         "name": "wk54",
         "stats": {
          "histogram": [
           {
            "bin_end": 0.1,
            "bin_start": 0,
            "count": 0
           },
           {
            "bin_end": 0.2,
            "bin_start": 0.1,
            "count": 0
           },
           {
            "bin_end": 0.30000000000000004,
            "bin_start": 0.2,
            "count": 0
           },
           {
            "bin_end": 0.4,
            "bin_start": 0.30000000000000004,
            "count": 0
           },
           {
            "bin_end": 0.5,
            "bin_start": 0.4,
            "count": 0
           },
           {
            "bin_end": 0.6000000000000001,
            "bin_start": 0.5,
            "count": 0
           },
           {
            "bin_end": 0.7000000000000001,
            "bin_start": 0.6000000000000001,
            "count": 0
           },
           {
            "bin_end": 0.8,
            "bin_start": 0.7000000000000001,
            "count": 0
           },
           {
            "bin_end": 0.9,
            "bin_start": 0.8,
            "count": 0
           },
           {
            "bin_end": 1,
            "bin_start": 0.9,
            "count": 0
           }
          ],
          "max": null,
          "min": null,
          "nan_count": 5,
          "unique_count": 0
         }
        },
        {
         "dtype": "float64",
         "name": "wk55",
         "stats": {
          "histogram": [
           {
            "bin_end": 0.1,
            "bin_start": 0,
            "count": 0
           },
           {
            "bin_end": 0.2,
            "bin_start": 0.1,
            "count": 0
           },
           {
            "bin_end": 0.30000000000000004,
            "bin_start": 0.2,
            "count": 0
           },
           {
            "bin_end": 0.4,
            "bin_start": 0.30000000000000004,
            "count": 0
           },
           {
            "bin_end": 0.5,
            "bin_start": 0.4,
            "count": 0
           },
           {
            "bin_end": 0.6000000000000001,
            "bin_start": 0.5,
            "count": 0
           },
           {
            "bin_end": 0.7000000000000001,
            "bin_start": 0.6000000000000001,
            "count": 0
           },
           {
            "bin_end": 0.8,
            "bin_start": 0.7000000000000001,
            "count": 0
           },
           {
            "bin_end": 0.9,
            "bin_start": 0.8,
            "count": 0
           },
           {
            "bin_end": 1,
            "bin_start": 0.9,
            "count": 0
           }
          ],
          "max": null,
          "min": null,
          "nan_count": 5,
          "unique_count": 0
         }
        },
        {
         "dtype": "float64",
         "name": "wk56",
         "stats": {
          "histogram": [
           {
            "bin_end": 0.1,
            "bin_start": 0,
            "count": 0
           },
           {
            "bin_end": 0.2,
            "bin_start": 0.1,
            "count": 0
           },
           {
            "bin_end": 0.30000000000000004,
            "bin_start": 0.2,
            "count": 0
           },
           {
            "bin_end": 0.4,
            "bin_start": 0.30000000000000004,
            "count": 0
           },
           {
            "bin_end": 0.5,
            "bin_start": 0.4,
            "count": 0
           },
           {
            "bin_end": 0.6000000000000001,
            "bin_start": 0.5,
            "count": 0
           },
           {
            "bin_end": 0.7000000000000001,
            "bin_start": 0.6000000000000001,
            "count": 0
           },
           {
            "bin_end": 0.8,
            "bin_start": 0.7000000000000001,
            "count": 0
           },
           {
            "bin_end": 0.9,
            "bin_start": 0.8,
            "count": 0
           },
           {
            "bin_end": 1,
            "bin_start": 0.9,
            "count": 0
           }
          ],
          "max": null,
          "min": null,
          "nan_count": 5,
          "unique_count": 0
         }
        },
        {
         "dtype": "float64",
         "name": "wk57",
         "stats": {
          "histogram": [
           {
            "bin_end": 0.1,
            "bin_start": 0,
            "count": 0
           },
           {
            "bin_end": 0.2,
            "bin_start": 0.1,
            "count": 0
           },
           {
            "bin_end": 0.30000000000000004,
            "bin_start": 0.2,
            "count": 0
           },
           {
            "bin_end": 0.4,
            "bin_start": 0.30000000000000004,
            "count": 0
           },
           {
            "bin_end": 0.5,
            "bin_start": 0.4,
            "count": 0
           },
           {
            "bin_end": 0.6000000000000001,
            "bin_start": 0.5,
            "count": 0
           },
           {
            "bin_end": 0.7000000000000001,
            "bin_start": 0.6000000000000001,
            "count": 0
           },
           {
            "bin_end": 0.8,
            "bin_start": 0.7000000000000001,
            "count": 0
           },
           {
            "bin_end": 0.9,
            "bin_start": 0.8,
            "count": 0
           },
           {
            "bin_end": 1,
            "bin_start": 0.9,
            "count": 0
           }
          ],
          "max": null,
          "min": null,
          "nan_count": 5,
          "unique_count": 0
         }
        },
        {
         "dtype": "float64",
         "name": "wk58",
         "stats": {
          "histogram": [
           {
            "bin_end": 0.1,
            "bin_start": 0,
            "count": 0
           },
           {
            "bin_end": 0.2,
            "bin_start": 0.1,
            "count": 0
           },
           {
            "bin_end": 0.30000000000000004,
            "bin_start": 0.2,
            "count": 0
           },
           {
            "bin_end": 0.4,
            "bin_start": 0.30000000000000004,
            "count": 0
           },
           {
            "bin_end": 0.5,
            "bin_start": 0.4,
            "count": 0
           },
           {
            "bin_end": 0.6000000000000001,
            "bin_start": 0.5,
            "count": 0
           },
           {
            "bin_end": 0.7000000000000001,
            "bin_start": 0.6000000000000001,
            "count": 0
           },
           {
            "bin_end": 0.8,
            "bin_start": 0.7000000000000001,
            "count": 0
           },
           {
            "bin_end": 0.9,
            "bin_start": 0.8,
            "count": 0
           },
           {
            "bin_end": 1,
            "bin_start": 0.9,
            "count": 0
           }
          ],
          "max": null,
          "min": null,
          "nan_count": 5,
          "unique_count": 0
         }
        },
        {
         "dtype": "float64",
         "name": "wk59",
         "stats": {
          "histogram": [
           {
            "bin_end": 0.1,
            "bin_start": 0,
            "count": 0
           },
           {
            "bin_end": 0.2,
            "bin_start": 0.1,
            "count": 0
           },
           {
            "bin_end": 0.30000000000000004,
            "bin_start": 0.2,
            "count": 0
           },
           {
            "bin_end": 0.4,
            "bin_start": 0.30000000000000004,
            "count": 0
           },
           {
            "bin_end": 0.5,
            "bin_start": 0.4,
            "count": 0
           },
           {
            "bin_end": 0.6000000000000001,
            "bin_start": 0.5,
            "count": 0
           },
           {
            "bin_end": 0.7000000000000001,
            "bin_start": 0.6000000000000001,
            "count": 0
           },
           {
            "bin_end": 0.8,
            "bin_start": 0.7000000000000001,
            "count": 0
           },
           {
            "bin_end": 0.9,
            "bin_start": 0.8,
            "count": 0
           },
           {
            "bin_end": 1,
            "bin_start": 0.9,
            "count": 0
           }
          ],
          "max": null,
          "min": null,
          "nan_count": 5,
          "unique_count": 0
         }
        },
        {
         "dtype": "float64",
         "name": "wk60",
         "stats": {
          "histogram": [
           {
            "bin_end": 0.1,
            "bin_start": 0,
            "count": 0
           },
           {
            "bin_end": 0.2,
            "bin_start": 0.1,
            "count": 0
           },
           {
            "bin_end": 0.30000000000000004,
            "bin_start": 0.2,
            "count": 0
           },
           {
            "bin_end": 0.4,
            "bin_start": 0.30000000000000004,
            "count": 0
           },
           {
            "bin_end": 0.5,
            "bin_start": 0.4,
            "count": 0
           },
           {
            "bin_end": 0.6000000000000001,
            "bin_start": 0.5,
            "count": 0
           },
           {
            "bin_end": 0.7000000000000001,
            "bin_start": 0.6000000000000001,
            "count": 0
           },
           {
            "bin_end": 0.8,
            "bin_start": 0.7000000000000001,
            "count": 0
           },
           {
            "bin_end": 0.9,
            "bin_start": 0.8,
            "count": 0
           },
           {
            "bin_end": 1,
            "bin_start": 0.9,
            "count": 0
           }
          ],
          "max": null,
          "min": null,
          "nan_count": 5,
          "unique_count": 0
         }
        },
        {
         "dtype": "float64",
         "name": "wk61",
         "stats": {
          "histogram": [
           {
            "bin_end": 0.1,
            "bin_start": 0,
            "count": 0
           },
           {
            "bin_end": 0.2,
            "bin_start": 0.1,
            "count": 0
           },
           {
            "bin_end": 0.30000000000000004,
            "bin_start": 0.2,
            "count": 0
           },
           {
            "bin_end": 0.4,
            "bin_start": 0.30000000000000004,
            "count": 0
           },
           {
            "bin_end": 0.5,
            "bin_start": 0.4,
            "count": 0
           },
           {
            "bin_end": 0.6000000000000001,
            "bin_start": 0.5,
            "count": 0
           },
           {
            "bin_end": 0.7000000000000001,
            "bin_start": 0.6000000000000001,
            "count": 0
           },
           {
            "bin_end": 0.8,
            "bin_start": 0.7000000000000001,
            "count": 0
           },
           {
            "bin_end": 0.9,
            "bin_start": 0.8,
            "count": 0
           },
           {
            "bin_end": 1,
            "bin_start": 0.9,
            "count": 0
           }
          ],
          "max": null,
          "min": null,
          "nan_count": 5,
          "unique_count": 0
         }
        },
        {
         "dtype": "float64",
         "name": "wk62",
         "stats": {
          "histogram": [
           {
            "bin_end": 0.1,
            "bin_start": 0,
            "count": 0
           },
           {
            "bin_end": 0.2,
            "bin_start": 0.1,
            "count": 0
           },
           {
            "bin_end": 0.30000000000000004,
            "bin_start": 0.2,
            "count": 0
           },
           {
            "bin_end": 0.4,
            "bin_start": 0.30000000000000004,
            "count": 0
           },
           {
            "bin_end": 0.5,
            "bin_start": 0.4,
            "count": 0
           },
           {
            "bin_end": 0.6000000000000001,
            "bin_start": 0.5,
            "count": 0
           },
           {
            "bin_end": 0.7000000000000001,
            "bin_start": 0.6000000000000001,
            "count": 0
           },
           {
            "bin_end": 0.8,
            "bin_start": 0.7000000000000001,
            "count": 0
           },
           {
            "bin_end": 0.9,
            "bin_start": 0.8,
            "count": 0
           },
           {
            "bin_end": 1,
            "bin_start": 0.9,
            "count": 0
           }
          ],
          "max": null,
          "min": null,
          "nan_count": 5,
          "unique_count": 0
         }
        },
        {
         "dtype": "float64",
         "name": "wk63",
         "stats": {
          "histogram": [
           {
            "bin_end": 0.1,
            "bin_start": 0,
            "count": 0
           },
           {
            "bin_end": 0.2,
            "bin_start": 0.1,
            "count": 0
           },
           {
            "bin_end": 0.30000000000000004,
            "bin_start": 0.2,
            "count": 0
           },
           {
            "bin_end": 0.4,
            "bin_start": 0.30000000000000004,
            "count": 0
           },
           {
            "bin_end": 0.5,
            "bin_start": 0.4,
            "count": 0
           },
           {
            "bin_end": 0.6000000000000001,
            "bin_start": 0.5,
            "count": 0
           },
           {
            "bin_end": 0.7000000000000001,
            "bin_start": 0.6000000000000001,
            "count": 0
           },
           {
            "bin_end": 0.8,
            "bin_start": 0.7000000000000001,
            "count": 0
           },
           {
            "bin_end": 0.9,
            "bin_start": 0.8,
            "count": 0
           },
           {
            "bin_end": 1,
            "bin_start": 0.9,
            "count": 0
           }
          ],
          "max": null,
          "min": null,
          "nan_count": 5,
          "unique_count": 0
         }
        },
        {
         "dtype": "float64",
         "name": "wk64",
         "stats": {
          "histogram": [
           {
            "bin_end": 0.1,
            "bin_start": 0,
            "count": 0
           },
           {
            "bin_end": 0.2,
            "bin_start": 0.1,
            "count": 0
           },
           {
            "bin_end": 0.30000000000000004,
            "bin_start": 0.2,
            "count": 0
           },
           {
            "bin_end": 0.4,
            "bin_start": 0.30000000000000004,
            "count": 0
           },
           {
            "bin_end": 0.5,
            "bin_start": 0.4,
            "count": 0
           },
           {
            "bin_end": 0.6000000000000001,
            "bin_start": 0.5,
            "count": 0
           },
           {
            "bin_end": 0.7000000000000001,
            "bin_start": 0.6000000000000001,
            "count": 0
           },
           {
            "bin_end": 0.8,
            "bin_start": 0.7000000000000001,
            "count": 0
           },
           {
            "bin_end": 0.9,
            "bin_start": 0.8,
            "count": 0
           },
           {
            "bin_end": 1,
            "bin_start": 0.9,
            "count": 0
           }
          ],
          "max": null,
          "min": null,
          "nan_count": 5,
          "unique_count": 0
         }
        },
        {
         "dtype": "float64",
         "name": "wk65",
         "stats": {
          "histogram": [
           {
            "bin_end": 0.1,
            "bin_start": 0,
            "count": 0
           },
           {
            "bin_end": 0.2,
            "bin_start": 0.1,
            "count": 0
           },
           {
            "bin_end": 0.30000000000000004,
            "bin_start": 0.2,
            "count": 0
           },
           {
            "bin_end": 0.4,
            "bin_start": 0.30000000000000004,
            "count": 0
           },
           {
            "bin_end": 0.5,
            "bin_start": 0.4,
            "count": 0
           },
           {
            "bin_end": 0.6000000000000001,
            "bin_start": 0.5,
            "count": 0
           },
           {
            "bin_end": 0.7000000000000001,
            "bin_start": 0.6000000000000001,
            "count": 0
           },
           {
            "bin_end": 0.8,
            "bin_start": 0.7000000000000001,
            "count": 0
           },
           {
            "bin_end": 0.9,
            "bin_start": 0.8,
            "count": 0
           },
           {
            "bin_end": 1,
            "bin_start": 0.9,
            "count": 0
           }
          ],
          "max": null,
          "min": null,
          "nan_count": 5,
          "unique_count": 0
         }
        },
        {
         "dtype": "float64",
         "name": "wk66",
         "stats": {
          "histogram": [
           {
            "bin_end": 0.1,
            "bin_start": 0,
            "count": 0
           },
           {
            "bin_end": 0.2,
            "bin_start": 0.1,
            "count": 0
           },
           {
            "bin_end": 0.30000000000000004,
            "bin_start": 0.2,
            "count": 0
           },
           {
            "bin_end": 0.4,
            "bin_start": 0.30000000000000004,
            "count": 0
           },
           {
            "bin_end": 0.5,
            "bin_start": 0.4,
            "count": 0
           },
           {
            "bin_end": 0.6000000000000001,
            "bin_start": 0.5,
            "count": 0
           },
           {
            "bin_end": 0.7000000000000001,
            "bin_start": 0.6000000000000001,
            "count": 0
           },
           {
            "bin_end": 0.8,
            "bin_start": 0.7000000000000001,
            "count": 0
           },
           {
            "bin_end": 0.9,
            "bin_start": 0.8,
            "count": 0
           },
           {
            "bin_end": 1,
            "bin_start": 0.9,
            "count": 0
           }
          ],
          "max": null,
          "min": null,
          "nan_count": 5,
          "unique_count": 0
         }
        },
        {
         "dtype": "float64",
         "name": "wk67",
         "stats": {
          "histogram": [
           {
            "bin_end": 0.1,
            "bin_start": 0,
            "count": 0
           },
           {
            "bin_end": 0.2,
            "bin_start": 0.1,
            "count": 0
           },
           {
            "bin_end": 0.30000000000000004,
            "bin_start": 0.2,
            "count": 0
           },
           {
            "bin_end": 0.4,
            "bin_start": 0.30000000000000004,
            "count": 0
           },
           {
            "bin_end": 0.5,
            "bin_start": 0.4,
            "count": 0
           },
           {
            "bin_end": 0.6000000000000001,
            "bin_start": 0.5,
            "count": 0
           },
           {
            "bin_end": 0.7000000000000001,
            "bin_start": 0.6000000000000001,
            "count": 0
           },
           {
            "bin_end": 0.8,
            "bin_start": 0.7000000000000001,
            "count": 0
           },
           {
            "bin_end": 0.9,
            "bin_start": 0.8,
            "count": 0
           },
           {
            "bin_end": 1,
            "bin_start": 0.9,
            "count": 0
           }
          ],
          "max": null,
          "min": null,
          "nan_count": 5,
          "unique_count": 0
         }
        },
        {
         "dtype": "float64",
         "name": "wk68",
         "stats": {
          "histogram": [
           {
            "bin_end": 0.1,
            "bin_start": 0,
            "count": 0
           },
           {
            "bin_end": 0.2,
            "bin_start": 0.1,
            "count": 0
           },
           {
            "bin_end": 0.30000000000000004,
            "bin_start": 0.2,
            "count": 0
           },
           {
            "bin_end": 0.4,
            "bin_start": 0.30000000000000004,
            "count": 0
           },
           {
            "bin_end": 0.5,
            "bin_start": 0.4,
            "count": 0
           },
           {
            "bin_end": 0.6000000000000001,
            "bin_start": 0.5,
            "count": 0
           },
           {
            "bin_end": 0.7000000000000001,
            "bin_start": 0.6000000000000001,
            "count": 0
           },
           {
            "bin_end": 0.8,
            "bin_start": 0.7000000000000001,
            "count": 0
           },
           {
            "bin_end": 0.9,
            "bin_start": 0.8,
            "count": 0
           },
           {
            "bin_end": 1,
            "bin_start": 0.9,
            "count": 0
           }
          ],
          "max": null,
          "min": null,
          "nan_count": 5,
          "unique_count": 0
         }
        },
        {
         "dtype": "float64",
         "name": "wk69",
         "stats": {
          "histogram": [
           {
            "bin_end": 0.1,
            "bin_start": 0,
            "count": 0
           },
           {
            "bin_end": 0.2,
            "bin_start": 0.1,
            "count": 0
           },
           {
            "bin_end": 0.30000000000000004,
            "bin_start": 0.2,
            "count": 0
           },
           {
            "bin_end": 0.4,
            "bin_start": 0.30000000000000004,
            "count": 0
           },
           {
            "bin_end": 0.5,
            "bin_start": 0.4,
            "count": 0
           },
           {
            "bin_end": 0.6000000000000001,
            "bin_start": 0.5,
            "count": 0
           },
           {
            "bin_end": 0.7000000000000001,
            "bin_start": 0.6000000000000001,
            "count": 0
           },
           {
            "bin_end": 0.8,
            "bin_start": 0.7000000000000001,
            "count": 0
           },
           {
            "bin_end": 0.9,
            "bin_start": 0.8,
            "count": 0
           },
           {
            "bin_end": 1,
            "bin_start": 0.9,
            "count": 0
           }
          ],
          "max": null,
          "min": null,
          "nan_count": 5,
          "unique_count": 0
         }
        },
        {
         "dtype": "float64",
         "name": "wk70",
         "stats": {
          "histogram": [
           {
            "bin_end": 0.1,
            "bin_start": 0,
            "count": 0
           },
           {
            "bin_end": 0.2,
            "bin_start": 0.1,
            "count": 0
           },
           {
            "bin_end": 0.30000000000000004,
            "bin_start": 0.2,
            "count": 0
           },
           {
            "bin_end": 0.4,
            "bin_start": 0.30000000000000004,
            "count": 0
           },
           {
            "bin_end": 0.5,
            "bin_start": 0.4,
            "count": 0
           },
           {
            "bin_end": 0.6000000000000001,
            "bin_start": 0.5,
            "count": 0
           },
           {
            "bin_end": 0.7000000000000001,
            "bin_start": 0.6000000000000001,
            "count": 0
           },
           {
            "bin_end": 0.8,
            "bin_start": 0.7000000000000001,
            "count": 0
           },
           {
            "bin_end": 0.9,
            "bin_start": 0.8,
            "count": 0
           },
           {
            "bin_end": 1,
            "bin_start": 0.9,
            "count": 0
           }
          ],
          "max": null,
          "min": null,
          "nan_count": 5,
          "unique_count": 0
         }
        },
        {
         "dtype": "float64",
         "name": "wk71",
         "stats": {
          "histogram": [
           {
            "bin_end": 0.1,
            "bin_start": 0,
            "count": 0
           },
           {
            "bin_end": 0.2,
            "bin_start": 0.1,
            "count": 0
           },
           {
            "bin_end": 0.30000000000000004,
            "bin_start": 0.2,
            "count": 0
           },
           {
            "bin_end": 0.4,
            "bin_start": 0.30000000000000004,
            "count": 0
           },
           {
            "bin_end": 0.5,
            "bin_start": 0.4,
            "count": 0
           },
           {
            "bin_end": 0.6000000000000001,
            "bin_start": 0.5,
            "count": 0
           },
           {
            "bin_end": 0.7000000000000001,
            "bin_start": 0.6000000000000001,
            "count": 0
           },
           {
            "bin_end": 0.8,
            "bin_start": 0.7000000000000001,
            "count": 0
           },
           {
            "bin_end": 0.9,
            "bin_start": 0.8,
            "count": 0
           },
           {
            "bin_end": 1,
            "bin_start": 0.9,
            "count": 0
           }
          ],
          "max": null,
          "min": null,
          "nan_count": 5,
          "unique_count": 0
         }
        },
        {
         "dtype": "float64",
         "name": "wk72",
         "stats": {
          "histogram": [
           {
            "bin_end": 0.1,
            "bin_start": 0,
            "count": 0
           },
           {
            "bin_end": 0.2,
            "bin_start": 0.1,
            "count": 0
           },
           {
            "bin_end": 0.30000000000000004,
            "bin_start": 0.2,
            "count": 0
           },
           {
            "bin_end": 0.4,
            "bin_start": 0.30000000000000004,
            "count": 0
           },
           {
            "bin_end": 0.5,
            "bin_start": 0.4,
            "count": 0
           },
           {
            "bin_end": 0.6000000000000001,
            "bin_start": 0.5,
            "count": 0
           },
           {
            "bin_end": 0.7000000000000001,
            "bin_start": 0.6000000000000001,
            "count": 0
           },
           {
            "bin_end": 0.8,
            "bin_start": 0.7000000000000001,
            "count": 0
           },
           {
            "bin_end": 0.9,
            "bin_start": 0.8,
            "count": 0
           },
           {
            "bin_end": 1,
            "bin_start": 0.9,
            "count": 0
           }
          ],
          "max": null,
          "min": null,
          "nan_count": 5,
          "unique_count": 0
         }
        },
        {
         "dtype": "float64",
         "name": "wk73",
         "stats": {
          "histogram": [
           {
            "bin_end": 0.1,
            "bin_start": 0,
            "count": 0
           },
           {
            "bin_end": 0.2,
            "bin_start": 0.1,
            "count": 0
           },
           {
            "bin_end": 0.30000000000000004,
            "bin_start": 0.2,
            "count": 0
           },
           {
            "bin_end": 0.4,
            "bin_start": 0.30000000000000004,
            "count": 0
           },
           {
            "bin_end": 0.5,
            "bin_start": 0.4,
            "count": 0
           },
           {
            "bin_end": 0.6000000000000001,
            "bin_start": 0.5,
            "count": 0
           },
           {
            "bin_end": 0.7000000000000001,
            "bin_start": 0.6000000000000001,
            "count": 0
           },
           {
            "bin_end": 0.8,
            "bin_start": 0.7000000000000001,
            "count": 0
           },
           {
            "bin_end": 0.9,
            "bin_start": 0.8,
            "count": 0
           },
           {
            "bin_end": 1,
            "bin_start": 0.9,
            "count": 0
           }
          ],
          "max": null,
          "min": null,
          "nan_count": 5,
          "unique_count": 0
         }
        },
        {
         "dtype": "float64",
         "name": "wk74",
         "stats": {
          "histogram": [
           {
            "bin_end": 0.1,
            "bin_start": 0,
            "count": 0
           },
           {
            "bin_end": 0.2,
            "bin_start": 0.1,
            "count": 0
           },
           {
            "bin_end": 0.30000000000000004,
            "bin_start": 0.2,
            "count": 0
           },
           {
            "bin_end": 0.4,
            "bin_start": 0.30000000000000004,
            "count": 0
           },
           {
            "bin_end": 0.5,
            "bin_start": 0.4,
            "count": 0
           },
           {
            "bin_end": 0.6000000000000001,
            "bin_start": 0.5,
            "count": 0
           },
           {
            "bin_end": 0.7000000000000001,
            "bin_start": 0.6000000000000001,
            "count": 0
           },
           {
            "bin_end": 0.8,
            "bin_start": 0.7000000000000001,
            "count": 0
           },
           {
            "bin_end": 0.9,
            "bin_start": 0.8,
            "count": 0
           },
           {
            "bin_end": 1,
            "bin_start": 0.9,
            "count": 0
           }
          ],
          "max": null,
          "min": null,
          "nan_count": 5,
          "unique_count": 0
         }
        },
        {
         "dtype": "float64",
         "name": "wk75",
         "stats": {
          "histogram": [
           {
            "bin_end": 0.1,
            "bin_start": 0,
            "count": 0
           },
           {
            "bin_end": 0.2,
            "bin_start": 0.1,
            "count": 0
           },
           {
            "bin_end": 0.30000000000000004,
            "bin_start": 0.2,
            "count": 0
           },
           {
            "bin_end": 0.4,
            "bin_start": 0.30000000000000004,
            "count": 0
           },
           {
            "bin_end": 0.5,
            "bin_start": 0.4,
            "count": 0
           },
           {
            "bin_end": 0.6000000000000001,
            "bin_start": 0.5,
            "count": 0
           },
           {
            "bin_end": 0.7000000000000001,
            "bin_start": 0.6000000000000001,
            "count": 0
           },
           {
            "bin_end": 0.8,
            "bin_start": 0.7000000000000001,
            "count": 0
           },
           {
            "bin_end": 0.9,
            "bin_start": 0.8,
            "count": 0
           },
           {
            "bin_end": 1,
            "bin_start": 0.9,
            "count": 0
           }
          ],
          "max": null,
          "min": null,
          "nan_count": 5,
          "unique_count": 0
         }
        },
        {
         "dtype": "float64",
         "name": "wk76",
         "stats": {
          "histogram": [
           {
            "bin_end": 0.1,
            "bin_start": 0,
            "count": 0
           },
           {
            "bin_end": 0.2,
            "bin_start": 0.1,
            "count": 0
           },
           {
            "bin_end": 0.30000000000000004,
            "bin_start": 0.2,
            "count": 0
           },
           {
            "bin_end": 0.4,
            "bin_start": 0.30000000000000004,
            "count": 0
           },
           {
            "bin_end": 0.5,
            "bin_start": 0.4,
            "count": 0
           },
           {
            "bin_end": 0.6000000000000001,
            "bin_start": 0.5,
            "count": 0
           },
           {
            "bin_end": 0.7000000000000001,
            "bin_start": 0.6000000000000001,
            "count": 0
           },
           {
            "bin_end": 0.8,
            "bin_start": 0.7000000000000001,
            "count": 0
           },
           {
            "bin_end": 0.9,
            "bin_start": 0.8,
            "count": 0
           },
           {
            "bin_end": 1,
            "bin_start": 0.9,
            "count": 0
           }
          ],
          "max": null,
          "min": null,
          "nan_count": 5,
          "unique_count": 0
         }
        },
        {
         "dtype": "int64",
         "name": "_deepnote_index_column"
        }
       ],
       "row_count": 5,
       "rows_bottom": null,
       "rows_top": [
        {
         "_deepnote_index_column": 0,
         "artist": "2 Pac",
         "date.entered": "2000-02-26",
         "time": "4:22",
         "track": "Baby Don't Cry (Keep...",
         "wk1": 87,
         "wk10": "nan",
         "wk11": "nan",
         "wk12": "nan",
         "wk13": "nan",
         "wk14": "nan",
         "wk15": "nan",
         "wk16": "nan",
         "wk17": "nan",
         "wk18": "nan",
         "wk19": "nan",
         "wk2": 82,
         "wk20": "nan",
         "wk21": "nan",
         "wk22": "nan",
         "wk23": "nan",
         "wk24": "nan",
         "wk25": "nan",
         "wk26": "nan",
         "wk27": "nan",
         "wk28": "nan",
         "wk29": "nan",
         "wk3": 72,
         "wk30": "nan",
         "wk31": "nan",
         "wk32": "nan",
         "wk33": "nan",
         "wk34": "nan",
         "wk35": "nan",
         "wk36": "nan",
         "wk37": "nan",
         "wk38": "nan",
         "wk39": "nan",
         "wk4": "77.0",
         "wk40": "nan",
         "wk41": "nan",
         "wk42": "nan",
         "wk43": "nan",
         "wk44": "nan",
         "wk45": "nan",
         "wk46": "nan",
         "wk47": "nan",
         "wk48": "nan",
         "wk49": "nan",
         "wk5": "87.0",
         "wk50": "nan",
         "wk51": "nan",
         "wk52": "nan",
         "wk53": "nan",
         "wk54": "nan",
         "wk55": "nan",
         "wk56": "nan",
         "wk57": "nan",
         "wk58": "nan",
         "wk59": "nan",
         "wk6": "94.0",
         "wk60": "nan",
         "wk61": "nan",
         "wk62": "nan",
         "wk63": "nan",
         "wk64": "nan",
         "wk65": "nan",
         "wk66": "nan",
         "wk67": "nan",
         "wk68": "nan",
         "wk69": "nan",
         "wk7": "99.0",
         "wk70": "nan",
         "wk71": "nan",
         "wk72": "nan",
         "wk73": "nan",
         "wk74": "nan",
         "wk75": "nan",
         "wk76": "nan",
         "wk8": "nan",
         "wk9": "nan",
         "year": 2000
        },
        {
         "_deepnote_index_column": 1,
         "artist": "2Ge+her",
         "date.entered": "2000-09-02",
         "time": "3:15",
         "track": "The Hardest Part Of ...",
         "wk1": 91,
         "wk10": "nan",
         "wk11": "nan",
         "wk12": "nan",
         "wk13": "nan",
         "wk14": "nan",
         "wk15": "nan",
         "wk16": "nan",
         "wk17": "nan",
         "wk18": "nan",
         "wk19": "nan",
         "wk2": 87,
         "wk20": "nan",
         "wk21": "nan",
         "wk22": "nan",
         "wk23": "nan",
         "wk24": "nan",
         "wk25": "nan",
         "wk26": "nan",
         "wk27": "nan",
         "wk28": "nan",
         "wk29": "nan",
         "wk3": 92,
         "wk30": "nan",
         "wk31": "nan",
         "wk32": "nan",
         "wk33": "nan",
         "wk34": "nan",
         "wk35": "nan",
         "wk36": "nan",
         "wk37": "nan",
         "wk38": "nan",
         "wk39": "nan",
         "wk4": "nan",
         "wk40": "nan",
         "wk41": "nan",
         "wk42": "nan",
         "wk43": "nan",
         "wk44": "nan",
         "wk45": "nan",
         "wk46": "nan",
         "wk47": "nan",
         "wk48": "nan",
         "wk49": "nan",
         "wk5": "nan",
         "wk50": "nan",
         "wk51": "nan",
         "wk52": "nan",
         "wk53": "nan",
         "wk54": "nan",
         "wk55": "nan",
         "wk56": "nan",
         "wk57": "nan",
         "wk58": "nan",
         "wk59": "nan",
         "wk6": "nan",
         "wk60": "nan",
         "wk61": "nan",
         "wk62": "nan",
         "wk63": "nan",
         "wk64": "nan",
         "wk65": "nan",
         "wk66": "nan",
         "wk67": "nan",
         "wk68": "nan",
         "wk69": "nan",
         "wk7": "nan",
         "wk70": "nan",
         "wk71": "nan",
         "wk72": "nan",
         "wk73": "nan",
         "wk74": "nan",
         "wk75": "nan",
         "wk76": "nan",
         "wk8": "nan",
         "wk9": "nan",
         "year": 2000
        },
        {
         "_deepnote_index_column": 2,
         "artist": "3 Doors Down",
         "date.entered": "2000-04-08",
         "time": "3:53",
         "track": "Kryptonite",
         "wk1": 81,
         "wk10": "51.0",
         "wk11": "51.0",
         "wk12": "51.0",
         "wk13": "47.0",
         "wk14": "44.0",
         "wk15": "38.0",
         "wk16": "28.0",
         "wk17": "22.0",
         "wk18": "18.0",
         "wk19": "18.0",
         "wk2": 70,
         "wk20": "14.0",
         "wk21": "12.0",
         "wk22": "7.0",
         "wk23": "6.0",
         "wk24": "6.0",
         "wk25": "6.0",
         "wk26": "5.0",
         "wk27": "5.0",
         "wk28": "4.0",
         "wk29": "4.0",
         "wk3": 68,
         "wk30": "4.0",
         "wk31": "4.0",
         "wk32": "3.0",
         "wk33": "3.0",
         "wk34": "3.0",
         "wk35": "4.0",
         "wk36": "5.0",
         "wk37": "5.0",
         "wk38": "9.0",
         "wk39": "9.0",
         "wk4": "67.0",
         "wk40": "15.0",
         "wk41": "14.0",
         "wk42": "13.0",
         "wk43": "14.0",
         "wk44": "16.0",
         "wk45": "17.0",
         "wk46": "21.0",
         "wk47": "22.0",
         "wk48": "24.0",
         "wk49": "28.0",
         "wk5": "66.0",
         "wk50": "33.0",
         "wk51": "42.0",
         "wk52": "42.0",
         "wk53": "49.0",
         "wk54": "nan",
         "wk55": "nan",
         "wk56": "nan",
         "wk57": "nan",
         "wk58": "nan",
         "wk59": "nan",
         "wk6": "57.0",
         "wk60": "nan",
         "wk61": "nan",
         "wk62": "nan",
         "wk63": "nan",
         "wk64": "nan",
         "wk65": "nan",
         "wk66": "nan",
         "wk67": "nan",
         "wk68": "nan",
         "wk69": "nan",
         "wk7": "54.0",
         "wk70": "nan",
         "wk71": "nan",
         "wk72": "nan",
         "wk73": "nan",
         "wk74": "nan",
         "wk75": "nan",
         "wk76": "nan",
         "wk8": "53.0",
         "wk9": "51.0",
         "year": 2000
        },
        {
         "_deepnote_index_column": 3,
         "artist": "3 Doors Down",
         "date.entered": "2000-10-21",
         "time": "4:24",
         "track": "Loser",
         "wk1": 76,
         "wk10": "61.0",
         "wk11": "61.0",
         "wk12": "59.0",
         "wk13": "61.0",
         "wk14": "66.0",
         "wk15": "72.0",
         "wk16": "76.0",
         "wk17": "75.0",
         "wk18": "67.0",
         "wk19": "73.0",
         "wk2": 76,
         "wk20": "70.0",
         "wk21": "nan",
         "wk22": "nan",
         "wk23": "nan",
         "wk24": "nan",
         "wk25": "nan",
         "wk26": "nan",
         "wk27": "nan",
         "wk28": "nan",
         "wk29": "nan",
         "wk3": 72,
         "wk30": "nan",
         "wk31": "nan",
         "wk32": "nan",
         "wk33": "nan",
         "wk34": "nan",
         "wk35": "nan",
         "wk36": "nan",
         "wk37": "nan",
         "wk38": "nan",
         "wk39": "nan",
         "wk4": "69.0",
         "wk40": "nan",
         "wk41": "nan",
         "wk42": "nan",
         "wk43": "nan",
         "wk44": "nan",
         "wk45": "nan",
         "wk46": "nan",
         "wk47": "nan",
         "wk48": "nan",
         "wk49": "nan",
         "wk5": "67.0",
         "wk50": "nan",
         "wk51": "nan",
         "wk52": "nan",
         "wk53": "nan",
         "wk54": "nan",
         "wk55": "nan",
         "wk56": "nan",
         "wk57": "nan",
         "wk58": "nan",
         "wk59": "nan",
         "wk6": "65.0",
         "wk60": "nan",
         "wk61": "nan",
         "wk62": "nan",
         "wk63": "nan",
         "wk64": "nan",
         "wk65": "nan",
         "wk66": "nan",
         "wk67": "nan",
         "wk68": "nan",
         "wk69": "nan",
         "wk7": "55.0",
         "wk70": "nan",
         "wk71": "nan",
         "wk72": "nan",
         "wk73": "nan",
         "wk74": "nan",
         "wk75": "nan",
         "wk76": "nan",
         "wk8": "59.0",
         "wk9": "62.0",
         "year": 2000
        },
        {
         "_deepnote_index_column": 4,
         "artist": "504 Boyz",
         "date.entered": "2000-04-15",
         "time": "3:35",
         "track": "Wobble Wobble",
         "wk1": 57,
         "wk10": "57.0",
         "wk11": "64.0",
         "wk12": "70.0",
         "wk13": "75.0",
         "wk14": "76.0",
         "wk15": "78.0",
         "wk16": "85.0",
         "wk17": "92.0",
         "wk18": "96.0",
         "wk19": "nan",
         "wk2": 34,
         "wk20": "nan",
         "wk21": "nan",
         "wk22": "nan",
         "wk23": "nan",
         "wk24": "nan",
         "wk25": "nan",
         "wk26": "nan",
         "wk27": "nan",
         "wk28": "nan",
         "wk29": "nan",
         "wk3": 25,
         "wk30": "nan",
         "wk31": "nan",
         "wk32": "nan",
         "wk33": "nan",
         "wk34": "nan",
         "wk35": "nan",
         "wk36": "nan",
         "wk37": "nan",
         "wk38": "nan",
         "wk39": "nan",
         "wk4": "17.0",
         "wk40": "nan",
         "wk41": "nan",
         "wk42": "nan",
         "wk43": "nan",
         "wk44": "nan",
         "wk45": "nan",
         "wk46": "nan",
         "wk47": "nan",
         "wk48": "nan",
         "wk49": "nan",
         "wk5": "17.0",
         "wk50": "nan",
         "wk51": "nan",
         "wk52": "nan",
         "wk53": "nan",
         "wk54": "nan",
         "wk55": "nan",
         "wk56": "nan",
         "wk57": "nan",
         "wk58": "nan",
         "wk59": "nan",
         "wk6": "31.0",
         "wk60": "nan",
         "wk61": "nan",
         "wk62": "nan",
         "wk63": "nan",
         "wk64": "nan",
         "wk65": "nan",
         "wk66": "nan",
         "wk67": "nan",
         "wk68": "nan",
         "wk69": "nan",
         "wk7": "36.0",
         "wk70": "nan",
         "wk71": "nan",
         "wk72": "nan",
         "wk73": "nan",
         "wk74": "nan",
         "wk75": "nan",
         "wk76": "nan",
         "wk8": "49.0",
         "wk9": "53.0",
         "year": 2000
        }
       ]
      },
      "text/html": "<div>\n<style scoped>\n    .dataframe tbody tr th:only-of-type {\n        vertical-align: middle;\n    }\n\n    .dataframe tbody tr th {\n        vertical-align: top;\n    }\n\n    .dataframe thead th {\n        text-align: right;\n    }\n</style>\n<table border=\"1\" class=\"dataframe\">\n  <thead>\n    <tr style=\"text-align: right;\">\n      <th></th>\n      <th>year</th>\n      <th>artist</th>\n      <th>track</th>\n      <th>time</th>\n      <th>date.entered</th>\n      <th>wk1</th>\n      <th>wk2</th>\n      <th>wk3</th>\n      <th>wk4</th>\n      <th>wk5</th>\n      <th>...</th>\n      <th>wk67</th>\n      <th>wk68</th>\n      <th>wk69</th>\n      <th>wk70</th>\n      <th>wk71</th>\n      <th>wk72</th>\n      <th>wk73</th>\n      <th>wk74</th>\n      <th>wk75</th>\n      <th>wk76</th>\n    </tr>\n  </thead>\n  <tbody>\n    <tr>\n      <th>0</th>\n      <td>2000</td>\n      <td>2 Pac</td>\n      <td>Baby Don't Cry (Keep...</td>\n      <td>4:22</td>\n      <td>2000-02-26</td>\n      <td>87</td>\n      <td>82.0</td>\n      <td>72.0</td>\n      <td>77.0</td>\n      <td>87.0</td>\n      <td>...</td>\n      <td>NaN</td>\n      <td>NaN</td>\n      <td>NaN</td>\n      <td>NaN</td>\n      <td>NaN</td>\n      <td>NaN</td>\n      <td>NaN</td>\n      <td>NaN</td>\n      <td>NaN</td>\n      <td>NaN</td>\n    </tr>\n    <tr>\n      <th>1</th>\n      <td>2000</td>\n      <td>2Ge+her</td>\n      <td>The Hardest Part Of ...</td>\n      <td>3:15</td>\n      <td>2000-09-02</td>\n      <td>91</td>\n      <td>87.0</td>\n      <td>92.0</td>\n      <td>NaN</td>\n      <td>NaN</td>\n      <td>...</td>\n      <td>NaN</td>\n      <td>NaN</td>\n      <td>NaN</td>\n      <td>NaN</td>\n      <td>NaN</td>\n      <td>NaN</td>\n      <td>NaN</td>\n      <td>NaN</td>\n      <td>NaN</td>\n      <td>NaN</td>\n    </tr>\n    <tr>\n      <th>2</th>\n      <td>2000</td>\n      <td>3 Doors Down</td>\n      <td>Kryptonite</td>\n      <td>3:53</td>\n      <td>2000-04-08</td>\n      <td>81</td>\n      <td>70.0</td>\n      <td>68.0</td>\n      <td>67.0</td>\n      <td>66.0</td>\n      <td>...</td>\n      <td>NaN</td>\n      <td>NaN</td>\n      <td>NaN</td>\n      <td>NaN</td>\n      <td>NaN</td>\n      <td>NaN</td>\n      <td>NaN</td>\n      <td>NaN</td>\n      <td>NaN</td>\n      <td>NaN</td>\n    </tr>\n    <tr>\n      <th>3</th>\n      <td>2000</td>\n      <td>3 Doors Down</td>\n      <td>Loser</td>\n      <td>4:24</td>\n      <td>2000-10-21</td>\n      <td>76</td>\n      <td>76.0</td>\n      <td>72.0</td>\n      <td>69.0</td>\n      <td>67.0</td>\n      <td>...</td>\n      <td>NaN</td>\n      <td>NaN</td>\n      <td>NaN</td>\n      <td>NaN</td>\n      <td>NaN</td>\n      <td>NaN</td>\n      <td>NaN</td>\n      <td>NaN</td>\n      <td>NaN</td>\n      <td>NaN</td>\n    </tr>\n    <tr>\n      <th>4</th>\n      <td>2000</td>\n      <td>504 Boyz</td>\n      <td>Wobble Wobble</td>\n      <td>3:35</td>\n      <td>2000-04-15</td>\n      <td>57</td>\n      <td>34.0</td>\n      <td>25.0</td>\n      <td>17.0</td>\n      <td>17.0</td>\n      <td>...</td>\n      <td>NaN</td>\n      <td>NaN</td>\n      <td>NaN</td>\n      <td>NaN</td>\n      <td>NaN</td>\n      <td>NaN</td>\n      <td>NaN</td>\n      <td>NaN</td>\n      <td>NaN</td>\n      <td>NaN</td>\n    </tr>\n  </tbody>\n</table>\n<p>5 rows × 81 columns</p>\n</div>",
      "text/plain": "   year        artist                    track  time date.entered  wk1   wk2  \\\n0  2000         2 Pac  Baby Don't Cry (Keep...  4:22   2000-02-26   87  82.0   \n1  2000       2Ge+her  The Hardest Part Of ...  3:15   2000-09-02   91  87.0   \n2  2000  3 Doors Down               Kryptonite  3:53   2000-04-08   81  70.0   \n3  2000  3 Doors Down                    Loser  4:24   2000-10-21   76  76.0   \n4  2000      504 Boyz            Wobble Wobble  3:35   2000-04-15   57  34.0   \n\n    wk3   wk4   wk5  ...  wk67  wk68  wk69  wk70  wk71  wk72  wk73  wk74  \\\n0  72.0  77.0  87.0  ...   NaN   NaN   NaN   NaN   NaN   NaN   NaN   NaN   \n1  92.0   NaN   NaN  ...   NaN   NaN   NaN   NaN   NaN   NaN   NaN   NaN   \n2  68.0  67.0  66.0  ...   NaN   NaN   NaN   NaN   NaN   NaN   NaN   NaN   \n3  72.0  69.0  67.0  ...   NaN   NaN   NaN   NaN   NaN   NaN   NaN   NaN   \n4  25.0  17.0  17.0  ...   NaN   NaN   NaN   NaN   NaN   NaN   NaN   NaN   \n\n   wk75  wk76  \n0   NaN   NaN  \n1   NaN   NaN  \n2   NaN   NaN  \n3   NaN   NaN  \n4   NaN   NaN  \n\n[5 rows x 81 columns]"
     },
     "execution_count": 15,
     "metadata": {},
     "output_type": "execute_result"
    }
   ]
  },
  {
   "cell_type": "code",
   "metadata": {
    "deepnote_to_be_reexecuted": false,
    "execution_millis": 0,
    "execution_start": 1620083710747,
    "source_hash": "bb4de382",
    "cell_id": "00037-5223b102-eae5-4180-9938-88630b774fbd",
    "deepnote_cell_type": "code"
   },
   "source": "billboard_melt = pd.melt(\n    billboard,\n    id_vars=['year', 'artist', 'track', 'time', 'date.entered'],\n    var_name='week',\n    value_name='rating'\n)",
   "execution_count": null,
   "outputs": []
  },
  {
   "cell_type": "code",
   "metadata": {
    "deepnote_to_be_reexecuted": false,
    "execution_millis": 9,
    "execution_start": 1620083787154,
    "source_hash": "4da1956e",
    "cell_id": "00038-aeca0391-c74b-4b72-bb55-86eca89241b0",
    "deepnote_cell_type": "code"
   },
   "source": "billboard_melt.head()",
   "execution_count": null,
   "outputs": [
    {
     "data": {
      "application/vnd.deepnote.dataframe.v2+json": {
       "column_count": 7,
       "columns": [
        {
         "dtype": "int64",
         "name": "year",
         "stats": {
          "histogram": [
           {
            "bin_end": 1999.6,
            "bin_start": 1999.5,
            "count": 0
           },
           {
            "bin_end": 1999.7,
            "bin_start": 1999.6,
            "count": 0
           },
           {
            "bin_end": 1999.8,
            "bin_start": 1999.7,
            "count": 0
           },
           {
            "bin_end": 1999.9,
            "bin_start": 1999.8,
            "count": 0
           },
           {
            "bin_end": 2000,
            "bin_start": 1999.9,
            "count": 0
           },
           {
            "bin_end": 2000.1,
            "bin_start": 2000,
            "count": 5
           },
           {
            "bin_end": 2000.2,
            "bin_start": 2000.1,
            "count": 0
           },
           {
            "bin_end": 2000.3,
            "bin_start": 2000.2,
            "count": 0
           },
           {
            "bin_end": 2000.4,
            "bin_start": 2000.3,
            "count": 0
           },
           {
            "bin_end": 2000.5,
            "bin_start": 2000.4,
            "count": 0
           }
          ],
          "max": "2000",
          "min": "2000",
          "nan_count": 0,
          "unique_count": 1
         }
        },
        {
         "dtype": "object",
         "name": "artist",
         "stats": {
          "categories": [
           {
            "count": 2,
            "name": "3 Doors Down"
           },
           {
            "count": 1,
            "name": "2 Pac"
           },
           {
            "count": 2,
            "name": "2 others"
           }
          ],
          "nan_count": 0,
          "unique_count": 4
         }
        },
        {
         "dtype": "object",
         "name": "track",
         "stats": {
          "categories": [
           {
            "count": 1,
            "name": "Baby Don't Cry (Keep..."
           },
           {
            "count": 1,
            "name": "The Hardest Part Of ..."
           },
           {
            "count": 3,
            "name": "3 others"
           }
          ],
          "nan_count": 0,
          "unique_count": 5
         }
        },
        {
         "dtype": "object",
         "name": "time",
         "stats": {
          "categories": [
           {
            "count": 1,
            "name": "4:22"
           },
           {
            "count": 1,
            "name": "3:15"
           },
           {
            "count": 3,
            "name": "3 others"
           }
          ],
          "nan_count": 0,
          "unique_count": 5
         }
        },
        {
         "dtype": "object",
         "name": "date.entered",
         "stats": {
          "categories": [
           {
            "count": 1,
            "name": "2000-02-26"
           },
           {
            "count": 1,
            "name": "2000-09-02"
           },
           {
            "count": 3,
            "name": "3 others"
           }
          ],
          "nan_count": 0,
          "unique_count": 5
         }
        },
        {
         "dtype": "object",
         "name": "week",
         "stats": {
          "categories": [
           {
            "count": 5,
            "name": "wk1"
           }
          ],
          "nan_count": 0,
          "unique_count": 1
         }
        },
        {
         "dtype": "float64",
         "name": "rating",
         "stats": {
          "histogram": [
           {
            "bin_end": 60.4,
            "bin_start": 57,
            "count": 1
           },
           {
            "bin_end": 63.8,
            "bin_start": 60.4,
            "count": 0
           },
           {
            "bin_end": 67.2,
            "bin_start": 63.8,
            "count": 0
           },
           {
            "bin_end": 70.6,
            "bin_start": 67.2,
            "count": 0
           },
           {
            "bin_end": 74,
            "bin_start": 70.6,
            "count": 0
           },
           {
            "bin_end": 77.4,
            "bin_start": 74,
            "count": 1
           },
           {
            "bin_end": 80.8,
            "bin_start": 77.4,
            "count": 0
           },
           {
            "bin_end": 84.2,
            "bin_start": 80.8,
            "count": 1
           },
           {
            "bin_end": 87.6,
            "bin_start": 84.2,
            "count": 1
           },
           {
            "bin_end": 91,
            "bin_start": 87.6,
            "count": 1
           }
          ],
          "max": "91.0",
          "min": "57.0",
          "nan_count": 0,
          "unique_count": 5
         }
        },
        {
         "dtype": "int64",
         "name": "_deepnote_index_column"
        }
       ],
       "row_count": 5,
       "rows_bottom": null,
       "rows_top": [
        {
         "_deepnote_index_column": 0,
         "artist": "2 Pac",
         "date.entered": "2000-02-26",
         "rating": 87,
         "time": "4:22",
         "track": "Baby Don't Cry (Keep...",
         "week": "wk1",
         "year": 2000
        },
        {
         "_deepnote_index_column": 1,
         "artist": "2Ge+her",
         "date.entered": "2000-09-02",
         "rating": 91,
         "time": "3:15",
         "track": "The Hardest Part Of ...",
         "week": "wk1",
         "year": 2000
        },
        {
         "_deepnote_index_column": 2,
         "artist": "3 Doors Down",
         "date.entered": "2000-04-08",
         "rating": 81,
         "time": "3:53",
         "track": "Kryptonite",
         "week": "wk1",
         "year": 2000
        },
        {
         "_deepnote_index_column": 3,
         "artist": "3 Doors Down",
         "date.entered": "2000-10-21",
         "rating": 76,
         "time": "4:24",
         "track": "Loser",
         "week": "wk1",
         "year": 2000
        },
        {
         "_deepnote_index_column": 4,
         "artist": "504 Boyz",
         "date.entered": "2000-04-15",
         "rating": 57,
         "time": "3:35",
         "track": "Wobble Wobble",
         "week": "wk1",
         "year": 2000
        }
       ]
      },
      "text/html": "<div>\n<style scoped>\n    .dataframe tbody tr th:only-of-type {\n        vertical-align: middle;\n    }\n\n    .dataframe tbody tr th {\n        vertical-align: top;\n    }\n\n    .dataframe thead th {\n        text-align: right;\n    }\n</style>\n<table border=\"1\" class=\"dataframe\">\n  <thead>\n    <tr style=\"text-align: right;\">\n      <th></th>\n      <th>year</th>\n      <th>artist</th>\n      <th>track</th>\n      <th>time</th>\n      <th>date.entered</th>\n      <th>week</th>\n      <th>rating</th>\n    </tr>\n  </thead>\n  <tbody>\n    <tr>\n      <th>0</th>\n      <td>2000</td>\n      <td>2 Pac</td>\n      <td>Baby Don't Cry (Keep...</td>\n      <td>4:22</td>\n      <td>2000-02-26</td>\n      <td>wk1</td>\n      <td>87.0</td>\n    </tr>\n    <tr>\n      <th>1</th>\n      <td>2000</td>\n      <td>2Ge+her</td>\n      <td>The Hardest Part Of ...</td>\n      <td>3:15</td>\n      <td>2000-09-02</td>\n      <td>wk1</td>\n      <td>91.0</td>\n    </tr>\n    <tr>\n      <th>2</th>\n      <td>2000</td>\n      <td>3 Doors Down</td>\n      <td>Kryptonite</td>\n      <td>3:53</td>\n      <td>2000-04-08</td>\n      <td>wk1</td>\n      <td>81.0</td>\n    </tr>\n    <tr>\n      <th>3</th>\n      <td>2000</td>\n      <td>3 Doors Down</td>\n      <td>Loser</td>\n      <td>4:24</td>\n      <td>2000-10-21</td>\n      <td>wk1</td>\n      <td>76.0</td>\n    </tr>\n    <tr>\n      <th>4</th>\n      <td>2000</td>\n      <td>504 Boyz</td>\n      <td>Wobble Wobble</td>\n      <td>3:35</td>\n      <td>2000-04-15</td>\n      <td>wk1</td>\n      <td>57.0</td>\n    </tr>\n  </tbody>\n</table>\n</div>",
      "text/plain": "   year        artist                    track  time date.entered week  rating\n0  2000         2 Pac  Baby Don't Cry (Keep...  4:22   2000-02-26  wk1    87.0\n1  2000       2Ge+her  The Hardest Part Of ...  3:15   2000-09-02  wk1    91.0\n2  2000  3 Doors Down               Kryptonite  3:53   2000-04-08  wk1    81.0\n3  2000  3 Doors Down                    Loser  4:24   2000-10-21  wk1    76.0\n4  2000      504 Boyz            Wobble Wobble  3:35   2000-04-15  wk1    57.0"
     },
     "execution_count": 17,
     "metadata": {},
     "output_type": "execute_result"
    }
   ]
  },
  {
   "cell_type": "code",
   "metadata": {
    "deepnote_to_be_reexecuted": false,
    "execution_millis": 6,
    "execution_start": 1620083787960,
    "source_hash": "9bafa9e7",
    "cell_id": "00039-09fc1dc9-fde8-4496-9be6-f45bcbbc9244",
    "deepnote_cell_type": "code"
   },
   "source": "billboard.shape",
   "execution_count": null,
   "outputs": [
    {
     "data": {
      "text/plain": "(317, 81)"
     },
     "execution_count": 18,
     "metadata": {},
     "output_type": "execute_result"
    }
   ]
  },
  {
   "cell_type": "code",
   "metadata": {
    "deepnote_to_be_reexecuted": false,
    "execution_millis": 6,
    "execution_start": 1620083795015,
    "source_hash": "c992492",
    "cell_id": "00040-4d35dc45-f3d6-4233-b21c-d02c91ed4535",
    "deepnote_cell_type": "code"
   },
   "source": "billboard_melt.shape",
   "execution_count": null,
   "outputs": [
    {
     "data": {
      "text/plain": "(24092, 7)"
     },
     "execution_count": 19,
     "metadata": {},
     "output_type": "execute_result"
    }
   ]
  },
  {
   "cell_type": "code",
   "metadata": {
    "deepnote_to_be_reexecuted": false,
    "execution_millis": 10,
    "execution_start": 1620083857065,
    "source_hash": "aa0cc940",
    "cell_id": "00041-ee87fb32-6a5c-4cb8-8be5-e762e95e9834",
    "deepnote_cell_type": "code"
   },
   "source": "ebola = pd.read_csv('../data/country_timeseries.csv')",
   "execution_count": null,
   "outputs": []
  },
  {
   "cell_type": "code",
   "metadata": {
    "deepnote_to_be_reexecuted": false,
    "execution_millis": 12,
    "execution_start": 1620083860825,
    "source_hash": "66bdeb92",
    "cell_id": "00042-8b685dcd-9dc0-40d4-b84d-8c199e274bd8",
    "deepnote_cell_type": "code"
   },
   "source": "ebola.head()",
   "execution_count": null,
   "outputs": [
    {
     "data": {
      "application/vnd.deepnote.dataframe.v2+json": {
       "column_count": 18,
       "columns": [
        {
         "dtype": "object",
         "name": "Date",
         "stats": {
          "categories": [
           {
            "count": 1,
            "name": "1/5/2015"
           },
           {
            "count": 1,
            "name": "1/4/2015"
           },
           {
            "count": 3,
            "name": "3 others"
           }
          ],
          "nan_count": 0,
          "unique_count": 5
         }
        },
        {
         "dtype": "int64",
         "name": "Day",
         "stats": {
          "histogram": [
           {
            "bin_end": 284.5,
            "bin_start": 284,
            "count": 1
           },
           {
            "bin_end": 285,
            "bin_start": 284.5,
            "count": 0
           },
           {
            "bin_end": 285.5,
            "bin_start": 285,
            "count": 0
           },
           {
            "bin_end": 286,
            "bin_start": 285.5,
            "count": 0
           },
           {
            "bin_end": 286.5,
            "bin_start": 286,
            "count": 1
           },
           {
            "bin_end": 287,
            "bin_start": 286.5,
            "count": 0
           },
           {
            "bin_end": 287.5,
            "bin_start": 287,
            "count": 1
           },
           {
            "bin_end": 288,
            "bin_start": 287.5,
            "count": 0
           },
           {
            "bin_end": 288.5,
            "bin_start": 288,
            "count": 1
           },
           {
            "bin_end": 289,
            "bin_start": 288.5,
            "count": 1
           }
          ],
          "max": "289",
          "min": "284",
          "nan_count": 0,
          "unique_count": 5
         }
        },
        {
         "dtype": "float64",
         "name": "Cases_Guinea",
         "stats": {
          "histogram": [
           {
            "bin_end": 2734.6,
            "bin_start": 2730,
            "count": 1
           },
           {
            "bin_end": 2739.2,
            "bin_start": 2734.6,
            "count": 0
           },
           {
            "bin_end": 2743.8,
            "bin_start": 2739.2,
            "count": 0
           },
           {
            "bin_end": 2748.4,
            "bin_start": 2743.8,
            "count": 0
           },
           {
            "bin_end": 2753,
            "bin_start": 2748.4,
            "count": 0
           },
           {
            "bin_end": 2757.6,
            "bin_start": 2753,
            "count": 0
           },
           {
            "bin_end": 2762.2,
            "bin_start": 2757.6,
            "count": 0
           },
           {
            "bin_end": 2766.8,
            "bin_start": 2762.2,
            "count": 0
           },
           {
            "bin_end": 2771.4,
            "bin_start": 2766.8,
            "count": 1
           },
           {
            "bin_end": 2776,
            "bin_start": 2771.4,
            "count": 2
           }
          ],
          "max": "2776.0",
          "min": "2730.0",
          "nan_count": 1,
          "unique_count": 4
         }
        },
        {
         "dtype": "float64",
         "name": "Cases_Liberia",
         "stats": {
          "histogram": [
           {
            "bin_end": 8120.1,
            "bin_start": 8115,
            "count": 1
           },
           {
            "bin_end": 8125.2,
            "bin_start": 8120.1,
            "count": 0
           },
           {
            "bin_end": 8130.3,
            "bin_start": 8125.2,
            "count": 0
           },
           {
            "bin_end": 8135.4,
            "bin_start": 8130.3,
            "count": 0
           },
           {
            "bin_end": 8140.5,
            "bin_start": 8135.4,
            "count": 0
           },
           {
            "bin_end": 8145.6,
            "bin_start": 8140.5,
            "count": 0
           },
           {
            "bin_end": 8150.7,
            "bin_start": 8145.6,
            "count": 0
           },
           {
            "bin_end": 8155.8,
            "bin_start": 8150.7,
            "count": 0
           },
           {
            "bin_end": 8160.9,
            "bin_start": 8155.8,
            "count": 1
           },
           {
            "bin_end": 8166,
            "bin_start": 8160.9,
            "count": 1
           }
          ],
          "max": "8166.0",
          "min": "8115.0",
          "nan_count": 2,
          "unique_count": 3
         }
        },
        {
         "dtype": "float64",
         "name": "Cases_SierraLeone",
         "stats": {
          "histogram": [
           {
            "bin_end": 9672.7,
            "bin_start": 9633,
            "count": 1
           },
           {
            "bin_end": 9712.4,
            "bin_start": 9672.7,
            "count": 0
           },
           {
            "bin_end": 9752.1,
            "bin_start": 9712.4,
            "count": 1
           },
           {
            "bin_end": 9791.8,
            "bin_start": 9752.1,
            "count": 1
           },
           {
            "bin_end": 9831.5,
            "bin_start": 9791.8,
            "count": 0
           },
           {
            "bin_end": 9871.2,
            "bin_start": 9831.5,
            "count": 0
           },
           {
            "bin_end": 9910.9,
            "bin_start": 9871.2,
            "count": 0
           },
           {
            "bin_end": 9950.6,
            "bin_start": 9910.9,
            "count": 0
           },
           {
            "bin_end": 9990.3,
            "bin_start": 9950.6,
            "count": 0
           },
           {
            "bin_end": 10030,
            "bin_start": 9990.3,
            "count": 1
           }
          ],
          "max": "10030.0",
          "min": "9633.0",
          "nan_count": 1,
          "unique_count": 4
         }
        },
        {
         "dtype": "float64",
         "name": "Cases_Nigeria",
         "stats": {
          "histogram": [
           {
            "bin_end": 0.1,
            "bin_start": 0,
            "count": 0
           },
           {
            "bin_end": 0.2,
            "bin_start": 0.1,
            "count": 0
           },
           {
            "bin_end": 0.30000000000000004,
            "bin_start": 0.2,
            "count": 0
           },
           {
            "bin_end": 0.4,
            "bin_start": 0.30000000000000004,
            "count": 0
           },
           {
            "bin_end": 0.5,
            "bin_start": 0.4,
            "count": 0
           },
           {
            "bin_end": 0.6000000000000001,
            "bin_start": 0.5,
            "count": 0
           },
           {
            "bin_end": 0.7000000000000001,
            "bin_start": 0.6000000000000001,
            "count": 0
           },
           {
            "bin_end": 0.8,
            "bin_start": 0.7000000000000001,
            "count": 0
           },
           {
            "bin_end": 0.9,
            "bin_start": 0.8,
            "count": 0
           },
           {
            "bin_end": 1,
            "bin_start": 0.9,
            "count": 0
           }
          ],
          "max": null,
          "min": null,
          "nan_count": 5,
          "unique_count": 0
         }
        },
        {
         "dtype": "float64",
         "name": "Cases_Senegal",
         "stats": {
          "histogram": [
           {
            "bin_end": 0.1,
            "bin_start": 0,
            "count": 0
           },
           {
            "bin_end": 0.2,
            "bin_start": 0.1,
            "count": 0
           },
           {
            "bin_end": 0.30000000000000004,
            "bin_start": 0.2,
            "count": 0
           },
           {
            "bin_end": 0.4,
            "bin_start": 0.30000000000000004,
            "count": 0
           },
           {
            "bin_end": 0.5,
            "bin_start": 0.4,
            "count": 0
           },
           {
            "bin_end": 0.6000000000000001,
            "bin_start": 0.5,
            "count": 0
           },
           {
            "bin_end": 0.7000000000000001,
            "bin_start": 0.6000000000000001,
            "count": 0
           },
           {
            "bin_end": 0.8,
            "bin_start": 0.7000000000000001,
            "count": 0
           },
           {
            "bin_end": 0.9,
            "bin_start": 0.8,
            "count": 0
           },
           {
            "bin_end": 1,
            "bin_start": 0.9,
            "count": 0
           }
          ],
          "max": null,
          "min": null,
          "nan_count": 5,
          "unique_count": 0
         }
        },
        {
         "dtype": "float64",
         "name": "Cases_UnitedStates",
         "stats": {
          "histogram": [
           {
            "bin_end": 0.1,
            "bin_start": 0,
            "count": 0
           },
           {
            "bin_end": 0.2,
            "bin_start": 0.1,
            "count": 0
           },
           {
            "bin_end": 0.30000000000000004,
            "bin_start": 0.2,
            "count": 0
           },
           {
            "bin_end": 0.4,
            "bin_start": 0.30000000000000004,
            "count": 0
           },
           {
            "bin_end": 0.5,
            "bin_start": 0.4,
            "count": 0
           },
           {
            "bin_end": 0.6000000000000001,
            "bin_start": 0.5,
            "count": 0
           },
           {
            "bin_end": 0.7000000000000001,
            "bin_start": 0.6000000000000001,
            "count": 0
           },
           {
            "bin_end": 0.8,
            "bin_start": 0.7000000000000001,
            "count": 0
           },
           {
            "bin_end": 0.9,
            "bin_start": 0.8,
            "count": 0
           },
           {
            "bin_end": 1,
            "bin_start": 0.9,
            "count": 0
           }
          ],
          "max": null,
          "min": null,
          "nan_count": 5,
          "unique_count": 0
         }
        },
        {
         "dtype": "float64",
         "name": "Cases_Spain",
         "stats": {
          "histogram": [
           {
            "bin_end": 0.1,
            "bin_start": 0,
            "count": 0
           },
           {
            "bin_end": 0.2,
            "bin_start": 0.1,
            "count": 0
           },
           {
            "bin_end": 0.30000000000000004,
            "bin_start": 0.2,
            "count": 0
           },
           {
            "bin_end": 0.4,
            "bin_start": 0.30000000000000004,
            "count": 0
           },
           {
            "bin_end": 0.5,
            "bin_start": 0.4,
            "count": 0
           },
           {
            "bin_end": 0.6000000000000001,
            "bin_start": 0.5,
            "count": 0
           },
           {
            "bin_end": 0.7000000000000001,
            "bin_start": 0.6000000000000001,
            "count": 0
           },
           {
            "bin_end": 0.8,
            "bin_start": 0.7000000000000001,
            "count": 0
           },
           {
            "bin_end": 0.9,
            "bin_start": 0.8,
            "count": 0
           },
           {
            "bin_end": 1,
            "bin_start": 0.9,
            "count": 0
           }
          ],
          "max": null,
          "min": null,
          "nan_count": 5,
          "unique_count": 0
         }
        },
        {
         "dtype": "float64",
         "name": "Cases_Mali",
         "stats": {
          "histogram": [
           {
            "bin_end": 0.1,
            "bin_start": 0,
            "count": 0
           },
           {
            "bin_end": 0.2,
            "bin_start": 0.1,
            "count": 0
           },
           {
            "bin_end": 0.30000000000000004,
            "bin_start": 0.2,
            "count": 0
           },
           {
            "bin_end": 0.4,
            "bin_start": 0.30000000000000004,
            "count": 0
           },
           {
            "bin_end": 0.5,
            "bin_start": 0.4,
            "count": 0
           },
           {
            "bin_end": 0.6000000000000001,
            "bin_start": 0.5,
            "count": 0
           },
           {
            "bin_end": 0.7000000000000001,
            "bin_start": 0.6000000000000001,
            "count": 0
           },
           {
            "bin_end": 0.8,
            "bin_start": 0.7000000000000001,
            "count": 0
           },
           {
            "bin_end": 0.9,
            "bin_start": 0.8,
            "count": 0
           },
           {
            "bin_end": 1,
            "bin_start": 0.9,
            "count": 0
           }
          ],
          "max": null,
          "min": null,
          "nan_count": 5,
          "unique_count": 0
         }
        },
        {
         "dtype": "float64",
         "name": "Deaths_Guinea",
         "stats": {
          "histogram": [
           {
            "bin_end": 1743.7,
            "bin_start": 1739,
            "count": 1
           },
           {
            "bin_end": 1748.4,
            "bin_start": 1743.7,
            "count": 0
           },
           {
            "bin_end": 1753.1,
            "bin_start": 1748.4,
            "count": 0
           },
           {
            "bin_end": 1757.8,
            "bin_start": 1753.1,
            "count": 0
           },
           {
            "bin_end": 1762.5,
            "bin_start": 1757.8,
            "count": 0
           },
           {
            "bin_end": 1767.2,
            "bin_start": 1762.5,
            "count": 1
           },
           {
            "bin_end": 1771.9,
            "bin_start": 1767.2,
            "count": 0
           },
           {
            "bin_end": 1776.6,
            "bin_start": 1771.9,
            "count": 0
           },
           {
            "bin_end": 1781.3,
            "bin_start": 1776.6,
            "count": 1
           },
           {
            "bin_end": 1786,
            "bin_start": 1781.3,
            "count": 1
           }
          ],
          "max": "1786.0",
          "min": "1739.0",
          "nan_count": 1,
          "unique_count": 4
         }
        },
        {
         "dtype": "float64",
         "name": "Deaths_Liberia",
         "stats": {
          "histogram": [
           {
            "bin_end": 3473.5,
            "bin_start": 3471,
            "count": 1
           },
           {
            "bin_end": 3476,
            "bin_start": 3473.5,
            "count": 0
           },
           {
            "bin_end": 3478.5,
            "bin_start": 3476,
            "count": 0
           },
           {
            "bin_end": 3481,
            "bin_start": 3478.5,
            "count": 0
           },
           {
            "bin_end": 3483.5,
            "bin_start": 3481,
            "count": 0
           },
           {
            "bin_end": 3486,
            "bin_start": 3483.5,
            "count": 0
           },
           {
            "bin_end": 3488.5,
            "bin_start": 3486,
            "count": 0
           },
           {
            "bin_end": 3491,
            "bin_start": 3488.5,
            "count": 0
           },
           {
            "bin_end": 3493.5,
            "bin_start": 3491,
            "count": 0
           },
           {
            "bin_end": 3496,
            "bin_start": 3493.5,
            "count": 2
           }
          ],
          "max": "3496.0",
          "min": "3471.0",
          "nan_count": 2,
          "unique_count": 2
         }
        },
        {
         "dtype": "float64",
         "name": "Deaths_SierraLeone",
         "stats": {
          "histogram": [
           {
            "bin_end": 2842,
            "bin_start": 2827,
            "count": 1
           },
           {
            "bin_end": 2857,
            "bin_start": 2842,
            "count": 0
           },
           {
            "bin_end": 2872,
            "bin_start": 2857,
            "count": 0
           },
           {
            "bin_end": 2887,
            "bin_start": 2872,
            "count": 0
           },
           {
            "bin_end": 2902,
            "bin_start": 2887,
            "count": 0
           },
           {
            "bin_end": 2917,
            "bin_start": 2902,
            "count": 1
           },
           {
            "bin_end": 2932,
            "bin_start": 2917,
            "count": 0
           },
           {
            "bin_end": 2947,
            "bin_start": 2932,
            "count": 1
           },
           {
            "bin_end": 2962,
            "bin_start": 2947,
            "count": 0
           },
           {
            "bin_end": 2977,
            "bin_start": 2962,
            "count": 1
           }
          ],
          "max": "2977.0",
          "min": "2827.0",
          "nan_count": 1,
          "unique_count": 4
         }
        },
        {
         "dtype": "float64",
         "name": "Deaths_Nigeria",
         "stats": {
          "histogram": [
           {
            "bin_end": 0.1,
            "bin_start": 0,
            "count": 0
           },
           {
            "bin_end": 0.2,
            "bin_start": 0.1,
            "count": 0
           },
           {
            "bin_end": 0.30000000000000004,
            "bin_start": 0.2,
            "count": 0
           },
           {
            "bin_end": 0.4,
            "bin_start": 0.30000000000000004,
            "count": 0
           },
           {
            "bin_end": 0.5,
            "bin_start": 0.4,
            "count": 0
           },
           {
            "bin_end": 0.6000000000000001,
            "bin_start": 0.5,
            "count": 0
           },
           {
            "bin_end": 0.7000000000000001,
            "bin_start": 0.6000000000000001,
            "count": 0
           },
           {
            "bin_end": 0.8,
            "bin_start": 0.7000000000000001,
            "count": 0
           },
           {
            "bin_end": 0.9,
            "bin_start": 0.8,
            "count": 0
           },
           {
            "bin_end": 1,
            "bin_start": 0.9,
            "count": 0
           }
          ],
          "max": null,
          "min": null,
          "nan_count": 5,
          "unique_count": 0
         }
        },
        {
         "dtype": "float64",
         "name": "Deaths_Senegal",
         "stats": {
          "histogram": [
           {
            "bin_end": 0.1,
            "bin_start": 0,
            "count": 0
           },
           {
            "bin_end": 0.2,
            "bin_start": 0.1,
            "count": 0
           },
           {
            "bin_end": 0.30000000000000004,
            "bin_start": 0.2,
            "count": 0
           },
           {
            "bin_end": 0.4,
            "bin_start": 0.30000000000000004,
            "count": 0
           },
           {
            "bin_end": 0.5,
            "bin_start": 0.4,
            "count": 0
           },
           {
            "bin_end": 0.6000000000000001,
            "bin_start": 0.5,
            "count": 0
           },
           {
            "bin_end": 0.7000000000000001,
            "bin_start": 0.6000000000000001,
            "count": 0
           },
           {
            "bin_end": 0.8,
            "bin_start": 0.7000000000000001,
            "count": 0
           },
           {
            "bin_end": 0.9,
            "bin_start": 0.8,
            "count": 0
           },
           {
            "bin_end": 1,
            "bin_start": 0.9,
            "count": 0
           }
          ],
          "max": null,
          "min": null,
          "nan_count": 5,
          "unique_count": 0
         }
        },
        {
         "dtype": "float64",
         "name": "Deaths_UnitedStates",
         "stats": {
          "histogram": [
           {
            "bin_end": 0.1,
            "bin_start": 0,
            "count": 0
           },
           {
            "bin_end": 0.2,
            "bin_start": 0.1,
            "count": 0
           },
           {
            "bin_end": 0.30000000000000004,
            "bin_start": 0.2,
            "count": 0
           },
           {
            "bin_end": 0.4,
            "bin_start": 0.30000000000000004,
            "count": 0
           },
           {
            "bin_end": 0.5,
            "bin_start": 0.4,
            "count": 0
           },
           {
            "bin_end": 0.6000000000000001,
            "bin_start": 0.5,
            "count": 0
           },
           {
            "bin_end": 0.7000000000000001,
            "bin_start": 0.6000000000000001,
            "count": 0
           },
           {
            "bin_end": 0.8,
            "bin_start": 0.7000000000000001,
            "count": 0
           },
           {
            "bin_end": 0.9,
            "bin_start": 0.8,
            "count": 0
           },
           {
            "bin_end": 1,
            "bin_start": 0.9,
            "count": 0
           }
          ],
          "max": null,
          "min": null,
          "nan_count": 5,
          "unique_count": 0
         }
        },
        {
         "dtype": "float64",
         "name": "Deaths_Spain",
         "stats": {
          "histogram": [
           {
            "bin_end": 0.1,
            "bin_start": 0,
            "count": 0
           },
           {
            "bin_end": 0.2,
            "bin_start": 0.1,
            "count": 0
           },
           {
            "bin_end": 0.30000000000000004,
            "bin_start": 0.2,
            "count": 0
           },
           {
            "bin_end": 0.4,
            "bin_start": 0.30000000000000004,
            "count": 0
           },
           {
            "bin_end": 0.5,
            "bin_start": 0.4,
            "count": 0
           },
           {
            "bin_end": 0.6000000000000001,
            "bin_start": 0.5,
            "count": 0
           },
           {
            "bin_end": 0.7000000000000001,
            "bin_start": 0.6000000000000001,
            "count": 0
           },
           {
            "bin_end": 0.8,
            "bin_start": 0.7000000000000001,
            "count": 0
           },
           {
            "bin_end": 0.9,
            "bin_start": 0.8,
            "count": 0
           },
           {
            "bin_end": 1,
            "bin_start": 0.9,
            "count": 0
           }
          ],
          "max": null,
          "min": null,
          "nan_count": 5,
          "unique_count": 0
         }
        },
        {
         "dtype": "float64",
         "name": "Deaths_Mali",
         "stats": {
          "histogram": [
           {
            "bin_end": 0.1,
            "bin_start": 0,
            "count": 0
           },
           {
            "bin_end": 0.2,
            "bin_start": 0.1,
            "count": 0
           },
           {
            "bin_end": 0.30000000000000004,
            "bin_start": 0.2,
            "count": 0
           },
           {
            "bin_end": 0.4,
            "bin_start": 0.30000000000000004,
            "count": 0
           },
           {
            "bin_end": 0.5,
            "bin_start": 0.4,
            "count": 0
           },
           {
            "bin_end": 0.6000000000000001,
            "bin_start": 0.5,
            "count": 0
           },
           {
            "bin_end": 0.7000000000000001,
            "bin_start": 0.6000000000000001,
            "count": 0
           },
           {
            "bin_end": 0.8,
            "bin_start": 0.7000000000000001,
            "count": 0
           },
           {
            "bin_end": 0.9,
            "bin_start": 0.8,
            "count": 0
           },
           {
            "bin_end": 1,
            "bin_start": 0.9,
            "count": 0
           }
          ],
          "max": null,
          "min": null,
          "nan_count": 5,
          "unique_count": 0
         }
        },
        {
         "dtype": "int64",
         "name": "_deepnote_index_column"
        }
       ],
       "row_count": 5,
       "rows_bottom": null,
       "rows_top": [
        {
         "Cases_Guinea": "2776.0",
         "Cases_Liberia": "nan",
         "Cases_Mali": "nan",
         "Cases_Nigeria": "nan",
         "Cases_Senegal": "nan",
         "Cases_SierraLeone": "10030.0",
         "Cases_Spain": "nan",
         "Cases_UnitedStates": "nan",
         "Date": "1/5/2015",
         "Day": 289,
         "Deaths_Guinea": "1786.0",
         "Deaths_Liberia": "nan",
         "Deaths_Mali": "nan",
         "Deaths_Nigeria": "nan",
         "Deaths_Senegal": "nan",
         "Deaths_SierraLeone": "2977.0",
         "Deaths_Spain": "nan",
         "Deaths_UnitedStates": "nan",
         "_deepnote_index_column": 0
        },
        {
         "Cases_Guinea": "2775.0",
         "Cases_Liberia": "nan",
         "Cases_Mali": "nan",
         "Cases_Nigeria": "nan",
         "Cases_Senegal": "nan",
         "Cases_SierraLeone": "9780.0",
         "Cases_Spain": "nan",
         "Cases_UnitedStates": "nan",
         "Date": "1/4/2015",
         "Day": 288,
         "Deaths_Guinea": "1781.0",
         "Deaths_Liberia": "nan",
         "Deaths_Mali": "nan",
         "Deaths_Nigeria": "nan",
         "Deaths_Senegal": "nan",
         "Deaths_SierraLeone": "2943.0",
         "Deaths_Spain": "nan",
         "Deaths_UnitedStates": "nan",
         "_deepnote_index_column": 1
        },
        {
         "Cases_Guinea": "2769.0",
         "Cases_Liberia": "8166.0",
         "Cases_Mali": "nan",
         "Cases_Nigeria": "nan",
         "Cases_Senegal": "nan",
         "Cases_SierraLeone": "9722.0",
         "Cases_Spain": "nan",
         "Cases_UnitedStates": "nan",
         "Date": "1/3/2015",
         "Day": 287,
         "Deaths_Guinea": "1767.0",
         "Deaths_Liberia": "3496.0",
         "Deaths_Mali": "nan",
         "Deaths_Nigeria": "nan",
         "Deaths_Senegal": "nan",
         "Deaths_SierraLeone": "2915.0",
         "Deaths_Spain": "nan",
         "Deaths_UnitedStates": "nan",
         "_deepnote_index_column": 2
        },
        {
         "Cases_Guinea": "nan",
         "Cases_Liberia": "8157.0",
         "Cases_Mali": "nan",
         "Cases_Nigeria": "nan",
         "Cases_Senegal": "nan",
         "Cases_SierraLeone": "nan",
         "Cases_Spain": "nan",
         "Cases_UnitedStates": "nan",
         "Date": "1/2/2015",
         "Day": 286,
         "Deaths_Guinea": "nan",
         "Deaths_Liberia": "3496.0",
         "Deaths_Mali": "nan",
         "Deaths_Nigeria": "nan",
         "Deaths_Senegal": "nan",
         "Deaths_SierraLeone": "nan",
         "Deaths_Spain": "nan",
         "Deaths_UnitedStates": "nan",
         "_deepnote_index_column": 3
        },
        {
         "Cases_Guinea": "2730.0",
         "Cases_Liberia": "8115.0",
         "Cases_Mali": "nan",
         "Cases_Nigeria": "nan",
         "Cases_Senegal": "nan",
         "Cases_SierraLeone": "9633.0",
         "Cases_Spain": "nan",
         "Cases_UnitedStates": "nan",
         "Date": "12/31/2014",
         "Day": 284,
         "Deaths_Guinea": "1739.0",
         "Deaths_Liberia": "3471.0",
         "Deaths_Mali": "nan",
         "Deaths_Nigeria": "nan",
         "Deaths_Senegal": "nan",
         "Deaths_SierraLeone": "2827.0",
         "Deaths_Spain": "nan",
         "Deaths_UnitedStates": "nan",
         "_deepnote_index_column": 4
        }
       ]
      },
      "text/html": "<div>\n<style scoped>\n    .dataframe tbody tr th:only-of-type {\n        vertical-align: middle;\n    }\n\n    .dataframe tbody tr th {\n        vertical-align: top;\n    }\n\n    .dataframe thead th {\n        text-align: right;\n    }\n</style>\n<table border=\"1\" class=\"dataframe\">\n  <thead>\n    <tr style=\"text-align: right;\">\n      <th></th>\n      <th>Date</th>\n      <th>Day</th>\n      <th>Cases_Guinea</th>\n      <th>Cases_Liberia</th>\n      <th>Cases_SierraLeone</th>\n      <th>Cases_Nigeria</th>\n      <th>Cases_Senegal</th>\n      <th>Cases_UnitedStates</th>\n      <th>Cases_Spain</th>\n      <th>Cases_Mali</th>\n      <th>Deaths_Guinea</th>\n      <th>Deaths_Liberia</th>\n      <th>Deaths_SierraLeone</th>\n      <th>Deaths_Nigeria</th>\n      <th>Deaths_Senegal</th>\n      <th>Deaths_UnitedStates</th>\n      <th>Deaths_Spain</th>\n      <th>Deaths_Mali</th>\n    </tr>\n  </thead>\n  <tbody>\n    <tr>\n      <th>0</th>\n      <td>1/5/2015</td>\n      <td>289</td>\n      <td>2776.0</td>\n      <td>NaN</td>\n      <td>10030.0</td>\n      <td>NaN</td>\n      <td>NaN</td>\n      <td>NaN</td>\n      <td>NaN</td>\n      <td>NaN</td>\n      <td>1786.0</td>\n      <td>NaN</td>\n      <td>2977.0</td>\n      <td>NaN</td>\n      <td>NaN</td>\n      <td>NaN</td>\n      <td>NaN</td>\n      <td>NaN</td>\n    </tr>\n    <tr>\n      <th>1</th>\n      <td>1/4/2015</td>\n      <td>288</td>\n      <td>2775.0</td>\n      <td>NaN</td>\n      <td>9780.0</td>\n      <td>NaN</td>\n      <td>NaN</td>\n      <td>NaN</td>\n      <td>NaN</td>\n      <td>NaN</td>\n      <td>1781.0</td>\n      <td>NaN</td>\n      <td>2943.0</td>\n      <td>NaN</td>\n      <td>NaN</td>\n      <td>NaN</td>\n      <td>NaN</td>\n      <td>NaN</td>\n    </tr>\n    <tr>\n      <th>2</th>\n      <td>1/3/2015</td>\n      <td>287</td>\n      <td>2769.0</td>\n      <td>8166.0</td>\n      <td>9722.0</td>\n      <td>NaN</td>\n      <td>NaN</td>\n      <td>NaN</td>\n      <td>NaN</td>\n      <td>NaN</td>\n      <td>1767.0</td>\n      <td>3496.0</td>\n      <td>2915.0</td>\n      <td>NaN</td>\n      <td>NaN</td>\n      <td>NaN</td>\n      <td>NaN</td>\n      <td>NaN</td>\n    </tr>\n    <tr>\n      <th>3</th>\n      <td>1/2/2015</td>\n      <td>286</td>\n      <td>NaN</td>\n      <td>8157.0</td>\n      <td>NaN</td>\n      <td>NaN</td>\n      <td>NaN</td>\n      <td>NaN</td>\n      <td>NaN</td>\n      <td>NaN</td>\n      <td>NaN</td>\n      <td>3496.0</td>\n      <td>NaN</td>\n      <td>NaN</td>\n      <td>NaN</td>\n      <td>NaN</td>\n      <td>NaN</td>\n      <td>NaN</td>\n    </tr>\n    <tr>\n      <th>4</th>\n      <td>12/31/2014</td>\n      <td>284</td>\n      <td>2730.0</td>\n      <td>8115.0</td>\n      <td>9633.0</td>\n      <td>NaN</td>\n      <td>NaN</td>\n      <td>NaN</td>\n      <td>NaN</td>\n      <td>NaN</td>\n      <td>1739.0</td>\n      <td>3471.0</td>\n      <td>2827.0</td>\n      <td>NaN</td>\n      <td>NaN</td>\n      <td>NaN</td>\n      <td>NaN</td>\n      <td>NaN</td>\n    </tr>\n  </tbody>\n</table>\n</div>",
      "text/plain": "         Date  Day  Cases_Guinea  Cases_Liberia  Cases_SierraLeone  \\\n0    1/5/2015  289        2776.0            NaN            10030.0   \n1    1/4/2015  288        2775.0            NaN             9780.0   \n2    1/3/2015  287        2769.0         8166.0             9722.0   \n3    1/2/2015  286           NaN         8157.0                NaN   \n4  12/31/2014  284        2730.0         8115.0             9633.0   \n\n   Cases_Nigeria  Cases_Senegal  Cases_UnitedStates  Cases_Spain  Cases_Mali  \\\n0            NaN            NaN                 NaN          NaN         NaN   \n1            NaN            NaN                 NaN          NaN         NaN   \n2            NaN            NaN                 NaN          NaN         NaN   \n3            NaN            NaN                 NaN          NaN         NaN   \n4            NaN            NaN                 NaN          NaN         NaN   \n\n   Deaths_Guinea  Deaths_Liberia  Deaths_SierraLeone  Deaths_Nigeria  \\\n0         1786.0             NaN              2977.0             NaN   \n1         1781.0             NaN              2943.0             NaN   \n2         1767.0          3496.0              2915.0             NaN   \n3            NaN          3496.0                 NaN             NaN   \n4         1739.0          3471.0              2827.0             NaN   \n\n   Deaths_Senegal  Deaths_UnitedStates  Deaths_Spain  Deaths_Mali  \n0             NaN                  NaN           NaN          NaN  \n1             NaN                  NaN           NaN          NaN  \n2             NaN                  NaN           NaN          NaN  \n3             NaN                  NaN           NaN          NaN  \n4             NaN                  NaN           NaN          NaN  "
     },
     "execution_count": 21,
     "metadata": {},
     "output_type": "execute_result"
    }
   ]
  },
  {
   "cell_type": "code",
   "metadata": {
    "deepnote_to_be_reexecuted": false,
    "execution_millis": 0,
    "execution_start": 1620083959419,
    "source_hash": "20a04a44",
    "cell_id": "00043-5ffaf922-e683-409a-8fdf-cdea89f4326d",
    "deepnote_cell_type": "code"
   },
   "source": "ebola_long = pd.melt(ebola,\n                    id_vars=['Date', 'Day'])",
   "execution_count": null,
   "outputs": []
  },
  {
   "cell_type": "code",
   "metadata": {
    "cell_id": "00044-dae5c77f-7d30-473d-9de7-9668bc58065b",
    "deepnote_cell_type": "code"
   },
   "source": "ebola_long.head()",
   "execution_count": null,
   "outputs": [
    {
     "data": {
      "text/html": "<div>\n<style scoped>\n    .dataframe tbody tr th:only-of-type {\n        vertical-align: middle;\n    }\n\n    .dataframe tbody tr th {\n        vertical-align: top;\n    }\n\n    .dataframe thead th {\n        text-align: right;\n    }\n</style>\n<table border=\"1\" class=\"dataframe\">\n  <thead>\n    <tr style=\"text-align: right;\">\n      <th></th>\n      <th>Date</th>\n      <th>Day</th>\n      <th>variable</th>\n      <th>value</th>\n    </tr>\n  </thead>\n  <tbody>\n    <tr>\n      <th>0</th>\n      <td>1/5/2015</td>\n      <td>289</td>\n      <td>Cases_Guinea</td>\n      <td>2776.0</td>\n    </tr>\n    <tr>\n      <th>1</th>\n      <td>1/4/2015</td>\n      <td>288</td>\n      <td>Cases_Guinea</td>\n      <td>2775.0</td>\n    </tr>\n    <tr>\n      <th>2</th>\n      <td>1/3/2015</td>\n      <td>287</td>\n      <td>Cases_Guinea</td>\n      <td>2769.0</td>\n    </tr>\n    <tr>\n      <th>3</th>\n      <td>1/2/2015</td>\n      <td>286</td>\n      <td>Cases_Guinea</td>\n      <td>NaN</td>\n    </tr>\n    <tr>\n      <th>4</th>\n      <td>12/31/2014</td>\n      <td>284</td>\n      <td>Cases_Guinea</td>\n      <td>2730.0</td>\n    </tr>\n  </tbody>\n</table>\n</div>",
      "text/plain": "         Date  Day      variable   value\n0    1/5/2015  289  Cases_Guinea  2776.0\n1    1/4/2015  288  Cases_Guinea  2775.0\n2    1/3/2015  287  Cases_Guinea  2769.0\n3    1/2/2015  286  Cases_Guinea     NaN\n4  12/31/2014  284  Cases_Guinea  2730.0"
     },
     "execution_count": 21,
     "metadata": {},
     "output_type": "execute_result"
    }
   ]
  },
  {
   "cell_type": "code",
   "metadata": {
    "deepnote_to_be_reexecuted": false,
    "execution_millis": 12,
    "execution_start": 1620084024487,
    "source_hash": "7679c64b",
    "cell_id": "00045-cc256cf4-9416-45ab-ab66-b49722debae1",
    "deepnote_cell_type": "code"
   },
   "source": "'Cases_Guinea'.split('_')",
   "execution_count": null,
   "outputs": [
    {
     "data": {
      "text/plain": "['Cases', 'Guinea']"
     },
     "execution_count": 23,
     "metadata": {},
     "output_type": "execute_result"
    }
   ]
  },
  {
   "cell_type": "code",
   "metadata": {
    "deepnote_to_be_reexecuted": false,
    "execution_millis": 10,
    "execution_start": 1620084062330,
    "source_hash": "4045798d",
    "cell_id": "00046-544175af-6cbf-42c8-b981-703f2412b5a6",
    "deepnote_cell_type": "code"
   },
   "source": "variable_split = ebola_long['variable'].str.split('_')",
   "execution_count": null,
   "outputs": []
  },
  {
   "cell_type": "code",
   "metadata": {
    "deepnote_to_be_reexecuted": false,
    "execution_millis": 8,
    "execution_start": 1620084064237,
    "source_hash": "5b80e257",
    "cell_id": "00047-542fa707-8830-42bc-8f17-cb08ed9ad583",
    "deepnote_cell_type": "code"
   },
   "source": "variable_split",
   "execution_count": null,
   "outputs": [
    {
     "data": {
      "text/plain": "0       [Cases, Guinea]\n1       [Cases, Guinea]\n2       [Cases, Guinea]\n3       [Cases, Guinea]\n4       [Cases, Guinea]\n             ...       \n1947     [Deaths, Mali]\n1948     [Deaths, Mali]\n1949     [Deaths, Mali]\n1950     [Deaths, Mali]\n1951     [Deaths, Mali]\nName: variable, Length: 1952, dtype: object"
     },
     "execution_count": 25,
     "metadata": {},
     "output_type": "execute_result"
    }
   ]
  },
  {
   "cell_type": "code",
   "metadata": {
    "deepnote_to_be_reexecuted": false,
    "execution_millis": 17,
    "execution_start": 1620084067547,
    "source_hash": "6917a254",
    "cell_id": "00048-80bfb941-75f7-4f98-9b04-98aebcc9db46",
    "deepnote_cell_type": "code"
   },
   "source": "type(variable_split)",
   "execution_count": null,
   "outputs": [
    {
     "data": {
      "text/plain": "pandas.core.series.Series"
     },
     "execution_count": 26,
     "metadata": {},
     "output_type": "execute_result"
    }
   ]
  },
  {
   "cell_type": "code",
   "metadata": {
    "deepnote_to_be_reexecuted": false,
    "execution_millis": 6,
    "execution_start": 1620084070926,
    "source_hash": "51442d3b",
    "cell_id": "00049-83c27ae4-d20d-4839-88d5-1983f31fbb8a",
    "deepnote_cell_type": "code"
   },
   "source": "type(variable_split[0])",
   "execution_count": null,
   "outputs": [
    {
     "data": {
      "text/plain": "list"
     },
     "execution_count": 27,
     "metadata": {},
     "output_type": "execute_result"
    }
   ]
  },
  {
   "cell_type": "code",
   "metadata": {
    "deepnote_to_be_reexecuted": false,
    "execution_millis": 8,
    "execution_start": 1620084072049,
    "source_hash": "3028eb79",
    "cell_id": "00050-83edea16-7034-4364-aaea-1922c973fd55",
    "deepnote_cell_type": "code"
   },
   "source": "(variable_split[0][0])",
   "execution_count": null,
   "outputs": [
    {
     "data": {
      "text/plain": "'Cases'"
     },
     "execution_count": 28,
     "metadata": {},
     "output_type": "execute_result"
    }
   ]
  },
  {
   "cell_type": "code",
   "metadata": {
    "deepnote_to_be_reexecuted": false,
    "execution_millis": 8,
    "execution_start": 1620084079116,
    "source_hash": "9c954b71",
    "cell_id": "00051-f09039cf-ac3e-463e-97f1-ba2b67831046",
    "deepnote_cell_type": "code"
   },
   "source": "type(variable_split[0][0])",
   "execution_count": null,
   "outputs": [
    {
     "data": {
      "text/plain": "str"
     },
     "execution_count": 29,
     "metadata": {},
     "output_type": "execute_result"
    }
   ]
  },
  {
   "cell_type": "code",
   "metadata": {
    "deepnote_to_be_reexecuted": false,
    "execution_millis": 22,
    "execution_start": 1620084132954,
    "source_hash": "2eb4fbcc",
    "cell_id": "00052-8090acbb-5328-4264-977a-b09344ecd6b4",
    "deepnote_cell_type": "code"
   },
   "source": "variable_split.str.get(0)",
   "execution_count": null,
   "outputs": [
    {
     "data": {
      "text/plain": "0        Cases\n1        Cases\n2        Cases\n3        Cases\n4        Cases\n         ...  \n1947    Deaths\n1948    Deaths\n1949    Deaths\n1950    Deaths\n1951    Deaths\nName: variable, Length: 1952, dtype: object"
     },
     "execution_count": 30,
     "metadata": {},
     "output_type": "execute_result"
    }
   ]
  },
  {
   "cell_type": "code",
   "metadata": {
    "deepnote_to_be_reexecuted": false,
    "execution_millis": 10,
    "execution_start": 1620084144465,
    "source_hash": "d523ba74",
    "cell_id": "00053-58f5d7f7-7879-44d0-bfc8-44434a9e4e19",
    "deepnote_cell_type": "code"
   },
   "source": "variable_split.str.get(1)",
   "execution_count": null,
   "outputs": [
    {
     "data": {
      "text/plain": "0       Guinea\n1       Guinea\n2       Guinea\n3       Guinea\n4       Guinea\n         ...  \n1947      Mali\n1948      Mali\n1949      Mali\n1950      Mali\n1951      Mali\nName: variable, Length: 1952, dtype: object"
     },
     "execution_count": 31,
     "metadata": {},
     "output_type": "execute_result"
    }
   ]
  },
  {
   "cell_type": "code",
   "metadata": {
    "deepnote_to_be_reexecuted": false,
    "execution_millis": 12,
    "execution_start": 1620084146562,
    "source_hash": "c1020b14",
    "cell_id": "00054-3ae53632-668b-453d-b3c7-ff239c65c002",
    "deepnote_cell_type": "code"
   },
   "source": "ebola_long['stats'] = variable_split.str.get(0)\nebola_long['country'] = variable_split.str.get(1)",
   "execution_count": null,
   "outputs": []
  },
  {
   "cell_type": "code",
   "metadata": {
    "deepnote_to_be_reexecuted": false,
    "execution_millis": 19,
    "execution_start": 1620084150812,
    "source_hash": "878edeaa",
    "cell_id": "00055-d89f7d89-016e-433f-862b-c3504d2403f7",
    "deepnote_cell_type": "code"
   },
   "source": "ebola_long.head()",
   "execution_count": null,
   "outputs": [
    {
     "data": {
      "application/vnd.deepnote.dataframe.v2+json": {
       "column_count": 6,
       "columns": [
        {
         "dtype": "object",
         "name": "Date",
         "stats": {
          "categories": [
           {
            "count": 1,
            "name": "1/5/2015"
           },
           {
            "count": 1,
            "name": "1/4/2015"
           },
           {
            "count": 3,
            "name": "3 others"
           }
          ],
          "nan_count": 0,
          "unique_count": 5
         }
        },
        {
         "dtype": "int64",
         "name": "Day",
         "stats": {
          "histogram": [
           {
            "bin_end": 284.5,
            "bin_start": 284,
            "count": 1
           },
           {
            "bin_end": 285,
            "bin_start": 284.5,
            "count": 0
           },
           {
            "bin_end": 285.5,
            "bin_start": 285,
            "count": 0
           },
           {
            "bin_end": 286,
            "bin_start": 285.5,
            "count": 0
           },
           {
            "bin_end": 286.5,
            "bin_start": 286,
            "count": 1
           },
           {
            "bin_end": 287,
            "bin_start": 286.5,
            "count": 0
           },
           {
            "bin_end": 287.5,
            "bin_start": 287,
            "count": 1
           },
           {
            "bin_end": 288,
            "bin_start": 287.5,
            "count": 0
           },
           {
            "bin_end": 288.5,
            "bin_start": 288,
            "count": 1
           },
           {
            "bin_end": 289,
            "bin_start": 288.5,
            "count": 1
           }
          ],
          "max": "289",
          "min": "284",
          "nan_count": 0,
          "unique_count": 5
         }
        },
        {
         "dtype": "object",
         "name": "variable",
         "stats": {
          "categories": [
           {
            "count": 5,
            "name": "Cases_Guinea"
           }
          ],
          "nan_count": 0,
          "unique_count": 1
         }
        },
        {
         "dtype": "float64",
         "name": "value",
         "stats": {
          "histogram": [
           {
            "bin_end": 2734.6,
            "bin_start": 2730,
            "count": 1
           },
           {
            "bin_end": 2739.2,
            "bin_start": 2734.6,
            "count": 0
           },
           {
            "bin_end": 2743.8,
            "bin_start": 2739.2,
            "count": 0
           },
           {
            "bin_end": 2748.4,
            "bin_start": 2743.8,
            "count": 0
           },
           {
            "bin_end": 2753,
            "bin_start": 2748.4,
            "count": 0
           },
           {
            "bin_end": 2757.6,
            "bin_start": 2753,
            "count": 0
           },
           {
            "bin_end": 2762.2,
            "bin_start": 2757.6,
            "count": 0
           },
           {
            "bin_end": 2766.8,
            "bin_start": 2762.2,
            "count": 0
           },
           {
            "bin_end": 2771.4,
            "bin_start": 2766.8,
            "count": 1
           },
           {
            "bin_end": 2776,
            "bin_start": 2771.4,
            "count": 2
           }
          ],
          "max": "2776.0",
          "min": "2730.0",
          "nan_count": 1,
          "unique_count": 4
         }
        },
        {
         "dtype": "object",
         "name": "stats",
         "stats": {
          "categories": [
           {
            "count": 5,
            "name": "Cases"
           }
          ],
          "nan_count": 0,
          "unique_count": 1
         }
        },
        {
         "dtype": "object",
         "name": "country",
         "stats": {
          "categories": [
           {
            "count": 5,
            "name": "Guinea"
           }
          ],
          "nan_count": 0,
          "unique_count": 1
         }
        },
        {
         "dtype": "int64",
         "name": "_deepnote_index_column"
        }
       ],
       "row_count": 5,
       "rows_bottom": null,
       "rows_top": [
        {
         "Date": "1/5/2015",
         "Day": 289,
         "_deepnote_index_column": 0,
         "country": "Guinea",
         "stats": "Cases",
         "value": "2776.0",
         "variable": "Cases_Guinea"
        },
        {
         "Date": "1/4/2015",
         "Day": 288,
         "_deepnote_index_column": 1,
         "country": "Guinea",
         "stats": "Cases",
         "value": "2775.0",
         "variable": "Cases_Guinea"
        },
        {
         "Date": "1/3/2015",
         "Day": 287,
         "_deepnote_index_column": 2,
         "country": "Guinea",
         "stats": "Cases",
         "value": "2769.0",
         "variable": "Cases_Guinea"
        },
        {
         "Date": "1/2/2015",
         "Day": 286,
         "_deepnote_index_column": 3,
         "country": "Guinea",
         "stats": "Cases",
         "value": "nan",
         "variable": "Cases_Guinea"
        },
        {
         "Date": "12/31/2014",
         "Day": 284,
         "_deepnote_index_column": 4,
         "country": "Guinea",
         "stats": "Cases",
         "value": "2730.0",
         "variable": "Cases_Guinea"
        }
       ]
      },
      "text/html": "<div>\n<style scoped>\n    .dataframe tbody tr th:only-of-type {\n        vertical-align: middle;\n    }\n\n    .dataframe tbody tr th {\n        vertical-align: top;\n    }\n\n    .dataframe thead th {\n        text-align: right;\n    }\n</style>\n<table border=\"1\" class=\"dataframe\">\n  <thead>\n    <tr style=\"text-align: right;\">\n      <th></th>\n      <th>Date</th>\n      <th>Day</th>\n      <th>variable</th>\n      <th>value</th>\n      <th>stats</th>\n      <th>country</th>\n    </tr>\n  </thead>\n  <tbody>\n    <tr>\n      <th>0</th>\n      <td>1/5/2015</td>\n      <td>289</td>\n      <td>Cases_Guinea</td>\n      <td>2776.0</td>\n      <td>Cases</td>\n      <td>Guinea</td>\n    </tr>\n    <tr>\n      <th>1</th>\n      <td>1/4/2015</td>\n      <td>288</td>\n      <td>Cases_Guinea</td>\n      <td>2775.0</td>\n      <td>Cases</td>\n      <td>Guinea</td>\n    </tr>\n    <tr>\n      <th>2</th>\n      <td>1/3/2015</td>\n      <td>287</td>\n      <td>Cases_Guinea</td>\n      <td>2769.0</td>\n      <td>Cases</td>\n      <td>Guinea</td>\n    </tr>\n    <tr>\n      <th>3</th>\n      <td>1/2/2015</td>\n      <td>286</td>\n      <td>Cases_Guinea</td>\n      <td>NaN</td>\n      <td>Cases</td>\n      <td>Guinea</td>\n    </tr>\n    <tr>\n      <th>4</th>\n      <td>12/31/2014</td>\n      <td>284</td>\n      <td>Cases_Guinea</td>\n      <td>2730.0</td>\n      <td>Cases</td>\n      <td>Guinea</td>\n    </tr>\n  </tbody>\n</table>\n</div>",
      "text/plain": "         Date  Day      variable   value  stats country\n0    1/5/2015  289  Cases_Guinea  2776.0  Cases  Guinea\n1    1/4/2015  288  Cases_Guinea  2775.0  Cases  Guinea\n2    1/3/2015  287  Cases_Guinea  2769.0  Cases  Guinea\n3    1/2/2015  286  Cases_Guinea     NaN  Cases  Guinea\n4  12/31/2014  284  Cases_Guinea  2730.0  Cases  Guinea"
     },
     "execution_count": 33,
     "metadata": {},
     "output_type": "execute_result"
    }
   ]
  },
  {
   "cell_type": "code",
   "metadata": {
    "deepnote_to_be_reexecuted": false,
    "execution_millis": 0,
    "execution_start": 1620084243319,
    "source_hash": "d7fa5d7e",
    "cell_id": "00056-58461317-4a8b-4df9-97eb-923bf39b37e1",
    "deepnote_cell_type": "code"
   },
   "source": "ebola_long[['stats_e', 'country_e']] = (ebola_long['variable']\n                                        .str\n                                        .split('_', expand=True))",
   "execution_count": null,
   "outputs": []
  },
  {
   "cell_type": "code",
   "metadata": {
    "deepnote_to_be_reexecuted": false,
    "execution_millis": 89,
    "execution_start": 1620084248130,
    "source_hash": "446ef541",
    "cell_id": "00057-81ed1e4a-7f11-4cd1-a57b-9e7a7e795d05",
    "deepnote_cell_type": "code"
   },
   "source": "ebola_long",
   "execution_count": null,
   "outputs": [
    {
     "data": {
      "application/vnd.deepnote.dataframe.v2+json": {
       "column_count": 8,
       "columns": [
        {
         "dtype": "object",
         "name": "Date",
         "stats": {
          "categories": [
           {
            "count": 16,
            "name": "1/5/2015"
           },
           {
            "count": 16,
            "name": "1/4/2015"
           },
           {
            "count": 1920,
            "name": "120 others"
           }
          ],
          "nan_count": 0,
          "unique_count": 122
         }
        },
        {
         "dtype": "int64",
         "name": "Day",
         "stats": {
          "histogram": [
           {
            "bin_end": 28.9,
            "bin_start": 0,
            "count": 272
           },
           {
            "bin_end": 57.8,
            "bin_start": 28.9,
            "count": 192
           },
           {
            "bin_end": 86.69999999999999,
            "bin_start": 57.8,
            "count": 128
           },
           {
            "bin_end": 115.6,
            "bin_start": 86.69999999999999,
            "count": 176
           },
           {
            "bin_end": 144.5,
            "bin_start": 115.6,
            "count": 176
           },
           {
            "bin_end": 173.39999999999998,
            "bin_start": 144.5,
            "count": 144
           },
           {
            "bin_end": 202.29999999999998,
            "bin_start": 173.39999999999998,
            "count": 208
           },
           {
            "bin_end": 231.2,
            "bin_start": 202.29999999999998,
            "count": 256
           },
           {
            "bin_end": 260.09999999999997,
            "bin_start": 231.2,
            "count": 192
           },
           {
            "bin_end": 289,
            "bin_start": 260.09999999999997,
            "count": 208
           }
          ],
          "max": "289",
          "min": "0",
          "nan_count": 0,
          "unique_count": 122
         }
        },
        {
         "dtype": "object",
         "name": "variable",
         "stats": {
          "categories": [
           {
            "count": 122,
            "name": "Cases_Guinea"
           },
           {
            "count": 122,
            "name": "Cases_Liberia"
           },
           {
            "count": 1708,
            "name": "14 others"
           }
          ],
          "nan_count": 0,
          "unique_count": 16
         }
        },
        {
         "dtype": "float64",
         "name": "value",
         "stats": {
          "histogram": [
           {
            "bin_end": 1003,
            "bin_start": 0,
            "count": 556
           },
           {
            "bin_end": 2006,
            "bin_start": 1003,
            "count": 73
           },
           {
            "bin_end": 3009,
            "bin_start": 2006,
            "count": 45
           },
           {
            "bin_end": 4012,
            "bin_start": 3009,
            "count": 21
           },
           {
            "bin_end": 5015,
            "bin_start": 4012,
            "count": 6
           },
           {
            "bin_end": 6018,
            "bin_start": 5015,
            "count": 4
           },
           {
            "bin_end": 7021,
            "bin_start": 6018,
            "count": 8
           },
           {
            "bin_end": 8024,
            "bin_start": 7021,
            "count": 12
           },
           {
            "bin_end": 9027,
            "bin_start": 8024,
            "count": 6
           },
           {
            "bin_end": 10030,
            "bin_start": 9027,
            "count": 7
           }
          ],
          "max": "10030.0",
          "min": "0.0",
          "nan_count": 1214,
          "unique_count": 415
         }
        },
        {
         "dtype": "object",
         "name": "stats",
         "stats": {
          "categories": [
           {
            "count": 976,
            "name": "Cases"
           },
           {
            "count": 976,
            "name": "Deaths"
           }
          ],
          "nan_count": 0,
          "unique_count": 2
         }
        },
        {
         "dtype": "object",
         "name": "country",
         "stats": {
          "categories": [
           {
            "count": 244,
            "name": "Guinea"
           },
           {
            "count": 244,
            "name": "Liberia"
           },
           {
            "count": 1464,
            "name": "6 others"
           }
          ],
          "nan_count": 0,
          "unique_count": 8
         }
        },
        {
         "dtype": "object",
         "name": "stats_e",
         "stats": {
          "categories": [
           {
            "count": 976,
            "name": "Cases"
           },
           {
            "count": 976,
            "name": "Deaths"
           }
          ],
          "nan_count": 0,
          "unique_count": 2
         }
        },
        {
         "dtype": "object",
         "name": "country_e",
         "stats": {
          "categories": [
           {
            "count": 244,
            "name": "Guinea"
           },
           {
            "count": 244,
            "name": "Liberia"
           },
           {
            "count": 1464,
            "name": "6 others"
           }
          ],
          "nan_count": 0,
          "unique_count": 8
         }
        },
        {
         "dtype": "int64",
         "name": "_deepnote_index_column"
        }
       ],
       "row_count": 1952,
       "rows_bottom": [
        {
         "Date": "8/26/2014",
         "Day": 157,
         "_deepnote_index_column": 1889,
         "country": "Mali",
         "country_e": "Mali",
         "stats": "Deaths",
         "stats_e": "Deaths",
         "value": "nan",
         "variable": "Deaths_Mali"
        },
        {
         "Date": "8/20/2014",
         "Day": 151,
         "_deepnote_index_column": 1890,
         "country": "Mali",
         "country_e": "Mali",
         "stats": "Deaths",
         "stats_e": "Deaths",
         "value": "nan",
         "variable": "Deaths_Mali"
        },
        {
         "Date": "8/18/2014",
         "Day": 149,
         "_deepnote_index_column": 1891,
         "country": "Mali",
         "country_e": "Mali",
         "stats": "Deaths",
         "stats_e": "Deaths",
         "value": "nan",
         "variable": "Deaths_Mali"
        },
        {
         "Date": "8/16/2014",
         "Day": 147,
         "_deepnote_index_column": 1892,
         "country": "Mali",
         "country_e": "Mali",
         "stats": "Deaths",
         "stats_e": "Deaths",
         "value": "nan",
         "variable": "Deaths_Mali"
        },
        {
         "Date": "8/13/2014",
         "Day": 144,
         "_deepnote_index_column": 1893,
         "country": "Mali",
         "country_e": "Mali",
         "stats": "Deaths",
         "stats_e": "Deaths",
         "value": "nan",
         "variable": "Deaths_Mali"
        },
        {
         "Date": "8/11/2014",
         "Day": 142,
         "_deepnote_index_column": 1894,
         "country": "Mali",
         "country_e": "Mali",
         "stats": "Deaths",
         "stats_e": "Deaths",
         "value": "nan",
         "variable": "Deaths_Mali"
        },
        {
         "Date": "8/9/2014",
         "Day": 140,
         "_deepnote_index_column": 1895,
         "country": "Mali",
         "country_e": "Mali",
         "stats": "Deaths",
         "stats_e": "Deaths",
         "value": "nan",
         "variable": "Deaths_Mali"
        },
        {
         "Date": "8/6/2014",
         "Day": 137,
         "_deepnote_index_column": 1896,
         "country": "Mali",
         "country_e": "Mali",
         "stats": "Deaths",
         "stats_e": "Deaths",
         "value": "nan",
         "variable": "Deaths_Mali"
        },
        {
         "Date": "8/4/2014",
         "Day": 135,
         "_deepnote_index_column": 1897,
         "country": "Mali",
         "country_e": "Mali",
         "stats": "Deaths",
         "stats_e": "Deaths",
         "value": "nan",
         "variable": "Deaths_Mali"
        },
        {
         "Date": "8/1/2014",
         "Day": 132,
         "_deepnote_index_column": 1898,
         "country": "Mali",
         "country_e": "Mali",
         "stats": "Deaths",
         "stats_e": "Deaths",
         "value": "nan",
         "variable": "Deaths_Mali"
        },
        {
         "Date": "7/30/2014",
         "Day": 129,
         "_deepnote_index_column": 1899,
         "country": "Mali",
         "country_e": "Mali",
         "stats": "Deaths",
         "stats_e": "Deaths",
         "value": "nan",
         "variable": "Deaths_Mali"
        },
        {
         "Date": "7/27/2014",
         "Day": 126,
         "_deepnote_index_column": 1900,
         "country": "Mali",
         "country_e": "Mali",
         "stats": "Deaths",
         "stats_e": "Deaths",
         "value": "nan",
         "variable": "Deaths_Mali"
        },
        {
         "Date": "7/23/2014",
         "Day": 123,
         "_deepnote_index_column": 1901,
         "country": "Mali",
         "country_e": "Mali",
         "stats": "Deaths",
         "stats_e": "Deaths",
         "value": "nan",
         "variable": "Deaths_Mali"
        },
        {
         "Date": "7/20/2014",
         "Day": 120,
         "_deepnote_index_column": 1902,
         "country": "Mali",
         "country_e": "Mali",
         "stats": "Deaths",
         "stats_e": "Deaths",
         "value": "nan",
         "variable": "Deaths_Mali"
        },
        {
         "Date": "7/17/2014",
         "Day": 117,
         "_deepnote_index_column": 1903,
         "country": "Mali",
         "country_e": "Mali",
         "stats": "Deaths",
         "stats_e": "Deaths",
         "value": "nan",
         "variable": "Deaths_Mali"
        },
        {
         "Date": "7/14/2014",
         "Day": 114,
         "_deepnote_index_column": 1904,
         "country": "Mali",
         "country_e": "Mali",
         "stats": "Deaths",
         "stats_e": "Deaths",
         "value": "nan",
         "variable": "Deaths_Mali"
        },
        {
         "Date": "7/12/2014",
         "Day": 112,
         "_deepnote_index_column": 1905,
         "country": "Mali",
         "country_e": "Mali",
         "stats": "Deaths",
         "stats_e": "Deaths",
         "value": "nan",
         "variable": "Deaths_Mali"
        },
        {
         "Date": "7/8/2014",
         "Day": 108,
         "_deepnote_index_column": 1906,
         "country": "Mali",
         "country_e": "Mali",
         "stats": "Deaths",
         "stats_e": "Deaths",
         "value": "nan",
         "variable": "Deaths_Mali"
        },
        {
         "Date": "7/6/2014",
         "Day": 106,
         "_deepnote_index_column": 1907,
         "country": "Mali",
         "country_e": "Mali",
         "stats": "Deaths",
         "stats_e": "Deaths",
         "value": "nan",
         "variable": "Deaths_Mali"
        },
        {
         "Date": "7/2/2014",
         "Day": 102,
         "_deepnote_index_column": 1908,
         "country": "Mali",
         "country_e": "Mali",
         "stats": "Deaths",
         "stats_e": "Deaths",
         "value": "nan",
         "variable": "Deaths_Mali"
        },
        {
         "Date": "6/30/2014",
         "Day": 100,
         "_deepnote_index_column": 1909,
         "country": "Mali",
         "country_e": "Mali",
         "stats": "Deaths",
         "stats_e": "Deaths",
         "value": "nan",
         "variable": "Deaths_Mali"
        },
        {
         "Date": "6/22/2014",
         "Day": 92,
         "_deepnote_index_column": 1910,
         "country": "Mali",
         "country_e": "Mali",
         "stats": "Deaths",
         "stats_e": "Deaths",
         "value": "nan",
         "variable": "Deaths_Mali"
        },
        {
         "Date": "6/20/2014",
         "Day": 90,
         "_deepnote_index_column": 1911,
         "country": "Mali",
         "country_e": "Mali",
         "stats": "Deaths",
         "stats_e": "Deaths",
         "value": "nan",
         "variable": "Deaths_Mali"
        },
        {
         "Date": "6/19/2014",
         "Day": 89,
         "_deepnote_index_column": 1912,
         "country": "Mali",
         "country_e": "Mali",
         "stats": "Deaths",
         "stats_e": "Deaths",
         "value": "nan",
         "variable": "Deaths_Mali"
        },
        {
         "Date": "6/18/2014",
         "Day": 88,
         "_deepnote_index_column": 1913,
         "country": "Mali",
         "country_e": "Mali",
         "stats": "Deaths",
         "stats_e": "Deaths",
         "value": "nan",
         "variable": "Deaths_Mali"
        },
        {
         "Date": "6/17/2014",
         "Day": 87,
         "_deepnote_index_column": 1914,
         "country": "Mali",
         "country_e": "Mali",
         "stats": "Deaths",
         "stats_e": "Deaths",
         "value": "nan",
         "variable": "Deaths_Mali"
        },
        {
         "Date": "6/16/2014",
         "Day": 86,
         "_deepnote_index_column": 1915,
         "country": "Mali",
         "country_e": "Mali",
         "stats": "Deaths",
         "stats_e": "Deaths",
         "value": "nan",
         "variable": "Deaths_Mali"
        },
        {
         "Date": "6/10/2014",
         "Day": 80,
         "_deepnote_index_column": 1916,
         "country": "Mali",
         "country_e": "Mali",
         "stats": "Deaths",
         "stats_e": "Deaths",
         "value": "nan",
         "variable": "Deaths_Mali"
        },
        {
         "Date": "6/5/2014",
         "Day": 75,
         "_deepnote_index_column": 1917,
         "country": "Mali",
         "country_e": "Mali",
         "stats": "Deaths",
         "stats_e": "Deaths",
         "value": "nan",
         "variable": "Deaths_Mali"
        },
        {
         "Date": "6/3/2014",
         "Day": 73,
         "_deepnote_index_column": 1918,
         "country": "Mali",
         "country_e": "Mali",
         "stats": "Deaths",
         "stats_e": "Deaths",
         "value": "nan",
         "variable": "Deaths_Mali"
        },
        {
         "Date": "6/1/2014",
         "Day": 71,
         "_deepnote_index_column": 1919,
         "country": "Mali",
         "country_e": "Mali",
         "stats": "Deaths",
         "stats_e": "Deaths",
         "value": "nan",
         "variable": "Deaths_Mali"
        },
        {
         "Date": "5/28/2014",
         "Day": 67,
         "_deepnote_index_column": 1920,
         "country": "Mali",
         "country_e": "Mali",
         "stats": "Deaths",
         "stats_e": "Deaths",
         "value": "nan",
         "variable": "Deaths_Mali"
        },
        {
         "Date": "5/27/2014",
         "Day": 66,
         "_deepnote_index_column": 1921,
         "country": "Mali",
         "country_e": "Mali",
         "stats": "Deaths",
         "stats_e": "Deaths",
         "value": "nan",
         "variable": "Deaths_Mali"
        },
        {
         "Date": "5/23/2014",
         "Day": 62,
         "_deepnote_index_column": 1922,
         "country": "Mali",
         "country_e": "Mali",
         "stats": "Deaths",
         "stats_e": "Deaths",
         "value": "nan",
         "variable": "Deaths_Mali"
        },
        {
         "Date": "5/12/2014",
         "Day": 51,
         "_deepnote_index_column": 1923,
         "country": "Mali",
         "country_e": "Mali",
         "stats": "Deaths",
         "stats_e": "Deaths",
         "value": "nan",
         "variable": "Deaths_Mali"
        },
        {
         "Date": "5/10/2014",
         "Day": 49,
         "_deepnote_index_column": 1924,
         "country": "Mali",
         "country_e": "Mali",
         "stats": "Deaths",
         "stats_e": "Deaths",
         "value": "nan",
         "variable": "Deaths_Mali"
        },
        {
         "Date": "5/7/2014",
         "Day": 46,
         "_deepnote_index_column": 1925,
         "country": "Mali",
         "country_e": "Mali",
         "stats": "Deaths",
         "stats_e": "Deaths",
         "value": "nan",
         "variable": "Deaths_Mali"
        },
        {
         "Date": "5/5/2014",
         "Day": 44,
         "_deepnote_index_column": 1926,
         "country": "Mali",
         "country_e": "Mali",
         "stats": "Deaths",
         "stats_e": "Deaths",
         "value": "nan",
         "variable": "Deaths_Mali"
        },
        {
         "Date": "5/3/2014",
         "Day": 42,
         "_deepnote_index_column": 1927,
         "country": "Mali",
         "country_e": "Mali",
         "stats": "Deaths",
         "stats_e": "Deaths",
         "value": "nan",
         "variable": "Deaths_Mali"
        },
        {
         "Date": "5/1/2014",
         "Day": 40,
         "_deepnote_index_column": 1928,
         "country": "Mali",
         "country_e": "Mali",
         "stats": "Deaths",
         "stats_e": "Deaths",
         "value": "nan",
         "variable": "Deaths_Mali"
        },
        {
         "Date": "4/26/2014",
         "Day": 35,
         "_deepnote_index_column": 1929,
         "country": "Mali",
         "country_e": "Mali",
         "stats": "Deaths",
         "stats_e": "Deaths",
         "value": "nan",
         "variable": "Deaths_Mali"
        },
        {
         "Date": "4/24/2014",
         "Day": 33,
         "_deepnote_index_column": 1930,
         "country": "Mali",
         "country_e": "Mali",
         "stats": "Deaths",
         "stats_e": "Deaths",
         "value": "nan",
         "variable": "Deaths_Mali"
        },
        {
         "Date": "4/23/2014",
         "Day": 32,
         "_deepnote_index_column": 1931,
         "country": "Mali",
         "country_e": "Mali",
         "stats": "Deaths",
         "stats_e": "Deaths",
         "value": "nan",
         "variable": "Deaths_Mali"
        },
        {
         "Date": "4/22/2014",
         "Day": 31,
         "_deepnote_index_column": 1932,
         "country": "Mali",
         "country_e": "Mali",
         "stats": "Deaths",
         "stats_e": "Deaths",
         "value": "nan",
         "variable": "Deaths_Mali"
        },
        {
         "Date": "4/21/2014",
         "Day": 30,
         "_deepnote_index_column": 1933,
         "country": "Mali",
         "country_e": "Mali",
         "stats": "Deaths",
         "stats_e": "Deaths",
         "value": "nan",
         "variable": "Deaths_Mali"
        },
        {
         "Date": "4/20/2014",
         "Day": 29,
         "_deepnote_index_column": 1934,
         "country": "Mali",
         "country_e": "Mali",
         "stats": "Deaths",
         "stats_e": "Deaths",
         "value": "nan",
         "variable": "Deaths_Mali"
        },
        {
         "Date": "4/17/2014",
         "Day": 26,
         "_deepnote_index_column": 1935,
         "country": "Mali",
         "country_e": "Mali",
         "stats": "Deaths",
         "stats_e": "Deaths",
         "value": "nan",
         "variable": "Deaths_Mali"
        },
        {
         "Date": "4/16/2014",
         "Day": 25,
         "_deepnote_index_column": 1936,
         "country": "Mali",
         "country_e": "Mali",
         "stats": "Deaths",
         "stats_e": "Deaths",
         "value": "nan",
         "variable": "Deaths_Mali"
        },
        {
         "Date": "4/15/2014",
         "Day": 24,
         "_deepnote_index_column": 1937,
         "country": "Mali",
         "country_e": "Mali",
         "stats": "Deaths",
         "stats_e": "Deaths",
         "value": "nan",
         "variable": "Deaths_Mali"
        },
        {
         "Date": "4/14/2014",
         "Day": 23,
         "_deepnote_index_column": 1938,
         "country": "Mali",
         "country_e": "Mali",
         "stats": "Deaths",
         "stats_e": "Deaths",
         "value": "nan",
         "variable": "Deaths_Mali"
        },
        {
         "Date": "4/11/2014",
         "Day": 20,
         "_deepnote_index_column": 1939,
         "country": "Mali",
         "country_e": "Mali",
         "stats": "Deaths",
         "stats_e": "Deaths",
         "value": "nan",
         "variable": "Deaths_Mali"
        },
        {
         "Date": "4/9/2014",
         "Day": 18,
         "_deepnote_index_column": 1940,
         "country": "Mali",
         "country_e": "Mali",
         "stats": "Deaths",
         "stats_e": "Deaths",
         "value": "nan",
         "variable": "Deaths_Mali"
        },
        {
         "Date": "4/7/2014",
         "Day": 16,
         "_deepnote_index_column": 1941,
         "country": "Mali",
         "country_e": "Mali",
         "stats": "Deaths",
         "stats_e": "Deaths",
         "value": "nan",
         "variable": "Deaths_Mali"
        },
        {
         "Date": "4/4/2014",
         "Day": 13,
         "_deepnote_index_column": 1942,
         "country": "Mali",
         "country_e": "Mali",
         "stats": "Deaths",
         "stats_e": "Deaths",
         "value": "nan",
         "variable": "Deaths_Mali"
        },
        {
         "Date": "4/1/2014",
         "Day": 10,
         "_deepnote_index_column": 1943,
         "country": "Mali",
         "country_e": "Mali",
         "stats": "Deaths",
         "stats_e": "Deaths",
         "value": "nan",
         "variable": "Deaths_Mali"
        },
        {
         "Date": "3/31/2014",
         "Day": 9,
         "_deepnote_index_column": 1944,
         "country": "Mali",
         "country_e": "Mali",
         "stats": "Deaths",
         "stats_e": "Deaths",
         "value": "nan",
         "variable": "Deaths_Mali"
        },
        {
         "Date": "3/29/2014",
         "Day": 7,
         "_deepnote_index_column": 1945,
         "country": "Mali",
         "country_e": "Mali",
         "stats": "Deaths",
         "stats_e": "Deaths",
         "value": "nan",
         "variable": "Deaths_Mali"
        },
        {
         "Date": "3/28/2014",
         "Day": 6,
         "_deepnote_index_column": 1946,
         "country": "Mali",
         "country_e": "Mali",
         "stats": "Deaths",
         "stats_e": "Deaths",
         "value": "nan",
         "variable": "Deaths_Mali"
        },
        {
         "Date": "3/27/2014",
         "Day": 5,
         "_deepnote_index_column": 1947,
         "country": "Mali",
         "country_e": "Mali",
         "stats": "Deaths",
         "stats_e": "Deaths",
         "value": "nan",
         "variable": "Deaths_Mali"
        },
        {
         "Date": "3/26/2014",
         "Day": 4,
         "_deepnote_index_column": 1948,
         "country": "Mali",
         "country_e": "Mali",
         "stats": "Deaths",
         "stats_e": "Deaths",
         "value": "nan",
         "variable": "Deaths_Mali"
        },
        {
         "Date": "3/25/2014",
         "Day": 3,
         "_deepnote_index_column": 1949,
         "country": "Mali",
         "country_e": "Mali",
         "stats": "Deaths",
         "stats_e": "Deaths",
         "value": "nan",
         "variable": "Deaths_Mali"
        },
        {
         "Date": "3/24/2014",
         "Day": 2,
         "_deepnote_index_column": 1950,
         "country": "Mali",
         "country_e": "Mali",
         "stats": "Deaths",
         "stats_e": "Deaths",
         "value": "nan",
         "variable": "Deaths_Mali"
        },
        {
         "Date": "3/22/2014",
         "Day": 0,
         "_deepnote_index_column": 1951,
         "country": "Mali",
         "country_e": "Mali",
         "stats": "Deaths",
         "stats_e": "Deaths",
         "value": "nan",
         "variable": "Deaths_Mali"
        }
       ],
       "rows_top": [
        {
         "Date": "1/5/2015",
         "Day": 289,
         "_deepnote_index_column": 0,
         "country": "Guinea",
         "country_e": "Guinea",
         "stats": "Cases",
         "stats_e": "Cases",
         "value": "2776.0",
         "variable": "Cases_Guinea"
        },
        {
         "Date": "1/4/2015",
         "Day": 288,
         "_deepnote_index_column": 1,
         "country": "Guinea",
         "country_e": "Guinea",
         "stats": "Cases",
         "stats_e": "Cases",
         "value": "2775.0",
         "variable": "Cases_Guinea"
        },
        {
         "Date": "1/3/2015",
         "Day": 287,
         "_deepnote_index_column": 2,
         "country": "Guinea",
         "country_e": "Guinea",
         "stats": "Cases",
         "stats_e": "Cases",
         "value": "2769.0",
         "variable": "Cases_Guinea"
        },
        {
         "Date": "1/2/2015",
         "Day": 286,
         "_deepnote_index_column": 3,
         "country": "Guinea",
         "country_e": "Guinea",
         "stats": "Cases",
         "stats_e": "Cases",
         "value": "nan",
         "variable": "Cases_Guinea"
        },
        {
         "Date": "12/31/2014",
         "Day": 284,
         "_deepnote_index_column": 4,
         "country": "Guinea",
         "country_e": "Guinea",
         "stats": "Cases",
         "stats_e": "Cases",
         "value": "2730.0",
         "variable": "Cases_Guinea"
        },
        {
         "Date": "12/28/2014",
         "Day": 281,
         "_deepnote_index_column": 5,
         "country": "Guinea",
         "country_e": "Guinea",
         "stats": "Cases",
         "stats_e": "Cases",
         "value": "2706.0",
         "variable": "Cases_Guinea"
        },
        {
         "Date": "12/27/2014",
         "Day": 280,
         "_deepnote_index_column": 6,
         "country": "Guinea",
         "country_e": "Guinea",
         "stats": "Cases",
         "stats_e": "Cases",
         "value": "2695.0",
         "variable": "Cases_Guinea"
        },
        {
         "Date": "12/24/2014",
         "Day": 277,
         "_deepnote_index_column": 7,
         "country": "Guinea",
         "country_e": "Guinea",
         "stats": "Cases",
         "stats_e": "Cases",
         "value": "2630.0",
         "variable": "Cases_Guinea"
        },
        {
         "Date": "12/21/2014",
         "Day": 273,
         "_deepnote_index_column": 8,
         "country": "Guinea",
         "country_e": "Guinea",
         "stats": "Cases",
         "stats_e": "Cases",
         "value": "2597.0",
         "variable": "Cases_Guinea"
        },
        {
         "Date": "12/20/2014",
         "Day": 272,
         "_deepnote_index_column": 9,
         "country": "Guinea",
         "country_e": "Guinea",
         "stats": "Cases",
         "stats_e": "Cases",
         "value": "2571.0",
         "variable": "Cases_Guinea"
        },
        {
         "Date": "12/18/2014",
         "Day": 271,
         "_deepnote_index_column": 10,
         "country": "Guinea",
         "country_e": "Guinea",
         "stats": "Cases",
         "stats_e": "Cases",
         "value": "nan",
         "variable": "Cases_Guinea"
        },
        {
         "Date": "12/14/2014",
         "Day": 267,
         "_deepnote_index_column": 11,
         "country": "Guinea",
         "country_e": "Guinea",
         "stats": "Cases",
         "stats_e": "Cases",
         "value": "2416.0",
         "variable": "Cases_Guinea"
        },
        {
         "Date": "12/9/2014",
         "Day": 262,
         "_deepnote_index_column": 12,
         "country": "Guinea",
         "country_e": "Guinea",
         "stats": "Cases",
         "stats_e": "Cases",
         "value": "nan",
         "variable": "Cases_Guinea"
        },
        {
         "Date": "12/7/2014",
         "Day": 260,
         "_deepnote_index_column": 13,
         "country": "Guinea",
         "country_e": "Guinea",
         "stats": "Cases",
         "stats_e": "Cases",
         "value": "2292.0",
         "variable": "Cases_Guinea"
        },
        {
         "Date": "12/3/2014",
         "Day": 256,
         "_deepnote_index_column": 14,
         "country": "Guinea",
         "country_e": "Guinea",
         "stats": "Cases",
         "stats_e": "Cases",
         "value": "nan",
         "variable": "Cases_Guinea"
        },
        {
         "Date": "11/30/2014",
         "Day": 253,
         "_deepnote_index_column": 15,
         "country": "Guinea",
         "country_e": "Guinea",
         "stats": "Cases",
         "stats_e": "Cases",
         "value": "2164.0",
         "variable": "Cases_Guinea"
        },
        {
         "Date": "11/28/2014",
         "Day": 251,
         "_deepnote_index_column": 16,
         "country": "Guinea",
         "country_e": "Guinea",
         "stats": "Cases",
         "stats_e": "Cases",
         "value": "nan",
         "variable": "Cases_Guinea"
        },
        {
         "Date": "11/23/2014",
         "Day": 246,
         "_deepnote_index_column": 17,
         "country": "Guinea",
         "country_e": "Guinea",
         "stats": "Cases",
         "stats_e": "Cases",
         "value": "2134.0",
         "variable": "Cases_Guinea"
        },
        {
         "Date": "11/22/2014",
         "Day": 245,
         "_deepnote_index_column": 18,
         "country": "Guinea",
         "country_e": "Guinea",
         "stats": "Cases",
         "stats_e": "Cases",
         "value": "nan",
         "variable": "Cases_Guinea"
        },
        {
         "Date": "11/18/2014",
         "Day": 241,
         "_deepnote_index_column": 19,
         "country": "Guinea",
         "country_e": "Guinea",
         "stats": "Cases",
         "stats_e": "Cases",
         "value": "2047.0",
         "variable": "Cases_Guinea"
        },
        {
         "Date": "11/16/2014",
         "Day": 239,
         "_deepnote_index_column": 20,
         "country": "Guinea",
         "country_e": "Guinea",
         "stats": "Cases",
         "stats_e": "Cases",
         "value": "1971.0",
         "variable": "Cases_Guinea"
        },
        {
         "Date": "11/15/2014",
         "Day": 238,
         "_deepnote_index_column": 21,
         "country": "Guinea",
         "country_e": "Guinea",
         "stats": "Cases",
         "stats_e": "Cases",
         "value": "nan",
         "variable": "Cases_Guinea"
        },
        {
         "Date": "11/11/2014",
         "Day": 234,
         "_deepnote_index_column": 22,
         "country": "Guinea",
         "country_e": "Guinea",
         "stats": "Cases",
         "stats_e": "Cases",
         "value": "1919.0",
         "variable": "Cases_Guinea"
        },
        {
         "Date": "11/10/2014",
         "Day": 233,
         "_deepnote_index_column": 23,
         "country": "Guinea",
         "country_e": "Guinea",
         "stats": "Cases",
         "stats_e": "Cases",
         "value": "nan",
         "variable": "Cases_Guinea"
        },
        {
         "Date": "11/9/2014",
         "Day": 232,
         "_deepnote_index_column": 24,
         "country": "Guinea",
         "country_e": "Guinea",
         "stats": "Cases",
         "stats_e": "Cases",
         "value": "1878.0",
         "variable": "Cases_Guinea"
        },
        {
         "Date": "11/8/2014",
         "Day": 231,
         "_deepnote_index_column": 25,
         "country": "Guinea",
         "country_e": "Guinea",
         "stats": "Cases",
         "stats_e": "Cases",
         "value": "nan",
         "variable": "Cases_Guinea"
        },
        {
         "Date": "11/4/2014",
         "Day": 227,
         "_deepnote_index_column": 26,
         "country": "Guinea",
         "country_e": "Guinea",
         "stats": "Cases",
         "stats_e": "Cases",
         "value": "nan",
         "variable": "Cases_Guinea"
        },
        {
         "Date": "11/3/2014",
         "Day": 226,
         "_deepnote_index_column": 27,
         "country": "Guinea",
         "country_e": "Guinea",
         "stats": "Cases",
         "stats_e": "Cases",
         "value": "1760.0",
         "variable": "Cases_Guinea"
        },
        {
         "Date": "11/2/2014",
         "Day": 225,
         "_deepnote_index_column": 28,
         "country": "Guinea",
         "country_e": "Guinea",
         "stats": "Cases",
         "stats_e": "Cases",
         "value": "1731.0",
         "variable": "Cases_Guinea"
        },
        {
         "Date": "10/31/2014",
         "Day": 222,
         "_deepnote_index_column": 29,
         "country": "Guinea",
         "country_e": "Guinea",
         "stats": "Cases",
         "stats_e": "Cases",
         "value": "nan",
         "variable": "Cases_Guinea"
        },
        {
         "Date": "10/29/2014",
         "Day": 220,
         "_deepnote_index_column": 30,
         "country": "Guinea",
         "country_e": "Guinea",
         "stats": "Cases",
         "stats_e": "Cases",
         "value": "1667.0",
         "variable": "Cases_Guinea"
        },
        {
         "Date": "10/27/2014",
         "Day": 218,
         "_deepnote_index_column": 31,
         "country": "Guinea",
         "country_e": "Guinea",
         "stats": "Cases",
         "stats_e": "Cases",
         "value": "1906.0",
         "variable": "Cases_Guinea"
        },
        {
         "Date": "10/25/2014",
         "Day": 216,
         "_deepnote_index_column": 32,
         "country": "Guinea",
         "country_e": "Guinea",
         "stats": "Cases",
         "stats_e": "Cases",
         "value": "nan",
         "variable": "Cases_Guinea"
        },
        {
         "Date": "10/22/2014",
         "Day": 214,
         "_deepnote_index_column": 33,
         "country": "Guinea",
         "country_e": "Guinea",
         "stats": "Cases",
         "stats_e": "Cases",
         "value": "nan",
         "variable": "Cases_Guinea"
        },
        {
         "Date": "10/21/2014",
         "Day": 213,
         "_deepnote_index_column": 34,
         "country": "Guinea",
         "country_e": "Guinea",
         "stats": "Cases",
         "stats_e": "Cases",
         "value": "1553.0",
         "variable": "Cases_Guinea"
        },
        {
         "Date": "10/19/2014",
         "Day": 211,
         "_deepnote_index_column": 35,
         "country": "Guinea",
         "country_e": "Guinea",
         "stats": "Cases",
         "stats_e": "Cases",
         "value": "1540.0",
         "variable": "Cases_Guinea"
        },
        {
         "Date": "10/18/2014",
         "Day": 210,
         "_deepnote_index_column": 36,
         "country": "Guinea",
         "country_e": "Guinea",
         "stats": "Cases",
         "stats_e": "Cases",
         "value": "nan",
         "variable": "Cases_Guinea"
        },
        {
         "Date": "10/14/2014",
         "Day": 206,
         "_deepnote_index_column": 37,
         "country": "Guinea",
         "country_e": "Guinea",
         "stats": "Cases",
         "stats_e": "Cases",
         "value": "1519.0",
         "variable": "Cases_Guinea"
        },
        {
         "Date": "10/13/2014",
         "Day": 205,
         "_deepnote_index_column": 38,
         "country": "Guinea",
         "country_e": "Guinea",
         "stats": "Cases",
         "stats_e": "Cases",
         "value": "nan",
         "variable": "Cases_Guinea"
        },
        {
         "Date": "10/12/2014",
         "Day": 204,
         "_deepnote_index_column": 39,
         "country": "Guinea",
         "country_e": "Guinea",
         "stats": "Cases",
         "stats_e": "Cases",
         "value": "1472.0",
         "variable": "Cases_Guinea"
        },
        {
         "Date": "10/11/2014",
         "Day": 203,
         "_deepnote_index_column": 40,
         "country": "Guinea",
         "country_e": "Guinea",
         "stats": "Cases",
         "stats_e": "Cases",
         "value": "nan",
         "variable": "Cases_Guinea"
        },
        {
         "Date": "10/8/2014",
         "Day": 200,
         "_deepnote_index_column": 41,
         "country": "Guinea",
         "country_e": "Guinea",
         "stats": "Cases",
         "stats_e": "Cases",
         "value": "nan",
         "variable": "Cases_Guinea"
        },
        {
         "Date": "10/7/2014",
         "Day": 199,
         "_deepnote_index_column": 42,
         "country": "Guinea",
         "country_e": "Guinea",
         "stats": "Cases",
         "stats_e": "Cases",
         "value": "1350.0",
         "variable": "Cases_Guinea"
        },
        {
         "Date": "10/5/2014",
         "Day": 197,
         "_deepnote_index_column": 43,
         "country": "Guinea",
         "country_e": "Guinea",
         "stats": "Cases",
         "stats_e": "Cases",
         "value": "1298.0",
         "variable": "Cases_Guinea"
        },
        {
         "Date": "10/4/2014",
         "Day": 196,
         "_deepnote_index_column": 44,
         "country": "Guinea",
         "country_e": "Guinea",
         "stats": "Cases",
         "stats_e": "Cases",
         "value": "nan",
         "variable": "Cases_Guinea"
        },
        {
         "Date": "10/1/2014",
         "Day": 193,
         "_deepnote_index_column": 45,
         "country": "Guinea",
         "country_e": "Guinea",
         "stats": "Cases",
         "stats_e": "Cases",
         "value": "1199.0",
         "variable": "Cases_Guinea"
        },
        {
         "Date": "9/28/2014",
         "Day": 190,
         "_deepnote_index_column": 46,
         "country": "Guinea",
         "country_e": "Guinea",
         "stats": "Cases",
         "stats_e": "Cases",
         "value": "1157.0",
         "variable": "Cases_Guinea"
        },
        {
         "Date": "9/23/2014",
         "Day": 185,
         "_deepnote_index_column": 47,
         "country": "Guinea",
         "country_e": "Guinea",
         "stats": "Cases",
         "stats_e": "Cases",
         "value": "1074.0",
         "variable": "Cases_Guinea"
        },
        {
         "Date": "9/21/2014",
         "Day": 183,
         "_deepnote_index_column": 48,
         "country": "Guinea",
         "country_e": "Guinea",
         "stats": "Cases",
         "stats_e": "Cases",
         "value": "1022.0",
         "variable": "Cases_Guinea"
        },
        {
         "Date": "9/20/2014",
         "Day": 182,
         "_deepnote_index_column": 49,
         "country": "Guinea",
         "country_e": "Guinea",
         "stats": "Cases",
         "stats_e": "Cases",
         "value": "nan",
         "variable": "Cases_Guinea"
        },
        {
         "Date": "9/19/2014",
         "Day": 181,
         "_deepnote_index_column": 50,
         "country": "Guinea",
         "country_e": "Guinea",
         "stats": "Cases",
         "stats_e": "Cases",
         "value": "1008.0",
         "variable": "Cases_Guinea"
        },
        {
         "Date": "9/17/2014",
         "Day": 179,
         "_deepnote_index_column": 51,
         "country": "Guinea",
         "country_e": "Guinea",
         "stats": "Cases",
         "stats_e": "Cases",
         "value": "nan",
         "variable": "Cases_Guinea"
        },
        {
         "Date": "9/14/2014",
         "Day": 176,
         "_deepnote_index_column": 52,
         "country": "Guinea",
         "country_e": "Guinea",
         "stats": "Cases",
         "stats_e": "Cases",
         "value": "942.0",
         "variable": "Cases_Guinea"
        },
        {
         "Date": "9/13/2014",
         "Day": 175,
         "_deepnote_index_column": 53,
         "country": "Guinea",
         "country_e": "Guinea",
         "stats": "Cases",
         "stats_e": "Cases",
         "value": "936.0",
         "variable": "Cases_Guinea"
        },
        {
         "Date": "9/10/2014",
         "Day": 172,
         "_deepnote_index_column": 54,
         "country": "Guinea",
         "country_e": "Guinea",
         "stats": "Cases",
         "stats_e": "Cases",
         "value": "899.0",
         "variable": "Cases_Guinea"
        },
        {
         "Date": "9/9/2014",
         "Day": 171,
         "_deepnote_index_column": 55,
         "country": "Guinea",
         "country_e": "Guinea",
         "stats": "Cases",
         "stats_e": "Cases",
         "value": "nan",
         "variable": "Cases_Guinea"
        },
        {
         "Date": "9/7/2014",
         "Day": 169,
         "_deepnote_index_column": 56,
         "country": "Guinea",
         "country_e": "Guinea",
         "stats": "Cases",
         "stats_e": "Cases",
         "value": "861.0",
         "variable": "Cases_Guinea"
        },
        {
         "Date": "9/5/2014",
         "Day": 167,
         "_deepnote_index_column": 57,
         "country": "Guinea",
         "country_e": "Guinea",
         "stats": "Cases",
         "stats_e": "Cases",
         "value": "812.0",
         "variable": "Cases_Guinea"
        },
        {
         "Date": "8/31/2014",
         "Day": 162,
         "_deepnote_index_column": 58,
         "country": "Guinea",
         "country_e": "Guinea",
         "stats": "Cases",
         "stats_e": "Cases",
         "value": "771.0",
         "variable": "Cases_Guinea"
        },
        {
         "Date": "8/26/2014",
         "Day": 157,
         "_deepnote_index_column": 59,
         "country": "Guinea",
         "country_e": "Guinea",
         "stats": "Cases",
         "stats_e": "Cases",
         "value": "648.0",
         "variable": "Cases_Guinea"
        },
        {
         "Date": "8/20/2014",
         "Day": 151,
         "_deepnote_index_column": 60,
         "country": "Guinea",
         "country_e": "Guinea",
         "stats": "Cases",
         "stats_e": "Cases",
         "value": "607.0",
         "variable": "Cases_Guinea"
        },
        {
         "Date": "8/18/2014",
         "Day": 149,
         "_deepnote_index_column": 61,
         "country": "Guinea",
         "country_e": "Guinea",
         "stats": "Cases",
         "stats_e": "Cases",
         "value": "579.0",
         "variable": "Cases_Guinea"
        }
       ]
      },
      "text/html": "<div>\n<style scoped>\n    .dataframe tbody tr th:only-of-type {\n        vertical-align: middle;\n    }\n\n    .dataframe tbody tr th {\n        vertical-align: top;\n    }\n\n    .dataframe thead th {\n        text-align: right;\n    }\n</style>\n<table border=\"1\" class=\"dataframe\">\n  <thead>\n    <tr style=\"text-align: right;\">\n      <th></th>\n      <th>Date</th>\n      <th>Day</th>\n      <th>variable</th>\n      <th>value</th>\n      <th>stats</th>\n      <th>country</th>\n      <th>stats_e</th>\n      <th>country_e</th>\n    </tr>\n  </thead>\n  <tbody>\n    <tr>\n      <th>0</th>\n      <td>1/5/2015</td>\n      <td>289</td>\n      <td>Cases_Guinea</td>\n      <td>2776.0</td>\n      <td>Cases</td>\n      <td>Guinea</td>\n      <td>Cases</td>\n      <td>Guinea</td>\n    </tr>\n    <tr>\n      <th>1</th>\n      <td>1/4/2015</td>\n      <td>288</td>\n      <td>Cases_Guinea</td>\n      <td>2775.0</td>\n      <td>Cases</td>\n      <td>Guinea</td>\n      <td>Cases</td>\n      <td>Guinea</td>\n    </tr>\n    <tr>\n      <th>2</th>\n      <td>1/3/2015</td>\n      <td>287</td>\n      <td>Cases_Guinea</td>\n      <td>2769.0</td>\n      <td>Cases</td>\n      <td>Guinea</td>\n      <td>Cases</td>\n      <td>Guinea</td>\n    </tr>\n    <tr>\n      <th>3</th>\n      <td>1/2/2015</td>\n      <td>286</td>\n      <td>Cases_Guinea</td>\n      <td>NaN</td>\n      <td>Cases</td>\n      <td>Guinea</td>\n      <td>Cases</td>\n      <td>Guinea</td>\n    </tr>\n    <tr>\n      <th>4</th>\n      <td>12/31/2014</td>\n      <td>284</td>\n      <td>Cases_Guinea</td>\n      <td>2730.0</td>\n      <td>Cases</td>\n      <td>Guinea</td>\n      <td>Cases</td>\n      <td>Guinea</td>\n    </tr>\n    <tr>\n      <th>...</th>\n      <td>...</td>\n      <td>...</td>\n      <td>...</td>\n      <td>...</td>\n      <td>...</td>\n      <td>...</td>\n      <td>...</td>\n      <td>...</td>\n    </tr>\n    <tr>\n      <th>1947</th>\n      <td>3/27/2014</td>\n      <td>5</td>\n      <td>Deaths_Mali</td>\n      <td>NaN</td>\n      <td>Deaths</td>\n      <td>Mali</td>\n      <td>Deaths</td>\n      <td>Mali</td>\n    </tr>\n    <tr>\n      <th>1948</th>\n      <td>3/26/2014</td>\n      <td>4</td>\n      <td>Deaths_Mali</td>\n      <td>NaN</td>\n      <td>Deaths</td>\n      <td>Mali</td>\n      <td>Deaths</td>\n      <td>Mali</td>\n    </tr>\n    <tr>\n      <th>1949</th>\n      <td>3/25/2014</td>\n      <td>3</td>\n      <td>Deaths_Mali</td>\n      <td>NaN</td>\n      <td>Deaths</td>\n      <td>Mali</td>\n      <td>Deaths</td>\n      <td>Mali</td>\n    </tr>\n    <tr>\n      <th>1950</th>\n      <td>3/24/2014</td>\n      <td>2</td>\n      <td>Deaths_Mali</td>\n      <td>NaN</td>\n      <td>Deaths</td>\n      <td>Mali</td>\n      <td>Deaths</td>\n      <td>Mali</td>\n    </tr>\n    <tr>\n      <th>1951</th>\n      <td>3/22/2014</td>\n      <td>0</td>\n      <td>Deaths_Mali</td>\n      <td>NaN</td>\n      <td>Deaths</td>\n      <td>Mali</td>\n      <td>Deaths</td>\n      <td>Mali</td>\n    </tr>\n  </tbody>\n</table>\n<p>1952 rows × 8 columns</p>\n</div>",
      "text/plain": "            Date  Day      variable   value   stats country stats_e country_e\n0       1/5/2015  289  Cases_Guinea  2776.0   Cases  Guinea   Cases    Guinea\n1       1/4/2015  288  Cases_Guinea  2775.0   Cases  Guinea   Cases    Guinea\n2       1/3/2015  287  Cases_Guinea  2769.0   Cases  Guinea   Cases    Guinea\n3       1/2/2015  286  Cases_Guinea     NaN   Cases  Guinea   Cases    Guinea\n4     12/31/2014  284  Cases_Guinea  2730.0   Cases  Guinea   Cases    Guinea\n...          ...  ...           ...     ...     ...     ...     ...       ...\n1947   3/27/2014    5   Deaths_Mali     NaN  Deaths    Mali  Deaths      Mali\n1948   3/26/2014    4   Deaths_Mali     NaN  Deaths    Mali  Deaths      Mali\n1949   3/25/2014    3   Deaths_Mali     NaN  Deaths    Mali  Deaths      Mali\n1950   3/24/2014    2   Deaths_Mali     NaN  Deaths    Mali  Deaths      Mali\n1951   3/22/2014    0   Deaths_Mali     NaN  Deaths    Mali  Deaths      Mali\n\n[1952 rows x 8 columns]"
     },
     "execution_count": 35,
     "metadata": {},
     "output_type": "execute_result"
    }
   ]
  },
  {
   "cell_type": "code",
   "metadata": {
    "deepnote_to_be_reexecuted": false,
    "execution_millis": 29,
    "execution_start": 1620084251545,
    "source_hash": "cd9e212b",
    "cell_id": "00058-f2bd4608-90ad-4cf5-b854-d3e1a7944f31",
    "deepnote_cell_type": "code"
   },
   "source": "weather = pd.read_csv('../data/weather.csv')",
   "execution_count": null,
   "outputs": []
  },
  {
   "cell_type": "code",
   "metadata": {
    "deepnote_to_be_reexecuted": false,
    "execution_millis": 128,
    "execution_start": 1620084254426,
    "source_hash": "8b7e38d9",
    "cell_id": "00059-27a662fa-a82f-487a-a002-857143f6e1d6",
    "deepnote_cell_type": "code"
   },
   "source": "weather",
   "execution_count": null,
   "outputs": [
    {
     "data": {
      "application/vnd.deepnote.dataframe.v2+json": {
       "column_count": 35,
       "columns": [
        {
         "dtype": "object",
         "name": "id",
         "stats": {
          "categories": [
           {
            "count": 22,
            "name": "MX17004"
           }
          ],
          "nan_count": 0,
          "unique_count": 1
         }
        },
        {
         "dtype": "int64",
         "name": "year",
         "stats": {
          "histogram": [
           {
            "bin_end": 2009.6,
            "bin_start": 2009.5,
            "count": 0
           },
           {
            "bin_end": 2009.7,
            "bin_start": 2009.6,
            "count": 0
           },
           {
            "bin_end": 2009.8,
            "bin_start": 2009.7,
            "count": 0
           },
           {
            "bin_end": 2009.9,
            "bin_start": 2009.8,
            "count": 0
           },
           {
            "bin_end": 2010,
            "bin_start": 2009.9,
            "count": 0
           },
           {
            "bin_end": 2010.1,
            "bin_start": 2010,
            "count": 22
           },
           {
            "bin_end": 2010.2,
            "bin_start": 2010.1,
            "count": 0
           },
           {
            "bin_end": 2010.3,
            "bin_start": 2010.2,
            "count": 0
           },
           {
            "bin_end": 2010.4,
            "bin_start": 2010.3,
            "count": 0
           },
           {
            "bin_end": 2010.5,
            "bin_start": 2010.4,
            "count": 0
           }
          ],
          "max": "2010",
          "min": "2010",
          "nan_count": 0,
          "unique_count": 1
         }
        },
        {
         "dtype": "int64",
         "name": "month",
         "stats": {
          "histogram": [
           {
            "bin_end": 2.1,
            "bin_start": 1,
            "count": 4
           },
           {
            "bin_end": 3.2,
            "bin_start": 2.1,
            "count": 2
           },
           {
            "bin_end": 4.300000000000001,
            "bin_start": 3.2,
            "count": 2
           },
           {
            "bin_end": 5.4,
            "bin_start": 4.300000000000001,
            "count": 2
           },
           {
            "bin_end": 6.5,
            "bin_start": 5.4,
            "count": 2
           },
           {
            "bin_end": 7.6000000000000005,
            "bin_start": 6.5,
            "count": 2
           },
           {
            "bin_end": 8.700000000000001,
            "bin_start": 7.6000000000000005,
            "count": 2
           },
           {
            "bin_end": 9.8,
            "bin_start": 8.700000000000001,
            "count": 0
           },
           {
            "bin_end": 10.9,
            "bin_start": 9.8,
            "count": 2
           },
           {
            "bin_end": 12,
            "bin_start": 10.9,
            "count": 4
           }
          ],
          "max": "12",
          "min": "1",
          "nan_count": 0,
          "unique_count": 11
         }
        },
        {
         "dtype": "object",
         "name": "element",
         "stats": {
          "categories": [
           {
            "count": 11,
            "name": "tmax"
           },
           {
            "count": 11,
            "name": "tmin"
           }
          ],
          "nan_count": 0,
          "unique_count": 2
         }
        },
        {
         "dtype": "float64",
         "name": "d1",
         "stats": {
          "histogram": [
           {
            "bin_end": 15.41,
            "bin_start": 13.8,
            "count": 1
           },
           {
            "bin_end": 17.02,
            "bin_start": 15.41,
            "count": 0
           },
           {
            "bin_end": 18.630000000000003,
            "bin_start": 17.02,
            "count": 0
           },
           {
            "bin_end": 20.240000000000002,
            "bin_start": 18.630000000000003,
            "count": 0
           },
           {
            "bin_end": 21.85,
            "bin_start": 20.240000000000002,
            "count": 0
           },
           {
            "bin_end": 23.46,
            "bin_start": 21.85,
            "count": 0
           },
           {
            "bin_end": 25.07,
            "bin_start": 23.46,
            "count": 0
           },
           {
            "bin_end": 26.68,
            "bin_start": 25.07,
            "count": 0
           },
           {
            "bin_end": 28.29,
            "bin_start": 26.68,
            "count": 0
           },
           {
            "bin_end": 29.9,
            "bin_start": 28.29,
            "count": 1
           }
          ],
          "max": "29.9",
          "min": "13.8",
          "nan_count": 20,
          "unique_count": 2
         }
        },
        {
         "dtype": "float64",
         "name": "d2",
         "stats": {
          "histogram": [
           {
            "bin_end": 16.09,
            "bin_start": 14.4,
            "count": 1
           },
           {
            "bin_end": 17.78,
            "bin_start": 16.09,
            "count": 1
           },
           {
            "bin_end": 19.47,
            "bin_start": 17.78,
            "count": 0
           },
           {
            "bin_end": 21.16,
            "bin_start": 19.47,
            "count": 0
           },
           {
            "bin_end": 22.85,
            "bin_start": 21.16,
            "count": 0
           },
           {
            "bin_end": 24.54,
            "bin_start": 22.85,
            "count": 0
           },
           {
            "bin_end": 26.23,
            "bin_start": 24.54,
            "count": 0
           },
           {
            "bin_end": 27.92,
            "bin_start": 26.23,
            "count": 1
           },
           {
            "bin_end": 29.61,
            "bin_start": 27.92,
            "count": 0
           },
           {
            "bin_end": 31.3,
            "bin_start": 29.61,
            "count": 1
           }
          ],
          "max": "31.3",
          "min": "14.4",
          "nan_count": 18,
          "unique_count": 4
         }
        },
        {
         "dtype": "float64",
         "name": "d3",
         "stats": {
          "histogram": [
           {
            "bin_end": 15.82,
            "bin_start": 14.4,
            "count": 1
           },
           {
            "bin_end": 17.240000000000002,
            "bin_start": 15.82,
            "count": 0
           },
           {
            "bin_end": 18.66,
            "bin_start": 17.240000000000002,
            "count": 1
           },
           {
            "bin_end": 20.080000000000002,
            "bin_start": 18.66,
            "count": 0
           },
           {
            "bin_end": 21.5,
            "bin_start": 20.080000000000002,
            "count": 0
           },
           {
            "bin_end": 22.92,
            "bin_start": 21.5,
            "count": 0
           },
           {
            "bin_end": 24.340000000000003,
            "bin_start": 22.92,
            "count": 1
           },
           {
            "bin_end": 25.76,
            "bin_start": 24.340000000000003,
            "count": 0
           },
           {
            "bin_end": 27.18,
            "bin_start": 25.76,
            "count": 0
           },
           {
            "bin_end": 28.6,
            "bin_start": 27.18,
            "count": 1
           }
          ],
          "max": "28.6",
          "min": "14.4",
          "nan_count": 18,
          "unique_count": 4
         }
        },
        {
         "dtype": "float64",
         "name": "d4",
         "stats": {
          "histogram": [
           {
            "bin_end": 13.52,
            "bin_start": 12,
            "count": 1
           },
           {
            "bin_end": 15.04,
            "bin_start": 13.52,
            "count": 0
           },
           {
            "bin_end": 16.560000000000002,
            "bin_start": 15.04,
            "count": 0
           },
           {
            "bin_end": 18.08,
            "bin_start": 16.560000000000002,
            "count": 0
           },
           {
            "bin_end": 19.6,
            "bin_start": 18.08,
            "count": 0
           },
           {
            "bin_end": 21.12,
            "bin_start": 19.6,
            "count": 0
           },
           {
            "bin_end": 22.64,
            "bin_start": 21.12,
            "count": 0
           },
           {
            "bin_end": 24.16,
            "bin_start": 22.64,
            "count": 0
           },
           {
            "bin_end": 25.68,
            "bin_start": 24.16,
            "count": 0
           },
           {
            "bin_end": 27.2,
            "bin_start": 25.68,
            "count": 1
           }
          ],
          "max": "27.2",
          "min": "12.0",
          "nan_count": 20,
          "unique_count": 2
         }
        },
        {
         "dtype": "float64",
         "name": "d5",
         "stats": {
          "histogram": [
           {
            "bin_end": 10.32,
            "bin_start": 7.9,
            "count": 1
           },
           {
            "bin_end": 12.740000000000002,
            "bin_start": 10.32,
            "count": 0
           },
           {
            "bin_end": 15.160000000000002,
            "bin_start": 12.740000000000002,
            "count": 2
           },
           {
            "bin_end": 17.580000000000002,
            "bin_start": 15.160000000000002,
            "count": 1
           },
           {
            "bin_end": 20,
            "bin_start": 17.580000000000002,
            "count": 0
           },
           {
            "bin_end": 22.42,
            "bin_start": 20,
            "count": 0
           },
           {
            "bin_end": 24.840000000000003,
            "bin_start": 22.42,
            "count": 0
           },
           {
            "bin_end": 27.260000000000005,
            "bin_start": 24.840000000000003,
            "count": 2
           },
           {
            "bin_end": 29.680000000000007,
            "bin_start": 27.260000000000005,
            "count": 1
           },
           {
            "bin_end": 32.1,
            "bin_start": 29.680000000000007,
            "count": 1
           }
          ],
          "max": "32.1",
          "min": "7.9",
          "nan_count": 14,
          "unique_count": 8
         }
        },
        {
         "dtype": "float64",
         "name": "d6",
         "stats": {
          "histogram": [
           {
            "bin_end": 12.23,
            "bin_start": 10.5,
            "count": 1
           },
           {
            "bin_end": 13.96,
            "bin_start": 12.23,
            "count": 0
           },
           {
            "bin_end": 15.69,
            "bin_start": 13.96,
            "count": 0
           },
           {
            "bin_end": 17.42,
            "bin_start": 15.69,
            "count": 0
           },
           {
            "bin_end": 19.15,
            "bin_start": 17.42,
            "count": 0
           },
           {
            "bin_end": 20.88,
            "bin_start": 19.15,
            "count": 0
           },
           {
            "bin_end": 22.61,
            "bin_start": 20.88,
            "count": 0
           },
           {
            "bin_end": 24.34,
            "bin_start": 22.61,
            "count": 0
           },
           {
            "bin_end": 26.07,
            "bin_start": 24.34,
            "count": 0
           },
           {
            "bin_end": 27.8,
            "bin_start": 26.07,
            "count": 1
           }
          ],
          "max": "27.8",
          "min": "10.5",
          "nan_count": 20,
          "unique_count": 2
         }
        },
        {
         "dtype": "float64",
         "name": "d7",
         "stats": {
          "histogram": [
           {
            "bin_end": 14.42,
            "bin_start": 12.9,
            "count": 1
           },
           {
            "bin_end": 15.940000000000001,
            "bin_start": 14.42,
            "count": 0
           },
           {
            "bin_end": 17.46,
            "bin_start": 15.940000000000001,
            "count": 0
           },
           {
            "bin_end": 18.98,
            "bin_start": 17.46,
            "count": 0
           },
           {
            "bin_end": 20.5,
            "bin_start": 18.98,
            "count": 0
           },
           {
            "bin_end": 22.020000000000003,
            "bin_start": 20.5,
            "count": 0
           },
           {
            "bin_end": 23.54,
            "bin_start": 22.020000000000003,
            "count": 0
           },
           {
            "bin_end": 25.060000000000002,
            "bin_start": 23.54,
            "count": 0
           },
           {
            "bin_end": 26.58,
            "bin_start": 25.060000000000002,
            "count": 0
           },
           {
            "bin_end": 28.1,
            "bin_start": 26.58,
            "count": 1
           }
          ],
          "max": "28.1",
          "min": "12.9",
          "nan_count": 20,
          "unique_count": 2
         }
        },
        {
         "dtype": "float64",
         "name": "d8",
         "stats": {
          "histogram": [
           {
            "bin_end": 18.47,
            "bin_start": 17.3,
            "count": 1
           },
           {
            "bin_end": 19.64,
            "bin_start": 18.47,
            "count": 0
           },
           {
            "bin_end": 20.810000000000002,
            "bin_start": 19.64,
            "count": 0
           },
           {
            "bin_end": 21.98,
            "bin_start": 20.810000000000002,
            "count": 0
           },
           {
            "bin_end": 23.15,
            "bin_start": 21.98,
            "count": 0
           },
           {
            "bin_end": 24.32,
            "bin_start": 23.15,
            "count": 0
           },
           {
            "bin_end": 25.490000000000002,
            "bin_start": 24.32,
            "count": 0
           },
           {
            "bin_end": 26.66,
            "bin_start": 25.490000000000002,
            "count": 0
           },
           {
            "bin_end": 27.83,
            "bin_start": 26.66,
            "count": 0
           },
           {
            "bin_end": 29,
            "bin_start": 27.83,
            "count": 1
           }
          ],
          "max": "29.0",
          "min": "17.3",
          "nan_count": 20,
          "unique_count": 2
         }
        },
        {
         "dtype": "float64",
         "name": "d9",
         "stats": {
          "histogram": [
           {
            "bin_end": 0.1,
            "bin_start": 0,
            "count": 0
           },
           {
            "bin_end": 0.2,
            "bin_start": 0.1,
            "count": 0
           },
           {
            "bin_end": 0.30000000000000004,
            "bin_start": 0.2,
            "count": 0
           },
           {
            "bin_end": 0.4,
            "bin_start": 0.30000000000000004,
            "count": 0
           },
           {
            "bin_end": 0.5,
            "bin_start": 0.4,
            "count": 0
           },
           {
            "bin_end": 0.6000000000000001,
            "bin_start": 0.5,
            "count": 0
           },
           {
            "bin_end": 0.7000000000000001,
            "bin_start": 0.6000000000000001,
            "count": 0
           },
           {
            "bin_end": 0.8,
            "bin_start": 0.7000000000000001,
            "count": 0
           },
           {
            "bin_end": 0.9,
            "bin_start": 0.8,
            "count": 0
           },
           {
            "bin_end": 1,
            "bin_start": 0.9,
            "count": 0
           }
          ],
          "max": null,
          "min": null,
          "nan_count": 22,
          "unique_count": 0
         }
        },
        {
         "dtype": "float64",
         "name": "d10",
         "stats": {
          "histogram": [
           {
            "bin_end": 18.57,
            "bin_start": 16.8,
            "count": 1
           },
           {
            "bin_end": 20.34,
            "bin_start": 18.57,
            "count": 0
           },
           {
            "bin_end": 22.11,
            "bin_start": 20.34,
            "count": 0
           },
           {
            "bin_end": 23.880000000000003,
            "bin_start": 22.11,
            "count": 0
           },
           {
            "bin_end": 25.65,
            "bin_start": 23.880000000000003,
            "count": 0
           },
           {
            "bin_end": 27.42,
            "bin_start": 25.65,
            "count": 0
           },
           {
            "bin_end": 29.19,
            "bin_start": 27.42,
            "count": 0
           },
           {
            "bin_end": 30.96,
            "bin_start": 29.19,
            "count": 0
           },
           {
            "bin_end": 32.730000000000004,
            "bin_start": 30.96,
            "count": 0
           },
           {
            "bin_end": 34.5,
            "bin_start": 32.730000000000004,
            "count": 1
           }
          ],
          "max": "34.5",
          "min": "16.8",
          "nan_count": 20,
          "unique_count": 2
         }
        },
        {
         "dtype": "float64",
         "name": "d11",
         "stats": {
          "histogram": [
           {
            "bin_end": 15.03,
            "bin_start": 13.4,
            "count": 1
           },
           {
            "bin_end": 16.66,
            "bin_start": 15.03,
            "count": 0
           },
           {
            "bin_end": 18.29,
            "bin_start": 16.66,
            "count": 0
           },
           {
            "bin_end": 19.919999999999998,
            "bin_start": 18.29,
            "count": 0
           },
           {
            "bin_end": 21.549999999999997,
            "bin_start": 19.919999999999998,
            "count": 0
           },
           {
            "bin_end": 23.18,
            "bin_start": 21.549999999999997,
            "count": 0
           },
           {
            "bin_end": 24.81,
            "bin_start": 23.18,
            "count": 0
           },
           {
            "bin_end": 26.439999999999998,
            "bin_start": 24.81,
            "count": 0
           },
           {
            "bin_end": 28.069999999999997,
            "bin_start": 26.439999999999998,
            "count": 0
           },
           {
            "bin_end": 29.7,
            "bin_start": 28.069999999999997,
            "count": 1
           }
          ],
          "max": "29.7",
          "min": "13.4",
          "nan_count": 20,
          "unique_count": 2
         }
        },
        {
         "dtype": "float64",
         "name": "d12",
         "stats": {
          "histogram": [
           {
            "bin_end": 0.1,
            "bin_start": 0,
            "count": 0
           },
           {
            "bin_end": 0.2,
            "bin_start": 0.1,
            "count": 0
           },
           {
            "bin_end": 0.30000000000000004,
            "bin_start": 0.2,
            "count": 0
           },
           {
            "bin_end": 0.4,
            "bin_start": 0.30000000000000004,
            "count": 0
           },
           {
            "bin_end": 0.5,
            "bin_start": 0.4,
            "count": 0
           },
           {
            "bin_end": 0.6000000000000001,
            "bin_start": 0.5,
            "count": 0
           },
           {
            "bin_end": 0.7000000000000001,
            "bin_start": 0.6000000000000001,
            "count": 0
           },
           {
            "bin_end": 0.8,
            "bin_start": 0.7000000000000001,
            "count": 0
           },
           {
            "bin_end": 0.9,
            "bin_start": 0.8,
            "count": 0
           },
           {
            "bin_end": 1,
            "bin_start": 0.9,
            "count": 0
           }
          ],
          "max": null,
          "min": null,
          "nan_count": 22,
          "unique_count": 0
         }
        },
        {
         "dtype": "float64",
         "name": "d13",
         "stats": {
          "histogram": [
           {
            "bin_end": 17.83,
            "bin_start": 16.5,
            "count": 1
           },
           {
            "bin_end": 19.16,
            "bin_start": 17.83,
            "count": 0
           },
           {
            "bin_end": 20.490000000000002,
            "bin_start": 19.16,
            "count": 0
           },
           {
            "bin_end": 21.82,
            "bin_start": 20.490000000000002,
            "count": 0
           },
           {
            "bin_end": 23.15,
            "bin_start": 21.82,
            "count": 0
           },
           {
            "bin_end": 24.48,
            "bin_start": 23.15,
            "count": 0
           },
           {
            "bin_end": 25.810000000000002,
            "bin_start": 24.48,
            "count": 0
           },
           {
            "bin_end": 27.14,
            "bin_start": 25.810000000000002,
            "count": 0
           },
           {
            "bin_end": 28.47,
            "bin_start": 27.14,
            "count": 0
           },
           {
            "bin_end": 29.8,
            "bin_start": 28.47,
            "count": 1
           }
          ],
          "max": "29.8",
          "min": "16.5",
          "nan_count": 20,
          "unique_count": 2
         }
        },
        {
         "dtype": "float64",
         "name": "d14",
         "stats": {
          "histogram": [
           {
            "bin_end": 14.69,
            "bin_start": 13,
            "count": 1
           },
           {
            "bin_end": 16.38,
            "bin_start": 14.69,
            "count": 0
           },
           {
            "bin_end": 18.07,
            "bin_start": 16.38,
            "count": 1
           },
           {
            "bin_end": 19.759999999999998,
            "bin_start": 18.07,
            "count": 0
           },
           {
            "bin_end": 21.45,
            "bin_start": 19.759999999999998,
            "count": 0
           },
           {
            "bin_end": 23.14,
            "bin_start": 21.45,
            "count": 0
           },
           {
            "bin_end": 24.83,
            "bin_start": 23.14,
            "count": 0
           },
           {
            "bin_end": 26.52,
            "bin_start": 24.83,
            "count": 0
           },
           {
            "bin_end": 28.21,
            "bin_start": 26.52,
            "count": 0
           },
           {
            "bin_end": 29.9,
            "bin_start": 28.21,
            "count": 2
           }
          ],
          "max": "29.9",
          "min": "13.0",
          "nan_count": 18,
          "unique_count": 4
         }
        },
        {
         "dtype": "float64",
         "name": "d15",
         "stats": {
          "histogram": [
           {
            "bin_end": 12.32,
            "bin_start": 10.5,
            "count": 1
           },
           {
            "bin_end": 14.14,
            "bin_start": 12.32,
            "count": 0
           },
           {
            "bin_end": 15.959999999999999,
            "bin_start": 14.14,
            "count": 0
           },
           {
            "bin_end": 17.78,
            "bin_start": 15.959999999999999,
            "count": 0
           },
           {
            "bin_end": 19.6,
            "bin_start": 17.78,
            "count": 0
           },
           {
            "bin_end": 21.419999999999998,
            "bin_start": 19.6,
            "count": 0
           },
           {
            "bin_end": 23.24,
            "bin_start": 21.419999999999998,
            "count": 0
           },
           {
            "bin_end": 25.06,
            "bin_start": 23.24,
            "count": 0
           },
           {
            "bin_end": 26.88,
            "bin_start": 25.06,
            "count": 0
           },
           {
            "bin_end": 28.7,
            "bin_start": 26.88,
            "count": 1
           }
          ],
          "max": "28.7",
          "min": "10.5",
          "nan_count": 20,
          "unique_count": 2
         }
        },
        {
         "dtype": "float64",
         "name": "d16",
         "stats": {
          "histogram": [
           {
            "bin_end": 18.950000000000003,
            "bin_start": 17.6,
            "count": 1
           },
           {
            "bin_end": 20.3,
            "bin_start": 18.950000000000003,
            "count": 0
           },
           {
            "bin_end": 21.650000000000002,
            "bin_start": 20.3,
            "count": 0
           },
           {
            "bin_end": 23,
            "bin_start": 21.650000000000002,
            "count": 0
           },
           {
            "bin_end": 24.35,
            "bin_start": 23,
            "count": 0
           },
           {
            "bin_end": 25.700000000000003,
            "bin_start": 24.35,
            "count": 0
           },
           {
            "bin_end": 27.050000000000004,
            "bin_start": 25.700000000000003,
            "count": 0
           },
           {
            "bin_end": 28.400000000000002,
            "bin_start": 27.050000000000004,
            "count": 0
           },
           {
            "bin_end": 29.75,
            "bin_start": 28.400000000000002,
            "count": 0
           },
           {
            "bin_end": 31.1,
            "bin_start": 29.75,
            "count": 1
           }
          ],
          "max": "31.1",
          "min": "17.6",
          "nan_count": 20,
          "unique_count": 2
         }
        },
        {
         "dtype": "float64",
         "name": "d17",
         "stats": {
          "histogram": [
           {
            "bin_end": 18.55,
            "bin_start": 17.5,
            "count": 1
           },
           {
            "bin_end": 19.6,
            "bin_start": 18.55,
            "count": 0
           },
           {
            "bin_end": 20.65,
            "bin_start": 19.6,
            "count": 0
           },
           {
            "bin_end": 21.7,
            "bin_start": 20.65,
            "count": 0
           },
           {
            "bin_end": 22.75,
            "bin_start": 21.7,
            "count": 0
           },
           {
            "bin_end": 23.8,
            "bin_start": 22.75,
            "count": 0
           },
           {
            "bin_end": 24.85,
            "bin_start": 23.8,
            "count": 0
           },
           {
            "bin_end": 25.9,
            "bin_start": 24.85,
            "count": 0
           },
           {
            "bin_end": 26.950000000000003,
            "bin_start": 25.9,
            "count": 0
           },
           {
            "bin_end": 28,
            "bin_start": 26.950000000000003,
            "count": 1
           }
          ],
          "max": "28.0",
          "min": "17.5",
          "nan_count": 20,
          "unique_count": 2
         }
        },
        {
         "dtype": "float64",
         "name": "d18",
         "stats": {
          "histogram": [
           {
            "bin_end": 0.1,
            "bin_start": 0,
            "count": 0
           },
           {
            "bin_end": 0.2,
            "bin_start": 0.1,
            "count": 0
           },
           {
            "bin_end": 0.30000000000000004,
            "bin_start": 0.2,
            "count": 0
           },
           {
            "bin_end": 0.4,
            "bin_start": 0.30000000000000004,
            "count": 0
           },
           {
            "bin_end": 0.5,
            "bin_start": 0.4,
            "count": 0
           },
           {
            "bin_end": 0.6000000000000001,
            "bin_start": 0.5,
            "count": 0
           },
           {
            "bin_end": 0.7000000000000001,
            "bin_start": 0.6000000000000001,
            "count": 0
           },
           {
            "bin_end": 0.8,
            "bin_start": 0.7000000000000001,
            "count": 0
           },
           {
            "bin_end": 0.9,
            "bin_start": 0.8,
            "count": 0
           },
           {
            "bin_end": 1,
            "bin_start": 0.9,
            "count": 0
           }
          ],
          "max": null,
          "min": null,
          "nan_count": 22,
          "unique_count": 0
         }
        },
        {
         "dtype": "float64",
         "name": "d19",
         "stats": {
          "histogram": [
           {
            "bin_end": 0.1,
            "bin_start": 0,
            "count": 0
           },
           {
            "bin_end": 0.2,
            "bin_start": 0.1,
            "count": 0
           },
           {
            "bin_end": 0.30000000000000004,
            "bin_start": 0.2,
            "count": 0
           },
           {
            "bin_end": 0.4,
            "bin_start": 0.30000000000000004,
            "count": 0
           },
           {
            "bin_end": 0.5,
            "bin_start": 0.4,
            "count": 0
           },
           {
            "bin_end": 0.6000000000000001,
            "bin_start": 0.5,
            "count": 0
           },
           {
            "bin_end": 0.7000000000000001,
            "bin_start": 0.6000000000000001,
            "count": 0
           },
           {
            "bin_end": 0.8,
            "bin_start": 0.7000000000000001,
            "count": 0
           },
           {
            "bin_end": 0.9,
            "bin_start": 0.8,
            "count": 0
           },
           {
            "bin_end": 1,
            "bin_start": 0.9,
            "count": 0
           }
          ],
          "max": null,
          "min": null,
          "nan_count": 22,
          "unique_count": 0
         }
        },
        {
         "dtype": "float64",
         "name": "d20",
         "stats": {
          "histogram": [
           {
            "bin_end": 0.1,
            "bin_start": 0,
            "count": 0
           },
           {
            "bin_end": 0.2,
            "bin_start": 0.1,
            "count": 0
           },
           {
            "bin_end": 0.30000000000000004,
            "bin_start": 0.2,
            "count": 0
           },
           {
            "bin_end": 0.4,
            "bin_start": 0.30000000000000004,
            "count": 0
           },
           {
            "bin_end": 0.5,
            "bin_start": 0.4,
            "count": 0
           },
           {
            "bin_end": 0.6000000000000001,
            "bin_start": 0.5,
            "count": 0
           },
           {
            "bin_end": 0.7000000000000001,
            "bin_start": 0.6000000000000001,
            "count": 0
           },
           {
            "bin_end": 0.8,
            "bin_start": 0.7000000000000001,
            "count": 0
           },
           {
            "bin_end": 0.9,
            "bin_start": 0.8,
            "count": 0
           },
           {
            "bin_end": 1,
            "bin_start": 0.9,
            "count": 0
           }
          ],
          "max": null,
          "min": null,
          "nan_count": 22,
          "unique_count": 0
         }
        },
        {
         "dtype": "float64",
         "name": "d21",
         "stats": {
          "histogram": [
           {
            "bin_end": 0.1,
            "bin_start": 0,
            "count": 0
           },
           {
            "bin_end": 0.2,
            "bin_start": 0.1,
            "count": 0
           },
           {
            "bin_end": 0.30000000000000004,
            "bin_start": 0.2,
            "count": 0
           },
           {
            "bin_end": 0.4,
            "bin_start": 0.30000000000000004,
            "count": 0
           },
           {
            "bin_end": 0.5,
            "bin_start": 0.4,
            "count": 0
           },
           {
            "bin_end": 0.6000000000000001,
            "bin_start": 0.5,
            "count": 0
           },
           {
            "bin_end": 0.7000000000000001,
            "bin_start": 0.6000000000000001,
            "count": 0
           },
           {
            "bin_end": 0.8,
            "bin_start": 0.7000000000000001,
            "count": 0
           },
           {
            "bin_end": 0.9,
            "bin_start": 0.8,
            "count": 0
           },
           {
            "bin_end": 1,
            "bin_start": 0.9,
            "count": 0
           }
          ],
          "max": null,
          "min": null,
          "nan_count": 22,
          "unique_count": 0
         }
        },
        {
         "dtype": "float64",
         "name": "d22",
         "stats": {
          "histogram": [
           {
            "bin_end": 0.1,
            "bin_start": 0,
            "count": 0
           },
           {
            "bin_end": 0.2,
            "bin_start": 0.1,
            "count": 0
           },
           {
            "bin_end": 0.30000000000000004,
            "bin_start": 0.2,
            "count": 0
           },
           {
            "bin_end": 0.4,
            "bin_start": 0.30000000000000004,
            "count": 0
           },
           {
            "bin_end": 0.5,
            "bin_start": 0.4,
            "count": 0
           },
           {
            "bin_end": 0.6000000000000001,
            "bin_start": 0.5,
            "count": 0
           },
           {
            "bin_end": 0.7000000000000001,
            "bin_start": 0.6000000000000001,
            "count": 0
           },
           {
            "bin_end": 0.8,
            "bin_start": 0.7000000000000001,
            "count": 0
           },
           {
            "bin_end": 0.9,
            "bin_start": 0.8,
            "count": 0
           },
           {
            "bin_end": 1,
            "bin_start": 0.9,
            "count": 0
           }
          ],
          "max": null,
          "min": null,
          "nan_count": 22,
          "unique_count": 0
         }
        },
        {
         "dtype": "float64",
         "name": "d23",
         "stats": {
          "histogram": [
           {
            "bin_end": 12.62,
            "bin_start": 10.7,
            "count": 1
           },
           {
            "bin_end": 14.54,
            "bin_start": 12.62,
            "count": 0
           },
           {
            "bin_end": 16.46,
            "bin_start": 14.54,
            "count": 1
           },
           {
            "bin_end": 18.38,
            "bin_start": 16.46,
            "count": 0
           },
           {
            "bin_end": 20.299999999999997,
            "bin_start": 18.38,
            "count": 0
           },
           {
            "bin_end": 22.22,
            "bin_start": 20.299999999999997,
            "count": 0
           },
           {
            "bin_end": 24.14,
            "bin_start": 22.22,
            "count": 0
           },
           {
            "bin_end": 26.06,
            "bin_start": 24.14,
            "count": 0
           },
           {
            "bin_end": 27.98,
            "bin_start": 26.06,
            "count": 1
           },
           {
            "bin_end": 29.9,
            "bin_start": 27.98,
            "count": 1
           }
          ],
          "max": "29.9",
          "min": "10.7",
          "nan_count": 18,
          "unique_count": 4
         }
        },
        {
         "dtype": "float64",
         "name": "d24",
         "stats": {
          "histogram": [
           {
            "bin_end": 0.1,
            "bin_start": 0,
            "count": 0
           },
           {
            "bin_end": 0.2,
            "bin_start": 0.1,
            "count": 0
           },
           {
            "bin_end": 0.30000000000000004,
            "bin_start": 0.2,
            "count": 0
           },
           {
            "bin_end": 0.4,
            "bin_start": 0.30000000000000004,
            "count": 0
           },
           {
            "bin_end": 0.5,
            "bin_start": 0.4,
            "count": 0
           },
           {
            "bin_end": 0.6000000000000001,
            "bin_start": 0.5,
            "count": 0
           },
           {
            "bin_end": 0.7000000000000001,
            "bin_start": 0.6000000000000001,
            "count": 0
           },
           {
            "bin_end": 0.8,
            "bin_start": 0.7000000000000001,
            "count": 0
           },
           {
            "bin_end": 0.9,
            "bin_start": 0.8,
            "count": 0
           },
           {
            "bin_end": 1,
            "bin_start": 0.9,
            "count": 0
           }
          ],
          "max": null,
          "min": null,
          "nan_count": 22,
          "unique_count": 0
         }
        },
        {
         "dtype": "float64",
         "name": "d25",
         "stats": {
          "histogram": [
           {
            "bin_end": 17.009999999999998,
            "bin_start": 15.6,
            "count": 1
           },
           {
            "bin_end": 18.419999999999998,
            "bin_start": 17.009999999999998,
            "count": 0
           },
           {
            "bin_end": 19.83,
            "bin_start": 18.419999999999998,
            "count": 0
           },
           {
            "bin_end": 21.24,
            "bin_start": 19.83,
            "count": 0
           },
           {
            "bin_end": 22.65,
            "bin_start": 21.24,
            "count": 0
           },
           {
            "bin_end": 24.06,
            "bin_start": 22.65,
            "count": 0
           },
           {
            "bin_end": 25.47,
            "bin_start": 24.06,
            "count": 0
           },
           {
            "bin_end": 26.88,
            "bin_start": 25.47,
            "count": 0
           },
           {
            "bin_end": 28.29,
            "bin_start": 26.88,
            "count": 0
           },
           {
            "bin_end": 29.7,
            "bin_start": 28.29,
            "count": 1
           }
          ],
          "max": "29.7",
          "min": "15.6",
          "nan_count": 20,
          "unique_count": 2
         }
        },
        {
         "dtype": "float64",
         "name": "d26",
         "stats": {
          "histogram": [
           {
            "bin_end": 13.7,
            "bin_start": 12.1,
            "count": 1
           },
           {
            "bin_end": 15.3,
            "bin_start": 13.7,
            "count": 0
           },
           {
            "bin_end": 16.9,
            "bin_start": 15.3,
            "count": 0
           },
           {
            "bin_end": 18.5,
            "bin_start": 16.9,
            "count": 0
           },
           {
            "bin_end": 20.1,
            "bin_start": 18.5,
            "count": 0
           },
           {
            "bin_end": 21.700000000000003,
            "bin_start": 20.1,
            "count": 0
           },
           {
            "bin_end": 23.3,
            "bin_start": 21.700000000000003,
            "count": 0
           },
           {
            "bin_end": 24.9,
            "bin_start": 23.3,
            "count": 0
           },
           {
            "bin_end": 26.5,
            "bin_start": 24.9,
            "count": 0
           },
           {
            "bin_end": 28.1,
            "bin_start": 26.5,
            "count": 1
           }
          ],
          "max": "28.1",
          "min": "12.1",
          "nan_count": 20,
          "unique_count": 2
         }
        },
        {
         "dtype": "float64",
         "name": "d27",
         "stats": {
          "histogram": [
           {
            "bin_end": 16.41,
            "bin_start": 14.2,
            "count": 1
           },
           {
            "bin_end": 18.619999999999997,
            "bin_start": 16.41,
            "count": 2
           },
           {
            "bin_end": 20.83,
            "bin_start": 18.619999999999997,
            "count": 0
           },
           {
            "bin_end": 23.04,
            "bin_start": 20.83,
            "count": 0
           },
           {
            "bin_end": 25.25,
            "bin_start": 23.04,
            "count": 0
           },
           {
            "bin_end": 27.46,
            "bin_start": 25.25,
            "count": 0
           },
           {
            "bin_end": 29.669999999999998,
            "bin_start": 27.46,
            "count": 1
           },
           {
            "bin_end": 31.88,
            "bin_start": 29.669999999999998,
            "count": 0
           },
           {
            "bin_end": 34.09,
            "bin_start": 31.88,
            "count": 1
           },
           {
            "bin_end": 36.3,
            "bin_start": 34.09,
            "count": 1
           }
          ],
          "max": "36.3",
          "min": "14.2",
          "nan_count": 16,
          "unique_count": 6
         }
        },
        {
         "dtype": "float64",
         "name": "d28",
         "stats": {
          "histogram": [
           {
            "bin_end": 16.62,
            "bin_start": 15,
            "count": 1
           },
           {
            "bin_end": 18.24,
            "bin_start": 16.62,
            "count": 0
           },
           {
            "bin_end": 19.86,
            "bin_start": 18.24,
            "count": 0
           },
           {
            "bin_end": 21.48,
            "bin_start": 19.86,
            "count": 0
           },
           {
            "bin_end": 23.1,
            "bin_start": 21.48,
            "count": 0
           },
           {
            "bin_end": 24.72,
            "bin_start": 23.1,
            "count": 0
           },
           {
            "bin_end": 26.34,
            "bin_start": 24.72,
            "count": 0
           },
           {
            "bin_end": 27.96,
            "bin_start": 26.34,
            "count": 0
           },
           {
            "bin_end": 29.58,
            "bin_start": 27.96,
            "count": 0
           },
           {
            "bin_end": 31.2,
            "bin_start": 29.58,
            "count": 1
           }
          ],
          "max": "31.2",
          "min": "15.0",
          "nan_count": 20,
          "unique_count": 2
         }
        },
        {
         "dtype": "float64",
         "name": "d29",
         "stats": {
          "histogram": [
           {
            "bin_end": 16.78,
            "bin_start": 15.3,
            "count": 1
           },
           {
            "bin_end": 18.26,
            "bin_start": 16.78,
            "count": 1
           },
           {
            "bin_end": 19.740000000000002,
            "bin_start": 18.26,
            "count": 0
           },
           {
            "bin_end": 21.22,
            "bin_start": 19.740000000000002,
            "count": 0
           },
           {
            "bin_end": 22.700000000000003,
            "bin_start": 21.22,
            "count": 0
           },
           {
            "bin_end": 24.18,
            "bin_start": 22.700000000000003,
            "count": 0
           },
           {
            "bin_end": 25.66,
            "bin_start": 24.18,
            "count": 0
           },
           {
            "bin_end": 27.14,
            "bin_start": 25.66,
            "count": 0
           },
           {
            "bin_end": 28.62,
            "bin_start": 27.14,
            "count": 1
           },
           {
            "bin_end": 30.1,
            "bin_start": 28.62,
            "count": 1
           }
          ],
          "max": "30.1",
          "min": "15.3",
          "nan_count": 18,
          "unique_count": 4
         }
        },
        {
         "dtype": "float64",
         "name": "d30",
         "stats": {
          "histogram": [
           {
            "bin_end": 15.83,
            "bin_start": 14.5,
            "count": 1
           },
           {
            "bin_end": 17.16,
            "bin_start": 15.83,
            "count": 0
           },
           {
            "bin_end": 18.490000000000002,
            "bin_start": 17.16,
            "count": 0
           },
           {
            "bin_end": 19.82,
            "bin_start": 18.490000000000002,
            "count": 0
           },
           {
            "bin_end": 21.15,
            "bin_start": 19.82,
            "count": 0
           },
           {
            "bin_end": 22.48,
            "bin_start": 21.15,
            "count": 0
           },
           {
            "bin_end": 23.810000000000002,
            "bin_start": 22.48,
            "count": 0
           },
           {
            "bin_end": 25.14,
            "bin_start": 23.810000000000002,
            "count": 0
           },
           {
            "bin_end": 26.47,
            "bin_start": 25.14,
            "count": 0
           },
           {
            "bin_end": 27.8,
            "bin_start": 26.47,
            "count": 1
           }
          ],
          "max": "27.8",
          "min": "14.5",
          "nan_count": 20,
          "unique_count": 2
         }
        },
        {
         "dtype": "float64",
         "name": "d31",
         "stats": {
          "histogram": [
           {
            "bin_end": 16.4,
            "bin_start": 15.4,
            "count": 1
           },
           {
            "bin_end": 17.4,
            "bin_start": 16.4,
            "count": 0
           },
           {
            "bin_end": 18.4,
            "bin_start": 17.4,
            "count": 0
           },
           {
            "bin_end": 19.4,
            "bin_start": 18.4,
            "count": 0
           },
           {
            "bin_end": 20.4,
            "bin_start": 19.4,
            "count": 0
           },
           {
            "bin_end": 21.4,
            "bin_start": 20.4,
            "count": 0
           },
           {
            "bin_end": 22.4,
            "bin_start": 21.4,
            "count": 0
           },
           {
            "bin_end": 23.4,
            "bin_start": 22.4,
            "count": 0
           },
           {
            "bin_end": 24.4,
            "bin_start": 23.4,
            "count": 0
           },
           {
            "bin_end": 25.4,
            "bin_start": 24.4,
            "count": 1
           }
          ],
          "max": "25.4",
          "min": "15.4",
          "nan_count": 20,
          "unique_count": 2
         }
        },
        {
         "dtype": "int64",
         "name": "_deepnote_index_column"
        }
       ],
       "row_count": 22,
       "rows_bottom": null,
       "rows_top": [
        {
         "_deepnote_index_column": 0,
         "d1": "nan",
         "d10": "nan",
         "d11": "nan",
         "d12": "nan",
         "d13": "nan",
         "d14": "nan",
         "d15": "nan",
         "d16": "nan",
         "d17": "nan",
         "d18": "nan",
         "d19": "nan",
         "d2": "nan",
         "d20": "nan",
         "d21": "nan",
         "d22": "nan",
         "d23": "nan",
         "d24": "nan",
         "d25": "nan",
         "d26": "nan",
         "d27": "nan",
         "d28": "nan",
         "d29": "nan",
         "d3": "nan",
         "d30": "27.8",
         "d31": "nan",
         "d4": "nan",
         "d5": "nan",
         "d6": "nan",
         "d7": "nan",
         "d8": "nan",
         "d9": "nan",
         "element": "tmax",
         "id": "MX17004",
         "month": 1,
         "year": 2010
        },
        {
         "_deepnote_index_column": 1,
         "d1": "nan",
         "d10": "nan",
         "d11": "nan",
         "d12": "nan",
         "d13": "nan",
         "d14": "nan",
         "d15": "nan",
         "d16": "nan",
         "d17": "nan",
         "d18": "nan",
         "d19": "nan",
         "d2": "nan",
         "d20": "nan",
         "d21": "nan",
         "d22": "nan",
         "d23": "nan",
         "d24": "nan",
         "d25": "nan",
         "d26": "nan",
         "d27": "nan",
         "d28": "nan",
         "d29": "nan",
         "d3": "nan",
         "d30": "14.5",
         "d31": "nan",
         "d4": "nan",
         "d5": "nan",
         "d6": "nan",
         "d7": "nan",
         "d8": "nan",
         "d9": "nan",
         "element": "tmin",
         "id": "MX17004",
         "month": 1,
         "year": 2010
        },
        {
         "_deepnote_index_column": 2,
         "d1": "nan",
         "d10": "nan",
         "d11": "29.7",
         "d12": "nan",
         "d13": "nan",
         "d14": "nan",
         "d15": "nan",
         "d16": "nan",
         "d17": "nan",
         "d18": "nan",
         "d19": "nan",
         "d2": "27.3",
         "d20": "nan",
         "d21": "nan",
         "d22": "nan",
         "d23": "29.9",
         "d24": "nan",
         "d25": "nan",
         "d26": "nan",
         "d27": "nan",
         "d28": "nan",
         "d29": "nan",
         "d3": "24.1",
         "d30": "nan",
         "d31": "nan",
         "d4": "nan",
         "d5": "nan",
         "d6": "nan",
         "d7": "nan",
         "d8": "nan",
         "d9": "nan",
         "element": "tmax",
         "id": "MX17004",
         "month": 2,
         "year": 2010
        },
        {
         "_deepnote_index_column": 3,
         "d1": "nan",
         "d10": "nan",
         "d11": "13.4",
         "d12": "nan",
         "d13": "nan",
         "d14": "nan",
         "d15": "nan",
         "d16": "nan",
         "d17": "nan",
         "d18": "nan",
         "d19": "nan",
         "d2": "14.4",
         "d20": "nan",
         "d21": "nan",
         "d22": "nan",
         "d23": "10.7",
         "d24": "nan",
         "d25": "nan",
         "d26": "nan",
         "d27": "nan",
         "d28": "nan",
         "d29": "nan",
         "d3": "14.4",
         "d30": "nan",
         "d31": "nan",
         "d4": "nan",
         "d5": "nan",
         "d6": "nan",
         "d7": "nan",
         "d8": "nan",
         "d9": "nan",
         "element": "tmin",
         "id": "MX17004",
         "month": 2,
         "year": 2010
        },
        {
         "_deepnote_index_column": 4,
         "d1": "nan",
         "d10": "34.5",
         "d11": "nan",
         "d12": "nan",
         "d13": "nan",
         "d14": "nan",
         "d15": "nan",
         "d16": "31.1",
         "d17": "nan",
         "d18": "nan",
         "d19": "nan",
         "d2": "nan",
         "d20": "nan",
         "d21": "nan",
         "d22": "nan",
         "d23": "nan",
         "d24": "nan",
         "d25": "nan",
         "d26": "nan",
         "d27": "nan",
         "d28": "nan",
         "d29": "nan",
         "d3": "nan",
         "d30": "nan",
         "d31": "nan",
         "d4": "nan",
         "d5": "32.1",
         "d6": "nan",
         "d7": "nan",
         "d8": "nan",
         "d9": "nan",
         "element": "tmax",
         "id": "MX17004",
         "month": 3,
         "year": 2010
        },
        {
         "_deepnote_index_column": 5,
         "d1": "nan",
         "d10": "16.8",
         "d11": "nan",
         "d12": "nan",
         "d13": "nan",
         "d14": "nan",
         "d15": "nan",
         "d16": "17.6",
         "d17": "nan",
         "d18": "nan",
         "d19": "nan",
         "d2": "nan",
         "d20": "nan",
         "d21": "nan",
         "d22": "nan",
         "d23": "nan",
         "d24": "nan",
         "d25": "nan",
         "d26": "nan",
         "d27": "nan",
         "d28": "nan",
         "d29": "nan",
         "d3": "nan",
         "d30": "nan",
         "d31": "nan",
         "d4": "nan",
         "d5": "14.2",
         "d6": "nan",
         "d7": "nan",
         "d8": "nan",
         "d9": "nan",
         "element": "tmin",
         "id": "MX17004",
         "month": 3,
         "year": 2010
        },
        {
         "_deepnote_index_column": 6,
         "d1": "nan",
         "d10": "nan",
         "d11": "nan",
         "d12": "nan",
         "d13": "nan",
         "d14": "nan",
         "d15": "nan",
         "d16": "nan",
         "d17": "nan",
         "d18": "nan",
         "d19": "nan",
         "d2": "nan",
         "d20": "nan",
         "d21": "nan",
         "d22": "nan",
         "d23": "nan",
         "d24": "nan",
         "d25": "nan",
         "d26": "nan",
         "d27": "36.3",
         "d28": "nan",
         "d29": "nan",
         "d3": "nan",
         "d30": "nan",
         "d31": "nan",
         "d4": "nan",
         "d5": "nan",
         "d6": "nan",
         "d7": "nan",
         "d8": "nan",
         "d9": "nan",
         "element": "tmax",
         "id": "MX17004",
         "month": 4,
         "year": 2010
        },
        {
         "_deepnote_index_column": 7,
         "d1": "nan",
         "d10": "nan",
         "d11": "nan",
         "d12": "nan",
         "d13": "nan",
         "d14": "nan",
         "d15": "nan",
         "d16": "nan",
         "d17": "nan",
         "d18": "nan",
         "d19": "nan",
         "d2": "nan",
         "d20": "nan",
         "d21": "nan",
         "d22": "nan",
         "d23": "nan",
         "d24": "nan",
         "d25": "nan",
         "d26": "nan",
         "d27": "16.7",
         "d28": "nan",
         "d29": "nan",
         "d3": "nan",
         "d30": "nan",
         "d31": "nan",
         "d4": "nan",
         "d5": "nan",
         "d6": "nan",
         "d7": "nan",
         "d8": "nan",
         "d9": "nan",
         "element": "tmin",
         "id": "MX17004",
         "month": 4,
         "year": 2010
        },
        {
         "_deepnote_index_column": 8,
         "d1": "nan",
         "d10": "nan",
         "d11": "nan",
         "d12": "nan",
         "d13": "nan",
         "d14": "nan",
         "d15": "nan",
         "d16": "nan",
         "d17": "nan",
         "d18": "nan",
         "d19": "nan",
         "d2": "nan",
         "d20": "nan",
         "d21": "nan",
         "d22": "nan",
         "d23": "nan",
         "d24": "nan",
         "d25": "nan",
         "d26": "nan",
         "d27": "33.2",
         "d28": "nan",
         "d29": "nan",
         "d3": "nan",
         "d30": "nan",
         "d31": "nan",
         "d4": "nan",
         "d5": "nan",
         "d6": "nan",
         "d7": "nan",
         "d8": "nan",
         "d9": "nan",
         "element": "tmax",
         "id": "MX17004",
         "month": 5,
         "year": 2010
        },
        {
         "_deepnote_index_column": 9,
         "d1": "nan",
         "d10": "nan",
         "d11": "nan",
         "d12": "nan",
         "d13": "nan",
         "d14": "nan",
         "d15": "nan",
         "d16": "nan",
         "d17": "nan",
         "d18": "nan",
         "d19": "nan",
         "d2": "nan",
         "d20": "nan",
         "d21": "nan",
         "d22": "nan",
         "d23": "nan",
         "d24": "nan",
         "d25": "nan",
         "d26": "nan",
         "d27": "18.2",
         "d28": "nan",
         "d29": "nan",
         "d3": "nan",
         "d30": "nan",
         "d31": "nan",
         "d4": "nan",
         "d5": "nan",
         "d6": "nan",
         "d7": "nan",
         "d8": "nan",
         "d9": "nan",
         "element": "tmin",
         "id": "MX17004",
         "month": 5,
         "year": 2010
        },
        {
         "_deepnote_index_column": 10,
         "d1": "nan",
         "d10": "nan",
         "d11": "nan",
         "d12": "nan",
         "d13": "nan",
         "d14": "nan",
         "d15": "nan",
         "d16": "nan",
         "d17": "28.0",
         "d18": "nan",
         "d19": "nan",
         "d2": "nan",
         "d20": "nan",
         "d21": "nan",
         "d22": "nan",
         "d23": "nan",
         "d24": "nan",
         "d25": "nan",
         "d26": "nan",
         "d27": "nan",
         "d28": "nan",
         "d29": "30.1",
         "d3": "nan",
         "d30": "nan",
         "d31": "nan",
         "d4": "nan",
         "d5": "nan",
         "d6": "nan",
         "d7": "nan",
         "d8": "nan",
         "d9": "nan",
         "element": "tmax",
         "id": "MX17004",
         "month": 6,
         "year": 2010
        },
        {
         "_deepnote_index_column": 11,
         "d1": "nan",
         "d10": "nan",
         "d11": "nan",
         "d12": "nan",
         "d13": "nan",
         "d14": "nan",
         "d15": "nan",
         "d16": "nan",
         "d17": "17.5",
         "d18": "nan",
         "d19": "nan",
         "d2": "nan",
         "d20": "nan",
         "d21": "nan",
         "d22": "nan",
         "d23": "nan",
         "d24": "nan",
         "d25": "nan",
         "d26": "nan",
         "d27": "nan",
         "d28": "nan",
         "d29": "18.0",
         "d3": "nan",
         "d30": "nan",
         "d31": "nan",
         "d4": "nan",
         "d5": "nan",
         "d6": "nan",
         "d7": "nan",
         "d8": "nan",
         "d9": "nan",
         "element": "tmin",
         "id": "MX17004",
         "month": 6,
         "year": 2010
        },
        {
         "_deepnote_index_column": 12,
         "d1": "nan",
         "d10": "nan",
         "d11": "nan",
         "d12": "nan",
         "d13": "nan",
         "d14": "29.9",
         "d15": "nan",
         "d16": "nan",
         "d17": "nan",
         "d18": "nan",
         "d19": "nan",
         "d2": "nan",
         "d20": "nan",
         "d21": "nan",
         "d22": "nan",
         "d23": "nan",
         "d24": "nan",
         "d25": "nan",
         "d26": "nan",
         "d27": "nan",
         "d28": "nan",
         "d29": "nan",
         "d3": "28.6",
         "d30": "nan",
         "d31": "nan",
         "d4": "nan",
         "d5": "nan",
         "d6": "nan",
         "d7": "nan",
         "d8": "nan",
         "d9": "nan",
         "element": "tmax",
         "id": "MX17004",
         "month": 7,
         "year": 2010
        },
        {
         "_deepnote_index_column": 13,
         "d1": "nan",
         "d10": "nan",
         "d11": "nan",
         "d12": "nan",
         "d13": "nan",
         "d14": "16.5",
         "d15": "nan",
         "d16": "nan",
         "d17": "nan",
         "d18": "nan",
         "d19": "nan",
         "d2": "nan",
         "d20": "nan",
         "d21": "nan",
         "d22": "nan",
         "d23": "nan",
         "d24": "nan",
         "d25": "nan",
         "d26": "nan",
         "d27": "nan",
         "d28": "nan",
         "d29": "nan",
         "d3": "17.5",
         "d30": "nan",
         "d31": "nan",
         "d4": "nan",
         "d5": "nan",
         "d6": "nan",
         "d7": "nan",
         "d8": "nan",
         "d9": "nan",
         "element": "tmin",
         "id": "MX17004",
         "month": 7,
         "year": 2010
        },
        {
         "_deepnote_index_column": 14,
         "d1": "nan",
         "d10": "nan",
         "d11": "nan",
         "d12": "nan",
         "d13": "29.8",
         "d14": "nan",
         "d15": "nan",
         "d16": "nan",
         "d17": "nan",
         "d18": "nan",
         "d19": "nan",
         "d2": "nan",
         "d20": "nan",
         "d21": "nan",
         "d22": "nan",
         "d23": "26.4",
         "d24": "nan",
         "d25": "29.7",
         "d26": "nan",
         "d27": "nan",
         "d28": "nan",
         "d29": "28.0",
         "d3": "nan",
         "d30": "nan",
         "d31": "25.4",
         "d4": "nan",
         "d5": "29.6",
         "d6": "nan",
         "d7": "nan",
         "d8": "29.0",
         "d9": "nan",
         "element": "tmax",
         "id": "MX17004",
         "month": 8,
         "year": 2010
        },
        {
         "_deepnote_index_column": 15,
         "d1": "nan",
         "d10": "nan",
         "d11": "nan",
         "d12": "nan",
         "d13": "16.5",
         "d14": "nan",
         "d15": "nan",
         "d16": "nan",
         "d17": "nan",
         "d18": "nan",
         "d19": "nan",
         "d2": "nan",
         "d20": "nan",
         "d21": "nan",
         "d22": "nan",
         "d23": "15.0",
         "d24": "nan",
         "d25": "15.6",
         "d26": "nan",
         "d27": "nan",
         "d28": "nan",
         "d29": "15.3",
         "d3": "nan",
         "d30": "nan",
         "d31": "15.4",
         "d4": "nan",
         "d5": "15.8",
         "d6": "nan",
         "d7": "nan",
         "d8": "17.3",
         "d9": "nan",
         "element": "tmin",
         "id": "MX17004",
         "month": 8,
         "year": 2010
        },
        {
         "_deepnote_index_column": 16,
         "d1": "nan",
         "d10": "nan",
         "d11": "nan",
         "d12": "nan",
         "d13": "nan",
         "d14": "29.5",
         "d15": "28.7",
         "d16": "nan",
         "d17": "nan",
         "d18": "nan",
         "d19": "nan",
         "d2": "nan",
         "d20": "nan",
         "d21": "nan",
         "d22": "nan",
         "d23": "nan",
         "d24": "nan",
         "d25": "nan",
         "d26": "nan",
         "d27": "nan",
         "d28": "31.2",
         "d29": "nan",
         "d3": "nan",
         "d30": "nan",
         "d31": "nan",
         "d4": "nan",
         "d5": "27.0",
         "d6": "nan",
         "d7": "28.1",
         "d8": "nan",
         "d9": "nan",
         "element": "tmax",
         "id": "MX17004",
         "month": 10,
         "year": 2010
        },
        {
         "_deepnote_index_column": 17,
         "d1": "nan",
         "d10": "nan",
         "d11": "nan",
         "d12": "nan",
         "d13": "nan",
         "d14": "13.0",
         "d15": "10.5",
         "d16": "nan",
         "d17": "nan",
         "d18": "nan",
         "d19": "nan",
         "d2": "nan",
         "d20": "nan",
         "d21": "nan",
         "d22": "nan",
         "d23": "nan",
         "d24": "nan",
         "d25": "nan",
         "d26": "nan",
         "d27": "nan",
         "d28": "15.0",
         "d29": "nan",
         "d3": "nan",
         "d30": "nan",
         "d31": "nan",
         "d4": "nan",
         "d5": "14.0",
         "d6": "nan",
         "d7": "12.9",
         "d8": "nan",
         "d9": "nan",
         "element": "tmin",
         "id": "MX17004",
         "month": 10,
         "year": 2010
        },
        {
         "_deepnote_index_column": 18,
         "d1": "nan",
         "d10": "nan",
         "d11": "nan",
         "d12": "nan",
         "d13": "nan",
         "d14": "nan",
         "d15": "nan",
         "d16": "nan",
         "d17": "nan",
         "d18": "nan",
         "d19": "nan",
         "d2": "31.3",
         "d20": "nan",
         "d21": "nan",
         "d22": "nan",
         "d23": "nan",
         "d24": "nan",
         "d25": "nan",
         "d26": "28.1",
         "d27": "27.7",
         "d28": "nan",
         "d29": "nan",
         "d3": "nan",
         "d30": "nan",
         "d31": "nan",
         "d4": "27.2",
         "d5": "26.3",
         "d6": "nan",
         "d7": "nan",
         "d8": "nan",
         "d9": "nan",
         "element": "tmax",
         "id": "MX17004",
         "month": 11,
         "year": 2010
        },
        {
         "_deepnote_index_column": 19,
         "d1": "nan",
         "d10": "nan",
         "d11": "nan",
         "d12": "nan",
         "d13": "nan",
         "d14": "nan",
         "d15": "nan",
         "d16": "nan",
         "d17": "nan",
         "d18": "nan",
         "d19": "nan",
         "d2": "16.3",
         "d20": "nan",
         "d21": "nan",
         "d22": "nan",
         "d23": "nan",
         "d24": "nan",
         "d25": "nan",
         "d26": "12.1",
         "d27": "14.2",
         "d28": "nan",
         "d29": "nan",
         "d3": "nan",
         "d30": "nan",
         "d31": "nan",
         "d4": "12.0",
         "d5": "7.9",
         "d6": "nan",
         "d7": "nan",
         "d8": "nan",
         "d9": "nan",
         "element": "tmin",
         "id": "MX17004",
         "month": 11,
         "year": 2010
        },
        {
         "_deepnote_index_column": 20,
         "d1": "29.9",
         "d10": "nan",
         "d11": "nan",
         "d12": "nan",
         "d13": "nan",
         "d14": "nan",
         "d15": "nan",
         "d16": "nan",
         "d17": "nan",
         "d18": "nan",
         "d19": "nan",
         "d2": "nan",
         "d20": "nan",
         "d21": "nan",
         "d22": "nan",
         "d23": "nan",
         "d24": "nan",
         "d25": "nan",
         "d26": "nan",
         "d27": "nan",
         "d28": "nan",
         "d29": "nan",
         "d3": "nan",
         "d30": "nan",
         "d31": "nan",
         "d4": "nan",
         "d5": "nan",
         "d6": "27.8",
         "d7": "nan",
         "d8": "nan",
         "d9": "nan",
         "element": "tmax",
         "id": "MX17004",
         "month": 12,
         "year": 2010
        },
        {
         "_deepnote_index_column": 21,
         "d1": "13.8",
         "d10": "nan",
         "d11": "nan",
         "d12": "nan",
         "d13": "nan",
         "d14": "nan",
         "d15": "nan",
         "d16": "nan",
         "d17": "nan",
         "d18": "nan",
         "d19": "nan",
         "d2": "nan",
         "d20": "nan",
         "d21": "nan",
         "d22": "nan",
         "d23": "nan",
         "d24": "nan",
         "d25": "nan",
         "d26": "nan",
         "d27": "nan",
         "d28": "nan",
         "d29": "nan",
         "d3": "nan",
         "d30": "nan",
         "d31": "nan",
         "d4": "nan",
         "d5": "nan",
         "d6": "10.5",
         "d7": "nan",
         "d8": "nan",
         "d9": "nan",
         "element": "tmin",
         "id": "MX17004",
         "month": 12,
         "year": 2010
        }
       ]
      },
      "text/html": "<div>\n<style scoped>\n    .dataframe tbody tr th:only-of-type {\n        vertical-align: middle;\n    }\n\n    .dataframe tbody tr th {\n        vertical-align: top;\n    }\n\n    .dataframe thead th {\n        text-align: right;\n    }\n</style>\n<table border=\"1\" class=\"dataframe\">\n  <thead>\n    <tr style=\"text-align: right;\">\n      <th></th>\n      <th>id</th>\n      <th>year</th>\n      <th>month</th>\n      <th>element</th>\n      <th>d1</th>\n      <th>d2</th>\n      <th>d3</th>\n      <th>d4</th>\n      <th>d5</th>\n      <th>d6</th>\n      <th>...</th>\n      <th>d22</th>\n      <th>d23</th>\n      <th>d24</th>\n      <th>d25</th>\n      <th>d26</th>\n      <th>d27</th>\n      <th>d28</th>\n      <th>d29</th>\n      <th>d30</th>\n      <th>d31</th>\n    </tr>\n  </thead>\n  <tbody>\n    <tr>\n      <th>0</th>\n      <td>MX17004</td>\n      <td>2010</td>\n      <td>1</td>\n      <td>tmax</td>\n      <td>NaN</td>\n      <td>NaN</td>\n      <td>NaN</td>\n      <td>NaN</td>\n      <td>NaN</td>\n      <td>NaN</td>\n      <td>...</td>\n      <td>NaN</td>\n      <td>NaN</td>\n      <td>NaN</td>\n      <td>NaN</td>\n      <td>NaN</td>\n      <td>NaN</td>\n      <td>NaN</td>\n      <td>NaN</td>\n      <td>27.8</td>\n      <td>NaN</td>\n    </tr>\n    <tr>\n      <th>1</th>\n      <td>MX17004</td>\n      <td>2010</td>\n      <td>1</td>\n      <td>tmin</td>\n      <td>NaN</td>\n      <td>NaN</td>\n      <td>NaN</td>\n      <td>NaN</td>\n      <td>NaN</td>\n      <td>NaN</td>\n      <td>...</td>\n      <td>NaN</td>\n      <td>NaN</td>\n      <td>NaN</td>\n      <td>NaN</td>\n      <td>NaN</td>\n      <td>NaN</td>\n      <td>NaN</td>\n      <td>NaN</td>\n      <td>14.5</td>\n      <td>NaN</td>\n    </tr>\n    <tr>\n      <th>2</th>\n      <td>MX17004</td>\n      <td>2010</td>\n      <td>2</td>\n      <td>tmax</td>\n      <td>NaN</td>\n      <td>27.3</td>\n      <td>24.1</td>\n      <td>NaN</td>\n      <td>NaN</td>\n      <td>NaN</td>\n      <td>...</td>\n      <td>NaN</td>\n      <td>29.9</td>\n      <td>NaN</td>\n      <td>NaN</td>\n      <td>NaN</td>\n      <td>NaN</td>\n      <td>NaN</td>\n      <td>NaN</td>\n      <td>NaN</td>\n      <td>NaN</td>\n    </tr>\n    <tr>\n      <th>3</th>\n      <td>MX17004</td>\n      <td>2010</td>\n      <td>2</td>\n      <td>tmin</td>\n      <td>NaN</td>\n      <td>14.4</td>\n      <td>14.4</td>\n      <td>NaN</td>\n      <td>NaN</td>\n      <td>NaN</td>\n      <td>...</td>\n      <td>NaN</td>\n      <td>10.7</td>\n      <td>NaN</td>\n      <td>NaN</td>\n      <td>NaN</td>\n      <td>NaN</td>\n      <td>NaN</td>\n      <td>NaN</td>\n      <td>NaN</td>\n      <td>NaN</td>\n    </tr>\n    <tr>\n      <th>4</th>\n      <td>MX17004</td>\n      <td>2010</td>\n      <td>3</td>\n      <td>tmax</td>\n      <td>NaN</td>\n      <td>NaN</td>\n      <td>NaN</td>\n      <td>NaN</td>\n      <td>32.1</td>\n      <td>NaN</td>\n      <td>...</td>\n      <td>NaN</td>\n      <td>NaN</td>\n      <td>NaN</td>\n      <td>NaN</td>\n      <td>NaN</td>\n      <td>NaN</td>\n      <td>NaN</td>\n      <td>NaN</td>\n      <td>NaN</td>\n      <td>NaN</td>\n    </tr>\n    <tr>\n      <th>5</th>\n      <td>MX17004</td>\n      <td>2010</td>\n      <td>3</td>\n      <td>tmin</td>\n      <td>NaN</td>\n      <td>NaN</td>\n      <td>NaN</td>\n      <td>NaN</td>\n      <td>14.2</td>\n      <td>NaN</td>\n      <td>...</td>\n      <td>NaN</td>\n      <td>NaN</td>\n      <td>NaN</td>\n      <td>NaN</td>\n      <td>NaN</td>\n      <td>NaN</td>\n      <td>NaN</td>\n      <td>NaN</td>\n      <td>NaN</td>\n      <td>NaN</td>\n    </tr>\n    <tr>\n      <th>6</th>\n      <td>MX17004</td>\n      <td>2010</td>\n      <td>4</td>\n      <td>tmax</td>\n      <td>NaN</td>\n      <td>NaN</td>\n      <td>NaN</td>\n      <td>NaN</td>\n      <td>NaN</td>\n      <td>NaN</td>\n      <td>...</td>\n      <td>NaN</td>\n      <td>NaN</td>\n      <td>NaN</td>\n      <td>NaN</td>\n      <td>NaN</td>\n      <td>36.3</td>\n      <td>NaN</td>\n      <td>NaN</td>\n      <td>NaN</td>\n      <td>NaN</td>\n    </tr>\n    <tr>\n      <th>7</th>\n      <td>MX17004</td>\n      <td>2010</td>\n      <td>4</td>\n      <td>tmin</td>\n      <td>NaN</td>\n      <td>NaN</td>\n      <td>NaN</td>\n      <td>NaN</td>\n      <td>NaN</td>\n      <td>NaN</td>\n      <td>...</td>\n      <td>NaN</td>\n      <td>NaN</td>\n      <td>NaN</td>\n      <td>NaN</td>\n      <td>NaN</td>\n      <td>16.7</td>\n      <td>NaN</td>\n      <td>NaN</td>\n      <td>NaN</td>\n      <td>NaN</td>\n    </tr>\n    <tr>\n      <th>8</th>\n      <td>MX17004</td>\n      <td>2010</td>\n      <td>5</td>\n      <td>tmax</td>\n      <td>NaN</td>\n      <td>NaN</td>\n      <td>NaN</td>\n      <td>NaN</td>\n      <td>NaN</td>\n      <td>NaN</td>\n      <td>...</td>\n      <td>NaN</td>\n      <td>NaN</td>\n      <td>NaN</td>\n      <td>NaN</td>\n      <td>NaN</td>\n      <td>33.2</td>\n      <td>NaN</td>\n      <td>NaN</td>\n      <td>NaN</td>\n      <td>NaN</td>\n    </tr>\n    <tr>\n      <th>9</th>\n      <td>MX17004</td>\n      <td>2010</td>\n      <td>5</td>\n      <td>tmin</td>\n      <td>NaN</td>\n      <td>NaN</td>\n      <td>NaN</td>\n      <td>NaN</td>\n      <td>NaN</td>\n      <td>NaN</td>\n      <td>...</td>\n      <td>NaN</td>\n      <td>NaN</td>\n      <td>NaN</td>\n      <td>NaN</td>\n      <td>NaN</td>\n      <td>18.2</td>\n      <td>NaN</td>\n      <td>NaN</td>\n      <td>NaN</td>\n      <td>NaN</td>\n    </tr>\n    <tr>\n      <th>10</th>\n      <td>MX17004</td>\n      <td>2010</td>\n      <td>6</td>\n      <td>tmax</td>\n      <td>NaN</td>\n      <td>NaN</td>\n      <td>NaN</td>\n      <td>NaN</td>\n      <td>NaN</td>\n      <td>NaN</td>\n      <td>...</td>\n      <td>NaN</td>\n      <td>NaN</td>\n      <td>NaN</td>\n      <td>NaN</td>\n      <td>NaN</td>\n      <td>NaN</td>\n      <td>NaN</td>\n      <td>30.1</td>\n      <td>NaN</td>\n      <td>NaN</td>\n    </tr>\n    <tr>\n      <th>11</th>\n      <td>MX17004</td>\n      <td>2010</td>\n      <td>6</td>\n      <td>tmin</td>\n      <td>NaN</td>\n      <td>NaN</td>\n      <td>NaN</td>\n      <td>NaN</td>\n      <td>NaN</td>\n      <td>NaN</td>\n      <td>...</td>\n      <td>NaN</td>\n      <td>NaN</td>\n      <td>NaN</td>\n      <td>NaN</td>\n      <td>NaN</td>\n      <td>NaN</td>\n      <td>NaN</td>\n      <td>18.0</td>\n      <td>NaN</td>\n      <td>NaN</td>\n    </tr>\n    <tr>\n      <th>12</th>\n      <td>MX17004</td>\n      <td>2010</td>\n      <td>7</td>\n      <td>tmax</td>\n      <td>NaN</td>\n      <td>NaN</td>\n      <td>28.6</td>\n      <td>NaN</td>\n      <td>NaN</td>\n      <td>NaN</td>\n      <td>...</td>\n      <td>NaN</td>\n      <td>NaN</td>\n      <td>NaN</td>\n      <td>NaN</td>\n      <td>NaN</td>\n      <td>NaN</td>\n      <td>NaN</td>\n      <td>NaN</td>\n      <td>NaN</td>\n      <td>NaN</td>\n    </tr>\n    <tr>\n      <th>13</th>\n      <td>MX17004</td>\n      <td>2010</td>\n      <td>7</td>\n      <td>tmin</td>\n      <td>NaN</td>\n      <td>NaN</td>\n      <td>17.5</td>\n      <td>NaN</td>\n      <td>NaN</td>\n      <td>NaN</td>\n      <td>...</td>\n      <td>NaN</td>\n      <td>NaN</td>\n      <td>NaN</td>\n      <td>NaN</td>\n      <td>NaN</td>\n      <td>NaN</td>\n      <td>NaN</td>\n      <td>NaN</td>\n      <td>NaN</td>\n      <td>NaN</td>\n    </tr>\n    <tr>\n      <th>14</th>\n      <td>MX17004</td>\n      <td>2010</td>\n      <td>8</td>\n      <td>tmax</td>\n      <td>NaN</td>\n      <td>NaN</td>\n      <td>NaN</td>\n      <td>NaN</td>\n      <td>29.6</td>\n      <td>NaN</td>\n      <td>...</td>\n      <td>NaN</td>\n      <td>26.4</td>\n      <td>NaN</td>\n      <td>29.7</td>\n      <td>NaN</td>\n      <td>NaN</td>\n      <td>NaN</td>\n      <td>28.0</td>\n      <td>NaN</td>\n      <td>25.4</td>\n    </tr>\n    <tr>\n      <th>15</th>\n      <td>MX17004</td>\n      <td>2010</td>\n      <td>8</td>\n      <td>tmin</td>\n      <td>NaN</td>\n      <td>NaN</td>\n      <td>NaN</td>\n      <td>NaN</td>\n      <td>15.8</td>\n      <td>NaN</td>\n      <td>...</td>\n      <td>NaN</td>\n      <td>15.0</td>\n      <td>NaN</td>\n      <td>15.6</td>\n      <td>NaN</td>\n      <td>NaN</td>\n      <td>NaN</td>\n      <td>15.3</td>\n      <td>NaN</td>\n      <td>15.4</td>\n    </tr>\n    <tr>\n      <th>16</th>\n      <td>MX17004</td>\n      <td>2010</td>\n      <td>10</td>\n      <td>tmax</td>\n      <td>NaN</td>\n      <td>NaN</td>\n      <td>NaN</td>\n      <td>NaN</td>\n      <td>27.0</td>\n      <td>NaN</td>\n      <td>...</td>\n      <td>NaN</td>\n      <td>NaN</td>\n      <td>NaN</td>\n      <td>NaN</td>\n      <td>NaN</td>\n      <td>NaN</td>\n      <td>31.2</td>\n      <td>NaN</td>\n      <td>NaN</td>\n      <td>NaN</td>\n    </tr>\n    <tr>\n      <th>17</th>\n      <td>MX17004</td>\n      <td>2010</td>\n      <td>10</td>\n      <td>tmin</td>\n      <td>NaN</td>\n      <td>NaN</td>\n      <td>NaN</td>\n      <td>NaN</td>\n      <td>14.0</td>\n      <td>NaN</td>\n      <td>...</td>\n      <td>NaN</td>\n      <td>NaN</td>\n      <td>NaN</td>\n      <td>NaN</td>\n      <td>NaN</td>\n      <td>NaN</td>\n      <td>15.0</td>\n      <td>NaN</td>\n      <td>NaN</td>\n      <td>NaN</td>\n    </tr>\n    <tr>\n      <th>18</th>\n      <td>MX17004</td>\n      <td>2010</td>\n      <td>11</td>\n      <td>tmax</td>\n      <td>NaN</td>\n      <td>31.3</td>\n      <td>NaN</td>\n      <td>27.2</td>\n      <td>26.3</td>\n      <td>NaN</td>\n      <td>...</td>\n      <td>NaN</td>\n      <td>NaN</td>\n      <td>NaN</td>\n      <td>NaN</td>\n      <td>28.1</td>\n      <td>27.7</td>\n      <td>NaN</td>\n      <td>NaN</td>\n      <td>NaN</td>\n      <td>NaN</td>\n    </tr>\n    <tr>\n      <th>19</th>\n      <td>MX17004</td>\n      <td>2010</td>\n      <td>11</td>\n      <td>tmin</td>\n      <td>NaN</td>\n      <td>16.3</td>\n      <td>NaN</td>\n      <td>12.0</td>\n      <td>7.9</td>\n      <td>NaN</td>\n      <td>...</td>\n      <td>NaN</td>\n      <td>NaN</td>\n      <td>NaN</td>\n      <td>NaN</td>\n      <td>12.1</td>\n      <td>14.2</td>\n      <td>NaN</td>\n      <td>NaN</td>\n      <td>NaN</td>\n      <td>NaN</td>\n    </tr>\n    <tr>\n      <th>20</th>\n      <td>MX17004</td>\n      <td>2010</td>\n      <td>12</td>\n      <td>tmax</td>\n      <td>29.9</td>\n      <td>NaN</td>\n      <td>NaN</td>\n      <td>NaN</td>\n      <td>NaN</td>\n      <td>27.8</td>\n      <td>...</td>\n      <td>NaN</td>\n      <td>NaN</td>\n      <td>NaN</td>\n      <td>NaN</td>\n      <td>NaN</td>\n      <td>NaN</td>\n      <td>NaN</td>\n      <td>NaN</td>\n      <td>NaN</td>\n      <td>NaN</td>\n    </tr>\n    <tr>\n      <th>21</th>\n      <td>MX17004</td>\n      <td>2010</td>\n      <td>12</td>\n      <td>tmin</td>\n      <td>13.8</td>\n      <td>NaN</td>\n      <td>NaN</td>\n      <td>NaN</td>\n      <td>NaN</td>\n      <td>10.5</td>\n      <td>...</td>\n      <td>NaN</td>\n      <td>NaN</td>\n      <td>NaN</td>\n      <td>NaN</td>\n      <td>NaN</td>\n      <td>NaN</td>\n      <td>NaN</td>\n      <td>NaN</td>\n      <td>NaN</td>\n      <td>NaN</td>\n    </tr>\n  </tbody>\n</table>\n<p>22 rows × 35 columns</p>\n</div>",
      "text/plain": "         id  year  month element    d1    d2    d3    d4    d5    d6  ...  \\\n0   MX17004  2010      1    tmax   NaN   NaN   NaN   NaN   NaN   NaN  ...   \n1   MX17004  2010      1    tmin   NaN   NaN   NaN   NaN   NaN   NaN  ...   \n2   MX17004  2010      2    tmax   NaN  27.3  24.1   NaN   NaN   NaN  ...   \n3   MX17004  2010      2    tmin   NaN  14.4  14.4   NaN   NaN   NaN  ...   \n4   MX17004  2010      3    tmax   NaN   NaN   NaN   NaN  32.1   NaN  ...   \n5   MX17004  2010      3    tmin   NaN   NaN   NaN   NaN  14.2   NaN  ...   \n6   MX17004  2010      4    tmax   NaN   NaN   NaN   NaN   NaN   NaN  ...   \n7   MX17004  2010      4    tmin   NaN   NaN   NaN   NaN   NaN   NaN  ...   \n8   MX17004  2010      5    tmax   NaN   NaN   NaN   NaN   NaN   NaN  ...   \n9   MX17004  2010      5    tmin   NaN   NaN   NaN   NaN   NaN   NaN  ...   \n10  MX17004  2010      6    tmax   NaN   NaN   NaN   NaN   NaN   NaN  ...   \n11  MX17004  2010      6    tmin   NaN   NaN   NaN   NaN   NaN   NaN  ...   \n12  MX17004  2010      7    tmax   NaN   NaN  28.6   NaN   NaN   NaN  ...   \n13  MX17004  2010      7    tmin   NaN   NaN  17.5   NaN   NaN   NaN  ...   \n14  MX17004  2010      8    tmax   NaN   NaN   NaN   NaN  29.6   NaN  ...   \n15  MX17004  2010      8    tmin   NaN   NaN   NaN   NaN  15.8   NaN  ...   \n16  MX17004  2010     10    tmax   NaN   NaN   NaN   NaN  27.0   NaN  ...   \n17  MX17004  2010     10    tmin   NaN   NaN   NaN   NaN  14.0   NaN  ...   \n18  MX17004  2010     11    tmax   NaN  31.3   NaN  27.2  26.3   NaN  ...   \n19  MX17004  2010     11    tmin   NaN  16.3   NaN  12.0   7.9   NaN  ...   \n20  MX17004  2010     12    tmax  29.9   NaN   NaN   NaN   NaN  27.8  ...   \n21  MX17004  2010     12    tmin  13.8   NaN   NaN   NaN   NaN  10.5  ...   \n\n    d22   d23  d24   d25   d26   d27   d28   d29   d30   d31  \n0   NaN   NaN  NaN   NaN   NaN   NaN   NaN   NaN  27.8   NaN  \n1   NaN   NaN  NaN   NaN   NaN   NaN   NaN   NaN  14.5   NaN  \n2   NaN  29.9  NaN   NaN   NaN   NaN   NaN   NaN   NaN   NaN  \n3   NaN  10.7  NaN   NaN   NaN   NaN   NaN   NaN   NaN   NaN  \n4   NaN   NaN  NaN   NaN   NaN   NaN   NaN   NaN   NaN   NaN  \n5   NaN   NaN  NaN   NaN   NaN   NaN   NaN   NaN   NaN   NaN  \n6   NaN   NaN  NaN   NaN   NaN  36.3   NaN   NaN   NaN   NaN  \n7   NaN   NaN  NaN   NaN   NaN  16.7   NaN   NaN   NaN   NaN  \n8   NaN   NaN  NaN   NaN   NaN  33.2   NaN   NaN   NaN   NaN  \n9   NaN   NaN  NaN   NaN   NaN  18.2   NaN   NaN   NaN   NaN  \n10  NaN   NaN  NaN   NaN   NaN   NaN   NaN  30.1   NaN   NaN  \n11  NaN   NaN  NaN   NaN   NaN   NaN   NaN  18.0   NaN   NaN  \n12  NaN   NaN  NaN   NaN   NaN   NaN   NaN   NaN   NaN   NaN  \n13  NaN   NaN  NaN   NaN   NaN   NaN   NaN   NaN   NaN   NaN  \n14  NaN  26.4  NaN  29.7   NaN   NaN   NaN  28.0   NaN  25.4  \n15  NaN  15.0  NaN  15.6   NaN   NaN   NaN  15.3   NaN  15.4  \n16  NaN   NaN  NaN   NaN   NaN   NaN  31.2   NaN   NaN   NaN  \n17  NaN   NaN  NaN   NaN   NaN   NaN  15.0   NaN   NaN   NaN  \n18  NaN   NaN  NaN   NaN  28.1  27.7   NaN   NaN   NaN   NaN  \n19  NaN   NaN  NaN   NaN  12.1  14.2   NaN   NaN   NaN   NaN  \n20  NaN   NaN  NaN   NaN   NaN   NaN   NaN   NaN   NaN   NaN  \n21  NaN   NaN  NaN   NaN   NaN   NaN   NaN   NaN   NaN   NaN  \n\n[22 rows x 35 columns]"
     },
     "execution_count": 37,
     "metadata": {},
     "output_type": "execute_result"
    }
   ]
  },
  {
   "cell_type": "code",
   "metadata": {
    "deepnote_to_be_reexecuted": false,
    "execution_millis": 0,
    "execution_start": 1620084501362,
    "source_hash": "153e8f81",
    "cell_id": "00060-dd10d987-551b-4d0a-8de7-def55625d5c3",
    "deepnote_cell_type": "code"
   },
   "source": "# can use pd.melt, or weather.melt\nweather_melt = weather.melt(\n    id_vars=['id', 'year', 'month', 'element'],\n    var_name='day',\n    value_name='temp'\n)",
   "execution_count": null,
   "outputs": []
  },
  {
   "cell_type": "code",
   "metadata": {
    "deepnote_to_be_reexecuted": false,
    "execution_millis": 25,
    "execution_start": 1620084502081,
    "source_hash": "3454d71a",
    "cell_id": "00061-f94a6db6-3f57-4a01-a504-7e4002286b88",
    "deepnote_cell_type": "code"
   },
   "source": "weather_melt.head()",
   "execution_count": null,
   "outputs": [
    {
     "data": {
      "application/vnd.deepnote.dataframe.v2+json": {
       "column_count": 6,
       "columns": [
        {
         "dtype": "object",
         "name": "id",
         "stats": {
          "categories": [
           {
            "count": 5,
            "name": "MX17004"
           }
          ],
          "nan_count": 0,
          "unique_count": 1
         }
        },
        {
         "dtype": "int64",
         "name": "year",
         "stats": {
          "histogram": [
           {
            "bin_end": 2009.6,
            "bin_start": 2009.5,
            "count": 0
           },
           {
            "bin_end": 2009.7,
            "bin_start": 2009.6,
            "count": 0
           },
           {
            "bin_end": 2009.8,
            "bin_start": 2009.7,
            "count": 0
           },
           {
            "bin_end": 2009.9,
            "bin_start": 2009.8,
            "count": 0
           },
           {
            "bin_end": 2010,
            "bin_start": 2009.9,
            "count": 0
           },
           {
            "bin_end": 2010.1,
            "bin_start": 2010,
            "count": 5
           },
           {
            "bin_end": 2010.2,
            "bin_start": 2010.1,
            "count": 0
           },
           {
            "bin_end": 2010.3,
            "bin_start": 2010.2,
            "count": 0
           },
           {
            "bin_end": 2010.4,
            "bin_start": 2010.3,
            "count": 0
           },
           {
            "bin_end": 2010.5,
            "bin_start": 2010.4,
            "count": 0
           }
          ],
          "max": "2010",
          "min": "2010",
          "nan_count": 0,
          "unique_count": 1
         }
        },
        {
         "dtype": "int64",
         "name": "month",
         "stats": {
          "histogram": [
           {
            "bin_end": 1.2,
            "bin_start": 1,
            "count": 2
           },
           {
            "bin_end": 1.4,
            "bin_start": 1.2,
            "count": 0
           },
           {
            "bin_end": 1.6,
            "bin_start": 1.4,
            "count": 0
           },
           {
            "bin_end": 1.8,
            "bin_start": 1.6,
            "count": 0
           },
           {
            "bin_end": 2,
            "bin_start": 1.8,
            "count": 0
           },
           {
            "bin_end": 2.2,
            "bin_start": 2,
            "count": 2
           },
           {
            "bin_end": 2.4000000000000004,
            "bin_start": 2.2,
            "count": 0
           },
           {
            "bin_end": 2.6,
            "bin_start": 2.4000000000000004,
            "count": 0
           },
           {
            "bin_end": 2.8,
            "bin_start": 2.6,
            "count": 0
           },
           {
            "bin_end": 3,
            "bin_start": 2.8,
            "count": 1
           }
          ],
          "max": "3",
          "min": "1",
          "nan_count": 0,
          "unique_count": 3
         }
        },
        {
         "dtype": "object",
         "name": "element",
         "stats": {
          "categories": [
           {
            "count": 3,
            "name": "tmax"
           },
           {
            "count": 2,
            "name": "tmin"
           }
          ],
          "nan_count": 0,
          "unique_count": 2
         }
        },
        {
         "dtype": "object",
         "name": "day",
         "stats": {
          "categories": [
           {
            "count": 5,
            "name": "d1"
           }
          ],
          "nan_count": 0,
          "unique_count": 1
         }
        },
        {
         "dtype": "float64",
         "name": "temp",
         "stats": {
          "histogram": [
           {
            "bin_end": 0.1,
            "bin_start": 0,
            "count": 0
           },
           {
            "bin_end": 0.2,
            "bin_start": 0.1,
            "count": 0
           },
           {
            "bin_end": 0.30000000000000004,
            "bin_start": 0.2,
            "count": 0
           },
           {
            "bin_end": 0.4,
            "bin_start": 0.30000000000000004,
            "count": 0
           },
           {
            "bin_end": 0.5,
            "bin_start": 0.4,
            "count": 0
           },
           {
            "bin_end": 0.6000000000000001,
            "bin_start": 0.5,
            "count": 0
           },
           {
            "bin_end": 0.7000000000000001,
            "bin_start": 0.6000000000000001,
            "count": 0
           },
           {
            "bin_end": 0.8,
            "bin_start": 0.7000000000000001,
            "count": 0
           },
           {
            "bin_end": 0.9,
            "bin_start": 0.8,
            "count": 0
           },
           {
            "bin_end": 1,
            "bin_start": 0.9,
            "count": 0
           }
          ],
          "max": null,
          "min": null,
          "nan_count": 5,
          "unique_count": 0
         }
        },
        {
         "dtype": "int64",
         "name": "_deepnote_index_column"
        }
       ],
       "row_count": 5,
       "rows_bottom": null,
       "rows_top": [
        {
         "_deepnote_index_column": 0,
         "day": "d1",
         "element": "tmax",
         "id": "MX17004",
         "month": 1,
         "temp": "nan",
         "year": 2010
        },
        {
         "_deepnote_index_column": 1,
         "day": "d1",
         "element": "tmin",
         "id": "MX17004",
         "month": 1,
         "temp": "nan",
         "year": 2010
        },
        {
         "_deepnote_index_column": 2,
         "day": "d1",
         "element": "tmax",
         "id": "MX17004",
         "month": 2,
         "temp": "nan",
         "year": 2010
        },
        {
         "_deepnote_index_column": 3,
         "day": "d1",
         "element": "tmin",
         "id": "MX17004",
         "month": 2,
         "temp": "nan",
         "year": 2010
        },
        {
         "_deepnote_index_column": 4,
         "day": "d1",
         "element": "tmax",
         "id": "MX17004",
         "month": 3,
         "temp": "nan",
         "year": 2010
        }
       ]
      },
      "text/html": "<div>\n<style scoped>\n    .dataframe tbody tr th:only-of-type {\n        vertical-align: middle;\n    }\n\n    .dataframe tbody tr th {\n        vertical-align: top;\n    }\n\n    .dataframe thead th {\n        text-align: right;\n    }\n</style>\n<table border=\"1\" class=\"dataframe\">\n  <thead>\n    <tr style=\"text-align: right;\">\n      <th></th>\n      <th>id</th>\n      <th>year</th>\n      <th>month</th>\n      <th>element</th>\n      <th>day</th>\n      <th>temp</th>\n    </tr>\n  </thead>\n  <tbody>\n    <tr>\n      <th>0</th>\n      <td>MX17004</td>\n      <td>2010</td>\n      <td>1</td>\n      <td>tmax</td>\n      <td>d1</td>\n      <td>NaN</td>\n    </tr>\n    <tr>\n      <th>1</th>\n      <td>MX17004</td>\n      <td>2010</td>\n      <td>1</td>\n      <td>tmin</td>\n      <td>d1</td>\n      <td>NaN</td>\n    </tr>\n    <tr>\n      <th>2</th>\n      <td>MX17004</td>\n      <td>2010</td>\n      <td>2</td>\n      <td>tmax</td>\n      <td>d1</td>\n      <td>NaN</td>\n    </tr>\n    <tr>\n      <th>3</th>\n      <td>MX17004</td>\n      <td>2010</td>\n      <td>2</td>\n      <td>tmin</td>\n      <td>d1</td>\n      <td>NaN</td>\n    </tr>\n    <tr>\n      <th>4</th>\n      <td>MX17004</td>\n      <td>2010</td>\n      <td>3</td>\n      <td>tmax</td>\n      <td>d1</td>\n      <td>NaN</td>\n    </tr>\n  </tbody>\n</table>\n</div>",
      "text/plain": "        id  year  month element day  temp\n0  MX17004  2010      1    tmax  d1   NaN\n1  MX17004  2010      1    tmin  d1   NaN\n2  MX17004  2010      2    tmax  d1   NaN\n3  MX17004  2010      2    tmin  d1   NaN\n4  MX17004  2010      3    tmax  d1   NaN"
     },
     "execution_count": 39,
     "metadata": {},
     "output_type": "execute_result"
    }
   ]
  },
  {
   "cell_type": "code",
   "metadata": {
    "deepnote_to_be_reexecuted": false,
    "execution_millis": 8,
    "execution_start": 1620084527238,
    "source_hash": "6460e1d5",
    "cell_id": "00062-621ad45b-7cf8-4e49-9c8f-1db1050d1dae",
    "deepnote_cell_type": "code"
   },
   "source": "weather_tidy = weather_melt.pivot_table(\n    index=['id', 'year', 'month', 'day'],\n    columns='element',\n    values='temp'\n)",
   "execution_count": null,
   "outputs": []
  },
  {
   "cell_type": "code",
   "metadata": {
    "deepnote_to_be_reexecuted": false,
    "execution_millis": 35,
    "execution_start": 1620084560695,
    "source_hash": "39861a23",
    "cell_id": "00063-a104c667-77c5-40a3-a4ef-95d10b901faf",
    "deepnote_cell_type": "code"
   },
   "source": "weather_tidy.reset_index()",
   "execution_count": null,
   "outputs": [
    {
     "data": {
      "application/vnd.deepnote.dataframe.v2+json": {
       "column_count": 6,
       "columns": [
        {
         "dtype": "object",
         "name": "id",
         "stats": {
          "categories": [
           {
            "count": 33,
            "name": "MX17004"
           }
          ],
          "nan_count": 0,
          "unique_count": 1
         }
        },
        {
         "dtype": "int64",
         "name": "year",
         "stats": {
          "histogram": [
           {
            "bin_end": 2009.6,
            "bin_start": 2009.5,
            "count": 0
           },
           {
            "bin_end": 2009.7,
            "bin_start": 2009.6,
            "count": 0
           },
           {
            "bin_end": 2009.8,
            "bin_start": 2009.7,
            "count": 0
           },
           {
            "bin_end": 2009.9,
            "bin_start": 2009.8,
            "count": 0
           },
           {
            "bin_end": 2010,
            "bin_start": 2009.9,
            "count": 0
           },
           {
            "bin_end": 2010.1,
            "bin_start": 2010,
            "count": 33
           },
           {
            "bin_end": 2010.2,
            "bin_start": 2010.1,
            "count": 0
           },
           {
            "bin_end": 2010.3,
            "bin_start": 2010.2,
            "count": 0
           },
           {
            "bin_end": 2010.4,
            "bin_start": 2010.3,
            "count": 0
           },
           {
            "bin_end": 2010.5,
            "bin_start": 2010.4,
            "count": 0
           }
          ],
          "max": "2010",
          "min": "2010",
          "nan_count": 0,
          "unique_count": 1
         }
        },
        {
         "dtype": "int64",
         "name": "month",
         "stats": {
          "histogram": [
           {
            "bin_end": 2.1,
            "bin_start": 1,
            "count": 5
           },
           {
            "bin_end": 3.2,
            "bin_start": 2.1,
            "count": 3
           },
           {
            "bin_end": 4.300000000000001,
            "bin_start": 3.2,
            "count": 1
           },
           {
            "bin_end": 5.4,
            "bin_start": 4.300000000000001,
            "count": 1
           },
           {
            "bin_end": 6.5,
            "bin_start": 5.4,
            "count": 2
           },
           {
            "bin_end": 7.6000000000000005,
            "bin_start": 6.5,
            "count": 2
           },
           {
            "bin_end": 8.700000000000001,
            "bin_start": 7.6000000000000005,
            "count": 7
           },
           {
            "bin_end": 9.8,
            "bin_start": 8.700000000000001,
            "count": 0
           },
           {
            "bin_end": 10.9,
            "bin_start": 9.8,
            "count": 5
           },
           {
            "bin_end": 12,
            "bin_start": 10.9,
            "count": 7
           }
          ],
          "max": "12",
          "min": "1",
          "nan_count": 0,
          "unique_count": 11
         }
        },
        {
         "dtype": "object",
         "name": "day",
         "stats": {
          "categories": [
           {
            "count": 4,
            "name": "d5"
           },
           {
            "count": 3,
            "name": "d27"
           },
           {
            "count": 26,
            "name": "21 others"
           }
          ],
          "nan_count": 0,
          "unique_count": 23
         }
        },
        {
         "dtype": "float64",
         "name": "tmax",
         "stats": {
          "histogram": [
           {
            "bin_end": 25.32,
            "bin_start": 24.1,
            "count": 1
           },
           {
            "bin_end": 26.54,
            "bin_start": 25.32,
            "count": 3
           },
           {
            "bin_end": 27.759999999999998,
            "bin_start": 26.54,
            "count": 4
           },
           {
            "bin_end": 28.98,
            "bin_start": 27.759999999999998,
            "count": 8
           },
           {
            "bin_end": 30.2,
            "bin_start": 28.98,
            "count": 10
           },
           {
            "bin_end": 31.419999999999998,
            "bin_start": 30.2,
            "count": 3
           },
           {
            "bin_end": 32.64,
            "bin_start": 31.419999999999998,
            "count": 1
           },
           {
            "bin_end": 33.86,
            "bin_start": 32.64,
            "count": 1
           },
           {
            "bin_end": 35.08,
            "bin_start": 33.86,
            "count": 1
           },
           {
            "bin_end": 36.3,
            "bin_start": 35.08,
            "count": 1
           }
          ],
          "max": "36.3",
          "min": "24.1",
          "nan_count": 0,
          "unique_count": 27
         }
        },
        {
         "dtype": "float64",
         "name": "tmin",
         "stats": {
          "histogram": [
           {
            "bin_end": 8.93,
            "bin_start": 7.9,
            "count": 1
           },
           {
            "bin_end": 9.96,
            "bin_start": 8.93,
            "count": 0
           },
           {
            "bin_end": 10.99,
            "bin_start": 9.96,
            "count": 3
           },
           {
            "bin_end": 12.02,
            "bin_start": 10.99,
            "count": 1
           },
           {
            "bin_end": 13.049999999999999,
            "bin_start": 12.02,
            "count": 3
           },
           {
            "bin_end": 14.079999999999998,
            "bin_start": 13.049999999999999,
            "count": 3
           },
           {
            "bin_end": 15.11,
            "bin_start": 14.079999999999998,
            "count": 7
           },
           {
            "bin_end": 16.14,
            "bin_start": 15.11,
            "count": 4
           },
           {
            "bin_end": 17.169999999999998,
            "bin_start": 16.14,
            "count": 5
           },
           {
            "bin_end": 18.2,
            "bin_start": 17.169999999999998,
            "count": 6
           }
          ],
          "max": "18.2",
          "min": "7.9",
          "nan_count": 0,
          "unique_count": 27
         }
        },
        {
         "dtype": "int64",
         "name": "_deepnote_index_column"
        }
       ],
       "row_count": 33,
       "rows_bottom": null,
       "rows_top": [
        {
         "_deepnote_index_column": 0,
         "day": "d30",
         "id": "MX17004",
         "month": 1,
         "tmax": 27.8,
         "tmin": 14.5,
         "year": 2010
        },
        {
         "_deepnote_index_column": 1,
         "day": "d11",
         "id": "MX17004",
         "month": 2,
         "tmax": 29.7,
         "tmin": 13.4,
         "year": 2010
        },
        {
         "_deepnote_index_column": 2,
         "day": "d2",
         "id": "MX17004",
         "month": 2,
         "tmax": 27.3,
         "tmin": 14.4,
         "year": 2010
        },
        {
         "_deepnote_index_column": 3,
         "day": "d23",
         "id": "MX17004",
         "month": 2,
         "tmax": 29.9,
         "tmin": 10.7,
         "year": 2010
        },
        {
         "_deepnote_index_column": 4,
         "day": "d3",
         "id": "MX17004",
         "month": 2,
         "tmax": 24.1,
         "tmin": 14.4,
         "year": 2010
        },
        {
         "_deepnote_index_column": 5,
         "day": "d10",
         "id": "MX17004",
         "month": 3,
         "tmax": 34.5,
         "tmin": 16.8,
         "year": 2010
        },
        {
         "_deepnote_index_column": 6,
         "day": "d16",
         "id": "MX17004",
         "month": 3,
         "tmax": 31.1,
         "tmin": 17.6,
         "year": 2010
        },
        {
         "_deepnote_index_column": 7,
         "day": "d5",
         "id": "MX17004",
         "month": 3,
         "tmax": 32.1,
         "tmin": 14.2,
         "year": 2010
        },
        {
         "_deepnote_index_column": 8,
         "day": "d27",
         "id": "MX17004",
         "month": 4,
         "tmax": 36.3,
         "tmin": 16.7,
         "year": 2010
        },
        {
         "_deepnote_index_column": 9,
         "day": "d27",
         "id": "MX17004",
         "month": 5,
         "tmax": 33.2,
         "tmin": 18.2,
         "year": 2010
        },
        {
         "_deepnote_index_column": 10,
         "day": "d17",
         "id": "MX17004",
         "month": 6,
         "tmax": 28,
         "tmin": 17.5,
         "year": 2010
        },
        {
         "_deepnote_index_column": 11,
         "day": "d29",
         "id": "MX17004",
         "month": 6,
         "tmax": 30.1,
         "tmin": 18,
         "year": 2010
        },
        {
         "_deepnote_index_column": 12,
         "day": "d3",
         "id": "MX17004",
         "month": 7,
         "tmax": 28.6,
         "tmin": 17.5,
         "year": 2010
        },
        {
         "_deepnote_index_column": 13,
         "day": "d14",
         "id": "MX17004",
         "month": 7,
         "tmax": 29.9,
         "tmin": 16.5,
         "year": 2010
        },
        {
         "_deepnote_index_column": 14,
         "day": "d23",
         "id": "MX17004",
         "month": 8,
         "tmax": 26.4,
         "tmin": 15,
         "year": 2010
        },
        {
         "_deepnote_index_column": 15,
         "day": "d5",
         "id": "MX17004",
         "month": 8,
         "tmax": 29.6,
         "tmin": 15.8,
         "year": 2010
        },
        {
         "_deepnote_index_column": 16,
         "day": "d29",
         "id": "MX17004",
         "month": 8,
         "tmax": 28,
         "tmin": 15.3,
         "year": 2010
        },
        {
         "_deepnote_index_column": 17,
         "day": "d13",
         "id": "MX17004",
         "month": 8,
         "tmax": 29.8,
         "tmin": 16.5,
         "year": 2010
        },
        {
         "_deepnote_index_column": 18,
         "day": "d25",
         "id": "MX17004",
         "month": 8,
         "tmax": 29.7,
         "tmin": 15.6,
         "year": 2010
        },
        {
         "_deepnote_index_column": 19,
         "day": "d31",
         "id": "MX17004",
         "month": 8,
         "tmax": 25.4,
         "tmin": 15.4,
         "year": 2010
        },
        {
         "_deepnote_index_column": 20,
         "day": "d8",
         "id": "MX17004",
         "month": 8,
         "tmax": 29,
         "tmin": 17.3,
         "year": 2010
        },
        {
         "_deepnote_index_column": 21,
         "day": "d5",
         "id": "MX17004",
         "month": 10,
         "tmax": 27,
         "tmin": 14,
         "year": 2010
        },
        {
         "_deepnote_index_column": 22,
         "day": "d14",
         "id": "MX17004",
         "month": 10,
         "tmax": 29.5,
         "tmin": 13,
         "year": 2010
        },
        {
         "_deepnote_index_column": 23,
         "day": "d15",
         "id": "MX17004",
         "month": 10,
         "tmax": 28.7,
         "tmin": 10.5,
         "year": 2010
        },
        {
         "_deepnote_index_column": 24,
         "day": "d28",
         "id": "MX17004",
         "month": 10,
         "tmax": 31.2,
         "tmin": 15,
         "year": 2010
        },
        {
         "_deepnote_index_column": 25,
         "day": "d7",
         "id": "MX17004",
         "month": 10,
         "tmax": 28.1,
         "tmin": 12.9,
         "year": 2010
        },
        {
         "_deepnote_index_column": 26,
         "day": "d2",
         "id": "MX17004",
         "month": 11,
         "tmax": 31.3,
         "tmin": 16.3,
         "year": 2010
        },
        {
         "_deepnote_index_column": 27,
         "day": "d5",
         "id": "MX17004",
         "month": 11,
         "tmax": 26.3,
         "tmin": 7.9,
         "year": 2010
        },
        {
         "_deepnote_index_column": 28,
         "day": "d27",
         "id": "MX17004",
         "month": 11,
         "tmax": 27.7,
         "tmin": 14.2,
         "year": 2010
        },
        {
         "_deepnote_index_column": 29,
         "day": "d26",
         "id": "MX17004",
         "month": 11,
         "tmax": 28.1,
         "tmin": 12.1,
         "year": 2010
        },
        {
         "_deepnote_index_column": 30,
         "day": "d4",
         "id": "MX17004",
         "month": 11,
         "tmax": 27.2,
         "tmin": 12,
         "year": 2010
        },
        {
         "_deepnote_index_column": 31,
         "day": "d1",
         "id": "MX17004",
         "month": 12,
         "tmax": 29.9,
         "tmin": 13.8,
         "year": 2010
        },
        {
         "_deepnote_index_column": 32,
         "day": "d6",
         "id": "MX17004",
         "month": 12,
         "tmax": 27.8,
         "tmin": 10.5,
         "year": 2010
        }
       ]
      },
      "text/html": "<div>\n<style scoped>\n    .dataframe tbody tr th:only-of-type {\n        vertical-align: middle;\n    }\n\n    .dataframe tbody tr th {\n        vertical-align: top;\n    }\n\n    .dataframe thead th {\n        text-align: right;\n    }\n</style>\n<table border=\"1\" class=\"dataframe\">\n  <thead>\n    <tr style=\"text-align: right;\">\n      <th>element</th>\n      <th>id</th>\n      <th>year</th>\n      <th>month</th>\n      <th>day</th>\n      <th>tmax</th>\n      <th>tmin</th>\n    </tr>\n  </thead>\n  <tbody>\n    <tr>\n      <th>0</th>\n      <td>MX17004</td>\n      <td>2010</td>\n      <td>1</td>\n      <td>d30</td>\n      <td>27.8</td>\n      <td>14.5</td>\n    </tr>\n    <tr>\n      <th>1</th>\n      <td>MX17004</td>\n      <td>2010</td>\n      <td>2</td>\n      <td>d11</td>\n      <td>29.7</td>\n      <td>13.4</td>\n    </tr>\n    <tr>\n      <th>2</th>\n      <td>MX17004</td>\n      <td>2010</td>\n      <td>2</td>\n      <td>d2</td>\n      <td>27.3</td>\n      <td>14.4</td>\n    </tr>\n    <tr>\n      <th>3</th>\n      <td>MX17004</td>\n      <td>2010</td>\n      <td>2</td>\n      <td>d23</td>\n      <td>29.9</td>\n      <td>10.7</td>\n    </tr>\n    <tr>\n      <th>4</th>\n      <td>MX17004</td>\n      <td>2010</td>\n      <td>2</td>\n      <td>d3</td>\n      <td>24.1</td>\n      <td>14.4</td>\n    </tr>\n    <tr>\n      <th>5</th>\n      <td>MX17004</td>\n      <td>2010</td>\n      <td>3</td>\n      <td>d10</td>\n      <td>34.5</td>\n      <td>16.8</td>\n    </tr>\n    <tr>\n      <th>6</th>\n      <td>MX17004</td>\n      <td>2010</td>\n      <td>3</td>\n      <td>d16</td>\n      <td>31.1</td>\n      <td>17.6</td>\n    </tr>\n    <tr>\n      <th>7</th>\n      <td>MX17004</td>\n      <td>2010</td>\n      <td>3</td>\n      <td>d5</td>\n      <td>32.1</td>\n      <td>14.2</td>\n    </tr>\n    <tr>\n      <th>8</th>\n      <td>MX17004</td>\n      <td>2010</td>\n      <td>4</td>\n      <td>d27</td>\n      <td>36.3</td>\n      <td>16.7</td>\n    </tr>\n    <tr>\n      <th>9</th>\n      <td>MX17004</td>\n      <td>2010</td>\n      <td>5</td>\n      <td>d27</td>\n      <td>33.2</td>\n      <td>18.2</td>\n    </tr>\n    <tr>\n      <th>10</th>\n      <td>MX17004</td>\n      <td>2010</td>\n      <td>6</td>\n      <td>d17</td>\n      <td>28.0</td>\n      <td>17.5</td>\n    </tr>\n    <tr>\n      <th>11</th>\n      <td>MX17004</td>\n      <td>2010</td>\n      <td>6</td>\n      <td>d29</td>\n      <td>30.1</td>\n      <td>18.0</td>\n    </tr>\n    <tr>\n      <th>12</th>\n      <td>MX17004</td>\n      <td>2010</td>\n      <td>7</td>\n      <td>d3</td>\n      <td>28.6</td>\n      <td>17.5</td>\n    </tr>\n    <tr>\n      <th>13</th>\n      <td>MX17004</td>\n      <td>2010</td>\n      <td>7</td>\n      <td>d14</td>\n      <td>29.9</td>\n      <td>16.5</td>\n    </tr>\n    <tr>\n      <th>14</th>\n      <td>MX17004</td>\n      <td>2010</td>\n      <td>8</td>\n      <td>d23</td>\n      <td>26.4</td>\n      <td>15.0</td>\n    </tr>\n    <tr>\n      <th>15</th>\n      <td>MX17004</td>\n      <td>2010</td>\n      <td>8</td>\n      <td>d5</td>\n      <td>29.6</td>\n      <td>15.8</td>\n    </tr>\n    <tr>\n      <th>16</th>\n      <td>MX17004</td>\n      <td>2010</td>\n      <td>8</td>\n      <td>d29</td>\n      <td>28.0</td>\n      <td>15.3</td>\n    </tr>\n    <tr>\n      <th>17</th>\n      <td>MX17004</td>\n      <td>2010</td>\n      <td>8</td>\n      <td>d13</td>\n      <td>29.8</td>\n      <td>16.5</td>\n    </tr>\n    <tr>\n      <th>18</th>\n      <td>MX17004</td>\n      <td>2010</td>\n      <td>8</td>\n      <td>d25</td>\n      <td>29.7</td>\n      <td>15.6</td>\n    </tr>\n    <tr>\n      <th>19</th>\n      <td>MX17004</td>\n      <td>2010</td>\n      <td>8</td>\n      <td>d31</td>\n      <td>25.4</td>\n      <td>15.4</td>\n    </tr>\n    <tr>\n      <th>20</th>\n      <td>MX17004</td>\n      <td>2010</td>\n      <td>8</td>\n      <td>d8</td>\n      <td>29.0</td>\n      <td>17.3</td>\n    </tr>\n    <tr>\n      <th>21</th>\n      <td>MX17004</td>\n      <td>2010</td>\n      <td>10</td>\n      <td>d5</td>\n      <td>27.0</td>\n      <td>14.0</td>\n    </tr>\n    <tr>\n      <th>22</th>\n      <td>MX17004</td>\n      <td>2010</td>\n      <td>10</td>\n      <td>d14</td>\n      <td>29.5</td>\n      <td>13.0</td>\n    </tr>\n    <tr>\n      <th>23</th>\n      <td>MX17004</td>\n      <td>2010</td>\n      <td>10</td>\n      <td>d15</td>\n      <td>28.7</td>\n      <td>10.5</td>\n    </tr>\n    <tr>\n      <th>24</th>\n      <td>MX17004</td>\n      <td>2010</td>\n      <td>10</td>\n      <td>d28</td>\n      <td>31.2</td>\n      <td>15.0</td>\n    </tr>\n    <tr>\n      <th>25</th>\n      <td>MX17004</td>\n      <td>2010</td>\n      <td>10</td>\n      <td>d7</td>\n      <td>28.1</td>\n      <td>12.9</td>\n    </tr>\n    <tr>\n      <th>26</th>\n      <td>MX17004</td>\n      <td>2010</td>\n      <td>11</td>\n      <td>d2</td>\n      <td>31.3</td>\n      <td>16.3</td>\n    </tr>\n    <tr>\n      <th>27</th>\n      <td>MX17004</td>\n      <td>2010</td>\n      <td>11</td>\n      <td>d5</td>\n      <td>26.3</td>\n      <td>7.9</td>\n    </tr>\n    <tr>\n      <th>28</th>\n      <td>MX17004</td>\n      <td>2010</td>\n      <td>11</td>\n      <td>d27</td>\n      <td>27.7</td>\n      <td>14.2</td>\n    </tr>\n    <tr>\n      <th>29</th>\n      <td>MX17004</td>\n      <td>2010</td>\n      <td>11</td>\n      <td>d26</td>\n      <td>28.1</td>\n      <td>12.1</td>\n    </tr>\n    <tr>\n      <th>30</th>\n      <td>MX17004</td>\n      <td>2010</td>\n      <td>11</td>\n      <td>d4</td>\n      <td>27.2</td>\n      <td>12.0</td>\n    </tr>\n    <tr>\n      <th>31</th>\n      <td>MX17004</td>\n      <td>2010</td>\n      <td>12</td>\n      <td>d1</td>\n      <td>29.9</td>\n      <td>13.8</td>\n    </tr>\n    <tr>\n      <th>32</th>\n      <td>MX17004</td>\n      <td>2010</td>\n      <td>12</td>\n      <td>d6</td>\n      <td>27.8</td>\n      <td>10.5</td>\n    </tr>\n  </tbody>\n</table>\n</div>",
      "text/plain": "element       id  year  month  day  tmax  tmin\n0        MX17004  2010      1  d30  27.8  14.5\n1        MX17004  2010      2  d11  29.7  13.4\n2        MX17004  2010      2   d2  27.3  14.4\n3        MX17004  2010      2  d23  29.9  10.7\n4        MX17004  2010      2   d3  24.1  14.4\n5        MX17004  2010      3  d10  34.5  16.8\n6        MX17004  2010      3  d16  31.1  17.6\n7        MX17004  2010      3   d5  32.1  14.2\n8        MX17004  2010      4  d27  36.3  16.7\n9        MX17004  2010      5  d27  33.2  18.2\n10       MX17004  2010      6  d17  28.0  17.5\n11       MX17004  2010      6  d29  30.1  18.0\n12       MX17004  2010      7   d3  28.6  17.5\n13       MX17004  2010      7  d14  29.9  16.5\n14       MX17004  2010      8  d23  26.4  15.0\n15       MX17004  2010      8   d5  29.6  15.8\n16       MX17004  2010      8  d29  28.0  15.3\n17       MX17004  2010      8  d13  29.8  16.5\n18       MX17004  2010      8  d25  29.7  15.6\n19       MX17004  2010      8  d31  25.4  15.4\n20       MX17004  2010      8   d8  29.0  17.3\n21       MX17004  2010     10   d5  27.0  14.0\n22       MX17004  2010     10  d14  29.5  13.0\n23       MX17004  2010     10  d15  28.7  10.5\n24       MX17004  2010     10  d28  31.2  15.0\n25       MX17004  2010     10   d7  28.1  12.9\n26       MX17004  2010     11   d2  31.3  16.3\n27       MX17004  2010     11   d5  26.3   7.9\n28       MX17004  2010     11  d27  27.7  14.2\n29       MX17004  2010     11  d26  28.1  12.1\n30       MX17004  2010     11   d4  27.2  12.0\n31       MX17004  2010     12   d1  29.9  13.8\n32       MX17004  2010     12   d6  27.8  10.5"
     },
     "execution_count": 41,
     "metadata": {},
     "output_type": "execute_result"
    }
   ]
  },
  {
   "cell_type": "code",
   "metadata": {
    "deepnote_to_be_reexecuted": false,
    "execution_millis": 28,
    "execution_start": 1620084627275,
    "source_hash": "4da1956e",
    "cell_id": "00064-e4cc3003-5f3a-4cac-ab56-408a8e9e4efe",
    "deepnote_cell_type": "code"
   },
   "source": "billboard_melt.head()",
   "execution_count": null,
   "outputs": [
    {
     "data": {
      "application/vnd.deepnote.dataframe.v2+json": {
       "column_count": 7,
       "columns": [
        {
         "dtype": "int64",
         "name": "year",
         "stats": {
          "histogram": [
           {
            "bin_end": 1999.6,
            "bin_start": 1999.5,
            "count": 0
           },
           {
            "bin_end": 1999.7,
            "bin_start": 1999.6,
            "count": 0
           },
           {
            "bin_end": 1999.8,
            "bin_start": 1999.7,
            "count": 0
           },
           {
            "bin_end": 1999.9,
            "bin_start": 1999.8,
            "count": 0
           },
           {
            "bin_end": 2000,
            "bin_start": 1999.9,
            "count": 0
           },
           {
            "bin_end": 2000.1,
            "bin_start": 2000,
            "count": 5
           },
           {
            "bin_end": 2000.2,
            "bin_start": 2000.1,
            "count": 0
           },
           {
            "bin_end": 2000.3,
            "bin_start": 2000.2,
            "count": 0
           },
           {
            "bin_end": 2000.4,
            "bin_start": 2000.3,
            "count": 0
           },
           {
            "bin_end": 2000.5,
            "bin_start": 2000.4,
            "count": 0
           }
          ],
          "max": "2000",
          "min": "2000",
          "nan_count": 0,
          "unique_count": 1
         }
        },
        {
         "dtype": "object",
         "name": "artist",
         "stats": {
          "categories": [
           {
            "count": 2,
            "name": "3 Doors Down"
           },
           {
            "count": 1,
            "name": "2 Pac"
           },
           {
            "count": 2,
            "name": "2 others"
           }
          ],
          "nan_count": 0,
          "unique_count": 4
         }
        },
        {
         "dtype": "object",
         "name": "track",
         "stats": {
          "categories": [
           {
            "count": 1,
            "name": "Baby Don't Cry (Keep..."
           },
           {
            "count": 1,
            "name": "The Hardest Part Of ..."
           },
           {
            "count": 3,
            "name": "3 others"
           }
          ],
          "nan_count": 0,
          "unique_count": 5
         }
        },
        {
         "dtype": "object",
         "name": "time",
         "stats": {
          "categories": [
           {
            "count": 1,
            "name": "4:22"
           },
           {
            "count": 1,
            "name": "3:15"
           },
           {
            "count": 3,
            "name": "3 others"
           }
          ],
          "nan_count": 0,
          "unique_count": 5
         }
        },
        {
         "dtype": "object",
         "name": "date.entered",
         "stats": {
          "categories": [
           {
            "count": 1,
            "name": "2000-02-26"
           },
           {
            "count": 1,
            "name": "2000-09-02"
           },
           {
            "count": 3,
            "name": "3 others"
           }
          ],
          "nan_count": 0,
          "unique_count": 5
         }
        },
        {
         "dtype": "object",
         "name": "week",
         "stats": {
          "categories": [
           {
            "count": 5,
            "name": "wk1"
           }
          ],
          "nan_count": 0,
          "unique_count": 1
         }
        },
        {
         "dtype": "float64",
         "name": "rating",
         "stats": {
          "histogram": [
           {
            "bin_end": 60.4,
            "bin_start": 57,
            "count": 1
           },
           {
            "bin_end": 63.8,
            "bin_start": 60.4,
            "count": 0
           },
           {
            "bin_end": 67.2,
            "bin_start": 63.8,
            "count": 0
           },
           {
            "bin_end": 70.6,
            "bin_start": 67.2,
            "count": 0
           },
           {
            "bin_end": 74,
            "bin_start": 70.6,
            "count": 0
           },
           {
            "bin_end": 77.4,
            "bin_start": 74,
            "count": 1
           },
           {
            "bin_end": 80.8,
            "bin_start": 77.4,
            "count": 0
           },
           {
            "bin_end": 84.2,
            "bin_start": 80.8,
            "count": 1
           },
           {
            "bin_end": 87.6,
            "bin_start": 84.2,
            "count": 1
           },
           {
            "bin_end": 91,
            "bin_start": 87.6,
            "count": 1
           }
          ],
          "max": "91.0",
          "min": "57.0",
          "nan_count": 0,
          "unique_count": 5
         }
        },
        {
         "dtype": "int64",
         "name": "_deepnote_index_column"
        }
       ],
       "row_count": 5,
       "rows_bottom": null,
       "rows_top": [
        {
         "_deepnote_index_column": 0,
         "artist": "2 Pac",
         "date.entered": "2000-02-26",
         "rating": 87,
         "time": "4:22",
         "track": "Baby Don't Cry (Keep...",
         "week": "wk1",
         "year": 2000
        },
        {
         "_deepnote_index_column": 1,
         "artist": "2Ge+her",
         "date.entered": "2000-09-02",
         "rating": 91,
         "time": "3:15",
         "track": "The Hardest Part Of ...",
         "week": "wk1",
         "year": 2000
        },
        {
         "_deepnote_index_column": 2,
         "artist": "3 Doors Down",
         "date.entered": "2000-04-08",
         "rating": 81,
         "time": "3:53",
         "track": "Kryptonite",
         "week": "wk1",
         "year": 2000
        },
        {
         "_deepnote_index_column": 3,
         "artist": "3 Doors Down",
         "date.entered": "2000-10-21",
         "rating": 76,
         "time": "4:24",
         "track": "Loser",
         "week": "wk1",
         "year": 2000
        },
        {
         "_deepnote_index_column": 4,
         "artist": "504 Boyz",
         "date.entered": "2000-04-15",
         "rating": 57,
         "time": "3:35",
         "track": "Wobble Wobble",
         "week": "wk1",
         "year": 2000
        }
       ]
      },
      "text/html": "<div>\n<style scoped>\n    .dataframe tbody tr th:only-of-type {\n        vertical-align: middle;\n    }\n\n    .dataframe tbody tr th {\n        vertical-align: top;\n    }\n\n    .dataframe thead th {\n        text-align: right;\n    }\n</style>\n<table border=\"1\" class=\"dataframe\">\n  <thead>\n    <tr style=\"text-align: right;\">\n      <th></th>\n      <th>year</th>\n      <th>artist</th>\n      <th>track</th>\n      <th>time</th>\n      <th>date.entered</th>\n      <th>week</th>\n      <th>rating</th>\n    </tr>\n  </thead>\n  <tbody>\n    <tr>\n      <th>0</th>\n      <td>2000</td>\n      <td>2 Pac</td>\n      <td>Baby Don't Cry (Keep...</td>\n      <td>4:22</td>\n      <td>2000-02-26</td>\n      <td>wk1</td>\n      <td>87.0</td>\n    </tr>\n    <tr>\n      <th>1</th>\n      <td>2000</td>\n      <td>2Ge+her</td>\n      <td>The Hardest Part Of ...</td>\n      <td>3:15</td>\n      <td>2000-09-02</td>\n      <td>wk1</td>\n      <td>91.0</td>\n    </tr>\n    <tr>\n      <th>2</th>\n      <td>2000</td>\n      <td>3 Doors Down</td>\n      <td>Kryptonite</td>\n      <td>3:53</td>\n      <td>2000-04-08</td>\n      <td>wk1</td>\n      <td>81.0</td>\n    </tr>\n    <tr>\n      <th>3</th>\n      <td>2000</td>\n      <td>3 Doors Down</td>\n      <td>Loser</td>\n      <td>4:24</td>\n      <td>2000-10-21</td>\n      <td>wk1</td>\n      <td>76.0</td>\n    </tr>\n    <tr>\n      <th>4</th>\n      <td>2000</td>\n      <td>504 Boyz</td>\n      <td>Wobble Wobble</td>\n      <td>3:35</td>\n      <td>2000-04-15</td>\n      <td>wk1</td>\n      <td>57.0</td>\n    </tr>\n  </tbody>\n</table>\n</div>",
      "text/plain": "   year        artist                    track  time date.entered week  rating\n0  2000         2 Pac  Baby Don't Cry (Keep...  4:22   2000-02-26  wk1    87.0\n1  2000       2Ge+her  The Hardest Part Of ...  3:15   2000-09-02  wk1    91.0\n2  2000  3 Doors Down               Kryptonite  3:53   2000-04-08  wk1    81.0\n3  2000  3 Doors Down                    Loser  4:24   2000-10-21  wk1    76.0\n4  2000      504 Boyz            Wobble Wobble  3:35   2000-04-15  wk1    57.0"
     },
     "execution_count": 42,
     "metadata": {},
     "output_type": "execute_result"
    }
   ]
  },
  {
   "cell_type": "code",
   "metadata": {
    "deepnote_to_be_reexecuted": false,
    "execution_millis": 38,
    "execution_start": 1620084645490,
    "source_hash": "5b66ba1",
    "cell_id": "00065-6363d7b8-a97f-42c1-8073-aee51efe9570",
    "deepnote_cell_type": "code"
   },
   "source": "billboard_melt.loc[billboard_melt['track'] == 'Loser']",
   "execution_count": null,
   "outputs": [
    {
     "data": {
      "application/vnd.deepnote.dataframe.v2+json": {
       "column_count": 7,
       "columns": [
        {
         "dtype": "int64",
         "name": "year",
         "stats": {
          "histogram": [
           {
            "bin_end": 1999.6,
            "bin_start": 1999.5,
            "count": 0
           },
           {
            "bin_end": 1999.7,
            "bin_start": 1999.6,
            "count": 0
           },
           {
            "bin_end": 1999.8,
            "bin_start": 1999.7,
            "count": 0
           },
           {
            "bin_end": 1999.9,
            "bin_start": 1999.8,
            "count": 0
           },
           {
            "bin_end": 2000,
            "bin_start": 1999.9,
            "count": 0
           },
           {
            "bin_end": 2000.1,
            "bin_start": 2000,
            "count": 76
           },
           {
            "bin_end": 2000.2,
            "bin_start": 2000.1,
            "count": 0
           },
           {
            "bin_end": 2000.3,
            "bin_start": 2000.2,
            "count": 0
           },
           {
            "bin_end": 2000.4,
            "bin_start": 2000.3,
            "count": 0
           },
           {
            "bin_end": 2000.5,
            "bin_start": 2000.4,
            "count": 0
           }
          ],
          "max": "2000",
          "min": "2000",
          "nan_count": 0,
          "unique_count": 1
         }
        },
        {
         "dtype": "object",
         "name": "artist",
         "stats": {
          "categories": [
           {
            "count": 76,
            "name": "3 Doors Down"
           }
          ],
          "nan_count": 0,
          "unique_count": 1
         }
        },
        {
         "dtype": "object",
         "name": "track",
         "stats": {
          "categories": [
           {
            "count": 76,
            "name": "Loser"
           }
          ],
          "nan_count": 0,
          "unique_count": 1
         }
        },
        {
         "dtype": "object",
         "name": "time",
         "stats": {
          "categories": [
           {
            "count": 76,
            "name": "4:24"
           }
          ],
          "nan_count": 0,
          "unique_count": 1
         }
        },
        {
         "dtype": "object",
         "name": "date.entered",
         "stats": {
          "categories": [
           {
            "count": 76,
            "name": "2000-10-21"
           }
          ],
          "nan_count": 0,
          "unique_count": 1
         }
        },
        {
         "dtype": "object",
         "name": "week",
         "stats": {
          "categories": [
           {
            "count": 1,
            "name": "wk1"
           },
           {
            "count": 1,
            "name": "wk2"
           },
           {
            "count": 74,
            "name": "74 others"
           }
          ],
          "nan_count": 0,
          "unique_count": 76
         }
        },
        {
         "dtype": "float64",
         "name": "rating",
         "stats": {
          "histogram": [
           {
            "bin_end": 57.1,
            "bin_start": 55,
            "count": 1
           },
           {
            "bin_end": 59.2,
            "bin_start": 57.1,
            "count": 2
           },
           {
            "bin_end": 61.3,
            "bin_start": 59.2,
            "count": 3
           },
           {
            "bin_end": 63.4,
            "bin_start": 61.3,
            "count": 1
           },
           {
            "bin_end": 65.5,
            "bin_start": 63.4,
            "count": 1
           },
           {
            "bin_end": 67.6,
            "bin_start": 65.5,
            "count": 3
           },
           {
            "bin_end": 69.7,
            "bin_start": 67.6,
            "count": 1
           },
           {
            "bin_end": 71.8,
            "bin_start": 69.7,
            "count": 1
           },
           {
            "bin_end": 73.9,
            "bin_start": 71.8,
            "count": 3
           },
           {
            "bin_end": 76,
            "bin_start": 73.9,
            "count": 4
           }
          ],
          "max": "76.0",
          "min": "55.0",
          "nan_count": 56,
          "unique_count": 13
         }
        },
        {
         "dtype": "int64",
         "name": "_deepnote_index_column"
        }
       ],
       "row_count": 76,
       "rows_bottom": null,
       "rows_top": [
        {
         "_deepnote_index_column": 3,
         "artist": "3 Doors Down",
         "date.entered": "2000-10-21",
         "rating": "76.0",
         "time": "4:24",
         "track": "Loser",
         "week": "wk1",
         "year": 2000
        },
        {
         "_deepnote_index_column": 320,
         "artist": "3 Doors Down",
         "date.entered": "2000-10-21",
         "rating": "76.0",
         "time": "4:24",
         "track": "Loser",
         "week": "wk2",
         "year": 2000
        },
        {
         "_deepnote_index_column": 637,
         "artist": "3 Doors Down",
         "date.entered": "2000-10-21",
         "rating": "72.0",
         "time": "4:24",
         "track": "Loser",
         "week": "wk3",
         "year": 2000
        },
        {
         "_deepnote_index_column": 954,
         "artist": "3 Doors Down",
         "date.entered": "2000-10-21",
         "rating": "69.0",
         "time": "4:24",
         "track": "Loser",
         "week": "wk4",
         "year": 2000
        },
        {
         "_deepnote_index_column": 1271,
         "artist": "3 Doors Down",
         "date.entered": "2000-10-21",
         "rating": "67.0",
         "time": "4:24",
         "track": "Loser",
         "week": "wk5",
         "year": 2000
        },
        {
         "_deepnote_index_column": 1588,
         "artist": "3 Doors Down",
         "date.entered": "2000-10-21",
         "rating": "65.0",
         "time": "4:24",
         "track": "Loser",
         "week": "wk6",
         "year": 2000
        },
        {
         "_deepnote_index_column": 1905,
         "artist": "3 Doors Down",
         "date.entered": "2000-10-21",
         "rating": "55.0",
         "time": "4:24",
         "track": "Loser",
         "week": "wk7",
         "year": 2000
        },
        {
         "_deepnote_index_column": 2222,
         "artist": "3 Doors Down",
         "date.entered": "2000-10-21",
         "rating": "59.0",
         "time": "4:24",
         "track": "Loser",
         "week": "wk8",
         "year": 2000
        },
        {
         "_deepnote_index_column": 2539,
         "artist": "3 Doors Down",
         "date.entered": "2000-10-21",
         "rating": "62.0",
         "time": "4:24",
         "track": "Loser",
         "week": "wk9",
         "year": 2000
        },
        {
         "_deepnote_index_column": 2856,
         "artist": "3 Doors Down",
         "date.entered": "2000-10-21",
         "rating": "61.0",
         "time": "4:24",
         "track": "Loser",
         "week": "wk10",
         "year": 2000
        },
        {
         "_deepnote_index_column": 3173,
         "artist": "3 Doors Down",
         "date.entered": "2000-10-21",
         "rating": "61.0",
         "time": "4:24",
         "track": "Loser",
         "week": "wk11",
         "year": 2000
        },
        {
         "_deepnote_index_column": 3490,
         "artist": "3 Doors Down",
         "date.entered": "2000-10-21",
         "rating": "59.0",
         "time": "4:24",
         "track": "Loser",
         "week": "wk12",
         "year": 2000
        },
        {
         "_deepnote_index_column": 3807,
         "artist": "3 Doors Down",
         "date.entered": "2000-10-21",
         "rating": "61.0",
         "time": "4:24",
         "track": "Loser",
         "week": "wk13",
         "year": 2000
        },
        {
         "_deepnote_index_column": 4124,
         "artist": "3 Doors Down",
         "date.entered": "2000-10-21",
         "rating": "66.0",
         "time": "4:24",
         "track": "Loser",
         "week": "wk14",
         "year": 2000
        },
        {
         "_deepnote_index_column": 4441,
         "artist": "3 Doors Down",
         "date.entered": "2000-10-21",
         "rating": "72.0",
         "time": "4:24",
         "track": "Loser",
         "week": "wk15",
         "year": 2000
        },
        {
         "_deepnote_index_column": 4758,
         "artist": "3 Doors Down",
         "date.entered": "2000-10-21",
         "rating": "76.0",
         "time": "4:24",
         "track": "Loser",
         "week": "wk16",
         "year": 2000
        },
        {
         "_deepnote_index_column": 5075,
         "artist": "3 Doors Down",
         "date.entered": "2000-10-21",
         "rating": "75.0",
         "time": "4:24",
         "track": "Loser",
         "week": "wk17",
         "year": 2000
        },
        {
         "_deepnote_index_column": 5392,
         "artist": "3 Doors Down",
         "date.entered": "2000-10-21",
         "rating": "67.0",
         "time": "4:24",
         "track": "Loser",
         "week": "wk18",
         "year": 2000
        },
        {
         "_deepnote_index_column": 5709,
         "artist": "3 Doors Down",
         "date.entered": "2000-10-21",
         "rating": "73.0",
         "time": "4:24",
         "track": "Loser",
         "week": "wk19",
         "year": 2000
        },
        {
         "_deepnote_index_column": 6026,
         "artist": "3 Doors Down",
         "date.entered": "2000-10-21",
         "rating": "70.0",
         "time": "4:24",
         "track": "Loser",
         "week": "wk20",
         "year": 2000
        },
        {
         "_deepnote_index_column": 6343,
         "artist": "3 Doors Down",
         "date.entered": "2000-10-21",
         "rating": "nan",
         "time": "4:24",
         "track": "Loser",
         "week": "wk21",
         "year": 2000
        },
        {
         "_deepnote_index_column": 6660,
         "artist": "3 Doors Down",
         "date.entered": "2000-10-21",
         "rating": "nan",
         "time": "4:24",
         "track": "Loser",
         "week": "wk22",
         "year": 2000
        },
        {
         "_deepnote_index_column": 6977,
         "artist": "3 Doors Down",
         "date.entered": "2000-10-21",
         "rating": "nan",
         "time": "4:24",
         "track": "Loser",
         "week": "wk23",
         "year": 2000
        },
        {
         "_deepnote_index_column": 7294,
         "artist": "3 Doors Down",
         "date.entered": "2000-10-21",
         "rating": "nan",
         "time": "4:24",
         "track": "Loser",
         "week": "wk24",
         "year": 2000
        },
        {
         "_deepnote_index_column": 7611,
         "artist": "3 Doors Down",
         "date.entered": "2000-10-21",
         "rating": "nan",
         "time": "4:24",
         "track": "Loser",
         "week": "wk25",
         "year": 2000
        },
        {
         "_deepnote_index_column": 7928,
         "artist": "3 Doors Down",
         "date.entered": "2000-10-21",
         "rating": "nan",
         "time": "4:24",
         "track": "Loser",
         "week": "wk26",
         "year": 2000
        },
        {
         "_deepnote_index_column": 8245,
         "artist": "3 Doors Down",
         "date.entered": "2000-10-21",
         "rating": "nan",
         "time": "4:24",
         "track": "Loser",
         "week": "wk27",
         "year": 2000
        },
        {
         "_deepnote_index_column": 8562,
         "artist": "3 Doors Down",
         "date.entered": "2000-10-21",
         "rating": "nan",
         "time": "4:24",
         "track": "Loser",
         "week": "wk28",
         "year": 2000
        },
        {
         "_deepnote_index_column": 8879,
         "artist": "3 Doors Down",
         "date.entered": "2000-10-21",
         "rating": "nan",
         "time": "4:24",
         "track": "Loser",
         "week": "wk29",
         "year": 2000
        },
        {
         "_deepnote_index_column": 9196,
         "artist": "3 Doors Down",
         "date.entered": "2000-10-21",
         "rating": "nan",
         "time": "4:24",
         "track": "Loser",
         "week": "wk30",
         "year": 2000
        },
        {
         "_deepnote_index_column": 9513,
         "artist": "3 Doors Down",
         "date.entered": "2000-10-21",
         "rating": "nan",
         "time": "4:24",
         "track": "Loser",
         "week": "wk31",
         "year": 2000
        },
        {
         "_deepnote_index_column": 9830,
         "artist": "3 Doors Down",
         "date.entered": "2000-10-21",
         "rating": "nan",
         "time": "4:24",
         "track": "Loser",
         "week": "wk32",
         "year": 2000
        },
        {
         "_deepnote_index_column": 10147,
         "artist": "3 Doors Down",
         "date.entered": "2000-10-21",
         "rating": "nan",
         "time": "4:24",
         "track": "Loser",
         "week": "wk33",
         "year": 2000
        },
        {
         "_deepnote_index_column": 10464,
         "artist": "3 Doors Down",
         "date.entered": "2000-10-21",
         "rating": "nan",
         "time": "4:24",
         "track": "Loser",
         "week": "wk34",
         "year": 2000
        },
        {
         "_deepnote_index_column": 10781,
         "artist": "3 Doors Down",
         "date.entered": "2000-10-21",
         "rating": "nan",
         "time": "4:24",
         "track": "Loser",
         "week": "wk35",
         "year": 2000
        },
        {
         "_deepnote_index_column": 11098,
         "artist": "3 Doors Down",
         "date.entered": "2000-10-21",
         "rating": "nan",
         "time": "4:24",
         "track": "Loser",
         "week": "wk36",
         "year": 2000
        },
        {
         "_deepnote_index_column": 11415,
         "artist": "3 Doors Down",
         "date.entered": "2000-10-21",
         "rating": "nan",
         "time": "4:24",
         "track": "Loser",
         "week": "wk37",
         "year": 2000
        },
        {
         "_deepnote_index_column": 11732,
         "artist": "3 Doors Down",
         "date.entered": "2000-10-21",
         "rating": "nan",
         "time": "4:24",
         "track": "Loser",
         "week": "wk38",
         "year": 2000
        },
        {
         "_deepnote_index_column": 12049,
         "artist": "3 Doors Down",
         "date.entered": "2000-10-21",
         "rating": "nan",
         "time": "4:24",
         "track": "Loser",
         "week": "wk39",
         "year": 2000
        },
        {
         "_deepnote_index_column": 12366,
         "artist": "3 Doors Down",
         "date.entered": "2000-10-21",
         "rating": "nan",
         "time": "4:24",
         "track": "Loser",
         "week": "wk40",
         "year": 2000
        },
        {
         "_deepnote_index_column": 12683,
         "artist": "3 Doors Down",
         "date.entered": "2000-10-21",
         "rating": "nan",
         "time": "4:24",
         "track": "Loser",
         "week": "wk41",
         "year": 2000
        },
        {
         "_deepnote_index_column": 13000,
         "artist": "3 Doors Down",
         "date.entered": "2000-10-21",
         "rating": "nan",
         "time": "4:24",
         "track": "Loser",
         "week": "wk42",
         "year": 2000
        },
        {
         "_deepnote_index_column": 13317,
         "artist": "3 Doors Down",
         "date.entered": "2000-10-21",
         "rating": "nan",
         "time": "4:24",
         "track": "Loser",
         "week": "wk43",
         "year": 2000
        },
        {
         "_deepnote_index_column": 13634,
         "artist": "3 Doors Down",
         "date.entered": "2000-10-21",
         "rating": "nan",
         "time": "4:24",
         "track": "Loser",
         "week": "wk44",
         "year": 2000
        },
        {
         "_deepnote_index_column": 13951,
         "artist": "3 Doors Down",
         "date.entered": "2000-10-21",
         "rating": "nan",
         "time": "4:24",
         "track": "Loser",
         "week": "wk45",
         "year": 2000
        },
        {
         "_deepnote_index_column": 14268,
         "artist": "3 Doors Down",
         "date.entered": "2000-10-21",
         "rating": "nan",
         "time": "4:24",
         "track": "Loser",
         "week": "wk46",
         "year": 2000
        },
        {
         "_deepnote_index_column": 14585,
         "artist": "3 Doors Down",
         "date.entered": "2000-10-21",
         "rating": "nan",
         "time": "4:24",
         "track": "Loser",
         "week": "wk47",
         "year": 2000
        },
        {
         "_deepnote_index_column": 14902,
         "artist": "3 Doors Down",
         "date.entered": "2000-10-21",
         "rating": "nan",
         "time": "4:24",
         "track": "Loser",
         "week": "wk48",
         "year": 2000
        },
        {
         "_deepnote_index_column": 15219,
         "artist": "3 Doors Down",
         "date.entered": "2000-10-21",
         "rating": "nan",
         "time": "4:24",
         "track": "Loser",
         "week": "wk49",
         "year": 2000
        },
        {
         "_deepnote_index_column": 15536,
         "artist": "3 Doors Down",
         "date.entered": "2000-10-21",
         "rating": "nan",
         "time": "4:24",
         "track": "Loser",
         "week": "wk50",
         "year": 2000
        },
        {
         "_deepnote_index_column": 15853,
         "artist": "3 Doors Down",
         "date.entered": "2000-10-21",
         "rating": "nan",
         "time": "4:24",
         "track": "Loser",
         "week": "wk51",
         "year": 2000
        },
        {
         "_deepnote_index_column": 16170,
         "artist": "3 Doors Down",
         "date.entered": "2000-10-21",
         "rating": "nan",
         "time": "4:24",
         "track": "Loser",
         "week": "wk52",
         "year": 2000
        },
        {
         "_deepnote_index_column": 16487,
         "artist": "3 Doors Down",
         "date.entered": "2000-10-21",
         "rating": "nan",
         "time": "4:24",
         "track": "Loser",
         "week": "wk53",
         "year": 2000
        },
        {
         "_deepnote_index_column": 16804,
         "artist": "3 Doors Down",
         "date.entered": "2000-10-21",
         "rating": "nan",
         "time": "4:24",
         "track": "Loser",
         "week": "wk54",
         "year": 2000
        },
        {
         "_deepnote_index_column": 17121,
         "artist": "3 Doors Down",
         "date.entered": "2000-10-21",
         "rating": "nan",
         "time": "4:24",
         "track": "Loser",
         "week": "wk55",
         "year": 2000
        },
        {
         "_deepnote_index_column": 17438,
         "artist": "3 Doors Down",
         "date.entered": "2000-10-21",
         "rating": "nan",
         "time": "4:24",
         "track": "Loser",
         "week": "wk56",
         "year": 2000
        },
        {
         "_deepnote_index_column": 17755,
         "artist": "3 Doors Down",
         "date.entered": "2000-10-21",
         "rating": "nan",
         "time": "4:24",
         "track": "Loser",
         "week": "wk57",
         "year": 2000
        },
        {
         "_deepnote_index_column": 18072,
         "artist": "3 Doors Down",
         "date.entered": "2000-10-21",
         "rating": "nan",
         "time": "4:24",
         "track": "Loser",
         "week": "wk58",
         "year": 2000
        },
        {
         "_deepnote_index_column": 18389,
         "artist": "3 Doors Down",
         "date.entered": "2000-10-21",
         "rating": "nan",
         "time": "4:24",
         "track": "Loser",
         "week": "wk59",
         "year": 2000
        },
        {
         "_deepnote_index_column": 18706,
         "artist": "3 Doors Down",
         "date.entered": "2000-10-21",
         "rating": "nan",
         "time": "4:24",
         "track": "Loser",
         "week": "wk60",
         "year": 2000
        },
        {
         "_deepnote_index_column": 19023,
         "artist": "3 Doors Down",
         "date.entered": "2000-10-21",
         "rating": "nan",
         "time": "4:24",
         "track": "Loser",
         "week": "wk61",
         "year": 2000
        },
        {
         "_deepnote_index_column": 19340,
         "artist": "3 Doors Down",
         "date.entered": "2000-10-21",
         "rating": "nan",
         "time": "4:24",
         "track": "Loser",
         "week": "wk62",
         "year": 2000
        },
        {
         "_deepnote_index_column": 19657,
         "artist": "3 Doors Down",
         "date.entered": "2000-10-21",
         "rating": "nan",
         "time": "4:24",
         "track": "Loser",
         "week": "wk63",
         "year": 2000
        },
        {
         "_deepnote_index_column": 19974,
         "artist": "3 Doors Down",
         "date.entered": "2000-10-21",
         "rating": "nan",
         "time": "4:24",
         "track": "Loser",
         "week": "wk64",
         "year": 2000
        },
        {
         "_deepnote_index_column": 20291,
         "artist": "3 Doors Down",
         "date.entered": "2000-10-21",
         "rating": "nan",
         "time": "4:24",
         "track": "Loser",
         "week": "wk65",
         "year": 2000
        },
        {
         "_deepnote_index_column": 20608,
         "artist": "3 Doors Down",
         "date.entered": "2000-10-21",
         "rating": "nan",
         "time": "4:24",
         "track": "Loser",
         "week": "wk66",
         "year": 2000
        },
        {
         "_deepnote_index_column": 20925,
         "artist": "3 Doors Down",
         "date.entered": "2000-10-21",
         "rating": "nan",
         "time": "4:24",
         "track": "Loser",
         "week": "wk67",
         "year": 2000
        },
        {
         "_deepnote_index_column": 21242,
         "artist": "3 Doors Down",
         "date.entered": "2000-10-21",
         "rating": "nan",
         "time": "4:24",
         "track": "Loser",
         "week": "wk68",
         "year": 2000
        },
        {
         "_deepnote_index_column": 21559,
         "artist": "3 Doors Down",
         "date.entered": "2000-10-21",
         "rating": "nan",
         "time": "4:24",
         "track": "Loser",
         "week": "wk69",
         "year": 2000
        },
        {
         "_deepnote_index_column": 21876,
         "artist": "3 Doors Down",
         "date.entered": "2000-10-21",
         "rating": "nan",
         "time": "4:24",
         "track": "Loser",
         "week": "wk70",
         "year": 2000
        },
        {
         "_deepnote_index_column": 22193,
         "artist": "3 Doors Down",
         "date.entered": "2000-10-21",
         "rating": "nan",
         "time": "4:24",
         "track": "Loser",
         "week": "wk71",
         "year": 2000
        },
        {
         "_deepnote_index_column": 22510,
         "artist": "3 Doors Down",
         "date.entered": "2000-10-21",
         "rating": "nan",
         "time": "4:24",
         "track": "Loser",
         "week": "wk72",
         "year": 2000
        },
        {
         "_deepnote_index_column": 22827,
         "artist": "3 Doors Down",
         "date.entered": "2000-10-21",
         "rating": "nan",
         "time": "4:24",
         "track": "Loser",
         "week": "wk73",
         "year": 2000
        },
        {
         "_deepnote_index_column": 23144,
         "artist": "3 Doors Down",
         "date.entered": "2000-10-21",
         "rating": "nan",
         "time": "4:24",
         "track": "Loser",
         "week": "wk74",
         "year": 2000
        },
        {
         "_deepnote_index_column": 23461,
         "artist": "3 Doors Down",
         "date.entered": "2000-10-21",
         "rating": "nan",
         "time": "4:24",
         "track": "Loser",
         "week": "wk75",
         "year": 2000
        },
        {
         "_deepnote_index_column": 23778,
         "artist": "3 Doors Down",
         "date.entered": "2000-10-21",
         "rating": "nan",
         "time": "4:24",
         "track": "Loser",
         "week": "wk76",
         "year": 2000
        }
       ]
      },
      "text/html": "<div>\n<style scoped>\n    .dataframe tbody tr th:only-of-type {\n        vertical-align: middle;\n    }\n\n    .dataframe tbody tr th {\n        vertical-align: top;\n    }\n\n    .dataframe thead th {\n        text-align: right;\n    }\n</style>\n<table border=\"1\" class=\"dataframe\">\n  <thead>\n    <tr style=\"text-align: right;\">\n      <th></th>\n      <th>year</th>\n      <th>artist</th>\n      <th>track</th>\n      <th>time</th>\n      <th>date.entered</th>\n      <th>week</th>\n      <th>rating</th>\n    </tr>\n  </thead>\n  <tbody>\n    <tr>\n      <th>3</th>\n      <td>2000</td>\n      <td>3 Doors Down</td>\n      <td>Loser</td>\n      <td>4:24</td>\n      <td>2000-10-21</td>\n      <td>wk1</td>\n      <td>76.0</td>\n    </tr>\n    <tr>\n      <th>320</th>\n      <td>2000</td>\n      <td>3 Doors Down</td>\n      <td>Loser</td>\n      <td>4:24</td>\n      <td>2000-10-21</td>\n      <td>wk2</td>\n      <td>76.0</td>\n    </tr>\n    <tr>\n      <th>637</th>\n      <td>2000</td>\n      <td>3 Doors Down</td>\n      <td>Loser</td>\n      <td>4:24</td>\n      <td>2000-10-21</td>\n      <td>wk3</td>\n      <td>72.0</td>\n    </tr>\n    <tr>\n      <th>954</th>\n      <td>2000</td>\n      <td>3 Doors Down</td>\n      <td>Loser</td>\n      <td>4:24</td>\n      <td>2000-10-21</td>\n      <td>wk4</td>\n      <td>69.0</td>\n    </tr>\n    <tr>\n      <th>1271</th>\n      <td>2000</td>\n      <td>3 Doors Down</td>\n      <td>Loser</td>\n      <td>4:24</td>\n      <td>2000-10-21</td>\n      <td>wk5</td>\n      <td>67.0</td>\n    </tr>\n    <tr>\n      <th>...</th>\n      <td>...</td>\n      <td>...</td>\n      <td>...</td>\n      <td>...</td>\n      <td>...</td>\n      <td>...</td>\n      <td>...</td>\n    </tr>\n    <tr>\n      <th>22510</th>\n      <td>2000</td>\n      <td>3 Doors Down</td>\n      <td>Loser</td>\n      <td>4:24</td>\n      <td>2000-10-21</td>\n      <td>wk72</td>\n      <td>NaN</td>\n    </tr>\n    <tr>\n      <th>22827</th>\n      <td>2000</td>\n      <td>3 Doors Down</td>\n      <td>Loser</td>\n      <td>4:24</td>\n      <td>2000-10-21</td>\n      <td>wk73</td>\n      <td>NaN</td>\n    </tr>\n    <tr>\n      <th>23144</th>\n      <td>2000</td>\n      <td>3 Doors Down</td>\n      <td>Loser</td>\n      <td>4:24</td>\n      <td>2000-10-21</td>\n      <td>wk74</td>\n      <td>NaN</td>\n    </tr>\n    <tr>\n      <th>23461</th>\n      <td>2000</td>\n      <td>3 Doors Down</td>\n      <td>Loser</td>\n      <td>4:24</td>\n      <td>2000-10-21</td>\n      <td>wk75</td>\n      <td>NaN</td>\n    </tr>\n    <tr>\n      <th>23778</th>\n      <td>2000</td>\n      <td>3 Doors Down</td>\n      <td>Loser</td>\n      <td>4:24</td>\n      <td>2000-10-21</td>\n      <td>wk76</td>\n      <td>NaN</td>\n    </tr>\n  </tbody>\n</table>\n<p>76 rows × 7 columns</p>\n</div>",
      "text/plain": "       year        artist  track  time date.entered  week  rating\n3      2000  3 Doors Down  Loser  4:24   2000-10-21   wk1    76.0\n320    2000  3 Doors Down  Loser  4:24   2000-10-21   wk2    76.0\n637    2000  3 Doors Down  Loser  4:24   2000-10-21   wk3    72.0\n954    2000  3 Doors Down  Loser  4:24   2000-10-21   wk4    69.0\n1271   2000  3 Doors Down  Loser  4:24   2000-10-21   wk5    67.0\n...     ...           ...    ...   ...          ...   ...     ...\n22510  2000  3 Doors Down  Loser  4:24   2000-10-21  wk72     NaN\n22827  2000  3 Doors Down  Loser  4:24   2000-10-21  wk73     NaN\n23144  2000  3 Doors Down  Loser  4:24   2000-10-21  wk74     NaN\n23461  2000  3 Doors Down  Loser  4:24   2000-10-21  wk75     NaN\n23778  2000  3 Doors Down  Loser  4:24   2000-10-21  wk76     NaN\n\n[76 rows x 7 columns]"
     },
     "execution_count": 43,
     "metadata": {},
     "output_type": "execute_result"
    }
   ]
  },
  {
   "cell_type": "code",
   "metadata": {
    "deepnote_to_be_reexecuted": false,
    "execution_millis": 1,
    "execution_start": 1620084681098,
    "source_hash": "477bf388",
    "cell_id": "00066-617fc0c0-1059-444c-a627-74628998ceed",
    "deepnote_cell_type": "code"
   },
   "source": "billboard_songs = billboard_melt[['year', 'artist', 'track', 'time']]",
   "execution_count": null,
   "outputs": []
  },
  {
   "cell_type": "code",
   "metadata": {
    "deepnote_to_be_reexecuted": false,
    "execution_millis": 47,
    "execution_start": 1620084691740,
    "source_hash": "7bab62a9",
    "cell_id": "00067-3cbde74d-5733-4ca8-a326-54fbfcfb7f21",
    "deepnote_cell_type": "code"
   },
   "source": "billboard_songs.head()",
   "execution_count": null,
   "outputs": [
    {
     "data": {
      "application/vnd.deepnote.dataframe.v2+json": {
       "column_count": 4,
       "columns": [
        {
         "dtype": "int64",
         "name": "year",
         "stats": {
          "histogram": [
           {
            "bin_end": 1999.6,
            "bin_start": 1999.5,
            "count": 0
           },
           {
            "bin_end": 1999.7,
            "bin_start": 1999.6,
            "count": 0
           },
           {
            "bin_end": 1999.8,
            "bin_start": 1999.7,
            "count": 0
           },
           {
            "bin_end": 1999.9,
            "bin_start": 1999.8,
            "count": 0
           },
           {
            "bin_end": 2000,
            "bin_start": 1999.9,
            "count": 0
           },
           {
            "bin_end": 2000.1,
            "bin_start": 2000,
            "count": 5
           },
           {
            "bin_end": 2000.2,
            "bin_start": 2000.1,
            "count": 0
           },
           {
            "bin_end": 2000.3,
            "bin_start": 2000.2,
            "count": 0
           },
           {
            "bin_end": 2000.4,
            "bin_start": 2000.3,
            "count": 0
           },
           {
            "bin_end": 2000.5,
            "bin_start": 2000.4,
            "count": 0
           }
          ],
          "max": "2000",
          "min": "2000",
          "nan_count": 0,
          "unique_count": 1
         }
        },
        {
         "dtype": "object",
         "name": "artist",
         "stats": {
          "categories": [
           {
            "count": 2,
            "name": "3 Doors Down"
           },
           {
            "count": 1,
            "name": "2 Pac"
           },
           {
            "count": 2,
            "name": "2 others"
           }
          ],
          "nan_count": 0,
          "unique_count": 4
         }
        },
        {
         "dtype": "object",
         "name": "track",
         "stats": {
          "categories": [
           {
            "count": 1,
            "name": "Baby Don't Cry (Keep..."
           },
           {
            "count": 1,
            "name": "The Hardest Part Of ..."
           },
           {
            "count": 3,
            "name": "3 others"
           }
          ],
          "nan_count": 0,
          "unique_count": 5
         }
        },
        {
         "dtype": "object",
         "name": "time",
         "stats": {
          "categories": [
           {
            "count": 1,
            "name": "4:22"
           },
           {
            "count": 1,
            "name": "3:15"
           },
           {
            "count": 3,
            "name": "3 others"
           }
          ],
          "nan_count": 0,
          "unique_count": 5
         }
        },
        {
         "dtype": "int64",
         "name": "_deepnote_index_column"
        }
       ],
       "row_count": 5,
       "rows_bottom": null,
       "rows_top": [
        {
         "_deepnote_index_column": 0,
         "artist": "2 Pac",
         "time": "4:22",
         "track": "Baby Don't Cry (Keep...",
         "year": 2000
        },
        {
         "_deepnote_index_column": 1,
         "artist": "2Ge+her",
         "time": "3:15",
         "track": "The Hardest Part Of ...",
         "year": 2000
        },
        {
         "_deepnote_index_column": 2,
         "artist": "3 Doors Down",
         "time": "3:53",
         "track": "Kryptonite",
         "year": 2000
        },
        {
         "_deepnote_index_column": 3,
         "artist": "3 Doors Down",
         "time": "4:24",
         "track": "Loser",
         "year": 2000
        },
        {
         "_deepnote_index_column": 4,
         "artist": "504 Boyz",
         "time": "3:35",
         "track": "Wobble Wobble",
         "year": 2000
        }
       ]
      },
      "text/html": "<div>\n<style scoped>\n    .dataframe tbody tr th:only-of-type {\n        vertical-align: middle;\n    }\n\n    .dataframe tbody tr th {\n        vertical-align: top;\n    }\n\n    .dataframe thead th {\n        text-align: right;\n    }\n</style>\n<table border=\"1\" class=\"dataframe\">\n  <thead>\n    <tr style=\"text-align: right;\">\n      <th></th>\n      <th>year</th>\n      <th>artist</th>\n      <th>track</th>\n      <th>time</th>\n    </tr>\n  </thead>\n  <tbody>\n    <tr>\n      <th>0</th>\n      <td>2000</td>\n      <td>2 Pac</td>\n      <td>Baby Don't Cry (Keep...</td>\n      <td>4:22</td>\n    </tr>\n    <tr>\n      <th>1</th>\n      <td>2000</td>\n      <td>2Ge+her</td>\n      <td>The Hardest Part Of ...</td>\n      <td>3:15</td>\n    </tr>\n    <tr>\n      <th>2</th>\n      <td>2000</td>\n      <td>3 Doors Down</td>\n      <td>Kryptonite</td>\n      <td>3:53</td>\n    </tr>\n    <tr>\n      <th>3</th>\n      <td>2000</td>\n      <td>3 Doors Down</td>\n      <td>Loser</td>\n      <td>4:24</td>\n    </tr>\n    <tr>\n      <th>4</th>\n      <td>2000</td>\n      <td>504 Boyz</td>\n      <td>Wobble Wobble</td>\n      <td>3:35</td>\n    </tr>\n  </tbody>\n</table>\n</div>",
      "text/plain": "   year        artist                    track  time\n0  2000         2 Pac  Baby Don't Cry (Keep...  4:22\n1  2000       2Ge+her  The Hardest Part Of ...  3:15\n2  2000  3 Doors Down               Kryptonite  3:53\n3  2000  3 Doors Down                    Loser  4:24\n4  2000      504 Boyz            Wobble Wobble  3:35"
     },
     "execution_count": 45,
     "metadata": {},
     "output_type": "execute_result"
    }
   ]
  },
  {
   "cell_type": "code",
   "metadata": {
    "deepnote_to_be_reexecuted": false,
    "execution_millis": 5,
    "execution_start": 1620084693212,
    "source_hash": "b6deeca",
    "cell_id": "00068-30d5c7d0-2792-4fa8-a8cc-84a957713e24",
    "deepnote_cell_type": "code"
   },
   "source": "billboard_songs.shape",
   "execution_count": null,
   "outputs": [
    {
     "data": {
      "text/plain": "(24092, 4)"
     },
     "execution_count": 46,
     "metadata": {},
     "output_type": "execute_result"
    }
   ]
  },
  {
   "cell_type": "code",
   "metadata": {
    "deepnote_to_be_reexecuted": false,
    "execution_millis": 7,
    "execution_start": 1620084694204,
    "source_hash": "a32539f1",
    "cell_id": "00069-473d01b2-ef14-430a-9d3c-f03e72b4dea0",
    "deepnote_cell_type": "code"
   },
   "source": "billboard_songs = billboard_songs.drop_duplicates()",
   "execution_count": null,
   "outputs": []
  },
  {
   "cell_type": "code",
   "metadata": {
    "deepnote_to_be_reexecuted": false,
    "execution_millis": 8,
    "execution_start": 1620084696784,
    "source_hash": "b6deeca",
    "cell_id": "00070-61a478ba-bc76-4603-9a31-c2aa3316efbc",
    "deepnote_cell_type": "code"
   },
   "source": "billboard_songs.shape",
   "execution_count": null,
   "outputs": [
    {
     "data": {
      "text/plain": "(317, 4)"
     },
     "execution_count": 48,
     "metadata": {},
     "output_type": "execute_result"
    }
   ]
  },
  {
   "cell_type": "code",
   "metadata": {
    "deepnote_to_be_reexecuted": false,
    "execution_millis": 1,
    "execution_start": 1620084721206,
    "source_hash": "cde7a9c8",
    "cell_id": "00071-6dbf4e50-60b0-45a6-9367-1165323876c5",
    "deepnote_cell_type": "code"
   },
   "source": "billboard_songs['id'] = range(len(billboard_songs))",
   "execution_count": null,
   "outputs": []
  },
  {
   "cell_type": "code",
   "metadata": {
    "deepnote_to_be_reexecuted": false,
    "execution_millis": 16,
    "execution_start": 1620084735791,
    "source_hash": "7bab62a9",
    "cell_id": "00072-18124f3f-0f67-40f5-8788-a5f5e1144a78",
    "deepnote_cell_type": "code"
   },
   "source": "billboard_songs.head()",
   "execution_count": null,
   "outputs": [
    {
     "data": {
      "application/vnd.deepnote.dataframe.v2+json": {
       "column_count": 5,
       "columns": [
        {
         "dtype": "int64",
         "name": "year",
         "stats": {
          "histogram": [
           {
            "bin_end": 1999.6,
            "bin_start": 1999.5,
            "count": 0
           },
           {
            "bin_end": 1999.7,
            "bin_start": 1999.6,
            "count": 0
           },
           {
            "bin_end": 1999.8,
            "bin_start": 1999.7,
            "count": 0
           },
           {
            "bin_end": 1999.9,
            "bin_start": 1999.8,
            "count": 0
           },
           {
            "bin_end": 2000,
            "bin_start": 1999.9,
            "count": 0
           },
           {
            "bin_end": 2000.1,
            "bin_start": 2000,
            "count": 5
           },
           {
            "bin_end": 2000.2,
            "bin_start": 2000.1,
            "count": 0
           },
           {
            "bin_end": 2000.3,
            "bin_start": 2000.2,
            "count": 0
           },
           {
            "bin_end": 2000.4,
            "bin_start": 2000.3,
            "count": 0
           },
           {
            "bin_end": 2000.5,
            "bin_start": 2000.4,
            "count": 0
           }
          ],
          "max": "2000",
          "min": "2000",
          "nan_count": 0,
          "unique_count": 1
         }
        },
        {
         "dtype": "object",
         "name": "artist",
         "stats": {
          "categories": [
           {
            "count": 2,
            "name": "3 Doors Down"
           },
           {
            "count": 1,
            "name": "2 Pac"
           },
           {
            "count": 2,
            "name": "2 others"
           }
          ],
          "nan_count": 0,
          "unique_count": 4
         }
        },
        {
         "dtype": "object",
         "name": "track",
         "stats": {
          "categories": [
           {
            "count": 1,
            "name": "Baby Don't Cry (Keep..."
           },
           {
            "count": 1,
            "name": "The Hardest Part Of ..."
           },
           {
            "count": 3,
            "name": "3 others"
           }
          ],
          "nan_count": 0,
          "unique_count": 5
         }
        },
        {
         "dtype": "object",
         "name": "time",
         "stats": {
          "categories": [
           {
            "count": 1,
            "name": "4:22"
           },
           {
            "count": 1,
            "name": "3:15"
           },
           {
            "count": 3,
            "name": "3 others"
           }
          ],
          "nan_count": 0,
          "unique_count": 5
         }
        },
        {
         "dtype": "int64",
         "name": "id",
         "stats": {
          "histogram": [
           {
            "bin_end": 0.4,
            "bin_start": 0,
            "count": 1
           },
           {
            "bin_end": 0.8,
            "bin_start": 0.4,
            "count": 0
           },
           {
            "bin_end": 1.2000000000000002,
            "bin_start": 0.8,
            "count": 1
           },
           {
            "bin_end": 1.6,
            "bin_start": 1.2000000000000002,
            "count": 0
           },
           {
            "bin_end": 2,
            "bin_start": 1.6,
            "count": 0
           },
           {
            "bin_end": 2.4000000000000004,
            "bin_start": 2,
            "count": 1
           },
           {
            "bin_end": 2.8000000000000003,
            "bin_start": 2.4000000000000004,
            "count": 0
           },
           {
            "bin_end": 3.2,
            "bin_start": 2.8000000000000003,
            "count": 1
           },
           {
            "bin_end": 3.6,
            "bin_start": 3.2,
            "count": 0
           },
           {
            "bin_end": 4,
            "bin_start": 3.6,
            "count": 1
           }
          ],
          "max": "4",
          "min": "0",
          "nan_count": 0,
          "unique_count": 5
         }
        },
        {
         "dtype": "int64",
         "name": "_deepnote_index_column"
        }
       ],
       "row_count": 5,
       "rows_bottom": null,
       "rows_top": [
        {
         "_deepnote_index_column": 0,
         "artist": "2 Pac",
         "id": 0,
         "time": "4:22",
         "track": "Baby Don't Cry (Keep...",
         "year": 2000
        },
        {
         "_deepnote_index_column": 1,
         "artist": "2Ge+her",
         "id": 1,
         "time": "3:15",
         "track": "The Hardest Part Of ...",
         "year": 2000
        },
        {
         "_deepnote_index_column": 2,
         "artist": "3 Doors Down",
         "id": 2,
         "time": "3:53",
         "track": "Kryptonite",
         "year": 2000
        },
        {
         "_deepnote_index_column": 3,
         "artist": "3 Doors Down",
         "id": 3,
         "time": "4:24",
         "track": "Loser",
         "year": 2000
        },
        {
         "_deepnote_index_column": 4,
         "artist": "504 Boyz",
         "id": 4,
         "time": "3:35",
         "track": "Wobble Wobble",
         "year": 2000
        }
       ]
      },
      "text/html": "<div>\n<style scoped>\n    .dataframe tbody tr th:only-of-type {\n        vertical-align: middle;\n    }\n\n    .dataframe tbody tr th {\n        vertical-align: top;\n    }\n\n    .dataframe thead th {\n        text-align: right;\n    }\n</style>\n<table border=\"1\" class=\"dataframe\">\n  <thead>\n    <tr style=\"text-align: right;\">\n      <th></th>\n      <th>year</th>\n      <th>artist</th>\n      <th>track</th>\n      <th>time</th>\n      <th>id</th>\n    </tr>\n  </thead>\n  <tbody>\n    <tr>\n      <th>0</th>\n      <td>2000</td>\n      <td>2 Pac</td>\n      <td>Baby Don't Cry (Keep...</td>\n      <td>4:22</td>\n      <td>0</td>\n    </tr>\n    <tr>\n      <th>1</th>\n      <td>2000</td>\n      <td>2Ge+her</td>\n      <td>The Hardest Part Of ...</td>\n      <td>3:15</td>\n      <td>1</td>\n    </tr>\n    <tr>\n      <th>2</th>\n      <td>2000</td>\n      <td>3 Doors Down</td>\n      <td>Kryptonite</td>\n      <td>3:53</td>\n      <td>2</td>\n    </tr>\n    <tr>\n      <th>3</th>\n      <td>2000</td>\n      <td>3 Doors Down</td>\n      <td>Loser</td>\n      <td>4:24</td>\n      <td>3</td>\n    </tr>\n    <tr>\n      <th>4</th>\n      <td>2000</td>\n      <td>504 Boyz</td>\n      <td>Wobble Wobble</td>\n      <td>3:35</td>\n      <td>4</td>\n    </tr>\n  </tbody>\n</table>\n</div>",
      "text/plain": "   year        artist                    track  time  id\n0  2000         2 Pac  Baby Don't Cry (Keep...  4:22   0\n1  2000       2Ge+her  The Hardest Part Of ...  3:15   1\n2  2000  3 Doors Down               Kryptonite  3:53   2\n3  2000  3 Doors Down                    Loser  4:24   3\n4  2000      504 Boyz            Wobble Wobble  3:35   4"
     },
     "execution_count": 50,
     "metadata": {},
     "output_type": "execute_result"
    }
   ]
  },
  {
   "cell_type": "code",
   "metadata": {
    "deepnote_to_be_reexecuted": false,
    "execution_millis": 11,
    "execution_start": 1620084751071,
    "source_hash": "6ed35393",
    "cell_id": "00073-0163008d-73f7-4874-bec8-eb9f40f4729a",
    "deepnote_cell_type": "code"
   },
   "source": "billboard_songs.to_csv('billboard_songs.csv', index=False)",
   "execution_count": null,
   "outputs": []
  },
  {
   "cell_type": "code",
   "metadata": {
    "deepnote_to_be_reexecuted": false,
    "execution_millis": 35,
    "execution_start": 1620084776126,
    "source_hash": "b76547c2",
    "cell_id": "00074-3d982d28-98d4-4d05-96ce-1191cf45393a",
    "deepnote_cell_type": "code"
   },
   "source": "billboard_ratings = billboard_melt.merge(\n    billboard_songs, on=['year', 'artist', 'track', 'time']\n)",
   "execution_count": null,
   "outputs": []
  },
  {
   "cell_type": "code",
   "metadata": {
    "deepnote_to_be_reexecuted": false,
    "execution_millis": 7,
    "execution_start": 1620084854138,
    "source_hash": "1d92aece",
    "cell_id": "00075-54f70a9e-f6f0-46d5-83ae-dcc0643c53cf",
    "deepnote_cell_type": "code"
   },
   "source": "billboard_ratings.head()",
   "execution_count": null,
   "outputs": [
    {
     "data": {
      "application/vnd.deepnote.dataframe.v2+json": {
       "column_count": 8,
       "columns": [
        {
         "dtype": "int64",
         "name": "year",
         "stats": {
          "histogram": [
           {
            "bin_end": 1999.6,
            "bin_start": 1999.5,
            "count": 0
           },
           {
            "bin_end": 1999.7,
            "bin_start": 1999.6,
            "count": 0
           },
           {
            "bin_end": 1999.8,
            "bin_start": 1999.7,
            "count": 0
           },
           {
            "bin_end": 1999.9,
            "bin_start": 1999.8,
            "count": 0
           },
           {
            "bin_end": 2000,
            "bin_start": 1999.9,
            "count": 0
           },
           {
            "bin_end": 2000.1,
            "bin_start": 2000,
            "count": 5
           },
           {
            "bin_end": 2000.2,
            "bin_start": 2000.1,
            "count": 0
           },
           {
            "bin_end": 2000.3,
            "bin_start": 2000.2,
            "count": 0
           },
           {
            "bin_end": 2000.4,
            "bin_start": 2000.3,
            "count": 0
           },
           {
            "bin_end": 2000.5,
            "bin_start": 2000.4,
            "count": 0
           }
          ],
          "max": "2000",
          "min": "2000",
          "nan_count": 0,
          "unique_count": 1
         }
        },
        {
         "dtype": "object",
         "name": "artist",
         "stats": {
          "categories": [
           {
            "count": 5,
            "name": "2 Pac"
           }
          ],
          "nan_count": 0,
          "unique_count": 1
         }
        },
        {
         "dtype": "object",
         "name": "track",
         "stats": {
          "categories": [
           {
            "count": 5,
            "name": "Baby Don't Cry (Keep..."
           }
          ],
          "nan_count": 0,
          "unique_count": 1
         }
        },
        {
         "dtype": "object",
         "name": "time",
         "stats": {
          "categories": [
           {
            "count": 5,
            "name": "4:22"
           }
          ],
          "nan_count": 0,
          "unique_count": 1
         }
        },
        {
         "dtype": "object",
         "name": "date.entered",
         "stats": {
          "categories": [
           {
            "count": 5,
            "name": "2000-02-26"
           }
          ],
          "nan_count": 0,
          "unique_count": 1
         }
        },
        {
         "dtype": "object",
         "name": "week",
         "stats": {
          "categories": [
           {
            "count": 1,
            "name": "wk1"
           },
           {
            "count": 1,
            "name": "wk2"
           },
           {
            "count": 3,
            "name": "3 others"
           }
          ],
          "nan_count": 0,
          "unique_count": 5
         }
        },
        {
         "dtype": "float64",
         "name": "rating",
         "stats": {
          "histogram": [
           {
            "bin_end": 73.5,
            "bin_start": 72,
            "count": 1
           },
           {
            "bin_end": 75,
            "bin_start": 73.5,
            "count": 0
           },
           {
            "bin_end": 76.5,
            "bin_start": 75,
            "count": 0
           },
           {
            "bin_end": 78,
            "bin_start": 76.5,
            "count": 1
           },
           {
            "bin_end": 79.5,
            "bin_start": 78,
            "count": 0
           },
           {
            "bin_end": 81,
            "bin_start": 79.5,
            "count": 0
           },
           {
            "bin_end": 82.5,
            "bin_start": 81,
            "count": 1
           },
           {
            "bin_end": 84,
            "bin_start": 82.5,
            "count": 0
           },
           {
            "bin_end": 85.5,
            "bin_start": 84,
            "count": 0
           },
           {
            "bin_end": 87,
            "bin_start": 85.5,
            "count": 2
           }
          ],
          "max": "87.0",
          "min": "72.0",
          "nan_count": 0,
          "unique_count": 4
         }
        },
        {
         "dtype": "int64",
         "name": "id",
         "stats": {
          "histogram": [
           {
            "bin_end": -0.4,
            "bin_start": -0.5,
            "count": 0
           },
           {
            "bin_end": -0.3,
            "bin_start": -0.4,
            "count": 0
           },
           {
            "bin_end": -0.19999999999999996,
            "bin_start": -0.3,
            "count": 0
           },
           {
            "bin_end": -0.09999999999999998,
            "bin_start": -0.19999999999999996,
            "count": 0
           },
           {
            "bin_end": 0,
            "bin_start": -0.09999999999999998,
            "count": 0
           },
           {
            "bin_end": 0.10000000000000009,
            "bin_start": 0,
            "count": 5
           },
           {
            "bin_end": 0.20000000000000007,
            "bin_start": 0.10000000000000009,
            "count": 0
           },
           {
            "bin_end": 0.30000000000000004,
            "bin_start": 0.20000000000000007,
            "count": 0
           },
           {
            "bin_end": 0.4,
            "bin_start": 0.30000000000000004,
            "count": 0
           },
           {
            "bin_end": 0.5,
            "bin_start": 0.4,
            "count": 0
           }
          ],
          "max": "0",
          "min": "0",
          "nan_count": 0,
          "unique_count": 1
         }
        },
        {
         "dtype": "int64",
         "name": "_deepnote_index_column"
        }
       ],
       "row_count": 5,
       "rows_bottom": null,
       "rows_top": [
        {
         "_deepnote_index_column": 0,
         "artist": "2 Pac",
         "date.entered": "2000-02-26",
         "id": 0,
         "rating": 87,
         "time": "4:22",
         "track": "Baby Don't Cry (Keep...",
         "week": "wk1",
         "year": 2000
        },
        {
         "_deepnote_index_column": 1,
         "artist": "2 Pac",
         "date.entered": "2000-02-26",
         "id": 0,
         "rating": 82,
         "time": "4:22",
         "track": "Baby Don't Cry (Keep...",
         "week": "wk2",
         "year": 2000
        },
        {
         "_deepnote_index_column": 2,
         "artist": "2 Pac",
         "date.entered": "2000-02-26",
         "id": 0,
         "rating": 72,
         "time": "4:22",
         "track": "Baby Don't Cry (Keep...",
         "week": "wk3",
         "year": 2000
        },
        {
         "_deepnote_index_column": 3,
         "artist": "2 Pac",
         "date.entered": "2000-02-26",
         "id": 0,
         "rating": 77,
         "time": "4:22",
         "track": "Baby Don't Cry (Keep...",
         "week": "wk4",
         "year": 2000
        },
        {
         "_deepnote_index_column": 4,
         "artist": "2 Pac",
         "date.entered": "2000-02-26",
         "id": 0,
         "rating": 87,
         "time": "4:22",
         "track": "Baby Don't Cry (Keep...",
         "week": "wk5",
         "year": 2000
        }
       ]
      },
      "text/html": "<div>\n<style scoped>\n    .dataframe tbody tr th:only-of-type {\n        vertical-align: middle;\n    }\n\n    .dataframe tbody tr th {\n        vertical-align: top;\n    }\n\n    .dataframe thead th {\n        text-align: right;\n    }\n</style>\n<table border=\"1\" class=\"dataframe\">\n  <thead>\n    <tr style=\"text-align: right;\">\n      <th></th>\n      <th>year</th>\n      <th>artist</th>\n      <th>track</th>\n      <th>time</th>\n      <th>date.entered</th>\n      <th>week</th>\n      <th>rating</th>\n      <th>id</th>\n    </tr>\n  </thead>\n  <tbody>\n    <tr>\n      <th>0</th>\n      <td>2000</td>\n      <td>2 Pac</td>\n      <td>Baby Don't Cry (Keep...</td>\n      <td>4:22</td>\n      <td>2000-02-26</td>\n      <td>wk1</td>\n      <td>87.0</td>\n      <td>0</td>\n    </tr>\n    <tr>\n      <th>1</th>\n      <td>2000</td>\n      <td>2 Pac</td>\n      <td>Baby Don't Cry (Keep...</td>\n      <td>4:22</td>\n      <td>2000-02-26</td>\n      <td>wk2</td>\n      <td>82.0</td>\n      <td>0</td>\n    </tr>\n    <tr>\n      <th>2</th>\n      <td>2000</td>\n      <td>2 Pac</td>\n      <td>Baby Don't Cry (Keep...</td>\n      <td>4:22</td>\n      <td>2000-02-26</td>\n      <td>wk3</td>\n      <td>72.0</td>\n      <td>0</td>\n    </tr>\n    <tr>\n      <th>3</th>\n      <td>2000</td>\n      <td>2 Pac</td>\n      <td>Baby Don't Cry (Keep...</td>\n      <td>4:22</td>\n      <td>2000-02-26</td>\n      <td>wk4</td>\n      <td>77.0</td>\n      <td>0</td>\n    </tr>\n    <tr>\n      <th>4</th>\n      <td>2000</td>\n      <td>2 Pac</td>\n      <td>Baby Don't Cry (Keep...</td>\n      <td>4:22</td>\n      <td>2000-02-26</td>\n      <td>wk5</td>\n      <td>87.0</td>\n      <td>0</td>\n    </tr>\n  </tbody>\n</table>\n</div>",
      "text/plain": "   year artist                    track  time date.entered week  rating  id\n0  2000  2 Pac  Baby Don't Cry (Keep...  4:22   2000-02-26  wk1    87.0   0\n1  2000  2 Pac  Baby Don't Cry (Keep...  4:22   2000-02-26  wk2    82.0   0\n2  2000  2 Pac  Baby Don't Cry (Keep...  4:22   2000-02-26  wk3    72.0   0\n3  2000  2 Pac  Baby Don't Cry (Keep...  4:22   2000-02-26  wk4    77.0   0\n4  2000  2 Pac  Baby Don't Cry (Keep...  4:22   2000-02-26  wk5    87.0   0"
     },
     "execution_count": 53,
     "metadata": {},
     "output_type": "execute_result"
    }
   ]
  },
  {
   "cell_type": "code",
   "metadata": {
    "deepnote_to_be_reexecuted": false,
    "execution_millis": 20,
    "execution_start": 1620084858169,
    "source_hash": "ebc44506",
    "cell_id": "00076-820588be-7e8b-4595-b8e2-774753770c94",
    "deepnote_cell_type": "code"
   },
   "source": "billboard_ratings = billboard_ratings[['id', 'date.entered', 'week', 'rating']]",
   "execution_count": null,
   "outputs": []
  },
  {
   "cell_type": "code",
   "metadata": {
    "deepnote_to_be_reexecuted": false,
    "execution_millis": 50,
    "execution_start": 1620084883067,
    "source_hash": "461578f1",
    "cell_id": "00077-ae06eb3d-430e-4f07-bfd5-b1401f8cc1a9",
    "deepnote_cell_type": "code"
   },
   "source": "billboard_ratings.to_csv('billboard_ratings.csv', index=False)",
   "execution_count": null,
   "outputs": []
  },
  {
   "cell_type": "code",
   "metadata": {
    "deepnote_to_be_reexecuted": false,
    "execution_millis": 20,
    "execution_start": 1620084887027,
    "source_hash": "5ebdbb98",
    "cell_id": "00078-f4ee7714-8abb-4907-b482-d3e4c06caf0b",
    "deepnote_cell_type": "code"
   },
   "source": "billboard_ratings.info()",
   "execution_count": null,
   "outputs": [
    {
     "name": "stdout",
     "output_type": "stream",
     "text": "<class 'pandas.core.frame.DataFrame'>\nInt64Index: 24092 entries, 0 to 24091\nData columns (total 4 columns):\n #   Column        Non-Null Count  Dtype  \n---  ------        --------------  -----  \n 0   id            24092 non-null  int64  \n 1   date.entered  24092 non-null  object \n 2   week          24092 non-null  object \n 3   rating        5307 non-null   float64\ndtypes: float64(1), int64(1), object(2)\nmemory usage: 941.1+ KB\n"
    }
   ]
  },
  {
   "cell_type": "code",
   "metadata": {
    "deepnote_to_be_reexecuted": false,
    "execution_millis": 19,
    "execution_start": 1620084896364,
    "source_hash": "d94fcda9",
    "cell_id": "00079-8d4ecb58-be0b-4741-a65a-66e4515e7fe1",
    "deepnote_cell_type": "code"
   },
   "source": "billboard_songs.info()",
   "execution_count": null,
   "outputs": [
    {
     "name": "stdout",
     "output_type": "stream",
     "text": "<class 'pandas.core.frame.DataFrame'>\nInt64Index: 317 entries, 0 to 316\nData columns (total 5 columns):\n #   Column  Non-Null Count  Dtype \n---  ------  --------------  ----- \n 0   year    317 non-null    int64 \n 1   artist  317 non-null    object\n 2   track   317 non-null    object\n 3   time    317 non-null    object\n 4   id      317 non-null    int64 \ndtypes: int64(2), object(3)\nmemory usage: 14.9+ KB\n"
    }
   ]
  },
  {
   "cell_type": "code",
   "metadata": {
    "deepnote_to_be_reexecuted": false,
    "execution_millis": 13,
    "execution_start": 1620084914274,
    "source_hash": "b6c262a3",
    "cell_id": "00080-abb93d62-afff-485c-aa7e-6567e363b054",
    "deepnote_cell_type": "code"
   },
   "source": "billboard_melt.info()",
   "execution_count": null,
   "outputs": [
    {
     "name": "stdout",
     "output_type": "stream",
     "text": "<class 'pandas.core.frame.DataFrame'>\nRangeIndex: 24092 entries, 0 to 24091\nData columns (total 7 columns):\n #   Column        Non-Null Count  Dtype  \n---  ------        --------------  -----  \n 0   year          24092 non-null  int64  \n 1   artist        24092 non-null  object \n 2   track         24092 non-null  object \n 3   time          24092 non-null  object \n 4   date.entered  24092 non-null  object \n 5   week          24092 non-null  object \n 6   rating        5307 non-null   float64\ndtypes: float64(1), int64(1), object(5)\nmemory usage: 1.3+ MB\n"
    }
   ]
  },
  {
   "cell_type": "markdown",
   "metadata": {
    "cell_id": "00084-a636348a-f24d-444a-bd08-8b72588a19a2",
    "deepnote_cell_type": "markdown"
   },
   "source": "# My Thoughts and the things I've learned\n\n\n### Most important take away-\n\nWhat I thought was the most important was the conceptual ideas presented in the Tidy Data paper: http://vita.had.co.nz/papers/tidy-data.pdf\n\nIt is a fascinating read. I especially liked how the ideas lain out by Hadley are presented by Chen in the video, step-by-step.\n\n### Things I learned through writing code-\n\nI am fortunate that having gone throught DATA 690 with Dr. Wang, much of what was covered in the video, I had already had exposure to via the various assignments we did throuhout the course. \n\nBut, I was excited to find out how much more there is to learn, still. \n\nBuilding on the foundational work it was exciting to see how messy data sets could be reworked to present the information in a concise way. \n\nSo it wasn't as much as I learned more about Python. Rather, it's that I came to understand it more deeply. There were somethings introduced like **.melt()** and **piviot_table**. But, on the whole it was exciting watching Chen masterfully manipulate the datasets. ",
   "execution_count": null
  },
  {
   "cell_type": "markdown",
   "source": "<a style='text-decoration:none;line-height:16px;display:flex;color:#5B5B62;padding:10px;justify-content:end;' href='https://deepnote.com?utm_source=created-in-deepnote-cell&projectId=0aee4006-0af7-4619-8637-ef17c840cb78' target=\"_blank\">\n<img alt='Created in deepnote.com' style='display:inline;max-height:16px;margin:0px;margin-right:7.5px;' src='data:image/svg+xml;base64,PD94bWwgdmVyc2lvbj0iMS4wIiBlbmNvZGluZz0iVVRGLTgiPz4KPHN2ZyB3aWR0aD0iODBweCIgaGVpZ2h0PSI4MHB4IiB2aWV3Qm94PSIwIDAgODAgODAiIHZlcnNpb249IjEuMSIgeG1sbnM9Imh0dHA6Ly93d3cudzMub3JnLzIwMDAvc3ZnIiB4bWxuczp4bGluaz0iaHR0cDovL3d3dy53My5vcmcvMTk5OS94bGluayI+CiAgICA8IS0tIEdlbmVyYXRvcjogU2tldGNoIDU0LjEgKDc2NDkwKSAtIGh0dHBzOi8vc2tldGNoYXBwLmNvbSAtLT4KICAgIDx0aXRsZT5Hcm91cCAzPC90aXRsZT4KICAgIDxkZXNjPkNyZWF0ZWQgd2l0aCBTa2V0Y2guPC9kZXNjPgogICAgPGcgaWQ9IkxhbmRpbmciIHN0cm9rZT0ibm9uZSIgc3Ryb2tlLXdpZHRoPSIxIiBmaWxsPSJub25lIiBmaWxsLXJ1bGU9ImV2ZW5vZGQiPgogICAgICAgIDxnIGlkPSJBcnRib2FyZCIgdHJhbnNmb3JtPSJ0cmFuc2xhdGUoLTEyMzUuMDAwMDAwLCAtNzkuMDAwMDAwKSI+CiAgICAgICAgICAgIDxnIGlkPSJHcm91cC0zIiB0cmFuc2Zvcm09InRyYW5zbGF0ZSgxMjM1LjAwMDAwMCwgNzkuMDAwMDAwKSI+CiAgICAgICAgICAgICAgICA8cG9seWdvbiBpZD0iUGF0aC0yMCIgZmlsbD0iIzAyNjVCNCIgcG9pbnRzPSIyLjM3NjIzNzYyIDgwIDM4LjA0NzY2NjcgODAgNTcuODIxNzgyMiA3My44MDU3NTkyIDU3LjgyMTc4MjIgMzIuNzU5MjczOSAzOS4xNDAyMjc4IDMxLjY4MzE2ODMiPjwvcG9seWdvbj4KICAgICAgICAgICAgICAgIDxwYXRoIGQ9Ik0zNS4wMDc3MTgsODAgQzQyLjkwNjIwMDcsNzYuNDU0OTM1OCA0Ny41NjQ5MTY3LDcxLjU0MjI2NzEgNDguOTgzODY2LDY1LjI2MTk5MzkgQzUxLjExMjI4OTksNTUuODQxNTg0MiA0MS42NzcxNzk1LDQ5LjIxMjIyODQgMjUuNjIzOTg0Niw0OS4yMTIyMjg0IEMyNS40ODQ5Mjg5LDQ5LjEyNjg0NDggMjkuODI2MTI5Niw0My4yODM4MjQ4IDM4LjY0NzU4NjksMzEuNjgzMTY4MyBMNzIuODcxMjg3MSwzMi41NTQ0MjUgTDY1LjI4MDk3Myw2Ny42NzYzNDIxIEw1MS4xMTIyODk5LDc3LjM3NjE0NCBMMzUuMDA3NzE4LDgwIFoiIGlkPSJQYXRoLTIyIiBmaWxsPSIjMDAyODY4Ij48L3BhdGg+CiAgICAgICAgICAgICAgICA8cGF0aCBkPSJNMCwzNy43MzA0NDA1IEwyNy4xMTQ1MzcsMC4yNTcxMTE0MzYgQzYyLjM3MTUxMjMsLTEuOTkwNzE3MDEgODAsMTAuNTAwMzkyNyA4MCwzNy43MzA0NDA1IEM4MCw2NC45NjA0ODgyIDY0Ljc3NjUwMzgsNzkuMDUwMzQxNCAzNC4zMjk1MTEzLDgwIEM0Ny4wNTUzNDg5LDc3LjU2NzA4MDggNTMuNDE4MjY3Nyw3MC4zMTM2MTAzIDUzLjQxODI2NzcsNTguMjM5NTg4NSBDNTMuNDE4MjY3Nyw0MC4xMjg1NTU3IDM2LjMwMzk1NDQsMzcuNzMwNDQwNSAyNS4yMjc0MTcsMzcuNzMwNDQwNSBDMTcuODQzMDU4NiwzNy43MzA0NDA1IDkuNDMzOTE5NjYsMzcuNzMwNDQwNSAwLDM3LjczMDQ0MDUgWiIgaWQ9IlBhdGgtMTkiIGZpbGw9IiMzNzkzRUYiPjwvcGF0aD4KICAgICAgICAgICAgPC9nPgogICAgICAgIDwvZz4KICAgIDwvZz4KPC9zdmc+' > </img>\nCreated in <span style='font-weight:600;margin-left:4px;'>Deepnote</span></a>",
   "metadata": {
    "tags": [],
    "created_in_deepnote_cell": true,
    "deepnote_cell_type": "markdown"
   }
  }
 ],
 "nbformat": 4,
 "nbformat_minor": 2,
 "metadata": {
  "deepnote": {},
  "deepnote_execution_queue": [],
  "deepnote_notebook_id": "5b3dbf76-8e81-4810-ba49-6e0c6c22c8d7",
  "kernelspec": {
   "display_name": "Python 3",
   "language": "python",
   "name": "python3"
  },
  "language_info": {
   "codemirror_mode": {
    "name": "ipython",
    "version": 3
   },
   "file_extension": ".py",
   "mimetype": "text/x-python",
   "name": "python",
   "nbconvert_exporter": "python",
   "pygments_lexer": "ipython3",
   "version": "3.6.6"
  }
 }
}