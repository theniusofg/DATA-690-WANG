{
  "cells": [
    {
      "cell_type": "markdown",
      "source": "# Assignment 04\n\n## Scrub-a-dub-dub: Data Cleansing\n\n- We will take a file open it.\n- Clean the relevent data.\n- Recompile all the data.\n- And lastly, write our newly cleansed data to a new file.\n",
      "metadata": {
        "tags": [],
        "cell_id": "00000-f683aedd-b8d9-4c56-8cea-f7f13e22253d",
        "deepnote_cell_type": "markdown"
      }
    },
    {
      "cell_type": "markdown",
      "source": "#### Imported Libraries:\nI'm going to be using regex to parse the data and remove anything that is not a number or a decimal point.\n\n\n#### The Functions:\n** mknumstr(a_str) **  parses a string and removes any undesireable character and returns the cleansed string\n\n** is_billion(a_str) ** checks string for 'Billion' returns a boolean value \n\n** is_cents(a_str) ** checks string for 'cents' returns a boolean value \n\n** prep_data(a_str) ** finally adding it all together, this functions applies the appropriate mathematical calculations for each string that is passed through returns string\n",
      "metadata": {
        "tags": [],
        "cell_id": "00001-f27a0712-fb27-4397-a706-e70af1f65469",
        "deepnote_cell_type": "markdown"
      }
    },
    {
      "cell_type": "code",
      "metadata": {
        "tags": [],
        "cell_id": "00000-1e52fec4-b1e4-4eab-97a4-1dc45598e1ca",
        "deepnote_to_be_reexecuted": false,
        "source_hash": "c0917dba",
        "execution_millis": 0,
        "execution_start": 1614567101841,
        "deepnote_cell_type": "code"
      },
      "source": "import re\n\ndef mknumstr(a_str):\n  return re.sub('[^0-9\\.]', '', a_str)\n\ndef is_billion(a_str):\n  return False if a_str.find('Billion') == -1 else True\n\ndef is_cents(a_str):\n    return False if a_str.find('cents') == -1 else True\n\n\ndef prep_data(a_str):\n  if (is_billion(a_str)):\n    return str(int(float(mknumstr(a_str))*10e8))\n  elif (is_cents(a_str)):\n    return str(round(float(mknumstr(a_str))/100, 4))\n  else:\n    return mknumstr(a_str)",
      "execution_count": null,
      "outputs": []
    },
    {
      "cell_type": "markdown",
      "source": "### Start the Cleaning Process\n1. Write code to open the text file census_cost.txt and read all lines into a list named \"line_list\". Print line_list.\n",
      "metadata": {
        "tags": [],
        "cell_id": "00001-47c73145-1525-44de-9fc5-b4fec538f29a",
        "deepnote_cell_type": "markdown"
      }
    },
    {
      "cell_type": "code",
      "metadata": {
        "tags": [],
        "cell_id": "00000-1b079a92-80a5-4044-a953-833b0724d4c4",
        "deepnote_to_be_reexecuted": false,
        "source_hash": "5e1c5c91",
        "execution_millis": 23,
        "execution_start": 1614567101842,
        "deepnote_cell_type": "code"
      },
      "source": "# open file and push contents to working variable 'line_list'\nwith open(\"census_cost.txt\", \"rt\") as f:\n  line_list = f.readlines()\n\nprint (line_list)",
      "execution_count": null,
      "outputs": [
        {
          "name": "stdout",
          "text": "['Source: https://www.genealogybranches.com/censuscosts.html\\n', 'Census Year\\tTotal Population\\tCensus Cost\\tAverage Cost Per Person\\n', '1790\\t3,929,214\\t$44,377\\t1.13 cents\\n', '1800\\t5,308,483\\t$66,109\\t1.24 cents\\n', '1810\\t7,239,881\\t$178,445\\t2.46 cents\\n', '1820\\t9,633,822\\t$208,526\\t2.16 cents\\n', '1830\\t12,866,020\\t$378,545\\t2.94 cents\\n', '1840\\t17,069,458\\t$833,371\\t4.88 cents\\n', '1850\\t23,191,876\\t$1,423,351\\t6.14 cents\\n', '1860\\t31,443,321\\t$1,969,377\\t6.26 cents\\n', '1870\\t38,558,371\\t$3,421,198\\t8.87 cents\\n', '1880\\t50,155,783\\t$5,790,678\\t11.54 cents\\n', '1890\\t62,979,766\\t$11,547,127\\t18.33 cents\\n', '1900\\t76,303,387\\t$11,854,000\\t15.54 cents\\n', '1910\\t91,972,266\\t$15,968,000\\t17.07 cents\\n', '1920\\t105,710,620\\t$25,117,000\\t23.76 cents\\n', '1930\\t122,775,046\\t$40,156,000\\t32.71 cents\\n', '1940\\t131,669,275\\t$67,527,000\\t51.29 cents\\n', '1950\\t151,325,798\\t$91,462,000\\t60.44 cents\\n', '1960\\t179,323,175\\t$127,934,000\\t71.34 cents\\n', '1970\\t203,302,031\\t$247,653,000\\t$1.22\\n', '1980\\t226,542,199\\t$1,078,488,000\\t$4.76\\n', '1990\\t248,718,301\\t$2,492,830,000\\t$10.02\\n', '2000\\t281,421,906\\t$4.5 Billion\\t$15.99\\n', '2010*\\t308,745,538\\t$13 Billion\\t$42.11\\n']\n",
          "output_type": "stream"
        }
      ]
    },
    {
      "cell_type": "markdown",
      "source": "### Extract Header\n\n2. Extract the first two lines and put them in a different list named \"top2_list\". You will need to use them later. Print the top2_list.\n\n(note: I converted the extracted header directly to a string for later use)\n",
      "metadata": {
        "tags": [],
        "cell_id": "00002-50dc31b9-73e7-495e-b6bb-bca29cbc9d5a",
        "deepnote_cell_type": "markdown"
      }
    },
    {
      "cell_type": "code",
      "metadata": {
        "tags": [],
        "cell_id": "00000-7e2f147a-6ceb-4d0a-8d24-b0d40d7cf856",
        "deepnote_to_be_reexecuted": false,
        "source_hash": "d24fa086",
        "execution_millis": 5,
        "execution_start": 1614567101860,
        "deepnote_cell_type": "code"
      },
      "source": "top2_list = ''.join([','.join(line.split('\\t')) for line in line_list[:2]]) # convert to  string here to avoid confusion when merging all data later \nprint(top2_list)",
      "execution_count": null,
      "outputs": [
        {
          "name": "stdout",
          "text": "Source: https://www.genealogybranches.com/censuscosts.html\nCensus Year,Total Population,Census Cost,Average Cost Per Person\n\n",
          "output_type": "stream"
        }
      ]
    },
    {
      "cell_type": "markdown",
      "source": "### Data Needs Cleaning List\n3. Put the rest of the lines (containing useful data elements) in a new list named \"data_list\". Print data_list.\n",
      "metadata": {
        "tags": [],
        "cell_id": "00003-8823c095-1030-4644-a157-f9e30c80aaa1",
        "deepnote_cell_type": "markdown"
      }
    },
    {
      "cell_type": "code",
      "metadata": {
        "tags": [],
        "cell_id": "00000-2eeb213a-764e-483b-b981-f0152e2e25c7",
        "deepnote_to_be_reexecuted": false,
        "source_hash": "e99516a",
        "execution_millis": 4,
        "execution_start": 1614567101861,
        "deepnote_cell_type": "code"
      },
      "source": "data_list = [line.split('\\t') for line in line_list[2:]] # split data by line in one step\n\nprint(data_list)",
      "execution_count": null,
      "outputs": [
        {
          "name": "stdout",
          "text": "[['1790', '3,929,214', '$44,377', '1.13 cents\\n'], ['1800', '5,308,483', '$66,109', '1.24 cents\\n'], ['1810', '7,239,881', '$178,445', '2.46 cents\\n'], ['1820', '9,633,822', '$208,526', '2.16 cents\\n'], ['1830', '12,866,020', '$378,545', '2.94 cents\\n'], ['1840', '17,069,458', '$833,371', '4.88 cents\\n'], ['1850', '23,191,876', '$1,423,351', '6.14 cents\\n'], ['1860', '31,443,321', '$1,969,377', '6.26 cents\\n'], ['1870', '38,558,371', '$3,421,198', '8.87 cents\\n'], ['1880', '50,155,783', '$5,790,678', '11.54 cents\\n'], ['1890', '62,979,766', '$11,547,127', '18.33 cents\\n'], ['1900', '76,303,387', '$11,854,000', '15.54 cents\\n'], ['1910', '91,972,266', '$15,968,000', '17.07 cents\\n'], ['1920', '105,710,620', '$25,117,000', '23.76 cents\\n'], ['1930', '122,775,046', '$40,156,000', '32.71 cents\\n'], ['1940', '131,669,275', '$67,527,000', '51.29 cents\\n'], ['1950', '151,325,798', '$91,462,000', '60.44 cents\\n'], ['1960', '179,323,175', '$127,934,000', '71.34 cents\\n'], ['1970', '203,302,031', '$247,653,000', '$1.22\\n'], ['1980', '226,542,199', '$1,078,488,000', '$4.76\\n'], ['1990', '248,718,301', '$2,492,830,000', '$10.02\\n'], ['2000', '281,421,906', '$4.5 Billion', '$15.99\\n'], ['2010*', '308,745,538', '$13 Billion', '$42.11\\n']]\n",
          "output_type": "stream"
        }
      ]
    },
    {
      "cell_type": "markdown",
      "source": "### Clean the Census Year Column\n\n4. Extract the column \"Census Year\" from data_list and assign them to a list named year_list. Remove the \"\" from the last element \"2010\". Print the cleansed year_list.\n",
      "metadata": {
        "tags": [],
        "cell_id": "00004-77fe21e8-78aa-412d-bc08-772135454a10",
        "deepnote_cell_type": "markdown"
      }
    },
    {
      "cell_type": "code",
      "metadata": {
        "tags": [],
        "cell_id": "00005-53d60922-7596-49c7-97f9-88e393ab3c6b",
        "deepnote_to_be_reexecuted": false,
        "source_hash": "4213a81d",
        "execution_millis": 7,
        "execution_start": 1614567101874,
        "deepnote_cell_type": "code"
      },
      "source": "year_list = [(prep_data(lst[0])) for lst in data_list]\nprint (year_list)",
      "execution_count": null,
      "outputs": [
        {
          "name": "stdout",
          "text": "['1790', '1800', '1810', '1820', '1830', '1840', '1850', '1860', '1870', '1880', '1890', '1900', '1910', '1920', '1930', '1940', '1950', '1960', '1970', '1980', '1990', '2000', '2010']\n",
          "output_type": "stream"
        }
      ]
    },
    {
      "cell_type": "markdown",
      "source": "### Clean the Total Population Column\n5. Extract the \"Total Population\" column from the data_list and assign them to a list named \"pop_list\". Remove the \",\" from the numbers since Python doesn't recognize them. Print the cleansed \"pop_list\".\n",
      "metadata": {
        "tags": [],
        "cell_id": "00005-1600f694-276b-4bd5-8d7b-ea20196c4521",
        "deepnote_cell_type": "markdown"
      }
    },
    {
      "cell_type": "code",
      "metadata": {
        "tags": [],
        "cell_id": "00006-73efbad1-61ca-4686-bac3-d60dab40d3de",
        "deepnote_to_be_reexecuted": false,
        "source_hash": "bf2d5584",
        "execution_millis": 6,
        "execution_start": 1614567101875,
        "deepnote_cell_type": "code"
      },
      "source": "pop_list = [(prep_data(lst[1])) for lst in data_list]\nprint (pop_list)",
      "execution_count": null,
      "outputs": [
        {
          "name": "stdout",
          "text": "['3929214', '5308483', '7239881', '9633822', '12866020', '17069458', '23191876', '31443321', '38558371', '50155783', '62979766', '76303387', '91972266', '105710620', '122775046', '131669275', '151325798', '179323175', '203302031', '226542199', '248718301', '281421906', '308745538']\n",
          "output_type": "stream"
        }
      ]
    },
    {
      "cell_type": "markdown",
      "source": "### Clean the Census Cost Column\n\n6. Extract the \"Census Cost\" column from the data_list and assign them to a list named \"cost_list\". Remove the \",\", and \"$\", and \"Billion\". Make sure to add the \"0\"s to the numbers from which you removed \"Billion\". Print the cleansed cost_list.\n",
      "metadata": {
        "tags": [],
        "cell_id": "00006-f83a2762-04bc-4a1e-b793-07993e6b073e",
        "deepnote_cell_type": "markdown"
      }
    },
    {
      "cell_type": "code",
      "metadata": {
        "tags": [],
        "cell_id": "00007-e9f76268-01da-4478-87c9-38e3c6d7ed1c",
        "deepnote_to_be_reexecuted": false,
        "source_hash": "8f43944f",
        "execution_millis": 19,
        "execution_start": 1614567101877,
        "deepnote_cell_type": "code"
      },
      "source": "cost_list = [(prep_data(lst[2])) for lst in data_list]\nprint (cost_list)",
      "execution_count": null,
      "outputs": [
        {
          "name": "stdout",
          "text": "['44377', '66109', '178445', '208526', '378545', '833371', '1423351', '1969377', '3421198', '5790678', '11547127', '11854000', '15968000', '25117000', '40156000', '67527000', '91462000', '127934000', '247653000', '1078488000', '2492830000', '4500000000', '13000000000']\n",
          "output_type": "stream"
        }
      ]
    },
    {
      "cell_type": "markdown",
      "source": "### Clean the Average Cost Column\n7. Extract the \"Average Cost per Person\" column from the data_list and assign them to a list named \"avg_list\". Remove the \"cents\", and \"$\". Make sure to divide the numbers in cents by 100 so that all numbers are measured in dollar. Print the cleansed avg_list.\n",
      "metadata": {
        "tags": [],
        "cell_id": "00007-f3dd397d-ddeb-4e33-9808-4b726e48eeeb",
        "deepnote_cell_type": "markdown"
      }
    },
    {
      "cell_type": "code",
      "metadata": {
        "tags": [],
        "cell_id": "00005-afec7a21-a324-4fcb-b7df-e5134d8aecf5",
        "deepnote_to_be_reexecuted": false,
        "source_hash": "2cb63682",
        "execution_millis": 6,
        "execution_start": 1614567101890,
        "deepnote_cell_type": "code"
      },
      "source": "avg_list = [(prep_data(lst[3])) for lst in data_list]\nprint (avg_list)",
      "execution_count": null,
      "outputs": [
        {
          "name": "stdout",
          "text": "['0.0113', '0.0124', '0.0246', '0.0216', '0.0294', '0.0488', '0.0614', '0.0626', '0.0887', '0.1154', '0.1833', '0.1554', '0.1707', '0.2376', '0.3271', '0.5129', '0.6044', '0.7134', '1.22', '4.76', '10.02', '15.99', '42.11']\n",
          "output_type": "stream"
        }
      ]
    },
    {
      "cell_type": "markdown",
      "source": "### Merge all our data and write to a CSV file\n8. Coalesce the cleansed data and save them to a text file named \"census_cost.csv\". The new file should look similar to the original source file except that it is in comma-delimited format and the numbers have been cleansed. The top two lines from the original file should be retained in the new file.\n",
      "metadata": {
        "tags": [],
        "cell_id": "00008-2d485b8d-e6e0-4add-8548-298660e26a42",
        "deepnote_cell_type": "markdown"
      }
    },
    {
      "cell_type": "code",
      "metadata": {
        "tags": [],
        "cell_id": "00009-54ec87dd-9cdf-406f-8e17-bf17701c513c",
        "deepnote_to_be_reexecuted": false,
        "source_hash": "8eee1d8",
        "execution_millis": 0,
        "execution_start": 1614567101891,
        "deepnote_cell_type": "code"
      },
      "source": "clean_data = '\\n'.join([','.join(list(x)) for x in zip(year_list, pop_list, cost_list, avg_list)])\n# print(clean_data)\n\nwith open('census_cost.csv', 'w') as f:\n    f.write(top2_list + clean_data)",
      "execution_count": null,
      "outputs": []
    },
    {
      "cell_type": "markdown",
      "source": "### Open our new file and view the results of our labor\n\n9. Open the newly-created file \"census_cost.csv\", read all lines and display them. How does it look?\n",
      "metadata": {
        "tags": [],
        "cell_id": "00009-5082a2da-4231-48bd-bdd2-e99f81aa100f",
        "deepnote_cell_type": "markdown"
      }
    },
    {
      "cell_type": "code",
      "metadata": {
        "tags": [],
        "cell_id": "00010-362a3e1c-cbf6-4dd5-b155-d48fc39ef116",
        "deepnote_to_be_reexecuted": false,
        "source_hash": "8a97a423",
        "execution_millis": 51,
        "execution_start": 1614567101892,
        "deepnote_cell_type": "code"
      },
      "source": "with open('census_cost.csv', 'r') as f:\n   content = f.read()\nprint (content)",
      "execution_count": null,
      "outputs": [
        {
          "name": "stdout",
          "text": "Source: https://www.genealogybranches.com/censuscosts.html\nCensus Year,Total Population,Census Cost,Average Cost Per Person\n1790,3929214,44377,0.0113\n1800,5308483,66109,0.0124\n1810,7239881,178445,0.0246\n1820,9633822,208526,0.0216\n1830,12866020,378545,0.0294\n1840,17069458,833371,0.0488\n1850,23191876,1423351,0.0614\n1860,31443321,1969377,0.0626\n1870,38558371,3421198,0.0887\n1880,50155783,5790678,0.1154\n1890,62979766,11547127,0.1833\n1900,76303387,11854000,0.1554\n1910,91972266,15968000,0.1707\n1920,105710620,25117000,0.2376\n1930,122775046,40156000,0.3271\n1940,131669275,67527000,0.5129\n1950,151325798,91462000,0.6044\n1960,179323175,127934000,0.7134\n1970,203302031,247653000,1.22\n1980,226542199,1078488000,4.76\n1990,248718301,2492830000,10.02\n2000,281421906,4500000000,15.99\n2010,308745538,13000000000,42.11\n",
          "output_type": "stream"
        }
      ]
    },
    {
      "cell_type": "markdown",
      "source": "# A One Liner, Anyone?\nWhat if we can do all the data cleansing in one line, without separating the data into individual columns.",
      "metadata": {
        "tags": [],
        "cell_id": "00010-a1450423-6674-4dea-8a84-126ed678e686",
        "deepnote_cell_type": "markdown"
      }
    },
    {
      "cell_type": "code",
      "metadata": {
        "tags": [],
        "cell_id": "00010-84ef1157-035c-41b7-bf51-c6c2ccb9413a",
        "deepnote_to_be_reexecuted": false,
        "source_hash": "9fa6a7b1",
        "execution_millis": 9,
        "execution_start": 1614567101934,
        "deepnote_cell_type": "code"
      },
      "source": "# A better way in my opinion, clean everything in one line list comprehension no need to separate into individual columns\n\nclean_data = '\\n'.join([','.join([(prep_data(a_str)) for a_str in lst]) for lst in data_list])\n\n\nprint (top2_list + clean_data)",
      "execution_count": null,
      "outputs": [
        {
          "name": "stdout",
          "text": "Source: https://www.genealogybranches.com/censuscosts.html\nCensus Year,Total Population,Census Cost,Average Cost Per Person\n1790,3929214,44377,0.0113\n1800,5308483,66109,0.0124\n1810,7239881,178445,0.0246\n1820,9633822,208526,0.0216\n1830,12866020,378545,0.0294\n1840,17069458,833371,0.0488\n1850,23191876,1423351,0.0614\n1860,31443321,1969377,0.0626\n1870,38558371,3421198,0.0887\n1880,50155783,5790678,0.1154\n1890,62979766,11547127,0.1833\n1900,76303387,11854000,0.1554\n1910,91972266,15968000,0.1707\n1920,105710620,25117000,0.2376\n1930,122775046,40156000,0.3271\n1940,131669275,67527000,0.5129\n1950,151325798,91462000,0.6044\n1960,179323175,127934000,0.7134\n1970,203302031,247653000,1.22\n1980,226542199,1078488000,4.76\n1990,248718301,2492830000,10.02\n2000,281421906,4500000000,15.99\n2010,308745538,13000000000,42.11\n",
          "output_type": "stream"
        }
      ]
    },
    {
      "cell_type": "markdown",
      "source": "<a style='text-decoration:none;line-height:16px;display:flex;color:#5B5B62;padding:10px;justify-content:end;' href='https://deepnote.com?utm_source=created-in-deepnote-cell&projectId=0aee4006-0af7-4619-8637-ef17c840cb78' target=\"_blank\">\n<img style='display:inline;max-height:16px;margin:0px;margin-right:7.5px;' src='data:image/svg+xml;base64,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' > </img>\nCreated in <span style='font-weight:600;margin-left:4px;'>Deepnote</span></a>",
      "metadata": {
        "tags": [],
        "created_in_deepnote_cell": true,
        "deepnote_cell_type": "markdown"
      }
    }
  ],
  "nbformat": 4,
  "nbformat_minor": 2,
  "metadata": {
    "orig_nbformat": 2,
    "deepnote_notebook_id": "6eca8185-bb78-4847-877c-2658ff0cafe1",
    "deepnote": {},
    "deepnote_execution_queue": []
  }
}