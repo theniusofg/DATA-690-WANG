{
  "cells": [
    {
      "cell_type": "markdown",
      "source": "<a href=\"https://colab.research.google.com/github/wcj365/python-stats-dataviz/blob/master/assignments/assignment_08.ipynb\" target=\"_parent\"><img src=\"https://colab.research.google.com/assets/colab-badge.svg\" alt=\"Open In Colab\"/></a>",
      "metadata": {
        "id": "view-in-github",
        "colab_type": "text",
        "cell_id": "00000-1cb99bfb-442b-4bc0-8ee8-6b7c24581ad0",
        "deepnote_cell_type": "markdown"
      }
    },
    {
      "cell_type": "markdown",
      "source": "# Assignment 8\nFor this assignment , we will use the college scorecard dataset. \n\n1. You are required to use deepnote.com\n2. You will upload the zip file (300 some MB) to deepnote or use Linux Terminal command line wget command.\n3. You will unzip the file using Linux Terminal unzip command.\n4. For visualization, you can use Matplotlib, Seaborn, or Plotly Express\n\n##### Note: This file was cloned from https://raw.githubusercontent.com/wcj365/python-stats-dataviz/master/assignments/assignment_08.ipynb\n\n",
      "metadata": {
        "id": "-2fQAV7J6oI1",
        "cell_id": "00001-5ec6c72a-4126-44cf-805f-03d427ed47f0",
        "deepnote_cell_type": "markdown"
      }
    },
    {
      "cell_type": "markdown",
      "metadata": {
        "id": "HpZckaJR6oI8",
        "cell_id": "00002-1622ade4-9fce-4eec-8bf3-fd61ebd9374a",
        "deepnote_cell_type": "markdown"
      },
      "source": "## 1 - Import necessary libraries\n",
      "execution_count": null
    },
    {
      "cell_type": "code",
      "source": "import os\nimport random\nimport pandas as pd\nimport plotly.express as px",
      "metadata": {
        "tags": [],
        "cell_id": "00003-013df874-97c3-4b24-b2d9-a70dd55cf211",
        "deepnote_to_be_reexecuted": false,
        "source_hash": "316ec3cc",
        "execution_millis": 189,
        "execution_start": 1618834892915,
        "deepnote_cell_type": "code"
      },
      "outputs": [],
      "execution_count": 1
    },
    {
      "cell_type": "markdown",
      "metadata": {
        "id": "6qafjqpb6oJC",
        "cell_id": "00003-566a4ca7-3dbe-4b13-abf4-e81f4f81fda9",
        "deepnote_cell_type": "markdown"
      },
      "source": "## 2 - Retrieve the names of the 23 files and assign them to a List variable\nYou would need to filter out other files\n\nDisplay the names of these 23 files\n\n",
      "execution_count": null
    },
    {
      "cell_type": "code",
      "source": "path = '/datasets/collegedata/'\ndir_data = os.listdir(path)\nfiles = [file for file in dir_data if \"MER\" in file]\nfiles",
      "metadata": {
        "tags": [],
        "cell_id": "00005-bde4f7d6-9ee0-4546-9b5a-9159a6d03491",
        "deepnote_to_be_reexecuted": false,
        "source_hash": "de20840c",
        "execution_millis": 102,
        "execution_start": 1618834893107,
        "deepnote_cell_type": "code"
      },
      "outputs": [
        {
          "output_type": "execute_result",
          "execution_count": 2,
          "data": {
            "text/plain": "['MERGED1996_97_PP.csv',\n 'MERGED1997_98_PP.csv',\n 'MERGED1998_99_PP.csv',\n 'MERGED1999_00_PP.csv',\n 'MERGED2000_01_PP.csv',\n 'MERGED2001_02_PP.csv',\n 'MERGED2002_03_PP.csv',\n 'MERGED2003_04_PP.csv',\n 'MERGED2004_05_PP.csv',\n 'MERGED2005_06_PP.csv',\n 'MERGED2006_07_PP.csv',\n 'MERGED2007_08_PP.csv',\n 'MERGED2008_09_PP.csv',\n 'MERGED2009_10_PP.csv',\n 'MERGED2010_11_PP.csv',\n 'MERGED2011_12_PP.csv',\n 'MERGED2012_13_PP.csv',\n 'MERGED2013_14_PP.csv',\n 'MERGED2014_15_PP.csv',\n 'MERGED2015_16_PP.csv',\n 'MERGED2016_17_PP.csv',\n 'MERGED2017_18_PP.csv',\n 'MERGED2018_19_PP.csv']"
          },
          "metadata": {}
        }
      ],
      "execution_count": 2
    },
    {
      "cell_type": "markdown",
      "metadata": {
        "id": "ft9Rn1lp6oJG",
        "cell_id": "00004-5bbf3d82-767e-4a0e-abbb-52e76def26ea",
        "deepnote_cell_type": "markdown"
      },
      "source": "## 3 - Write code to randomly select one file name out of the 23 files names. \nHint: generate a random integer between 0 and 22\n\nDisplay the file name\n\n",
      "execution_count": null
    },
    {
      "cell_type": "code",
      "source": "my_friend_randolph = random.randint(0,22)\nfilename = files[my_friend_randolph]\nfilename",
      "metadata": {
        "tags": [],
        "cell_id": "00007-aec9d4ff-1bb0-4618-b896-c4a74ed18125",
        "deepnote_to_be_reexecuted": false,
        "source_hash": "e2f2e590",
        "execution_millis": 11,
        "execution_start": 1618835204932,
        "deepnote_cell_type": "code"
      },
      "outputs": [
        {
          "output_type": "execute_result",
          "execution_count": 18,
          "data": {
            "text/plain": "'MERGED2011_12_PP.csv'"
          },
          "metadata": {}
        }
      ],
      "execution_count": 18
    },
    {
      "cell_type": "markdown",
      "metadata": {
        "id": "DJy1hmWM6oJN",
        "cell_id": "00005-dbbaf25f-e3b5-4282-bda2-262d921cbfe6",
        "deepnote_to_be_reexecuted": true,
        "source_hash": "db87a513",
        "deepnote_cell_type": "markdown"
      },
      "source": "## 4 - Only read the two columns: \n\ncollege name (INSTNM) and in state tution (\"TUITIONFEE_IN\") from this file into a data frame and display  info() function to display a summary information\n",
      "execution_count": null
    },
    {
      "cell_type": "code",
      "source": "df_raw = pd.read_csv(path+filename, usecols= ['INSTNM', \"TUITIONFEE_IN\"])\ndf.info()",
      "metadata": {
        "tags": [],
        "cell_id": "00009-42dba585-2ebe-4d7a-b4f5-141ed3c47eb6",
        "deepnote_to_be_reexecuted": false,
        "source_hash": "4af5b702",
        "execution_millis": 967,
        "execution_start": 1618838048898,
        "deepnote_cell_type": "code"
      },
      "outputs": [
        {
          "name": "stdout",
          "text": "<class 'pandas.core.frame.DataFrame'>\nRangeIndex: 7746 entries, 0 to 7745\nData columns (total 2 columns):\n #   Column         Non-Null Count  Dtype  \n---  ------         --------------  -----  \n 0   INSTNM         7746 non-null   object \n 1   TUITIONFEE_IN  4444 non-null   float64\ndtypes: float64(1), object(1)\nmemory usage: 121.2+ KB\n",
          "output_type": "stream"
        }
      ],
      "execution_count": 37
    },
    {
      "cell_type": "markdown",
      "metadata": {
        "id": "wU5Ozu106oJR",
        "cell_id": "00006-19309238-e897-4fce-9894-de8a3e420e00",
        "deepnote_to_be_reexecuted": false,
        "source_hash": "95d421fb",
        "execution_start": 1618835341704,
        "execution_millis": 63,
        "deepnote_cell_type": "markdown"
      },
      "source": "## 5 - Find out how many observations have missing value.",
      "execution_count": 21
    },
    {
      "cell_type": "code",
      "source": "df_raw[df_raw.isna().any(axis=1)].shape[0]",
      "metadata": {
        "tags": [],
        "cell_id": "00011-db5e7961-604b-4a88-8455-47956664c6a7",
        "deepnote_to_be_reexecuted": false,
        "source_hash": "c156b07",
        "execution_millis": 14,
        "execution_start": 1618838051373,
        "deepnote_cell_type": "code"
      },
      "outputs": [
        {
          "output_type": "execute_result",
          "execution_count": 38,
          "data": {
            "text/plain": "3302"
          },
          "metadata": {}
        }
      ],
      "execution_count": 38
    },
    {
      "cell_type": "markdown",
      "metadata": {
        "id": "V0MTbBwv6oJW",
        "cell_id": "00007-55053e9a-3473-41e5-9b70-fc6de95a9321",
        "deepnote_to_be_reexecuted": true,
        "source_hash": "be5090e0",
        "deepnote_cell_type": "markdown"
      },
      "source": "## 6 - Drop those observations with missing value\n\nDisaply the number of observations afterward\n",
      "execution_count": null
    },
    {
      "cell_type": "code",
      "source": "df = df_raw.dropna()\ndf.shape[0] # display # of rows (shape method returns list 0th item = rows & 1st item = columns)",
      "metadata": {
        "tags": [],
        "cell_id": "00013-5f9825c5-6a52-45be-a5a2-6dc6ca3ef625",
        "deepnote_to_be_reexecuted": false,
        "source_hash": "4e133f40",
        "execution_millis": 7,
        "execution_start": 1618838252145,
        "deepnote_cell_type": "code"
      },
      "outputs": [
        {
          "output_type": "execute_result",
          "execution_count": 51,
          "data": {
            "text/plain": "4444"
          },
          "metadata": {}
        }
      ],
      "execution_count": 51
    },
    {
      "cell_type": "markdown",
      "metadata": {
        "id": "A-pfpASe6oJb",
        "cell_id": "00008-97a1d161-80d5-4e02-bdc9-b38f73f622f3",
        "deepnote_to_be_reexecuted": true,
        "source_hash": "34e1c56e",
        "deepnote_cell_type": "markdown"
      },
      "source": "## 7 - Find out how many observations have 0 tution. \n",
      "execution_count": null
    },
    {
      "cell_type": "code",
      "source": "df.query('TUITIONFEE_IN == 0').shape[0]",
      "metadata": {
        "tags": [],
        "cell_id": "00015-68b26a72-acae-4acf-888e-e3ee481aca86",
        "deepnote_to_be_reexecuted": false,
        "source_hash": "2686c05d",
        "execution_millis": 10,
        "execution_start": 1618838223853,
        "deepnote_cell_type": "code"
      },
      "outputs": [
        {
          "output_type": "execute_result",
          "execution_count": 46,
          "data": {
            "text/plain": "5"
          },
          "metadata": {}
        }
      ],
      "execution_count": 46
    },
    {
      "cell_type": "markdown",
      "metadata": {
        "id": "UUp2iUlM6oJk",
        "cell_id": "00009-b14080d6-1564-44ae-a21c-5f99c7de7bf9",
        "deepnote_to_be_reexecuted": true,
        "source_hash": "f9088cc3",
        "deepnote_cell_type": "markdown"
      },
      "source": "## 8 - Drop those observations with 0 tuition\n\nDisplay the number of observations afterward",
      "execution_count": null
    },
    {
      "cell_type": "code",
      "source": "df.query('TUITIONFEE_IN != 0', inplace= True)\ndf.shape[0]",
      "metadata": {
        "tags": [],
        "cell_id": "00017-5106b05a-1322-4e85-b1a5-b7fc4f889097",
        "deepnote_to_be_reexecuted": false,
        "source_hash": "7b7b01b7",
        "execution_millis": 11,
        "execution_start": 1618838255391,
        "deepnote_cell_type": "code"
      },
      "outputs": [
        {
          "name": "stderr",
          "text": "/shared-libs/python3.7/py-core/lib/python3.7/site-packages/ipykernel_launcher.py:1: SettingWithCopyWarning: \nA value is trying to be set on a copy of a slice from a DataFrame\n\nSee the caveats in the documentation: https://pandas.pydata.org/pandas-docs/stable/user_guide/indexing.html#returning-a-view-versus-a-copy\n  \"\"\"Entry point for launching an IPython kernel.\n",
          "output_type": "stream"
        },
        {
          "output_type": "execute_result",
          "execution_count": 52,
          "data": {
            "text/plain": "4439"
          },
          "metadata": {}
        }
      ],
      "execution_count": 52
    },
    {
      "cell_type": "markdown",
      "metadata": {
        "id": "vXjrc9Km6oJq",
        "cell_id": "00010-7fef075d-f449-4ba9-a57f-0bb7ebd08705",
        "deepnote_to_be_reexecuted": true,
        "source_hash": "647390e5",
        "deepnote_cell_type": "markdown"
      },
      "source": "## 9 - Calculate and display the mean (average) of the tuitions of all the remaining observations \n",
      "execution_count": null
    },
    {
      "cell_type": "code",
      "source": "mean_tuition = df.mean()[0]\nmean_tuition",
      "metadata": {
        "tags": [],
        "cell_id": "00019-ca41cb85-f3e7-4b8e-a5fd-df1fadca91e2",
        "deepnote_to_be_reexecuted": false,
        "source_hash": "83ea7366",
        "execution_millis": 8,
        "execution_start": 1618840763678,
        "deepnote_cell_type": "code"
      },
      "outputs": [
        {
          "output_type": "execute_result",
          "execution_count": 233,
          "data": {
            "text/plain": "13076.547420590223"
          },
          "metadata": {}
        }
      ],
      "execution_count": 233
    },
    {
      "cell_type": "markdown",
      "metadata": {
        "id": "Yyk1Kx456oJv",
        "cell_id": "00011-f49b8549-fcc9-4cdf-9630-e3ff402099cc",
        "deepnote_to_be_reexecuted": true,
        "source_hash": "5b7af258",
        "deepnote_cell_type": "markdown"
      },
      "source": "## 10 - Randomly select just 1 observation from the data frame.\n\nDisplay the tuition of that observation. \n",
      "execution_count": null
    },
    {
      "cell_type": "code",
      "source": "sample_college = df.sample()\nsample_college",
      "metadata": {
        "tags": [],
        "cell_id": "00021-3e4285f0-8c43-4d89-b0c4-82f1125d0a18",
        "deepnote_to_be_reexecuted": false,
        "source_hash": "f1ce55cc",
        "execution_millis": 7,
        "execution_start": 1618839337235,
        "deepnote_cell_type": "code"
      },
      "outputs": [
        {
          "output_type": "execute_result",
          "execution_count": 182,
          "data": {
            "application/vnd.deepnote.dataframe.v2+json": {
              "row_count": 1,
              "column_count": 2,
              "columns": [
                {
                  "name": "INSTNM",
                  "dtype": "object",
                  "stats": {
                    "unique_count": 1,
                    "nan_count": 0,
                    "categories": [
                      {
                        "name": "Brigham Young University-Hawaii",
                        "count": 1
                      }
                    ]
                  }
                },
                {
                  "name": "TUITIONFEE_IN",
                  "dtype": "float64",
                  "stats": {
                    "unique_count": 1,
                    "nan_count": 0,
                    "min": "4450.0",
                    "max": "4450.0",
                    "histogram": [
                      {
                        "bin_start": 4449.5,
                        "bin_end": 4449.6,
                        "count": 0
                      },
                      {
                        "bin_start": 4449.6,
                        "bin_end": 4449.7,
                        "count": 0
                      },
                      {
                        "bin_start": 4449.7,
                        "bin_end": 4449.8,
                        "count": 0
                      },
                      {
                        "bin_start": 4449.8,
                        "bin_end": 4449.9,
                        "count": 0
                      },
                      {
                        "bin_start": 4449.9,
                        "bin_end": 4450,
                        "count": 0
                      },
                      {
                        "bin_start": 4450,
                        "bin_end": 4450.1,
                        "count": 1
                      },
                      {
                        "bin_start": 4450.1,
                        "bin_end": 4450.2,
                        "count": 0
                      },
                      {
                        "bin_start": 4450.2,
                        "bin_end": 4450.3,
                        "count": 0
                      },
                      {
                        "bin_start": 4450.3,
                        "bin_end": 4450.4,
                        "count": 0
                      },
                      {
                        "bin_start": 4450.4,
                        "bin_end": 4450.5,
                        "count": 0
                      }
                    ]
                  }
                },
                {
                  "name": "_deepnote_index_column",
                  "dtype": "int64"
                }
              ],
              "rows_top": [
                {
                  "INSTNM": "Brigham Young University-Hawaii",
                  "TUITIONFEE_IN": 4450,
                  "_deepnote_index_column": 4026
                }
              ],
              "rows_bottom": null
            },
            "text/plain": "                               INSTNM  TUITIONFEE_IN\n4026  Brigham Young University-Hawaii         4450.0",
            "text/html": "<div>\n<style scoped>\n    .dataframe tbody tr th:only-of-type {\n        vertical-align: middle;\n    }\n\n    .dataframe tbody tr th {\n        vertical-align: top;\n    }\n\n    .dataframe thead th {\n        text-align: right;\n    }\n</style>\n<table border=\"1\" class=\"dataframe\">\n  <thead>\n    <tr style=\"text-align: right;\">\n      <th></th>\n      <th>INSTNM</th>\n      <th>TUITIONFEE_IN</th>\n    </tr>\n  </thead>\n  <tbody>\n    <tr>\n      <th>4026</th>\n      <td>Brigham Young University-Hawaii</td>\n      <td>4450.0</td>\n    </tr>\n  </tbody>\n</table>\n</div>"
          },
          "metadata": {}
        }
      ],
      "execution_count": 182
    },
    {
      "cell_type": "code",
      "source": "sample_tuition = sample_college.iloc[0]['TUITIONFEE_IN']\nsample_tuition",
      "metadata": {
        "tags": [],
        "cell_id": "00022-34094f7b-978e-4710-b7d7-3adcf85ef217",
        "deepnote_to_be_reexecuted": false,
        "source_hash": "a7800e25",
        "execution_millis": 1,
        "execution_start": 1618839680491,
        "deepnote_cell_type": "code"
      },
      "outputs": [
        {
          "output_type": "execute_result",
          "execution_count": 203,
          "data": {
            "text/plain": "4450.0"
          },
          "metadata": {}
        }
      ],
      "execution_count": 203
    },
    {
      "cell_type": "markdown",
      "metadata": {
        "id": "2Jio5eDc6oJ0",
        "cell_id": "00012-82c5c9c8-e6ef-4e56-b9d2-cca369af4513",
        "deepnote_to_be_reexecuted": true,
        "source_hash": "3c9c07c",
        "deepnote_cell_type": "markdown"
      },
      "source": "## 11 - Calculate the difference: \n\nbetween the tuition of this observation and  the mean tuition off all observations calculated earlier.\n\nDisplay the difference.\n",
      "execution_count": null
    },
    {
      "cell_type": "code",
      "source": "sample_diff = sample_tuition - mean_tuition\nsample_diff",
      "metadata": {
        "tags": [],
        "cell_id": "00023-4c0f2558-4b3c-4f89-a174-3c4fd5f5804d",
        "deepnote_to_be_reexecuted": false,
        "source_hash": "89ac0f",
        "execution_millis": 13,
        "execution_start": 1618840345884,
        "deepnote_cell_type": "code"
      },
      "outputs": [
        {
          "output_type": "execute_result",
          "execution_count": 218,
          "data": {
            "text/plain": "-8626.547420590223"
          },
          "metadata": {}
        }
      ],
      "execution_count": 218
    },
    {
      "cell_type": "markdown",
      "metadata": {
        "id": "E7RIjD8E6oJ5",
        "cell_id": "00013-c41422c2-9f0a-4360-9890-1554f716be04",
        "deepnote_to_be_reexecuted": true,
        "source_hash": "5704a373",
        "deepnote_cell_type": "markdown"
      },
      "source": "## 12 - Repeat 10 to 11 several times get the feel of the size of the difference in means",
      "execution_count": null
    },
    {
      "cell_type": "code",
      "source": "def get_sample_diff():\n    \n    sample_college = df.sample()\n    sample_tuition = sample_college.iloc[0]['TUITIONFEE_IN']\n    \n    return sample_tuition - mean_tuition",
      "metadata": {
        "tags": [],
        "cell_id": "00026-03b97fb9-7f07-40eb-8754-8b814826e424",
        "deepnote_to_be_reexecuted": false,
        "source_hash": "123af737",
        "execution_millis": 0,
        "execution_start": 1618840348631,
        "deepnote_cell_type": "code"
      },
      "outputs": [],
      "execution_count": 219
    },
    {
      "cell_type": "code",
      "source": "print(f'The mean of all institutions is {mean_tuition},\\ndisplayed below is the difference between the mean tuition and the tuition of an institution taken at random.\\n\\nNote: negative values indicate the tuition is less than the mean\\n')\nfor num in range(15):\n    print(get_sample_diff())",
      "metadata": {
        "tags": [],
        "cell_id": "00027-2ee4c975-1d7c-4e51-9dc4-fcec85ebec4c",
        "deepnote_to_be_reexecuted": false,
        "source_hash": "f1b0d4de",
        "execution_millis": 9,
        "execution_start": 1618841340042,
        "deepnote_cell_type": "code"
      },
      "outputs": [
        {
          "name": "stdout",
          "text": "The mean of all institutions is 13076.547420590223,\ndisplayed below is the difference between the mean tuition and the tuition of an institution taken at random.\n\nNote: negative values indicate the tuition is less than the mean\n\n8575.452579409777\n4971.452579409777\n-10946.547420590223\n-6632.547420590223\n-481.5474205902228\n1987.4525794097772\n-5844.547420590223\n4971.452579409777\n-5511.547420590223\n-456.5474205902228\n-9260.547420590223\n-3288.547420590223\n-5860.547420590223\n1728.4525794097772\n-7930.547420590223\n",
          "output_type": "stream"
        }
      ],
      "execution_count": 238
    },
    {
      "cell_type": "markdown",
      "metadata": {
        "id": "X7P4DGbi6oJ-",
        "cell_id": "00014-235985b6-96be-4530-83d1-a8b6423360e2",
        "deepnote_to_be_reexecuted": false,
        "source_hash": "f2f5edd",
        "execution_millis": 0,
        "execution_start": 1618840482186,
        "deepnote_cell_type": "markdown"
      },
      "source": "## 13 - Randomly select 20 observations, display the tuition of these observation.\n\n",
      "execution_count": 225
    },
    {
      "cell_type": "code",
      "source": "df_sample = df.sample(20)\ndf_sample",
      "metadata": {
        "tags": [],
        "cell_id": "00029-7c967bb5-9372-4232-ac40-db93ac05e2d4",
        "deepnote_to_be_reexecuted": false,
        "source_hash": "abbe1238",
        "execution_start": 1618840490099,
        "execution_millis": 23,
        "deepnote_cell_type": "code"
      },
      "outputs": [
        {
          "output_type": "execute_result",
          "execution_count": 226,
          "data": {
            "application/vnd.deepnote.dataframe.v2+json": {
              "row_count": 20,
              "column_count": 2,
              "columns": [
                {
                  "name": "INSTNM",
                  "dtype": "object",
                  "stats": {
                    "unique_count": 20,
                    "nan_count": 0,
                    "categories": [
                      {
                        "name": "Blue Ridge Community and Technical College",
                        "count": 1
                      },
                      {
                        "name": "University of Puerto Rico-Bayamon",
                        "count": 1
                      },
                      {
                        "name": "18 others",
                        "count": 18
                      }
                    ]
                  }
                },
                {
                  "name": "TUITIONFEE_IN",
                  "dtype": "float64",
                  "stats": {
                    "unique_count": 20,
                    "nan_count": 0,
                    "min": "1670.0",
                    "max": "34990.0",
                    "histogram": [
                      {
                        "bin_start": 1670,
                        "bin_end": 5002,
                        "count": 4
                      },
                      {
                        "bin_start": 5002,
                        "bin_end": 8334,
                        "count": 1
                      },
                      {
                        "bin_start": 8334,
                        "bin_end": 11666,
                        "count": 4
                      },
                      {
                        "bin_start": 11666,
                        "bin_end": 14998,
                        "count": 2
                      },
                      {
                        "bin_start": 14998,
                        "bin_end": 18330,
                        "count": 2
                      },
                      {
                        "bin_start": 18330,
                        "bin_end": 21662,
                        "count": 3
                      },
                      {
                        "bin_start": 21662,
                        "bin_end": 24994,
                        "count": 1
                      },
                      {
                        "bin_start": 24994,
                        "bin_end": 28326,
                        "count": 1
                      },
                      {
                        "bin_start": 28326,
                        "bin_end": 31658,
                        "count": 0
                      },
                      {
                        "bin_start": 31658,
                        "bin_end": 34990,
                        "count": 2
                      }
                    ]
                  }
                },
                {
                  "name": "_deepnote_index_column",
                  "dtype": "int64"
                }
              ],
              "rows_top": [
                {
                  "INSTNM": "Blue Ridge Community and Technical College",
                  "TUITIONFEE_IN": 3120,
                  "_deepnote_index_column": 6179
                },
                {
                  "INSTNM": "University of Puerto Rico-Bayamon",
                  "TUITIONFEE_IN": 2944,
                  "_deepnote_index_column": 4441
                },
                {
                  "INSTNM": "Florida Southern College",
                  "TUITIONFEE_IN": 26112,
                  "_deepnote_index_column": 793
                },
                {
                  "INSTNM": "University of Phoenix-Kentucky",
                  "TUITIONFEE_IN": 9859,
                  "_deepnote_index_column": 6074
                },
                {
                  "INSTNM": "Williamsburg Technical College",
                  "TUITIONFEE_IN": 3438,
                  "_deepnote_index_column": 3674
                },
                {
                  "INSTNM": "Lon Morris College",
                  "TUITIONFEE_IN": 15160,
                  "_deepnote_index_column": 3910
                },
                {
                  "INSTNM": "Porter and Chester Institute of Stratford",
                  "TUITIONFEE_IN": 18910,
                  "_deepnote_index_column": 707
                },
                {
                  "INSTNM": "Baker College",
                  "TUITIONFEE_IN": 7560,
                  "_deepnote_index_column": 1873
                },
                {
                  "INSTNM": "Fontbonne University",
                  "TUITIONFEE_IN": 21220,
                  "_deepnote_index_column": 2145
                },
                {
                  "INSTNM": "Simmons University",
                  "TUITIONFEE_IN": 33356,
                  "_deepnote_index_column": 1844
                },
                {
                  "INSTNM": "San Juan Bautista School of Medicine",
                  "TUITIONFEE_IN": 8382,
                  "_deepnote_index_column": 5451
                },
                {
                  "INSTNM": "Le Cordon Bleu College of Culinary Arts-Minneapolis",
                  "TUITIONFEE_IN": 14348,
                  "_deepnote_index_column": 6185
                },
                {
                  "INSTNM": "Randolph Community College",
                  "TUITIONFEE_IN": 1670,
                  "_deepnote_index_column": 2900
                },
                {
                  "INSTNM": "Baptist Memorial College of Health Sciences",
                  "TUITIONFEE_IN": 10660,
                  "_deepnote_index_column": 3711
                },
                {
                  "INSTNM": "Altierus Career College-Colorado Springs",
                  "TUITIONFEE_IN": 14040,
                  "_deepnote_index_column": 602
                },
                {
                  "INSTNM": "College of St Joseph",
                  "TUITIONFEE_IN": 19465,
                  "_deepnote_index_column": 4070
                },
                {
                  "INSTNM": "Wiley College",
                  "TUITIONFEE_IN": 11050,
                  "_deepnote_index_column": 4022
                },
                {
                  "INSTNM": "Florida Institute of Technology",
                  "TUITIONFEE_IN": 34990,
                  "_deepnote_index_column": 786
                },
                {
                  "INSTNM": "Pine Manor College",
                  "TUITIONFEE_IN": 22042,
                  "_deepnote_index_column": 1834
                },
                {
                  "INSTNM": "Ohio Valley University",
                  "TUITIONFEE_IN": 18050,
                  "_deepnote_index_column": 4279
                }
              ],
              "rows_bottom": null
            },
            "text/plain": "                                                 INSTNM  TUITIONFEE_IN\n6179         Blue Ridge Community and Technical College         3120.0\n4441                  University of Puerto Rico-Bayamon         2944.0\n793                            Florida Southern College        26112.0\n6074                     University of Phoenix-Kentucky         9859.0\n3674                     Williamsburg Technical College         3438.0\n3910                                 Lon Morris College        15160.0\n707           Porter and Chester Institute of Stratford        18910.0\n1873                                      Baker College         7560.0\n2145                               Fontbonne University        21220.0\n1844                                 Simmons University        33356.0\n5451               San Juan Bautista School of Medicine         8382.0\n6185  Le Cordon Bleu College of Culinary Arts-Minnea...        14348.0\n2900                         Randolph Community College         1670.0\n3711        Baptist Memorial College of Health Sciences        10660.0\n602            Altierus Career College-Colorado Springs        14040.0\n4070                               College of St Joseph        19465.0\n4022                                      Wiley College        11050.0\n786                     Florida Institute of Technology        34990.0\n1834                                 Pine Manor College        22042.0\n4279                             Ohio Valley University        18050.0",
            "text/html": "<div>\n<style scoped>\n    .dataframe tbody tr th:only-of-type {\n        vertical-align: middle;\n    }\n\n    .dataframe tbody tr th {\n        vertical-align: top;\n    }\n\n    .dataframe thead th {\n        text-align: right;\n    }\n</style>\n<table border=\"1\" class=\"dataframe\">\n  <thead>\n    <tr style=\"text-align: right;\">\n      <th></th>\n      <th>INSTNM</th>\n      <th>TUITIONFEE_IN</th>\n    </tr>\n  </thead>\n  <tbody>\n    <tr>\n      <th>6179</th>\n      <td>Blue Ridge Community and Technical College</td>\n      <td>3120.0</td>\n    </tr>\n    <tr>\n      <th>4441</th>\n      <td>University of Puerto Rico-Bayamon</td>\n      <td>2944.0</td>\n    </tr>\n    <tr>\n      <th>793</th>\n      <td>Florida Southern College</td>\n      <td>26112.0</td>\n    </tr>\n    <tr>\n      <th>6074</th>\n      <td>University of Phoenix-Kentucky</td>\n      <td>9859.0</td>\n    </tr>\n    <tr>\n      <th>3674</th>\n      <td>Williamsburg Technical College</td>\n      <td>3438.0</td>\n    </tr>\n    <tr>\n      <th>3910</th>\n      <td>Lon Morris College</td>\n      <td>15160.0</td>\n    </tr>\n    <tr>\n      <th>707</th>\n      <td>Porter and Chester Institute of Stratford</td>\n      <td>18910.0</td>\n    </tr>\n    <tr>\n      <th>1873</th>\n      <td>Baker College</td>\n      <td>7560.0</td>\n    </tr>\n    <tr>\n      <th>2145</th>\n      <td>Fontbonne University</td>\n      <td>21220.0</td>\n    </tr>\n    <tr>\n      <th>1844</th>\n      <td>Simmons University</td>\n      <td>33356.0</td>\n    </tr>\n    <tr>\n      <th>5451</th>\n      <td>San Juan Bautista School of Medicine</td>\n      <td>8382.0</td>\n    </tr>\n    <tr>\n      <th>6185</th>\n      <td>Le Cordon Bleu College of Culinary Arts-Minnea...</td>\n      <td>14348.0</td>\n    </tr>\n    <tr>\n      <th>2900</th>\n      <td>Randolph Community College</td>\n      <td>1670.0</td>\n    </tr>\n    <tr>\n      <th>3711</th>\n      <td>Baptist Memorial College of Health Sciences</td>\n      <td>10660.0</td>\n    </tr>\n    <tr>\n      <th>602</th>\n      <td>Altierus Career College-Colorado Springs</td>\n      <td>14040.0</td>\n    </tr>\n    <tr>\n      <th>4070</th>\n      <td>College of St Joseph</td>\n      <td>19465.0</td>\n    </tr>\n    <tr>\n      <th>4022</th>\n      <td>Wiley College</td>\n      <td>11050.0</td>\n    </tr>\n    <tr>\n      <th>786</th>\n      <td>Florida Institute of Technology</td>\n      <td>34990.0</td>\n    </tr>\n    <tr>\n      <th>1834</th>\n      <td>Pine Manor College</td>\n      <td>22042.0</td>\n    </tr>\n    <tr>\n      <th>4279</th>\n      <td>Ohio Valley University</td>\n      <td>18050.0</td>\n    </tr>\n  </tbody>\n</table>\n</div>"
          },
          "metadata": {}
        }
      ],
      "execution_count": 226
    },
    {
      "cell_type": "markdown",
      "metadata": {
        "id": "2kvz1whj6oKA",
        "cell_id": "00015-52a25628-c989-4260-a103-8955cc5c38b3",
        "deepnote_to_be_reexecuted": false,
        "source_hash": "e80e958d",
        "execution_start": 1618840497208,
        "execution_millis": 3,
        "deepnote_cell_type": "markdown"
      },
      "source": "## 14 - Calculate and display the mean tuition of these 20 observations\n",
      "execution_count": 227
    },
    {
      "cell_type": "code",
      "source": "sample_mean = df_sample.mean()[0]\nsample_mean",
      "metadata": {
        "tags": [],
        "cell_id": "00031-788c4da9-814a-402e-a620-0b4c6faf6fb2",
        "deepnote_to_be_reexecuted": false,
        "source_hash": "175cb5bf",
        "execution_millis": 8,
        "execution_start": 1618840793913,
        "deepnote_cell_type": "code"
      },
      "outputs": [
        {
          "output_type": "execute_result",
          "execution_count": 235,
          "data": {
            "text/plain": "14818.8"
          },
          "metadata": {}
        }
      ],
      "execution_count": 235
    },
    {
      "cell_type": "markdown",
      "metadata": {
        "id": "7qZe_Xn-6oKE",
        "cell_id": "00016-34d6ef7a-d28a-4419-9ee0-bd0b6b1a07ef",
        "deepnote_to_be_reexecuted": true,
        "source_hash": "4b60043a",
        "deepnote_cell_type": "markdown"
      },
      "source": "## 15 - Calculate  the difference:\nbetween the average tuition of these 20 observations and the mean tuition off all observations calculated earlier.\n\nDisplay the difference\n",
      "execution_count": null
    },
    {
      "cell_type": "code",
      "source": "diff_btw_means = sample_mean - mean_tuition\ndiff_btw_means",
      "metadata": {
        "tags": [],
        "cell_id": "00033-3c444767-8cd3-4efd-872a-6ed499f08b48",
        "deepnote_to_be_reexecuted": false,
        "source_hash": "e1349e44",
        "execution_start": 1618840875970,
        "execution_millis": 10,
        "deepnote_cell_type": "code"
      },
      "outputs": [
        {
          "output_type": "execute_result",
          "execution_count": 236,
          "data": {
            "text/plain": "1742.2525794097764"
          },
          "metadata": {}
        }
      ],
      "execution_count": 236
    },
    {
      "cell_type": "markdown",
      "metadata": {
        "id": "V7xgI6GU6oKH",
        "cell_id": "00017-4c367429-5b5e-4e78-96d5-62c45afef0a8",
        "deepnote_to_be_reexecuted": true,
        "source_hash": "17fec133",
        "deepnote_cell_type": "markdown"
      },
      "source": "## 16 - Repeat 13 to 15 several times and get the feel of the size of the difference in means \n\nCompare these differences with the differences calculated earlier with just 1 observation\n\nDescribe your hunch/conclusion",
      "execution_count": null
    },
    {
      "cell_type": "code",
      "source": "def get_means_diff():\n    df_sample = df.sample(20)\n    sample_mean = df_sample.mean()[0]\n    return sample_mean - mean_tuition",
      "metadata": {
        "tags": [],
        "cell_id": "00035-582baad3-18c1-47bc-90f8-2ee0637ce382",
        "deepnote_cell_type": "code"
      },
      "outputs": [],
      "execution_count": null
    },
    {
      "cell_type": "code",
      "source": "print(f'The mean of all institutions is {mean_tuition},\\ndisplayed below is the mean tuition vs the mean of in-state tuitions of twenty (20) institutions taken at random.\\n\\nNote: negative values indicate the sample mean is less than the overall mean\\n')\nfor num in range(15):\n    print(get_sample_diff())",
      "metadata": {
        "tags": [],
        "cell_id": "00036-27c84645-6268-4a79-ae82-dc73f964802e",
        "deepnote_to_be_reexecuted": false,
        "source_hash": "48d94fdb",
        "execution_millis": 12,
        "execution_start": 1618841444708,
        "deepnote_cell_type": "code"
      },
      "outputs": [
        {
          "name": "stdout",
          "text": "The mean of all institutions is 13076.547420590223,\ndisplayed below is the mean tuition vs the mean of in-state tuitions of twenty (20) institutions taken at random.\n\nNote: negative values indicate the sample mean is less than the overall mean\n\n-10325.547420590223\n-6729.547420590223\n163.45257940977717\n-12140.547420590223\n1728.4525794097772\n6983.452579409777\n12953.452579409777\n5833.452579409777\n1728.4525794097772\n-9621.547420590223\n25323.45257940978\n-5094.547420590223\n13283.452579409777\n-2951.547420590223\n-1086.5474205902228\n",
          "output_type": "stream"
        }
      ],
      "execution_count": 240
    },
    {
      "cell_type": "markdown",
      "source": "##### My thoughts on tuition...\nAs you can see, the difference, when taken from a random sample of twenty institutions, varies wildly. \n\nThe random samples swing from a diffrence of -\\$12,140 to \\$25,323. That's a range of more than $32,000. Whoa, that's alot. I think this is an indication of lack of uniformity of tuition across all instituitons. \n\nThis is likely due to a mix of for-profit vs. non-profit, private vs. public instituitons, 2-year vs 4-year institutions, and may also include trade schools. These disparate kinds of schools are the probable cause of the absurd swings indicated by the data calculated in the cell above.",
      "metadata": {
        "tags": [],
        "cell_id": "00037-21dfb8bb-4a24-415f-89b3-d061079932e6",
        "deepnote_cell_type": "markdown"
      },
      "outputs": [],
      "execution_count": null
    },
    {
      "cell_type": "markdown",
      "source": "## 17 - Write a function \n\nthat will take two input parameters:\n- x (number of observations) \n- y (the name of the dataframe). \n\nThe function will perform the following: \n- Randomly select x observations from y\n- Calculate the mean of these x observations \n- Calculate the mean of all observations\n- Calculate the difference between the two means \n- Return the difference",
      "metadata": {
        "id": "0i4lLySc6oKK",
        "cell_id": "00018-dde82331-a186-4ddb-9163-d70a5b6819f7",
        "deepnote_cell_type": "markdown"
      }
    },
    {
      "cell_type": "code",
      "metadata": {
        "id": "ZblkuSq46oKL",
        "cell_id": "00019-385e9084-1194-4a47-8894-ca3330432540",
        "deepnote_to_be_reexecuted": false,
        "source_hash": "1999662d",
        "execution_millis": 0,
        "execution_start": 1618868401198,
        "deepnote_cell_type": "code"
      },
      "source": "def diff_btw_means(x,y):\n    # x = number of random observations, and y = dataframe\n    df_x = y.sample(x)\n    mean_x = df_x.mean()[0]\n    mean_all = y.mean()[0]\n\n    return mean_x - mean_all",
      "execution_count": 248,
      "outputs": []
    },
    {
      "cell_type": "markdown",
      "metadata": {
        "id": "rCtsaGCy6oKN",
        "cell_id": "00020-4ed0f38c-2612-4bfa-96a3-3b8471bdd113",
        "deepnote_to_be_reexecuted": true,
        "source_hash": "6bd5d341",
        "deepnote_cell_type": "markdown"
      },
      "source": "## 18 - test the function by passing a sample size and the name of the dataframe\n\nDisplay the return of the function\n",
      "execution_count": null
    },
    {
      "cell_type": "code",
      "source": "diff_btw_means(20, df)",
      "metadata": {
        "tags": [],
        "cell_id": "00041-7bc6007b-4eb5-4e48-9dba-f256fe0c5575",
        "deepnote_to_be_reexecuted": false,
        "source_hash": "f6379777",
        "execution_start": 1618868448907,
        "execution_millis": 6,
        "deepnote_cell_type": "code"
      },
      "outputs": [
        {
          "output_type": "execute_result",
          "execution_count": 249,
          "data": {
            "text/plain": "-1877.1474205902232"
          },
          "metadata": {}
        }
      ],
      "execution_count": 249
    },
    {
      "cell_type": "markdown",
      "metadata": {
        "id": "0I58wyGH6oKP",
        "cell_id": "00021-3e1e4e9d-8721-41cf-b2e7-6c8482198d05",
        "deepnote_to_be_reexecuted": false,
        "source_hash": "a83227a7",
        "execution_start": 1618868479524,
        "execution_millis": 9,
        "deepnote_cell_type": "markdown"
      },
      "source": "## 19 - Create a list of sequential numbers: \n\nthe list should include all numbers from 1 to 50, name it \"sample_sizes\".\n\ndisplay it to make sure its members are from 1 to 50",
      "execution_count": 250
    },
    {
      "cell_type": "code",
      "source": "sample_sizes = list(range(1,51))\nprint(sample_sizes)",
      "metadata": {
        "tags": [],
        "cell_id": "00043-a6440be1-b0e4-4747-a330-b3ba70576610",
        "deepnote_to_be_reexecuted": false,
        "source_hash": "40c578cc",
        "execution_millis": 7,
        "execution_start": 1618868891990,
        "deepnote_cell_type": "code"
      },
      "outputs": [
        {
          "name": "stdout",
          "text": "[1, 2, 3, 4, 5, 6, 7, 8, 9, 10, 11, 12, 13, 14, 15, 16, 17, 18, 19, 20, 21, 22, 23, 24, 25, 26, 27, 28, 29, 30, 31, 32, 33, 34, 35, 36, 37, 38, 39, 40, 41, 42, 43, 44, 45, 46, 47, 48, 49, 50]\n",
          "output_type": "stream"
        }
      ],
      "execution_count": 254
    },
    {
      "cell_type": "markdown",
      "metadata": {
        "id": "sBWwbejh6oKR",
        "cell_id": "00022-1b1f69bb-ba25-4cef-9881-5cf672073861",
        "deepnote_to_be_reexecuted": true,
        "source_hash": "cb92581c",
        "deepnote_cell_type": "markdown"
      },
      "source": "## 20 - Create an empty list \nName it \"means_diff\" for differences of population mean and sample means.\n\nLoop through the list sample_sizes:\n- For each element in the sample size list, obtain a random sample of that size from the data frame;\n- Calculate the sample mean \n- Calculate the difference between the population mean and the sample mean\n- Append the difference to the list \"means_diff\"\n- Display the list \"means_diff\" after the loop is completed",
      "execution_count": null
    },
    {
      "cell_type": "code",
      "source": "means_diff = [diff_btw_means(item, df) for item in sample_sizes]\nmeans_diff",
      "metadata": {
        "tags": [],
        "cell_id": "00045-362bd378-620f-4882-9274-e812ee1463f5",
        "deepnote_to_be_reexecuted": false,
        "source_hash": "1b1a576e",
        "execution_millis": 1032,
        "execution_start": 1618869175530,
        "deepnote_cell_type": "code"
      },
      "outputs": [
        {
          "output_type": "execute_result",
          "execution_count": 260,
          "data": {
            "text/plain": "[3003.452579409777,\n -9224.047420590223,\n -2437.214087256889,\n 623.7025794097772,\n 3094.2525794097764,\n -3137.3807539235568,\n 939.3097222669203,\n 6344.077579409777,\n -2781.1029761457776,\n 6401.152579409778,\n -4007.001966044769,\n -1361.6307539235568,\n -2149.547420590223,\n -2498.4759920187935,\n -2464.2807539235564,\n -5129.297420590223,\n -1766.4885970608102,\n -1326.6029761457776,\n 172.50521098872377,\n 1279.1025794097768,\n -983.071230114032,\n -2897.683784226587,\n 1030.1047533228211,\n -1962.089087256889,\n -346.6674205902236,\n 955.529502486701,\n -808.3251983680002,\n 1546.5240079812065,\n -2369.237075762636,\n -1863.4474205902225,\n -35.67645284828723,\n -1925.6411705902228,\n 1290.604094561293,\n 96.39375588036455,\n 1570.2811508383493,\n 1071.1192460764432,\n -756.4663395091411,\n 1236.9262636203039,\n -913.5217795645822,\n -1202.2974205902228,\n -2085.254737663394,\n 64.33353179072947,\n 2703.1037422004756,\n -1398.456511499313,\n -1377.8140872568893,\n 715.9308402793431,\n 1647.218536856586,\n 1865.285912743111,\n 2888.738293695491,\n 96.09257940977659]"
          },
          "metadata": {}
        }
      ],
      "execution_count": 260
    },
    {
      "cell_type": "markdown",
      "metadata": {
        "id": "CZxUYK6b6oKU",
        "cell_id": "00023-8778d2ba-da4f-4441-9475-6e35634eaa60",
        "deepnote_to_be_reexecuted": true,
        "source_hash": "8e291ffb",
        "deepnote_cell_type": "markdown"
      },
      "source": "## 21 - Make a scatter plot with sample size on the x-axis and mean difference on the y-axis\nObserve as the sample size increases, the sample means converge to the population mean.\n\n_Make sure you make the plot large enough_",
      "execution_count": null
    },
    {
      "cell_type": "code",
      "source": "mean_scatter = px.scatter(x=sample_sizes, y=means_diff)\nmean_scatter.show()",
      "metadata": {
        "tags": [],
        "cell_id": "00047-0fc082d5-d88a-47c8-834e-a00a850062c6",
        "deepnote_to_be_reexecuted": false,
        "source_hash": "95c636b6",
        "execution_millis": 247,
        "execution_start": 1618869365706,
        "deepnote_cell_type": "code"
      },
      "outputs": [
        {
          "data": {
            "text/html": "<html>\n<head><meta charset=\"utf-8\" /></head>\n<body>\n    <div>            <script src=\"https://cdnjs.cloudflare.com/ajax/libs/mathjax/2.7.5/MathJax.js?config=TeX-AMS-MML_SVG\"></script><script type=\"text/javascript\">if (window.MathJax) {MathJax.Hub.Config({SVG: {font: \"STIX-Web\"}});}</script>                <script type=\"text/javascript\">window.PlotlyConfig = {MathJaxConfig: 'local'};</script>\n        <script src=\"https://cdn.plot.ly/plotly-latest.min.js\"></script>                <div id=\"180df7eb-ebb4-4e8a-8368-a64d8931f29a\" class=\"plotly-graph-div\" style=\"height:525px; width:100%;\"></div>            <script type=\"text/javascript\">                                    window.PLOTLYENV=window.PLOTLYENV || {};                                    if (document.getElementById(\"180df7eb-ebb4-4e8a-8368-a64d8931f29a\")) {                    Plotly.newPlot(                        \"180df7eb-ebb4-4e8a-8368-a64d8931f29a\",                        [{\"hovertemplate\": \"x=%{x}<br>y=%{y}<extra></extra>\", \"legendgroup\": \"\", \"marker\": {\"color\": \"#636efa\", \"symbol\": \"circle\"}, \"mode\": \"markers\", \"name\": \"\", \"orientation\": \"v\", \"showlegend\": false, \"type\": \"scatter\", \"x\": [1, 2, 3, 4, 5, 6, 7, 8, 9, 10, 11, 12, 13, 14, 15, 16, 17, 18, 19, 20, 21, 22, 23, 24, 25, 26, 27, 28, 29, 30, 31, 32, 33, 34, 35, 36, 37, 38, 39, 40, 41, 42, 43, 44, 45, 46, 47, 48, 49, 50], \"xaxis\": \"x\", \"y\": [3003.452579409777, -9224.047420590223, -2437.214087256889, 623.7025794097772, 3094.2525794097764, -3137.3807539235568, 939.3097222669203, 6344.077579409777, -2781.1029761457776, 6401.152579409778, -4007.001966044769, -1361.6307539235568, -2149.547420590223, -2498.4759920187935, -2464.2807539235564, -5129.297420590223, -1766.4885970608102, -1326.6029761457776, 172.50521098872377, 1279.1025794097768, -983.071230114032, -2897.683784226587, 1030.1047533228211, -1962.089087256889, -346.6674205902236, 955.529502486701, -808.3251983680002, 1546.5240079812065, -2369.237075762636, -1863.4474205902225, -35.67645284828723, -1925.6411705902228, 1290.604094561293, 96.39375588036455, 1570.2811508383493, 1071.1192460764432, -756.4663395091411, 1236.9262636203039, -913.5217795645822, -1202.2974205902228, -2085.254737663394, 64.33353179072947, 2703.1037422004756, -1398.456511499313, -1377.8140872568893, 715.9308402793431, 1647.218536856586, 1865.285912743111, 2888.738293695491, 96.09257940977659], \"yaxis\": \"y\"}],                        {\"legend\": {\"tracegroupgap\": 0}, \"margin\": {\"t\": 60}, \"template\": {\"data\": {\"bar\": [{\"error_x\": {\"color\": \"#2a3f5f\"}, \"error_y\": {\"color\": \"#2a3f5f\"}, \"marker\": {\"line\": {\"color\": \"#E5ECF6\", \"width\": 0.5}}, \"type\": \"bar\"}], \"barpolar\": [{\"marker\": {\"line\": {\"color\": \"#E5ECF6\", \"width\": 0.5}}, \"type\": \"barpolar\"}], \"carpet\": [{\"aaxis\": {\"endlinecolor\": \"#2a3f5f\", \"gridcolor\": \"white\", \"linecolor\": \"white\", \"minorgridcolor\": \"white\", \"startlinecolor\": \"#2a3f5f\"}, \"baxis\": {\"endlinecolor\": \"#2a3f5f\", \"gridcolor\": \"white\", \"linecolor\": \"white\", \"minorgridcolor\": \"white\", \"startlinecolor\": \"#2a3f5f\"}, \"type\": \"carpet\"}], \"choropleth\": [{\"colorbar\": {\"outlinewidth\": 0, \"ticks\": \"\"}, \"type\": \"choropleth\"}], \"contour\": [{\"colorbar\": {\"outlinewidth\": 0, \"ticks\": \"\"}, \"colorscale\": [[0.0, \"#0d0887\"], [0.1111111111111111, \"#46039f\"], [0.2222222222222222, \"#7201a8\"], [0.3333333333333333, \"#9c179e\"], [0.4444444444444444, \"#bd3786\"], [0.5555555555555556, \"#d8576b\"], [0.6666666666666666, \"#ed7953\"], [0.7777777777777778, \"#fb9f3a\"], [0.8888888888888888, \"#fdca26\"], [1.0, \"#f0f921\"]], \"type\": \"contour\"}], \"contourcarpet\": [{\"colorbar\": {\"outlinewidth\": 0, \"ticks\": \"\"}, \"type\": \"contourcarpet\"}], \"heatmap\": [{\"colorbar\": {\"outlinewidth\": 0, \"ticks\": \"\"}, \"colorscale\": [[0.0, \"#0d0887\"], [0.1111111111111111, \"#46039f\"], [0.2222222222222222, \"#7201a8\"], [0.3333333333333333, \"#9c179e\"], [0.4444444444444444, \"#bd3786\"], [0.5555555555555556, \"#d8576b\"], [0.6666666666666666, \"#ed7953\"], [0.7777777777777778, \"#fb9f3a\"], [0.8888888888888888, \"#fdca26\"], [1.0, \"#f0f921\"]], \"type\": \"heatmap\"}], \"heatmapgl\": [{\"colorbar\": {\"outlinewidth\": 0, \"ticks\": \"\"}, \"colorscale\": [[0.0, \"#0d0887\"], [0.1111111111111111, \"#46039f\"], [0.2222222222222222, \"#7201a8\"], [0.3333333333333333, \"#9c179e\"], [0.4444444444444444, \"#bd3786\"], [0.5555555555555556, \"#d8576b\"], [0.6666666666666666, \"#ed7953\"], [0.7777777777777778, \"#fb9f3a\"], [0.8888888888888888, \"#fdca26\"], [1.0, \"#f0f921\"]], \"type\": \"heatmapgl\"}], \"histogram\": [{\"marker\": {\"colorbar\": {\"outlinewidth\": 0, \"ticks\": \"\"}}, \"type\": \"histogram\"}], \"histogram2d\": [{\"colorbar\": {\"outlinewidth\": 0, \"ticks\": \"\"}, \"colorscale\": [[0.0, \"#0d0887\"], [0.1111111111111111, \"#46039f\"], [0.2222222222222222, \"#7201a8\"], [0.3333333333333333, \"#9c179e\"], [0.4444444444444444, \"#bd3786\"], [0.5555555555555556, \"#d8576b\"], [0.6666666666666666, \"#ed7953\"], [0.7777777777777778, \"#fb9f3a\"], [0.8888888888888888, \"#fdca26\"], [1.0, \"#f0f921\"]], \"type\": \"histogram2d\"}], \"histogram2dcontour\": [{\"colorbar\": {\"outlinewidth\": 0, \"ticks\": \"\"}, \"colorscale\": [[0.0, \"#0d0887\"], [0.1111111111111111, \"#46039f\"], [0.2222222222222222, \"#7201a8\"], [0.3333333333333333, \"#9c179e\"], [0.4444444444444444, \"#bd3786\"], [0.5555555555555556, \"#d8576b\"], [0.6666666666666666, \"#ed7953\"], [0.7777777777777778, \"#fb9f3a\"], [0.8888888888888888, \"#fdca26\"], [1.0, \"#f0f921\"]], \"type\": \"histogram2dcontour\"}], \"mesh3d\": [{\"colorbar\": {\"outlinewidth\": 0, \"ticks\": \"\"}, \"type\": \"mesh3d\"}], \"parcoords\": [{\"line\": {\"colorbar\": {\"outlinewidth\": 0, \"ticks\": \"\"}}, \"type\": \"parcoords\"}], \"pie\": [{\"automargin\": true, \"type\": \"pie\"}], \"scatter\": [{\"marker\": {\"colorbar\": {\"outlinewidth\": 0, \"ticks\": \"\"}}, \"type\": \"scatter\"}], \"scatter3d\": [{\"line\": {\"colorbar\": {\"outlinewidth\": 0, \"ticks\": \"\"}}, \"marker\": {\"colorbar\": {\"outlinewidth\": 0, \"ticks\": \"\"}}, \"type\": \"scatter3d\"}], \"scattercarpet\": [{\"marker\": {\"colorbar\": {\"outlinewidth\": 0, \"ticks\": \"\"}}, \"type\": \"scattercarpet\"}], \"scattergeo\": [{\"marker\": {\"colorbar\": {\"outlinewidth\": 0, \"ticks\": \"\"}}, \"type\": \"scattergeo\"}], \"scattergl\": [{\"marker\": {\"colorbar\": {\"outlinewidth\": 0, \"ticks\": \"\"}}, \"type\": \"scattergl\"}], \"scattermapbox\": [{\"marker\": {\"colorbar\": {\"outlinewidth\": 0, \"ticks\": \"\"}}, \"type\": \"scattermapbox\"}], \"scatterpolar\": [{\"marker\": {\"colorbar\": {\"outlinewidth\": 0, \"ticks\": \"\"}}, \"type\": \"scatterpolar\"}], \"scatterpolargl\": [{\"marker\": {\"colorbar\": {\"outlinewidth\": 0, \"ticks\": \"\"}}, \"type\": \"scatterpolargl\"}], \"scatterternary\": [{\"marker\": {\"colorbar\": {\"outlinewidth\": 0, \"ticks\": \"\"}}, \"type\": \"scatterternary\"}], \"surface\": [{\"colorbar\": {\"outlinewidth\": 0, \"ticks\": \"\"}, \"colorscale\": [[0.0, \"#0d0887\"], [0.1111111111111111, \"#46039f\"], [0.2222222222222222, \"#7201a8\"], [0.3333333333333333, \"#9c179e\"], [0.4444444444444444, \"#bd3786\"], [0.5555555555555556, \"#d8576b\"], [0.6666666666666666, \"#ed7953\"], [0.7777777777777778, \"#fb9f3a\"], [0.8888888888888888, \"#fdca26\"], [1.0, \"#f0f921\"]], \"type\": \"surface\"}], \"table\": [{\"cells\": {\"fill\": {\"color\": \"#EBF0F8\"}, \"line\": {\"color\": \"white\"}}, \"header\": {\"fill\": {\"color\": \"#C8D4E3\"}, \"line\": {\"color\": \"white\"}}, \"type\": \"table\"}]}, \"layout\": {\"annotationdefaults\": {\"arrowcolor\": \"#2a3f5f\", \"arrowhead\": 0, \"arrowwidth\": 1}, \"autotypenumbers\": \"strict\", \"coloraxis\": {\"colorbar\": {\"outlinewidth\": 0, \"ticks\": \"\"}}, \"colorscale\": {\"diverging\": [[0, \"#8e0152\"], [0.1, \"#c51b7d\"], [0.2, \"#de77ae\"], [0.3, \"#f1b6da\"], [0.4, \"#fde0ef\"], [0.5, \"#f7f7f7\"], [0.6, \"#e6f5d0\"], [0.7, \"#b8e186\"], [0.8, \"#7fbc41\"], [0.9, \"#4d9221\"], [1, \"#276419\"]], \"sequential\": [[0.0, \"#0d0887\"], [0.1111111111111111, \"#46039f\"], [0.2222222222222222, \"#7201a8\"], [0.3333333333333333, \"#9c179e\"], [0.4444444444444444, \"#bd3786\"], [0.5555555555555556, \"#d8576b\"], [0.6666666666666666, \"#ed7953\"], [0.7777777777777778, \"#fb9f3a\"], [0.8888888888888888, \"#fdca26\"], [1.0, \"#f0f921\"]], \"sequentialminus\": [[0.0, \"#0d0887\"], [0.1111111111111111, \"#46039f\"], [0.2222222222222222, \"#7201a8\"], [0.3333333333333333, \"#9c179e\"], [0.4444444444444444, \"#bd3786\"], [0.5555555555555556, \"#d8576b\"], [0.6666666666666666, \"#ed7953\"], [0.7777777777777778, \"#fb9f3a\"], [0.8888888888888888, \"#fdca26\"], [1.0, \"#f0f921\"]]}, \"colorway\": [\"#636efa\", \"#EF553B\", \"#00cc96\", \"#ab63fa\", \"#FFA15A\", \"#19d3f3\", \"#FF6692\", \"#B6E880\", \"#FF97FF\", \"#FECB52\"], \"font\": {\"color\": \"#2a3f5f\"}, \"geo\": {\"bgcolor\": \"white\", \"lakecolor\": \"white\", \"landcolor\": \"#E5ECF6\", \"showlakes\": true, \"showland\": true, \"subunitcolor\": \"white\"}, \"hoverlabel\": {\"align\": \"left\"}, \"hovermode\": \"closest\", \"mapbox\": {\"style\": \"light\"}, \"paper_bgcolor\": \"white\", \"plot_bgcolor\": \"#E5ECF6\", \"polar\": {\"angularaxis\": {\"gridcolor\": \"white\", \"linecolor\": \"white\", \"ticks\": \"\"}, \"bgcolor\": \"#E5ECF6\", \"radialaxis\": {\"gridcolor\": \"white\", \"linecolor\": \"white\", \"ticks\": \"\"}}, \"scene\": {\"xaxis\": {\"backgroundcolor\": \"#E5ECF6\", \"gridcolor\": \"white\", \"gridwidth\": 2, \"linecolor\": \"white\", \"showbackground\": true, \"ticks\": \"\", \"zerolinecolor\": \"white\"}, \"yaxis\": {\"backgroundcolor\": \"#E5ECF6\", \"gridcolor\": \"white\", \"gridwidth\": 2, \"linecolor\": \"white\", \"showbackground\": true, \"ticks\": \"\", \"zerolinecolor\": \"white\"}, \"zaxis\": {\"backgroundcolor\": \"#E5ECF6\", \"gridcolor\": \"white\", \"gridwidth\": 2, \"linecolor\": \"white\", \"showbackground\": true, \"ticks\": \"\", \"zerolinecolor\": \"white\"}}, \"shapedefaults\": {\"line\": {\"color\": \"#2a3f5f\"}}, \"ternary\": {\"aaxis\": {\"gridcolor\": \"white\", \"linecolor\": \"white\", \"ticks\": \"\"}, \"baxis\": {\"gridcolor\": \"white\", \"linecolor\": \"white\", \"ticks\": \"\"}, \"bgcolor\": \"#E5ECF6\", \"caxis\": {\"gridcolor\": \"white\", \"linecolor\": \"white\", \"ticks\": \"\"}}, \"title\": {\"x\": 0.05}, \"xaxis\": {\"automargin\": true, \"gridcolor\": \"white\", \"linecolor\": \"white\", \"ticks\": \"\", \"title\": {\"standoff\": 15}, \"zerolinecolor\": \"white\", \"zerolinewidth\": 2}, \"yaxis\": {\"automargin\": true, \"gridcolor\": \"white\", \"linecolor\": \"white\", \"ticks\": \"\", \"title\": {\"standoff\": 15}, \"zerolinecolor\": \"white\", \"zerolinewidth\": 2}}}, \"xaxis\": {\"anchor\": \"y\", \"domain\": [0.0, 1.0], \"title\": {\"text\": \"x\"}}, \"yaxis\": {\"anchor\": \"x\", \"domain\": [0.0, 1.0], \"title\": {\"text\": \"y\"}}},                        {\"responsive\": true}                    ).then(function(){\n                            \nvar gd = document.getElementById('180df7eb-ebb4-4e8a-8368-a64d8931f29a');\nvar x = new MutationObserver(function (mutations, observer) {{\n        var display = window.getComputedStyle(gd).display;\n        if (!display || display === 'none') {{\n            console.log([gd, 'removed!']);\n            Plotly.purge(gd);\n            observer.disconnect();\n        }}\n}});\n\n// Listen for the removal of the full notebook cells\nvar notebookContainer = gd.closest('#notebook-container');\nif (notebookContainer) {{\n    x.observe(notebookContainer, {childList: true});\n}}\n\n// Listen for the clearing of the current output cell\nvar outputEl = gd.closest('.output');\nif (outputEl) {{\n    x.observe(outputEl, {childList: true});\n}}\n\n                        })                };                            </script>        </div>\n</body>\n</html>"
          },
          "metadata": {},
          "output_type": "display_data"
        }
      ],
      "execution_count": 262
    },
    {
      "cell_type": "markdown",
      "metadata": {
        "id": "tD8z_VyB6oKW",
        "cell_id": "00024-9b789f40-b991-4992-bbf1-fd2b08c8b0ad",
        "deepnote_to_be_reexecuted": true,
        "source_hash": "6d3a5e2a",
        "deepnote_cell_type": "markdown"
      },
      "source": "## 22 - repeat 18 to 21 \n\nReplace 50 with a larger number. For example, 300, or even 1000.\n\nand see how the plot looks.",
      "execution_count": null
    },
    {
      "cell_type": "code",
      "source": "sample_sizes = list(range(1,301))\nmeans_diff = [diff_btw_means(item, df) for item in sample_sizes]\nmean_scatter = px.scatter(x=sample_sizes, y=means_diff)\nmean_scatter.show()",
      "metadata": {
        "tags": [],
        "cell_id": "00049-55ece314-68c2-444c-b4c5-4121484bd2a6",
        "deepnote_to_be_reexecuted": false,
        "source_hash": "41fe3dd6",
        "execution_start": 1618869981641,
        "execution_millis": 5899,
        "deepnote_cell_type": "code"
      },
      "outputs": [
        {
          "data": {
            "text/html": "<html>\n<head><meta charset=\"utf-8\" /></head>\n<body>\n    <div>            <script src=\"https://cdnjs.cloudflare.com/ajax/libs/mathjax/2.7.5/MathJax.js?config=TeX-AMS-MML_SVG\"></script><script type=\"text/javascript\">if (window.MathJax) {MathJax.Hub.Config({SVG: {font: \"STIX-Web\"}});}</script>                <script type=\"text/javascript\">window.PlotlyConfig = {MathJaxConfig: 'local'};</script>\n        <script src=\"https://cdn.plot.ly/plotly-latest.min.js\"></script>                <div id=\"45cee43f-3aa1-4ea4-8c89-7009eb89e6be\" class=\"plotly-graph-div\" style=\"height:525px; width:100%;\"></div>            <script type=\"text/javascript\">                                    window.PLOTLYENV=window.PLOTLYENV || {};                                    if (document.getElementById(\"45cee43f-3aa1-4ea4-8c89-7009eb89e6be\")) {                    Plotly.newPlot(                        \"45cee43f-3aa1-4ea4-8c89-7009eb89e6be\",                        [{\"hovertemplate\": \"x=%{x}<br>y=%{y}<extra></extra>\", \"legendgroup\": \"\", \"marker\": {\"color\": \"#636efa\", \"symbol\": \"circle\"}, \"mode\": \"markers\", \"name\": \"\", \"orientation\": \"v\", \"showlegend\": false, \"type\": \"scatter\", \"x\": [1, 2, 3, 4, 5, 6, 7, 8, 9, 10, 11, 12, 13, 14, 15, 16, 17, 18, 19, 20, 21, 22, 23, 24, 25, 26, 27, 28, 29, 30, 31, 32, 33, 34, 35, 36, 37, 38, 39, 40, 41, 42, 43, 44, 45, 46, 47, 48, 49, 50, 51, 52, 53, 54, 55, 56, 57, 58, 59, 60, 61, 62, 63, 64, 65, 66, 67, 68, 69, 70, 71, 72, 73, 74, 75, 76, 77, 78, 79, 80, 81, 82, 83, 84, 85, 86, 87, 88, 89, 90, 91, 92, 93, 94, 95, 96, 97, 98, 99, 100, 101, 102, 103, 104, 105, 106, 107, 108, 109, 110, 111, 112, 113, 114, 115, 116, 117, 118, 119, 120, 121, 122, 123, 124, 125, 126, 127, 128, 129, 130, 131, 132, 133, 134, 135, 136, 137, 138, 139, 140, 141, 142, 143, 144, 145, 146, 147, 148, 149, 150, 151, 152, 153, 154, 155, 156, 157, 158, 159, 160, 161, 162, 163, 164, 165, 166, 167, 168, 169, 170, 171, 172, 173, 174, 175, 176, 177, 178, 179, 180, 181, 182, 183, 184, 185, 186, 187, 188, 189, 190, 191, 192, 193, 194, 195, 196, 197, 198, 199, 200, 201, 202, 203, 204, 205, 206, 207, 208, 209, 210, 211, 212, 213, 214, 215, 216, 217, 218, 219, 220, 221, 222, 223, 224, 225, 226, 227, 228, 229, 230, 231, 232, 233, 234, 235, 236, 237, 238, 239, 240, 241, 242, 243, 244, 245, 246, 247, 248, 249, 250, 251, 252, 253, 254, 255, 256, 257, 258, 259, 260, 261, 262, 263, 264, 265, 266, 267, 268, 269, 270, 271, 272, 273, 274, 275, 276, 277, 278, 279, 280, 281, 282, 283, 284, 285, 286, 287, 288, 289, 290, 291, 292, 293, 294, 295, 296, 297, 298, 299, 300], \"xaxis\": \"x\", \"y\": [-10676.547420590223, 2177.452579409777, -4546.880753923557, 4207.202579409777, -4725.147420590223, -827.3807539235568, -5980.118849161651, 8977.202579409777, 1605.6748016319998, -4161.347420590222, 1581.8162157734132, 2140.3692460764432, 2398.067964025162, -293.0474205902228, 3787.8525794097786, -2809.984920590223, 2477.099638233307, -4159.4363094791115, 1169.1894215150405, 5529.052579409776, 2118.881150838348, 535.0889430461411, -2675.199594503267, 2911.4942460764432, -1622.0674205902233, 535.4525794097772, 1961.4896164468137, 1432.2740079812065, -131.78879990056703, -1749.7474205902236, 3084.355805216228, 403.4213294097772, -165.75954180234476, 374.1290499980132, 47.138293695490574, 256.0359127431111, -1512.8447178875194, -1813.2053153270645, -584.265369308172, -827.5974205902221, -505.03522546827116, -1067.2855158283182, -945.873001985572, 469.2480339552312, -2434.147420590223, 36.9308402793431, -25.079335483840623, -423.06825392355677, 283.3097222669203, -689.1874205902222, -1734.2925186294378, 1907.7602717174686, 2312.7355982777026, 696.7673942245929, 1894.3980339552309, 168.6847222669203, 1000.3297723922333, -708.9784550729819, 1170.605121782659, -986.26408725689, -1291.5146337049773, -461.257098009577, 1955.9922619494591, -503.9849205902228, -1501.393574436377, -677.9716630144649, 560.8555644844037, -58.35624411963545, -151.34452203949877, -1891.5045634473663, -803.8995332662798, 145.84146829866586, -29.807694562825418, -692.5203935631962, 1254.98591274311, -37.244789011276225, -747.6383296811327, -266.09870264150413, -415.53476236237475, -228.87242059022356, 965.1315917554566, -644.998640102418, -129.0534446866077, 1677.6073413145386, -1447.9121264725763, -2030.7218391948736, 497.0157978005809, -448.0587842265868, -515.1316902531435, -120.06964281244473, -540.2507172935202, 356.8982315836911, -413.07430231065337, -1048.1750801646904, 22.42100046240921, 105.27549607644323, -759.3721628582643, -1176.7106858963452, 390.95762991482843, 317.38257940977746, 924.4921833701737, -659.2729107863015, 243.87005513793338, 216.4814255636229, 951.1478175050161, -921.0379866279582, -302.14555143134385, -980.0751983680002, 553.5810197767496, 128.7798521370496, -160.67354671634894, 517.2918651240634, 2450.0631988788045, 646.1017022167944, -408.65176841631, 473.9353380304674, -1257.0260530688556, 379.9695285623202, 555.3433357122976, 738.5109127431097, 364.9236537899433, 279.3706121966625, 466.5989208731917, -629.934517364416, 502.42857940977774, -818.7934523362546, 992.3108471263131, 33.32757940977717, -1004.0202888072763, -930.1012667440682, -502.1733747886956, 520.0359127431111, -1308.9233604398469, 209.8630271709717, 335.05257940977754, -188.23124411963545, 820.5328713805793, -163.4822031989188, 709.8050973953887, 237.55257940977754, 53.65825316864175, 163.1920160294958, -1298.9530149958173, 496.04285718755455, -5.685351624704708, 627.2676479029287, -1156.1256518827395, 62.91203886923722, 505.44586800038087, -912.0874205902237, 1691.41284431044, -1083.3500521691694, -794.4820611130981, 345.08894304614114, -2722.734517364417, 238.86283582003307, -365.60474543098644, -1253.2183066661728, -756.006540087079, 1331.7088294097775, 588.1730763041869, 182.1748016319998, -94.90324881108245, 1214.4952623366062, 1234.1798521370492, -161.66187842154795, -271.34382777585233, -672.8152777330797, -898.3758229570867, 1006.187873527424, 1186.364860111531, -1285.611374078595, -256.6456864861757, -203.92098380861353, 1391.2525794097764, 103.05485213704924, 459.27178844932496, -740.23281384865, -1376.6982585790502, 1072.5136905208874, 472.0879385257995, -79.74522278802579, 1004.9334537267168, -220.9985075467448, 202.14987670707524, -269.3753775794703, 380.1370713883862, 1881.0802389842447, -1225.2669973098, -1872.984262695485, 180.1855637029712, 1478.770287743111, 657.7582788916425, -969.1092762603257, 130.6218101790073, 122.31482430773576, -92.39513632626404, 175.7859127431111, -57.1554607912276, -65.95242059022348, 182.47745503166698, 842.0763417860144, 186.43287497627898, -213.93957745296757, 302.81355501953294, 933.5496667884181, -595.3058746965035, 404.9429640251619, 335.91190955331695, -309.8950396378423, 50.99286376996679, -437.78798662795816, 731.5558657947531, 202.95257940977717, -504.42183919487434, 349.9109127431111, -184.317005843679, -1067.4052187553607, -419.5656854304052, -1269.4019660447684, 632.5566518079668, -811.4798530226544, -298.6460752987423, -745.1367063045091, -415.91186503466815, -557.2730843070367, 824.8534604670458, 664.720123269426, -283.0408703718822, -252.09959450326642, 521.6603716175687, 333.4094759615018, -61.34999569751926, -82.23118127398266, 882.1674730267987, 505.8805455114725, -1019.0706273412779, -508.8835550440035, -1068.0411444395959, 514.9484127431097, -726.9291633288121, 940.0104306494468, 1302.8352954591592, 243.5099564589582, 433.9709467567154, -594.9417295333114, 479.86553487536366, 112.66628908719576, -148.94099488741085, 577.6965794097778, 393.926682995434, 2.7025794097771723, -862.9624403530688, -503.22064893667994, 351.91140293918943, -402.6060143402228, 869.5498556743678, 747.1114941384585, -396.91807696087926, -623.0704975132994, 463.2993227047955, 233.3991442952738, -929.8706145065735, -1194.8656024084048, -656.1398734204122, 162.27212828195843, -487.89198987861164, 301.7995943351507, 91.19979130568754, 665.3785053357024, -702.0492656086735, -1164.1687441196354, -531.2983363411386, -73.71165416686563, 436.87439759159497, -837.5293046481947, 59.60781406681599, 4.189989481719749, 874.8468446427523, -185.42956344736558, 228.4917253172498, 65.76109004807586, 94.74939919776261, 848.6427202548475, -404.89478901127586, 22.106425563622906, -513.3453299978883, 31.292857187554546, -448.637385988146, -541.7750067971192, -5.901372480257123, -857.2631740148809, 615.4696442561944, -175.99980154260447, -906.5847087258153, 472.1147415719388, 624.7387746959721, 557.9861364567569, -633.470497513299, 247.58591274311038], \"yaxis\": \"y\"}],                        {\"legend\": {\"tracegroupgap\": 0}, \"margin\": {\"t\": 60}, \"template\": {\"data\": {\"bar\": [{\"error_x\": {\"color\": \"#2a3f5f\"}, \"error_y\": {\"color\": \"#2a3f5f\"}, \"marker\": {\"line\": {\"color\": \"#E5ECF6\", \"width\": 0.5}}, \"type\": \"bar\"}], \"barpolar\": [{\"marker\": {\"line\": {\"color\": \"#E5ECF6\", \"width\": 0.5}}, \"type\": \"barpolar\"}], \"carpet\": [{\"aaxis\": {\"endlinecolor\": \"#2a3f5f\", \"gridcolor\": \"white\", \"linecolor\": \"white\", \"minorgridcolor\": \"white\", \"startlinecolor\": \"#2a3f5f\"}, \"baxis\": {\"endlinecolor\": \"#2a3f5f\", \"gridcolor\": \"white\", \"linecolor\": \"white\", \"minorgridcolor\": \"white\", \"startlinecolor\": \"#2a3f5f\"}, \"type\": \"carpet\"}], \"choropleth\": [{\"colorbar\": {\"outlinewidth\": 0, \"ticks\": \"\"}, \"type\": \"choropleth\"}], \"contour\": [{\"colorbar\": {\"outlinewidth\": 0, \"ticks\": \"\"}, \"colorscale\": [[0.0, \"#0d0887\"], [0.1111111111111111, \"#46039f\"], [0.2222222222222222, \"#7201a8\"], [0.3333333333333333, \"#9c179e\"], [0.4444444444444444, \"#bd3786\"], [0.5555555555555556, \"#d8576b\"], [0.6666666666666666, \"#ed7953\"], [0.7777777777777778, \"#fb9f3a\"], [0.8888888888888888, \"#fdca26\"], [1.0, \"#f0f921\"]], \"type\": \"contour\"}], \"contourcarpet\": [{\"colorbar\": {\"outlinewidth\": 0, \"ticks\": \"\"}, \"type\": \"contourcarpet\"}], \"heatmap\": [{\"colorbar\": {\"outlinewidth\": 0, \"ticks\": \"\"}, \"colorscale\": [[0.0, \"#0d0887\"], [0.1111111111111111, \"#46039f\"], [0.2222222222222222, \"#7201a8\"], [0.3333333333333333, \"#9c179e\"], [0.4444444444444444, \"#bd3786\"], [0.5555555555555556, \"#d8576b\"], [0.6666666666666666, \"#ed7953\"], [0.7777777777777778, \"#fb9f3a\"], [0.8888888888888888, \"#fdca26\"], [1.0, \"#f0f921\"]], \"type\": \"heatmap\"}], \"heatmapgl\": [{\"colorbar\": {\"outlinewidth\": 0, \"ticks\": \"\"}, \"colorscale\": [[0.0, \"#0d0887\"], [0.1111111111111111, \"#46039f\"], [0.2222222222222222, \"#7201a8\"], [0.3333333333333333, \"#9c179e\"], [0.4444444444444444, \"#bd3786\"], [0.5555555555555556, \"#d8576b\"], [0.6666666666666666, \"#ed7953\"], [0.7777777777777778, \"#fb9f3a\"], [0.8888888888888888, \"#fdca26\"], [1.0, \"#f0f921\"]], \"type\": \"heatmapgl\"}], \"histogram\": [{\"marker\": {\"colorbar\": {\"outlinewidth\": 0, \"ticks\": \"\"}}, \"type\": \"histogram\"}], \"histogram2d\": [{\"colorbar\": {\"outlinewidth\": 0, \"ticks\": \"\"}, \"colorscale\": [[0.0, \"#0d0887\"], [0.1111111111111111, \"#46039f\"], [0.2222222222222222, \"#7201a8\"], [0.3333333333333333, \"#9c179e\"], [0.4444444444444444, \"#bd3786\"], [0.5555555555555556, \"#d8576b\"], [0.6666666666666666, \"#ed7953\"], [0.7777777777777778, \"#fb9f3a\"], [0.8888888888888888, \"#fdca26\"], [1.0, \"#f0f921\"]], \"type\": \"histogram2d\"}], \"histogram2dcontour\": [{\"colorbar\": {\"outlinewidth\": 0, \"ticks\": \"\"}, \"colorscale\": [[0.0, \"#0d0887\"], [0.1111111111111111, \"#46039f\"], [0.2222222222222222, \"#7201a8\"], [0.3333333333333333, \"#9c179e\"], [0.4444444444444444, \"#bd3786\"], [0.5555555555555556, \"#d8576b\"], [0.6666666666666666, \"#ed7953\"], [0.7777777777777778, \"#fb9f3a\"], [0.8888888888888888, \"#fdca26\"], [1.0, \"#f0f921\"]], \"type\": \"histogram2dcontour\"}], \"mesh3d\": [{\"colorbar\": {\"outlinewidth\": 0, \"ticks\": \"\"}, \"type\": \"mesh3d\"}], \"parcoords\": [{\"line\": {\"colorbar\": {\"outlinewidth\": 0, \"ticks\": \"\"}}, \"type\": \"parcoords\"}], \"pie\": [{\"automargin\": true, \"type\": \"pie\"}], \"scatter\": [{\"marker\": {\"colorbar\": {\"outlinewidth\": 0, \"ticks\": \"\"}}, \"type\": \"scatter\"}], \"scatter3d\": [{\"line\": {\"colorbar\": {\"outlinewidth\": 0, \"ticks\": \"\"}}, \"marker\": {\"colorbar\": {\"outlinewidth\": 0, \"ticks\": \"\"}}, \"type\": \"scatter3d\"}], \"scattercarpet\": [{\"marker\": {\"colorbar\": {\"outlinewidth\": 0, \"ticks\": \"\"}}, \"type\": \"scattercarpet\"}], \"scattergeo\": [{\"marker\": {\"colorbar\": {\"outlinewidth\": 0, \"ticks\": \"\"}}, \"type\": \"scattergeo\"}], \"scattergl\": [{\"marker\": {\"colorbar\": {\"outlinewidth\": 0, \"ticks\": \"\"}}, \"type\": \"scattergl\"}], \"scattermapbox\": [{\"marker\": {\"colorbar\": {\"outlinewidth\": 0, \"ticks\": \"\"}}, \"type\": \"scattermapbox\"}], \"scatterpolar\": [{\"marker\": {\"colorbar\": {\"outlinewidth\": 0, \"ticks\": \"\"}}, \"type\": \"scatterpolar\"}], \"scatterpolargl\": [{\"marker\": {\"colorbar\": {\"outlinewidth\": 0, \"ticks\": \"\"}}, \"type\": \"scatterpolargl\"}], \"scatterternary\": [{\"marker\": {\"colorbar\": {\"outlinewidth\": 0, \"ticks\": \"\"}}, \"type\": \"scatterternary\"}], \"surface\": [{\"colorbar\": {\"outlinewidth\": 0, \"ticks\": \"\"}, \"colorscale\": [[0.0, \"#0d0887\"], [0.1111111111111111, \"#46039f\"], [0.2222222222222222, \"#7201a8\"], [0.3333333333333333, \"#9c179e\"], [0.4444444444444444, \"#bd3786\"], [0.5555555555555556, \"#d8576b\"], [0.6666666666666666, \"#ed7953\"], [0.7777777777777778, \"#fb9f3a\"], [0.8888888888888888, \"#fdca26\"], [1.0, \"#f0f921\"]], \"type\": \"surface\"}], \"table\": [{\"cells\": {\"fill\": {\"color\": \"#EBF0F8\"}, \"line\": {\"color\": \"white\"}}, \"header\": {\"fill\": {\"color\": \"#C8D4E3\"}, \"line\": {\"color\": \"white\"}}, \"type\": \"table\"}]}, \"layout\": {\"annotationdefaults\": {\"arrowcolor\": \"#2a3f5f\", \"arrowhead\": 0, \"arrowwidth\": 1}, \"autotypenumbers\": \"strict\", \"coloraxis\": {\"colorbar\": {\"outlinewidth\": 0, \"ticks\": \"\"}}, \"colorscale\": {\"diverging\": [[0, \"#8e0152\"], [0.1, \"#c51b7d\"], [0.2, \"#de77ae\"], [0.3, \"#f1b6da\"], [0.4, \"#fde0ef\"], [0.5, \"#f7f7f7\"], [0.6, \"#e6f5d0\"], [0.7, \"#b8e186\"], [0.8, \"#7fbc41\"], [0.9, \"#4d9221\"], [1, \"#276419\"]], \"sequential\": [[0.0, \"#0d0887\"], [0.1111111111111111, \"#46039f\"], [0.2222222222222222, \"#7201a8\"], [0.3333333333333333, \"#9c179e\"], [0.4444444444444444, \"#bd3786\"], [0.5555555555555556, \"#d8576b\"], [0.6666666666666666, \"#ed7953\"], [0.7777777777777778, \"#fb9f3a\"], [0.8888888888888888, \"#fdca26\"], [1.0, \"#f0f921\"]], \"sequentialminus\": [[0.0, \"#0d0887\"], [0.1111111111111111, \"#46039f\"], [0.2222222222222222, \"#7201a8\"], [0.3333333333333333, \"#9c179e\"], [0.4444444444444444, \"#bd3786\"], [0.5555555555555556, \"#d8576b\"], [0.6666666666666666, \"#ed7953\"], [0.7777777777777778, \"#fb9f3a\"], [0.8888888888888888, \"#fdca26\"], [1.0, \"#f0f921\"]]}, \"colorway\": [\"#636efa\", \"#EF553B\", \"#00cc96\", \"#ab63fa\", \"#FFA15A\", \"#19d3f3\", \"#FF6692\", \"#B6E880\", \"#FF97FF\", \"#FECB52\"], \"font\": {\"color\": \"#2a3f5f\"}, \"geo\": {\"bgcolor\": \"white\", \"lakecolor\": \"white\", \"landcolor\": \"#E5ECF6\", \"showlakes\": true, \"showland\": true, \"subunitcolor\": \"white\"}, \"hoverlabel\": {\"align\": \"left\"}, \"hovermode\": \"closest\", \"mapbox\": {\"style\": \"light\"}, \"paper_bgcolor\": \"white\", \"plot_bgcolor\": \"#E5ECF6\", \"polar\": {\"angularaxis\": {\"gridcolor\": \"white\", \"linecolor\": \"white\", \"ticks\": \"\"}, \"bgcolor\": \"#E5ECF6\", \"radialaxis\": {\"gridcolor\": \"white\", \"linecolor\": \"white\", \"ticks\": \"\"}}, \"scene\": {\"xaxis\": {\"backgroundcolor\": \"#E5ECF6\", \"gridcolor\": \"white\", \"gridwidth\": 2, \"linecolor\": \"white\", \"showbackground\": true, \"ticks\": \"\", \"zerolinecolor\": \"white\"}, \"yaxis\": {\"backgroundcolor\": \"#E5ECF6\", \"gridcolor\": \"white\", \"gridwidth\": 2, \"linecolor\": \"white\", \"showbackground\": true, \"ticks\": \"\", \"zerolinecolor\": \"white\"}, \"zaxis\": {\"backgroundcolor\": \"#E5ECF6\", \"gridcolor\": \"white\", \"gridwidth\": 2, \"linecolor\": \"white\", \"showbackground\": true, \"ticks\": \"\", \"zerolinecolor\": \"white\"}}, \"shapedefaults\": {\"line\": {\"color\": \"#2a3f5f\"}}, \"ternary\": {\"aaxis\": {\"gridcolor\": \"white\", \"linecolor\": \"white\", \"ticks\": \"\"}, \"baxis\": {\"gridcolor\": \"white\", \"linecolor\": \"white\", \"ticks\": \"\"}, \"bgcolor\": \"#E5ECF6\", \"caxis\": {\"gridcolor\": \"white\", \"linecolor\": \"white\", \"ticks\": \"\"}}, \"title\": {\"x\": 0.05}, \"xaxis\": {\"automargin\": true, \"gridcolor\": \"white\", \"linecolor\": \"white\", \"ticks\": \"\", \"title\": {\"standoff\": 15}, \"zerolinecolor\": \"white\", \"zerolinewidth\": 2}, \"yaxis\": {\"automargin\": true, \"gridcolor\": \"white\", \"linecolor\": \"white\", \"ticks\": \"\", \"title\": {\"standoff\": 15}, \"zerolinecolor\": \"white\", \"zerolinewidth\": 2}}}, \"xaxis\": {\"anchor\": \"y\", \"domain\": [0.0, 1.0], \"title\": {\"text\": \"x\"}}, \"yaxis\": {\"anchor\": \"x\", \"domain\": [0.0, 1.0], \"title\": {\"text\": \"y\"}}},                        {\"responsive\": true}                    ).then(function(){\n                            \nvar gd = document.getElementById('45cee43f-3aa1-4ea4-8c89-7009eb89e6be');\nvar x = new MutationObserver(function (mutations, observer) {{\n        var display = window.getComputedStyle(gd).display;\n        if (!display || display === 'none') {{\n            console.log([gd, 'removed!']);\n            Plotly.purge(gd);\n            observer.disconnect();\n        }}\n}});\n\n// Listen for the removal of the full notebook cells\nvar notebookContainer = gd.closest('#notebook-container');\nif (notebookContainer) {{\n    x.observe(notebookContainer, {childList: true});\n}}\n\n// Listen for the clearing of the current output cell\nvar outputEl = gd.closest('.output');\nif (outputEl) {{\n    x.observe(outputEl, {childList: true});\n}}\n\n                        })                };                            </script>        </div>\n</body>\n</html>"
          },
          "metadata": {},
          "output_type": "display_data"
        }
      ],
      "execution_count": 263
    },
    {
      "cell_type": "code",
      "source": "sample_sizes = list(range(1,1001))\nmeans_diff = [diff_btw_means(item, df) for item in sample_sizes]\nmean_scatter = px.scatter(x=sample_sizes, y=means_diff)\nmean_scatter.show()",
      "metadata": {
        "tags": [],
        "cell_id": "00050-38e1c5e7-1446-4e35-bc5d-47869cfe3a8e",
        "deepnote_to_be_reexecuted": false,
        "source_hash": "9f21c957",
        "execution_start": 1618870010142,
        "execution_millis": 19802,
        "deepnote_cell_type": "code"
      },
      "outputs": [
        {
          "data": {
            "text/html": "<html>\n<head><meta charset=\"utf-8\" /></head>\n<body>\n    <div>            <script src=\"https://cdnjs.cloudflare.com/ajax/libs/mathjax/2.7.5/MathJax.js?config=TeX-AMS-MML_SVG\"></script><script type=\"text/javascript\">if (window.MathJax) {MathJax.Hub.Config({SVG: {font: \"STIX-Web\"}});}</script>                <script type=\"text/javascript\">window.PlotlyConfig = {MathJaxConfig: 'local'};</script>\n        <script src=\"https://cdn.plot.ly/plotly-latest.min.js\"></script>                <div id=\"6993f99b-9e7b-49ea-a6f9-5ce2b1c0d21e\" class=\"plotly-graph-div\" style=\"height:525px; width:100%;\"></div>            <script type=\"text/javascript\">                                    window.PLOTLYENV=window.PLOTLYENV || {};                                    if (document.getElementById(\"6993f99b-9e7b-49ea-a6f9-5ce2b1c0d21e\")) {                    Plotly.newPlot(                        \"6993f99b-9e7b-49ea-a6f9-5ce2b1c0d21e\",                        [{\"hovertemplate\": \"x=%{x}<br>y=%{y}<extra></extra>\", \"legendgroup\": \"\", \"marker\": {\"color\": \"#636efa\", \"symbol\": \"circle\"}, \"mode\": \"markers\", \"name\": \"\", \"orientation\": \"v\", \"showlegend\": false, \"type\": \"scatter\", \"x\": [1, 2, 3, 4, 5, 6, 7, 8, 9, 10, 11, 12, 13, 14, 15, 16, 17, 18, 19, 20, 21, 22, 23, 24, 25, 26, 27, 28, 29, 30, 31, 32, 33, 34, 35, 36, 37, 38, 39, 40, 41, 42, 43, 44, 45, 46, 47, 48, 49, 50, 51, 52, 53, 54, 55, 56, 57, 58, 59, 60, 61, 62, 63, 64, 65, 66, 67, 68, 69, 70, 71, 72, 73, 74, 75, 76, 77, 78, 79, 80, 81, 82, 83, 84, 85, 86, 87, 88, 89, 90, 91, 92, 93, 94, 95, 96, 97, 98, 99, 100, 101, 102, 103, 104, 105, 106, 107, 108, 109, 110, 111, 112, 113, 114, 115, 116, 117, 118, 119, 120, 121, 122, 123, 124, 125, 126, 127, 128, 129, 130, 131, 132, 133, 134, 135, 136, 137, 138, 139, 140, 141, 142, 143, 144, 145, 146, 147, 148, 149, 150, 151, 152, 153, 154, 155, 156, 157, 158, 159, 160, 161, 162, 163, 164, 165, 166, 167, 168, 169, 170, 171, 172, 173, 174, 175, 176, 177, 178, 179, 180, 181, 182, 183, 184, 185, 186, 187, 188, 189, 190, 191, 192, 193, 194, 195, 196, 197, 198, 199, 200, 201, 202, 203, 204, 205, 206, 207, 208, 209, 210, 211, 212, 213, 214, 215, 216, 217, 218, 219, 220, 221, 222, 223, 224, 225, 226, 227, 228, 229, 230, 231, 232, 233, 234, 235, 236, 237, 238, 239, 240, 241, 242, 243, 244, 245, 246, 247, 248, 249, 250, 251, 252, 253, 254, 255, 256, 257, 258, 259, 260, 261, 262, 263, 264, 265, 266, 267, 268, 269, 270, 271, 272, 273, 274, 275, 276, 277, 278, 279, 280, 281, 282, 283, 284, 285, 286, 287, 288, 289, 290, 291, 292, 293, 294, 295, 296, 297, 298, 299, 300, 301, 302, 303, 304, 305, 306, 307, 308, 309, 310, 311, 312, 313, 314, 315, 316, 317, 318, 319, 320, 321, 322, 323, 324, 325, 326, 327, 328, 329, 330, 331, 332, 333, 334, 335, 336, 337, 338, 339, 340, 341, 342, 343, 344, 345, 346, 347, 348, 349, 350, 351, 352, 353, 354, 355, 356, 357, 358, 359, 360, 361, 362, 363, 364, 365, 366, 367, 368, 369, 370, 371, 372, 373, 374, 375, 376, 377, 378, 379, 380, 381, 382, 383, 384, 385, 386, 387, 388, 389, 390, 391, 392, 393, 394, 395, 396, 397, 398, 399, 400, 401, 402, 403, 404, 405, 406, 407, 408, 409, 410, 411, 412, 413, 414, 415, 416, 417, 418, 419, 420, 421, 422, 423, 424, 425, 426, 427, 428, 429, 430, 431, 432, 433, 434, 435, 436, 437, 438, 439, 440, 441, 442, 443, 444, 445, 446, 447, 448, 449, 450, 451, 452, 453, 454, 455, 456, 457, 458, 459, 460, 461, 462, 463, 464, 465, 466, 467, 468, 469, 470, 471, 472, 473, 474, 475, 476, 477, 478, 479, 480, 481, 482, 483, 484, 485, 486, 487, 488, 489, 490, 491, 492, 493, 494, 495, 496, 497, 498, 499, 500, 501, 502, 503, 504, 505, 506, 507, 508, 509, 510, 511, 512, 513, 514, 515, 516, 517, 518, 519, 520, 521, 522, 523, 524, 525, 526, 527, 528, 529, 530, 531, 532, 533, 534, 535, 536, 537, 538, 539, 540, 541, 542, 543, 544, 545, 546, 547, 548, 549, 550, 551, 552, 553, 554, 555, 556, 557, 558, 559, 560, 561, 562, 563, 564, 565, 566, 567, 568, 569, 570, 571, 572, 573, 574, 575, 576, 577, 578, 579, 580, 581, 582, 583, 584, 585, 586, 587, 588, 589, 590, 591, 592, 593, 594, 595, 596, 597, 598, 599, 600, 601, 602, 603, 604, 605, 606, 607, 608, 609, 610, 611, 612, 613, 614, 615, 616, 617, 618, 619, 620, 621, 622, 623, 624, 625, 626, 627, 628, 629, 630, 631, 632, 633, 634, 635, 636, 637, 638, 639, 640, 641, 642, 643, 644, 645, 646, 647, 648, 649, 650, 651, 652, 653, 654, 655, 656, 657, 658, 659, 660, 661, 662, 663, 664, 665, 666, 667, 668, 669, 670, 671, 672, 673, 674, 675, 676, 677, 678, 679, 680, 681, 682, 683, 684, 685, 686, 687, 688, 689, 690, 691, 692, 693, 694, 695, 696, 697, 698, 699, 700, 701, 702, 703, 704, 705, 706, 707, 708, 709, 710, 711, 712, 713, 714, 715, 716, 717, 718, 719, 720, 721, 722, 723, 724, 725, 726, 727, 728, 729, 730, 731, 732, 733, 734, 735, 736, 737, 738, 739, 740, 741, 742, 743, 744, 745, 746, 747, 748, 749, 750, 751, 752, 753, 754, 755, 756, 757, 758, 759, 760, 761, 762, 763, 764, 765, 766, 767, 768, 769, 770, 771, 772, 773, 774, 775, 776, 777, 778, 779, 780, 781, 782, 783, 784, 785, 786, 787, 788, 789, 790, 791, 792, 793, 794, 795, 796, 797, 798, 799, 800, 801, 802, 803, 804, 805, 806, 807, 808, 809, 810, 811, 812, 813, 814, 815, 816, 817, 818, 819, 820, 821, 822, 823, 824, 825, 826, 827, 828, 829, 830, 831, 832, 833, 834, 835, 836, 837, 838, 839, 840, 841, 842, 843, 844, 845, 846, 847, 848, 849, 850, 851, 852, 853, 854, 855, 856, 857, 858, 859, 860, 861, 862, 863, 864, 865, 866, 867, 868, 869, 870, 871, 872, 873, 874, 875, 876, 877, 878, 879, 880, 881, 882, 883, 884, 885, 886, 887, 888, 889, 890, 891, 892, 893, 894, 895, 896, 897, 898, 899, 900, 901, 902, 903, 904, 905, 906, 907, 908, 909, 910, 911, 912, 913, 914, 915, 916, 917, 918, 919, 920, 921, 922, 923, 924, 925, 926, 927, 928, 929, 930, 931, 932, 933, 934, 935, 936, 937, 938, 939, 940, 941, 942, 943, 944, 945, 946, 947, 948, 949, 950, 951, 952, 953, 954, 955, 956, 957, 958, 959, 960, 961, 962, 963, 964, 965, 966, 967, 968, 969, 970, 971, 972, 973, 974, 975, 976, 977, 978, 979, 980, 981, 982, 983, 984, 985, 986, 987, 988, 989, 990, 991, 992, 993, 994, 995, 996, 997, 998, 999, 1000], \"xaxis\": \"x\", \"y\": [139.45257940977717, 5342.452579409777, 11847.452579409777, 897.4525794097772, 362.25257940977644, -2926.3807539235568, -1458.8331348759366, 3729.577579409777, -5666.325198368, 415.05257940977754, -2056.547420590223, 7363.119246076445, 65.29873325593144, -4351.4759920187935, 823.0525794097775, 1286.7650794097772, -1097.7827147078697, -1400.2696428124455, -1861.6000521691694, -198.29742059022283, -820.404563447366, 2248.725306682505, 529.1917098445592, 1154.8275794097772, -610.7874205902226, -2327.6628052056076, -925.0289020717046, 2508.452579409777, -520.2025930040163, 415.18591274311075, -1734.0958076869974, -1025.4536705902228, 2211.2404581976552, -2523.4297735313994, 574.0525794097775, 403.4248016319998, -1298.7906638334662, -2361.494789011276, -1893.1115231543263, -2074.3724205902236, -1129.5718108341262, -2321.761706304509, 507.80141661907874, -1871.2292387720408, 239.98591274311002, 1859.4525794097772, 489.72917515445806, 125.41091274311111, 2613.4729875730427, -1381.8274205902235, 497.7859127431111, 330.3756563328534, 1005.5469190324184, 2302.5451720023702, -328.074693317496, -1251.6009920187935, -341.3368942744328, -352.23707576263587, 38.249189579268204, 156.43591274311075, -473.21955173776405, -5.611936719255027, 275.7541667113637, -369.4692955902228, 431.49873325593035, -115.22923877204084, 1105.557057021717, -1065.5915382372823, -721.3300292858748, -2139.1617063045087, -458.67418115360306, -630.1724205902228, -1283.4652288094003, -778.2501232929262, -854.307420590223, 699.2288951992505, 892.8551768123743, -600.1371641799669, -2020.5474205902228, -1193.2099205902232, 389.53899916286355, 230.22087209270467, -822.3426013131138, 936.0121032193001, 752.6055205862485, 329.3944398748936, -1713.5704090959698, 518.6798521370492, -736.0305666576387, 1774.5525794097775, -2259.1628052056076, 754.6482315836911, -1044.9022592999008, -867.76018654767, -614.4737363796958, 404.05674607644323, -139.80515254898637, 72.75870185875647, -563.1534811962829, 1000.4825794097778, -1369.4979156397276, 775.442775488209, 194.87005513793338, -1568.4416513594533, -146.1093253521267, -763.5474205902228, 803.1908971667872, -899.8900131828159, 293.4434050978507, -1970.3837842265857, 703.2093361665338, -1057.3063491616522, 38.753464365529, -96.11759602882012, 955.3395359315164, 507.0474069959837, 1208.0337759909744, -34.03894601395223, 490.26770546019725, -358.19742059022246, -88.69618092080054, -1240.7605353443214, 975.704611930103, 528.638063280745, 600.4365794097776, -18.444245987047907, 26.381713268045132, -514.5474205902228, 92.94870344078481, -686.4320359748381, 611.4525794097772, 289.46015516735315, -110.42711983834306, -1187.7787638738046, -713.3103835531856, 385.1658147038943, -515.9342819040921, 457.3366373807912, -407.5474205902228, 510.2097222669199, -97.21408725688889, -1681.3291107310688, 850.6274045846021, 763.7303571875545, -152.4439723143605, 818.6854561221062, 404.928769885968, -188.61498815779123, -1207.5071521338468, 967.8859127431097, 1383.7572151713666, -1077.3763679586446, -986.5539565379349, -1169.0993686421716, -516.2119367192554, 267.734630691828, -876.267165813153, -868.1107117294632, -292.006540087079, -854.3536705902225, 505.75071605573976, -110.20174157787733, -1085.7069297926773, 481.84282331221584, -70.00196604476878, 317.4405312170056, -798.5953247818397, -683.4283729711751, -434.87878153696875, 1255.793755880366, -813.2550229294047, -276.8962577995244, 325.8687643808753, -158.78879990056703, -782.9474205902225, 747.0548521370492, 210.8028618956523, 785.0930288479794, -213.70384517122875, -169.2585317013345, 180.5851760948608, -584.366101908905, 940.9061313223447, 78.3927968010812, -340.2879611307635, -65.88075392355677, -959.9859232640192, 1294.0749198353096, 170.81236776956575, -996.7263679586431, -551.6468970300139, -193.5578372568889, -973.0448299166474, -340.057729868573, 825.8679640251612, -1.5831348759365937, 547.3409042828735, 803.4222763794733, 273.1058457414347, -1217.7024205902235, -483.7862265603726, 1085.7545596077962, 184.02400798120652, -1096.88565588434, -454.68888400485775, -924.8241196193485, 97.23035718755455, -683.1195359748381, -468.80100910697, -272.86646820927126, -782.8128234338255, -873.4247790807894, 373.38215687456614, -384.29975703882155, 458.3735096423352, 443.4109127431111, 131.30511397198825, 313.5167995932643, 824.3110268983619, 241.91167031886835, -15.778189820992338, 463.2408676980649, -794.3994385274418, -630.2304563045091, -570.1163094791118, 908.6870926841129, -164.46372014969347, -125.00794690601288, -237.6478572714459, -217.77350754674444, -656.8807539235568, -102.01724817642935, -644.0366909764889, -187.76964281244545, 1185.3930049416922, 230.8847827996069, -691.256281349717, -853.5222105061894, -407.626918498172, 98.54007940977681, -49.72169444914471, -168.7416354662564, 882.5472296155385, -103.289223868911, -108.64129814124317, 507.20461193010306, 1106.0517696931784, -387.8861302676414, 82.63330230134306, 438.6405794097773, -636.6111656101439, 772.1271825843796, -811.4169858076148, -106.31513712565538, -348.3278127470858, -446.0513268402228, 871.2385716276767, 206.8556801849718, 555.8579848151821, 104.16796402516229, 495.4334223216538, 452.1205183410748, -723.1481810464975, 410.8124278946252, 828.9922020512859, 718.9112260263191, 136.93947079554528, 500.7398928426137, 520.5826909339412, -243.00297614577903, -46.03081542417203, 213.0959617627177, -412.133501176304, -805.4379315391288, -356.98742059022334, 566.9199707141252, 298.12405955418217, 87.3482628630154, -769.8341589414777, -993.9688491616507, -253.1951074229637, -370.68571846256236, -553.8654417916368, 991.4807484238609, 507.3262636203035, -799.3516163944187, -342.1502080466689, 169.03938496533192, -299.8796005210188, -269.4853516247058, -349.96666457647734, 351.22655201251655, -15.683939361553712, -482.5508219507665, 849.5237658504557, 996.6147415719388, 498.4761484333467, -356.8024541472696, 679.3054222191422, 814.3725794097772, 359.25988837987643, 1292.591652257459, -596.2338892370881, 964.6006057255672, -380.58348616399417, 280.5179388869019, -143.79497759347942, -164.61884916165218, 864.2163334550842, -2.166775428931942, -1113.836809657747, -351.5890872568889, -665.2375164368677, -167.270350526529, -371.5283729711755, 935.0696680173714, 99.10242168107106, -194.11345832607185, 454.3271875602477, 510.9338294097779, 73.29993143469983, -197.62816593183743, 476.28539674723834, -275.17396380009995, -602.4397282825303, -601.8971138417564, 1252.9021206941816, 383.09282331221584, -144.50486739873304, -146.73529937810235, 160.97221687201272, -246.97814348178872, 71.55468151187961, 146.88970515828078, 712.5451167232095, -898.9373015426045, 415.88284647209184, 1160.0058338476465, -173.86305480851115, -153.02389117845814, -79.07821237907956, -83.21701123349703, 366.90155900161335, 545.1153701074509, 588.4960576706471, 337.30518056584697, -8.976815402902503, 187.44395872012137, 807.1287971748206, 1005.0268651240622, -109.6243436671466, -429.8599205902228, -78.09416279985453, 333.1305455114725, 675.1258188463962, -337.4378700284251, -618.6986810944254, 136.20676935391202, 255.360657404206, -8.072420590222464, 310.15341043470835, 345.7481595202753, 300.21015516735315, 184.73829369549094, 134.12381228648883, 207.80230618573296, -362.0269846229203, -902.6262249380488, 435.3902487864707, 683.1796064368045, 72.63586781948106, -292.7060227407601, 115.55445608537957, -4.378971392361564, -635.3100872568903, -151.45433548384062, -505.3829643568006, -837.1823412251433, -282.34689288573645, 99.62626362030278, -57.41356232250655, -566.7620802760866, -249.81635009413912, 45.65310024311111, 269.5538781110754, 33.32822707817104, 462.22518922889867, 134.06598147163277, -465.0589887136157, 758.6884768456748, 197.96664590594082, -932.6162981412435, -71.17846384721997, -53.966202316110866, -502.77526869148824, 438.23035718755455, -214.3559848219611, 276.49278041480284, -969.2742376328297, 190.80757940977674, 627.7194123274821, 43.99735552917991, -732.1950632701228, -285.0771235605207, 105.01801150854226, 191.90578138022101, 61.32481528201242, 361.5089519587964, -203.21245726503912, -76.27181083412506, -166.9367149941154, -457.4479060271169, 479.23466173423185, 43.35113013441514, -140.42934830106606, 205.6016178713162, -440.4035356981367, 125.77076122795916, 61.24255554342926, -647.2283729711744, -247.4476581199142, -633.7867570831131, 1151.7386314192336, -158.44364700531696, 829.1114029391883, 315.0863822266783, -11.936179372423794, 411.12781305463614, -338.7945068373083, -275.0474205902228, -1004.1854716343059, -132.80667984948195, -613.9816007287918, -713.3792178252461, -4.568110245394564, 625.1360656483084, 549.8827853594339, 130.07586708101007, 515.0266113004382, 774.8162157734132, -460.14152489861226, 216.76027171746864, -684.5451632538789, -573.1600332028356, 827.4885344659579, 1423.508633221436, 312.76130424199255, -254.9893848759366, 485.92028542314074, 104.554801631999, -124.18156693168567, -471.425739174294, 1098.004455789469, -305.2324426166542, -194.84412388692544, -388.90487673057396, 115.96461442071814, -306.1565908959001, -297.0332593701787, -270.434377111962, 801.3744883034869, -856.8028318456345, 257.996855867661, 377.44611389253623, 792.0418267216046, -16.985188830565676, 3.6324509301193757, -123.39143768424037, -113.48558690152277, -91.21976101575456, -655.2077178301388, 348.7068166979134, 232.8331290926526, 127.89350767981887, -642.7937363796973, -320.8520424389626, 3.542726160301754, -145.6164582471265, -286.76453958813545, 76.06507940977644, -232.43931248211447, -62.88559486408121, 773.465001770026, 577.9339843684556, -548.854637085069, -151.0968033062727, -197.60902223293306, -57.44905993448447, 597.0129066081408, 435.90972226692065, -588.5922271075342, 355.74729485693206, -289.7502603468147, -209.00086188577006, 779.8020743592715, 101.74088586139078, -734.3442012743271, 273.0911336266454, 126.14596618332507, 318.87457940977765, 31.378727114368303, -550.8661456898244, 201.9098358710089, -335.4442459870479, 427.96545069690546, -137.5750885744128, -215.47246989988707, -241.46868043274299, 508.8985519048656, 136.0251284293845, -727.8018237213382, -131.51812371522283, -277.1809488553299, 241.40394127748186, 352.37490950686515, -371.21990121037743, -327.60351343354887, 434.7653207225194, 992.4737740147866, -201.78972828253063, 93.86716674183117, -369.90948955574095, 695.0701702319566, -562.5798633383147, -324.9169443997471, -53.55122287159247, 401.40703861281327, 544.1400794097772, 93.40721078973911, 315.71673035317326, -20.779059008302283, -958.009826605261, -493.36918419247377, 329.17355319254784, 130.34229903594496, -469.1966743215653, 196.14345464255166, 98.65704037631986, 366.07966660829334, -172.88816133096407, -356.27939840907675, -438.6083061990794, -978.5382124870921, 62.46360882154113, -334.43549398471805, -320.81481985762184, -343.1287734238613, 121.28469619809766, -268.43813097273596, 4.410761227958574, -368.4802699550146, -310.58184088007874, 305.80339315299534, -272.8452545252403, 563.596723553921, 200.44178804287003, -569.6623218469558, 367.6138697323586, 301.0214523972554, -463.6599205902221, 94.0390321727009, 390.89741926742863, 349.53250836181905, -503.38607307249185, 74.7994820646436, -109.15696122626468, -150.649713359182, 371.2730019449882, 338.03781666812574, 201.76836888346224, 348.24067047807875, 142.24278919998687, 829.0546736506149, 271.5170393400913, 203.05431854021117, -373.8894344791115, 837.1978133785815, -1.0491506940288673, 332.9448073890526, 378.9646483752949, 735.4422523874018, 0.7498302688836702, 369.1386857562611, 111.24538762895463, 568.2765110337095, 88.6351732664316, 258.44235794470114, 996.6515590016134, 60.53237567463293, 93.50512178265853, -611.8536811655194, -306.17073140103275, 330.33453556491986, -136.40432294712446, -38.09195840534812, 117.55996196011256, -341.9293301379621, -217.72802259691161, -97.24024195917082, -344.4607539235567, 766.0698839022898, 688.9990910376837, 453.9534085971736, 332.29695027070375, 370.4079513106044, -337.48966481464595, -556.0663662244897, -612.8977495375912, -707.1467637757723, -482.17037140989487, -1.5392372841670294, 1254.0832983640248, -843.010715859391, 434.3011136117311, 138.4932298162821, 147.98667031886725, -285.73542707320485, 750.5059774680303, 43.751448553557566, -21.902259299900834, -64.75837067073735, -397.2660701079076, -167.80424242007757, -229.12594623124824, -26.489820590222735, -336.4563662771234, 207.18463682604488, -325.1222613545542, -370.7509182054855, 36.51607147327013, -92.5807010973549, 334.7848578907906, 192.72904070519508, 98.56141221734833, -436.9757670469153, -659.5285526656953, -117.49090567656458, -118.95024190683762, -297.66948631792184, 266.0072669097772, -604.8984346307843, -177.14866669614094, -631.2814796882012, 55.25071605573976, -163.70245934991362, 447.1135701218518, 568.5777726091583, -90.8838403433092, -198.8109028706549, -443.41972828252983, 177.38345498581475, -155.4047825534126, -332.2978034386142, -479.20950010092565, 576.0189916235176, -571.6297376633938, 242.4099614493516, -139.51398593976774, 324.2477235675924, 380.0343975915948, 273.6235325111393, -43.83745080170229, -322.70277503969555, -693.5142880601015, -677.7188491616507, 238.22885568605307, 230.2186963513068, -605.5249655004027, 60.66932081485902, 284.2660122455982, -425.3477186528162, -124.54146820927053, -533.6677772024068, -163.83080337954016, 175.7192460764436, 379.66263858137427, 136.02865031081092, -485.32470672591626, 432.31414052906985, 71.50552058624817, 482.433489835621, 166.16225682913137, 450.32666432925, -40.31350246156762, -168.61603372890931, 314.39572809782294, -566.797784491242, 154.57321894466077, 26.24358086115535, -194.83582638732514, 118.84910618256981, -424.4477096075643, 504.38187233907047, -436.5099566132776, 161.21948588459782, 300.9568897546051, -119.16435028893102, 174.53567396565086, 406.4168140306647, -217.47027773308037, -7.648704470393568, -454.05454309734523, 708.6275438478988, -357.19514786295076, 288.57456522538087, -385.86895033526525, 28.729807132549467, -212.03470872581602, 116.7431294802991, -496.61080087191294, -122.92716742566517, 62.83179289292275, -197.26551315684264, -60.18327493196011, -321.7586094014114, 164.32548443770975, 118.60460172497915, -234.83293591055735, -523.7963774747841, -296.57242059022246, -239.67779507011255, -362.5889718367598, 511.65728203771687, 152.87108769707083, -56.4191447281537, -353.2085776150161, -645.82252375391, 378.1860958932939, 97.87781946464747, 132.4950451632012, -376.5118528747644, 21.37880891797431, -145.7343237280129, -19.345785712837824, 766.825368525424, -433.5460618945708, -319.9436214043344, -477.9905100211163, -14.581250089546302, 371.2931199503182, -100.9711722771317, 398.41888668740467, -395.8569764448657, 124.88806328074497, -301.2641991137134, 163.16571613899941, 439.17413228795704, 165.65177727073933, -13.46197332720476, 56.997912743110646, 247.31276582788632, 28.033696431053613, 37.8642659967627, -417.9996752321331, -305.93550006042096, 276.3599868171841, -633.5540256100376, 48.497434291044556, -228.6818079420009, -338.80399953759115, 662.3224874255466, 253.6494298034777, 495.3346239707207, -779.875954621637, 438.9793767953979, -304.57483573382524, 182.72376585045458, 140.9109127431111, -204.46159484249802, 72.98764434484292, -257.4618174773823, -210.33369002027393, -129.25764051260376, -179.1301079287241, 208.99709553880894, -332.8863381159954, -94.59246563526722, -139.393178944978, -443.78618824105797, -414.2961385389408, 170.1055883726458, -4.241793991757731, -588.5921204625083, -19.766808345324534, -311.8264014819433, 9.49965320112642, 501.4983227388748, -211.69209064098504, 192.21937281915598, 106.85131358699255, 229.27938092684417, -880.2961579639596, -262.3582654830352, 176.01051391859255, 353.65509513304823, -427.990887926906, 132.37227828054165, -80.13639302130105, 34.59776088662329, 696.1875794097778, -187.8707664079502, -478.0885677223923, -288.3631117483801, -423.8670723315172, 260.62400798120507, 58.595259310521215, -114.0220178640775, -196.41375722388693, 435.2881789153398, -288.5844576272593, -143.5733145482991, -276.1841200976123, -54.51052022121985, 479.32850078569936, -224.89097887243224, -379.29129313924204, 301.48929911601954, 310.9635818547649, -85.70126674406856, -145.54010351705256, -369.5937056084931, 260.1411438866635, -674.1780402743061, 26.05573474958328, -240.60317816598035, -155.63700896794762, -74.51356327462418, -176.0510437786288, 8.779479289149094, 102.75016977122323, -304.9096347899813, 302.8984928713162, 251.6674653641585, 402.3398695776432, 152.52922611636313, -479.7160808773042, -34.067133851871404, -295.2801174875967, 531.6647367399328, 318.05853179072983, -416.55812213600257, 116.26493095372098, -131.72535653328305, 250.63504386475324, 58.89163266421565, 186.77291037904433, -47.31483499400019, -303.9318545524875, 62.37366303757517, 111.21846176271902, 186.89441254726262, 203.66736814217074, 148.857034274959, -361.6598327682095, -129.96379485922807, 0.49697193314204924, -21.940652795590722, -90.39707093987272, -191.83147181257482, 52.89560266559056, 18.108793114772197, -10.081063281637398, 353.37726075392493, -364.00575392355677, -129.6988656769281, 130.39484268922206, 495.7097881756363, 151.09313240516894, 346.3651225628273, -263.95316771665966, -507.35798316197906, -280.5955857278368, 374.67938353348836, -87.62980045292352, 83.66857940977752, 817.4708442499596, 188.54379947819143, 166.36829694964035, 155.56179442684152, 309.5196248643224, 99.35042276959575, -434.8773525630113, 202.02222833389897, -239.51348393863918, -525.6513753924828, 73.1534823443144, -257.91269680217374, -181.86611428391734, 540.3220957202375, -487.5721396913468, 109.4974727880035, -16.49473000726357, -550.1812391792482, -501.7610671226612, 388.1810710298887, 276.3231151240634, -281.5306981821959, 54.39467295098075, 269.3869509336928, 506.8548016320001, 86.1584617627177, 671.5301847312858, 17.21116191254623, -83.996535634471, -391.5396857835931, -332.53086429883297, -226.66759699595605, 66.7235045199086, 565.6869028421206, -304.92544256824476, -59.65389698978288, -513.6450083095206, 214.80197700013923, 26.552141773016046, -423.68731130060587, -157.96663456402166, 302.92259031490175, -41.252213618545284, 217.71046841957104, 157.1101881054292, 38.54269884517271, -182.60381972254436, 299.34423704791334, -173.65348119628288, 190.541228058426, 396.3942640750047, -372.80739901524976, 101.64654492701811, 392.95204119664413, 612.2783858613893, -12.471158506441498, 336.05665666299683, -212.69104331262315, 130.34337170099752, 603.9595312814345, 1.4119811191794724, -597.9220203767763, 33.90247279996947, 433.52712680061813, -355.8442291008614, 217.2017823853348, -503.7639810997771, 171.7908614882508, -151.78364940378196, -197.90932535212778, 16.15553924064443, 98.6067504763032, 604.6076427009157, 65.6201241937597, 348.6715267781983, 499.34532388927255, -158.26800882551652, 138.84292568469937, -36.24867845185872, -350.01129493577173, 107.48500618802063, -101.36142268008734, -57.363704515066274, 250.90304864856807, -142.17971225688962, 428.64820896232595, -424.7262147690162, -535.5526126982186, -80.88766955287792, -14.341202973642794, 185.1347740267538, -40.701505388567966, 17.09204221969412, -154.28735867071737, 202.33711549225154, -135.50725581164443, -451.0206716190296, -252.32645450594828, 96.69590589848303, -631.2828052056066, 718.7538089179743, 8.118904895958622, -230.21306476200152, 157.8162157734132, -470.65252263103866, -288.71255820490114, -236.30098474500846, 289.77709619512825, -16.955957175588992, 11.624153013837713, 74.76393843614642, 594.0007050430086, 210.59630410613318, -422.7850343414866, 361.5232864804839, 132.5030334965577, -21.190565751512622, -16.304721697977584, -26.83011676728529, -7.251943203287738, -431.85766155407873, 4.340242398744522, 499.05578582260205, 206.8159427731407, 1.578579409777376], \"yaxis\": \"y\"}],                        {\"legend\": {\"tracegroupgap\": 0}, \"margin\": {\"t\": 60}, \"template\": {\"data\": {\"bar\": [{\"error_x\": {\"color\": \"#2a3f5f\"}, \"error_y\": {\"color\": \"#2a3f5f\"}, \"marker\": {\"line\": {\"color\": \"#E5ECF6\", \"width\": 0.5}}, \"type\": \"bar\"}], \"barpolar\": [{\"marker\": {\"line\": {\"color\": \"#E5ECF6\", \"width\": 0.5}}, \"type\": \"barpolar\"}], \"carpet\": [{\"aaxis\": {\"endlinecolor\": \"#2a3f5f\", \"gridcolor\": \"white\", \"linecolor\": \"white\", \"minorgridcolor\": \"white\", \"startlinecolor\": \"#2a3f5f\"}, \"baxis\": {\"endlinecolor\": \"#2a3f5f\", \"gridcolor\": \"white\", \"linecolor\": \"white\", \"minorgridcolor\": \"white\", \"startlinecolor\": \"#2a3f5f\"}, \"type\": \"carpet\"}], \"choropleth\": [{\"colorbar\": {\"outlinewidth\": 0, \"ticks\": \"\"}, \"type\": \"choropleth\"}], \"contour\": [{\"colorbar\": {\"outlinewidth\": 0, \"ticks\": \"\"}, \"colorscale\": [[0.0, \"#0d0887\"], [0.1111111111111111, \"#46039f\"], [0.2222222222222222, \"#7201a8\"], [0.3333333333333333, \"#9c179e\"], [0.4444444444444444, \"#bd3786\"], [0.5555555555555556, \"#d8576b\"], [0.6666666666666666, \"#ed7953\"], [0.7777777777777778, \"#fb9f3a\"], [0.8888888888888888, \"#fdca26\"], [1.0, \"#f0f921\"]], \"type\": \"contour\"}], \"contourcarpet\": [{\"colorbar\": {\"outlinewidth\": 0, \"ticks\": \"\"}, \"type\": \"contourcarpet\"}], \"heatmap\": [{\"colorbar\": {\"outlinewidth\": 0, \"ticks\": \"\"}, \"colorscale\": [[0.0, \"#0d0887\"], [0.1111111111111111, \"#46039f\"], [0.2222222222222222, \"#7201a8\"], [0.3333333333333333, \"#9c179e\"], [0.4444444444444444, \"#bd3786\"], [0.5555555555555556, \"#d8576b\"], [0.6666666666666666, \"#ed7953\"], [0.7777777777777778, \"#fb9f3a\"], [0.8888888888888888, \"#fdca26\"], [1.0, \"#f0f921\"]], \"type\": \"heatmap\"}], \"heatmapgl\": [{\"colorbar\": {\"outlinewidth\": 0, \"ticks\": \"\"}, \"colorscale\": [[0.0, \"#0d0887\"], [0.1111111111111111, \"#46039f\"], [0.2222222222222222, \"#7201a8\"], [0.3333333333333333, \"#9c179e\"], [0.4444444444444444, \"#bd3786\"], [0.5555555555555556, \"#d8576b\"], [0.6666666666666666, \"#ed7953\"], [0.7777777777777778, \"#fb9f3a\"], [0.8888888888888888, \"#fdca26\"], [1.0, \"#f0f921\"]], \"type\": \"heatmapgl\"}], \"histogram\": [{\"marker\": {\"colorbar\": {\"outlinewidth\": 0, \"ticks\": \"\"}}, \"type\": \"histogram\"}], \"histogram2d\": [{\"colorbar\": {\"outlinewidth\": 0, \"ticks\": \"\"}, \"colorscale\": [[0.0, \"#0d0887\"], [0.1111111111111111, \"#46039f\"], [0.2222222222222222, \"#7201a8\"], [0.3333333333333333, \"#9c179e\"], [0.4444444444444444, \"#bd3786\"], [0.5555555555555556, \"#d8576b\"], [0.6666666666666666, \"#ed7953\"], [0.7777777777777778, \"#fb9f3a\"], [0.8888888888888888, \"#fdca26\"], [1.0, \"#f0f921\"]], \"type\": \"histogram2d\"}], \"histogram2dcontour\": [{\"colorbar\": {\"outlinewidth\": 0, \"ticks\": \"\"}, \"colorscale\": [[0.0, \"#0d0887\"], [0.1111111111111111, \"#46039f\"], [0.2222222222222222, \"#7201a8\"], [0.3333333333333333, \"#9c179e\"], [0.4444444444444444, \"#bd3786\"], [0.5555555555555556, \"#d8576b\"], [0.6666666666666666, \"#ed7953\"], [0.7777777777777778, \"#fb9f3a\"], [0.8888888888888888, \"#fdca26\"], [1.0, \"#f0f921\"]], \"type\": \"histogram2dcontour\"}], \"mesh3d\": [{\"colorbar\": {\"outlinewidth\": 0, \"ticks\": \"\"}, \"type\": \"mesh3d\"}], \"parcoords\": [{\"line\": {\"colorbar\": {\"outlinewidth\": 0, \"ticks\": \"\"}}, \"type\": \"parcoords\"}], \"pie\": [{\"automargin\": true, \"type\": \"pie\"}], \"scatter\": [{\"marker\": {\"colorbar\": {\"outlinewidth\": 0, \"ticks\": \"\"}}, \"type\": \"scatter\"}], \"scatter3d\": [{\"line\": {\"colorbar\": {\"outlinewidth\": 0, \"ticks\": \"\"}}, \"marker\": {\"colorbar\": {\"outlinewidth\": 0, \"ticks\": \"\"}}, \"type\": \"scatter3d\"}], \"scattercarpet\": [{\"marker\": {\"colorbar\": {\"outlinewidth\": 0, \"ticks\": \"\"}}, \"type\": \"scattercarpet\"}], \"scattergeo\": [{\"marker\": {\"colorbar\": {\"outlinewidth\": 0, \"ticks\": \"\"}}, \"type\": \"scattergeo\"}], \"scattergl\": [{\"marker\": {\"colorbar\": {\"outlinewidth\": 0, \"ticks\": \"\"}}, \"type\": \"scattergl\"}], \"scattermapbox\": [{\"marker\": {\"colorbar\": {\"outlinewidth\": 0, \"ticks\": \"\"}}, \"type\": \"scattermapbox\"}], \"scatterpolar\": [{\"marker\": {\"colorbar\": {\"outlinewidth\": 0, \"ticks\": \"\"}}, \"type\": \"scatterpolar\"}], \"scatterpolargl\": [{\"marker\": {\"colorbar\": {\"outlinewidth\": 0, \"ticks\": \"\"}}, \"type\": \"scatterpolargl\"}], \"scatterternary\": [{\"marker\": {\"colorbar\": {\"outlinewidth\": 0, \"ticks\": \"\"}}, \"type\": \"scatterternary\"}], \"surface\": [{\"colorbar\": {\"outlinewidth\": 0, \"ticks\": \"\"}, \"colorscale\": [[0.0, \"#0d0887\"], [0.1111111111111111, \"#46039f\"], [0.2222222222222222, \"#7201a8\"], [0.3333333333333333, \"#9c179e\"], [0.4444444444444444, \"#bd3786\"], [0.5555555555555556, \"#d8576b\"], [0.6666666666666666, \"#ed7953\"], [0.7777777777777778, \"#fb9f3a\"], [0.8888888888888888, \"#fdca26\"], [1.0, \"#f0f921\"]], \"type\": \"surface\"}], \"table\": [{\"cells\": {\"fill\": {\"color\": \"#EBF0F8\"}, \"line\": {\"color\": \"white\"}}, \"header\": {\"fill\": {\"color\": \"#C8D4E3\"}, \"line\": {\"color\": \"white\"}}, \"type\": \"table\"}]}, \"layout\": {\"annotationdefaults\": {\"arrowcolor\": \"#2a3f5f\", \"arrowhead\": 0, \"arrowwidth\": 1}, \"autotypenumbers\": \"strict\", \"coloraxis\": {\"colorbar\": {\"outlinewidth\": 0, \"ticks\": \"\"}}, \"colorscale\": {\"diverging\": [[0, \"#8e0152\"], [0.1, \"#c51b7d\"], [0.2, \"#de77ae\"], [0.3, \"#f1b6da\"], [0.4, \"#fde0ef\"], [0.5, \"#f7f7f7\"], [0.6, \"#e6f5d0\"], [0.7, \"#b8e186\"], [0.8, \"#7fbc41\"], [0.9, \"#4d9221\"], [1, \"#276419\"]], \"sequential\": [[0.0, \"#0d0887\"], [0.1111111111111111, \"#46039f\"], [0.2222222222222222, \"#7201a8\"], [0.3333333333333333, \"#9c179e\"], [0.4444444444444444, \"#bd3786\"], [0.5555555555555556, \"#d8576b\"], [0.6666666666666666, \"#ed7953\"], [0.7777777777777778, \"#fb9f3a\"], [0.8888888888888888, \"#fdca26\"], [1.0, \"#f0f921\"]], \"sequentialminus\": [[0.0, \"#0d0887\"], [0.1111111111111111, \"#46039f\"], [0.2222222222222222, \"#7201a8\"], [0.3333333333333333, \"#9c179e\"], [0.4444444444444444, \"#bd3786\"], [0.5555555555555556, \"#d8576b\"], [0.6666666666666666, \"#ed7953\"], [0.7777777777777778, \"#fb9f3a\"], [0.8888888888888888, \"#fdca26\"], [1.0, \"#f0f921\"]]}, \"colorway\": [\"#636efa\", \"#EF553B\", \"#00cc96\", \"#ab63fa\", \"#FFA15A\", \"#19d3f3\", \"#FF6692\", \"#B6E880\", \"#FF97FF\", \"#FECB52\"], \"font\": {\"color\": \"#2a3f5f\"}, \"geo\": {\"bgcolor\": \"white\", \"lakecolor\": \"white\", \"landcolor\": \"#E5ECF6\", \"showlakes\": true, \"showland\": true, \"subunitcolor\": \"white\"}, \"hoverlabel\": {\"align\": \"left\"}, \"hovermode\": \"closest\", \"mapbox\": {\"style\": \"light\"}, \"paper_bgcolor\": \"white\", \"plot_bgcolor\": \"#E5ECF6\", \"polar\": {\"angularaxis\": {\"gridcolor\": \"white\", \"linecolor\": \"white\", \"ticks\": \"\"}, \"bgcolor\": \"#E5ECF6\", \"radialaxis\": {\"gridcolor\": \"white\", \"linecolor\": \"white\", \"ticks\": \"\"}}, \"scene\": {\"xaxis\": {\"backgroundcolor\": \"#E5ECF6\", \"gridcolor\": \"white\", \"gridwidth\": 2, \"linecolor\": \"white\", \"showbackground\": true, \"ticks\": \"\", \"zerolinecolor\": \"white\"}, \"yaxis\": {\"backgroundcolor\": \"#E5ECF6\", \"gridcolor\": \"white\", \"gridwidth\": 2, \"linecolor\": \"white\", \"showbackground\": true, \"ticks\": \"\", \"zerolinecolor\": \"white\"}, \"zaxis\": {\"backgroundcolor\": \"#E5ECF6\", \"gridcolor\": \"white\", \"gridwidth\": 2, \"linecolor\": \"white\", \"showbackground\": true, \"ticks\": \"\", \"zerolinecolor\": \"white\"}}, \"shapedefaults\": {\"line\": {\"color\": \"#2a3f5f\"}}, \"ternary\": {\"aaxis\": {\"gridcolor\": \"white\", \"linecolor\": \"white\", \"ticks\": \"\"}, \"baxis\": {\"gridcolor\": \"white\", \"linecolor\": \"white\", \"ticks\": \"\"}, \"bgcolor\": \"#E5ECF6\", \"caxis\": {\"gridcolor\": \"white\", \"linecolor\": \"white\", \"ticks\": \"\"}}, \"title\": {\"x\": 0.05}, \"xaxis\": {\"automargin\": true, \"gridcolor\": \"white\", \"linecolor\": \"white\", \"ticks\": \"\", \"title\": {\"standoff\": 15}, \"zerolinecolor\": \"white\", \"zerolinewidth\": 2}, \"yaxis\": {\"automargin\": true, \"gridcolor\": \"white\", \"linecolor\": \"white\", \"ticks\": \"\", \"title\": {\"standoff\": 15}, \"zerolinecolor\": \"white\", \"zerolinewidth\": 2}}}, \"xaxis\": {\"anchor\": \"y\", \"domain\": [0.0, 1.0], \"title\": {\"text\": \"x\"}}, \"yaxis\": {\"anchor\": \"x\", \"domain\": [0.0, 1.0], \"title\": {\"text\": \"y\"}}},                        {\"responsive\": true}                    ).then(function(){\n                            \nvar gd = document.getElementById('6993f99b-9e7b-49ea-a6f9-5ce2b1c0d21e');\nvar x = new MutationObserver(function (mutations, observer) {{\n        var display = window.getComputedStyle(gd).display;\n        if (!display || display === 'none') {{\n            console.log([gd, 'removed!']);\n            Plotly.purge(gd);\n            observer.disconnect();\n        }}\n}});\n\n// Listen for the removal of the full notebook cells\nvar notebookContainer = gd.closest('#notebook-container');\nif (notebookContainer) {{\n    x.observe(notebookContainer, {childList: true});\n}}\n\n// Listen for the clearing of the current output cell\nvar outputEl = gd.closest('.output');\nif (outputEl) {{\n    x.observe(outputEl, {childList: true});\n}}\n\n                        })                };                            </script>        </div>\n</body>\n</html>"
          },
          "metadata": {},
          "output_type": "display_data"
        }
      ],
      "execution_count": 264
    },
    {
      "cell_type": "markdown",
      "metadata": {
        "id": "MjqbewGC6oKZ",
        "cell_id": "00025-1f060171-574d-46a4-8fc6-2bbb1355617e",
        "deepnote_to_be_reexecuted": true,
        "source_hash": "762c9ac",
        "deepnote_cell_type": "markdown"
      },
      "source": "# The end \n## - Give yourself a pat on the back!\n![pat on the back](https://media.giphy.com/media/QZhTiO0LYiqnr5y4Nu/giphy.gif)",
      "execution_count": null
    },
    {
      "cell_type": "markdown",
      "source": "<a style='text-decoration:none;line-height:16px;display:flex;color:#5B5B62;padding:10px;justify-content:end;' href='https://deepnote.com?utm_source=created-in-deepnote-cell&projectId=0aee4006-0af7-4619-8637-ef17c840cb78' target=\"_blank\">\n<img alt='Created in deepnote.com' style='display:inline;max-height:16px;margin:0px;margin-right:7.5px;' src='data:image/svg+xml;base64,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' > </img>\nCreated in <span style='font-weight:600;margin-left:4px;'>Deepnote</span></a>",
      "metadata": {
        "tags": [],
        "created_in_deepnote_cell": true,
        "deepnote_cell_type": "markdown"
      }
    }
  ],
  "nbformat": 4,
  "nbformat_minor": 0,
  "metadata": {
    "kernelspec": {
      "display_name": "Python 3",
      "language": "python",
      "name": "python3"
    },
    "language_info": {
      "codemirror_mode": {
        "name": "ipython",
        "version": 3
      },
      "file_extension": ".py",
      "mimetype": "text/x-python",
      "name": "python",
      "nbconvert_exporter": "python",
      "pygments_lexer": "ipython3",
      "version": "3.7.4"
    },
    "colab": {
      "name": "assignment_08.ipynb.txt",
      "provenance": [],
      "toc_visible": true,
      "include_colab_link": true
    },
    "deepnote_notebook_id": "497d184b-5a66-46d8-969e-3389c2df0877",
    "deepnote": {},
    "deepnote_execution_queue": []
  }
}