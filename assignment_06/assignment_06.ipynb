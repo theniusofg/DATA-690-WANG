{
  "cells": [
    {
      "cell_type": "markdown",
      "source": "# Assignment 06 - Using Pandas\n## Instructions\n- This assignment is a re-do of assignment 04. We use Pandas and functions instead. \n- This assignment is a simple example of an important and complex process of \"web scraping\" to collect data.\n- You get to use the simple and convenient read_html() from Pandas to extract **HTML tables** from web pages. \n    - **NOTES: The function return a list of data frames, one for each table in the HTML page.**\n- The sample solution is here: https://github.com/wcj365/python-stats-dataviz/blob/master/pandas_apply.ipynb\n- You will try to do it on your own and use the sample solution and google if you get stuck. \n- Make sure you use **Markdown cells** to document the process and its steps.\n\nThis excercise will allow us to get a feel of how wonderful Pandas is and how powerful the combination of apply() and user-defined functions are.",
      "metadata": {
        "tags": [],
        "cell_id": "00000-a5537684-d0aa-4b72-9418-e9c323641b3f",
        "deepnote_cell_type": "markdown"
      }
    },
    {
      "cell_type": "code",
      "metadata": {
        "tags": [],
        "cell_id": "00001-cad7fe8b-9cb0-43e2-a7db-2253f0391772",
        "deepnote_to_be_reexecuted": false,
        "source_hash": "9b82ee11",
        "execution_millis": 1,
        "execution_start": 1615849814707,
        "deepnote_cell_type": "code"
      },
      "source": "import pandas as pd",
      "execution_count": null,
      "outputs": []
    },
    {
      "cell_type": "markdown",
      "source": "### 1. Use Pandas read_html() function to retrive the HTML tables as dataframes from the web page: https://www.genealogybranches.com/censuscosts.html",
      "metadata": {
        "tags": [],
        "cell_id": "00002-88b75cde-5ae0-4b04-abda-c0792b535d8d",
        "deepnote_cell_type": "markdown"
      }
    },
    {
      "cell_type": "code",
      "metadata": {
        "tags": [],
        "cell_id": "00002-f2d0645c-da79-429d-a40f-4b1cfb2e99f2",
        "deepnote_to_be_reexecuted": false,
        "source_hash": "cd1da778",
        "execution_millis": 139,
        "execution_start": 1615849814747,
        "deepnote_cell_type": "code"
      },
      "source": "df = pd.read_html('https://www.genealogybranches.com/censuscosts.html')\n",
      "execution_count": null,
      "outputs": []
    },
    {
      "cell_type": "markdown",
      "source": "### 2. Find out how many HTML tables Pandas retrieves from the web page. Find out which dataframe contain the data and use it for further processing.\n",
      "metadata": {
        "tags": [],
        "cell_id": "00004-111db868-16eb-4b18-9dd1-2a2936ad0d14",
        "deepnote_cell_type": "markdown"
      }
    },
    {
      "cell_type": "code",
      "metadata": {
        "tags": [],
        "cell_id": "00004-41760616-817d-45d0-a59e-b0dda08ca6a5",
        "deepnote_to_be_reexecuted": false,
        "source_hash": "ba2b0831",
        "execution_millis": 25,
        "execution_start": 1615849814924,
        "deepnote_cell_type": "code"
      },
      "source": "print ('number of tables retrived: ',len(df))\ndf\n",
      "execution_count": null,
      "outputs": [
        {
          "name": "stdout",
          "text": "number of tables retrived:  2\n",
          "output_type": "stream"
        },
        {
          "output_type": "execute_result",
          "execution_count": 3,
          "data": {
            "text/plain": "[              0                 1               2                        3\n 0   Census Year  Total Population     Census Cost  Average Cost Per Person\n 1          1790           3929214         $44,377               1.13 cents\n 2          1800           5308483         $66,109               1.24 cents\n 3          1810           7239881        $178,445               2.46 cents\n 4          1820           9633822        $208,526               2.16 cents\n 5          1830          12866020        $378,545               2.94 cents\n 6          1840          17069458        $833,371               4.88 cents\n 7          1850          23191876      $1,423,351               6.14 cents\n 8          1860          31443321      $1,969,377               6.26 cents\n 9          1870          38558371      $3,421,198               8.87 cents\n 10         1880          50155783      $5,790,678              11.54 cents\n 11         1890          62979766     $11,547,127              18.33 cents\n 12         1900          76303387     $11,854,000              15.54 cents\n 13         1910          91972266     $15,968,000              17.07 cents\n 14         1920         105710620     $25,117,000              23.76 cents\n 15         1930         122775046     $40,156,000              32.71 cents\n 16         1940         131669275     $67,527,000              51.29 cents\n 17         1950         151325798     $91,462,000              60.44 cents\n 18         1960         179323175    $127,934,000              71.34 cents\n 19         1970         203302031    $247,653,000                    $1.22\n 20         1980         226542199  $1,078,488,000                    $4.76\n 21         1990         248718301  $2,492,830,000                   $10.02\n 22         2000         281421906    $4.5 Billion                   $15.99\n 23        2010*         308745538     $13 Billion                   $42.11,\n                                                    0\n 0  The U.S. population reached 300,000,000 on 17 ...]"
          },
          "metadata": {}
        }
      ]
    },
    {
      "cell_type": "markdown",
      "source": "#### Our data is in the first table the the second is erroneous.",
      "metadata": {
        "tags": [],
        "cell_id": "00006-4b9ed552-6e0c-40ed-bb8c-17ce731930ae",
        "deepnote_cell_type": "markdown"
      }
    },
    {
      "cell_type": "code",
      "metadata": {
        "tags": [],
        "cell_id": "00006-89bf72af-7bc4-4923-b82d-46fe09207282",
        "deepnote_to_be_reexecuted": false,
        "source_hash": "102d7155",
        "execution_millis": 23,
        "execution_start": 1615849814926,
        "deepnote_cell_type": "code"
      },
      "source": "df = df[0] # assigns the desired data frame to df\ndf",
      "execution_count": null,
      "outputs": [
        {
          "output_type": "execute_result",
          "execution_count": 4,
          "data": {
            "application/vnd.deepnote.dataframe.v2+json": {
              "row_count": 24,
              "column_count": 4,
              "columns": [
                {
                  "name": 0,
                  "dtype": "object",
                  "stats": {
                    "unique_count": 24,
                    "nan_count": 0,
                    "categories": [
                      {
                        "name": "Census Year",
                        "count": 1
                      },
                      {
                        "name": "1790",
                        "count": 1
                      },
                      {
                        "name": "22 others",
                        "count": 22
                      }
                    ]
                  }
                },
                {
                  "name": 1,
                  "dtype": "object",
                  "stats": {
                    "unique_count": 24,
                    "nan_count": 0,
                    "categories": [
                      {
                        "name": "Total Population",
                        "count": 1
                      },
                      {
                        "name": "3929214",
                        "count": 1
                      },
                      {
                        "name": "22 others",
                        "count": 22
                      }
                    ]
                  }
                },
                {
                  "name": 2,
                  "dtype": "object",
                  "stats": {
                    "unique_count": 24,
                    "nan_count": 0,
                    "categories": [
                      {
                        "name": "Census Cost",
                        "count": 1
                      },
                      {
                        "name": "$44,377",
                        "count": 1
                      },
                      {
                        "name": "22 others",
                        "count": 22
                      }
                    ]
                  }
                },
                {
                  "name": 3,
                  "dtype": "object",
                  "stats": {
                    "unique_count": 24,
                    "nan_count": 0,
                    "categories": [
                      {
                        "name": "Average Cost Per Person",
                        "count": 1
                      },
                      {
                        "name": "1.13 cents",
                        "count": 1
                      },
                      {
                        "name": "22 others",
                        "count": 22
                      }
                    ]
                  }
                },
                {
                  "name": "_deepnote_index_column",
                  "dtype": "int64"
                }
              ],
              "rows_top": [
                {
                  "0": "Census Year",
                  "1": "Total Population",
                  "2": "Census Cost",
                  "3": "Average Cost Per Person",
                  "_deepnote_index_column": 0
                },
                {
                  "0": "1790",
                  "1": "3929214",
                  "2": "$44,377",
                  "3": "1.13 cents",
                  "_deepnote_index_column": 1
                },
                {
                  "0": "1800",
                  "1": "5308483",
                  "2": "$66,109",
                  "3": "1.24 cents",
                  "_deepnote_index_column": 2
                },
                {
                  "0": "1810",
                  "1": "7239881",
                  "2": "$178,445",
                  "3": "2.46 cents",
                  "_deepnote_index_column": 3
                },
                {
                  "0": "1820",
                  "1": "9633822",
                  "2": "$208,526",
                  "3": "2.16 cents",
                  "_deepnote_index_column": 4
                },
                {
                  "0": "1830",
                  "1": "12866020",
                  "2": "$378,545",
                  "3": "2.94 cents",
                  "_deepnote_index_column": 5
                },
                {
                  "0": "1840",
                  "1": "17069458",
                  "2": "$833,371",
                  "3": "4.88 cents",
                  "_deepnote_index_column": 6
                },
                {
                  "0": "1850",
                  "1": "23191876",
                  "2": "$1,423,351",
                  "3": "6.14 cents",
                  "_deepnote_index_column": 7
                },
                {
                  "0": "1860",
                  "1": "31443321",
                  "2": "$1,969,377",
                  "3": "6.26 cents",
                  "_deepnote_index_column": 8
                },
                {
                  "0": "1870",
                  "1": "38558371",
                  "2": "$3,421,198",
                  "3": "8.87 cents",
                  "_deepnote_index_column": 9
                },
                {
                  "0": "1880",
                  "1": "50155783",
                  "2": "$5,790,678",
                  "3": "11.54 cents",
                  "_deepnote_index_column": 10
                },
                {
                  "0": "1890",
                  "1": "62979766",
                  "2": "$11,547,127",
                  "3": "18.33 cents",
                  "_deepnote_index_column": 11
                },
                {
                  "0": "1900",
                  "1": "76303387",
                  "2": "$11,854,000",
                  "3": "15.54 cents",
                  "_deepnote_index_column": 12
                },
                {
                  "0": "1910",
                  "1": "91972266",
                  "2": "$15,968,000",
                  "3": "17.07 cents",
                  "_deepnote_index_column": 13
                },
                {
                  "0": "1920",
                  "1": "105710620",
                  "2": "$25,117,000",
                  "3": "23.76 cents",
                  "_deepnote_index_column": 14
                },
                {
                  "0": "1930",
                  "1": "122775046",
                  "2": "$40,156,000",
                  "3": "32.71 cents",
                  "_deepnote_index_column": 15
                },
                {
                  "0": "1940",
                  "1": "131669275",
                  "2": "$67,527,000",
                  "3": "51.29 cents",
                  "_deepnote_index_column": 16
                },
                {
                  "0": "1950",
                  "1": "151325798",
                  "2": "$91,462,000",
                  "3": "60.44 cents",
                  "_deepnote_index_column": 17
                },
                {
                  "0": "1960",
                  "1": "179323175",
                  "2": "$127,934,000",
                  "3": "71.34 cents",
                  "_deepnote_index_column": 18
                },
                {
                  "0": "1970",
                  "1": "203302031",
                  "2": "$247,653,000",
                  "3": "$1.22",
                  "_deepnote_index_column": 19
                },
                {
                  "0": "1980",
                  "1": "226542199",
                  "2": "$1,078,488,000",
                  "3": "$4.76",
                  "_deepnote_index_column": 20
                },
                {
                  "0": "1990",
                  "1": "248718301",
                  "2": "$2,492,830,000",
                  "3": "$10.02",
                  "_deepnote_index_column": 21
                },
                {
                  "0": "2000",
                  "1": "281421906",
                  "2": "$4.5 Billion",
                  "3": "$15.99",
                  "_deepnote_index_column": 22
                },
                {
                  "0": "2010*",
                  "1": "308745538",
                  "2": "$13 Billion",
                  "3": "$42.11",
                  "_deepnote_index_column": 23
                }
              ],
              "rows_bottom": null
            },
            "text/plain": "              0                 1               2                        3\n0   Census Year  Total Population     Census Cost  Average Cost Per Person\n1          1790           3929214         $44,377               1.13 cents\n2          1800           5308483         $66,109               1.24 cents\n3          1810           7239881        $178,445               2.46 cents\n4          1820           9633822        $208,526               2.16 cents\n5          1830          12866020        $378,545               2.94 cents\n6          1840          17069458        $833,371               4.88 cents\n7          1850          23191876      $1,423,351               6.14 cents\n8          1860          31443321      $1,969,377               6.26 cents\n9          1870          38558371      $3,421,198               8.87 cents\n10         1880          50155783      $5,790,678              11.54 cents\n11         1890          62979766     $11,547,127              18.33 cents\n12         1900          76303387     $11,854,000              15.54 cents\n13         1910          91972266     $15,968,000              17.07 cents\n14         1920         105710620     $25,117,000              23.76 cents\n15         1930         122775046     $40,156,000              32.71 cents\n16         1940         131669275     $67,527,000              51.29 cents\n17         1950         151325798     $91,462,000              60.44 cents\n18         1960         179323175    $127,934,000              71.34 cents\n19         1970         203302031    $247,653,000                    $1.22\n20         1980         226542199  $1,078,488,000                    $4.76\n21         1990         248718301  $2,492,830,000                   $10.02\n22         2000         281421906    $4.5 Billion                   $15.99\n23        2010*         308745538     $13 Billion                   $42.11",
            "text/html": "<div>\n<style scoped>\n    .dataframe tbody tr th:only-of-type {\n        vertical-align: middle;\n    }\n\n    .dataframe tbody tr th {\n        vertical-align: top;\n    }\n\n    .dataframe thead th {\n        text-align: right;\n    }\n</style>\n<table border=\"1\" class=\"dataframe\">\n  <thead>\n    <tr style=\"text-align: right;\">\n      <th></th>\n      <th>0</th>\n      <th>1</th>\n      <th>2</th>\n      <th>3</th>\n    </tr>\n  </thead>\n  <tbody>\n    <tr>\n      <th>0</th>\n      <td>Census Year</td>\n      <td>Total Population</td>\n      <td>Census Cost</td>\n      <td>Average Cost Per Person</td>\n    </tr>\n    <tr>\n      <th>1</th>\n      <td>1790</td>\n      <td>3929214</td>\n      <td>$44,377</td>\n      <td>1.13 cents</td>\n    </tr>\n    <tr>\n      <th>2</th>\n      <td>1800</td>\n      <td>5308483</td>\n      <td>$66,109</td>\n      <td>1.24 cents</td>\n    </tr>\n    <tr>\n      <th>3</th>\n      <td>1810</td>\n      <td>7239881</td>\n      <td>$178,445</td>\n      <td>2.46 cents</td>\n    </tr>\n    <tr>\n      <th>4</th>\n      <td>1820</td>\n      <td>9633822</td>\n      <td>$208,526</td>\n      <td>2.16 cents</td>\n    </tr>\n    <tr>\n      <th>5</th>\n      <td>1830</td>\n      <td>12866020</td>\n      <td>$378,545</td>\n      <td>2.94 cents</td>\n    </tr>\n    <tr>\n      <th>6</th>\n      <td>1840</td>\n      <td>17069458</td>\n      <td>$833,371</td>\n      <td>4.88 cents</td>\n    </tr>\n    <tr>\n      <th>7</th>\n      <td>1850</td>\n      <td>23191876</td>\n      <td>$1,423,351</td>\n      <td>6.14 cents</td>\n    </tr>\n    <tr>\n      <th>8</th>\n      <td>1860</td>\n      <td>31443321</td>\n      <td>$1,969,377</td>\n      <td>6.26 cents</td>\n    </tr>\n    <tr>\n      <th>9</th>\n      <td>1870</td>\n      <td>38558371</td>\n      <td>$3,421,198</td>\n      <td>8.87 cents</td>\n    </tr>\n    <tr>\n      <th>10</th>\n      <td>1880</td>\n      <td>50155783</td>\n      <td>$5,790,678</td>\n      <td>11.54 cents</td>\n    </tr>\n    <tr>\n      <th>11</th>\n      <td>1890</td>\n      <td>62979766</td>\n      <td>$11,547,127</td>\n      <td>18.33 cents</td>\n    </tr>\n    <tr>\n      <th>12</th>\n      <td>1900</td>\n      <td>76303387</td>\n      <td>$11,854,000</td>\n      <td>15.54 cents</td>\n    </tr>\n    <tr>\n      <th>13</th>\n      <td>1910</td>\n      <td>91972266</td>\n      <td>$15,968,000</td>\n      <td>17.07 cents</td>\n    </tr>\n    <tr>\n      <th>14</th>\n      <td>1920</td>\n      <td>105710620</td>\n      <td>$25,117,000</td>\n      <td>23.76 cents</td>\n    </tr>\n    <tr>\n      <th>15</th>\n      <td>1930</td>\n      <td>122775046</td>\n      <td>$40,156,000</td>\n      <td>32.71 cents</td>\n    </tr>\n    <tr>\n      <th>16</th>\n      <td>1940</td>\n      <td>131669275</td>\n      <td>$67,527,000</td>\n      <td>51.29 cents</td>\n    </tr>\n    <tr>\n      <th>17</th>\n      <td>1950</td>\n      <td>151325798</td>\n      <td>$91,462,000</td>\n      <td>60.44 cents</td>\n    </tr>\n    <tr>\n      <th>18</th>\n      <td>1960</td>\n      <td>179323175</td>\n      <td>$127,934,000</td>\n      <td>71.34 cents</td>\n    </tr>\n    <tr>\n      <th>19</th>\n      <td>1970</td>\n      <td>203302031</td>\n      <td>$247,653,000</td>\n      <td>$1.22</td>\n    </tr>\n    <tr>\n      <th>20</th>\n      <td>1980</td>\n      <td>226542199</td>\n      <td>$1,078,488,000</td>\n      <td>$4.76</td>\n    </tr>\n    <tr>\n      <th>21</th>\n      <td>1990</td>\n      <td>248718301</td>\n      <td>$2,492,830,000</td>\n      <td>$10.02</td>\n    </tr>\n    <tr>\n      <th>22</th>\n      <td>2000</td>\n      <td>281421906</td>\n      <td>$4.5 Billion</td>\n      <td>$15.99</td>\n    </tr>\n    <tr>\n      <th>23</th>\n      <td>2010*</td>\n      <td>308745538</td>\n      <td>$13 Billion</td>\n      <td>$42.11</td>\n    </tr>\n  </tbody>\n</table>\n</div>"
          },
          "metadata": {}
        }
      ]
    },
    {
      "cell_type": "markdown",
      "source": "### 3. Display and explore the data (rows, columns, etc.) and determine the data quality (bad rows, bad columns, bad elements, null values, etc.)\n",
      "metadata": {
        "tags": [],
        "cell_id": "00006-c4164067-5456-4226-bf2a-34973f70ca39",
        "deepnote_cell_type": "markdown"
      }
    },
    {
      "cell_type": "code",
      "metadata": {
        "tags": [],
        "cell_id": "00005-566b10a7-499e-47eb-b654-5086daf996c8",
        "deepnote_to_be_reexecuted": false,
        "source_hash": "27a24",
        "execution_millis": 7,
        "execution_start": 1615851627253,
        "deepnote_cell_type": "code"
      },
      "source": "print (df.shape, df, sep='\\n')\nprint(df.info())",
      "execution_count": null,
      "outputs": [
        {
          "name": "stdout",
          "text": "(23, 4)\n0  Census Year Total Population     Census Cost Average Cost Per Person\n1         1790          3929214         $44,377              1.13 cents\n2         1800          5308483         $66,109              1.24 cents\n3         1810          7239881        $178,445              2.46 cents\n4         1820          9633822        $208,526              2.16 cents\n5         1830         12866020        $378,545              2.94 cents\n6         1840         17069458        $833,371              4.88 cents\n7         1850         23191876      $1,423,351              6.14 cents\n8         1860         31443321      $1,969,377              6.26 cents\n9         1870         38558371      $3,421,198              8.87 cents\n10        1880         50155783      $5,790,678             11.54 cents\n11        1890         62979766     $11,547,127             18.33 cents\n12        1900         76303387     $11,854,000             15.54 cents\n13        1910         91972266     $15,968,000             17.07 cents\n14        1920        105710620     $25,117,000             23.76 cents\n15        1930        122775046     $40,156,000             32.71 cents\n16        1940        131669275     $67,527,000             51.29 cents\n17        1950        151325798     $91,462,000             60.44 cents\n18        1960        179323175    $127,934,000             71.34 cents\n19        1970        203302031    $247,653,000                   $1.22\n20        1980        226542199  $1,078,488,000                   $4.76\n21        1990        248718301  $2,492,830,000                  $10.02\n22        2000        281421906    $4.5 Billion                  $15.99\n23       2010*        308745538     $13 Billion                  $42.11\n<class 'pandas.core.frame.DataFrame'>\nRangeIndex: 23 entries, 1 to 23\nData columns (total 4 columns):\n #   Column                   Non-Null Count  Dtype \n---  ------                   --------------  ----- \n 0   Census Year              23 non-null     object\n 1   Total Population         23 non-null     object\n 2   Census Cost              23 non-null     object\n 3   Average Cost Per Person  23 non-null     object\ndtypes: object(4)\nmemory usage: 868.0+ bytes\nNone\n",
          "output_type": "stream"
        }
      ]
    },
    {
      "cell_type": "markdown",
      "source": "### 4. Document the data quality issues using a Markdown cell so the reader understands what the problems are.\n\nby looking at the output displayed above there are a number of errors that need to be addressed. \n\n        - the zeroth contains the column header\n        - all of the data need to be converted from string objects to ints or floats\n        - the census year column contains a non-number character '*'\n        - the census cost column needs to be pure numbers requiring the removal of the '$' and ',' characters and converting 'Billion' to a numerical value\n        - the average cost column neds to remove the 'cents' and '$' and convert all numbers to the same units (dollars) \n\n- **We will fix the first problem by making _df_ start from the first row onwards and assign the zeroth row to _df.columns_**",
      "metadata": {
        "tags": [],
        "cell_id": "00009-bd6dc058-be04-4ad2-bc77-bc115e7ed97c",
        "deepnote_cell_type": "markdown"
      }
    },
    {
      "cell_type": "code",
      "metadata": {
        "tags": [],
        "cell_id": "00009-57a58ea0-ece3-423a-9db3-98b2875451cf",
        "deepnote_to_be_reexecuted": false,
        "source_hash": "61ff9dbf",
        "execution_millis": 9,
        "execution_start": 1615849814965,
        "deepnote_cell_type": "code"
      },
      "source": "df, df.columns = df[1:] , df.iloc[0]\ndf",
      "execution_count": null,
      "outputs": [
        {
          "output_type": "execute_result",
          "execution_count": 6,
          "data": {
            "application/vnd.deepnote.dataframe.v2+json": {
              "row_count": 23,
              "column_count": 4,
              "columns": [
                {
                  "name": "Census Year",
                  "dtype": "object",
                  "stats": {
                    "unique_count": 23,
                    "nan_count": 0,
                    "categories": [
                      {
                        "name": "1790",
                        "count": 1
                      },
                      {
                        "name": "1800",
                        "count": 1
                      },
                      {
                        "name": "21 others",
                        "count": 21
                      }
                    ]
                  }
                },
                {
                  "name": "Total Population",
                  "dtype": "object",
                  "stats": {
                    "unique_count": 23,
                    "nan_count": 0,
                    "categories": [
                      {
                        "name": "3929214",
                        "count": 1
                      },
                      {
                        "name": "5308483",
                        "count": 1
                      },
                      {
                        "name": "21 others",
                        "count": 21
                      }
                    ]
                  }
                },
                {
                  "name": "Census Cost",
                  "dtype": "object",
                  "stats": {
                    "unique_count": 23,
                    "nan_count": 0,
                    "categories": [
                      {
                        "name": "$44,377",
                        "count": 1
                      },
                      {
                        "name": "$66,109",
                        "count": 1
                      },
                      {
                        "name": "21 others",
                        "count": 21
                      }
                    ]
                  }
                },
                {
                  "name": "Average Cost Per Person",
                  "dtype": "object",
                  "stats": {
                    "unique_count": 23,
                    "nan_count": 0,
                    "categories": [
                      {
                        "name": "1.13 cents",
                        "count": 1
                      },
                      {
                        "name": "1.24 cents",
                        "count": 1
                      },
                      {
                        "name": "21 others",
                        "count": 21
                      }
                    ]
                  }
                },
                {
                  "name": "_deepnote_index_column",
                  "dtype": "int64"
                }
              ],
              "rows_top": [
                {
                  "Census Year": "1790",
                  "Total Population": "3929214",
                  "Census Cost": "$44,377",
                  "Average Cost Per Person": "1.13 cents",
                  "_deepnote_index_column": 1
                },
                {
                  "Census Year": "1800",
                  "Total Population": "5308483",
                  "Census Cost": "$66,109",
                  "Average Cost Per Person": "1.24 cents",
                  "_deepnote_index_column": 2
                },
                {
                  "Census Year": "1810",
                  "Total Population": "7239881",
                  "Census Cost": "$178,445",
                  "Average Cost Per Person": "2.46 cents",
                  "_deepnote_index_column": 3
                },
                {
                  "Census Year": "1820",
                  "Total Population": "9633822",
                  "Census Cost": "$208,526",
                  "Average Cost Per Person": "2.16 cents",
                  "_deepnote_index_column": 4
                },
                {
                  "Census Year": "1830",
                  "Total Population": "12866020",
                  "Census Cost": "$378,545",
                  "Average Cost Per Person": "2.94 cents",
                  "_deepnote_index_column": 5
                },
                {
                  "Census Year": "1840",
                  "Total Population": "17069458",
                  "Census Cost": "$833,371",
                  "Average Cost Per Person": "4.88 cents",
                  "_deepnote_index_column": 6
                },
                {
                  "Census Year": "1850",
                  "Total Population": "23191876",
                  "Census Cost": "$1,423,351",
                  "Average Cost Per Person": "6.14 cents",
                  "_deepnote_index_column": 7
                },
                {
                  "Census Year": "1860",
                  "Total Population": "31443321",
                  "Census Cost": "$1,969,377",
                  "Average Cost Per Person": "6.26 cents",
                  "_deepnote_index_column": 8
                },
                {
                  "Census Year": "1870",
                  "Total Population": "38558371",
                  "Census Cost": "$3,421,198",
                  "Average Cost Per Person": "8.87 cents",
                  "_deepnote_index_column": 9
                },
                {
                  "Census Year": "1880",
                  "Total Population": "50155783",
                  "Census Cost": "$5,790,678",
                  "Average Cost Per Person": "11.54 cents",
                  "_deepnote_index_column": 10
                },
                {
                  "Census Year": "1890",
                  "Total Population": "62979766",
                  "Census Cost": "$11,547,127",
                  "Average Cost Per Person": "18.33 cents",
                  "_deepnote_index_column": 11
                },
                {
                  "Census Year": "1900",
                  "Total Population": "76303387",
                  "Census Cost": "$11,854,000",
                  "Average Cost Per Person": "15.54 cents",
                  "_deepnote_index_column": 12
                },
                {
                  "Census Year": "1910",
                  "Total Population": "91972266",
                  "Census Cost": "$15,968,000",
                  "Average Cost Per Person": "17.07 cents",
                  "_deepnote_index_column": 13
                },
                {
                  "Census Year": "1920",
                  "Total Population": "105710620",
                  "Census Cost": "$25,117,000",
                  "Average Cost Per Person": "23.76 cents",
                  "_deepnote_index_column": 14
                },
                {
                  "Census Year": "1930",
                  "Total Population": "122775046",
                  "Census Cost": "$40,156,000",
                  "Average Cost Per Person": "32.71 cents",
                  "_deepnote_index_column": 15
                },
                {
                  "Census Year": "1940",
                  "Total Population": "131669275",
                  "Census Cost": "$67,527,000",
                  "Average Cost Per Person": "51.29 cents",
                  "_deepnote_index_column": 16
                },
                {
                  "Census Year": "1950",
                  "Total Population": "151325798",
                  "Census Cost": "$91,462,000",
                  "Average Cost Per Person": "60.44 cents",
                  "_deepnote_index_column": 17
                },
                {
                  "Census Year": "1960",
                  "Total Population": "179323175",
                  "Census Cost": "$127,934,000",
                  "Average Cost Per Person": "71.34 cents",
                  "_deepnote_index_column": 18
                },
                {
                  "Census Year": "1970",
                  "Total Population": "203302031",
                  "Census Cost": "$247,653,000",
                  "Average Cost Per Person": "$1.22",
                  "_deepnote_index_column": 19
                },
                {
                  "Census Year": "1980",
                  "Total Population": "226542199",
                  "Census Cost": "$1,078,488,000",
                  "Average Cost Per Person": "$4.76",
                  "_deepnote_index_column": 20
                },
                {
                  "Census Year": "1990",
                  "Total Population": "248718301",
                  "Census Cost": "$2,492,830,000",
                  "Average Cost Per Person": "$10.02",
                  "_deepnote_index_column": 21
                },
                {
                  "Census Year": "2000",
                  "Total Population": "281421906",
                  "Census Cost": "$4.5 Billion",
                  "Average Cost Per Person": "$15.99",
                  "_deepnote_index_column": 22
                },
                {
                  "Census Year": "2010*",
                  "Total Population": "308745538",
                  "Census Cost": "$13 Billion",
                  "Average Cost Per Person": "$42.11",
                  "_deepnote_index_column": 23
                }
              ],
              "rows_bottom": null
            },
            "text/plain": "0  Census Year Total Population     Census Cost Average Cost Per Person\n1         1790          3929214         $44,377              1.13 cents\n2         1800          5308483         $66,109              1.24 cents\n3         1810          7239881        $178,445              2.46 cents\n4         1820          9633822        $208,526              2.16 cents\n5         1830         12866020        $378,545              2.94 cents\n6         1840         17069458        $833,371              4.88 cents\n7         1850         23191876      $1,423,351              6.14 cents\n8         1860         31443321      $1,969,377              6.26 cents\n9         1870         38558371      $3,421,198              8.87 cents\n10        1880         50155783      $5,790,678             11.54 cents\n11        1890         62979766     $11,547,127             18.33 cents\n12        1900         76303387     $11,854,000             15.54 cents\n13        1910         91972266     $15,968,000             17.07 cents\n14        1920        105710620     $25,117,000             23.76 cents\n15        1930        122775046     $40,156,000             32.71 cents\n16        1940        131669275     $67,527,000             51.29 cents\n17        1950        151325798     $91,462,000             60.44 cents\n18        1960        179323175    $127,934,000             71.34 cents\n19        1970        203302031    $247,653,000                   $1.22\n20        1980        226542199  $1,078,488,000                   $4.76\n21        1990        248718301  $2,492,830,000                  $10.02\n22        2000        281421906    $4.5 Billion                  $15.99\n23       2010*        308745538     $13 Billion                  $42.11",
            "text/html": "<div>\n<style scoped>\n    .dataframe tbody tr th:only-of-type {\n        vertical-align: middle;\n    }\n\n    .dataframe tbody tr th {\n        vertical-align: top;\n    }\n\n    .dataframe thead th {\n        text-align: right;\n    }\n</style>\n<table border=\"1\" class=\"dataframe\">\n  <thead>\n    <tr style=\"text-align: right;\">\n      <th></th>\n      <th>Census Year</th>\n      <th>Total Population</th>\n      <th>Census Cost</th>\n      <th>Average Cost Per Person</th>\n    </tr>\n  </thead>\n  <tbody>\n    <tr>\n      <th>1</th>\n      <td>1790</td>\n      <td>3929214</td>\n      <td>$44,377</td>\n      <td>1.13 cents</td>\n    </tr>\n    <tr>\n      <th>2</th>\n      <td>1800</td>\n      <td>5308483</td>\n      <td>$66,109</td>\n      <td>1.24 cents</td>\n    </tr>\n    <tr>\n      <th>3</th>\n      <td>1810</td>\n      <td>7239881</td>\n      <td>$178,445</td>\n      <td>2.46 cents</td>\n    </tr>\n    <tr>\n      <th>4</th>\n      <td>1820</td>\n      <td>9633822</td>\n      <td>$208,526</td>\n      <td>2.16 cents</td>\n    </tr>\n    <tr>\n      <th>5</th>\n      <td>1830</td>\n      <td>12866020</td>\n      <td>$378,545</td>\n      <td>2.94 cents</td>\n    </tr>\n    <tr>\n      <th>6</th>\n      <td>1840</td>\n      <td>17069458</td>\n      <td>$833,371</td>\n      <td>4.88 cents</td>\n    </tr>\n    <tr>\n      <th>7</th>\n      <td>1850</td>\n      <td>23191876</td>\n      <td>$1,423,351</td>\n      <td>6.14 cents</td>\n    </tr>\n    <tr>\n      <th>8</th>\n      <td>1860</td>\n      <td>31443321</td>\n      <td>$1,969,377</td>\n      <td>6.26 cents</td>\n    </tr>\n    <tr>\n      <th>9</th>\n      <td>1870</td>\n      <td>38558371</td>\n      <td>$3,421,198</td>\n      <td>8.87 cents</td>\n    </tr>\n    <tr>\n      <th>10</th>\n      <td>1880</td>\n      <td>50155783</td>\n      <td>$5,790,678</td>\n      <td>11.54 cents</td>\n    </tr>\n    <tr>\n      <th>11</th>\n      <td>1890</td>\n      <td>62979766</td>\n      <td>$11,547,127</td>\n      <td>18.33 cents</td>\n    </tr>\n    <tr>\n      <th>12</th>\n      <td>1900</td>\n      <td>76303387</td>\n      <td>$11,854,000</td>\n      <td>15.54 cents</td>\n    </tr>\n    <tr>\n      <th>13</th>\n      <td>1910</td>\n      <td>91972266</td>\n      <td>$15,968,000</td>\n      <td>17.07 cents</td>\n    </tr>\n    <tr>\n      <th>14</th>\n      <td>1920</td>\n      <td>105710620</td>\n      <td>$25,117,000</td>\n      <td>23.76 cents</td>\n    </tr>\n    <tr>\n      <th>15</th>\n      <td>1930</td>\n      <td>122775046</td>\n      <td>$40,156,000</td>\n      <td>32.71 cents</td>\n    </tr>\n    <tr>\n      <th>16</th>\n      <td>1940</td>\n      <td>131669275</td>\n      <td>$67,527,000</td>\n      <td>51.29 cents</td>\n    </tr>\n    <tr>\n      <th>17</th>\n      <td>1950</td>\n      <td>151325798</td>\n      <td>$91,462,000</td>\n      <td>60.44 cents</td>\n    </tr>\n    <tr>\n      <th>18</th>\n      <td>1960</td>\n      <td>179323175</td>\n      <td>$127,934,000</td>\n      <td>71.34 cents</td>\n    </tr>\n    <tr>\n      <th>19</th>\n      <td>1970</td>\n      <td>203302031</td>\n      <td>$247,653,000</td>\n      <td>$1.22</td>\n    </tr>\n    <tr>\n      <th>20</th>\n      <td>1980</td>\n      <td>226542199</td>\n      <td>$1,078,488,000</td>\n      <td>$4.76</td>\n    </tr>\n    <tr>\n      <th>21</th>\n      <td>1990</td>\n      <td>248718301</td>\n      <td>$2,492,830,000</td>\n      <td>$10.02</td>\n    </tr>\n    <tr>\n      <th>22</th>\n      <td>2000</td>\n      <td>281421906</td>\n      <td>$4.5 Billion</td>\n      <td>$15.99</td>\n    </tr>\n    <tr>\n      <th>23</th>\n      <td>2010*</td>\n      <td>308745538</td>\n      <td>$13 Billion</td>\n      <td>$42.11</td>\n    </tr>\n  </tbody>\n</table>\n</div>"
          },
          "metadata": {}
        }
      ]
    },
    {
      "cell_type": "markdown",
      "source": "That problem's solved. Now we need to address how to fix all the wonky numbers.\n\n~~5. Write a function named cleanse_year() that takes a string as input and removes any asterisks in the string and return the cleansed string. Test the function by using test strings (for example, \"1989*\", \"20*10\")~~\n\n~~6. Cleanse the column \"Census Year\" using the function cleanse_year() and Pandas's apply() function.~~\n\n~~7. Repeat this process for column \"Total Population\", \t\"Census Cost\", \t\"Average Cost Per Person\". (define, test, and apply the function)~~\n\n### 5. Do everything at once like a savage\n\n- **To fix our 'numbers problem' we will use some functions to handle the removal of unwanted characters and then use pandas' built-in function to faciliate the conversion to numbers**\n\nI'm going to be using regex to parse the data and remove anything that is not a number or a decimal point.\n\n#### The Functions:\n**mknumstr(a_str)** parses a string and removes any undesireable character and returns the cleansed string\n\n**is_billion(a_str)** checks string for 'Billion' returns a boolean value\n\n**is_cents(a_str)** checks string for 'cents' returns a boolean value\n\n**prep_data(a_str)** finally adding it all together, this functions applies the appropriate mathematical calculations for each string that is passed through returns string\n\n",
      "metadata": {
        "tags": [],
        "cell_id": "00011-51ba22ac-65ec-452c-953a-617469a37a80",
        "deepnote_cell_type": "markdown"
      }
    },
    {
      "cell_type": "code",
      "metadata": {
        "tags": [],
        "cell_id": "00012-5b1d1e40-2401-4f9f-82f7-7f659d25f294",
        "deepnote_to_be_reexecuted": false,
        "source_hash": "a16a6433",
        "execution_millis": 0,
        "execution_start": 1615849815007,
        "deepnote_cell_type": "code"
      },
      "source": "import re\n\ndef mknumstr(a_str):\n  return re.sub('[^0-9\\.]', '', a_str)\n\ndef is_billion(a_str):\n  return False if a_str.find('Billion') == -1 else True\n\ndef is_cents(a_str):\n    return False if a_str.find('cents') == -1 else True\n\n\ndef cleanse_data(a_str):\n  if (is_billion(a_str)):\n    return str(int(float(mknumstr(a_str))*10e8))\n  elif (is_cents(a_str)):\n    return str(round(float(mknumstr(a_str))/100, 4))\n  else:\n    return mknumstr(a_str)",
      "execution_count": null,
      "outputs": []
    },
    {
      "cell_type": "markdown",
      "source": "#### Use the custom **cleanse_data()** function on df and pandas' **.to_numeric()** to convert all columns to numerical values",
      "metadata": {
        "tags": [],
        "cell_id": "00014-6e4fd29b-d5b9-480c-b35d-5b914d613842",
        "deepnote_cell_type": "markdown"
      }
    },
    {
      "cell_type": "code",
      "metadata": {
        "tags": [],
        "cell_id": "00013-d570d3fb-0847-4d5f-a28d-57fbbaa59ba5",
        "deepnote_to_be_reexecuted": false,
        "source_hash": "faafabbb",
        "execution_millis": 26,
        "execution_start": 1615849815008,
        "deepnote_cell_type": "code"
      },
      "source": "df_clean = df.applymap(cleanse_data) # remove unwanted characters\ndf_clean = df_clean.apply(pd.to_numeric) # convert to numerical values\ndf_clean",
      "execution_count": null,
      "outputs": [
        {
          "output_type": "execute_result",
          "execution_count": 8,
          "data": {
            "application/vnd.deepnote.dataframe.v2+json": {
              "row_count": 23,
              "column_count": 4,
              "columns": [
                {
                  "name": "Census Year",
                  "dtype": "int64",
                  "stats": {
                    "unique_count": 23,
                    "nan_count": 0,
                    "min": 1790,
                    "max": 2010,
                    "histogram": [
                      {
                        "bin_start": 1790,
                        "bin_end": 1812,
                        "count": 3
                      },
                      {
                        "bin_start": 1812,
                        "bin_end": 1834,
                        "count": 2
                      },
                      {
                        "bin_start": 1834,
                        "bin_end": 1856,
                        "count": 2
                      },
                      {
                        "bin_start": 1856,
                        "bin_end": 1878,
                        "count": 2
                      },
                      {
                        "bin_start": 1878,
                        "bin_end": 1900,
                        "count": 2
                      },
                      {
                        "bin_start": 1900,
                        "bin_end": 1922,
                        "count": 3
                      },
                      {
                        "bin_start": 1922,
                        "bin_end": 1944,
                        "count": 2
                      },
                      {
                        "bin_start": 1944,
                        "bin_end": 1966,
                        "count": 2
                      },
                      {
                        "bin_start": 1966,
                        "bin_end": 1988,
                        "count": 2
                      },
                      {
                        "bin_start": 1988,
                        "bin_end": 2010,
                        "count": 3
                      }
                    ]
                  }
                },
                {
                  "name": "Total Population",
                  "dtype": "int64",
                  "stats": {
                    "unique_count": 23,
                    "nan_count": 0,
                    "min": 3929214,
                    "max": 308745538,
                    "histogram": [
                      {
                        "bin_start": 3929214,
                        "bin_end": 34410846.4,
                        "count": 8
                      },
                      {
                        "bin_start": 34410846.4,
                        "bin_end": 64892478.8,
                        "count": 3
                      },
                      {
                        "bin_start": 64892478.8,
                        "bin_end": 95374111.19999999,
                        "count": 2
                      },
                      {
                        "bin_start": 95374111.19999999,
                        "bin_end": 125855743.6,
                        "count": 2
                      },
                      {
                        "bin_start": 125855743.6,
                        "bin_end": 156337376,
                        "count": 2
                      },
                      {
                        "bin_start": 156337376,
                        "bin_end": 186819008.39999998,
                        "count": 1
                      },
                      {
                        "bin_start": 186819008.39999998,
                        "bin_end": 217300640.79999998,
                        "count": 1
                      },
                      {
                        "bin_start": 217300640.79999998,
                        "bin_end": 247782273.2,
                        "count": 1
                      },
                      {
                        "bin_start": 247782273.2,
                        "bin_end": 278263905.59999996,
                        "count": 1
                      },
                      {
                        "bin_start": 278263905.59999996,
                        "bin_end": 308745538,
                        "count": 2
                      }
                    ]
                  }
                },
                {
                  "name": "Census Cost",
                  "dtype": "int64",
                  "stats": {
                    "unique_count": 23,
                    "nan_count": 0,
                    "min": 44377,
                    "max": 13000000000,
                    "histogram": [
                      {
                        "bin_start": 44377,
                        "bin_end": 1300039939.3,
                        "count": 20
                      },
                      {
                        "bin_start": 1300039939.3,
                        "bin_end": 2600035501.6,
                        "count": 1
                      },
                      {
                        "bin_start": 2600035501.6,
                        "bin_end": 3900031063.8999996,
                        "count": 0
                      },
                      {
                        "bin_start": 3900031063.8999996,
                        "bin_end": 5200026626.2,
                        "count": 1
                      },
                      {
                        "bin_start": 5200026626.2,
                        "bin_end": 6500022188.5,
                        "count": 0
                      },
                      {
                        "bin_start": 6500022188.5,
                        "bin_end": 7800017750.799999,
                        "count": 0
                      },
                      {
                        "bin_start": 7800017750.799999,
                        "bin_end": 9100013313.1,
                        "count": 0
                      },
                      {
                        "bin_start": 9100013313.1,
                        "bin_end": 10400008875.4,
                        "count": 0
                      },
                      {
                        "bin_start": 10400008875.4,
                        "bin_end": 11700004437.699999,
                        "count": 0
                      },
                      {
                        "bin_start": 11700004437.699999,
                        "bin_end": 13000000000,
                        "count": 1
                      }
                    ]
                  }
                },
                {
                  "name": "Average Cost Per Person",
                  "dtype": "float64",
                  "stats": {
                    "unique_count": 23,
                    "nan_count": 0,
                    "min": 0.0113,
                    "max": 42.11,
                    "histogram": [
                      {
                        "bin_start": 0.0113,
                        "bin_end": 4.221170000000001,
                        "count": 19
                      },
                      {
                        "bin_start": 4.221170000000001,
                        "bin_end": 8.431040000000001,
                        "count": 1
                      },
                      {
                        "bin_start": 8.431040000000001,
                        "bin_end": 12.640910000000002,
                        "count": 1
                      },
                      {
                        "bin_start": 12.640910000000002,
                        "bin_end": 16.85078,
                        "count": 1
                      },
                      {
                        "bin_start": 16.85078,
                        "bin_end": 21.060650000000003,
                        "count": 0
                      },
                      {
                        "bin_start": 21.060650000000003,
                        "bin_end": 25.27052,
                        "count": 0
                      },
                      {
                        "bin_start": 25.27052,
                        "bin_end": 29.48039,
                        "count": 0
                      },
                      {
                        "bin_start": 29.48039,
                        "bin_end": 33.69026,
                        "count": 0
                      },
                      {
                        "bin_start": 33.69026,
                        "bin_end": 37.900130000000004,
                        "count": 0
                      },
                      {
                        "bin_start": 37.900130000000004,
                        "bin_end": 42.11,
                        "count": 1
                      }
                    ]
                  }
                },
                {
                  "name": "_deepnote_index_column",
                  "dtype": "int64"
                }
              ],
              "rows_top": [
                {
                  "Census Year": 1790,
                  "Total Population": 3929214,
                  "Census Cost": 44377,
                  "Average Cost Per Person": 0.0113,
                  "_deepnote_index_column": 1
                },
                {
                  "Census Year": 1800,
                  "Total Population": 5308483,
                  "Census Cost": 66109,
                  "Average Cost Per Person": 0.0124,
                  "_deepnote_index_column": 2
                },
                {
                  "Census Year": 1810,
                  "Total Population": 7239881,
                  "Census Cost": 178445,
                  "Average Cost Per Person": 0.0246,
                  "_deepnote_index_column": 3
                },
                {
                  "Census Year": 1820,
                  "Total Population": 9633822,
                  "Census Cost": 208526,
                  "Average Cost Per Person": 0.0216,
                  "_deepnote_index_column": 4
                },
                {
                  "Census Year": 1830,
                  "Total Population": 12866020,
                  "Census Cost": 378545,
                  "Average Cost Per Person": 0.0294,
                  "_deepnote_index_column": 5
                },
                {
                  "Census Year": 1840,
                  "Total Population": 17069458,
                  "Census Cost": 833371,
                  "Average Cost Per Person": 0.0488,
                  "_deepnote_index_column": 6
                },
                {
                  "Census Year": 1850,
                  "Total Population": 23191876,
                  "Census Cost": 1423351,
                  "Average Cost Per Person": 0.0614,
                  "_deepnote_index_column": 7
                },
                {
                  "Census Year": 1860,
                  "Total Population": 31443321,
                  "Census Cost": 1969377,
                  "Average Cost Per Person": 0.0626,
                  "_deepnote_index_column": 8
                },
                {
                  "Census Year": 1870,
                  "Total Population": 38558371,
                  "Census Cost": 3421198,
                  "Average Cost Per Person": 0.0887,
                  "_deepnote_index_column": 9
                },
                {
                  "Census Year": 1880,
                  "Total Population": 50155783,
                  "Census Cost": 5790678,
                  "Average Cost Per Person": 0.1154,
                  "_deepnote_index_column": 10
                },
                {
                  "Census Year": 1890,
                  "Total Population": 62979766,
                  "Census Cost": 11547127,
                  "Average Cost Per Person": 0.1833,
                  "_deepnote_index_column": 11
                },
                {
                  "Census Year": 1900,
                  "Total Population": 76303387,
                  "Census Cost": 11854000,
                  "Average Cost Per Person": 0.1554,
                  "_deepnote_index_column": 12
                },
                {
                  "Census Year": 1910,
                  "Total Population": 91972266,
                  "Census Cost": 15968000,
                  "Average Cost Per Person": 0.1707,
                  "_deepnote_index_column": 13
                },
                {
                  "Census Year": 1920,
                  "Total Population": 105710620,
                  "Census Cost": 25117000,
                  "Average Cost Per Person": 0.2376,
                  "_deepnote_index_column": 14
                },
                {
                  "Census Year": 1930,
                  "Total Population": 122775046,
                  "Census Cost": 40156000,
                  "Average Cost Per Person": 0.3271,
                  "_deepnote_index_column": 15
                },
                {
                  "Census Year": 1940,
                  "Total Population": 131669275,
                  "Census Cost": 67527000,
                  "Average Cost Per Person": 0.5129,
                  "_deepnote_index_column": 16
                },
                {
                  "Census Year": 1950,
                  "Total Population": 151325798,
                  "Census Cost": 91462000,
                  "Average Cost Per Person": 0.6044,
                  "_deepnote_index_column": 17
                },
                {
                  "Census Year": 1960,
                  "Total Population": 179323175,
                  "Census Cost": 127934000,
                  "Average Cost Per Person": 0.7134,
                  "_deepnote_index_column": 18
                },
                {
                  "Census Year": 1970,
                  "Total Population": 203302031,
                  "Census Cost": 247653000,
                  "Average Cost Per Person": 1.22,
                  "_deepnote_index_column": 19
                },
                {
                  "Census Year": 1980,
                  "Total Population": 226542199,
                  "Census Cost": 1078488000,
                  "Average Cost Per Person": 4.76,
                  "_deepnote_index_column": 20
                },
                {
                  "Census Year": 1990,
                  "Total Population": 248718301,
                  "Census Cost": 2492830000,
                  "Average Cost Per Person": 10.02,
                  "_deepnote_index_column": 21
                },
                {
                  "Census Year": 2000,
                  "Total Population": 281421906,
                  "Census Cost": 4500000000,
                  "Average Cost Per Person": 15.99,
                  "_deepnote_index_column": 22
                },
                {
                  "Census Year": 2010,
                  "Total Population": 308745538,
                  "Census Cost": 13000000000,
                  "Average Cost Per Person": 42.11,
                  "_deepnote_index_column": 23
                }
              ],
              "rows_bottom": null
            },
            "text/plain": "0   Census Year  Total Population  Census Cost  Average Cost Per Person\n1          1790           3929214        44377                   0.0113\n2          1800           5308483        66109                   0.0124\n3          1810           7239881       178445                   0.0246\n4          1820           9633822       208526                   0.0216\n5          1830          12866020       378545                   0.0294\n6          1840          17069458       833371                   0.0488\n7          1850          23191876      1423351                   0.0614\n8          1860          31443321      1969377                   0.0626\n9          1870          38558371      3421198                   0.0887\n10         1880          50155783      5790678                   0.1154\n11         1890          62979766     11547127                   0.1833\n12         1900          76303387     11854000                   0.1554\n13         1910          91972266     15968000                   0.1707\n14         1920         105710620     25117000                   0.2376\n15         1930         122775046     40156000                   0.3271\n16         1940         131669275     67527000                   0.5129\n17         1950         151325798     91462000                   0.6044\n18         1960         179323175    127934000                   0.7134\n19         1970         203302031    247653000                   1.2200\n20         1980         226542199   1078488000                   4.7600\n21         1990         248718301   2492830000                  10.0200\n22         2000         281421906   4500000000                  15.9900\n23         2010         308745538  13000000000                  42.1100",
            "text/html": "<div>\n<style scoped>\n    .dataframe tbody tr th:only-of-type {\n        vertical-align: middle;\n    }\n\n    .dataframe tbody tr th {\n        vertical-align: top;\n    }\n\n    .dataframe thead th {\n        text-align: right;\n    }\n</style>\n<table border=\"1\" class=\"dataframe\">\n  <thead>\n    <tr style=\"text-align: right;\">\n      <th></th>\n      <th>Census Year</th>\n      <th>Total Population</th>\n      <th>Census Cost</th>\n      <th>Average Cost Per Person</th>\n    </tr>\n  </thead>\n  <tbody>\n    <tr>\n      <th>1</th>\n      <td>1790</td>\n      <td>3929214</td>\n      <td>44377</td>\n      <td>0.0113</td>\n    </tr>\n    <tr>\n      <th>2</th>\n      <td>1800</td>\n      <td>5308483</td>\n      <td>66109</td>\n      <td>0.0124</td>\n    </tr>\n    <tr>\n      <th>3</th>\n      <td>1810</td>\n      <td>7239881</td>\n      <td>178445</td>\n      <td>0.0246</td>\n    </tr>\n    <tr>\n      <th>4</th>\n      <td>1820</td>\n      <td>9633822</td>\n      <td>208526</td>\n      <td>0.0216</td>\n    </tr>\n    <tr>\n      <th>5</th>\n      <td>1830</td>\n      <td>12866020</td>\n      <td>378545</td>\n      <td>0.0294</td>\n    </tr>\n    <tr>\n      <th>6</th>\n      <td>1840</td>\n      <td>17069458</td>\n      <td>833371</td>\n      <td>0.0488</td>\n    </tr>\n    <tr>\n      <th>7</th>\n      <td>1850</td>\n      <td>23191876</td>\n      <td>1423351</td>\n      <td>0.0614</td>\n    </tr>\n    <tr>\n      <th>8</th>\n      <td>1860</td>\n      <td>31443321</td>\n      <td>1969377</td>\n      <td>0.0626</td>\n    </tr>\n    <tr>\n      <th>9</th>\n      <td>1870</td>\n      <td>38558371</td>\n      <td>3421198</td>\n      <td>0.0887</td>\n    </tr>\n    <tr>\n      <th>10</th>\n      <td>1880</td>\n      <td>50155783</td>\n      <td>5790678</td>\n      <td>0.1154</td>\n    </tr>\n    <tr>\n      <th>11</th>\n      <td>1890</td>\n      <td>62979766</td>\n      <td>11547127</td>\n      <td>0.1833</td>\n    </tr>\n    <tr>\n      <th>12</th>\n      <td>1900</td>\n      <td>76303387</td>\n      <td>11854000</td>\n      <td>0.1554</td>\n    </tr>\n    <tr>\n      <th>13</th>\n      <td>1910</td>\n      <td>91972266</td>\n      <td>15968000</td>\n      <td>0.1707</td>\n    </tr>\n    <tr>\n      <th>14</th>\n      <td>1920</td>\n      <td>105710620</td>\n      <td>25117000</td>\n      <td>0.2376</td>\n    </tr>\n    <tr>\n      <th>15</th>\n      <td>1930</td>\n      <td>122775046</td>\n      <td>40156000</td>\n      <td>0.3271</td>\n    </tr>\n    <tr>\n      <th>16</th>\n      <td>1940</td>\n      <td>131669275</td>\n      <td>67527000</td>\n      <td>0.5129</td>\n    </tr>\n    <tr>\n      <th>17</th>\n      <td>1950</td>\n      <td>151325798</td>\n      <td>91462000</td>\n      <td>0.6044</td>\n    </tr>\n    <tr>\n      <th>18</th>\n      <td>1960</td>\n      <td>179323175</td>\n      <td>127934000</td>\n      <td>0.7134</td>\n    </tr>\n    <tr>\n      <th>19</th>\n      <td>1970</td>\n      <td>203302031</td>\n      <td>247653000</td>\n      <td>1.2200</td>\n    </tr>\n    <tr>\n      <th>20</th>\n      <td>1980</td>\n      <td>226542199</td>\n      <td>1078488000</td>\n      <td>4.7600</td>\n    </tr>\n    <tr>\n      <th>21</th>\n      <td>1990</td>\n      <td>248718301</td>\n      <td>2492830000</td>\n      <td>10.0200</td>\n    </tr>\n    <tr>\n      <th>22</th>\n      <td>2000</td>\n      <td>281421906</td>\n      <td>4500000000</td>\n      <td>15.9900</td>\n    </tr>\n    <tr>\n      <th>23</th>\n      <td>2010</td>\n      <td>308745538</td>\n      <td>13000000000</td>\n      <td>42.1100</td>\n    </tr>\n  </tbody>\n</table>\n</div>"
          },
          "metadata": {}
        }
      ]
    },
    {
      "cell_type": "markdown",
      "source": "#### Double check the data and see if type conversion is as expected",
      "metadata": {
        "tags": [],
        "cell_id": "00016-c537ce38-6a6a-4caa-826a-80290e2af251",
        "deepnote_cell_type": "markdown"
      }
    },
    {
      "cell_type": "code",
      "metadata": {
        "tags": [],
        "cell_id": "00016-5f8571ff-4c7d-41e4-b0e7-88fc0e5450dd",
        "deepnote_to_be_reexecuted": false,
        "source_hash": "895f2af7",
        "execution_millis": 15,
        "execution_start": 1615849815019,
        "deepnote_cell_type": "code"
      },
      "source": "df_clean.info()",
      "execution_count": null,
      "outputs": [
        {
          "name": "stdout",
          "text": "<class 'pandas.core.frame.DataFrame'>\nRangeIndex: 23 entries, 1 to 23\nData columns (total 4 columns):\n #   Column                   Non-Null Count  Dtype  \n---  ------                   --------------  -----  \n 0   Census Year              23 non-null     int64  \n 1   Total Population         23 non-null     int64  \n 2   Census Cost              23 non-null     int64  \n 3   Average Cost Per Person  23 non-null     float64\ndtypes: float64(1), int64(3)\nmemory usage: 868.0 bytes\n",
          "output_type": "stream"
        }
      ]
    },
    {
      "cell_type": "markdown",
      "source": "#### Looking really good!\nAll the data looks like its been cleansed and assigned the correct data types\n\n### 8. After all columns are cleansed, save the cleansed dataframe to a file named \"census_cost_cleansed.csv\" using CSV format.\n\nSimple. Just use the pandas **.to_csv()** method.\n",
      "metadata": {
        "tags": [],
        "cell_id": "00016-05dbddfa-2e4d-42f6-8c3e-f504700a2706",
        "deepnote_cell_type": "markdown"
      }
    },
    {
      "cell_type": "code",
      "metadata": {
        "tags": [],
        "cell_id": "00019-d18c5640-588b-4da1-a140-e88fa5ffae3f",
        "deepnote_to_be_reexecuted": false,
        "source_hash": "861b70b",
        "execution_millis": 7,
        "execution_start": 1615849815021,
        "deepnote_cell_type": "code"
      },
      "source": "df_clean.to_csv('census_cost_cleansed.csv', index= False) # the 'index = False' agrument flags the index location and prevents an additonal column being added here",
      "execution_count": null,
      "outputs": []
    },
    {
      "cell_type": "markdown",
      "source": "### 9. Use Pandas to read the saved cleansed file and explore to make sure it is clean. \n\nThis is just as easy. Pandas has a **.read_csv()** method.",
      "metadata": {
        "tags": [],
        "cell_id": "00020-3ee505a4-030c-4fc9-b812-77f48ce2c30a",
        "deepnote_cell_type": "markdown"
      }
    },
    {
      "cell_type": "code",
      "metadata": {
        "tags": [],
        "cell_id": "00021-a6a836cf-795c-4578-98ed-b926889bb88f",
        "deepnote_to_be_reexecuted": false,
        "source_hash": "b1b52c4f",
        "execution_millis": 21,
        "execution_start": 1615849815029,
        "deepnote_cell_type": "code"
      },
      "source": "pd.read_csv('census_cost_cleansed.csv')",
      "execution_count": null,
      "outputs": [
        {
          "output_type": "execute_result",
          "execution_count": 11,
          "data": {
            "application/vnd.deepnote.dataframe.v2+json": {
              "row_count": 23,
              "column_count": 4,
              "columns": [
                {
                  "name": "Census Year",
                  "dtype": "int64",
                  "stats": {
                    "unique_count": 23,
                    "nan_count": 0,
                    "min": 1790,
                    "max": 2010,
                    "histogram": [
                      {
                        "bin_start": 1790,
                        "bin_end": 1812,
                        "count": 3
                      },
                      {
                        "bin_start": 1812,
                        "bin_end": 1834,
                        "count": 2
                      },
                      {
                        "bin_start": 1834,
                        "bin_end": 1856,
                        "count": 2
                      },
                      {
                        "bin_start": 1856,
                        "bin_end": 1878,
                        "count": 2
                      },
                      {
                        "bin_start": 1878,
                        "bin_end": 1900,
                        "count": 2
                      },
                      {
                        "bin_start": 1900,
                        "bin_end": 1922,
                        "count": 3
                      },
                      {
                        "bin_start": 1922,
                        "bin_end": 1944,
                        "count": 2
                      },
                      {
                        "bin_start": 1944,
                        "bin_end": 1966,
                        "count": 2
                      },
                      {
                        "bin_start": 1966,
                        "bin_end": 1988,
                        "count": 2
                      },
                      {
                        "bin_start": 1988,
                        "bin_end": 2010,
                        "count": 3
                      }
                    ]
                  }
                },
                {
                  "name": "Total Population",
                  "dtype": "int64",
                  "stats": {
                    "unique_count": 23,
                    "nan_count": 0,
                    "min": 3929214,
                    "max": 308745538,
                    "histogram": [
                      {
                        "bin_start": 3929214,
                        "bin_end": 34410846.4,
                        "count": 8
                      },
                      {
                        "bin_start": 34410846.4,
                        "bin_end": 64892478.8,
                        "count": 3
                      },
                      {
                        "bin_start": 64892478.8,
                        "bin_end": 95374111.19999999,
                        "count": 2
                      },
                      {
                        "bin_start": 95374111.19999999,
                        "bin_end": 125855743.6,
                        "count": 2
                      },
                      {
                        "bin_start": 125855743.6,
                        "bin_end": 156337376,
                        "count": 2
                      },
                      {
                        "bin_start": 156337376,
                        "bin_end": 186819008.39999998,
                        "count": 1
                      },
                      {
                        "bin_start": 186819008.39999998,
                        "bin_end": 217300640.79999998,
                        "count": 1
                      },
                      {
                        "bin_start": 217300640.79999998,
                        "bin_end": 247782273.2,
                        "count": 1
                      },
                      {
                        "bin_start": 247782273.2,
                        "bin_end": 278263905.59999996,
                        "count": 1
                      },
                      {
                        "bin_start": 278263905.59999996,
                        "bin_end": 308745538,
                        "count": 2
                      }
                    ]
                  }
                },
                {
                  "name": "Census Cost",
                  "dtype": "int64",
                  "stats": {
                    "unique_count": 23,
                    "nan_count": 0,
                    "min": 44377,
                    "max": 13000000000,
                    "histogram": [
                      {
                        "bin_start": 44377,
                        "bin_end": 1300039939.3,
                        "count": 20
                      },
                      {
                        "bin_start": 1300039939.3,
                        "bin_end": 2600035501.6,
                        "count": 1
                      },
                      {
                        "bin_start": 2600035501.6,
                        "bin_end": 3900031063.8999996,
                        "count": 0
                      },
                      {
                        "bin_start": 3900031063.8999996,
                        "bin_end": 5200026626.2,
                        "count": 1
                      },
                      {
                        "bin_start": 5200026626.2,
                        "bin_end": 6500022188.5,
                        "count": 0
                      },
                      {
                        "bin_start": 6500022188.5,
                        "bin_end": 7800017750.799999,
                        "count": 0
                      },
                      {
                        "bin_start": 7800017750.799999,
                        "bin_end": 9100013313.1,
                        "count": 0
                      },
                      {
                        "bin_start": 9100013313.1,
                        "bin_end": 10400008875.4,
                        "count": 0
                      },
                      {
                        "bin_start": 10400008875.4,
                        "bin_end": 11700004437.699999,
                        "count": 0
                      },
                      {
                        "bin_start": 11700004437.699999,
                        "bin_end": 13000000000,
                        "count": 1
                      }
                    ]
                  }
                },
                {
                  "name": "Average Cost Per Person",
                  "dtype": "float64",
                  "stats": {
                    "unique_count": 23,
                    "nan_count": 0,
                    "min": 0.0113,
                    "max": 42.11,
                    "histogram": [
                      {
                        "bin_start": 0.0113,
                        "bin_end": 4.221170000000001,
                        "count": 19
                      },
                      {
                        "bin_start": 4.221170000000001,
                        "bin_end": 8.431040000000001,
                        "count": 1
                      },
                      {
                        "bin_start": 8.431040000000001,
                        "bin_end": 12.640910000000002,
                        "count": 1
                      },
                      {
                        "bin_start": 12.640910000000002,
                        "bin_end": 16.85078,
                        "count": 1
                      },
                      {
                        "bin_start": 16.85078,
                        "bin_end": 21.060650000000003,
                        "count": 0
                      },
                      {
                        "bin_start": 21.060650000000003,
                        "bin_end": 25.27052,
                        "count": 0
                      },
                      {
                        "bin_start": 25.27052,
                        "bin_end": 29.48039,
                        "count": 0
                      },
                      {
                        "bin_start": 29.48039,
                        "bin_end": 33.69026,
                        "count": 0
                      },
                      {
                        "bin_start": 33.69026,
                        "bin_end": 37.900130000000004,
                        "count": 0
                      },
                      {
                        "bin_start": 37.900130000000004,
                        "bin_end": 42.11,
                        "count": 1
                      }
                    ]
                  }
                },
                {
                  "name": "_deepnote_index_column",
                  "dtype": "int64"
                }
              ],
              "rows_top": [
                {
                  "Census Year": 1790,
                  "Total Population": 3929214,
                  "Census Cost": 44377,
                  "Average Cost Per Person": 0.0113,
                  "_deepnote_index_column": 0
                },
                {
                  "Census Year": 1800,
                  "Total Population": 5308483,
                  "Census Cost": 66109,
                  "Average Cost Per Person": 0.0124,
                  "_deepnote_index_column": 1
                },
                {
                  "Census Year": 1810,
                  "Total Population": 7239881,
                  "Census Cost": 178445,
                  "Average Cost Per Person": 0.0246,
                  "_deepnote_index_column": 2
                },
                {
                  "Census Year": 1820,
                  "Total Population": 9633822,
                  "Census Cost": 208526,
                  "Average Cost Per Person": 0.0216,
                  "_deepnote_index_column": 3
                },
                {
                  "Census Year": 1830,
                  "Total Population": 12866020,
                  "Census Cost": 378545,
                  "Average Cost Per Person": 0.0294,
                  "_deepnote_index_column": 4
                },
                {
                  "Census Year": 1840,
                  "Total Population": 17069458,
                  "Census Cost": 833371,
                  "Average Cost Per Person": 0.0488,
                  "_deepnote_index_column": 5
                },
                {
                  "Census Year": 1850,
                  "Total Population": 23191876,
                  "Census Cost": 1423351,
                  "Average Cost Per Person": 0.0614,
                  "_deepnote_index_column": 6
                },
                {
                  "Census Year": 1860,
                  "Total Population": 31443321,
                  "Census Cost": 1969377,
                  "Average Cost Per Person": 0.0626,
                  "_deepnote_index_column": 7
                },
                {
                  "Census Year": 1870,
                  "Total Population": 38558371,
                  "Census Cost": 3421198,
                  "Average Cost Per Person": 0.0887,
                  "_deepnote_index_column": 8
                },
                {
                  "Census Year": 1880,
                  "Total Population": 50155783,
                  "Census Cost": 5790678,
                  "Average Cost Per Person": 0.1154,
                  "_deepnote_index_column": 9
                },
                {
                  "Census Year": 1890,
                  "Total Population": 62979766,
                  "Census Cost": 11547127,
                  "Average Cost Per Person": 0.1833,
                  "_deepnote_index_column": 10
                },
                {
                  "Census Year": 1900,
                  "Total Population": 76303387,
                  "Census Cost": 11854000,
                  "Average Cost Per Person": 0.1554,
                  "_deepnote_index_column": 11
                },
                {
                  "Census Year": 1910,
                  "Total Population": 91972266,
                  "Census Cost": 15968000,
                  "Average Cost Per Person": 0.1707,
                  "_deepnote_index_column": 12
                },
                {
                  "Census Year": 1920,
                  "Total Population": 105710620,
                  "Census Cost": 25117000,
                  "Average Cost Per Person": 0.2376,
                  "_deepnote_index_column": 13
                },
                {
                  "Census Year": 1930,
                  "Total Population": 122775046,
                  "Census Cost": 40156000,
                  "Average Cost Per Person": 0.3271,
                  "_deepnote_index_column": 14
                },
                {
                  "Census Year": 1940,
                  "Total Population": 131669275,
                  "Census Cost": 67527000,
                  "Average Cost Per Person": 0.5129,
                  "_deepnote_index_column": 15
                },
                {
                  "Census Year": 1950,
                  "Total Population": 151325798,
                  "Census Cost": 91462000,
                  "Average Cost Per Person": 0.6044,
                  "_deepnote_index_column": 16
                },
                {
                  "Census Year": 1960,
                  "Total Population": 179323175,
                  "Census Cost": 127934000,
                  "Average Cost Per Person": 0.7134,
                  "_deepnote_index_column": 17
                },
                {
                  "Census Year": 1970,
                  "Total Population": 203302031,
                  "Census Cost": 247653000,
                  "Average Cost Per Person": 1.22,
                  "_deepnote_index_column": 18
                },
                {
                  "Census Year": 1980,
                  "Total Population": 226542199,
                  "Census Cost": 1078488000,
                  "Average Cost Per Person": 4.76,
                  "_deepnote_index_column": 19
                },
                {
                  "Census Year": 1990,
                  "Total Population": 248718301,
                  "Census Cost": 2492830000,
                  "Average Cost Per Person": 10.02,
                  "_deepnote_index_column": 20
                },
                {
                  "Census Year": 2000,
                  "Total Population": 281421906,
                  "Census Cost": 4500000000,
                  "Average Cost Per Person": 15.99,
                  "_deepnote_index_column": 21
                },
                {
                  "Census Year": 2010,
                  "Total Population": 308745538,
                  "Census Cost": 13000000000,
                  "Average Cost Per Person": 42.11,
                  "_deepnote_index_column": 22
                }
              ],
              "rows_bottom": null
            },
            "text/plain": "    Census Year  Total Population  Census Cost  Average Cost Per Person\n0          1790           3929214        44377                   0.0113\n1          1800           5308483        66109                   0.0124\n2          1810           7239881       178445                   0.0246\n3          1820           9633822       208526                   0.0216\n4          1830          12866020       378545                   0.0294\n5          1840          17069458       833371                   0.0488\n6          1850          23191876      1423351                   0.0614\n7          1860          31443321      1969377                   0.0626\n8          1870          38558371      3421198                   0.0887\n9          1880          50155783      5790678                   0.1154\n10         1890          62979766     11547127                   0.1833\n11         1900          76303387     11854000                   0.1554\n12         1910          91972266     15968000                   0.1707\n13         1920         105710620     25117000                   0.2376\n14         1930         122775046     40156000                   0.3271\n15         1940         131669275     67527000                   0.5129\n16         1950         151325798     91462000                   0.6044\n17         1960         179323175    127934000                   0.7134\n18         1970         203302031    247653000                   1.2200\n19         1980         226542199   1078488000                   4.7600\n20         1990         248718301   2492830000                  10.0200\n21         2000         281421906   4500000000                  15.9900\n22         2010         308745538  13000000000                  42.1100",
            "text/html": "<div>\n<style scoped>\n    .dataframe tbody tr th:only-of-type {\n        vertical-align: middle;\n    }\n\n    .dataframe tbody tr th {\n        vertical-align: top;\n    }\n\n    .dataframe thead th {\n        text-align: right;\n    }\n</style>\n<table border=\"1\" class=\"dataframe\">\n  <thead>\n    <tr style=\"text-align: right;\">\n      <th></th>\n      <th>Census Year</th>\n      <th>Total Population</th>\n      <th>Census Cost</th>\n      <th>Average Cost Per Person</th>\n    </tr>\n  </thead>\n  <tbody>\n    <tr>\n      <th>0</th>\n      <td>1790</td>\n      <td>3929214</td>\n      <td>44377</td>\n      <td>0.0113</td>\n    </tr>\n    <tr>\n      <th>1</th>\n      <td>1800</td>\n      <td>5308483</td>\n      <td>66109</td>\n      <td>0.0124</td>\n    </tr>\n    <tr>\n      <th>2</th>\n      <td>1810</td>\n      <td>7239881</td>\n      <td>178445</td>\n      <td>0.0246</td>\n    </tr>\n    <tr>\n      <th>3</th>\n      <td>1820</td>\n      <td>9633822</td>\n      <td>208526</td>\n      <td>0.0216</td>\n    </tr>\n    <tr>\n      <th>4</th>\n      <td>1830</td>\n      <td>12866020</td>\n      <td>378545</td>\n      <td>0.0294</td>\n    </tr>\n    <tr>\n      <th>5</th>\n      <td>1840</td>\n      <td>17069458</td>\n      <td>833371</td>\n      <td>0.0488</td>\n    </tr>\n    <tr>\n      <th>6</th>\n      <td>1850</td>\n      <td>23191876</td>\n      <td>1423351</td>\n      <td>0.0614</td>\n    </tr>\n    <tr>\n      <th>7</th>\n      <td>1860</td>\n      <td>31443321</td>\n      <td>1969377</td>\n      <td>0.0626</td>\n    </tr>\n    <tr>\n      <th>8</th>\n      <td>1870</td>\n      <td>38558371</td>\n      <td>3421198</td>\n      <td>0.0887</td>\n    </tr>\n    <tr>\n      <th>9</th>\n      <td>1880</td>\n      <td>50155783</td>\n      <td>5790678</td>\n      <td>0.1154</td>\n    </tr>\n    <tr>\n      <th>10</th>\n      <td>1890</td>\n      <td>62979766</td>\n      <td>11547127</td>\n      <td>0.1833</td>\n    </tr>\n    <tr>\n      <th>11</th>\n      <td>1900</td>\n      <td>76303387</td>\n      <td>11854000</td>\n      <td>0.1554</td>\n    </tr>\n    <tr>\n      <th>12</th>\n      <td>1910</td>\n      <td>91972266</td>\n      <td>15968000</td>\n      <td>0.1707</td>\n    </tr>\n    <tr>\n      <th>13</th>\n      <td>1920</td>\n      <td>105710620</td>\n      <td>25117000</td>\n      <td>0.2376</td>\n    </tr>\n    <tr>\n      <th>14</th>\n      <td>1930</td>\n      <td>122775046</td>\n      <td>40156000</td>\n      <td>0.3271</td>\n    </tr>\n    <tr>\n      <th>15</th>\n      <td>1940</td>\n      <td>131669275</td>\n      <td>67527000</td>\n      <td>0.5129</td>\n    </tr>\n    <tr>\n      <th>16</th>\n      <td>1950</td>\n      <td>151325798</td>\n      <td>91462000</td>\n      <td>0.6044</td>\n    </tr>\n    <tr>\n      <th>17</th>\n      <td>1960</td>\n      <td>179323175</td>\n      <td>127934000</td>\n      <td>0.7134</td>\n    </tr>\n    <tr>\n      <th>18</th>\n      <td>1970</td>\n      <td>203302031</td>\n      <td>247653000</td>\n      <td>1.2200</td>\n    </tr>\n    <tr>\n      <th>19</th>\n      <td>1980</td>\n      <td>226542199</td>\n      <td>1078488000</td>\n      <td>4.7600</td>\n    </tr>\n    <tr>\n      <th>20</th>\n      <td>1990</td>\n      <td>248718301</td>\n      <td>2492830000</td>\n      <td>10.0200</td>\n    </tr>\n    <tr>\n      <th>21</th>\n      <td>2000</td>\n      <td>281421906</td>\n      <td>4500000000</td>\n      <td>15.9900</td>\n    </tr>\n    <tr>\n      <th>22</th>\n      <td>2010</td>\n      <td>308745538</td>\n      <td>13000000000</td>\n      <td>42.1100</td>\n    </tr>\n  </tbody>\n</table>\n</div>"
          },
          "metadata": {}
        }
      ]
    },
    {
      "cell_type": "markdown",
      "source": "# So beautiful\n\nGood Job!",
      "metadata": {
        "tags": [],
        "cell_id": "00022-79ed0ed9-5ff2-474a-b3ad-5da9c67552b7",
        "deepnote_cell_type": "markdown"
      }
    },
    {
      "cell_type": "markdown",
      "source": "<a style='text-decoration:none;line-height:16px;display:flex;color:#5B5B62;padding:10px;justify-content:end;' href='https://deepnote.com?utm_source=created-in-deepnote-cell&projectId=0aee4006-0af7-4619-8637-ef17c840cb78' target=\"_blank\">\n<img alt='Created in deepnote.com' style='display:inline;max-height:16px;margin:0px;margin-right:7.5px;' src='data:image/svg+xml;base64,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' > </img>\nCreated in <span style='font-weight:600;margin-left:4px;'>Deepnote</span></a>",
      "metadata": {
        "tags": [],
        "created_in_deepnote_cell": true,
        "deepnote_cell_type": "markdown"
      }
    }
  ],
  "nbformat": 4,
  "nbformat_minor": 2,
  "metadata": {
    "orig_nbformat": 2,
    "deepnote_notebook_id": "9151b7a6-16d2-4a45-8d7d-0d06e7e7f140",
    "deepnote": {},
    "deepnote_execution_queue": []
  }
}