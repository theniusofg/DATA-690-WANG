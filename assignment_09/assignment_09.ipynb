{
  "cells": [
    {
      "cell_type": "markdown",
      "source": "# Assignment # 09 \noriginal file retrieved from: https://github.com/wcj365/python-stats-dataviz/blob/master/assignments/assignment_09.ipynb\n### - Point Estimate and Interval Estimate (Confidence Interval)\n\nA random survey of enrollment at **35** community colleges across the United States yielded the following figures: \n\n            6,414; 1,550; 2,109; 9,350; 21,828; 4,300; 5,944; 5,722; 2,825; 2,044;\n\n            5,481; 5,200; 5,853; 2,750; 10,012; 6,357; 27,000; 9,414; 7,681; 3,200; \n\n            17,500; 9,200; 7,380; 18,314; 6,557; 13,713; 17,768; 7,493; 2,771; 2,861; \n\n            1,263; 7,285; 28,165; 5,080; 11,622\n\n#### Perform point estimate and interval estimate with **95% confidence level** using **t-distribution**.\n\n_Since we don't know the population variance, we use t-distribiution instead of normal distribution._",
      "metadata": {
        "id": "QO-ZnKTTvwjM",
        "cell_id": "00001-769e57ee-fec2-418c-831c-f46599f2faf6",
        "deepnote_cell_type": "markdown"
      }
    },
    {
      "cell_type": "code",
      "metadata": {
        "id": "RQBJ3BvgvwjO",
        "cell_id": "00002-51b82066-ad8d-4bb9-af5f-fa6dc9b0bb58",
        "deepnote_to_be_reexecuted": false,
        "source_hash": "2c813a81",
        "execution_millis": 675,
        "execution_start": 1619474219517,
        "deepnote_cell_type": "code"
      },
      "source": "# Import Python packages\nfrom statistics import mean\nfrom scipy import stats\nimport numpy as np",
      "execution_count": 31,
      "outputs": []
    },
    {
      "cell_type": "markdown",
      "source": "### Step 0 - Data Preprocessing \n\nProcess the raw data to make a list of integers. In order to calculate descriptive statistic, Python needs to work with a list of numbers.\n\n- make each line of numbers a string object and then concatenate them together \n- The end result is one single string containing 35 numbers separated by \";\"\n\n### note:\nDon't manually make the list by hand-typing the numbers. Write code to automate the data preparation.",
      "metadata": {
        "id": "yGj7WnubvwjP",
        "cell_id": "00003-2beff747-edbe-4ab1-a7ce-bbc86c3b2edf",
        "deepnote_cell_type": "markdown"
      }
    },
    {
      "cell_type": "code",
      "metadata": {
        "id": "FKeAFctVvwjP",
        "outputId": "3c679261-c8aa-4f4e-971c-9be016e1762c",
        "cell_id": "00004-9760a4c1-71b0-4766-aa92-2cf610ce4bf9",
        "deepnote_to_be_reexecuted": false,
        "source_hash": "9b2058a5",
        "execution_millis": 11,
        "execution_start": 1619471108136,
        "deepnote_cell_type": "code"
      },
      "source": "data_1 = \"6,414; 1,550; 2,109; 9,350; 21,828; 4,300; 5,944; 5,722; 2,825; 2,044; \" \ndata_2 = \"5,481; 5,200; 5,853; 2,750; 10,012; 6,357; 27,000; 9,414; 7,681; 3,200; \"\ndata_3 = \"17,500; 9,200; 7,380; 18,314; 6,557; 13,713; 17,768; 7,493; 2,771; 2,861; \"\ndata_4 = \"1,263; 7,285; 28,165; 5,080; 11,622\"\ndata_raw = data_1 + data_2 + data_3 + data_4\ndata_raw",
      "execution_count": 12,
      "outputs": [
        {
          "output_type": "execute_result",
          "execution_count": 12,
          "data": {
            "text/plain": "'6,414; 1,550; 2,109; 9,350; 21,828; 4,300; 5,944; 5,722; 2,825; 2,044; 5,481; 5,200; 5,853; 2,750; 10,012; 6,357; 27,000; 9,414; 7,681; 3,200; 17,500; 9,200; 7,380; 18,314; 6,557; 13,713; 17,768; 7,493; 2,771; 2,861; 1,263; 7,285; 28,165; 5,080; 11,622'"
          },
          "metadata": {}
        }
      ]
    },
    {
      "cell_type": "markdown",
      "metadata": {
        "id": "jY622A35vwjU",
        "outputId": "53e2322e-d338-417b-f788-79b205967f45",
        "cell_id": "00005-45b07c38-415d-42fd-9577-fdbf53d753c7",
        "deepnote_cell_type": "markdown"
      },
      "source": "- Convert the single string to a list of strings using split() function\n- Make sure to specify a delimter or separator\n\n",
      "execution_count": null
    },
    {
      "cell_type": "code",
      "source": "data_cleanse = data_raw.split('; ')\nprint(data_cleanse)",
      "metadata": {
        "tags": [],
        "cell_id": "00005-c43d080e-4087-4867-a550-a5ea6d01dc1c",
        "deepnote_to_be_reexecuted": false,
        "source_hash": "fe83d07",
        "execution_millis": 11,
        "execution_start": 1619471135320,
        "deepnote_cell_type": "code"
      },
      "outputs": [
        {
          "name": "stdout",
          "text": "['6,414', '1,550', '2,109', '9,350', '21,828', '4,300', '5,944', '5,722', '2,825', '2,044', '5,481', '5,200', '5,853', '2,750', '10,012', '6,357', '27,000', '9,414', '7,681', '3,200', '17,500', '9,200', '7,380', '18,314', '6,557', '13,713', '17,768', '7,493', '2,771', '2,861', '1,263', '7,285', '28,165', '5,080', '11,622']\n",
          "output_type": "stream"
        }
      ],
      "execution_count": 13
    },
    {
      "cell_type": "markdown",
      "source": "#### Using List Comprehension\nCreate a list of integers from the list of strings using List Comprehension or for loop.\n\n_Make sure to remove the \",\" first and then convert the strings to integers._",
      "metadata": {
        "id": "S3loEFuJ3fdT",
        "cell_id": "00006-5647dbcf-585b-48e2-b826-c56826dc2dd9",
        "deepnote_cell_type": "markdown"
      }
    },
    {
      "cell_type": "code",
      "metadata": {
        "id": "_b8yjF0hvwjV",
        "outputId": "f8c7fe27-f818-4866-8ed1-6ae18d537b0c",
        "cell_id": "00007-46067d99-0a72-4094-ac88-8c2d22ed84a6",
        "deepnote_to_be_reexecuted": false,
        "source_hash": "7cfa3d92",
        "execution_millis": 6,
        "execution_start": 1619471623130,
        "deepnote_cell_type": "code"
      },
      "source": "data = [int(string.replace(',','')) for string in data_cleanse]\nprint (data)",
      "execution_count": 17,
      "outputs": [
        {
          "name": "stdout",
          "text": "[6414, 1550, 2109, 9350, 21828, 4300, 5944, 5722, 2825, 2044, 5481, 5200, 5853, 2750, 10012, 6357, 27000, 9414, 7681, 3200, 17500, 9200, 7380, 18314, 6557, 13713, 17768, 7493, 2771, 2861, 1263, 7285, 28165, 5080, 11622]\n",
          "output_type": "stream"
        }
      ]
    },
    {
      "cell_type": "markdown",
      "source": "### Step 1 - Calculate and Display the Sample Size and Sample Mean\n\n- Calculate and display \n    - the sample size\n    - the sample mean\n\n\n",
      "metadata": {
        "id": "rztZ5pJtvwjX",
        "cell_id": "00009-22b5b817-2663-4201-b99c-474e8da18d89",
        "deepnote_cell_type": "markdown"
      }
    },
    {
      "cell_type": "code",
      "metadata": {
        "id": "MRjPNo1kvwjX",
        "outputId": "c7124f63-602e-4721-a1cc-3f9eb0e92ae5",
        "cell_id": "00010-d19881db-825b-4c17-aadd-8eab2d35a13b",
        "deepnote_to_be_reexecuted": false,
        "source_hash": "c872684a",
        "execution_millis": 11,
        "execution_start": 1619471948091,
        "deepnote_cell_type": "code"
      },
      "source": "sample_size = len(data)\nsample_mean = round(mean(data))\n\nprint (f\"Sample size = {sample_size}\\nSample mean = {sample_mean}\")\n",
      "execution_count": 24,
      "outputs": [
        {
          "name": "stdout",
          "text": "Sample size = 35\nSample mean = 8629\n",
          "output_type": "stream"
        }
      ]
    },
    {
      "cell_type": "markdown",
      "source": "The point estimate of the mean enrollment of US community colleges is **8629**.",
      "metadata": {
        "id": "uJl_KNgVvwjZ",
        "cell_id": "00012-38070a22-6e7a-49a5-8ea8-8c3df7f94700",
        "deepnote_cell_type": "markdown"
      }
    },
    {
      "cell_type": "markdown",
      "source": "### Step 2 - Calculate and Display the Sample Standard Deviation & Sample Standard Error\n\nSample Standard Deviation $S=\\sqrt{\\dfrac{1}{n-1}\\sum\\limits_{i=1}^n (X_i-\\bar{X})^2}$\n\nSample Standard Error = $\\dfrac{S}{\\sqrt{n}}$\n\nNote: The default **Delta Degree of Freedom (DDOF)** for Numpy's std function is 0 which is applicable to populate data. For sample data, we need to specify **ddof=1**. \n\nFor the enrollment data, we round up the statistics to be the full integers (no decimal points).\n",
      "metadata": {
        "id": "FE43zdBnvwja",
        "cell_id": "00013-53d9fc23-2116-4dd3-9aa6-3a026346fa47",
        "deepnote_cell_type": "markdown"
      }
    },
    {
      "cell_type": "markdown",
      "source": "#### Calculate and display:  \n- the sample standard deviation using Numpy's std function.\n- the sample standard error",
      "metadata": {
        "tags": [],
        "cell_id": "00012-581c378d-5d3b-4a0f-ade6-9b4c9059da5c",
        "deepnote_cell_type": "markdown"
      },
      "outputs": [],
      "execution_count": null
    },
    {
      "cell_type": "code",
      "metadata": {
        "id": "Yy2-ewJSvwja",
        "outputId": "b77075fe-82ca-4841-fe21-2b959445a49d",
        "cell_id": "00014-55e785f0-f05b-48ef-b65f-aef9cd80eedb",
        "deepnote_to_be_reexecuted": false,
        "source_hash": "19c74439",
        "execution_millis": 5,
        "execution_start": 1619474457941,
        "deepnote_cell_type": "code"
      },
      "source": "data_std = np.std(data, ddof=1).round()\ndata_sem = stats.sem(data).round()\n\nprint('Standard deviaton of sample is ', data_std)\nprint('Sample standard error is ', data_sem)\n",
      "execution_count": 34,
      "outputs": [
        {
          "name": "stdout",
          "text": "Standard deviaton of sample is  6944.0\nSample standard error is  1174.0\n",
          "output_type": "stream"
        }
      ]
    },
    {
      "cell_type": "markdown",
      "source": "### Step 3 - Calculate t Critical Value using t-Distribution \n\n$\\alpha$ = 1 - Confidence Level = 1 - 95% = 0.05\n\n$\\dfrac{\\alpha}{2}$ = 0.025\n\nn (sample size) = 35\n\ndf (degree of freedom) = n - 1 = 35 - 1 = 34\n\n",
      "metadata": {
        "id": "IynJoUaJvwjc",
        "cell_id": "00016-99e8e6dd-e6de-4291-8b01-ce2679c6c2b4",
        "deepnote_cell_type": "markdown"
      }
    },
    {
      "cell_type": "markdown",
      "source": "#### We will use Python scipy.stats t-distribution's PPF (Percentage Point Function) to calculate t critical value $t_{0.025,34}$.\n\n- Calculate and display the t critical value using scipy.stats.t package ppf function\n",
      "metadata": {
        "tags": [],
        "cell_id": "00017-c1857ce6-0bd3-497e-989c-92b3f5536ba8",
        "deepnote_cell_type": "markdown"
      },
      "outputs": [],
      "execution_count": null
    },
    {
      "cell_type": "code",
      "metadata": {
        "id": "24_EeyVwvwjd",
        "outputId": "bf6624b3-84cb-4777-a612-c5684ff10d7e",
        "cell_id": "00017-c6df54df-bced-453c-b569-9a7dabcc8c96",
        "deepnote_to_be_reexecuted": false,
        "source_hash": "937c8d5",
        "execution_millis": 5,
        "execution_start": 1619475734902,
        "deepnote_cell_type": "code"
      },
      "source": "\n\nt_crit = (stats.t.ppf(0.025, 34)*-1).round(2)\n\nprint('t critical value = ', t_crit )",
      "execution_count": 52,
      "outputs": [
        {
          "name": "stdout",
          "text": "t critical value =  2.03\n",
          "output_type": "stream"
        }
      ]
    },
    {
      "cell_type": "markdown",
      "source": "### Step 4 - Calculate the Margin of Error\n\nMargin of Error = t-Statistics * Sample Standard Error = $t_{\\alpha/2,n-1}\\left(\\dfrac{s}{\\sqrt{n}}\\right)$",
      "metadata": {
        "id": "qyyUKSjhvwje",
        "cell_id": "00018-ac1b4c58-7330-4023-afed-58db1fe6ce95",
        "deepnote_cell_type": "markdown"
      }
    },
    {
      "cell_type": "markdown",
      "metadata": {
        "id": "13aQGtICvwje",
        "outputId": "ea88a69d-a70b-4b88-fa4a-03a3bb274d82",
        "cell_id": "00019-41aafde1-aa51-4242-ba00-2673b899a60a",
        "deepnote_cell_type": "markdown"
      },
      "source": "#### Calculate and display: \n- the margin of error\n\n",
      "execution_count": null
    },
    {
      "cell_type": "code",
      "source": "margin_err = (t_crit*data_sem).round()\nprint(\"The margin of error equals \" , margin_err)\n\n",
      "metadata": {
        "tags": [],
        "cell_id": "00019-4b91d59d-4a72-4bcd-80dd-d26b009a1b66",
        "deepnote_to_be_reexecuted": false,
        "source_hash": "70efe1bd",
        "execution_millis": 9,
        "execution_start": 1619475778140,
        "deepnote_cell_type": "code"
      },
      "outputs": [
        {
          "name": "stdout",
          "text": "The margin of error equals  2383.0\n",
          "output_type": "stream"
        }
      ],
      "execution_count": 58
    },
    {
      "cell_type": "markdown",
      "source": "### Step 5 - Calculate Lower and Upper Limit of the Confidence Interval\n\nLower Limit = Sample Mean - Margin of Error\n\nUpper Limit = Sample Mean + Margin of Error",
      "metadata": {
        "id": "W5C_lR0lvwje",
        "cell_id": "00020-bc410434-9571-4b79-9411-4499cbb1d1e5",
        "deepnote_cell_type": "markdown"
      }
    },
    {
      "cell_type": "markdown",
      "metadata": {
        "id": "-n9Vs8Kfvwje",
        "outputId": "3b9105ed-4fe2-4ec6-eca3-f1ea823f273d",
        "cell_id": "00021-d0376bee-bfa6-4122-b8c4-8e4a44e3e189",
        "deepnote_cell_type": "markdown"
      },
      "source": "#### Calculate and display \n- the lower limit\n- the upper limit\n\n",
      "execution_count": null
    },
    {
      "cell_type": "code",
      "metadata": {
        "id": "gyH6Ii_3vwje",
        "outputId": "5ebfba2e-5f8d-4cce-82c3-0a34a4a6ec78",
        "cell_id": "00022-f6a0d0a3-3573-4c81-87b3-5176c8ab9787",
        "deepnote_to_be_reexecuted": false,
        "source_hash": "a99ad701",
        "execution_millis": 13,
        "execution_start": 1619475958962,
        "deepnote_cell_type": "code"
      },
      "source": "lim_low, lim_up = sample_mean - margin_err, sample_mean + margin_err\nprint(f\"Lower Limit: {lim_low}\\nUpper Limit: {lim_up}\")\n# Lower Limit =  6246.0\n# Upper Limit =  11012.0\n\n",
      "execution_count": 61,
      "outputs": [
        {
          "name": "stdout",
          "text": "Lower Limit: 6246.0\nUpper Limit: 11012.0\n",
          "output_type": "stream"
        }
      ]
    },
    {
      "cell_type": "markdown",
      "source": "### Step 6 - Now We have the 95% Confidence Interval\nConfidence Interval ($\\sigma$ unknown) = $\\bar{x}\\space\\pm\\space t_{\\alpha/2}\\left(\\dfrac{S}{\\sqrt{n}}\\right)$ = Sample_Mean $\\pm$ Margin of Error",
      "metadata": {
        "id": "ZGeD7v16vwje",
        "cell_id": "00023-a45cf786-f32d-4d98-8dec-c0eee3a01a0c",
        "deepnote_cell_type": "markdown"
      }
    },
    {
      "cell_type": "markdown",
      "metadata": {
        "id": "lGOOdnOmvwje",
        "outputId": "a3c0ab12-a5ab-405a-9954-9e3d8895531e",
        "cell_id": "00024-df226c52-338b-49a4-a40e-42e7ce7b56e1",
        "deepnote_cell_type": "markdown"
      },
      "source": "#### Print the 95% confidence interveral in the form (lower limit, upper limit)\n\n",
      "execution_count": null
    },
    {
      "cell_type": "code",
      "source": "print(f\"The 95% Confidence Interval = ( {lim_low}, {lim_up} )\")",
      "metadata": {
        "tags": [],
        "cell_id": "00025-6ae2bf45-de05-4802-998a-afe08bd62cad",
        "deepnote_to_be_reexecuted": false,
        "source_hash": "afcf015a",
        "execution_millis": 8,
        "execution_start": 1619476090493,
        "deepnote_cell_type": "code"
      },
      "outputs": [
        {
          "name": "stdout",
          "text": "The 95% Confidence Interval = ( 6246.0, 11012.0 )\n",
          "output_type": "stream"
        }
      ],
      "execution_count": 63
    },
    {
      "cell_type": "markdown",
      "source": "### The End",
      "metadata": {
        "id": "ntrz7Ouevwjf",
        "cell_id": "00025-975a5ad5-3524-4677-a53f-188448d91627",
        "deepnote_cell_type": "markdown"
      }
    },
    {
      "cell_type": "markdown",
      "source": "<a style='text-decoration:none;line-height:16px;display:flex;color:#5B5B62;padding:10px;justify-content:end;' href='https://deepnote.com?utm_source=created-in-deepnote-cell&projectId=0aee4006-0af7-4619-8637-ef17c840cb78' target=\"_blank\">\n<img alt='Created in deepnote.com' style='display:inline;max-height:16px;margin:0px;margin-right:7.5px;' src='data:image/svg+xml;base64,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' > </img>\nCreated in <span style='font-weight:600;margin-left:4px;'>Deepnote</span></a>",
      "metadata": {
        "tags": [],
        "created_in_deepnote_cell": true,
        "deepnote_cell_type": "markdown"
      }
    }
  ],
  "nbformat": 4,
  "nbformat_minor": 0,
  "metadata": {
    "kernelspec": {
      "display_name": "Python 3",
      "language": "python",
      "name": "python3"
    },
    "language_info": {
      "codemirror_mode": {
        "name": "ipython",
        "version": 3
      },
      "file_extension": ".py",
      "mimetype": "text/x-python",
      "name": "python",
      "nbconvert_exporter": "python",
      "pygments_lexer": "ipython3",
      "version": "3.7.1"
    },
    "colab": {
      "name": "assignment_09.ipynb",
      "provenance": [],
      "include_colab_link": true
    },
    "deepnote_notebook_id": "17c57056-d32d-4624-baa4-a408b19545e3",
    "deepnote": {},
    "deepnote_execution_queue": []
  }
}