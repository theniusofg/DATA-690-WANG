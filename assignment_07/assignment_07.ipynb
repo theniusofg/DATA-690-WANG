{
  "cells": [
    {
      "cell_type": "markdown",
      "source": "# Assignment 07\n\nthis assignment was copied from: https://github.com/wcj365/python-stats-dataviz/blob/master/assignments/assignment_07.ipynb\n\n### Note:\n- For visualization, you have the freedom to choose one or many from\n    - Matplotlib\n    - Seaborn\n    - Plotly Express \n    - any other library\n- You can use the local Jupyter environment if you are not comfortable with Colab for this assignment.\n- Use use this notebook as your template and follow the instructions\n\nThe first half of this assignment is a repeat of assignment 05.\n\nThis gives you a chance to refresh.\n\nThe second half is new and gives you a chance to perform additional practices.\n\nYou also get a chance to use some of the Python libraries and techniques.\n\nYou will unzip the zip file manually in preparation for this assignment.\n\nThe links to the zip file is (you have already used it in your assignment 5):\n\n- https://data.ed.gov/dataset/college-scorecard-all-data-files-through-6-2020/resources (The page containing link to the zip file)\n\n- https://ed-public-download.app.cloud.gov/downloads/CollegeScorecard_Raw_Data_01192021.zip (The link to download the zip file)\n\nAfter unzipping, You will have all files in one folder named \"CollegeScorecard_Raw_Data\" \n\nThe folder contains the yearly data files from 1996 to 2019 school years.\n\nif you are using your local environment, I suggest you create a new folder call \"Assignment7\" and place the Notebook file and the data folder under it.\n```\nAssignment7/\n    - assignment_07.ipynb\n    - CollegeScorecard_Raw_Data/\n        - ...\n        - 'MERGED1996_97_PP.csv',\n        - 'MERGED2015_16_PP.csv',\n        - ...\n        - 'MERGED2017_18_PP.csv'\n```\n",
      "metadata": {
        "id": "02rFSC_-6zKz",
        "cell_id": "00001-9e8368c6-e127-4a4e-b82d-1973069bc0dd",
        "deepnote_cell_type": "markdown"
      }
    },
    {
      "cell_type": "markdown",
      "source": "## <1> \n#### Import libraries\n",
      "metadata": {
        "tags": [],
        "cell_id": "00001-21c009cd-c81e-4161-8cf5-ae1e9ea73cb9",
        "deepnote_cell_type": "markdown"
      }
    },
    {
      "cell_type": "code",
      "metadata": {
        "id": "CfSasSG36zK1",
        "cell_id": "00002-48e0a5f2-d3d7-43f9-b7ab-2360be19d9bf",
        "deepnote_to_be_reexecuted": false,
        "source_hash": "945c1fb9",
        "execution_millis": 4,
        "execution_start": 1618834796867,
        "deepnote_cell_type": "code"
      },
      "source": "import os\nimport random\nimport pandas as pd\nimport plotly.express as px\n",
      "outputs": [],
      "execution_count": null
    },
    {
      "cell_type": "markdown",
      "source": "## <2> \n\n**Display the current workin directory using os.getcwd()**\n\nYou'll need to import a standard Python library called os (which stands for operating system), so place that import statement in the previous cell.\nSince your notebook and your data files are not in the same folder, you want to make sure what is the current working folder and how to access a data file in a different folder\n",
      "metadata": {
        "tags": [],
        "cell_id": "00003-8ab122fb-d783-4a14-91cc-6e2cf49385ab",
        "deepnote_cell_type": "markdown"
      }
    },
    {
      "cell_type": "code",
      "metadata": {
        "id": "duwKxi1L6zK5",
        "cell_id": "00003-9bab6506-5b78-4e23-a440-956e119a786e",
        "deepnote_to_be_reexecuted": false,
        "source_hash": "b1c0427c",
        "execution_millis": 700,
        "execution_start": 1618833622102,
        "deepnote_cell_type": "code"
      },
      "source": "cwd = os.getcwd()\n",
      "outputs": [
        {
          "name": "stdout",
          "text": "Crosswalks.zip\t\t\t  MERGED2006_07_PP.csv\r\ndata.yaml\t\t\t  MERGED2007_08_PP.csv\r\nFieldOfStudyData1415_1516_PP.csv  MERGED2008_09_PP.csv\r\nFieldOfStudyData1516_1617_PP.csv  MERGED2009_10_PP.csv\r\nFieldOfStudyData1617_1718_PP.csv  MERGED2010_11_PP.csv\r\nMERGED1996_97_PP.csv\t\t  MERGED2011_12_PP.csv\r\nMERGED1997_98_PP.csv\t\t  MERGED2012_13_PP.csv\r\nMERGED1998_99_PP.csv\t\t  MERGED2013_14_PP.csv\r\nMERGED1999_00_PP.csv\t\t  MERGED2014_15_PP.csv\r\nMERGED2000_01_PP.csv\t\t  MERGED2015_16_PP.csv\r\nMERGED2001_02_PP.csv\t\t  MERGED2016_17_PP.csv\r\nMERGED2002_03_PP.csv\t\t  MERGED2017_18_PP.csv\r\nMERGED2003_04_PP.csv\t\t  MERGED2018_19_PP.csv\r\nMERGED2004_05_PP.csv\t\t  Most-Recent-Cohorts-All-Data-Elements.csv\r\nMERGED2005_06_PP.csv\t\t  Most-Recent-Cohorts-Field-of-Study.csv\r\n",
          "output_type": "stream"
        }
      ],
      "execution_count": null
    },
    {
      "cell_type": "markdown",
      "source": "## <3> \nThe _os_ library has a method call listdir which generates a list of files in a directory/folder.Use this method to assign the contents (list of file names) of the data folder to a variable and display it.\n\n    You can use ../ construct to traverse to the parent folder and then to another foloder parallel to the current folder\n",
      "metadata": {
        "tags": [],
        "cell_id": "00005-68655c43-b1ec-484a-9e7d-3026b3e0a8f4",
        "deepnote_cell_type": "markdown"
      }
    },
    {
      "cell_type": "code",
      "metadata": {
        "id": "LMBN0HsY6zLA",
        "cell_id": "00004-8068d611-ed8d-458e-8555-08423dbaa6bb",
        "deepnote_to_be_reexecuted": false,
        "source_hash": "eda5cbcb",
        "execution_millis": 91,
        "execution_start": 1618833723397,
        "deepnote_cell_type": "code"
      },
      "source": "\n#(Write code here)\n\n\npath = '/datasets/collegedata/'\ndir_data = os.listdir(path)\ndir_data.sort()\ndir_data\n",
      "outputs": [
        {
          "output_type": "execute_result",
          "execution_count": 17,
          "data": {
            "text/plain": "['Crosswalks.zip',\n 'FieldOfStudyData1415_1516_PP.csv',\n 'FieldOfStudyData1516_1617_PP.csv',\n 'FieldOfStudyData1617_1718_PP.csv',\n 'MERGED1996_97_PP.csv',\n 'MERGED1997_98_PP.csv',\n 'MERGED1998_99_PP.csv',\n 'MERGED1999_00_PP.csv',\n 'MERGED2000_01_PP.csv',\n 'MERGED2001_02_PP.csv',\n 'MERGED2002_03_PP.csv',\n 'MERGED2003_04_PP.csv',\n 'MERGED2004_05_PP.csv',\n 'MERGED2005_06_PP.csv',\n 'MERGED2006_07_PP.csv',\n 'MERGED2007_08_PP.csv',\n 'MERGED2008_09_PP.csv',\n 'MERGED2009_10_PP.csv',\n 'MERGED2010_11_PP.csv',\n 'MERGED2011_12_PP.csv',\n 'MERGED2012_13_PP.csv',\n 'MERGED2013_14_PP.csv',\n 'MERGED2014_15_PP.csv',\n 'MERGED2015_16_PP.csv',\n 'MERGED2016_17_PP.csv',\n 'MERGED2017_18_PP.csv',\n 'MERGED2018_19_PP.csv',\n 'Most-Recent-Cohorts-All-Data-Elements.csv',\n 'Most-Recent-Cohorts-Field-of-Study.csv',\n 'data.yaml']"
          },
          "metadata": {}
        }
      ],
      "execution_count": null
    },
    {
      "cell_type": "markdown",
      "source": "## <4> \n\nThe folder contains files that are not the yearly data files\nwrite code to remove the unwanted files from the list vsriable \nNote: don't remove/delete these files from the folder in your drive\nFor example, use the file extension to only keep the csv files \nor use the name patter - data file name begins with \"MERGED\"\nYou can use the concept of list comprehension to write just \none line of code as well as using a for loop, your choice.",
      "metadata": {
        "tags": [],
        "cell_id": "00007-e2fd04b7-fa29-412b-a981-f6c4036189de",
        "deepnote_cell_type": "markdown"
      }
    },
    {
      "cell_type": "code",
      "metadata": {
        "id": "UCDRqtrf6zLL",
        "cell_id": "00005-4274db0c-20a2-4e48-99a9-7279f0332ed7",
        "deepnote_to_be_reexecuted": false,
        "source_hash": "57f839be",
        "execution_millis": 17,
        "execution_start": 1618833460100,
        "deepnote_cell_type": "code"
      },
      "source": "files = [file for file in dir_data if \"MER\" in file]\nfiles",
      "outputs": [
        {
          "output_type": "execute_result",
          "execution_count": 12,
          "data": {
            "text/plain": "['MERGED1996_97_PP.csv',\n 'MERGED1997_98_PP.csv',\n 'MERGED1998_99_PP.csv',\n 'MERGED1999_00_PP.csv',\n 'MERGED2000_01_PP.csv',\n 'MERGED2001_02_PP.csv',\n 'MERGED2002_03_PP.csv',\n 'MERGED2003_04_PP.csv',\n 'MERGED2004_05_PP.csv',\n 'MERGED2005_06_PP.csv',\n 'MERGED2006_07_PP.csv',\n 'MERGED2007_08_PP.csv',\n 'MERGED2008_09_PP.csv',\n 'MERGED2009_10_PP.csv',\n 'MERGED2010_11_PP.csv',\n 'MERGED2011_12_PP.csv',\n 'MERGED2012_13_PP.csv',\n 'MERGED2013_14_PP.csv',\n 'MERGED2014_15_PP.csv',\n 'MERGED2015_16_PP.csv',\n 'MERGED2016_17_PP.csv',\n 'MERGED2017_18_PP.csv',\n 'MERGED2018_19_PP.csv']"
          },
          "metadata": {}
        }
      ],
      "execution_count": null
    },
    {
      "cell_type": "markdown",
      "source": "## <5> \nNow that you have a clean list of the yearly files, you want to loop through them and read them into a dataframe one at a time. You only load six columns: \n\n\\[\"UNITID\", \"INSTNM\", \"STABBR\", \"REGION\", \"ADM_RATE\", \"TUITIONFEE_IN\"\\].\n\nYou should use \"usecols\" option of Pandas to avoid reading unwanted columns. \n\nYou also want to add a new column call \"YEAR\" to differentiate the data frames from each other. The YEAR variable should be yyyy format so tht you can convert them into integer. If you use the format yyyy-yy (such as 1997-98 school year), you will not be able to convert them directly to integer if you use scatter plot, the YEAR needs to be converted to integer or float. \n \n\nYou would use an empty list and append the yearly dataframes to the list. After all data files are loaded and appended to the list, you would use Pandas to concatenate them into a new single data frame.\nNote: this exercise incorporates many techques we learned before\n - list (creating an empty, append an item to the list)\n - for loop \n - read only the needed columns from a file (using usecols option)\n - add a new column to a data frame\n - concatenate multiple dataframes into a single one\nThis exercise may appear a big challenging but it worths the effort. You will learn a lot and  love it. I promise.",
      "metadata": {
        "tags": [],
        "cell_id": "00006-bd84fe86-7370-4f9e-90f5-e499ff909f61",
        "deepnote_cell_type": "markdown"
      }
    },
    {
      "cell_type": "code",
      "metadata": {
        "id": "rtrB8C_R6zLS",
        "cell_id": "00006-7ce458e9-1664-4014-afb1-3fb09f5fbfec",
        "deepnote_to_be_reexecuted": false,
        "source_hash": "a2a5b227",
        "execution_millis": 19902,
        "execution_start": 1618833777929,
        "deepnote_cell_type": "code"
      },
      "source": "frames = []\n\nfor filename in files:\n    temp_df = pd.read_csv(path + filename, \n                usecols = [\"UNITID\", \"INSTNM\", \"STABBR\", \"REGION\", \"ADM_RATE\", \"TUITIONFEE_IN\"])\n    temp_df['YEAR'] = filename[6:10]\n    frames.append(temp_df)\n\ndf = pd.concat(frames)\n\ndf",
      "outputs": [
        {
          "output_type": "execute_result",
          "execution_count": 20,
          "data": {
            "application/vnd.deepnote.dataframe.v2+json": {
              "row_count": 163331,
              "column_count": 7,
              "columns": [
                {
                  "name": "UNITID",
                  "dtype": "int64"
                },
                {
                  "name": "INSTNM",
                  "dtype": "object"
                },
                {
                  "name": "STABBR",
                  "dtype": "object"
                },
                {
                  "name": "REGION",
                  "dtype": "float64"
                },
                {
                  "name": "ADM_RATE",
                  "dtype": "float64"
                },
                {
                  "name": "TUITIONFEE_IN",
                  "dtype": "float64"
                },
                {
                  "name": "YEAR",
                  "dtype": "object"
                },
                {
                  "name": "_deepnote_index_column",
                  "dtype": "int64"
                }
              ],
              "rows_top": [
                {
                  "UNITID": 100636,
                  "INSTNM": "Community College of the Air Force",
                  "STABBR": "AL",
                  "REGION": 0,
                  "ADM_RATE": "nan",
                  "TUITIONFEE_IN": "nan",
                  "YEAR": "1996",
                  "_deepnote_index_column": 0
                },
                {
                  "UNITID": 100654,
                  "INSTNM": "Alabama A & M University",
                  "STABBR": "AL",
                  "REGION": 5,
                  "ADM_RATE": "nan",
                  "TUITIONFEE_IN": "nan",
                  "YEAR": "1996",
                  "_deepnote_index_column": 1
                },
                {
                  "UNITID": 100663,
                  "INSTNM": "University of Alabama at Birmingham",
                  "STABBR": "AL",
                  "REGION": 5,
                  "ADM_RATE": "nan",
                  "TUITIONFEE_IN": "nan",
                  "YEAR": "1996",
                  "_deepnote_index_column": 2
                },
                {
                  "UNITID": 100672,
                  "INSTNM": "ALABAMA AVIATION AND TECHNICAL COLLEGE",
                  "STABBR": "AL",
                  "REGION": 5,
                  "ADM_RATE": "nan",
                  "TUITIONFEE_IN": "nan",
                  "YEAR": "1996",
                  "_deepnote_index_column": 3
                },
                {
                  "UNITID": 100690,
                  "INSTNM": "Amridge University",
                  "STABBR": "AL",
                  "REGION": 5,
                  "ADM_RATE": "nan",
                  "TUITIONFEE_IN": "nan",
                  "YEAR": "1996",
                  "_deepnote_index_column": 4
                },
                {
                  "UNITID": 100706,
                  "INSTNM": "University of Alabama in Huntsville",
                  "STABBR": "AL",
                  "REGION": 5,
                  "ADM_RATE": "nan",
                  "TUITIONFEE_IN": "nan",
                  "YEAR": "1996",
                  "_deepnote_index_column": 5
                },
                {
                  "UNITID": 100724,
                  "INSTNM": "Alabama State University",
                  "STABBR": "AL",
                  "REGION": 5,
                  "ADM_RATE": "nan",
                  "TUITIONFEE_IN": "nan",
                  "YEAR": "1996",
                  "_deepnote_index_column": 6
                },
                {
                  "UNITID": 100751,
                  "INSTNM": "The University of Alabama",
                  "STABBR": "AL",
                  "REGION": 5,
                  "ADM_RATE": "nan",
                  "TUITIONFEE_IN": "nan",
                  "YEAR": "1996",
                  "_deepnote_index_column": 7
                },
                {
                  "UNITID": 100760,
                  "INSTNM": "Central Alabama Community College",
                  "STABBR": "AL",
                  "REGION": 5,
                  "ADM_RATE": "nan",
                  "TUITIONFEE_IN": "nan",
                  "YEAR": "1996",
                  "_deepnote_index_column": 8
                },
                {
                  "UNITID": 100812,
                  "INSTNM": "Athens State University",
                  "STABBR": "AL",
                  "REGION": 5,
                  "ADM_RATE": "nan",
                  "TUITIONFEE_IN": "nan",
                  "YEAR": "1996",
                  "_deepnote_index_column": 9
                },
                {
                  "UNITID": 100830,
                  "INSTNM": "Auburn University at Montgomery",
                  "STABBR": "AL",
                  "REGION": 5,
                  "ADM_RATE": "nan",
                  "TUITIONFEE_IN": "nan",
                  "YEAR": "1996",
                  "_deepnote_index_column": 10
                },
                {
                  "UNITID": 100858,
                  "INSTNM": "Auburn University",
                  "STABBR": "AL",
                  "REGION": 5,
                  "ADM_RATE": "nan",
                  "TUITIONFEE_IN": "nan",
                  "YEAR": "1996",
                  "_deepnote_index_column": 11
                },
                {
                  "UNITID": 100919,
                  "INSTNM": "Lawson State Community College-Bessemer Campus",
                  "STABBR": "AL",
                  "REGION": 5,
                  "ADM_RATE": "nan",
                  "TUITIONFEE_IN": "nan",
                  "YEAR": "1996",
                  "_deepnote_index_column": 12
                },
                {
                  "UNITID": 100937,
                  "INSTNM": "Birmingham-Southern College",
                  "STABBR": "AL",
                  "REGION": 5,
                  "ADM_RATE": "nan",
                  "TUITIONFEE_IN": "nan",
                  "YEAR": "1996",
                  "_deepnote_index_column": 13
                },
                {
                  "UNITID": 100964,
                  "INSTNM": "BEVILL STATE COMMUNITY COLLEGE-BREWER CAMPUS",
                  "STABBR": "AL",
                  "REGION": 5,
                  "ADM_RATE": "nan",
                  "TUITIONFEE_IN": "nan",
                  "YEAR": "1996",
                  "_deepnote_index_column": 14
                },
                {
                  "UNITID": 101019,
                  "INSTNM": "CHARLES ACADEMY OF BEAUTY CULTURE",
                  "STABBR": "AL",
                  "REGION": 5,
                  "ADM_RATE": "nan",
                  "TUITIONFEE_IN": "nan",
                  "YEAR": "1996",
                  "_deepnote_index_column": 15
                },
                {
                  "UNITID": 101028,
                  "INSTNM": "Chattahoochee Valley Community College",
                  "STABBR": "AL",
                  "REGION": 5,
                  "ADM_RATE": "nan",
                  "TUITIONFEE_IN": "nan",
                  "YEAR": "1996",
                  "_deepnote_index_column": 16
                },
                {
                  "UNITID": 101037,
                  "INSTNM": "CHAUNCEY SPARKS STATE TECHNICAL COLLEGE",
                  "STABBR": "AL",
                  "REGION": 5,
                  "ADM_RATE": "nan",
                  "TUITIONFEE_IN": "nan",
                  "YEAR": "1996",
                  "_deepnote_index_column": 17
                },
                {
                  "UNITID": 101073,
                  "INSTNM": "Concordia College Alabama",
                  "STABBR": "AL",
                  "REGION": 5,
                  "ADM_RATE": "nan",
                  "TUITIONFEE_IN": "nan",
                  "YEAR": "1996",
                  "_deepnote_index_column": 18
                },
                {
                  "UNITID": 101107,
                  "INSTNM": "LURLEEN B WALLACE COMMUNITY COLLEGE-MACARTHUR CAMP",
                  "STABBR": "AL",
                  "REGION": 5,
                  "ADM_RATE": "nan",
                  "TUITIONFEE_IN": "nan",
                  "YEAR": "1996",
                  "_deepnote_index_column": 19
                },
                {
                  "UNITID": 101116,
                  "INSTNM": "South University-Montgomery",
                  "STABBR": "AL",
                  "REGION": 5,
                  "ADM_RATE": "nan",
                  "TUITIONFEE_IN": "nan",
                  "YEAR": "1996",
                  "_deepnote_index_column": 20
                },
                {
                  "UNITID": 101143,
                  "INSTNM": "Enterprise State Community College",
                  "STABBR": "AL",
                  "REGION": 5,
                  "ADM_RATE": "nan",
                  "TUITIONFEE_IN": "nan",
                  "YEAR": "1996",
                  "_deepnote_index_column": 21
                },
                {
                  "UNITID": 101161,
                  "INSTNM": "Coastal Alabama Community College",
                  "STABBR": "AL",
                  "REGION": 5,
                  "ADM_RATE": "nan",
                  "TUITIONFEE_IN": "nan",
                  "YEAR": "1996",
                  "_deepnote_index_column": 22
                },
                {
                  "UNITID": 101189,
                  "INSTNM": "Faulkner University",
                  "STABBR": "AL",
                  "REGION": 5,
                  "ADM_RATE": "nan",
                  "TUITIONFEE_IN": "nan",
                  "YEAR": "1996",
                  "_deepnote_index_column": 23
                },
                {
                  "UNITID": 101198,
                  "INSTNM": "FAULKNER UNIVERSITY-BIRMINGHAM",
                  "STABBR": "AL",
                  "REGION": 5,
                  "ADM_RATE": "nan",
                  "TUITIONFEE_IN": "nan",
                  "YEAR": "1996",
                  "_deepnote_index_column": 24
                },
                {
                  "UNITID": 101204,
                  "INSTNM": "FAULKNER UNIVERSITY-FLORENCE",
                  "STABBR": "AL",
                  "REGION": 5,
                  "ADM_RATE": "nan",
                  "TUITIONFEE_IN": "nan",
                  "YEAR": "1996",
                  "_deepnote_index_column": 25
                },
                {
                  "UNITID": 101213,
                  "INSTNM": "FAULKNER UNIVERSITY",
                  "STABBR": "AL",
                  "REGION": 5,
                  "ADM_RATE": "nan",
                  "TUITIONFEE_IN": "nan",
                  "YEAR": "1996",
                  "_deepnote_index_column": 26
                },
                {
                  "UNITID": 101231,
                  "INSTNM": "Gadsden Business College",
                  "STABBR": "AL",
                  "REGION": 5,
                  "ADM_RATE": "nan",
                  "TUITIONFEE_IN": "nan",
                  "YEAR": "1996",
                  "_deepnote_index_column": 27
                },
                {
                  "UNITID": 101240,
                  "INSTNM": "Gadsden State Community College",
                  "STABBR": "AL",
                  "REGION": 5,
                  "ADM_RATE": "nan",
                  "TUITIONFEE_IN": "nan",
                  "YEAR": "1996",
                  "_deepnote_index_column": 28
                },
                {
                  "UNITID": 101268,
                  "INSTNM": "GADSDEN BUSINESS COLLEGE-ANNISTON",
                  "STABBR": "AL",
                  "REGION": 5,
                  "ADM_RATE": "nan",
                  "TUITIONFEE_IN": "nan",
                  "YEAR": "1996",
                  "_deepnote_index_column": 29
                },
                {
                  "UNITID": 101286,
                  "INSTNM": "George C Wallace Community College-Dothan",
                  "STABBR": "AL",
                  "REGION": 5,
                  "ADM_RATE": "nan",
                  "TUITIONFEE_IN": "nan",
                  "YEAR": "1996",
                  "_deepnote_index_column": 30
                },
                {
                  "UNITID": 101295,
                  "INSTNM": "George C Wallace State Community College-Hanceville",
                  "STABBR": "AL",
                  "REGION": 5,
                  "ADM_RATE": "nan",
                  "TUITIONFEE_IN": "nan",
                  "YEAR": "1996",
                  "_deepnote_index_column": 31
                },
                {
                  "UNITID": 101301,
                  "INSTNM": "George C Wallace State Community College-Selma",
                  "STABBR": "AL",
                  "REGION": 5,
                  "ADM_RATE": "nan",
                  "TUITIONFEE_IN": "nan",
                  "YEAR": "1996",
                  "_deepnote_index_column": 32
                },
                {
                  "UNITID": 101347,
                  "INSTNM": "GADSDEN STATE COMMUNITY COLLEGE-AYERS CAMPUS",
                  "STABBR": "AL",
                  "REGION": 5,
                  "ADM_RATE": "nan",
                  "TUITIONFEE_IN": "nan",
                  "YEAR": "1996",
                  "_deepnote_index_column": 33
                },
                {
                  "UNITID": 101365,
                  "INSTNM": "Herzing University-Birmingham",
                  "STABBR": "AL",
                  "REGION": 5,
                  "ADM_RATE": "nan",
                  "TUITIONFEE_IN": "nan",
                  "YEAR": "1996",
                  "_deepnote_index_column": 34
                },
                {
                  "UNITID": 101435,
                  "INSTNM": "Huntingdon College",
                  "STABBR": "AL",
                  "REGION": 5,
                  "ADM_RATE": "nan",
                  "TUITIONFEE_IN": "nan",
                  "YEAR": "1996",
                  "_deepnote_index_column": 35
                },
                {
                  "UNITID": 101444,
                  "INSTNM": "HUNTSVILLE HOSPITAL SCHOOL OF RADIOLOGIC TECHN",
                  "STABBR": "AL",
                  "REGION": 5,
                  "ADM_RATE": "nan",
                  "TUITIONFEE_IN": "nan",
                  "YEAR": "1996",
                  "_deepnote_index_column": 36
                },
                {
                  "UNITID": 101453,
                  "INSTNM": "Heritage Christian University",
                  "STABBR": "AL",
                  "REGION": 5,
                  "ADM_RATE": "nan",
                  "TUITIONFEE_IN": "nan",
                  "YEAR": "1996",
                  "_deepnote_index_column": 37
                },
                {
                  "UNITID": 101462,
                  "INSTNM": "J. F. Drake State Community and Technical College",
                  "STABBR": "AL",
                  "REGION": 5,
                  "ADM_RATE": "nan",
                  "TUITIONFEE_IN": "nan",
                  "YEAR": "1996",
                  "_deepnote_index_column": 38
                },
                {
                  "UNITID": 101480,
                  "INSTNM": "Jacksonville State University",
                  "STABBR": "AL",
                  "REGION": 5,
                  "ADM_RATE": "nan",
                  "TUITIONFEE_IN": "nan",
                  "YEAR": "1996",
                  "_deepnote_index_column": 39
                },
                {
                  "UNITID": 101499,
                  "INSTNM": "Jefferson Davis Community College",
                  "STABBR": "AL",
                  "REGION": 5,
                  "ADM_RATE": "nan",
                  "TUITIONFEE_IN": "nan",
                  "YEAR": "1996",
                  "_deepnote_index_column": 40
                },
                {
                  "UNITID": 101505,
                  "INSTNM": "Jefferson State Community College",
                  "STABBR": "AL",
                  "REGION": 5,
                  "ADM_RATE": "nan",
                  "TUITIONFEE_IN": "nan",
                  "YEAR": "1996",
                  "_deepnote_index_column": 41
                },
                {
                  "UNITID": 101514,
                  "INSTNM": "John C Calhoun State Community College",
                  "STABBR": "AL",
                  "REGION": 5,
                  "ADM_RATE": "nan",
                  "TUITIONFEE_IN": "nan",
                  "YEAR": "1996",
                  "_deepnote_index_column": 42
                },
                {
                  "UNITID": 101523,
                  "INSTNM": "H COUNCILL TRENHOLM STATE TECHNICAL COLLEGE-PATTER",
                  "STABBR": "AL",
                  "REGION": 5,
                  "ADM_RATE": "nan",
                  "TUITIONFEE_IN": "nan",
                  "YEAR": "1996",
                  "_deepnote_index_column": 43
                },
                {
                  "UNITID": 101541,
                  "INSTNM": "Judson College",
                  "STABBR": "AL",
                  "REGION": 5,
                  "ADM_RATE": "nan",
                  "TUITIONFEE_IN": "nan",
                  "YEAR": "1996",
                  "_deepnote_index_column": 44
                },
                {
                  "UNITID": 101569,
                  "INSTNM": "Lawson State Community College",
                  "STABBR": "AL",
                  "REGION": 5,
                  "ADM_RATE": "nan",
                  "TUITIONFEE_IN": "nan",
                  "YEAR": "1996",
                  "_deepnote_index_column": 45
                },
                {
                  "UNITID": 101587,
                  "INSTNM": "University of West Alabama",
                  "STABBR": "AL",
                  "REGION": 5,
                  "ADM_RATE": "nan",
                  "TUITIONFEE_IN": "nan",
                  "YEAR": "1996",
                  "_deepnote_index_column": 46
                },
                {
                  "UNITID": 101602,
                  "INSTNM": "Lurleen B Wallace Community College",
                  "STABBR": "AL",
                  "REGION": 5,
                  "ADM_RATE": "nan",
                  "TUITIONFEE_IN": "nan",
                  "YEAR": "1996",
                  "_deepnote_index_column": 47
                },
                {
                  "UNITID": 101648,
                  "INSTNM": "Marion Military Institute",
                  "STABBR": "AL",
                  "REGION": 5,
                  "ADM_RATE": "nan",
                  "TUITIONFEE_IN": "nan",
                  "YEAR": "1996",
                  "_deepnote_index_column": 48
                },
                {
                  "UNITID": 101657,
                  "INSTNM": "MASTERS INSTITUTE OF COSMETOLOGY",
                  "STABBR": "AL",
                  "REGION": 5,
                  "ADM_RATE": "nan",
                  "TUITIONFEE_IN": "nan",
                  "YEAR": "1996",
                  "_deepnote_index_column": 49
                },
                {
                  "UNITID": 101675,
                  "INSTNM": "Miles College",
                  "STABBR": "AL",
                  "REGION": 5,
                  "ADM_RATE": "nan",
                  "TUITIONFEE_IN": "nan",
                  "YEAR": "1996",
                  "_deepnote_index_column": 50
                },
                {
                  "UNITID": 101693,
                  "INSTNM": "University of Mobile",
                  "STABBR": "AL",
                  "REGION": 5,
                  "ADM_RATE": "nan",
                  "TUITIONFEE_IN": "nan",
                  "YEAR": "1996",
                  "_deepnote_index_column": 51
                },
                {
                  "UNITID": 101709,
                  "INSTNM": "University of Montevallo",
                  "STABBR": "AL",
                  "REGION": 5,
                  "ADM_RATE": "nan",
                  "TUITIONFEE_IN": "nan",
                  "YEAR": "1996",
                  "_deepnote_index_column": 52
                },
                {
                  "UNITID": 101736,
                  "INSTNM": "Northwest-Shoals Community College",
                  "STABBR": "AL",
                  "REGION": 5,
                  "ADM_RATE": "nan",
                  "TUITIONFEE_IN": "nan",
                  "YEAR": "1996",
                  "_deepnote_index_column": 53
                },
                {
                  "UNITID": 101754,
                  "INSTNM": "BEVILL STATE COMMUNITY COLLEGE-HAMILTON CAMPUS",
                  "STABBR": "AL",
                  "REGION": 5,
                  "ADM_RATE": "nan",
                  "TUITIONFEE_IN": "nan",
                  "YEAR": "1996",
                  "_deepnote_index_column": 54
                },
                {
                  "UNITID": 101879,
                  "INSTNM": "University of North Alabama",
                  "STABBR": "AL",
                  "REGION": 5,
                  "ADM_RATE": "nan",
                  "TUITIONFEE_IN": "nan",
                  "YEAR": "1996",
                  "_deepnote_index_column": 55
                },
                {
                  "UNITID": 101897,
                  "INSTNM": "Northeast Alabama Community College",
                  "STABBR": "AL",
                  "REGION": 5,
                  "ADM_RATE": "nan",
                  "TUITIONFEE_IN": "nan",
                  "YEAR": "1996",
                  "_deepnote_index_column": 56
                },
                {
                  "UNITID": 101903,
                  "INSTNM": "NORTHWEST SHOALS COMMUNITY COLLEGE-PHIL CAMPBELL",
                  "STABBR": "AL",
                  "REGION": 5,
                  "ADM_RATE": "nan",
                  "TUITIONFEE_IN": "nan",
                  "YEAR": "1996",
                  "_deepnote_index_column": 57
                },
                {
                  "UNITID": 101912,
                  "INSTNM": "Oakwood University",
                  "STABBR": "AL",
                  "REGION": 5,
                  "ADM_RATE": "nan",
                  "TUITIONFEE_IN": "nan",
                  "YEAR": "1996",
                  "_deepnote_index_column": 58
                },
                {
                  "UNITID": 101949,
                  "INSTNM": "Alabama Southern Community College",
                  "STABBR": "AL",
                  "REGION": 5,
                  "ADM_RATE": "nan",
                  "TUITIONFEE_IN": "nan",
                  "YEAR": "1996",
                  "_deepnote_index_column": 59
                },
                {
                  "UNITID": 101958,
                  "INSTNM": "Prince Institute-Southeast",
                  "STABBR": "IL",
                  "REGION": 3,
                  "ADM_RATE": "nan",
                  "TUITIONFEE_IN": "nan",
                  "YEAR": "1996",
                  "_deepnote_index_column": 60
                },
                {
                  "UNITID": 101994,
                  "INSTNM": "Reid State Technical College",
                  "STABBR": "AL",
                  "REGION": 5,
                  "ADM_RATE": "nan",
                  "TUITIONFEE_IN": "nan",
                  "YEAR": "1996",
                  "_deepnote_index_column": 61
                },
                {
                  "UNITID": 102030,
                  "INSTNM": "Bishop State Community College",
                  "STABBR": "AL",
                  "REGION": 5,
                  "ADM_RATE": "nan",
                  "TUITIONFEE_IN": "nan",
                  "YEAR": "1996",
                  "_deepnote_index_column": 62
                },
                {
                  "UNITID": 102049,
                  "INSTNM": "Samford University",
                  "STABBR": "AL",
                  "REGION": 5,
                  "ADM_RATE": "nan",
                  "TUITIONFEE_IN": "nan",
                  "YEAR": "1996",
                  "_deepnote_index_column": 63
                },
                {
                  "UNITID": 102058,
                  "INSTNM": "Selma University",
                  "STABBR": "AL",
                  "REGION": 5,
                  "ADM_RATE": "nan",
                  "TUITIONFEE_IN": "nan",
                  "YEAR": "1996",
                  "_deepnote_index_column": 64
                },
                {
                  "UNITID": 102067,
                  "INSTNM": "Shelton State Community College",
                  "STABBR": "AL",
                  "REGION": 5,
                  "ADM_RATE": "nan",
                  "TUITIONFEE_IN": "nan",
                  "YEAR": "1996",
                  "_deepnote_index_column": 65
                },
                {
                  "UNITID": 102076,
                  "INSTNM": "Snead State Community College",
                  "STABBR": "AL",
                  "REGION": 5,
                  "ADM_RATE": "nan",
                  "TUITIONFEE_IN": "nan",
                  "YEAR": "1996",
                  "_deepnote_index_column": 66
                },
                {
                  "UNITID": 102094,
                  "INSTNM": "University of South Alabama",
                  "STABBR": "AL",
                  "REGION": 5,
                  "ADM_RATE": "nan",
                  "TUITIONFEE_IN": "nan",
                  "YEAR": "1996",
                  "_deepnote_index_column": 67
                },
                {
                  "UNITID": 102100,
                  "INSTNM": "UNIVERSITY OF SOUTH ALABAMA-BALDWIN",
                  "STABBR": "AL",
                  "REGION": 5,
                  "ADM_RATE": "nan",
                  "TUITIONFEE_IN": "nan",
                  "YEAR": "1996",
                  "_deepnote_index_column": 68
                },
                {
                  "UNITID": 102216,
                  "INSTNM": "Southern Community College",
                  "STABBR": "AL",
                  "REGION": 5,
                  "ADM_RATE": "nan",
                  "TUITIONFEE_IN": "nan",
                  "YEAR": "1996",
                  "_deepnote_index_column": 69
                },
                {
                  "UNITID": 102234,
                  "INSTNM": "Spring Hill College",
                  "STABBR": "AL",
                  "REGION": 5,
                  "ADM_RATE": "nan",
                  "TUITIONFEE_IN": "nan",
                  "YEAR": "1996",
                  "_deepnote_index_column": 70
                }
              ],
              "rows_bottom": [
                {
                  "UNITID": 45891901,
                  "INSTNM": "Strayer University-Cobb Campus",
                  "STABBR": "GA",
                  "REGION": 5,
                  "ADM_RATE": "nan",
                  "TUITIONFEE_IN": "13380.0",
                  "YEAR": "2018",
                  "_deepnote_index_column": 6735
                },
                {
                  "UNITID": 45891902,
                  "INSTNM": "Strayer University-Morrow Campus",
                  "STABBR": "GA",
                  "REGION": 5,
                  "ADM_RATE": "nan",
                  "TUITIONFEE_IN": "13380.0",
                  "YEAR": "2018",
                  "_deepnote_index_column": 6736
                },
                {
                  "UNITID": 45891903,
                  "INSTNM": "Strayer University-Roswell Campus",
                  "STABBR": "GA",
                  "REGION": 5,
                  "ADM_RATE": "nan",
                  "TUITIONFEE_IN": "13380.0",
                  "YEAR": "2018",
                  "_deepnote_index_column": 6737
                },
                {
                  "UNITID": 45891904,
                  "INSTNM": "Strayer University-Douglasville Campus",
                  "STABBR": "GA",
                  "REGION": 5,
                  "ADM_RATE": "nan",
                  "TUITIONFEE_IN": "13380.0",
                  "YEAR": "2018",
                  "_deepnote_index_column": 6738
                },
                {
                  "UNITID": 45891905,
                  "INSTNM": "Strayer University-Lithonia Campus",
                  "STABBR": "GA",
                  "REGION": 5,
                  "ADM_RATE": "nan",
                  "TUITIONFEE_IN": "13380.0",
                  "YEAR": "2018",
                  "_deepnote_index_column": 6739
                },
                {
                  "UNITID": 45891906,
                  "INSTNM": "Strayer University-Savannah Campus",
                  "STABBR": "GA",
                  "REGION": 5,
                  "ADM_RATE": "nan",
                  "TUITIONFEE_IN": "13380.0",
                  "YEAR": "2018",
                  "_deepnote_index_column": 6740
                },
                {
                  "UNITID": 45891907,
                  "INSTNM": "Strayer University-Augusta Campus",
                  "STABBR": "GA",
                  "REGION": 5,
                  "ADM_RATE": "nan",
                  "TUITIONFEE_IN": "13380.0",
                  "YEAR": "2018",
                  "_deepnote_index_column": 6741
                },
                {
                  "UNITID": 45891908,
                  "INSTNM": "Strayer University-Columbus",
                  "STABBR": "GA",
                  "REGION": 5,
                  "ADM_RATE": "nan",
                  "TUITIONFEE_IN": "13380.0",
                  "YEAR": "2018",
                  "_deepnote_index_column": 6742
                },
                {
                  "UNITID": 45891909,
                  "INSTNM": "Strayer University - Macon Campus",
                  "STABBR": "GA",
                  "REGION": 5,
                  "ADM_RATE": "nan",
                  "TUITIONFEE_IN": "13380.0",
                  "YEAR": "2018",
                  "_deepnote_index_column": 6743
                },
                {
                  "UNITID": 45896401,
                  "INSTNM": "Strayer University-Columbia Campus",
                  "STABBR": "SC",
                  "REGION": 5,
                  "ADM_RATE": "nan",
                  "TUITIONFEE_IN": "13380.0",
                  "YEAR": "2018",
                  "_deepnote_index_column": 6744
                },
                {
                  "UNITID": 45896402,
                  "INSTNM": "Strayer University-Charleston Campus",
                  "STABBR": "SC",
                  "REGION": 5,
                  "ADM_RATE": "nan",
                  "TUITIONFEE_IN": "13380.0",
                  "YEAR": "2018",
                  "_deepnote_index_column": 6745
                },
                {
                  "UNITID": 45897301,
                  "INSTNM": "Strayer University-Irving",
                  "STABBR": "TX",
                  "REGION": 6,
                  "ADM_RATE": "nan",
                  "TUITIONFEE_IN": "13380.0",
                  "YEAR": "2018",
                  "_deepnote_index_column": 6746
                },
                {
                  "UNITID": 45897303,
                  "INSTNM": "Strayer University-Northwest Houston",
                  "STABBR": "TX",
                  "REGION": 6,
                  "ADM_RATE": "nan",
                  "TUITIONFEE_IN": "13380.0",
                  "YEAR": "2018",
                  "_deepnote_index_column": 6747
                },
                {
                  "UNITID": 45897304,
                  "INSTNM": "Strayer University-Plano",
                  "STABBR": "TX",
                  "REGION": 6,
                  "ADM_RATE": "nan",
                  "TUITIONFEE_IN": "13380.0",
                  "YEAR": "2018",
                  "_deepnote_index_column": 6748
                },
                {
                  "UNITID": 45897305,
                  "INSTNM": "Strayer University-Cedar Hill",
                  "STABBR": "TX",
                  "REGION": 6,
                  "ADM_RATE": "nan",
                  "TUITIONFEE_IN": "13380.0",
                  "YEAR": "2018",
                  "_deepnote_index_column": 6749
                },
                {
                  "UNITID": 45897306,
                  "INSTNM": "Strayer University-North Dallas",
                  "STABBR": "TX",
                  "REGION": 6,
                  "ADM_RATE": "nan",
                  "TUITIONFEE_IN": "13380.0",
                  "YEAR": "2018",
                  "_deepnote_index_column": 6750
                },
                {
                  "UNITID": 45897307,
                  "INSTNM": "Strayer University-San Antonio",
                  "STABBR": "TX",
                  "REGION": 6,
                  "ADM_RATE": "nan",
                  "TUITIONFEE_IN": "13380.0",
                  "YEAR": "2018",
                  "_deepnote_index_column": 6751
                },
                {
                  "UNITID": 45897308,
                  "INSTNM": "Strayer University-Stafford",
                  "STABBR": "TX",
                  "REGION": 6,
                  "ADM_RATE": "nan",
                  "TUITIONFEE_IN": "13380.0",
                  "YEAR": "2018",
                  "_deepnote_index_column": 6752
                },
                {
                  "UNITID": 45897309,
                  "INSTNM": "Strayer University - Northwest Houston Campus",
                  "STABBR": "TX",
                  "REGION": 6,
                  "ADM_RATE": "nan",
                  "TUITIONFEE_IN": "13380.0",
                  "YEAR": "2018",
                  "_deepnote_index_column": 6753
                },
                {
                  "UNITID": 45920401,
                  "INSTNM": "Unitek College",
                  "STABBR": "CA",
                  "REGION": 8,
                  "ADM_RATE": "nan",
                  "TUITIONFEE_IN": "33559.0",
                  "YEAR": "2018",
                  "_deepnote_index_column": 6754
                },
                {
                  "UNITID": 46131501,
                  "INSTNM": "Keweenaw Bay Ojibwa Community College - Wabanung Campus",
                  "STABBR": "MI",
                  "REGION": 3,
                  "ADM_RATE": "nan",
                  "TUITIONFEE_IN": "610.0",
                  "YEAR": "2018",
                  "_deepnote_index_column": 6755
                },
                {
                  "UNITID": 47503301,
                  "INSTNM": "Relay Graduate School of Education - Newark",
                  "STABBR": "NJ",
                  "REGION": 2,
                  "ADM_RATE": "nan",
                  "TUITIONFEE_IN": "nan",
                  "YEAR": "2018",
                  "_deepnote_index_column": 6756
                },
                {
                  "UNITID": 47503302,
                  "INSTNM": "Relay Graduate School of Education - New Orleans",
                  "STABBR": "LA",
                  "REGION": 5,
                  "ADM_RATE": "nan",
                  "TUITIONFEE_IN": "nan",
                  "YEAR": "2018",
                  "_deepnote_index_column": 6757
                },
                {
                  "UNITID": 47503303,
                  "INSTNM": "Relay Graduate School of Education - Delaware",
                  "STABBR": "DE",
                  "REGION": 2,
                  "ADM_RATE": "nan",
                  "TUITIONFEE_IN": "nan",
                  "YEAR": "2018",
                  "_deepnote_index_column": 6758
                },
                {
                  "UNITID": 47503304,
                  "INSTNM": "Relay Graduate School of Education - Memphis",
                  "STABBR": "TN",
                  "REGION": 5,
                  "ADM_RATE": "nan",
                  "TUITIONFEE_IN": "nan",
                  "YEAR": "2018",
                  "_deepnote_index_column": 6759
                },
                {
                  "UNITID": 47503305,
                  "INSTNM": "Relay Graduate School of Education - Houston",
                  "STABBR": "TX",
                  "REGION": 6,
                  "ADM_RATE": "nan",
                  "TUITIONFEE_IN": "nan",
                  "YEAR": "2018",
                  "_deepnote_index_column": 6760
                },
                {
                  "UNITID": 47503306,
                  "INSTNM": "Relay Graduate School of Education - Chicago",
                  "STABBR": "IL",
                  "REGION": 3,
                  "ADM_RATE": "nan",
                  "TUITIONFEE_IN": "nan",
                  "YEAR": "2018",
                  "_deepnote_index_column": 6761
                },
                {
                  "UNITID": 47503307,
                  "INSTNM": "Relay Graduate School of Education - Baton Rouge",
                  "STABBR": "LA",
                  "REGION": 5,
                  "ADM_RATE": "nan",
                  "TUITIONFEE_IN": "nan",
                  "YEAR": "2018",
                  "_deepnote_index_column": 6762
                },
                {
                  "UNITID": 47503308,
                  "INSTNM": "Relay Graduate School of Education - Philadelphia & Camden",
                  "STABBR": "PA",
                  "REGION": 2,
                  "ADM_RATE": "nan",
                  "TUITIONFEE_IN": "nan",
                  "YEAR": "2018",
                  "_deepnote_index_column": 6763
                },
                {
                  "UNITID": 47503309,
                  "INSTNM": "Relay Graduate School of Education - Denver",
                  "STABBR": "CO",
                  "REGION": 7,
                  "ADM_RATE": "nan",
                  "TUITIONFEE_IN": "nan",
                  "YEAR": "2018",
                  "_deepnote_index_column": 6764
                },
                {
                  "UNITID": 47503310,
                  "INSTNM": "Relay Graduate School of Education - Nashville",
                  "STABBR": "TN",
                  "REGION": 5,
                  "ADM_RATE": "nan",
                  "TUITIONFEE_IN": "nan",
                  "YEAR": "2018",
                  "_deepnote_index_column": 6765
                },
                {
                  "UNITID": 47503311,
                  "INSTNM": "Relay Graduate School of Education - San Antonio",
                  "STABBR": "TX",
                  "REGION": 6,
                  "ADM_RATE": "nan",
                  "TUITIONFEE_IN": "nan",
                  "YEAR": "2018",
                  "_deepnote_index_column": 6766
                },
                {
                  "UNITID": 47503312,
                  "INSTNM": "Relay Graduate School of Education - Dallas-Fort Worth",
                  "STABBR": "TX",
                  "REGION": 6,
                  "ADM_RATE": "nan",
                  "TUITIONFEE_IN": "nan",
                  "YEAR": "2018",
                  "_deepnote_index_column": 6767
                },
                {
                  "UNITID": 47503313,
                  "INSTNM": "Relay Graduate School of Education - Washington D.C",
                  "STABBR": "DC",
                  "REGION": 2,
                  "ADM_RATE": "nan",
                  "TUITIONFEE_IN": "nan",
                  "YEAR": "2018",
                  "_deepnote_index_column": 6768
                },
                {
                  "UNITID": 47503314,
                  "INSTNM": "Relay Graduate School of Education - Atlanta",
                  "STABBR": "GA",
                  "REGION": 5,
                  "ADM_RATE": "nan",
                  "TUITIONFEE_IN": "nan",
                  "YEAR": "2018",
                  "_deepnote_index_column": 6769
                },
                {
                  "UNITID": 47503315,
                  "INSTNM": "Relay Graduate School of Education - California",
                  "STABBR": "CA",
                  "REGION": 8,
                  "ADM_RATE": "nan",
                  "TUITIONFEE_IN": "nan",
                  "YEAR": "2018",
                  "_deepnote_index_column": 6770
                },
                {
                  "UNITID": 47662901,
                  "INSTNM": "Salon Institute - Columbus Campus",
                  "STABBR": "OH",
                  "REGION": 3,
                  "ADM_RATE": "nan",
                  "TUITIONFEE_IN": "nan",
                  "YEAR": "2018",
                  "_deepnote_index_column": 6771
                },
                {
                  "UNITID": 47691101,
                  "INSTNM": "SAE Institute of Technology San Francisco",
                  "STABBR": "CA",
                  "REGION": 8,
                  "ADM_RATE": "nan",
                  "TUITIONFEE_IN": "nan",
                  "YEAR": "2018",
                  "_deepnote_index_column": 6772
                },
                {
                  "UNITID": 48065701,
                  "INSTNM": "Rasmussen College - Overland Park",
                  "STABBR": "KS",
                  "REGION": 4,
                  "ADM_RATE": "nan",
                  "TUITIONFEE_IN": "10935.0",
                  "YEAR": "2018",
                  "_deepnote_index_column": 6773
                },
                {
                  "UNITID": 48079001,
                  "INSTNM": "Rocky Vista University - Southern Utah",
                  "STABBR": "UT",
                  "REGION": 7,
                  "ADM_RATE": "nan",
                  "TUITIONFEE_IN": "nan",
                  "YEAR": "2018",
                  "_deepnote_index_column": 6774
                },
                {
                  "UNITID": 48092101,
                  "INSTNM": "Designer Barber & Stylist School -",
                  "STABBR": "AR",
                  "REGION": 5,
                  "ADM_RATE": "nan",
                  "TUITIONFEE_IN": "nan",
                  "YEAR": "2018",
                  "_deepnote_index_column": 6775
                },
                {
                  "UNITID": 48133101,
                  "INSTNM": "Sharp Edgez Barber Institute - Buffalo",
                  "STABBR": "NY",
                  "REGION": 2,
                  "ADM_RATE": "nan",
                  "TUITIONFEE_IN": "nan",
                  "YEAR": "2018",
                  "_deepnote_index_column": 6776
                },
                {
                  "UNITID": 48137701,
                  "INSTNM": "Grace College of Barbering - Greensboro",
                  "STABBR": "NC",
                  "REGION": 5,
                  "ADM_RATE": "nan",
                  "TUITIONFEE_IN": "nan",
                  "YEAR": "2018",
                  "_deepnote_index_column": 6777
                },
                {
                  "UNITID": 48154401,
                  "INSTNM": "National Personal Training Institute of Cleveland",
                  "STABBR": "OH",
                  "REGION": 3,
                  "ADM_RATE": "nan",
                  "TUITIONFEE_IN": "nan",
                  "YEAR": "2018",
                  "_deepnote_index_column": 6778
                },
                {
                  "UNITID": 48305401,
                  "INSTNM": "Barber School of Pittsburgh - Ambridge",
                  "STABBR": "PA",
                  "REGION": 2,
                  "ADM_RATE": "nan",
                  "TUITIONFEE_IN": "nan",
                  "YEAR": "2018",
                  "_deepnote_index_column": 6779
                },
                {
                  "UNITID": 48312401,
                  "INSTNM": "Arizona State University at Tucson",
                  "STABBR": "AZ",
                  "REGION": 6,
                  "ADM_RATE": "nan",
                  "TUITIONFEE_IN": "nan",
                  "YEAR": "2018",
                  "_deepnote_index_column": 6780
                },
                {
                  "UNITID": 48312402,
                  "INSTNM": "Arizona State University - ASU Colleges at Lake Havasu City",
                  "STABBR": "AZ",
                  "REGION": 6,
                  "ADM_RATE": "nan",
                  "TUITIONFEE_IN": "6904.0",
                  "YEAR": "2018",
                  "_deepnote_index_column": 6781
                },
                {
                  "UNITID": 48312403,
                  "INSTNM": "Arizona State University at The Gila Valley",
                  "STABBR": "AZ",
                  "REGION": 6,
                  "ADM_RATE": "nan",
                  "TUITIONFEE_IN": "nan",
                  "YEAR": "2018",
                  "_deepnote_index_column": 6782
                },
                {
                  "UNITID": 48312404,
                  "INSTNM": "Arizona State University at Yuma",
                  "STABBR": "AZ",
                  "REGION": 6,
                  "ADM_RATE": "nan",
                  "TUITIONFEE_IN": "nan",
                  "YEAR": "2018",
                  "_deepnote_index_column": 6783
                },
                {
                  "UNITID": 48312405,
                  "INSTNM": "Arizona State University - Pinal",
                  "STABBR": "AZ",
                  "REGION": 6,
                  "ADM_RATE": "nan",
                  "TUITIONFEE_IN": "nan",
                  "YEAR": "2018",
                  "_deepnote_index_column": 6784
                },
                {
                  "UNITID": 48312406,
                  "INSTNM": "Arizona State University - Cochise",
                  "STABBR": "AZ",
                  "REGION": 6,
                  "ADM_RATE": "nan",
                  "TUITIONFEE_IN": "nan",
                  "YEAR": "2018",
                  "_deepnote_index_column": 6785
                },
                {
                  "UNITID": 48379901,
                  "INSTNM": "East-West Healing Arts Institute - Milwaukee",
                  "STABBR": "WI",
                  "REGION": 3,
                  "ADM_RATE": "nan",
                  "TUITIONFEE_IN": "nan",
                  "YEAR": "2018",
                  "_deepnote_index_column": 6786
                },
                {
                  "UNITID": 48385001,
                  "INSTNM": "Alliance Computing Solutions - NYC",
                  "STABBR": "NY",
                  "REGION": 2,
                  "ADM_RATE": "nan",
                  "TUITIONFEE_IN": "nan",
                  "YEAR": "2018",
                  "_deepnote_index_column": 6787
                },
                {
                  "UNITID": 48387801,
                  "INSTNM": "Bay Area Medical Academy - San Jose Satellite Location",
                  "STABBR": "CA",
                  "REGION": 8,
                  "ADM_RATE": "nan",
                  "TUITIONFEE_IN": "nan",
                  "YEAR": "2018",
                  "_deepnote_index_column": 6788
                },
                {
                  "UNITID": 48400201,
                  "INSTNM": "High Desert Medical College - Bakerfield",
                  "STABBR": "CA",
                  "REGION": 8,
                  "ADM_RATE": "nan",
                  "TUITIONFEE_IN": "nan",
                  "YEAR": "2018",
                  "_deepnote_index_column": 6789
                },
                {
                  "UNITID": 48511101,
                  "INSTNM": "Georgia Military College - Zebulon",
                  "STABBR": "GA",
                  "REGION": 5,
                  "ADM_RATE": "nan",
                  "TUITIONFEE_IN": "6120.0",
                  "YEAR": "2018",
                  "_deepnote_index_column": 6790
                },
                {
                  "UNITID": 48511102,
                  "INSTNM": "Georgia Military College - Albany",
                  "STABBR": "GA",
                  "REGION": 5,
                  "ADM_RATE": "nan",
                  "TUITIONFEE_IN": "6120.0",
                  "YEAR": "2018",
                  "_deepnote_index_column": 6791
                },
                {
                  "UNITID": 48511103,
                  "INSTNM": "Georgia Military College - Valdosta",
                  "STABBR": "GA",
                  "REGION": 5,
                  "ADM_RATE": "nan",
                  "TUITIONFEE_IN": "5760.0",
                  "YEAR": "2018",
                  "_deepnote_index_column": 6792
                },
                {
                  "UNITID": 48511104,
                  "INSTNM": "Georgia Military College - Augusta",
                  "STABBR": "GA",
                  "REGION": 5,
                  "ADM_RATE": "nan",
                  "TUITIONFEE_IN": "5940.0",
                  "YEAR": "2018",
                  "_deepnote_index_column": 6793
                },
                {
                  "UNITID": 48511105,
                  "INSTNM": "Georgia Military College - Fairburn",
                  "STABBR": "GA",
                  "REGION": 5,
                  "ADM_RATE": "nan",
                  "TUITIONFEE_IN": "6120.0",
                  "YEAR": "2018",
                  "_deepnote_index_column": 6794
                },
                {
                  "UNITID": 48511106,
                  "INSTNM": "Georgia Military College - Robins",
                  "STABBR": "GA",
                  "REGION": 5,
                  "ADM_RATE": "nan",
                  "TUITIONFEE_IN": "5940.0",
                  "YEAR": "2018",
                  "_deepnote_index_column": 6795
                },
                {
                  "UNITID": 48511107,
                  "INSTNM": "Georgia Military College - Columbus",
                  "STABBR": "GA",
                  "REGION": 5,
                  "ADM_RATE": "nan",
                  "TUITIONFEE_IN": "6120.0",
                  "YEAR": "2018",
                  "_deepnote_index_column": 6796
                },
                {
                  "UNITID": 48511108,
                  "INSTNM": "Georgia Military College - Sandersville",
                  "STABBR": "GA",
                  "REGION": 5,
                  "ADM_RATE": "nan",
                  "TUITIONFEE_IN": "6120.0",
                  "YEAR": "2018",
                  "_deepnote_index_column": 6797
                },
                {
                  "UNITID": 48511109,
                  "INSTNM": "Georgia Military College - Madison",
                  "STABBR": "GA",
                  "REGION": 5,
                  "ADM_RATE": "nan",
                  "TUITIONFEE_IN": "6120.0",
                  "YEAR": "2018",
                  "_deepnote_index_column": 6798
                },
                {
                  "UNITID": 48511110,
                  "INSTNM": "Georgia Military College - Stone Mountain",
                  "STABBR": "GA",
                  "REGION": 5,
                  "ADM_RATE": "nan",
                  "TUITIONFEE_IN": "6120.0",
                  "YEAR": "2018",
                  "_deepnote_index_column": 6799
                },
                {
                  "UNITID": 48511111,
                  "INSTNM": "Georgia Military College - Fayetteville",
                  "STABBR": "GA",
                  "REGION": 5,
                  "ADM_RATE": "nan",
                  "TUITIONFEE_IN": "6120.0",
                  "YEAR": "2018",
                  "_deepnote_index_column": 6800
                },
                {
                  "UNITID": 48511112,
                  "INSTNM": "Georgia Military College - Dublin",
                  "STABBR": "GA",
                  "REGION": 5,
                  "ADM_RATE": "nan",
                  "TUITIONFEE_IN": "6120.0",
                  "YEAR": "2018",
                  "_deepnote_index_column": 6801
                },
                {
                  "UNITID": 48511113,
                  "INSTNM": "Georgia Military College - Eastman",
                  "STABBR": "GA",
                  "REGION": 5,
                  "ADM_RATE": "nan",
                  "TUITIONFEE_IN": "6120.0",
                  "YEAR": "2018",
                  "_deepnote_index_column": 6802
                },
                {
                  "UNITID": 48616901,
                  "INSTNM": "American College of Barbering - Florence",
                  "STABBR": "KY",
                  "REGION": 5,
                  "ADM_RATE": "nan",
                  "TUITIONFEE_IN": "nan",
                  "YEAR": "2018",
                  "_deepnote_index_column": 6803
                },
                {
                  "UNITID": 49005401,
                  "INSTNM": "HCI College - Fort Lauderdale Campus",
                  "STABBR": "FL",
                  "REGION": 5,
                  "ADM_RATE": "nan",
                  "TUITIONFEE_IN": "21420.0",
                  "YEAR": "2018",
                  "_deepnote_index_column": 6804
                },
                {
                  "UNITID": 49146401,
                  "INSTNM": "ABC Adult School - Cabrillo Lane",
                  "STABBR": "CA",
                  "REGION": 8,
                  "ADM_RATE": "nan",
                  "TUITIONFEE_IN": "nan",
                  "YEAR": "2018",
                  "_deepnote_index_column": 6805
                }
              ]
            },
            "text/plain": "        UNITID                                    INSTNM STABBR  REGION  \\\n0       100636        Community College of the Air Force     AL     0.0   \n1       100654                  Alabama A & M University     AL     5.0   \n2       100663       University of Alabama at Birmingham     AL     5.0   \n3       100672    ALABAMA AVIATION AND TECHNICAL COLLEGE     AL     5.0   \n4       100690                        Amridge University     AL     5.0   \n...        ...                                       ...    ...     ...   \n6801  48511112         Georgia Military College - Dublin     GA     5.0   \n6802  48511113        Georgia Military College - Eastman     GA     5.0   \n6803  48616901  American College of Barbering - Florence     KY     5.0   \n6804  49005401      HCI College - Fort Lauderdale Campus     FL     5.0   \n6805  49146401          ABC Adult School - Cabrillo Lane     CA     8.0   \n\n      ADM_RATE  TUITIONFEE_IN  YEAR  \n0          NaN            NaN  1996  \n1          NaN            NaN  1996  \n2          NaN            NaN  1996  \n3          NaN            NaN  1996  \n4          NaN            NaN  1996  \n...        ...            ...   ...  \n6801       NaN         6120.0  2018  \n6802       NaN         6120.0  2018  \n6803       NaN            NaN  2018  \n6804       NaN        21420.0  2018  \n6805       NaN            NaN  2018  \n\n[163331 rows x 7 columns]",
            "text/html": "<div>\n<style scoped>\n    .dataframe tbody tr th:only-of-type {\n        vertical-align: middle;\n    }\n\n    .dataframe tbody tr th {\n        vertical-align: top;\n    }\n\n    .dataframe thead th {\n        text-align: right;\n    }\n</style>\n<table border=\"1\" class=\"dataframe\">\n  <thead>\n    <tr style=\"text-align: right;\">\n      <th></th>\n      <th>UNITID</th>\n      <th>INSTNM</th>\n      <th>STABBR</th>\n      <th>REGION</th>\n      <th>ADM_RATE</th>\n      <th>TUITIONFEE_IN</th>\n      <th>YEAR</th>\n    </tr>\n  </thead>\n  <tbody>\n    <tr>\n      <th>0</th>\n      <td>100636</td>\n      <td>Community College of the Air Force</td>\n      <td>AL</td>\n      <td>0.0</td>\n      <td>NaN</td>\n      <td>NaN</td>\n      <td>1996</td>\n    </tr>\n    <tr>\n      <th>1</th>\n      <td>100654</td>\n      <td>Alabama A &amp; M University</td>\n      <td>AL</td>\n      <td>5.0</td>\n      <td>NaN</td>\n      <td>NaN</td>\n      <td>1996</td>\n    </tr>\n    <tr>\n      <th>2</th>\n      <td>100663</td>\n      <td>University of Alabama at Birmingham</td>\n      <td>AL</td>\n      <td>5.0</td>\n      <td>NaN</td>\n      <td>NaN</td>\n      <td>1996</td>\n    </tr>\n    <tr>\n      <th>3</th>\n      <td>100672</td>\n      <td>ALABAMA AVIATION AND TECHNICAL COLLEGE</td>\n      <td>AL</td>\n      <td>5.0</td>\n      <td>NaN</td>\n      <td>NaN</td>\n      <td>1996</td>\n    </tr>\n    <tr>\n      <th>4</th>\n      <td>100690</td>\n      <td>Amridge University</td>\n      <td>AL</td>\n      <td>5.0</td>\n      <td>NaN</td>\n      <td>NaN</td>\n      <td>1996</td>\n    </tr>\n    <tr>\n      <th>...</th>\n      <td>...</td>\n      <td>...</td>\n      <td>...</td>\n      <td>...</td>\n      <td>...</td>\n      <td>...</td>\n      <td>...</td>\n    </tr>\n    <tr>\n      <th>6801</th>\n      <td>48511112</td>\n      <td>Georgia Military College - Dublin</td>\n      <td>GA</td>\n      <td>5.0</td>\n      <td>NaN</td>\n      <td>6120.0</td>\n      <td>2018</td>\n    </tr>\n    <tr>\n      <th>6802</th>\n      <td>48511113</td>\n      <td>Georgia Military College - Eastman</td>\n      <td>GA</td>\n      <td>5.0</td>\n      <td>NaN</td>\n      <td>6120.0</td>\n      <td>2018</td>\n    </tr>\n    <tr>\n      <th>6803</th>\n      <td>48616901</td>\n      <td>American College of Barbering - Florence</td>\n      <td>KY</td>\n      <td>5.0</td>\n      <td>NaN</td>\n      <td>NaN</td>\n      <td>2018</td>\n    </tr>\n    <tr>\n      <th>6804</th>\n      <td>49005401</td>\n      <td>HCI College - Fort Lauderdale Campus</td>\n      <td>FL</td>\n      <td>5.0</td>\n      <td>NaN</td>\n      <td>21420.0</td>\n      <td>2018</td>\n    </tr>\n    <tr>\n      <th>6805</th>\n      <td>49146401</td>\n      <td>ABC Adult School - Cabrillo Lane</td>\n      <td>CA</td>\n      <td>8.0</td>\n      <td>NaN</td>\n      <td>NaN</td>\n      <td>2018</td>\n    </tr>\n  </tbody>\n</table>\n<p>163331 rows × 7 columns</p>\n</div>"
          },
          "metadata": {}
        }
      ],
      "execution_count": null
    },
    {
      "cell_type": "markdown",
      "source": "## <6> \n\nExplore the new dataframe (# of observations, varibles, head, tail, sample, missing values, statistics,etc.)\n\n    .shape # show the number of: (rows, columns)\n    .info() # general summary of data\n    .head() # show first five rows\n    .tail() # show last five rows\n    .sample(5) # randomly sample 5 data points\n    DATAFRAME[DATAFRAME.isna().any(axis=1)] # find and display any null data\n    DATAFRAME[['ADM_RATE', 'TUITIONFEE_IN']].describe() # overall statistics for each (other columns are omitted here because they dont contain numerical data)",
      "metadata": {
        "tags": [],
        "cell_id": "00010-d1ca182f-c34e-4c5c-b752-37984f4323d0",
        "deepnote_cell_type": "markdown"
      }
    },
    {
      "cell_type": "code",
      "metadata": {
        "id": "riJxj3vU6zLY",
        "cell_id": "00007-f2c2f1f6-eed8-4cac-8a5b-7823c7893902",
        "deepnote_to_be_reexecuted": false,
        "source_hash": "7f2ffbe8",
        "execution_millis": 9,
        "execution_start": 1618833806048,
        "deepnote_cell_type": "code"
      },
      "source": "df.shape # show the number of: (rows, columns)",
      "outputs": [
        {
          "output_type": "execute_result",
          "execution_count": 21,
          "data": {
            "text/plain": "(163331, 7)"
          },
          "metadata": {}
        }
      ],
      "execution_count": null
    },
    {
      "cell_type": "code",
      "metadata": {
        "tags": [],
        "cell_id": "00012-262e1946-3624-4981-8c94-c15f1e762b77",
        "deepnote_to_be_reexecuted": false,
        "source_hash": "1b65c9c2",
        "execution_start": 1618196090054,
        "execution_millis": 37,
        "deepnote_cell_type": "code"
      },
      "source": "df.info() # general summary of data",
      "execution_count": null,
      "outputs": [
        {
          "name": "stdout",
          "text": "<class 'pandas.core.frame.DataFrame'>\nInt64Index: 163331 entries, 0 to 6805\nData columns (total 7 columns):\n #   Column         Non-Null Count   Dtype  \n---  ------         --------------   -----  \n 0   UNITID         163331 non-null  int64  \n 1   INSTNM         163331 non-null  object \n 2   STABBR         163331 non-null  object \n 3   REGION         163330 non-null  float64\n 4   ADM_RATE       44912 non-null   float64\n 5   TUITIONFEE_IN  79195 non-null   float64\n 6   YEAR           163331 non-null  object \ndtypes: float64(3), int64(1), object(3)\nmemory usage: 14.0+ MB\n",
          "output_type": "stream"
        }
      ]
    },
    {
      "cell_type": "code",
      "metadata": {
        "tags": [],
        "cell_id": "00012-16760f28-953b-4bd5-9e46-bad12a39ca40",
        "deepnote_to_be_reexecuted": false,
        "source_hash": "76b120af",
        "execution_millis": 19,
        "execution_start": 1618833812204,
        "deepnote_cell_type": "code"
      },
      "source": "df.head() # show first five rows\n",
      "outputs": [
        {
          "output_type": "execute_result",
          "execution_count": 22,
          "data": {
            "application/vnd.deepnote.dataframe.v2+json": {
              "row_count": 5,
              "column_count": 7,
              "columns": [
                {
                  "name": "UNITID",
                  "dtype": "int64",
                  "stats": {
                    "unique_count": 5,
                    "nan_count": 0,
                    "min": "100636",
                    "max": "100690",
                    "histogram": [
                      {
                        "bin_start": 100636,
                        "bin_end": 100641.4,
                        "count": 1
                      },
                      {
                        "bin_start": 100641.4,
                        "bin_end": 100646.8,
                        "count": 0
                      },
                      {
                        "bin_start": 100646.8,
                        "bin_end": 100652.2,
                        "count": 0
                      },
                      {
                        "bin_start": 100652.2,
                        "bin_end": 100657.6,
                        "count": 1
                      },
                      {
                        "bin_start": 100657.6,
                        "bin_end": 100663,
                        "count": 0
                      },
                      {
                        "bin_start": 100663,
                        "bin_end": 100668.4,
                        "count": 1
                      },
                      {
                        "bin_start": 100668.4,
                        "bin_end": 100673.8,
                        "count": 1
                      },
                      {
                        "bin_start": 100673.8,
                        "bin_end": 100679.2,
                        "count": 0
                      },
                      {
                        "bin_start": 100679.2,
                        "bin_end": 100684.6,
                        "count": 0
                      },
                      {
                        "bin_start": 100684.6,
                        "bin_end": 100690,
                        "count": 1
                      }
                    ]
                  }
                },
                {
                  "name": "INSTNM",
                  "dtype": "object",
                  "stats": {
                    "unique_count": 5,
                    "nan_count": 0,
                    "categories": [
                      {
                        "name": "Community College of the Air Force",
                        "count": 1
                      },
                      {
                        "name": "Alabama A & M University",
                        "count": 1
                      },
                      {
                        "name": "3 others",
                        "count": 3
                      }
                    ]
                  }
                },
                {
                  "name": "STABBR",
                  "dtype": "object",
                  "stats": {
                    "unique_count": 1,
                    "nan_count": 0,
                    "categories": [
                      {
                        "name": "AL",
                        "count": 5
                      }
                    ]
                  }
                },
                {
                  "name": "REGION",
                  "dtype": "float64",
                  "stats": {
                    "unique_count": 2,
                    "nan_count": 0,
                    "min": "0.0",
                    "max": "5.0",
                    "histogram": [
                      {
                        "bin_start": 0,
                        "bin_end": 0.5,
                        "count": 1
                      },
                      {
                        "bin_start": 0.5,
                        "bin_end": 1,
                        "count": 0
                      },
                      {
                        "bin_start": 1,
                        "bin_end": 1.5,
                        "count": 0
                      },
                      {
                        "bin_start": 1.5,
                        "bin_end": 2,
                        "count": 0
                      },
                      {
                        "bin_start": 2,
                        "bin_end": 2.5,
                        "count": 0
                      },
                      {
                        "bin_start": 2.5,
                        "bin_end": 3,
                        "count": 0
                      },
                      {
                        "bin_start": 3,
                        "bin_end": 3.5,
                        "count": 0
                      },
                      {
                        "bin_start": 3.5,
                        "bin_end": 4,
                        "count": 0
                      },
                      {
                        "bin_start": 4,
                        "bin_end": 4.5,
                        "count": 0
                      },
                      {
                        "bin_start": 4.5,
                        "bin_end": 5,
                        "count": 4
                      }
                    ]
                  }
                },
                {
                  "name": "ADM_RATE",
                  "dtype": "float64",
                  "stats": {
                    "unique_count": 0,
                    "nan_count": 5,
                    "min": null,
                    "max": null,
                    "histogram": [
                      {
                        "bin_start": 0,
                        "bin_end": 0.1,
                        "count": 0
                      },
                      {
                        "bin_start": 0.1,
                        "bin_end": 0.2,
                        "count": 0
                      },
                      {
                        "bin_start": 0.2,
                        "bin_end": 0.30000000000000004,
                        "count": 0
                      },
                      {
                        "bin_start": 0.30000000000000004,
                        "bin_end": 0.4,
                        "count": 0
                      },
                      {
                        "bin_start": 0.4,
                        "bin_end": 0.5,
                        "count": 0
                      },
                      {
                        "bin_start": 0.5,
                        "bin_end": 0.6000000000000001,
                        "count": 0
                      },
                      {
                        "bin_start": 0.6000000000000001,
                        "bin_end": 0.7000000000000001,
                        "count": 0
                      },
                      {
                        "bin_start": 0.7000000000000001,
                        "bin_end": 0.8,
                        "count": 0
                      },
                      {
                        "bin_start": 0.8,
                        "bin_end": 0.9,
                        "count": 0
                      },
                      {
                        "bin_start": 0.9,
                        "bin_end": 1,
                        "count": 0
                      }
                    ]
                  }
                },
                {
                  "name": "TUITIONFEE_IN",
                  "dtype": "float64",
                  "stats": {
                    "unique_count": 0,
                    "nan_count": 5,
                    "min": null,
                    "max": null,
                    "histogram": [
                      {
                        "bin_start": 0,
                        "bin_end": 0.1,
                        "count": 0
                      },
                      {
                        "bin_start": 0.1,
                        "bin_end": 0.2,
                        "count": 0
                      },
                      {
                        "bin_start": 0.2,
                        "bin_end": 0.30000000000000004,
                        "count": 0
                      },
                      {
                        "bin_start": 0.30000000000000004,
                        "bin_end": 0.4,
                        "count": 0
                      },
                      {
                        "bin_start": 0.4,
                        "bin_end": 0.5,
                        "count": 0
                      },
                      {
                        "bin_start": 0.5,
                        "bin_end": 0.6000000000000001,
                        "count": 0
                      },
                      {
                        "bin_start": 0.6000000000000001,
                        "bin_end": 0.7000000000000001,
                        "count": 0
                      },
                      {
                        "bin_start": 0.7000000000000001,
                        "bin_end": 0.8,
                        "count": 0
                      },
                      {
                        "bin_start": 0.8,
                        "bin_end": 0.9,
                        "count": 0
                      },
                      {
                        "bin_start": 0.9,
                        "bin_end": 1,
                        "count": 0
                      }
                    ]
                  }
                },
                {
                  "name": "YEAR",
                  "dtype": "object",
                  "stats": {
                    "unique_count": 1,
                    "nan_count": 0,
                    "categories": [
                      {
                        "name": "1996",
                        "count": 5
                      }
                    ]
                  }
                },
                {
                  "name": "_deepnote_index_column",
                  "dtype": "int64"
                }
              ],
              "rows_top": [
                {
                  "UNITID": 100636,
                  "INSTNM": "Community College of the Air Force",
                  "STABBR": "AL",
                  "REGION": 0,
                  "ADM_RATE": "nan",
                  "TUITIONFEE_IN": "nan",
                  "YEAR": "1996",
                  "_deepnote_index_column": 0
                },
                {
                  "UNITID": 100654,
                  "INSTNM": "Alabama A & M University",
                  "STABBR": "AL",
                  "REGION": 5,
                  "ADM_RATE": "nan",
                  "TUITIONFEE_IN": "nan",
                  "YEAR": "1996",
                  "_deepnote_index_column": 1
                },
                {
                  "UNITID": 100663,
                  "INSTNM": "University of Alabama at Birmingham",
                  "STABBR": "AL",
                  "REGION": 5,
                  "ADM_RATE": "nan",
                  "TUITIONFEE_IN": "nan",
                  "YEAR": "1996",
                  "_deepnote_index_column": 2
                },
                {
                  "UNITID": 100672,
                  "INSTNM": "ALABAMA AVIATION AND TECHNICAL COLLEGE",
                  "STABBR": "AL",
                  "REGION": 5,
                  "ADM_RATE": "nan",
                  "TUITIONFEE_IN": "nan",
                  "YEAR": "1996",
                  "_deepnote_index_column": 3
                },
                {
                  "UNITID": 100690,
                  "INSTNM": "Amridge University",
                  "STABBR": "AL",
                  "REGION": 5,
                  "ADM_RATE": "nan",
                  "TUITIONFEE_IN": "nan",
                  "YEAR": "1996",
                  "_deepnote_index_column": 4
                }
              ],
              "rows_bottom": null
            },
            "text/plain": "   UNITID                                  INSTNM STABBR  REGION  ADM_RATE  \\\n0  100636      Community College of the Air Force     AL     0.0       NaN   \n1  100654                Alabama A & M University     AL     5.0       NaN   \n2  100663     University of Alabama at Birmingham     AL     5.0       NaN   \n3  100672  ALABAMA AVIATION AND TECHNICAL COLLEGE     AL     5.0       NaN   \n4  100690                      Amridge University     AL     5.0       NaN   \n\n   TUITIONFEE_IN  YEAR  \n0            NaN  1996  \n1            NaN  1996  \n2            NaN  1996  \n3            NaN  1996  \n4            NaN  1996  ",
            "text/html": "<div>\n<style scoped>\n    .dataframe tbody tr th:only-of-type {\n        vertical-align: middle;\n    }\n\n    .dataframe tbody tr th {\n        vertical-align: top;\n    }\n\n    .dataframe thead th {\n        text-align: right;\n    }\n</style>\n<table border=\"1\" class=\"dataframe\">\n  <thead>\n    <tr style=\"text-align: right;\">\n      <th></th>\n      <th>UNITID</th>\n      <th>INSTNM</th>\n      <th>STABBR</th>\n      <th>REGION</th>\n      <th>ADM_RATE</th>\n      <th>TUITIONFEE_IN</th>\n      <th>YEAR</th>\n    </tr>\n  </thead>\n  <tbody>\n    <tr>\n      <th>0</th>\n      <td>100636</td>\n      <td>Community College of the Air Force</td>\n      <td>AL</td>\n      <td>0.0</td>\n      <td>NaN</td>\n      <td>NaN</td>\n      <td>1996</td>\n    </tr>\n    <tr>\n      <th>1</th>\n      <td>100654</td>\n      <td>Alabama A &amp; M University</td>\n      <td>AL</td>\n      <td>5.0</td>\n      <td>NaN</td>\n      <td>NaN</td>\n      <td>1996</td>\n    </tr>\n    <tr>\n      <th>2</th>\n      <td>100663</td>\n      <td>University of Alabama at Birmingham</td>\n      <td>AL</td>\n      <td>5.0</td>\n      <td>NaN</td>\n      <td>NaN</td>\n      <td>1996</td>\n    </tr>\n    <tr>\n      <th>3</th>\n      <td>100672</td>\n      <td>ALABAMA AVIATION AND TECHNICAL COLLEGE</td>\n      <td>AL</td>\n      <td>5.0</td>\n      <td>NaN</td>\n      <td>NaN</td>\n      <td>1996</td>\n    </tr>\n    <tr>\n      <th>4</th>\n      <td>100690</td>\n      <td>Amridge University</td>\n      <td>AL</td>\n      <td>5.0</td>\n      <td>NaN</td>\n      <td>NaN</td>\n      <td>1996</td>\n    </tr>\n  </tbody>\n</table>\n</div>"
          },
          "metadata": {}
        }
      ],
      "execution_count": null
    },
    {
      "cell_type": "code",
      "metadata": {
        "tags": [],
        "cell_id": "00013-092fae57-2e4d-4031-8319-e630c3fae78c",
        "deepnote_to_be_reexecuted": false,
        "source_hash": "be5e72a4",
        "execution_start": 1618188432669,
        "execution_millis": 15,
        "deepnote_cell_type": "code"
      },
      "source": "df.tail() # show last five rows\n",
      "execution_count": null,
      "outputs": [
        {
          "output_type": "execute_result",
          "execution_count": 73,
          "data": {
            "application/vnd.deepnote.dataframe.v2+json": {
              "row_count": 5,
              "column_count": 7,
              "columns": [
                {
                  "name": "UNITID",
                  "dtype": "int64",
                  "stats": {
                    "unique_count": 5,
                    "nan_count": 0,
                    "min": 48511112,
                    "max": 49146401,
                    "histogram": [
                      {
                        "bin_start": 48511112,
                        "bin_end": 48574640.9,
                        "count": 2
                      },
                      {
                        "bin_start": 48574640.9,
                        "bin_end": 48638169.8,
                        "count": 1
                      },
                      {
                        "bin_start": 48638169.8,
                        "bin_end": 48701698.7,
                        "count": 0
                      },
                      {
                        "bin_start": 48701698.7,
                        "bin_end": 48765227.6,
                        "count": 0
                      },
                      {
                        "bin_start": 48765227.6,
                        "bin_end": 48828756.5,
                        "count": 0
                      },
                      {
                        "bin_start": 48828756.5,
                        "bin_end": 48892285.4,
                        "count": 0
                      },
                      {
                        "bin_start": 48892285.4,
                        "bin_end": 48955814.3,
                        "count": 0
                      },
                      {
                        "bin_start": 48955814.3,
                        "bin_end": 49019343.2,
                        "count": 1
                      },
                      {
                        "bin_start": 49019343.2,
                        "bin_end": 49082872.1,
                        "count": 0
                      },
                      {
                        "bin_start": 49082872.1,
                        "bin_end": 49146401,
                        "count": 1
                      }
                    ]
                  }
                },
                {
                  "name": "INSTNM",
                  "dtype": "object",
                  "stats": {
                    "unique_count": 5,
                    "nan_count": 0,
                    "categories": [
                      {
                        "name": "Georgia Military College - Dublin",
                        "count": 1
                      },
                      {
                        "name": "Georgia Military College - Eastman",
                        "count": 1
                      },
                      {
                        "name": "3 others",
                        "count": 3
                      }
                    ]
                  }
                },
                {
                  "name": "STABBR",
                  "dtype": "object",
                  "stats": {
                    "unique_count": 4,
                    "nan_count": 0,
                    "categories": [
                      {
                        "name": "GA",
                        "count": 2
                      },
                      {
                        "name": "KY",
                        "count": 1
                      },
                      {
                        "name": "2 others",
                        "count": 2
                      }
                    ]
                  }
                },
                {
                  "name": "REGION",
                  "dtype": "float64",
                  "stats": {
                    "unique_count": 2,
                    "nan_count": 0,
                    "min": 5,
                    "max": 8,
                    "histogram": [
                      {
                        "bin_start": 5,
                        "bin_end": 5.3,
                        "count": 4
                      },
                      {
                        "bin_start": 5.3,
                        "bin_end": 5.6,
                        "count": 0
                      },
                      {
                        "bin_start": 5.6,
                        "bin_end": 5.9,
                        "count": 0
                      },
                      {
                        "bin_start": 5.9,
                        "bin_end": 6.2,
                        "count": 0
                      },
                      {
                        "bin_start": 6.2,
                        "bin_end": 6.5,
                        "count": 0
                      },
                      {
                        "bin_start": 6.5,
                        "bin_end": 6.8,
                        "count": 0
                      },
                      {
                        "bin_start": 6.8,
                        "bin_end": 7.1,
                        "count": 0
                      },
                      {
                        "bin_start": 7.1,
                        "bin_end": 7.4,
                        "count": 0
                      },
                      {
                        "bin_start": 7.4,
                        "bin_end": 7.699999999999999,
                        "count": 0
                      },
                      {
                        "bin_start": 7.699999999999999,
                        "bin_end": 8,
                        "count": 1
                      }
                    ]
                  }
                },
                {
                  "name": "ADM_RATE",
                  "dtype": "float64",
                  "stats": {
                    "unique_count": 0,
                    "nan_count": 5,
                    "min": null,
                    "max": null,
                    "histogram": [
                      {
                        "bin_start": 0,
                        "bin_end": 0.1,
                        "count": 0
                      },
                      {
                        "bin_start": 0.1,
                        "bin_end": 0.2,
                        "count": 0
                      },
                      {
                        "bin_start": 0.2,
                        "bin_end": 0.30000000000000004,
                        "count": 0
                      },
                      {
                        "bin_start": 0.30000000000000004,
                        "bin_end": 0.4,
                        "count": 0
                      },
                      {
                        "bin_start": 0.4,
                        "bin_end": 0.5,
                        "count": 0
                      },
                      {
                        "bin_start": 0.5,
                        "bin_end": 0.6000000000000001,
                        "count": 0
                      },
                      {
                        "bin_start": 0.6000000000000001,
                        "bin_end": 0.7000000000000001,
                        "count": 0
                      },
                      {
                        "bin_start": 0.7000000000000001,
                        "bin_end": 0.8,
                        "count": 0
                      },
                      {
                        "bin_start": 0.8,
                        "bin_end": 0.9,
                        "count": 0
                      },
                      {
                        "bin_start": 0.9,
                        "bin_end": 1,
                        "count": 0
                      }
                    ]
                  }
                },
                {
                  "name": "TUITIONFEE_IN",
                  "dtype": "float64",
                  "stats": {
                    "unique_count": 2,
                    "nan_count": 2,
                    "min": 6120,
                    "max": 21420,
                    "histogram": [
                      {
                        "bin_start": 6120,
                        "bin_end": 7650,
                        "count": 2
                      },
                      {
                        "bin_start": 7650,
                        "bin_end": 9180,
                        "count": 0
                      },
                      {
                        "bin_start": 9180,
                        "bin_end": 10710,
                        "count": 0
                      },
                      {
                        "bin_start": 10710,
                        "bin_end": 12240,
                        "count": 0
                      },
                      {
                        "bin_start": 12240,
                        "bin_end": 13770,
                        "count": 0
                      },
                      {
                        "bin_start": 13770,
                        "bin_end": 15300,
                        "count": 0
                      },
                      {
                        "bin_start": 15300,
                        "bin_end": 16830,
                        "count": 0
                      },
                      {
                        "bin_start": 16830,
                        "bin_end": 18360,
                        "count": 0
                      },
                      {
                        "bin_start": 18360,
                        "bin_end": 19890,
                        "count": 0
                      },
                      {
                        "bin_start": 19890,
                        "bin_end": 21420,
                        "count": 1
                      }
                    ]
                  }
                },
                {
                  "name": "YEAR",
                  "dtype": "object",
                  "stats": {
                    "unique_count": 1,
                    "nan_count": 0,
                    "categories": [
                      {
                        "name": "2018",
                        "count": 5
                      }
                    ]
                  }
                },
                {
                  "name": "_deepnote_index_column",
                  "dtype": "int64"
                }
              ],
              "rows_top": [
                {
                  "UNITID": 48511112,
                  "INSTNM": "Georgia Military College - Dublin",
                  "STABBR": "GA",
                  "REGION": 5,
                  "ADM_RATE": "nan",
                  "TUITIONFEE_IN": "6120.0",
                  "YEAR": "2018",
                  "_deepnote_index_column": 6801
                },
                {
                  "UNITID": 48511113,
                  "INSTNM": "Georgia Military College - Eastman",
                  "STABBR": "GA",
                  "REGION": 5,
                  "ADM_RATE": "nan",
                  "TUITIONFEE_IN": "6120.0",
                  "YEAR": "2018",
                  "_deepnote_index_column": 6802
                },
                {
                  "UNITID": 48616901,
                  "INSTNM": "American College of Barbering - Florence",
                  "STABBR": "KY",
                  "REGION": 5,
                  "ADM_RATE": "nan",
                  "TUITIONFEE_IN": "nan",
                  "YEAR": "2018",
                  "_deepnote_index_column": 6803
                },
                {
                  "UNITID": 49005401,
                  "INSTNM": "HCI College - Fort Lauderdale Campus",
                  "STABBR": "FL",
                  "REGION": 5,
                  "ADM_RATE": "nan",
                  "TUITIONFEE_IN": "21420.0",
                  "YEAR": "2018",
                  "_deepnote_index_column": 6804
                },
                {
                  "UNITID": 49146401,
                  "INSTNM": "ABC Adult School - Cabrillo Lane",
                  "STABBR": "CA",
                  "REGION": 8,
                  "ADM_RATE": "nan",
                  "TUITIONFEE_IN": "nan",
                  "YEAR": "2018",
                  "_deepnote_index_column": 6805
                }
              ],
              "rows_bottom": null
            },
            "text/plain": "        UNITID                                    INSTNM STABBR  REGION  \\\n6801  48511112         Georgia Military College - Dublin     GA     5.0   \n6802  48511113        Georgia Military College - Eastman     GA     5.0   \n6803  48616901  American College of Barbering - Florence     KY     5.0   \n6804  49005401      HCI College - Fort Lauderdale Campus     FL     5.0   \n6805  49146401          ABC Adult School - Cabrillo Lane     CA     8.0   \n\n      ADM_RATE  TUITIONFEE_IN  YEAR  \n6801       NaN         6120.0  2018  \n6802       NaN         6120.0  2018  \n6803       NaN            NaN  2018  \n6804       NaN        21420.0  2018  \n6805       NaN            NaN  2018  ",
            "text/html": "<div>\n<style scoped>\n    .dataframe tbody tr th:only-of-type {\n        vertical-align: middle;\n    }\n\n    .dataframe tbody tr th {\n        vertical-align: top;\n    }\n\n    .dataframe thead th {\n        text-align: right;\n    }\n</style>\n<table border=\"1\" class=\"dataframe\">\n  <thead>\n    <tr style=\"text-align: right;\">\n      <th></th>\n      <th>UNITID</th>\n      <th>INSTNM</th>\n      <th>STABBR</th>\n      <th>REGION</th>\n      <th>ADM_RATE</th>\n      <th>TUITIONFEE_IN</th>\n      <th>YEAR</th>\n    </tr>\n  </thead>\n  <tbody>\n    <tr>\n      <th>6801</th>\n      <td>48511112</td>\n      <td>Georgia Military College - Dublin</td>\n      <td>GA</td>\n      <td>5.0</td>\n      <td>NaN</td>\n      <td>6120.0</td>\n      <td>2018</td>\n    </tr>\n    <tr>\n      <th>6802</th>\n      <td>48511113</td>\n      <td>Georgia Military College - Eastman</td>\n      <td>GA</td>\n      <td>5.0</td>\n      <td>NaN</td>\n      <td>6120.0</td>\n      <td>2018</td>\n    </tr>\n    <tr>\n      <th>6803</th>\n      <td>48616901</td>\n      <td>American College of Barbering - Florence</td>\n      <td>KY</td>\n      <td>5.0</td>\n      <td>NaN</td>\n      <td>NaN</td>\n      <td>2018</td>\n    </tr>\n    <tr>\n      <th>6804</th>\n      <td>49005401</td>\n      <td>HCI College - Fort Lauderdale Campus</td>\n      <td>FL</td>\n      <td>5.0</td>\n      <td>NaN</td>\n      <td>21420.0</td>\n      <td>2018</td>\n    </tr>\n    <tr>\n      <th>6805</th>\n      <td>49146401</td>\n      <td>ABC Adult School - Cabrillo Lane</td>\n      <td>CA</td>\n      <td>8.0</td>\n      <td>NaN</td>\n      <td>NaN</td>\n      <td>2018</td>\n    </tr>\n  </tbody>\n</table>\n</div>"
          },
          "metadata": {}
        }
      ]
    },
    {
      "cell_type": "code",
      "metadata": {
        "tags": [],
        "cell_id": "00013-ff9bb501-c1dc-4ad2-8c3e-8dc6dd13d3d5",
        "deepnote_to_be_reexecuted": false,
        "source_hash": "a95a570e",
        "execution_millis": 30,
        "execution_start": 1618188429911,
        "deepnote_cell_type": "code"
      },
      "source": "df.sample(5) # randomly sample 5 data points\n",
      "execution_count": null,
      "outputs": [
        {
          "output_type": "execute_result",
          "execution_count": 72,
          "data": {
            "application/vnd.deepnote.dataframe.v2+json": {
              "row_count": 5,
              "column_count": 7,
              "columns": [
                {
                  "name": "UNITID",
                  "dtype": "int64",
                  "stats": {
                    "unique_count": 5,
                    "nan_count": 0,
                    "min": 128498,
                    "max": 12468107,
                    "histogram": [
                      {
                        "bin_start": 128498,
                        "bin_end": 1362458.9,
                        "count": 4
                      },
                      {
                        "bin_start": 1362458.9,
                        "bin_end": 2596419.8,
                        "count": 0
                      },
                      {
                        "bin_start": 2596419.8,
                        "bin_end": 3830380.6999999997,
                        "count": 0
                      },
                      {
                        "bin_start": 3830380.6999999997,
                        "bin_end": 5064341.6,
                        "count": 0
                      },
                      {
                        "bin_start": 5064341.6,
                        "bin_end": 6298302.5,
                        "count": 0
                      },
                      {
                        "bin_start": 6298302.5,
                        "bin_end": 7532263.399999999,
                        "count": 0
                      },
                      {
                        "bin_start": 7532263.399999999,
                        "bin_end": 8766224.299999999,
                        "count": 0
                      },
                      {
                        "bin_start": 8766224.299999999,
                        "bin_end": 10000185.2,
                        "count": 0
                      },
                      {
                        "bin_start": 10000185.2,
                        "bin_end": 11234146.1,
                        "count": 0
                      },
                      {
                        "bin_start": 11234146.1,
                        "bin_end": 12468107,
                        "count": 1
                      }
                    ]
                  }
                },
                {
                  "name": "INSTNM",
                  "dtype": "object",
                  "stats": {
                    "unique_count": 5,
                    "nan_count": 0,
                    "categories": [
                      {
                        "name": "Maryland University of Integrative Health",
                        "count": 1
                      },
                      {
                        "name": "Albertus Magnus College",
                        "count": 1
                      },
                      {
                        "name": "3 others",
                        "count": 3
                      }
                    ]
                  }
                },
                {
                  "name": "STABBR",
                  "dtype": "object",
                  "stats": {
                    "unique_count": 5,
                    "nan_count": 0,
                    "categories": [
                      {
                        "name": "MD",
                        "count": 1
                      },
                      {
                        "name": "CT",
                        "count": 1
                      },
                      {
                        "name": "3 others",
                        "count": 3
                      }
                    ]
                  }
                },
                {
                  "name": "REGION",
                  "dtype": "float64",
                  "stats": {
                    "unique_count": 4,
                    "nan_count": 0,
                    "min": 1,
                    "max": 8,
                    "histogram": [
                      {
                        "bin_start": 1,
                        "bin_end": 1.7,
                        "count": 1
                      },
                      {
                        "bin_start": 1.7,
                        "bin_end": 2.4,
                        "count": 2
                      },
                      {
                        "bin_start": 2.4,
                        "bin_end": 3.0999999999999996,
                        "count": 1
                      },
                      {
                        "bin_start": 3.0999999999999996,
                        "bin_end": 3.8,
                        "count": 0
                      },
                      {
                        "bin_start": 3.8,
                        "bin_end": 4.5,
                        "count": 0
                      },
                      {
                        "bin_start": 4.5,
                        "bin_end": 5.199999999999999,
                        "count": 0
                      },
                      {
                        "bin_start": 5.199999999999999,
                        "bin_end": 5.8999999999999995,
                        "count": 0
                      },
                      {
                        "bin_start": 5.8999999999999995,
                        "bin_end": 6.6,
                        "count": 0
                      },
                      {
                        "bin_start": 6.6,
                        "bin_end": 7.3,
                        "count": 0
                      },
                      {
                        "bin_start": 7.3,
                        "bin_end": 8,
                        "count": 1
                      }
                    ]
                  }
                },
                {
                  "name": "ADM_RATE",
                  "dtype": "float64",
                  "stats": {
                    "unique_count": 1,
                    "nan_count": 4,
                    "min": 0.866,
                    "max": 0.866,
                    "histogram": [
                      {
                        "bin_start": 0.366,
                        "bin_end": 0.46599999999999997,
                        "count": 0
                      },
                      {
                        "bin_start": 0.46599999999999997,
                        "bin_end": 0.5660000000000001,
                        "count": 0
                      },
                      {
                        "bin_start": 0.5660000000000001,
                        "bin_end": 0.666,
                        "count": 0
                      },
                      {
                        "bin_start": 0.666,
                        "bin_end": 0.766,
                        "count": 0
                      },
                      {
                        "bin_start": 0.766,
                        "bin_end": 0.866,
                        "count": 0
                      },
                      {
                        "bin_start": 0.866,
                        "bin_end": 0.9660000000000001,
                        "count": 1
                      },
                      {
                        "bin_start": 0.9660000000000001,
                        "bin_end": 1.066,
                        "count": 0
                      },
                      {
                        "bin_start": 1.066,
                        "bin_end": 1.166,
                        "count": 0
                      },
                      {
                        "bin_start": 1.166,
                        "bin_end": 1.266,
                        "count": 0
                      },
                      {
                        "bin_start": 1.266,
                        "bin_end": 1.366,
                        "count": 0
                      }
                    ]
                  }
                },
                {
                  "name": "TUITIONFEE_IN",
                  "dtype": "float64",
                  "stats": {
                    "unique_count": 2,
                    "nan_count": 3,
                    "min": 14040,
                    "max": 26294,
                    "histogram": [
                      {
                        "bin_start": 14040,
                        "bin_end": 15265.4,
                        "count": 1
                      },
                      {
                        "bin_start": 15265.4,
                        "bin_end": 16490.8,
                        "count": 0
                      },
                      {
                        "bin_start": 16490.8,
                        "bin_end": 17716.2,
                        "count": 0
                      },
                      {
                        "bin_start": 17716.2,
                        "bin_end": 18941.6,
                        "count": 0
                      },
                      {
                        "bin_start": 18941.6,
                        "bin_end": 20167,
                        "count": 0
                      },
                      {
                        "bin_start": 20167,
                        "bin_end": 21392.4,
                        "count": 0
                      },
                      {
                        "bin_start": 21392.4,
                        "bin_end": 22617.800000000003,
                        "count": 0
                      },
                      {
                        "bin_start": 22617.800000000003,
                        "bin_end": 23843.2,
                        "count": 0
                      },
                      {
                        "bin_start": 23843.2,
                        "bin_end": 25068.6,
                        "count": 0
                      },
                      {
                        "bin_start": 25068.6,
                        "bin_end": 26294,
                        "count": 1
                      }
                    ]
                  }
                },
                {
                  "name": "YEAR",
                  "dtype": "object",
                  "stats": {
                    "unique_count": 5,
                    "nan_count": 0,
                    "categories": [
                      {
                        "name": "2000",
                        "count": 1
                      },
                      {
                        "name": "2011",
                        "count": 1
                      },
                      {
                        "name": "3 others",
                        "count": 3
                      }
                    ]
                  }
                },
                {
                  "name": "_deepnote_index_column",
                  "dtype": "int64"
                }
              ],
              "rows_top": [
                {
                  "UNITID": 164085,
                  "INSTNM": "Maryland University of Integrative Health",
                  "STABBR": "MD",
                  "REGION": 2,
                  "ADM_RATE": "nan",
                  "TUITIONFEE_IN": "nan",
                  "YEAR": "2000",
                  "_deepnote_index_column": 1950
                },
                {
                  "UNITID": 128498,
                  "INSTNM": "Albertus Magnus College",
                  "STABBR": "CT",
                  "REGION": 1,
                  "ADM_RATE": "0.866",
                  "TUITIONFEE_IN": "26294.0",
                  "YEAR": "2011",
                  "_deepnote_index_column": 663
                },
                {
                  "UNITID": 12468107,
                  "INSTNM": "UEI College",
                  "STABBR": "CA",
                  "REGION": 8,
                  "ADM_RATE": "nan",
                  "TUITIONFEE_IN": "nan",
                  "YEAR": "2005",
                  "_deepnote_index_column": 6761
                },
                {
                  "UNITID": 458779,
                  "INSTNM": "Globe University-Wausau",
                  "STABBR": "WI",
                  "REGION": 3,
                  "ADM_RATE": "nan",
                  "TUITIONFEE_IN": "14040.0",
                  "YEAR": "2015",
                  "_deepnote_index_column": 6260
                },
                {
                  "UNITID": 212443,
                  "INSTNM": "Evangelical Theological Seminary",
                  "STABBR": "PA",
                  "REGION": 2,
                  "ADM_RATE": "nan",
                  "TUITIONFEE_IN": "nan",
                  "YEAR": "2004",
                  "_deepnote_index_column": 3625
                }
              ],
              "rows_bottom": null
            },
            "text/plain": "        UNITID                                     INSTNM STABBR  REGION  \\\n1950    164085  Maryland University of Integrative Health     MD     2.0   \n663     128498                    Albertus Magnus College     CT     1.0   \n6761  12468107                                UEI College     CA     8.0   \n6260    458779                    Globe University-Wausau     WI     3.0   \n3625    212443           Evangelical Theological Seminary     PA     2.0   \n\n      ADM_RATE  TUITIONFEE_IN  YEAR  \n1950       NaN            NaN  2000  \n663      0.866        26294.0  2011  \n6761       NaN            NaN  2005  \n6260       NaN        14040.0  2015  \n3625       NaN            NaN  2004  ",
            "text/html": "<div>\n<style scoped>\n    .dataframe tbody tr th:only-of-type {\n        vertical-align: middle;\n    }\n\n    .dataframe tbody tr th {\n        vertical-align: top;\n    }\n\n    .dataframe thead th {\n        text-align: right;\n    }\n</style>\n<table border=\"1\" class=\"dataframe\">\n  <thead>\n    <tr style=\"text-align: right;\">\n      <th></th>\n      <th>UNITID</th>\n      <th>INSTNM</th>\n      <th>STABBR</th>\n      <th>REGION</th>\n      <th>ADM_RATE</th>\n      <th>TUITIONFEE_IN</th>\n      <th>YEAR</th>\n    </tr>\n  </thead>\n  <tbody>\n    <tr>\n      <th>1950</th>\n      <td>164085</td>\n      <td>Maryland University of Integrative Health</td>\n      <td>MD</td>\n      <td>2.0</td>\n      <td>NaN</td>\n      <td>NaN</td>\n      <td>2000</td>\n    </tr>\n    <tr>\n      <th>663</th>\n      <td>128498</td>\n      <td>Albertus Magnus College</td>\n      <td>CT</td>\n      <td>1.0</td>\n      <td>0.866</td>\n      <td>26294.0</td>\n      <td>2011</td>\n    </tr>\n    <tr>\n      <th>6761</th>\n      <td>12468107</td>\n      <td>UEI College</td>\n      <td>CA</td>\n      <td>8.0</td>\n      <td>NaN</td>\n      <td>NaN</td>\n      <td>2005</td>\n    </tr>\n    <tr>\n      <th>6260</th>\n      <td>458779</td>\n      <td>Globe University-Wausau</td>\n      <td>WI</td>\n      <td>3.0</td>\n      <td>NaN</td>\n      <td>14040.0</td>\n      <td>2015</td>\n    </tr>\n    <tr>\n      <th>3625</th>\n      <td>212443</td>\n      <td>Evangelical Theological Seminary</td>\n      <td>PA</td>\n      <td>2.0</td>\n      <td>NaN</td>\n      <td>NaN</td>\n      <td>2004</td>\n    </tr>\n  </tbody>\n</table>\n</div>"
          },
          "metadata": {}
        }
      ]
    },
    {
      "cell_type": "code",
      "metadata": {
        "tags": [],
        "cell_id": "00014-b3ea9fb1-785b-44a2-be25-ea9e1732d85c",
        "deepnote_to_be_reexecuted": false,
        "source_hash": "a4b5ffb3",
        "execution_start": 1618188417798,
        "execution_millis": 36,
        "deepnote_cell_type": "code"
      },
      "source": "df[df.isna().any(axis=1)] # find and display any null data\n",
      "execution_count": null,
      "outputs": [
        {
          "output_type": "execute_result",
          "execution_count": 70,
          "data": {
            "application/vnd.deepnote.dataframe.v2+json": {
              "row_count": 125241,
              "column_count": 7,
              "columns": [
                {
                  "name": "UNITID",
                  "dtype": "int64"
                },
                {
                  "name": "INSTNM",
                  "dtype": "object"
                },
                {
                  "name": "STABBR",
                  "dtype": "object"
                },
                {
                  "name": "REGION",
                  "dtype": "float64"
                },
                {
                  "name": "ADM_RATE",
                  "dtype": "float64"
                },
                {
                  "name": "TUITIONFEE_IN",
                  "dtype": "float64"
                },
                {
                  "name": "YEAR",
                  "dtype": "object"
                },
                {
                  "name": "_deepnote_index_column",
                  "dtype": "int64"
                }
              ],
              "rows_top": [
                {
                  "UNITID": 100636,
                  "INSTNM": "Community College of the Air Force",
                  "STABBR": "AL",
                  "REGION": 0,
                  "ADM_RATE": "nan",
                  "TUITIONFEE_IN": "nan",
                  "YEAR": "1996",
                  "_deepnote_index_column": 0
                },
                {
                  "UNITID": 100654,
                  "INSTNM": "Alabama A & M University",
                  "STABBR": "AL",
                  "REGION": 5,
                  "ADM_RATE": "nan",
                  "TUITIONFEE_IN": "nan",
                  "YEAR": "1996",
                  "_deepnote_index_column": 1
                },
                {
                  "UNITID": 100663,
                  "INSTNM": "University of Alabama at Birmingham",
                  "STABBR": "AL",
                  "REGION": 5,
                  "ADM_RATE": "nan",
                  "TUITIONFEE_IN": "nan",
                  "YEAR": "1996",
                  "_deepnote_index_column": 2
                },
                {
                  "UNITID": 100672,
                  "INSTNM": "ALABAMA AVIATION AND TECHNICAL COLLEGE",
                  "STABBR": "AL",
                  "REGION": 5,
                  "ADM_RATE": "nan",
                  "TUITIONFEE_IN": "nan",
                  "YEAR": "1996",
                  "_deepnote_index_column": 3
                },
                {
                  "UNITID": 100690,
                  "INSTNM": "Amridge University",
                  "STABBR": "AL",
                  "REGION": 5,
                  "ADM_RATE": "nan",
                  "TUITIONFEE_IN": "nan",
                  "YEAR": "1996",
                  "_deepnote_index_column": 4
                },
                {
                  "UNITID": 100706,
                  "INSTNM": "University of Alabama in Huntsville",
                  "STABBR": "AL",
                  "REGION": 5,
                  "ADM_RATE": "nan",
                  "TUITIONFEE_IN": "nan",
                  "YEAR": "1996",
                  "_deepnote_index_column": 5
                },
                {
                  "UNITID": 100724,
                  "INSTNM": "Alabama State University",
                  "STABBR": "AL",
                  "REGION": 5,
                  "ADM_RATE": "nan",
                  "TUITIONFEE_IN": "nan",
                  "YEAR": "1996",
                  "_deepnote_index_column": 6
                },
                {
                  "UNITID": 100751,
                  "INSTNM": "The University of Alabama",
                  "STABBR": "AL",
                  "REGION": 5,
                  "ADM_RATE": "nan",
                  "TUITIONFEE_IN": "nan",
                  "YEAR": "1996",
                  "_deepnote_index_column": 7
                },
                {
                  "UNITID": 100760,
                  "INSTNM": "Central Alabama Community College",
                  "STABBR": "AL",
                  "REGION": 5,
                  "ADM_RATE": "nan",
                  "TUITIONFEE_IN": "nan",
                  "YEAR": "1996",
                  "_deepnote_index_column": 8
                },
                {
                  "UNITID": 100812,
                  "INSTNM": "Athens State University",
                  "STABBR": "AL",
                  "REGION": 5,
                  "ADM_RATE": "nan",
                  "TUITIONFEE_IN": "nan",
                  "YEAR": "1996",
                  "_deepnote_index_column": 9
                },
                {
                  "UNITID": 100830,
                  "INSTNM": "Auburn University at Montgomery",
                  "STABBR": "AL",
                  "REGION": 5,
                  "ADM_RATE": "nan",
                  "TUITIONFEE_IN": "nan",
                  "YEAR": "1996",
                  "_deepnote_index_column": 10
                },
                {
                  "UNITID": 100858,
                  "INSTNM": "Auburn University",
                  "STABBR": "AL",
                  "REGION": 5,
                  "ADM_RATE": "nan",
                  "TUITIONFEE_IN": "nan",
                  "YEAR": "1996",
                  "_deepnote_index_column": 11
                },
                {
                  "UNITID": 100919,
                  "INSTNM": "Lawson State Community College-Bessemer Campus",
                  "STABBR": "AL",
                  "REGION": 5,
                  "ADM_RATE": "nan",
                  "TUITIONFEE_IN": "nan",
                  "YEAR": "1996",
                  "_deepnote_index_column": 12
                },
                {
                  "UNITID": 100937,
                  "INSTNM": "Birmingham-Southern College",
                  "STABBR": "AL",
                  "REGION": 5,
                  "ADM_RATE": "nan",
                  "TUITIONFEE_IN": "nan",
                  "YEAR": "1996",
                  "_deepnote_index_column": 13
                },
                {
                  "UNITID": 100964,
                  "INSTNM": "BEVILL STATE COMMUNITY COLLEGE-BREWER CAMPUS",
                  "STABBR": "AL",
                  "REGION": 5,
                  "ADM_RATE": "nan",
                  "TUITIONFEE_IN": "nan",
                  "YEAR": "1996",
                  "_deepnote_index_column": 14
                },
                {
                  "UNITID": 101019,
                  "INSTNM": "CHARLES ACADEMY OF BEAUTY CULTURE",
                  "STABBR": "AL",
                  "REGION": 5,
                  "ADM_RATE": "nan",
                  "TUITIONFEE_IN": "nan",
                  "YEAR": "1996",
                  "_deepnote_index_column": 15
                },
                {
                  "UNITID": 101028,
                  "INSTNM": "Chattahoochee Valley Community College",
                  "STABBR": "AL",
                  "REGION": 5,
                  "ADM_RATE": "nan",
                  "TUITIONFEE_IN": "nan",
                  "YEAR": "1996",
                  "_deepnote_index_column": 16
                },
                {
                  "UNITID": 101037,
                  "INSTNM": "CHAUNCEY SPARKS STATE TECHNICAL COLLEGE",
                  "STABBR": "AL",
                  "REGION": 5,
                  "ADM_RATE": "nan",
                  "TUITIONFEE_IN": "nan",
                  "YEAR": "1996",
                  "_deepnote_index_column": 17
                },
                {
                  "UNITID": 101073,
                  "INSTNM": "Concordia College Alabama",
                  "STABBR": "AL",
                  "REGION": 5,
                  "ADM_RATE": "nan",
                  "TUITIONFEE_IN": "nan",
                  "YEAR": "1996",
                  "_deepnote_index_column": 18
                },
                {
                  "UNITID": 101107,
                  "INSTNM": "LURLEEN B WALLACE COMMUNITY COLLEGE-MACARTHUR CAMP",
                  "STABBR": "AL",
                  "REGION": 5,
                  "ADM_RATE": "nan",
                  "TUITIONFEE_IN": "nan",
                  "YEAR": "1996",
                  "_deepnote_index_column": 19
                },
                {
                  "UNITID": 101116,
                  "INSTNM": "South University-Montgomery",
                  "STABBR": "AL",
                  "REGION": 5,
                  "ADM_RATE": "nan",
                  "TUITIONFEE_IN": "nan",
                  "YEAR": "1996",
                  "_deepnote_index_column": 20
                },
                {
                  "UNITID": 101143,
                  "INSTNM": "Enterprise State Community College",
                  "STABBR": "AL",
                  "REGION": 5,
                  "ADM_RATE": "nan",
                  "TUITIONFEE_IN": "nan",
                  "YEAR": "1996",
                  "_deepnote_index_column": 21
                },
                {
                  "UNITID": 101161,
                  "INSTNM": "Coastal Alabama Community College",
                  "STABBR": "AL",
                  "REGION": 5,
                  "ADM_RATE": "nan",
                  "TUITIONFEE_IN": "nan",
                  "YEAR": "1996",
                  "_deepnote_index_column": 22
                },
                {
                  "UNITID": 101189,
                  "INSTNM": "Faulkner University",
                  "STABBR": "AL",
                  "REGION": 5,
                  "ADM_RATE": "nan",
                  "TUITIONFEE_IN": "nan",
                  "YEAR": "1996",
                  "_deepnote_index_column": 23
                },
                {
                  "UNITID": 101198,
                  "INSTNM": "FAULKNER UNIVERSITY-BIRMINGHAM",
                  "STABBR": "AL",
                  "REGION": 5,
                  "ADM_RATE": "nan",
                  "TUITIONFEE_IN": "nan",
                  "YEAR": "1996",
                  "_deepnote_index_column": 24
                },
                {
                  "UNITID": 101204,
                  "INSTNM": "FAULKNER UNIVERSITY-FLORENCE",
                  "STABBR": "AL",
                  "REGION": 5,
                  "ADM_RATE": "nan",
                  "TUITIONFEE_IN": "nan",
                  "YEAR": "1996",
                  "_deepnote_index_column": 25
                },
                {
                  "UNITID": 101213,
                  "INSTNM": "FAULKNER UNIVERSITY",
                  "STABBR": "AL",
                  "REGION": 5,
                  "ADM_RATE": "nan",
                  "TUITIONFEE_IN": "nan",
                  "YEAR": "1996",
                  "_deepnote_index_column": 26
                },
                {
                  "UNITID": 101231,
                  "INSTNM": "Gadsden Business College",
                  "STABBR": "AL",
                  "REGION": 5,
                  "ADM_RATE": "nan",
                  "TUITIONFEE_IN": "nan",
                  "YEAR": "1996",
                  "_deepnote_index_column": 27
                },
                {
                  "UNITID": 101240,
                  "INSTNM": "Gadsden State Community College",
                  "STABBR": "AL",
                  "REGION": 5,
                  "ADM_RATE": "nan",
                  "TUITIONFEE_IN": "nan",
                  "YEAR": "1996",
                  "_deepnote_index_column": 28
                },
                {
                  "UNITID": 101268,
                  "INSTNM": "GADSDEN BUSINESS COLLEGE-ANNISTON",
                  "STABBR": "AL",
                  "REGION": 5,
                  "ADM_RATE": "nan",
                  "TUITIONFEE_IN": "nan",
                  "YEAR": "1996",
                  "_deepnote_index_column": 29
                },
                {
                  "UNITID": 101286,
                  "INSTNM": "George C Wallace Community College-Dothan",
                  "STABBR": "AL",
                  "REGION": 5,
                  "ADM_RATE": "nan",
                  "TUITIONFEE_IN": "nan",
                  "YEAR": "1996",
                  "_deepnote_index_column": 30
                },
                {
                  "UNITID": 101295,
                  "INSTNM": "George C Wallace State Community College-Hanceville",
                  "STABBR": "AL",
                  "REGION": 5,
                  "ADM_RATE": "nan",
                  "TUITIONFEE_IN": "nan",
                  "YEAR": "1996",
                  "_deepnote_index_column": 31
                },
                {
                  "UNITID": 101301,
                  "INSTNM": "George C Wallace State Community College-Selma",
                  "STABBR": "AL",
                  "REGION": 5,
                  "ADM_RATE": "nan",
                  "TUITIONFEE_IN": "nan",
                  "YEAR": "1996",
                  "_deepnote_index_column": 32
                },
                {
                  "UNITID": 101347,
                  "INSTNM": "GADSDEN STATE COMMUNITY COLLEGE-AYERS CAMPUS",
                  "STABBR": "AL",
                  "REGION": 5,
                  "ADM_RATE": "nan",
                  "TUITIONFEE_IN": "nan",
                  "YEAR": "1996",
                  "_deepnote_index_column": 33
                },
                {
                  "UNITID": 101365,
                  "INSTNM": "Herzing University-Birmingham",
                  "STABBR": "AL",
                  "REGION": 5,
                  "ADM_RATE": "nan",
                  "TUITIONFEE_IN": "nan",
                  "YEAR": "1996",
                  "_deepnote_index_column": 34
                },
                {
                  "UNITID": 101435,
                  "INSTNM": "Huntingdon College",
                  "STABBR": "AL",
                  "REGION": 5,
                  "ADM_RATE": "nan",
                  "TUITIONFEE_IN": "nan",
                  "YEAR": "1996",
                  "_deepnote_index_column": 35
                },
                {
                  "UNITID": 101444,
                  "INSTNM": "HUNTSVILLE HOSPITAL SCHOOL OF RADIOLOGIC TECHN",
                  "STABBR": "AL",
                  "REGION": 5,
                  "ADM_RATE": "nan",
                  "TUITIONFEE_IN": "nan",
                  "YEAR": "1996",
                  "_deepnote_index_column": 36
                },
                {
                  "UNITID": 101453,
                  "INSTNM": "Heritage Christian University",
                  "STABBR": "AL",
                  "REGION": 5,
                  "ADM_RATE": "nan",
                  "TUITIONFEE_IN": "nan",
                  "YEAR": "1996",
                  "_deepnote_index_column": 37
                },
                {
                  "UNITID": 101462,
                  "INSTNM": "J. F. Drake State Community and Technical College",
                  "STABBR": "AL",
                  "REGION": 5,
                  "ADM_RATE": "nan",
                  "TUITIONFEE_IN": "nan",
                  "YEAR": "1996",
                  "_deepnote_index_column": 38
                },
                {
                  "UNITID": 101480,
                  "INSTNM": "Jacksonville State University",
                  "STABBR": "AL",
                  "REGION": 5,
                  "ADM_RATE": "nan",
                  "TUITIONFEE_IN": "nan",
                  "YEAR": "1996",
                  "_deepnote_index_column": 39
                },
                {
                  "UNITID": 101499,
                  "INSTNM": "Jefferson Davis Community College",
                  "STABBR": "AL",
                  "REGION": 5,
                  "ADM_RATE": "nan",
                  "TUITIONFEE_IN": "nan",
                  "YEAR": "1996",
                  "_deepnote_index_column": 40
                },
                {
                  "UNITID": 101505,
                  "INSTNM": "Jefferson State Community College",
                  "STABBR": "AL",
                  "REGION": 5,
                  "ADM_RATE": "nan",
                  "TUITIONFEE_IN": "nan",
                  "YEAR": "1996",
                  "_deepnote_index_column": 41
                },
                {
                  "UNITID": 101514,
                  "INSTNM": "John C Calhoun State Community College",
                  "STABBR": "AL",
                  "REGION": 5,
                  "ADM_RATE": "nan",
                  "TUITIONFEE_IN": "nan",
                  "YEAR": "1996",
                  "_deepnote_index_column": 42
                },
                {
                  "UNITID": 101523,
                  "INSTNM": "H COUNCILL TRENHOLM STATE TECHNICAL COLLEGE-PATTER",
                  "STABBR": "AL",
                  "REGION": 5,
                  "ADM_RATE": "nan",
                  "TUITIONFEE_IN": "nan",
                  "YEAR": "1996",
                  "_deepnote_index_column": 43
                },
                {
                  "UNITID": 101541,
                  "INSTNM": "Judson College",
                  "STABBR": "AL",
                  "REGION": 5,
                  "ADM_RATE": "nan",
                  "TUITIONFEE_IN": "nan",
                  "YEAR": "1996",
                  "_deepnote_index_column": 44
                },
                {
                  "UNITID": 101569,
                  "INSTNM": "Lawson State Community College",
                  "STABBR": "AL",
                  "REGION": 5,
                  "ADM_RATE": "nan",
                  "TUITIONFEE_IN": "nan",
                  "YEAR": "1996",
                  "_deepnote_index_column": 45
                },
                {
                  "UNITID": 101587,
                  "INSTNM": "University of West Alabama",
                  "STABBR": "AL",
                  "REGION": 5,
                  "ADM_RATE": "nan",
                  "TUITIONFEE_IN": "nan",
                  "YEAR": "1996",
                  "_deepnote_index_column": 46
                },
                {
                  "UNITID": 101602,
                  "INSTNM": "Lurleen B Wallace Community College",
                  "STABBR": "AL",
                  "REGION": 5,
                  "ADM_RATE": "nan",
                  "TUITIONFEE_IN": "nan",
                  "YEAR": "1996",
                  "_deepnote_index_column": 47
                },
                {
                  "UNITID": 101648,
                  "INSTNM": "Marion Military Institute",
                  "STABBR": "AL",
                  "REGION": 5,
                  "ADM_RATE": "nan",
                  "TUITIONFEE_IN": "nan",
                  "YEAR": "1996",
                  "_deepnote_index_column": 48
                },
                {
                  "UNITID": 101657,
                  "INSTNM": "MASTERS INSTITUTE OF COSMETOLOGY",
                  "STABBR": "AL",
                  "REGION": 5,
                  "ADM_RATE": "nan",
                  "TUITIONFEE_IN": "nan",
                  "YEAR": "1996",
                  "_deepnote_index_column": 49
                },
                {
                  "UNITID": 101675,
                  "INSTNM": "Miles College",
                  "STABBR": "AL",
                  "REGION": 5,
                  "ADM_RATE": "nan",
                  "TUITIONFEE_IN": "nan",
                  "YEAR": "1996",
                  "_deepnote_index_column": 50
                },
                {
                  "UNITID": 101693,
                  "INSTNM": "University of Mobile",
                  "STABBR": "AL",
                  "REGION": 5,
                  "ADM_RATE": "nan",
                  "TUITIONFEE_IN": "nan",
                  "YEAR": "1996",
                  "_deepnote_index_column": 51
                },
                {
                  "UNITID": 101709,
                  "INSTNM": "University of Montevallo",
                  "STABBR": "AL",
                  "REGION": 5,
                  "ADM_RATE": "nan",
                  "TUITIONFEE_IN": "nan",
                  "YEAR": "1996",
                  "_deepnote_index_column": 52
                },
                {
                  "UNITID": 101736,
                  "INSTNM": "Northwest-Shoals Community College",
                  "STABBR": "AL",
                  "REGION": 5,
                  "ADM_RATE": "nan",
                  "TUITIONFEE_IN": "nan",
                  "YEAR": "1996",
                  "_deepnote_index_column": 53
                },
                {
                  "UNITID": 101754,
                  "INSTNM": "BEVILL STATE COMMUNITY COLLEGE-HAMILTON CAMPUS",
                  "STABBR": "AL",
                  "REGION": 5,
                  "ADM_RATE": "nan",
                  "TUITIONFEE_IN": "nan",
                  "YEAR": "1996",
                  "_deepnote_index_column": 54
                },
                {
                  "UNITID": 101879,
                  "INSTNM": "University of North Alabama",
                  "STABBR": "AL",
                  "REGION": 5,
                  "ADM_RATE": "nan",
                  "TUITIONFEE_IN": "nan",
                  "YEAR": "1996",
                  "_deepnote_index_column": 55
                },
                {
                  "UNITID": 101897,
                  "INSTNM": "Northeast Alabama Community College",
                  "STABBR": "AL",
                  "REGION": 5,
                  "ADM_RATE": "nan",
                  "TUITIONFEE_IN": "nan",
                  "YEAR": "1996",
                  "_deepnote_index_column": 56
                },
                {
                  "UNITID": 101903,
                  "INSTNM": "NORTHWEST SHOALS COMMUNITY COLLEGE-PHIL CAMPBELL",
                  "STABBR": "AL",
                  "REGION": 5,
                  "ADM_RATE": "nan",
                  "TUITIONFEE_IN": "nan",
                  "YEAR": "1996",
                  "_deepnote_index_column": 57
                },
                {
                  "UNITID": 101912,
                  "INSTNM": "Oakwood University",
                  "STABBR": "AL",
                  "REGION": 5,
                  "ADM_RATE": "nan",
                  "TUITIONFEE_IN": "nan",
                  "YEAR": "1996",
                  "_deepnote_index_column": 58
                },
                {
                  "UNITID": 101949,
                  "INSTNM": "Alabama Southern Community College",
                  "STABBR": "AL",
                  "REGION": 5,
                  "ADM_RATE": "nan",
                  "TUITIONFEE_IN": "nan",
                  "YEAR": "1996",
                  "_deepnote_index_column": 59
                },
                {
                  "UNITID": 101958,
                  "INSTNM": "Prince Institute-Southeast",
                  "STABBR": "IL",
                  "REGION": 3,
                  "ADM_RATE": "nan",
                  "TUITIONFEE_IN": "nan",
                  "YEAR": "1996",
                  "_deepnote_index_column": 60
                },
                {
                  "UNITID": 101994,
                  "INSTNM": "Reid State Technical College",
                  "STABBR": "AL",
                  "REGION": 5,
                  "ADM_RATE": "nan",
                  "TUITIONFEE_IN": "nan",
                  "YEAR": "1996",
                  "_deepnote_index_column": 61
                },
                {
                  "UNITID": 102030,
                  "INSTNM": "Bishop State Community College",
                  "STABBR": "AL",
                  "REGION": 5,
                  "ADM_RATE": "nan",
                  "TUITIONFEE_IN": "nan",
                  "YEAR": "1996",
                  "_deepnote_index_column": 62
                },
                {
                  "UNITID": 102049,
                  "INSTNM": "Samford University",
                  "STABBR": "AL",
                  "REGION": 5,
                  "ADM_RATE": "nan",
                  "TUITIONFEE_IN": "nan",
                  "YEAR": "1996",
                  "_deepnote_index_column": 63
                },
                {
                  "UNITID": 102058,
                  "INSTNM": "Selma University",
                  "STABBR": "AL",
                  "REGION": 5,
                  "ADM_RATE": "nan",
                  "TUITIONFEE_IN": "nan",
                  "YEAR": "1996",
                  "_deepnote_index_column": 64
                },
                {
                  "UNITID": 102067,
                  "INSTNM": "Shelton State Community College",
                  "STABBR": "AL",
                  "REGION": 5,
                  "ADM_RATE": "nan",
                  "TUITIONFEE_IN": "nan",
                  "YEAR": "1996",
                  "_deepnote_index_column": 65
                },
                {
                  "UNITID": 102076,
                  "INSTNM": "Snead State Community College",
                  "STABBR": "AL",
                  "REGION": 5,
                  "ADM_RATE": "nan",
                  "TUITIONFEE_IN": "nan",
                  "YEAR": "1996",
                  "_deepnote_index_column": 66
                },
                {
                  "UNITID": 102094,
                  "INSTNM": "University of South Alabama",
                  "STABBR": "AL",
                  "REGION": 5,
                  "ADM_RATE": "nan",
                  "TUITIONFEE_IN": "nan",
                  "YEAR": "1996",
                  "_deepnote_index_column": 67
                },
                {
                  "UNITID": 102100,
                  "INSTNM": "UNIVERSITY OF SOUTH ALABAMA-BALDWIN",
                  "STABBR": "AL",
                  "REGION": 5,
                  "ADM_RATE": "nan",
                  "TUITIONFEE_IN": "nan",
                  "YEAR": "1996",
                  "_deepnote_index_column": 68
                },
                {
                  "UNITID": 102216,
                  "INSTNM": "Southern Community College",
                  "STABBR": "AL",
                  "REGION": 5,
                  "ADM_RATE": "nan",
                  "TUITIONFEE_IN": "nan",
                  "YEAR": "1996",
                  "_deepnote_index_column": 69
                },
                {
                  "UNITID": 102234,
                  "INSTNM": "Spring Hill College",
                  "STABBR": "AL",
                  "REGION": 5,
                  "ADM_RATE": "nan",
                  "TUITIONFEE_IN": "nan",
                  "YEAR": "1996",
                  "_deepnote_index_column": 70
                }
              ],
              "rows_bottom": [
                {
                  "UNITID": 45891901,
                  "INSTNM": "Strayer University-Cobb Campus",
                  "STABBR": "GA",
                  "REGION": 5,
                  "ADM_RATE": "nan",
                  "TUITIONFEE_IN": "13380.0",
                  "YEAR": "2018",
                  "_deepnote_index_column": 6735
                },
                {
                  "UNITID": 45891902,
                  "INSTNM": "Strayer University-Morrow Campus",
                  "STABBR": "GA",
                  "REGION": 5,
                  "ADM_RATE": "nan",
                  "TUITIONFEE_IN": "13380.0",
                  "YEAR": "2018",
                  "_deepnote_index_column": 6736
                },
                {
                  "UNITID": 45891903,
                  "INSTNM": "Strayer University-Roswell Campus",
                  "STABBR": "GA",
                  "REGION": 5,
                  "ADM_RATE": "nan",
                  "TUITIONFEE_IN": "13380.0",
                  "YEAR": "2018",
                  "_deepnote_index_column": 6737
                },
                {
                  "UNITID": 45891904,
                  "INSTNM": "Strayer University-Douglasville Campus",
                  "STABBR": "GA",
                  "REGION": 5,
                  "ADM_RATE": "nan",
                  "TUITIONFEE_IN": "13380.0",
                  "YEAR": "2018",
                  "_deepnote_index_column": 6738
                },
                {
                  "UNITID": 45891905,
                  "INSTNM": "Strayer University-Lithonia Campus",
                  "STABBR": "GA",
                  "REGION": 5,
                  "ADM_RATE": "nan",
                  "TUITIONFEE_IN": "13380.0",
                  "YEAR": "2018",
                  "_deepnote_index_column": 6739
                },
                {
                  "UNITID": 45891906,
                  "INSTNM": "Strayer University-Savannah Campus",
                  "STABBR": "GA",
                  "REGION": 5,
                  "ADM_RATE": "nan",
                  "TUITIONFEE_IN": "13380.0",
                  "YEAR": "2018",
                  "_deepnote_index_column": 6740
                },
                {
                  "UNITID": 45891907,
                  "INSTNM": "Strayer University-Augusta Campus",
                  "STABBR": "GA",
                  "REGION": 5,
                  "ADM_RATE": "nan",
                  "TUITIONFEE_IN": "13380.0",
                  "YEAR": "2018",
                  "_deepnote_index_column": 6741
                },
                {
                  "UNITID": 45891908,
                  "INSTNM": "Strayer University-Columbus",
                  "STABBR": "GA",
                  "REGION": 5,
                  "ADM_RATE": "nan",
                  "TUITIONFEE_IN": "13380.0",
                  "YEAR": "2018",
                  "_deepnote_index_column": 6742
                },
                {
                  "UNITID": 45891909,
                  "INSTNM": "Strayer University - Macon Campus",
                  "STABBR": "GA",
                  "REGION": 5,
                  "ADM_RATE": "nan",
                  "TUITIONFEE_IN": "13380.0",
                  "YEAR": "2018",
                  "_deepnote_index_column": 6743
                },
                {
                  "UNITID": 45896401,
                  "INSTNM": "Strayer University-Columbia Campus",
                  "STABBR": "SC",
                  "REGION": 5,
                  "ADM_RATE": "nan",
                  "TUITIONFEE_IN": "13380.0",
                  "YEAR": "2018",
                  "_deepnote_index_column": 6744
                },
                {
                  "UNITID": 45896402,
                  "INSTNM": "Strayer University-Charleston Campus",
                  "STABBR": "SC",
                  "REGION": 5,
                  "ADM_RATE": "nan",
                  "TUITIONFEE_IN": "13380.0",
                  "YEAR": "2018",
                  "_deepnote_index_column": 6745
                },
                {
                  "UNITID": 45897301,
                  "INSTNM": "Strayer University-Irving",
                  "STABBR": "TX",
                  "REGION": 6,
                  "ADM_RATE": "nan",
                  "TUITIONFEE_IN": "13380.0",
                  "YEAR": "2018",
                  "_deepnote_index_column": 6746
                },
                {
                  "UNITID": 45897303,
                  "INSTNM": "Strayer University-Northwest Houston",
                  "STABBR": "TX",
                  "REGION": 6,
                  "ADM_RATE": "nan",
                  "TUITIONFEE_IN": "13380.0",
                  "YEAR": "2018",
                  "_deepnote_index_column": 6747
                },
                {
                  "UNITID": 45897304,
                  "INSTNM": "Strayer University-Plano",
                  "STABBR": "TX",
                  "REGION": 6,
                  "ADM_RATE": "nan",
                  "TUITIONFEE_IN": "13380.0",
                  "YEAR": "2018",
                  "_deepnote_index_column": 6748
                },
                {
                  "UNITID": 45897305,
                  "INSTNM": "Strayer University-Cedar Hill",
                  "STABBR": "TX",
                  "REGION": 6,
                  "ADM_RATE": "nan",
                  "TUITIONFEE_IN": "13380.0",
                  "YEAR": "2018",
                  "_deepnote_index_column": 6749
                },
                {
                  "UNITID": 45897306,
                  "INSTNM": "Strayer University-North Dallas",
                  "STABBR": "TX",
                  "REGION": 6,
                  "ADM_RATE": "nan",
                  "TUITIONFEE_IN": "13380.0",
                  "YEAR": "2018",
                  "_deepnote_index_column": 6750
                },
                {
                  "UNITID": 45897307,
                  "INSTNM": "Strayer University-San Antonio",
                  "STABBR": "TX",
                  "REGION": 6,
                  "ADM_RATE": "nan",
                  "TUITIONFEE_IN": "13380.0",
                  "YEAR": "2018",
                  "_deepnote_index_column": 6751
                },
                {
                  "UNITID": 45897308,
                  "INSTNM": "Strayer University-Stafford",
                  "STABBR": "TX",
                  "REGION": 6,
                  "ADM_RATE": "nan",
                  "TUITIONFEE_IN": "13380.0",
                  "YEAR": "2018",
                  "_deepnote_index_column": 6752
                },
                {
                  "UNITID": 45897309,
                  "INSTNM": "Strayer University - Northwest Houston Campus",
                  "STABBR": "TX",
                  "REGION": 6,
                  "ADM_RATE": "nan",
                  "TUITIONFEE_IN": "13380.0",
                  "YEAR": "2018",
                  "_deepnote_index_column": 6753
                },
                {
                  "UNITID": 45920401,
                  "INSTNM": "Unitek College",
                  "STABBR": "CA",
                  "REGION": 8,
                  "ADM_RATE": "nan",
                  "TUITIONFEE_IN": "33559.0",
                  "YEAR": "2018",
                  "_deepnote_index_column": 6754
                },
                {
                  "UNITID": 46131501,
                  "INSTNM": "Keweenaw Bay Ojibwa Community College - Wabanung Campus",
                  "STABBR": "MI",
                  "REGION": 3,
                  "ADM_RATE": "nan",
                  "TUITIONFEE_IN": "610.0",
                  "YEAR": "2018",
                  "_deepnote_index_column": 6755
                },
                {
                  "UNITID": 47503301,
                  "INSTNM": "Relay Graduate School of Education - Newark",
                  "STABBR": "NJ",
                  "REGION": 2,
                  "ADM_RATE": "nan",
                  "TUITIONFEE_IN": "nan",
                  "YEAR": "2018",
                  "_deepnote_index_column": 6756
                },
                {
                  "UNITID": 47503302,
                  "INSTNM": "Relay Graduate School of Education - New Orleans",
                  "STABBR": "LA",
                  "REGION": 5,
                  "ADM_RATE": "nan",
                  "TUITIONFEE_IN": "nan",
                  "YEAR": "2018",
                  "_deepnote_index_column": 6757
                },
                {
                  "UNITID": 47503303,
                  "INSTNM": "Relay Graduate School of Education - Delaware",
                  "STABBR": "DE",
                  "REGION": 2,
                  "ADM_RATE": "nan",
                  "TUITIONFEE_IN": "nan",
                  "YEAR": "2018",
                  "_deepnote_index_column": 6758
                },
                {
                  "UNITID": 47503304,
                  "INSTNM": "Relay Graduate School of Education - Memphis",
                  "STABBR": "TN",
                  "REGION": 5,
                  "ADM_RATE": "nan",
                  "TUITIONFEE_IN": "nan",
                  "YEAR": "2018",
                  "_deepnote_index_column": 6759
                },
                {
                  "UNITID": 47503305,
                  "INSTNM": "Relay Graduate School of Education - Houston",
                  "STABBR": "TX",
                  "REGION": 6,
                  "ADM_RATE": "nan",
                  "TUITIONFEE_IN": "nan",
                  "YEAR": "2018",
                  "_deepnote_index_column": 6760
                },
                {
                  "UNITID": 47503306,
                  "INSTNM": "Relay Graduate School of Education - Chicago",
                  "STABBR": "IL",
                  "REGION": 3,
                  "ADM_RATE": "nan",
                  "TUITIONFEE_IN": "nan",
                  "YEAR": "2018",
                  "_deepnote_index_column": 6761
                },
                {
                  "UNITID": 47503307,
                  "INSTNM": "Relay Graduate School of Education - Baton Rouge",
                  "STABBR": "LA",
                  "REGION": 5,
                  "ADM_RATE": "nan",
                  "TUITIONFEE_IN": "nan",
                  "YEAR": "2018",
                  "_deepnote_index_column": 6762
                },
                {
                  "UNITID": 47503308,
                  "INSTNM": "Relay Graduate School of Education - Philadelphia & Camden",
                  "STABBR": "PA",
                  "REGION": 2,
                  "ADM_RATE": "nan",
                  "TUITIONFEE_IN": "nan",
                  "YEAR": "2018",
                  "_deepnote_index_column": 6763
                },
                {
                  "UNITID": 47503309,
                  "INSTNM": "Relay Graduate School of Education - Denver",
                  "STABBR": "CO",
                  "REGION": 7,
                  "ADM_RATE": "nan",
                  "TUITIONFEE_IN": "nan",
                  "YEAR": "2018",
                  "_deepnote_index_column": 6764
                },
                {
                  "UNITID": 47503310,
                  "INSTNM": "Relay Graduate School of Education - Nashville",
                  "STABBR": "TN",
                  "REGION": 5,
                  "ADM_RATE": "nan",
                  "TUITIONFEE_IN": "nan",
                  "YEAR": "2018",
                  "_deepnote_index_column": 6765
                },
                {
                  "UNITID": 47503311,
                  "INSTNM": "Relay Graduate School of Education - San Antonio",
                  "STABBR": "TX",
                  "REGION": 6,
                  "ADM_RATE": "nan",
                  "TUITIONFEE_IN": "nan",
                  "YEAR": "2018",
                  "_deepnote_index_column": 6766
                },
                {
                  "UNITID": 47503312,
                  "INSTNM": "Relay Graduate School of Education - Dallas-Fort Worth",
                  "STABBR": "TX",
                  "REGION": 6,
                  "ADM_RATE": "nan",
                  "TUITIONFEE_IN": "nan",
                  "YEAR": "2018",
                  "_deepnote_index_column": 6767
                },
                {
                  "UNITID": 47503313,
                  "INSTNM": "Relay Graduate School of Education - Washington D.C",
                  "STABBR": "DC",
                  "REGION": 2,
                  "ADM_RATE": "nan",
                  "TUITIONFEE_IN": "nan",
                  "YEAR": "2018",
                  "_deepnote_index_column": 6768
                },
                {
                  "UNITID": 47503314,
                  "INSTNM": "Relay Graduate School of Education - Atlanta",
                  "STABBR": "GA",
                  "REGION": 5,
                  "ADM_RATE": "nan",
                  "TUITIONFEE_IN": "nan",
                  "YEAR": "2018",
                  "_deepnote_index_column": 6769
                },
                {
                  "UNITID": 47503315,
                  "INSTNM": "Relay Graduate School of Education - California",
                  "STABBR": "CA",
                  "REGION": 8,
                  "ADM_RATE": "nan",
                  "TUITIONFEE_IN": "nan",
                  "YEAR": "2018",
                  "_deepnote_index_column": 6770
                },
                {
                  "UNITID": 47662901,
                  "INSTNM": "Salon Institute - Columbus Campus",
                  "STABBR": "OH",
                  "REGION": 3,
                  "ADM_RATE": "nan",
                  "TUITIONFEE_IN": "nan",
                  "YEAR": "2018",
                  "_deepnote_index_column": 6771
                },
                {
                  "UNITID": 47691101,
                  "INSTNM": "SAE Institute of Technology San Francisco",
                  "STABBR": "CA",
                  "REGION": 8,
                  "ADM_RATE": "nan",
                  "TUITIONFEE_IN": "nan",
                  "YEAR": "2018",
                  "_deepnote_index_column": 6772
                },
                {
                  "UNITID": 48065701,
                  "INSTNM": "Rasmussen College - Overland Park",
                  "STABBR": "KS",
                  "REGION": 4,
                  "ADM_RATE": "nan",
                  "TUITIONFEE_IN": "10935.0",
                  "YEAR": "2018",
                  "_deepnote_index_column": 6773
                },
                {
                  "UNITID": 48079001,
                  "INSTNM": "Rocky Vista University - Southern Utah",
                  "STABBR": "UT",
                  "REGION": 7,
                  "ADM_RATE": "nan",
                  "TUITIONFEE_IN": "nan",
                  "YEAR": "2018",
                  "_deepnote_index_column": 6774
                },
                {
                  "UNITID": 48092101,
                  "INSTNM": "Designer Barber & Stylist School -",
                  "STABBR": "AR",
                  "REGION": 5,
                  "ADM_RATE": "nan",
                  "TUITIONFEE_IN": "nan",
                  "YEAR": "2018",
                  "_deepnote_index_column": 6775
                },
                {
                  "UNITID": 48133101,
                  "INSTNM": "Sharp Edgez Barber Institute - Buffalo",
                  "STABBR": "NY",
                  "REGION": 2,
                  "ADM_RATE": "nan",
                  "TUITIONFEE_IN": "nan",
                  "YEAR": "2018",
                  "_deepnote_index_column": 6776
                },
                {
                  "UNITID": 48137701,
                  "INSTNM": "Grace College of Barbering - Greensboro",
                  "STABBR": "NC",
                  "REGION": 5,
                  "ADM_RATE": "nan",
                  "TUITIONFEE_IN": "nan",
                  "YEAR": "2018",
                  "_deepnote_index_column": 6777
                },
                {
                  "UNITID": 48154401,
                  "INSTNM": "National Personal Training Institute of Cleveland",
                  "STABBR": "OH",
                  "REGION": 3,
                  "ADM_RATE": "nan",
                  "TUITIONFEE_IN": "nan",
                  "YEAR": "2018",
                  "_deepnote_index_column": 6778
                },
                {
                  "UNITID": 48305401,
                  "INSTNM": "Barber School of Pittsburgh - Ambridge",
                  "STABBR": "PA",
                  "REGION": 2,
                  "ADM_RATE": "nan",
                  "TUITIONFEE_IN": "nan",
                  "YEAR": "2018",
                  "_deepnote_index_column": 6779
                },
                {
                  "UNITID": 48312401,
                  "INSTNM": "Arizona State University at Tucson",
                  "STABBR": "AZ",
                  "REGION": 6,
                  "ADM_RATE": "nan",
                  "TUITIONFEE_IN": "nan",
                  "YEAR": "2018",
                  "_deepnote_index_column": 6780
                },
                {
                  "UNITID": 48312402,
                  "INSTNM": "Arizona State University - ASU Colleges at Lake Havasu City",
                  "STABBR": "AZ",
                  "REGION": 6,
                  "ADM_RATE": "nan",
                  "TUITIONFEE_IN": "6904.0",
                  "YEAR": "2018",
                  "_deepnote_index_column": 6781
                },
                {
                  "UNITID": 48312403,
                  "INSTNM": "Arizona State University at The Gila Valley",
                  "STABBR": "AZ",
                  "REGION": 6,
                  "ADM_RATE": "nan",
                  "TUITIONFEE_IN": "nan",
                  "YEAR": "2018",
                  "_deepnote_index_column": 6782
                },
                {
                  "UNITID": 48312404,
                  "INSTNM": "Arizona State University at Yuma",
                  "STABBR": "AZ",
                  "REGION": 6,
                  "ADM_RATE": "nan",
                  "TUITIONFEE_IN": "nan",
                  "YEAR": "2018",
                  "_deepnote_index_column": 6783
                },
                {
                  "UNITID": 48312405,
                  "INSTNM": "Arizona State University - Pinal",
                  "STABBR": "AZ",
                  "REGION": 6,
                  "ADM_RATE": "nan",
                  "TUITIONFEE_IN": "nan",
                  "YEAR": "2018",
                  "_deepnote_index_column": 6784
                },
                {
                  "UNITID": 48312406,
                  "INSTNM": "Arizona State University - Cochise",
                  "STABBR": "AZ",
                  "REGION": 6,
                  "ADM_RATE": "nan",
                  "TUITIONFEE_IN": "nan",
                  "YEAR": "2018",
                  "_deepnote_index_column": 6785
                },
                {
                  "UNITID": 48379901,
                  "INSTNM": "East-West Healing Arts Institute - Milwaukee",
                  "STABBR": "WI",
                  "REGION": 3,
                  "ADM_RATE": "nan",
                  "TUITIONFEE_IN": "nan",
                  "YEAR": "2018",
                  "_deepnote_index_column": 6786
                },
                {
                  "UNITID": 48385001,
                  "INSTNM": "Alliance Computing Solutions - NYC",
                  "STABBR": "NY",
                  "REGION": 2,
                  "ADM_RATE": "nan",
                  "TUITIONFEE_IN": "nan",
                  "YEAR": "2018",
                  "_deepnote_index_column": 6787
                },
                {
                  "UNITID": 48387801,
                  "INSTNM": "Bay Area Medical Academy - San Jose Satellite Location",
                  "STABBR": "CA",
                  "REGION": 8,
                  "ADM_RATE": "nan",
                  "TUITIONFEE_IN": "nan",
                  "YEAR": "2018",
                  "_deepnote_index_column": 6788
                },
                {
                  "UNITID": 48400201,
                  "INSTNM": "High Desert Medical College - Bakerfield",
                  "STABBR": "CA",
                  "REGION": 8,
                  "ADM_RATE": "nan",
                  "TUITIONFEE_IN": "nan",
                  "YEAR": "2018",
                  "_deepnote_index_column": 6789
                },
                {
                  "UNITID": 48511101,
                  "INSTNM": "Georgia Military College - Zebulon",
                  "STABBR": "GA",
                  "REGION": 5,
                  "ADM_RATE": "nan",
                  "TUITIONFEE_IN": "6120.0",
                  "YEAR": "2018",
                  "_deepnote_index_column": 6790
                },
                {
                  "UNITID": 48511102,
                  "INSTNM": "Georgia Military College - Albany",
                  "STABBR": "GA",
                  "REGION": 5,
                  "ADM_RATE": "nan",
                  "TUITIONFEE_IN": "6120.0",
                  "YEAR": "2018",
                  "_deepnote_index_column": 6791
                },
                {
                  "UNITID": 48511103,
                  "INSTNM": "Georgia Military College - Valdosta",
                  "STABBR": "GA",
                  "REGION": 5,
                  "ADM_RATE": "nan",
                  "TUITIONFEE_IN": "5760.0",
                  "YEAR": "2018",
                  "_deepnote_index_column": 6792
                },
                {
                  "UNITID": 48511104,
                  "INSTNM": "Georgia Military College - Augusta",
                  "STABBR": "GA",
                  "REGION": 5,
                  "ADM_RATE": "nan",
                  "TUITIONFEE_IN": "5940.0",
                  "YEAR": "2018",
                  "_deepnote_index_column": 6793
                },
                {
                  "UNITID": 48511105,
                  "INSTNM": "Georgia Military College - Fairburn",
                  "STABBR": "GA",
                  "REGION": 5,
                  "ADM_RATE": "nan",
                  "TUITIONFEE_IN": "6120.0",
                  "YEAR": "2018",
                  "_deepnote_index_column": 6794
                },
                {
                  "UNITID": 48511106,
                  "INSTNM": "Georgia Military College - Robins",
                  "STABBR": "GA",
                  "REGION": 5,
                  "ADM_RATE": "nan",
                  "TUITIONFEE_IN": "5940.0",
                  "YEAR": "2018",
                  "_deepnote_index_column": 6795
                },
                {
                  "UNITID": 48511107,
                  "INSTNM": "Georgia Military College - Columbus",
                  "STABBR": "GA",
                  "REGION": 5,
                  "ADM_RATE": "nan",
                  "TUITIONFEE_IN": "6120.0",
                  "YEAR": "2018",
                  "_deepnote_index_column": 6796
                },
                {
                  "UNITID": 48511108,
                  "INSTNM": "Georgia Military College - Sandersville",
                  "STABBR": "GA",
                  "REGION": 5,
                  "ADM_RATE": "nan",
                  "TUITIONFEE_IN": "6120.0",
                  "YEAR": "2018",
                  "_deepnote_index_column": 6797
                },
                {
                  "UNITID": 48511109,
                  "INSTNM": "Georgia Military College - Madison",
                  "STABBR": "GA",
                  "REGION": 5,
                  "ADM_RATE": "nan",
                  "TUITIONFEE_IN": "6120.0",
                  "YEAR": "2018",
                  "_deepnote_index_column": 6798
                },
                {
                  "UNITID": 48511110,
                  "INSTNM": "Georgia Military College - Stone Mountain",
                  "STABBR": "GA",
                  "REGION": 5,
                  "ADM_RATE": "nan",
                  "TUITIONFEE_IN": "6120.0",
                  "YEAR": "2018",
                  "_deepnote_index_column": 6799
                },
                {
                  "UNITID": 48511111,
                  "INSTNM": "Georgia Military College - Fayetteville",
                  "STABBR": "GA",
                  "REGION": 5,
                  "ADM_RATE": "nan",
                  "TUITIONFEE_IN": "6120.0",
                  "YEAR": "2018",
                  "_deepnote_index_column": 6800
                },
                {
                  "UNITID": 48511112,
                  "INSTNM": "Georgia Military College - Dublin",
                  "STABBR": "GA",
                  "REGION": 5,
                  "ADM_RATE": "nan",
                  "TUITIONFEE_IN": "6120.0",
                  "YEAR": "2018",
                  "_deepnote_index_column": 6801
                },
                {
                  "UNITID": 48511113,
                  "INSTNM": "Georgia Military College - Eastman",
                  "STABBR": "GA",
                  "REGION": 5,
                  "ADM_RATE": "nan",
                  "TUITIONFEE_IN": "6120.0",
                  "YEAR": "2018",
                  "_deepnote_index_column": 6802
                },
                {
                  "UNITID": 48616901,
                  "INSTNM": "American College of Barbering - Florence",
                  "STABBR": "KY",
                  "REGION": 5,
                  "ADM_RATE": "nan",
                  "TUITIONFEE_IN": "nan",
                  "YEAR": "2018",
                  "_deepnote_index_column": 6803
                },
                {
                  "UNITID": 49005401,
                  "INSTNM": "HCI College - Fort Lauderdale Campus",
                  "STABBR": "FL",
                  "REGION": 5,
                  "ADM_RATE": "nan",
                  "TUITIONFEE_IN": "21420.0",
                  "YEAR": "2018",
                  "_deepnote_index_column": 6804
                },
                {
                  "UNITID": 49146401,
                  "INSTNM": "ABC Adult School - Cabrillo Lane",
                  "STABBR": "CA",
                  "REGION": 8,
                  "ADM_RATE": "nan",
                  "TUITIONFEE_IN": "nan",
                  "YEAR": "2018",
                  "_deepnote_index_column": 6805
                }
              ]
            },
            "text/plain": "        UNITID                                    INSTNM STABBR  REGION  \\\n0       100636        Community College of the Air Force     AL     0.0   \n1       100654                  Alabama A & M University     AL     5.0   \n2       100663       University of Alabama at Birmingham     AL     5.0   \n3       100672    ALABAMA AVIATION AND TECHNICAL COLLEGE     AL     5.0   \n4       100690                        Amridge University     AL     5.0   \n...        ...                                       ...    ...     ...   \n6801  48511112         Georgia Military College - Dublin     GA     5.0   \n6802  48511113        Georgia Military College - Eastman     GA     5.0   \n6803  48616901  American College of Barbering - Florence     KY     5.0   \n6804  49005401      HCI College - Fort Lauderdale Campus     FL     5.0   \n6805  49146401          ABC Adult School - Cabrillo Lane     CA     8.0   \n\n      ADM_RATE  TUITIONFEE_IN  YEAR  \n0          NaN            NaN  1996  \n1          NaN            NaN  1996  \n2          NaN            NaN  1996  \n3          NaN            NaN  1996  \n4          NaN            NaN  1996  \n...        ...            ...   ...  \n6801       NaN         6120.0  2018  \n6802       NaN         6120.0  2018  \n6803       NaN            NaN  2018  \n6804       NaN        21420.0  2018  \n6805       NaN            NaN  2018  \n\n[125241 rows x 7 columns]",
            "text/html": "<div>\n<style scoped>\n    .dataframe tbody tr th:only-of-type {\n        vertical-align: middle;\n    }\n\n    .dataframe tbody tr th {\n        vertical-align: top;\n    }\n\n    .dataframe thead th {\n        text-align: right;\n    }\n</style>\n<table border=\"1\" class=\"dataframe\">\n  <thead>\n    <tr style=\"text-align: right;\">\n      <th></th>\n      <th>UNITID</th>\n      <th>INSTNM</th>\n      <th>STABBR</th>\n      <th>REGION</th>\n      <th>ADM_RATE</th>\n      <th>TUITIONFEE_IN</th>\n      <th>YEAR</th>\n    </tr>\n  </thead>\n  <tbody>\n    <tr>\n      <th>0</th>\n      <td>100636</td>\n      <td>Community College of the Air Force</td>\n      <td>AL</td>\n      <td>0.0</td>\n      <td>NaN</td>\n      <td>NaN</td>\n      <td>1996</td>\n    </tr>\n    <tr>\n      <th>1</th>\n      <td>100654</td>\n      <td>Alabama A &amp; M University</td>\n      <td>AL</td>\n      <td>5.0</td>\n      <td>NaN</td>\n      <td>NaN</td>\n      <td>1996</td>\n    </tr>\n    <tr>\n      <th>2</th>\n      <td>100663</td>\n      <td>University of Alabama at Birmingham</td>\n      <td>AL</td>\n      <td>5.0</td>\n      <td>NaN</td>\n      <td>NaN</td>\n      <td>1996</td>\n    </tr>\n    <tr>\n      <th>3</th>\n      <td>100672</td>\n      <td>ALABAMA AVIATION AND TECHNICAL COLLEGE</td>\n      <td>AL</td>\n      <td>5.0</td>\n      <td>NaN</td>\n      <td>NaN</td>\n      <td>1996</td>\n    </tr>\n    <tr>\n      <th>4</th>\n      <td>100690</td>\n      <td>Amridge University</td>\n      <td>AL</td>\n      <td>5.0</td>\n      <td>NaN</td>\n      <td>NaN</td>\n      <td>1996</td>\n    </tr>\n    <tr>\n      <th>...</th>\n      <td>...</td>\n      <td>...</td>\n      <td>...</td>\n      <td>...</td>\n      <td>...</td>\n      <td>...</td>\n      <td>...</td>\n    </tr>\n    <tr>\n      <th>6801</th>\n      <td>48511112</td>\n      <td>Georgia Military College - Dublin</td>\n      <td>GA</td>\n      <td>5.0</td>\n      <td>NaN</td>\n      <td>6120.0</td>\n      <td>2018</td>\n    </tr>\n    <tr>\n      <th>6802</th>\n      <td>48511113</td>\n      <td>Georgia Military College - Eastman</td>\n      <td>GA</td>\n      <td>5.0</td>\n      <td>NaN</td>\n      <td>6120.0</td>\n      <td>2018</td>\n    </tr>\n    <tr>\n      <th>6803</th>\n      <td>48616901</td>\n      <td>American College of Barbering - Florence</td>\n      <td>KY</td>\n      <td>5.0</td>\n      <td>NaN</td>\n      <td>NaN</td>\n      <td>2018</td>\n    </tr>\n    <tr>\n      <th>6804</th>\n      <td>49005401</td>\n      <td>HCI College - Fort Lauderdale Campus</td>\n      <td>FL</td>\n      <td>5.0</td>\n      <td>NaN</td>\n      <td>21420.0</td>\n      <td>2018</td>\n    </tr>\n    <tr>\n      <th>6805</th>\n      <td>49146401</td>\n      <td>ABC Adult School - Cabrillo Lane</td>\n      <td>CA</td>\n      <td>8.0</td>\n      <td>NaN</td>\n      <td>NaN</td>\n      <td>2018</td>\n    </tr>\n  </tbody>\n</table>\n<p>125241 rows × 7 columns</p>\n</div>"
          },
          "metadata": {}
        }
      ]
    },
    {
      "cell_type": "code",
      "metadata": {
        "tags": [],
        "cell_id": "00017-164e68dc-77b2-47e0-a65a-75609a983ebb",
        "deepnote_to_be_reexecuted": false,
        "source_hash": "137b8efb",
        "execution_millis": 51,
        "execution_start": 1618188903873,
        "deepnote_cell_type": "code"
      },
      "source": "df[['ADM_RATE', 'TUITIONFEE_IN']].describe() # overall statistics for each (other columns are omitted here because they dont contain numerical data)",
      "execution_count": null,
      "outputs": [
        {
          "output_type": "execute_result",
          "execution_count": 82,
          "data": {
            "application/vnd.deepnote.dataframe.v2+json": {
              "row_count": 8,
              "column_count": 2,
              "columns": [
                {
                  "name": "ADM_RATE",
                  "dtype": "float64",
                  "stats": {
                    "unique_count": 8,
                    "nan_count": 0,
                    "min": 0,
                    "max": 44912,
                    "histogram": [
                      {
                        "bin_start": 0,
                        "bin_end": 4491.2,
                        "count": 7
                      },
                      {
                        "bin_start": 4491.2,
                        "bin_end": 8982.4,
                        "count": 0
                      },
                      {
                        "bin_start": 8982.4,
                        "bin_end": 13473.599999999999,
                        "count": 0
                      },
                      {
                        "bin_start": 13473.599999999999,
                        "bin_end": 17964.8,
                        "count": 0
                      },
                      {
                        "bin_start": 17964.8,
                        "bin_end": 22456,
                        "count": 0
                      },
                      {
                        "bin_start": 22456,
                        "bin_end": 26947.199999999997,
                        "count": 0
                      },
                      {
                        "bin_start": 26947.199999999997,
                        "bin_end": 31438.399999999998,
                        "count": 0
                      },
                      {
                        "bin_start": 31438.399999999998,
                        "bin_end": 35929.6,
                        "count": 0
                      },
                      {
                        "bin_start": 35929.6,
                        "bin_end": 40420.799999999996,
                        "count": 0
                      },
                      {
                        "bin_start": 40420.799999999996,
                        "bin_end": 44912,
                        "count": 1
                      }
                    ]
                  }
                },
                {
                  "name": "TUITIONFEE_IN",
                  "dtype": "float64",
                  "stats": {
                    "unique_count": 8,
                    "nan_count": 0,
                    "min": 0,
                    "max": 79195,
                    "histogram": [
                      {
                        "bin_start": 0,
                        "bin_end": 7919.5,
                        "count": 2
                      },
                      {
                        "bin_start": 7919.5,
                        "bin_end": 15839,
                        "count": 3
                      },
                      {
                        "bin_start": 15839,
                        "bin_end": 23758.5,
                        "count": 1
                      },
                      {
                        "bin_start": 23758.5,
                        "bin_end": 31678,
                        "count": 0
                      },
                      {
                        "bin_start": 31678,
                        "bin_end": 39597.5,
                        "count": 0
                      },
                      {
                        "bin_start": 39597.5,
                        "bin_end": 47517,
                        "count": 0
                      },
                      {
                        "bin_start": 47517,
                        "bin_end": 55436.5,
                        "count": 0
                      },
                      {
                        "bin_start": 55436.5,
                        "bin_end": 63356,
                        "count": 0
                      },
                      {
                        "bin_start": 63356,
                        "bin_end": 71275.5,
                        "count": 0
                      },
                      {
                        "bin_start": 71275.5,
                        "bin_end": 79195,
                        "count": 2
                      }
                    ]
                  }
                },
                {
                  "name": "_deepnote_index_column",
                  "dtype": "object"
                }
              ],
              "rows_top": [
                {
                  "ADM_RATE": 44912,
                  "TUITIONFEE_IN": 79195,
                  "_deepnote_index_column": "count"
                },
                {
                  "ADM_RATE": 0.6929507659422872,
                  "TUITIONFEE_IN": 11665.636871014583,
                  "_deepnote_index_column": "mean"
                },
                {
                  "ADM_RATE": 0.21705825783994498,
                  "TUITIONFEE_IN": 9986.003541993252,
                  "_deepnote_index_column": "std"
                },
                {
                  "ADM_RATE": 0,
                  "TUITIONFEE_IN": 0,
                  "_deepnote_index_column": "min"
                },
                {
                  "ADM_RATE": 0.5550750000000001,
                  "TUITIONFEE_IN": 3776,
                  "_deepnote_index_column": "25%"
                },
                {
                  "ADM_RATE": 0.7175,
                  "TUITIONFEE_IN": 9285,
                  "_deepnote_index_column": "50%"
                },
                {
                  "ADM_RATE": 0.8571,
                  "TUITIONFEE_IN": 16148,
                  "_deepnote_index_column": "75%"
                },
                {
                  "ADM_RATE": 1,
                  "TUITIONFEE_IN": 74787,
                  "_deepnote_index_column": "max"
                }
              ],
              "rows_bottom": null
            },
            "text/plain": "           ADM_RATE  TUITIONFEE_IN\ncount  44912.000000   79195.000000\nmean       0.692951   11665.636871\nstd        0.217058    9986.003542\nmin        0.000000       0.000000\n25%        0.555075    3776.000000\n50%        0.717500    9285.000000\n75%        0.857100   16148.000000\nmax        1.000000   74787.000000",
            "text/html": "<div>\n<style scoped>\n    .dataframe tbody tr th:only-of-type {\n        vertical-align: middle;\n    }\n\n    .dataframe tbody tr th {\n        vertical-align: top;\n    }\n\n    .dataframe thead th {\n        text-align: right;\n    }\n</style>\n<table border=\"1\" class=\"dataframe\">\n  <thead>\n    <tr style=\"text-align: right;\">\n      <th></th>\n      <th>ADM_RATE</th>\n      <th>TUITIONFEE_IN</th>\n    </tr>\n  </thead>\n  <tbody>\n    <tr>\n      <th>count</th>\n      <td>44912.000000</td>\n      <td>79195.000000</td>\n    </tr>\n    <tr>\n      <th>mean</th>\n      <td>0.692951</td>\n      <td>11665.636871</td>\n    </tr>\n    <tr>\n      <th>std</th>\n      <td>0.217058</td>\n      <td>9986.003542</td>\n    </tr>\n    <tr>\n      <th>min</th>\n      <td>0.000000</td>\n      <td>0.000000</td>\n    </tr>\n    <tr>\n      <th>25%</th>\n      <td>0.555075</td>\n      <td>3776.000000</td>\n    </tr>\n    <tr>\n      <th>50%</th>\n      <td>0.717500</td>\n      <td>9285.000000</td>\n    </tr>\n    <tr>\n      <th>75%</th>\n      <td>0.857100</td>\n      <td>16148.000000</td>\n    </tr>\n    <tr>\n      <th>max</th>\n      <td>1.000000</td>\n      <td>74787.000000</td>\n    </tr>\n  </tbody>\n</table>\n</div>"
          },
          "metadata": {}
        }
      ]
    },
    {
      "cell_type": "markdown",
      "source": "## <7>\n\nThe dataframe contains many years of data of all U.S. colleges. let's just look at UMBC. Filter/query the dataframe to retrieve only rows that belong to UMBC\nsave the UMBC data to a new data frame. \n\nUse a new variable so that the old big data frame is still available for later use.\n",
      "metadata": {
        "id": "NQjKoDmU6zLd",
        "cell_id": "00008-d0184c85-81b0-4527-b69b-6651a3fb951e",
        "deepnote_to_be_reexecuted": false,
        "source_hash": "bbf7667a",
        "execution_start": 1618162045960,
        "execution_millis": 21,
        "deepnote_cell_type": "markdown"
      }
    },
    {
      "cell_type": "code",
      "metadata": {
        "tags": [],
        "cell_id": "00019-00493441-6b12-4f17-bad1-2289a118d613",
        "deepnote_to_be_reexecuted": false,
        "source_hash": "32f9017f",
        "execution_millis": 169,
        "execution_start": 1618833817454,
        "deepnote_cell_type": "code"
      },
      "source": "df.loc[df['INSTNM'].str.contains('Baltimore County', case=False)]",
      "outputs": [
        {
          "output_type": "execute_result",
          "execution_count": 23,
          "data": {
            "application/vnd.deepnote.dataframe.v2+json": {
              "row_count": 54,
              "column_count": 7,
              "columns": [
                {
                  "name": "UNITID",
                  "dtype": "int64",
                  "stats": {
                    "unique_count": 5,
                    "nan_count": 0,
                    "min": "162098",
                    "max": "434672",
                    "histogram": [
                      {
                        "bin_start": 162098,
                        "bin_end": 189355.4,
                        "count": 35
                      },
                      {
                        "bin_start": 189355.4,
                        "bin_end": 216612.8,
                        "count": 0
                      },
                      {
                        "bin_start": 216612.8,
                        "bin_end": 243870.2,
                        "count": 0
                      },
                      {
                        "bin_start": 243870.2,
                        "bin_end": 271127.6,
                        "count": 0
                      },
                      {
                        "bin_start": 271127.6,
                        "bin_end": 298385,
                        "count": 0
                      },
                      {
                        "bin_start": 298385,
                        "bin_end": 325642.4,
                        "count": 0
                      },
                      {
                        "bin_start": 325642.4,
                        "bin_end": 352899.80000000005,
                        "count": 0
                      },
                      {
                        "bin_start": 352899.80000000005,
                        "bin_end": 380157.2,
                        "count": 0
                      },
                      {
                        "bin_start": 380157.2,
                        "bin_end": 407414.6,
                        "count": 0
                      },
                      {
                        "bin_start": 407414.6,
                        "bin_end": 434672,
                        "count": 19
                      }
                    ]
                  }
                },
                {
                  "name": "INSTNM",
                  "dtype": "object",
                  "stats": {
                    "unique_count": 5,
                    "nan_count": 0,
                    "categories": [
                      {
                        "name": "University of Maryland-Baltimore County",
                        "count": 23
                      },
                      {
                        "name": "Community College of Baltimore County",
                        "count": 19
                      },
                      {
                        "name": "3 others",
                        "count": 12
                      }
                    ]
                  }
                },
                {
                  "name": "STABBR",
                  "dtype": "object",
                  "stats": {
                    "unique_count": 1,
                    "nan_count": 0,
                    "categories": [
                      {
                        "name": "MD",
                        "count": 54
                      }
                    ]
                  }
                },
                {
                  "name": "REGION",
                  "dtype": "float64",
                  "stats": {
                    "unique_count": 1,
                    "nan_count": 0,
                    "min": "2.0",
                    "max": "2.0",
                    "histogram": [
                      {
                        "bin_start": 1.5,
                        "bin_end": 1.6,
                        "count": 0
                      },
                      {
                        "bin_start": 1.6,
                        "bin_end": 1.7,
                        "count": 0
                      },
                      {
                        "bin_start": 1.7,
                        "bin_end": 1.8,
                        "count": 0
                      },
                      {
                        "bin_start": 1.8,
                        "bin_end": 1.9,
                        "count": 0
                      },
                      {
                        "bin_start": 1.9,
                        "bin_end": 2,
                        "count": 0
                      },
                      {
                        "bin_start": 2,
                        "bin_end": 2.1,
                        "count": 54
                      },
                      {
                        "bin_start": 2.1,
                        "bin_end": 2.2,
                        "count": 0
                      },
                      {
                        "bin_start": 2.2,
                        "bin_end": 2.3,
                        "count": 0
                      },
                      {
                        "bin_start": 2.3,
                        "bin_end": 2.4,
                        "count": 0
                      },
                      {
                        "bin_start": 2.4,
                        "bin_end": 2.5,
                        "count": 0
                      }
                    ]
                  }
                },
                {
                  "name": "ADM_RATE",
                  "dtype": "float64",
                  "stats": {
                    "unique_count": 18,
                    "nan_count": 36,
                    "min": "0.5683",
                    "max": "0.7174",
                    "histogram": [
                      {
                        "bin_start": 0.5683,
                        "bin_end": 0.58321,
                        "count": 3
                      },
                      {
                        "bin_start": 0.58321,
                        "bin_end": 0.59812,
                        "count": 2
                      },
                      {
                        "bin_start": 0.59812,
                        "bin_end": 0.6130300000000001,
                        "count": 3
                      },
                      {
                        "bin_start": 0.6130300000000001,
                        "bin_end": 0.62794,
                        "count": 0
                      },
                      {
                        "bin_start": 0.62794,
                        "bin_end": 0.64285,
                        "count": 2
                      },
                      {
                        "bin_start": 0.64285,
                        "bin_end": 0.65776,
                        "count": 1
                      },
                      {
                        "bin_start": 0.65776,
                        "bin_end": 0.67267,
                        "count": 1
                      },
                      {
                        "bin_start": 0.67267,
                        "bin_end": 0.6875800000000001,
                        "count": 0
                      },
                      {
                        "bin_start": 0.6875800000000001,
                        "bin_end": 0.7024900000000001,
                        "count": 3
                      },
                      {
                        "bin_start": 0.7024900000000001,
                        "bin_end": 0.7174,
                        "count": 3
                      }
                    ]
                  }
                },
                {
                  "name": "TUITIONFEE_IN",
                  "dtype": "float64",
                  "stats": {
                    "unique_count": 37,
                    "nan_count": 16,
                    "min": "2116.0",
                    "max": "11778.0",
                    "histogram": [
                      {
                        "bin_start": 2116,
                        "bin_end": 3082.2,
                        "count": 11
                      },
                      {
                        "bin_start": 3082.2,
                        "bin_end": 4048.4,
                        "count": 7
                      },
                      {
                        "bin_start": 4048.4,
                        "bin_end": 5014.6,
                        "count": 1
                      },
                      {
                        "bin_start": 5014.6,
                        "bin_end": 5980.8,
                        "count": 2
                      },
                      {
                        "bin_start": 5980.8,
                        "bin_end": 6947,
                        "count": 1
                      },
                      {
                        "bin_start": 6947,
                        "bin_end": 7913.200000000001,
                        "count": 1
                      },
                      {
                        "bin_start": 7913.200000000001,
                        "bin_end": 8879.400000000001,
                        "count": 6
                      },
                      {
                        "bin_start": 8879.400000000001,
                        "bin_end": 9845.6,
                        "count": 3
                      },
                      {
                        "bin_start": 9845.6,
                        "bin_end": 10811.800000000001,
                        "count": 2
                      },
                      {
                        "bin_start": 10811.800000000001,
                        "bin_end": 11778,
                        "count": 4
                      }
                    ]
                  }
                },
                {
                  "name": "YEAR",
                  "dtype": "object",
                  "stats": {
                    "unique_count": 23,
                    "nan_count": 0,
                    "categories": [
                      {
                        "name": "1996",
                        "count": 4
                      },
                      {
                        "name": "1997",
                        "count": 4
                      },
                      {
                        "name": "21 others",
                        "count": 46
                      }
                    ]
                  }
                },
                {
                  "name": "_deepnote_index_column",
                  "dtype": "int64"
                }
              ],
              "rows_top": [
                {
                  "UNITID": 162098,
                  "INSTNM": "COMMUNITY COLLEGE OF BALTIMORE COUNTY-CATONSVILLE",
                  "STABBR": "MD",
                  "REGION": 2,
                  "ADM_RATE": "nan",
                  "TUITIONFEE_IN": "nan",
                  "YEAR": "1996",
                  "_deepnote_index_column": 2116
                },
                {
                  "UNITID": 162399,
                  "INSTNM": "COMMUNITY COLLEGE OF BALTIMORE COUNTY-DUNDALK",
                  "STABBR": "MD",
                  "REGION": 2,
                  "ADM_RATE": "nan",
                  "TUITIONFEE_IN": "nan",
                  "YEAR": "1996",
                  "_deepnote_index_column": 2124
                },
                {
                  "UNITID": 162478,
                  "INSTNM": "COMMUNITY COLLEGE OF BALTIMORE COUNTY-ESSEX",
                  "STABBR": "MD",
                  "REGION": 2,
                  "ADM_RATE": "nan",
                  "TUITIONFEE_IN": "nan",
                  "YEAR": "1996",
                  "_deepnote_index_column": 2125
                },
                {
                  "UNITID": 163268,
                  "INSTNM": "University of Maryland-Baltimore County",
                  "STABBR": "MD",
                  "REGION": 2,
                  "ADM_RATE": "nan",
                  "TUITIONFEE_IN": "nan",
                  "YEAR": "1996",
                  "_deepnote_index_column": 2151
                },
                {
                  "UNITID": 162098,
                  "INSTNM": "COMMUNITY COLLEGE OF BALTIMORE COUNTY-CATONSVILLE",
                  "STABBR": "MD",
                  "REGION": 2,
                  "ADM_RATE": "nan",
                  "TUITIONFEE_IN": "nan",
                  "YEAR": "1997",
                  "_deepnote_index_column": 2017
                },
                {
                  "UNITID": 162399,
                  "INSTNM": "COMMUNITY COLLEGE OF BALTIMORE COUNTY-DUNDALK",
                  "STABBR": "MD",
                  "REGION": 2,
                  "ADM_RATE": "nan",
                  "TUITIONFEE_IN": "nan",
                  "YEAR": "1997",
                  "_deepnote_index_column": 2025
                },
                {
                  "UNITID": 162478,
                  "INSTNM": "COMMUNITY COLLEGE OF BALTIMORE COUNTY-ESSEX",
                  "STABBR": "MD",
                  "REGION": 2,
                  "ADM_RATE": "nan",
                  "TUITIONFEE_IN": "nan",
                  "YEAR": "1997",
                  "_deepnote_index_column": 2026
                },
                {
                  "UNITID": 163268,
                  "INSTNM": "University of Maryland-Baltimore County",
                  "STABBR": "MD",
                  "REGION": 2,
                  "ADM_RATE": "nan",
                  "TUITIONFEE_IN": "nan",
                  "YEAR": "1997",
                  "_deepnote_index_column": 2049
                },
                {
                  "UNITID": 162098,
                  "INSTNM": "COMMUNITY COLLEGE OF BALTIMORE COUNTY-CATONSVILLE",
                  "STABBR": "MD",
                  "REGION": 2,
                  "ADM_RATE": "nan",
                  "TUITIONFEE_IN": "nan",
                  "YEAR": "1998",
                  "_deepnote_index_column": 1951
                },
                {
                  "UNITID": 162399,
                  "INSTNM": "COMMUNITY COLLEGE OF BALTIMORE COUNTY-DUNDALK",
                  "STABBR": "MD",
                  "REGION": 2,
                  "ADM_RATE": "nan",
                  "TUITIONFEE_IN": "nan",
                  "YEAR": "1998",
                  "_deepnote_index_column": 1959
                },
                {
                  "UNITID": 162478,
                  "INSTNM": "COMMUNITY COLLEGE OF BALTIMORE COUNTY-ESSEX",
                  "STABBR": "MD",
                  "REGION": 2,
                  "ADM_RATE": "nan",
                  "TUITIONFEE_IN": "nan",
                  "YEAR": "1998",
                  "_deepnote_index_column": 1960
                },
                {
                  "UNITID": 163268,
                  "INSTNM": "University of Maryland-Baltimore County",
                  "STABBR": "MD",
                  "REGION": 2,
                  "ADM_RATE": "nan",
                  "TUITIONFEE_IN": "nan",
                  "YEAR": "1998",
                  "_deepnote_index_column": 1982
                },
                {
                  "UNITID": 162098,
                  "INSTNM": "COMMUNITY COLLEGE OF BALTIMORE COUNTY-CATONSVILLE",
                  "STABBR": "MD",
                  "REGION": 2,
                  "ADM_RATE": "nan",
                  "TUITIONFEE_IN": "nan",
                  "YEAR": "1999",
                  "_deepnote_index_column": 1924
                },
                {
                  "UNITID": 162399,
                  "INSTNM": "COMMUNITY COLLEGE OF BALTIMORE COUNTY-DUNDALK",
                  "STABBR": "MD",
                  "REGION": 2,
                  "ADM_RATE": "nan",
                  "TUITIONFEE_IN": "nan",
                  "YEAR": "1999",
                  "_deepnote_index_column": 1932
                },
                {
                  "UNITID": 162478,
                  "INSTNM": "COMMUNITY COLLEGE OF BALTIMORE COUNTY-ESSEX",
                  "STABBR": "MD",
                  "REGION": 2,
                  "ADM_RATE": "nan",
                  "TUITIONFEE_IN": "nan",
                  "YEAR": "1999",
                  "_deepnote_index_column": 1933
                },
                {
                  "UNITID": 163268,
                  "INSTNM": "University of Maryland-Baltimore County",
                  "STABBR": "MD",
                  "REGION": 2,
                  "ADM_RATE": "nan",
                  "TUITIONFEE_IN": "nan",
                  "YEAR": "1999",
                  "_deepnote_index_column": 1955
                },
                {
                  "UNITID": 163268,
                  "INSTNM": "University of Maryland-Baltimore County",
                  "STABBR": "MD",
                  "REGION": 2,
                  "ADM_RATE": "nan",
                  "TUITIONFEE_IN": "5490.0",
                  "YEAR": "2000",
                  "_deepnote_index_column": 1926
                },
                {
                  "UNITID": 434672,
                  "INSTNM": "Community College of Baltimore County",
                  "STABBR": "MD",
                  "REGION": 2,
                  "ADM_RATE": "nan",
                  "TUITIONFEE_IN": "2116.0",
                  "YEAR": "2000",
                  "_deepnote_index_column": 6474
                },
                {
                  "UNITID": 163268,
                  "INSTNM": "University of Maryland-Baltimore County",
                  "STABBR": "MD",
                  "REGION": 2,
                  "ADM_RATE": "0.6551",
                  "TUITIONFEE_IN": "5910.0",
                  "YEAR": "2001",
                  "_deepnote_index_column": 1915
                },
                {
                  "UNITID": 434672,
                  "INSTNM": "Community College of Baltimore County",
                  "STABBR": "MD",
                  "REGION": 2,
                  "ADM_RATE": "nan",
                  "TUITIONFEE_IN": "2356.0",
                  "YEAR": "2001",
                  "_deepnote_index_column": 6410
                },
                {
                  "UNITID": 163268,
                  "INSTNM": "University of Maryland-Baltimore County",
                  "STABBR": "MD",
                  "REGION": 2,
                  "ADM_RATE": "0.6327",
                  "TUITIONFEE_IN": "6362.0",
                  "YEAR": "2002",
                  "_deepnote_index_column": 1893
                },
                {
                  "UNITID": 434672,
                  "INSTNM": "Community College of Baltimore County",
                  "STABBR": "MD",
                  "REGION": 2,
                  "ADM_RATE": "nan",
                  "TUITIONFEE_IN": "2446.0",
                  "YEAR": "2002",
                  "_deepnote_index_column": 6247
                },
                {
                  "UNITID": 163268,
                  "INSTNM": "University of Maryland-Baltimore County",
                  "STABBR": "MD",
                  "REGION": 2,
                  "ADM_RATE": "0.5757",
                  "TUITIONFEE_IN": "7388.0",
                  "YEAR": "2003",
                  "_deepnote_index_column": 1873
                },
                {
                  "UNITID": 434672,
                  "INSTNM": "Community College of Baltimore County",
                  "STABBR": "MD",
                  "REGION": 2,
                  "ADM_RATE": "nan",
                  "TUITIONFEE_IN": "2626.0",
                  "YEAR": "2003",
                  "_deepnote_index_column": 6128
                },
                {
                  "UNITID": 163268,
                  "INSTNM": "University of Maryland-Baltimore County",
                  "STABBR": "MD",
                  "REGION": 2,
                  "ADM_RATE": "0.7014",
                  "TUITIONFEE_IN": "8020.0",
                  "YEAR": "2004",
                  "_deepnote_index_column": 1830
                },
                {
                  "UNITID": 434672,
                  "INSTNM": "Community College of Baltimore County",
                  "STABBR": "MD",
                  "REGION": 2,
                  "ADM_RATE": "nan",
                  "TUITIONFEE_IN": "2926.0",
                  "YEAR": "2004",
                  "_deepnote_index_column": 5970
                },
                {
                  "UNITID": 163268,
                  "INSTNM": "University of Maryland-Baltimore County",
                  "STABBR": "MD",
                  "REGION": 2,
                  "ADM_RATE": "0.7143",
                  "TUITIONFEE_IN": "8520.0",
                  "YEAR": "2005",
                  "_deepnote_index_column": 1819
                },
                {
                  "UNITID": 434672,
                  "INSTNM": "Community College of Baltimore County",
                  "STABBR": "MD",
                  "REGION": 2,
                  "ADM_RATE": "nan",
                  "TUITIONFEE_IN": "2354.0",
                  "YEAR": "2005",
                  "_deepnote_index_column": 5921
                },
                {
                  "UNITID": 163268,
                  "INSTNM": "University of Maryland-Baltimore County",
                  "STABBR": "MD",
                  "REGION": 2,
                  "ADM_RATE": "0.7153",
                  "TUITIONFEE_IN": "8622.0",
                  "YEAR": "2006",
                  "_deepnote_index_column": 1799
                },
                {
                  "UNITID": 434672,
                  "INSTNM": "Community College of Baltimore County",
                  "STABBR": "MD",
                  "REGION": 2,
                  "ADM_RATE": "nan",
                  "TUITIONFEE_IN": "2394.0",
                  "YEAR": "2006",
                  "_deepnote_index_column": 5865
                },
                {
                  "UNITID": 163268,
                  "INSTNM": "University of Maryland-Baltimore County",
                  "STABBR": "MD",
                  "REGION": 2,
                  "ADM_RATE": "0.6895",
                  "TUITIONFEE_IN": "8708.0",
                  "YEAR": "2007",
                  "_deepnote_index_column": 1779
                },
                {
                  "UNITID": 434672,
                  "INSTNM": "Community College of Baltimore County",
                  "STABBR": "MD",
                  "REGION": 2,
                  "ADM_RATE": "nan",
                  "TUITIONFEE_IN": "2663.0",
                  "YEAR": "2007",
                  "_deepnote_index_column": 5772
                },
                {
                  "UNITID": 163268,
                  "INSTNM": "University of Maryland-Baltimore County",
                  "STABBR": "MD",
                  "REGION": 2,
                  "ADM_RATE": "0.7174",
                  "TUITIONFEE_IN": "8780.0",
                  "YEAR": "2008",
                  "_deepnote_index_column": 1767
                },
                {
                  "UNITID": 434672,
                  "INSTNM": "Community College of Baltimore County",
                  "STABBR": "MD",
                  "REGION": 2,
                  "ADM_RATE": "nan",
                  "TUITIONFEE_IN": "2686.0",
                  "YEAR": "2008",
                  "_deepnote_index_column": 5704
                },
                {
                  "UNITID": 163268,
                  "INSTNM": "University of Maryland-Baltimore County",
                  "STABBR": "MD",
                  "REGION": 2,
                  "ADM_RATE": "0.689",
                  "TUITIONFEE_IN": "8872.0",
                  "YEAR": "2009",
                  "_deepnote_index_column": 1745
                },
                {
                  "UNITID": 434672,
                  "INSTNM": "Community College of Baltimore County",
                  "STABBR": "MD",
                  "REGION": 2,
                  "ADM_RATE": "nan",
                  "TUITIONFEE_IN": "2736.0",
                  "YEAR": "2009",
                  "_deepnote_index_column": 5645
                },
                {
                  "UNITID": 163268,
                  "INSTNM": "University of Maryland-Baltimore County",
                  "STABBR": "MD",
                  "REGION": 2,
                  "ADM_RATE": "0.6589",
                  "TUITIONFEE_IN": "9171.0",
                  "YEAR": "2010",
                  "_deepnote_index_column": 1710
                },
                {
                  "UNITID": 434672,
                  "INSTNM": "Community College of Baltimore County",
                  "STABBR": "MD",
                  "REGION": 2,
                  "ADM_RATE": "nan",
                  "TUITIONFEE_IN": "2996.0",
                  "YEAR": "2010",
                  "_deepnote_index_column": 5591
                },
                {
                  "UNITID": 163268,
                  "INSTNM": "University of Maryland-Baltimore County",
                  "STABBR": "MD",
                  "REGION": 2,
                  "ADM_RATE": "0.6081",
                  "TUITIONFEE_IN": "9467.0",
                  "YEAR": "2011",
                  "_deepnote_index_column": 1694
                },
                {
                  "UNITID": 434672,
                  "INSTNM": "Community College of Baltimore County",
                  "STABBR": "MD",
                  "REGION": 2,
                  "ADM_RATE": "nan",
                  "TUITIONFEE_IN": "3292.0",
                  "YEAR": "2011",
                  "_deepnote_index_column": 5550
                },
                {
                  "UNITID": 163268,
                  "INSTNM": "University of Maryland-Baltimore County",
                  "STABBR": "MD",
                  "REGION": 2,
                  "ADM_RATE": "0.6035",
                  "TUITIONFEE_IN": "9764.0",
                  "YEAR": "2012",
                  "_deepnote_index_column": 1660
                },
                {
                  "UNITID": 434672,
                  "INSTNM": "Community College of Baltimore County",
                  "STABBR": "MD",
                  "REGION": 2,
                  "ADM_RATE": "nan",
                  "TUITIONFEE_IN": "3422.0",
                  "YEAR": "2012",
                  "_deepnote_index_column": 5466
                },
                {
                  "UNITID": 163268,
                  "INSTNM": "University of Maryland-Baltimore County",
                  "STABBR": "MD",
                  "REGION": 2,
                  "ADM_RATE": "0.6315",
                  "TUITIONFEE_IN": "10068.0",
                  "YEAR": "2013",
                  "_deepnote_index_column": 1629
                },
                {
                  "UNITID": 434672,
                  "INSTNM": "Community College of Baltimore County",
                  "STABBR": "MD",
                  "REGION": 2,
                  "ADM_RATE": "nan",
                  "TUITIONFEE_IN": "3559.0",
                  "YEAR": "2013",
                  "_deepnote_index_column": 5373
                },
                {
                  "UNITID": 163268,
                  "INSTNM": "University of Maryland-Baltimore County",
                  "STABBR": "MD",
                  "REGION": 2,
                  "ADM_RATE": "0.5961",
                  "TUITIONFEE_IN": "10384.0",
                  "YEAR": "2014",
                  "_deepnote_index_column": 1610
                },
                {
                  "UNITID": 434672,
                  "INSTNM": "Community College of Baltimore County",
                  "STABBR": "MD",
                  "REGION": 2,
                  "ADM_RATE": "nan",
                  "TUITIONFEE_IN": "3712.0",
                  "YEAR": "2014",
                  "_deepnote_index_column": 5263
                },
                {
                  "UNITID": 163268,
                  "INSTNM": "University of Maryland-Baltimore County",
                  "STABBR": "MD",
                  "REGION": 2,
                  "ADM_RATE": "0.5942",
                  "TUITIONFEE_IN": "11006.0",
                  "YEAR": "2015",
                  "_deepnote_index_column": 1555
                },
                {
                  "UNITID": 434672,
                  "INSTNM": "Community College of Baltimore County",
                  "STABBR": "MD",
                  "REGION": 2,
                  "ADM_RATE": "nan",
                  "TUITIONFEE_IN": "3712.0",
                  "YEAR": "2015",
                  "_deepnote_index_column": 5105
                },
                {
                  "UNITID": 163268,
                  "INSTNM": "University of Maryland-Baltimore County",
                  "STABBR": "MD",
                  "REGION": 2,
                  "ADM_RATE": "0.5683",
                  "TUITIONFEE_IN": "11264.0",
                  "YEAR": "2016",
                  "_deepnote_index_column": 1510
                },
                {
                  "UNITID": 434672,
                  "INSTNM": "Community College of Baltimore County",
                  "STABBR": "MD",
                  "REGION": 2,
                  "ADM_RATE": "nan",
                  "TUITIONFEE_IN": "3868.0",
                  "YEAR": "2016",
                  "_deepnote_index_column": 4877
                },
                {
                  "UNITID": 163268,
                  "INSTNM": "University of Maryland-Baltimore County",
                  "STABBR": "MD",
                  "REGION": 2,
                  "ADM_RATE": "0.6021",
                  "TUITIONFEE_IN": "11518.0",
                  "YEAR": "2017",
                  "_deepnote_index_column": 1478
                },
                {
                  "UNITID": 434672,
                  "INSTNM": "Community College of Baltimore County",
                  "STABBR": "MD",
                  "REGION": 2,
                  "ADM_RATE": "nan",
                  "TUITIONFEE_IN": "4022.0",
                  "YEAR": "2017",
                  "_deepnote_index_column": 4762
                },
                {
                  "UNITID": 163268,
                  "INSTNM": "University of Maryland-Baltimore County",
                  "STABBR": "MD",
                  "REGION": 2,
                  "ADM_RATE": "0.5794",
                  "TUITIONFEE_IN": "11778.0",
                  "YEAR": "2018",
                  "_deepnote_index_column": 1415
                },
                {
                  "UNITID": 434672,
                  "INSTNM": "Community College of Baltimore County",
                  "STABBR": "MD",
                  "REGION": 2,
                  "ADM_RATE": "nan",
                  "TUITIONFEE_IN": "4276.0",
                  "YEAR": "2018",
                  "_deepnote_index_column": 4553
                }
              ],
              "rows_bottom": null
            },
            "text/plain": "      UNITID                                             INSTNM STABBR  \\\n2116  162098  COMMUNITY COLLEGE OF BALTIMORE COUNTY-CATONSVILLE     MD   \n2124  162399      COMMUNITY COLLEGE OF BALTIMORE COUNTY-DUNDALK     MD   \n2125  162478        COMMUNITY COLLEGE OF BALTIMORE COUNTY-ESSEX     MD   \n2151  163268            University of Maryland-Baltimore County     MD   \n2017  162098  COMMUNITY COLLEGE OF BALTIMORE COUNTY-CATONSVILLE     MD   \n2025  162399      COMMUNITY COLLEGE OF BALTIMORE COUNTY-DUNDALK     MD   \n2026  162478        COMMUNITY COLLEGE OF BALTIMORE COUNTY-ESSEX     MD   \n2049  163268            University of Maryland-Baltimore County     MD   \n1951  162098  COMMUNITY COLLEGE OF BALTIMORE COUNTY-CATONSVILLE     MD   \n1959  162399      COMMUNITY COLLEGE OF BALTIMORE COUNTY-DUNDALK     MD   \n1960  162478        COMMUNITY COLLEGE OF BALTIMORE COUNTY-ESSEX     MD   \n1982  163268            University of Maryland-Baltimore County     MD   \n1924  162098  COMMUNITY COLLEGE OF BALTIMORE COUNTY-CATONSVILLE     MD   \n1932  162399      COMMUNITY COLLEGE OF BALTIMORE COUNTY-DUNDALK     MD   \n1933  162478        COMMUNITY COLLEGE OF BALTIMORE COUNTY-ESSEX     MD   \n1955  163268            University of Maryland-Baltimore County     MD   \n1926  163268            University of Maryland-Baltimore County     MD   \n6474  434672              Community College of Baltimore County     MD   \n1915  163268            University of Maryland-Baltimore County     MD   \n6410  434672              Community College of Baltimore County     MD   \n1893  163268            University of Maryland-Baltimore County     MD   \n6247  434672              Community College of Baltimore County     MD   \n1873  163268            University of Maryland-Baltimore County     MD   \n6128  434672              Community College of Baltimore County     MD   \n1830  163268            University of Maryland-Baltimore County     MD   \n5970  434672              Community College of Baltimore County     MD   \n1819  163268            University of Maryland-Baltimore County     MD   \n5921  434672              Community College of Baltimore County     MD   \n1799  163268            University of Maryland-Baltimore County     MD   \n5865  434672              Community College of Baltimore County     MD   \n1779  163268            University of Maryland-Baltimore County     MD   \n5772  434672              Community College of Baltimore County     MD   \n1767  163268            University of Maryland-Baltimore County     MD   \n5704  434672              Community College of Baltimore County     MD   \n1745  163268            University of Maryland-Baltimore County     MD   \n5645  434672              Community College of Baltimore County     MD   \n1710  163268            University of Maryland-Baltimore County     MD   \n5591  434672              Community College of Baltimore County     MD   \n1694  163268            University of Maryland-Baltimore County     MD   \n5550  434672              Community College of Baltimore County     MD   \n1660  163268            University of Maryland-Baltimore County     MD   \n5466  434672              Community College of Baltimore County     MD   \n1629  163268            University of Maryland-Baltimore County     MD   \n5373  434672              Community College of Baltimore County     MD   \n1610  163268            University of Maryland-Baltimore County     MD   \n5263  434672              Community College of Baltimore County     MD   \n1555  163268            University of Maryland-Baltimore County     MD   \n5105  434672              Community College of Baltimore County     MD   \n1510  163268            University of Maryland-Baltimore County     MD   \n4877  434672              Community College of Baltimore County     MD   \n1478  163268            University of Maryland-Baltimore County     MD   \n4762  434672              Community College of Baltimore County     MD   \n1415  163268            University of Maryland-Baltimore County     MD   \n4553  434672              Community College of Baltimore County     MD   \n\n      REGION  ADM_RATE  TUITIONFEE_IN  YEAR  \n2116     2.0       NaN            NaN  1996  \n2124     2.0       NaN            NaN  1996  \n2125     2.0       NaN            NaN  1996  \n2151     2.0       NaN            NaN  1996  \n2017     2.0       NaN            NaN  1997  \n2025     2.0       NaN            NaN  1997  \n2026     2.0       NaN            NaN  1997  \n2049     2.0       NaN            NaN  1997  \n1951     2.0       NaN            NaN  1998  \n1959     2.0       NaN            NaN  1998  \n1960     2.0       NaN            NaN  1998  \n1982     2.0       NaN            NaN  1998  \n1924     2.0       NaN            NaN  1999  \n1932     2.0       NaN            NaN  1999  \n1933     2.0       NaN            NaN  1999  \n1955     2.0       NaN            NaN  1999  \n1926     2.0       NaN         5490.0  2000  \n6474     2.0       NaN         2116.0  2000  \n1915     2.0    0.6551         5910.0  2001  \n6410     2.0       NaN         2356.0  2001  \n1893     2.0    0.6327         6362.0  2002  \n6247     2.0       NaN         2446.0  2002  \n1873     2.0    0.5757         7388.0  2003  \n6128     2.0       NaN         2626.0  2003  \n1830     2.0    0.7014         8020.0  2004  \n5970     2.0       NaN         2926.0  2004  \n1819     2.0    0.7143         8520.0  2005  \n5921     2.0       NaN         2354.0  2005  \n1799     2.0    0.7153         8622.0  2006  \n5865     2.0       NaN         2394.0  2006  \n1779     2.0    0.6895         8708.0  2007  \n5772     2.0       NaN         2663.0  2007  \n1767     2.0    0.7174         8780.0  2008  \n5704     2.0       NaN         2686.0  2008  \n1745     2.0    0.6890         8872.0  2009  \n5645     2.0       NaN         2736.0  2009  \n1710     2.0    0.6589         9171.0  2010  \n5591     2.0       NaN         2996.0  2010  \n1694     2.0    0.6081         9467.0  2011  \n5550     2.0       NaN         3292.0  2011  \n1660     2.0    0.6035         9764.0  2012  \n5466     2.0       NaN         3422.0  2012  \n1629     2.0    0.6315        10068.0  2013  \n5373     2.0       NaN         3559.0  2013  \n1610     2.0    0.5961        10384.0  2014  \n5263     2.0       NaN         3712.0  2014  \n1555     2.0    0.5942        11006.0  2015  \n5105     2.0       NaN         3712.0  2015  \n1510     2.0    0.5683        11264.0  2016  \n4877     2.0       NaN         3868.0  2016  \n1478     2.0    0.6021        11518.0  2017  \n4762     2.0       NaN         4022.0  2017  \n1415     2.0    0.5794        11778.0  2018  \n4553     2.0       NaN         4276.0  2018  ",
            "text/html": "<div>\n<style scoped>\n    .dataframe tbody tr th:only-of-type {\n        vertical-align: middle;\n    }\n\n    .dataframe tbody tr th {\n        vertical-align: top;\n    }\n\n    .dataframe thead th {\n        text-align: right;\n    }\n</style>\n<table border=\"1\" class=\"dataframe\">\n  <thead>\n    <tr style=\"text-align: right;\">\n      <th></th>\n      <th>UNITID</th>\n      <th>INSTNM</th>\n      <th>STABBR</th>\n      <th>REGION</th>\n      <th>ADM_RATE</th>\n      <th>TUITIONFEE_IN</th>\n      <th>YEAR</th>\n    </tr>\n  </thead>\n  <tbody>\n    <tr>\n      <th>2116</th>\n      <td>162098</td>\n      <td>COMMUNITY COLLEGE OF BALTIMORE COUNTY-CATONSVILLE</td>\n      <td>MD</td>\n      <td>2.0</td>\n      <td>NaN</td>\n      <td>NaN</td>\n      <td>1996</td>\n    </tr>\n    <tr>\n      <th>2124</th>\n      <td>162399</td>\n      <td>COMMUNITY COLLEGE OF BALTIMORE COUNTY-DUNDALK</td>\n      <td>MD</td>\n      <td>2.0</td>\n      <td>NaN</td>\n      <td>NaN</td>\n      <td>1996</td>\n    </tr>\n    <tr>\n      <th>2125</th>\n      <td>162478</td>\n      <td>COMMUNITY COLLEGE OF BALTIMORE COUNTY-ESSEX</td>\n      <td>MD</td>\n      <td>2.0</td>\n      <td>NaN</td>\n      <td>NaN</td>\n      <td>1996</td>\n    </tr>\n    <tr>\n      <th>2151</th>\n      <td>163268</td>\n      <td>University of Maryland-Baltimore County</td>\n      <td>MD</td>\n      <td>2.0</td>\n      <td>NaN</td>\n      <td>NaN</td>\n      <td>1996</td>\n    </tr>\n    <tr>\n      <th>2017</th>\n      <td>162098</td>\n      <td>COMMUNITY COLLEGE OF BALTIMORE COUNTY-CATONSVILLE</td>\n      <td>MD</td>\n      <td>2.0</td>\n      <td>NaN</td>\n      <td>NaN</td>\n      <td>1997</td>\n    </tr>\n    <tr>\n      <th>2025</th>\n      <td>162399</td>\n      <td>COMMUNITY COLLEGE OF BALTIMORE COUNTY-DUNDALK</td>\n      <td>MD</td>\n      <td>2.0</td>\n      <td>NaN</td>\n      <td>NaN</td>\n      <td>1997</td>\n    </tr>\n    <tr>\n      <th>2026</th>\n      <td>162478</td>\n      <td>COMMUNITY COLLEGE OF BALTIMORE COUNTY-ESSEX</td>\n      <td>MD</td>\n      <td>2.0</td>\n      <td>NaN</td>\n      <td>NaN</td>\n      <td>1997</td>\n    </tr>\n    <tr>\n      <th>2049</th>\n      <td>163268</td>\n      <td>University of Maryland-Baltimore County</td>\n      <td>MD</td>\n      <td>2.0</td>\n      <td>NaN</td>\n      <td>NaN</td>\n      <td>1997</td>\n    </tr>\n    <tr>\n      <th>1951</th>\n      <td>162098</td>\n      <td>COMMUNITY COLLEGE OF BALTIMORE COUNTY-CATONSVILLE</td>\n      <td>MD</td>\n      <td>2.0</td>\n      <td>NaN</td>\n      <td>NaN</td>\n      <td>1998</td>\n    </tr>\n    <tr>\n      <th>1959</th>\n      <td>162399</td>\n      <td>COMMUNITY COLLEGE OF BALTIMORE COUNTY-DUNDALK</td>\n      <td>MD</td>\n      <td>2.0</td>\n      <td>NaN</td>\n      <td>NaN</td>\n      <td>1998</td>\n    </tr>\n    <tr>\n      <th>1960</th>\n      <td>162478</td>\n      <td>COMMUNITY COLLEGE OF BALTIMORE COUNTY-ESSEX</td>\n      <td>MD</td>\n      <td>2.0</td>\n      <td>NaN</td>\n      <td>NaN</td>\n      <td>1998</td>\n    </tr>\n    <tr>\n      <th>1982</th>\n      <td>163268</td>\n      <td>University of Maryland-Baltimore County</td>\n      <td>MD</td>\n      <td>2.0</td>\n      <td>NaN</td>\n      <td>NaN</td>\n      <td>1998</td>\n    </tr>\n    <tr>\n      <th>1924</th>\n      <td>162098</td>\n      <td>COMMUNITY COLLEGE OF BALTIMORE COUNTY-CATONSVILLE</td>\n      <td>MD</td>\n      <td>2.0</td>\n      <td>NaN</td>\n      <td>NaN</td>\n      <td>1999</td>\n    </tr>\n    <tr>\n      <th>1932</th>\n      <td>162399</td>\n      <td>COMMUNITY COLLEGE OF BALTIMORE COUNTY-DUNDALK</td>\n      <td>MD</td>\n      <td>2.0</td>\n      <td>NaN</td>\n      <td>NaN</td>\n      <td>1999</td>\n    </tr>\n    <tr>\n      <th>1933</th>\n      <td>162478</td>\n      <td>COMMUNITY COLLEGE OF BALTIMORE COUNTY-ESSEX</td>\n      <td>MD</td>\n      <td>2.0</td>\n      <td>NaN</td>\n      <td>NaN</td>\n      <td>1999</td>\n    </tr>\n    <tr>\n      <th>1955</th>\n      <td>163268</td>\n      <td>University of Maryland-Baltimore County</td>\n      <td>MD</td>\n      <td>2.0</td>\n      <td>NaN</td>\n      <td>NaN</td>\n      <td>1999</td>\n    </tr>\n    <tr>\n      <th>1926</th>\n      <td>163268</td>\n      <td>University of Maryland-Baltimore County</td>\n      <td>MD</td>\n      <td>2.0</td>\n      <td>NaN</td>\n      <td>5490.0</td>\n      <td>2000</td>\n    </tr>\n    <tr>\n      <th>6474</th>\n      <td>434672</td>\n      <td>Community College of Baltimore County</td>\n      <td>MD</td>\n      <td>2.0</td>\n      <td>NaN</td>\n      <td>2116.0</td>\n      <td>2000</td>\n    </tr>\n    <tr>\n      <th>1915</th>\n      <td>163268</td>\n      <td>University of Maryland-Baltimore County</td>\n      <td>MD</td>\n      <td>2.0</td>\n      <td>0.6551</td>\n      <td>5910.0</td>\n      <td>2001</td>\n    </tr>\n    <tr>\n      <th>6410</th>\n      <td>434672</td>\n      <td>Community College of Baltimore County</td>\n      <td>MD</td>\n      <td>2.0</td>\n      <td>NaN</td>\n      <td>2356.0</td>\n      <td>2001</td>\n    </tr>\n    <tr>\n      <th>1893</th>\n      <td>163268</td>\n      <td>University of Maryland-Baltimore County</td>\n      <td>MD</td>\n      <td>2.0</td>\n      <td>0.6327</td>\n      <td>6362.0</td>\n      <td>2002</td>\n    </tr>\n    <tr>\n      <th>6247</th>\n      <td>434672</td>\n      <td>Community College of Baltimore County</td>\n      <td>MD</td>\n      <td>2.0</td>\n      <td>NaN</td>\n      <td>2446.0</td>\n      <td>2002</td>\n    </tr>\n    <tr>\n      <th>1873</th>\n      <td>163268</td>\n      <td>University of Maryland-Baltimore County</td>\n      <td>MD</td>\n      <td>2.0</td>\n      <td>0.5757</td>\n      <td>7388.0</td>\n      <td>2003</td>\n    </tr>\n    <tr>\n      <th>6128</th>\n      <td>434672</td>\n      <td>Community College of Baltimore County</td>\n      <td>MD</td>\n      <td>2.0</td>\n      <td>NaN</td>\n      <td>2626.0</td>\n      <td>2003</td>\n    </tr>\n    <tr>\n      <th>1830</th>\n      <td>163268</td>\n      <td>University of Maryland-Baltimore County</td>\n      <td>MD</td>\n      <td>2.0</td>\n      <td>0.7014</td>\n      <td>8020.0</td>\n      <td>2004</td>\n    </tr>\n    <tr>\n      <th>5970</th>\n      <td>434672</td>\n      <td>Community College of Baltimore County</td>\n      <td>MD</td>\n      <td>2.0</td>\n      <td>NaN</td>\n      <td>2926.0</td>\n      <td>2004</td>\n    </tr>\n    <tr>\n      <th>1819</th>\n      <td>163268</td>\n      <td>University of Maryland-Baltimore County</td>\n      <td>MD</td>\n      <td>2.0</td>\n      <td>0.7143</td>\n      <td>8520.0</td>\n      <td>2005</td>\n    </tr>\n    <tr>\n      <th>5921</th>\n      <td>434672</td>\n      <td>Community College of Baltimore County</td>\n      <td>MD</td>\n      <td>2.0</td>\n      <td>NaN</td>\n      <td>2354.0</td>\n      <td>2005</td>\n    </tr>\n    <tr>\n      <th>1799</th>\n      <td>163268</td>\n      <td>University of Maryland-Baltimore County</td>\n      <td>MD</td>\n      <td>2.0</td>\n      <td>0.7153</td>\n      <td>8622.0</td>\n      <td>2006</td>\n    </tr>\n    <tr>\n      <th>5865</th>\n      <td>434672</td>\n      <td>Community College of Baltimore County</td>\n      <td>MD</td>\n      <td>2.0</td>\n      <td>NaN</td>\n      <td>2394.0</td>\n      <td>2006</td>\n    </tr>\n    <tr>\n      <th>1779</th>\n      <td>163268</td>\n      <td>University of Maryland-Baltimore County</td>\n      <td>MD</td>\n      <td>2.0</td>\n      <td>0.6895</td>\n      <td>8708.0</td>\n      <td>2007</td>\n    </tr>\n    <tr>\n      <th>5772</th>\n      <td>434672</td>\n      <td>Community College of Baltimore County</td>\n      <td>MD</td>\n      <td>2.0</td>\n      <td>NaN</td>\n      <td>2663.0</td>\n      <td>2007</td>\n    </tr>\n    <tr>\n      <th>1767</th>\n      <td>163268</td>\n      <td>University of Maryland-Baltimore County</td>\n      <td>MD</td>\n      <td>2.0</td>\n      <td>0.7174</td>\n      <td>8780.0</td>\n      <td>2008</td>\n    </tr>\n    <tr>\n      <th>5704</th>\n      <td>434672</td>\n      <td>Community College of Baltimore County</td>\n      <td>MD</td>\n      <td>2.0</td>\n      <td>NaN</td>\n      <td>2686.0</td>\n      <td>2008</td>\n    </tr>\n    <tr>\n      <th>1745</th>\n      <td>163268</td>\n      <td>University of Maryland-Baltimore County</td>\n      <td>MD</td>\n      <td>2.0</td>\n      <td>0.6890</td>\n      <td>8872.0</td>\n      <td>2009</td>\n    </tr>\n    <tr>\n      <th>5645</th>\n      <td>434672</td>\n      <td>Community College of Baltimore County</td>\n      <td>MD</td>\n      <td>2.0</td>\n      <td>NaN</td>\n      <td>2736.0</td>\n      <td>2009</td>\n    </tr>\n    <tr>\n      <th>1710</th>\n      <td>163268</td>\n      <td>University of Maryland-Baltimore County</td>\n      <td>MD</td>\n      <td>2.0</td>\n      <td>0.6589</td>\n      <td>9171.0</td>\n      <td>2010</td>\n    </tr>\n    <tr>\n      <th>5591</th>\n      <td>434672</td>\n      <td>Community College of Baltimore County</td>\n      <td>MD</td>\n      <td>2.0</td>\n      <td>NaN</td>\n      <td>2996.0</td>\n      <td>2010</td>\n    </tr>\n    <tr>\n      <th>1694</th>\n      <td>163268</td>\n      <td>University of Maryland-Baltimore County</td>\n      <td>MD</td>\n      <td>2.0</td>\n      <td>0.6081</td>\n      <td>9467.0</td>\n      <td>2011</td>\n    </tr>\n    <tr>\n      <th>5550</th>\n      <td>434672</td>\n      <td>Community College of Baltimore County</td>\n      <td>MD</td>\n      <td>2.0</td>\n      <td>NaN</td>\n      <td>3292.0</td>\n      <td>2011</td>\n    </tr>\n    <tr>\n      <th>1660</th>\n      <td>163268</td>\n      <td>University of Maryland-Baltimore County</td>\n      <td>MD</td>\n      <td>2.0</td>\n      <td>0.6035</td>\n      <td>9764.0</td>\n      <td>2012</td>\n    </tr>\n    <tr>\n      <th>5466</th>\n      <td>434672</td>\n      <td>Community College of Baltimore County</td>\n      <td>MD</td>\n      <td>2.0</td>\n      <td>NaN</td>\n      <td>3422.0</td>\n      <td>2012</td>\n    </tr>\n    <tr>\n      <th>1629</th>\n      <td>163268</td>\n      <td>University of Maryland-Baltimore County</td>\n      <td>MD</td>\n      <td>2.0</td>\n      <td>0.6315</td>\n      <td>10068.0</td>\n      <td>2013</td>\n    </tr>\n    <tr>\n      <th>5373</th>\n      <td>434672</td>\n      <td>Community College of Baltimore County</td>\n      <td>MD</td>\n      <td>2.0</td>\n      <td>NaN</td>\n      <td>3559.0</td>\n      <td>2013</td>\n    </tr>\n    <tr>\n      <th>1610</th>\n      <td>163268</td>\n      <td>University of Maryland-Baltimore County</td>\n      <td>MD</td>\n      <td>2.0</td>\n      <td>0.5961</td>\n      <td>10384.0</td>\n      <td>2014</td>\n    </tr>\n    <tr>\n      <th>5263</th>\n      <td>434672</td>\n      <td>Community College of Baltimore County</td>\n      <td>MD</td>\n      <td>2.0</td>\n      <td>NaN</td>\n      <td>3712.0</td>\n      <td>2014</td>\n    </tr>\n    <tr>\n      <th>1555</th>\n      <td>163268</td>\n      <td>University of Maryland-Baltimore County</td>\n      <td>MD</td>\n      <td>2.0</td>\n      <td>0.5942</td>\n      <td>11006.0</td>\n      <td>2015</td>\n    </tr>\n    <tr>\n      <th>5105</th>\n      <td>434672</td>\n      <td>Community College of Baltimore County</td>\n      <td>MD</td>\n      <td>2.0</td>\n      <td>NaN</td>\n      <td>3712.0</td>\n      <td>2015</td>\n    </tr>\n    <tr>\n      <th>1510</th>\n      <td>163268</td>\n      <td>University of Maryland-Baltimore County</td>\n      <td>MD</td>\n      <td>2.0</td>\n      <td>0.5683</td>\n      <td>11264.0</td>\n      <td>2016</td>\n    </tr>\n    <tr>\n      <th>4877</th>\n      <td>434672</td>\n      <td>Community College of Baltimore County</td>\n      <td>MD</td>\n      <td>2.0</td>\n      <td>NaN</td>\n      <td>3868.0</td>\n      <td>2016</td>\n    </tr>\n    <tr>\n      <th>1478</th>\n      <td>163268</td>\n      <td>University of Maryland-Baltimore County</td>\n      <td>MD</td>\n      <td>2.0</td>\n      <td>0.6021</td>\n      <td>11518.0</td>\n      <td>2017</td>\n    </tr>\n    <tr>\n      <th>4762</th>\n      <td>434672</td>\n      <td>Community College of Baltimore County</td>\n      <td>MD</td>\n      <td>2.0</td>\n      <td>NaN</td>\n      <td>4022.0</td>\n      <td>2017</td>\n    </tr>\n    <tr>\n      <th>1415</th>\n      <td>163268</td>\n      <td>University of Maryland-Baltimore County</td>\n      <td>MD</td>\n      <td>2.0</td>\n      <td>0.5794</td>\n      <td>11778.0</td>\n      <td>2018</td>\n    </tr>\n    <tr>\n      <th>4553</th>\n      <td>434672</td>\n      <td>Community College of Baltimore County</td>\n      <td>MD</td>\n      <td>2.0</td>\n      <td>NaN</td>\n      <td>4276.0</td>\n      <td>2018</td>\n    </tr>\n  </tbody>\n</table>\n</div>"
          },
          "metadata": {}
        }
      ],
      "execution_count": null
    },
    {
      "cell_type": "code",
      "metadata": {
        "tags": [],
        "cell_id": "00020-30c83f41-9c0e-4073-9cf6-de293998af31",
        "deepnote_to_be_reexecuted": false,
        "source_hash": "b15b674b",
        "execution_millis": 71,
        "execution_start": 1618833830937,
        "deepnote_cell_type": "code"
      },
      "source": "df_umbc = df.query('INSTNM == \"University of Maryland-Baltimore County\"')\ndf_umbc",
      "outputs": [
        {
          "output_type": "execute_result",
          "execution_count": 25,
          "data": {
            "application/vnd.deepnote.dataframe.v2+json": {
              "row_count": 23,
              "column_count": 7,
              "columns": [
                {
                  "name": "UNITID",
                  "dtype": "int64",
                  "stats": {
                    "unique_count": 1,
                    "nan_count": 0,
                    "min": "163268",
                    "max": "163268",
                    "histogram": [
                      {
                        "bin_start": 163267.5,
                        "bin_end": 163267.6,
                        "count": 0
                      },
                      {
                        "bin_start": 163267.6,
                        "bin_end": 163267.7,
                        "count": 0
                      },
                      {
                        "bin_start": 163267.7,
                        "bin_end": 163267.8,
                        "count": 0
                      },
                      {
                        "bin_start": 163267.8,
                        "bin_end": 163267.9,
                        "count": 0
                      },
                      {
                        "bin_start": 163267.9,
                        "bin_end": 163268,
                        "count": 0
                      },
                      {
                        "bin_start": 163268,
                        "bin_end": 163268.1,
                        "count": 23
                      },
                      {
                        "bin_start": 163268.1,
                        "bin_end": 163268.2,
                        "count": 0
                      },
                      {
                        "bin_start": 163268.2,
                        "bin_end": 163268.3,
                        "count": 0
                      },
                      {
                        "bin_start": 163268.3,
                        "bin_end": 163268.4,
                        "count": 0
                      },
                      {
                        "bin_start": 163268.4,
                        "bin_end": 163268.5,
                        "count": 0
                      }
                    ]
                  }
                },
                {
                  "name": "INSTNM",
                  "dtype": "object",
                  "stats": {
                    "unique_count": 1,
                    "nan_count": 0,
                    "categories": [
                      {
                        "name": "University of Maryland-Baltimore County",
                        "count": 23
                      }
                    ]
                  }
                },
                {
                  "name": "STABBR",
                  "dtype": "object",
                  "stats": {
                    "unique_count": 1,
                    "nan_count": 0,
                    "categories": [
                      {
                        "name": "MD",
                        "count": 23
                      }
                    ]
                  }
                },
                {
                  "name": "REGION",
                  "dtype": "float64",
                  "stats": {
                    "unique_count": 1,
                    "nan_count": 0,
                    "min": "2.0",
                    "max": "2.0",
                    "histogram": [
                      {
                        "bin_start": 1.5,
                        "bin_end": 1.6,
                        "count": 0
                      },
                      {
                        "bin_start": 1.6,
                        "bin_end": 1.7,
                        "count": 0
                      },
                      {
                        "bin_start": 1.7,
                        "bin_end": 1.8,
                        "count": 0
                      },
                      {
                        "bin_start": 1.8,
                        "bin_end": 1.9,
                        "count": 0
                      },
                      {
                        "bin_start": 1.9,
                        "bin_end": 2,
                        "count": 0
                      },
                      {
                        "bin_start": 2,
                        "bin_end": 2.1,
                        "count": 23
                      },
                      {
                        "bin_start": 2.1,
                        "bin_end": 2.2,
                        "count": 0
                      },
                      {
                        "bin_start": 2.2,
                        "bin_end": 2.3,
                        "count": 0
                      },
                      {
                        "bin_start": 2.3,
                        "bin_end": 2.4,
                        "count": 0
                      },
                      {
                        "bin_start": 2.4,
                        "bin_end": 2.5,
                        "count": 0
                      }
                    ]
                  }
                },
                {
                  "name": "ADM_RATE",
                  "dtype": "float64",
                  "stats": {
                    "unique_count": 18,
                    "nan_count": 5,
                    "min": "0.5683",
                    "max": "0.7174",
                    "histogram": [
                      {
                        "bin_start": 0.5683,
                        "bin_end": 0.58321,
                        "count": 3
                      },
                      {
                        "bin_start": 0.58321,
                        "bin_end": 0.59812,
                        "count": 2
                      },
                      {
                        "bin_start": 0.59812,
                        "bin_end": 0.6130300000000001,
                        "count": 3
                      },
                      {
                        "bin_start": 0.6130300000000001,
                        "bin_end": 0.62794,
                        "count": 0
                      },
                      {
                        "bin_start": 0.62794,
                        "bin_end": 0.64285,
                        "count": 2
                      },
                      {
                        "bin_start": 0.64285,
                        "bin_end": 0.65776,
                        "count": 1
                      },
                      {
                        "bin_start": 0.65776,
                        "bin_end": 0.67267,
                        "count": 1
                      },
                      {
                        "bin_start": 0.67267,
                        "bin_end": 0.6875800000000001,
                        "count": 0
                      },
                      {
                        "bin_start": 0.6875800000000001,
                        "bin_end": 0.7024900000000001,
                        "count": 3
                      },
                      {
                        "bin_start": 0.7024900000000001,
                        "bin_end": 0.7174,
                        "count": 3
                      }
                    ]
                  }
                },
                {
                  "name": "TUITIONFEE_IN",
                  "dtype": "float64",
                  "stats": {
                    "unique_count": 19,
                    "nan_count": 4,
                    "min": "5490.0",
                    "max": "11778.0",
                    "histogram": [
                      {
                        "bin_start": 5490,
                        "bin_end": 6118.8,
                        "count": 2
                      },
                      {
                        "bin_start": 6118.8,
                        "bin_end": 6747.6,
                        "count": 1
                      },
                      {
                        "bin_start": 6747.6,
                        "bin_end": 7376.4,
                        "count": 0
                      },
                      {
                        "bin_start": 7376.4,
                        "bin_end": 8005.2,
                        "count": 1
                      },
                      {
                        "bin_start": 8005.2,
                        "bin_end": 8634,
                        "count": 3
                      },
                      {
                        "bin_start": 8634,
                        "bin_end": 9262.8,
                        "count": 4
                      },
                      {
                        "bin_start": 9262.8,
                        "bin_end": 9891.599999999999,
                        "count": 2
                      },
                      {
                        "bin_start": 9891.599999999999,
                        "bin_end": 10520.4,
                        "count": 2
                      },
                      {
                        "bin_start": 10520.4,
                        "bin_end": 11149.2,
                        "count": 1
                      },
                      {
                        "bin_start": 11149.2,
                        "bin_end": 11778,
                        "count": 3
                      }
                    ]
                  }
                },
                {
                  "name": "YEAR",
                  "dtype": "object",
                  "stats": {
                    "unique_count": 23,
                    "nan_count": 0,
                    "categories": [
                      {
                        "name": "1996",
                        "count": 1
                      },
                      {
                        "name": "1997",
                        "count": 1
                      },
                      {
                        "name": "21 others",
                        "count": 21
                      }
                    ]
                  }
                },
                {
                  "name": "_deepnote_index_column",
                  "dtype": "int64"
                }
              ],
              "rows_top": [
                {
                  "UNITID": 163268,
                  "INSTNM": "University of Maryland-Baltimore County",
                  "STABBR": "MD",
                  "REGION": 2,
                  "ADM_RATE": "nan",
                  "TUITIONFEE_IN": "nan",
                  "YEAR": "1996",
                  "_deepnote_index_column": 2151
                },
                {
                  "UNITID": 163268,
                  "INSTNM": "University of Maryland-Baltimore County",
                  "STABBR": "MD",
                  "REGION": 2,
                  "ADM_RATE": "nan",
                  "TUITIONFEE_IN": "nan",
                  "YEAR": "1997",
                  "_deepnote_index_column": 2049
                },
                {
                  "UNITID": 163268,
                  "INSTNM": "University of Maryland-Baltimore County",
                  "STABBR": "MD",
                  "REGION": 2,
                  "ADM_RATE": "nan",
                  "TUITIONFEE_IN": "nan",
                  "YEAR": "1998",
                  "_deepnote_index_column": 1982
                },
                {
                  "UNITID": 163268,
                  "INSTNM": "University of Maryland-Baltimore County",
                  "STABBR": "MD",
                  "REGION": 2,
                  "ADM_RATE": "nan",
                  "TUITIONFEE_IN": "nan",
                  "YEAR": "1999",
                  "_deepnote_index_column": 1955
                },
                {
                  "UNITID": 163268,
                  "INSTNM": "University of Maryland-Baltimore County",
                  "STABBR": "MD",
                  "REGION": 2,
                  "ADM_RATE": "nan",
                  "TUITIONFEE_IN": "5490.0",
                  "YEAR": "2000",
                  "_deepnote_index_column": 1926
                },
                {
                  "UNITID": 163268,
                  "INSTNM": "University of Maryland-Baltimore County",
                  "STABBR": "MD",
                  "REGION": 2,
                  "ADM_RATE": "0.6551",
                  "TUITIONFEE_IN": "5910.0",
                  "YEAR": "2001",
                  "_deepnote_index_column": 1915
                },
                {
                  "UNITID": 163268,
                  "INSTNM": "University of Maryland-Baltimore County",
                  "STABBR": "MD",
                  "REGION": 2,
                  "ADM_RATE": "0.6327",
                  "TUITIONFEE_IN": "6362.0",
                  "YEAR": "2002",
                  "_deepnote_index_column": 1893
                },
                {
                  "UNITID": 163268,
                  "INSTNM": "University of Maryland-Baltimore County",
                  "STABBR": "MD",
                  "REGION": 2,
                  "ADM_RATE": "0.5757",
                  "TUITIONFEE_IN": "7388.0",
                  "YEAR": "2003",
                  "_deepnote_index_column": 1873
                },
                {
                  "UNITID": 163268,
                  "INSTNM": "University of Maryland-Baltimore County",
                  "STABBR": "MD",
                  "REGION": 2,
                  "ADM_RATE": "0.7014",
                  "TUITIONFEE_IN": "8020.0",
                  "YEAR": "2004",
                  "_deepnote_index_column": 1830
                },
                {
                  "UNITID": 163268,
                  "INSTNM": "University of Maryland-Baltimore County",
                  "STABBR": "MD",
                  "REGION": 2,
                  "ADM_RATE": "0.7143",
                  "TUITIONFEE_IN": "8520.0",
                  "YEAR": "2005",
                  "_deepnote_index_column": 1819
                },
                {
                  "UNITID": 163268,
                  "INSTNM": "University of Maryland-Baltimore County",
                  "STABBR": "MD",
                  "REGION": 2,
                  "ADM_RATE": "0.7153",
                  "TUITIONFEE_IN": "8622.0",
                  "YEAR": "2006",
                  "_deepnote_index_column": 1799
                },
                {
                  "UNITID": 163268,
                  "INSTNM": "University of Maryland-Baltimore County",
                  "STABBR": "MD",
                  "REGION": 2,
                  "ADM_RATE": "0.6895",
                  "TUITIONFEE_IN": "8708.0",
                  "YEAR": "2007",
                  "_deepnote_index_column": 1779
                },
                {
                  "UNITID": 163268,
                  "INSTNM": "University of Maryland-Baltimore County",
                  "STABBR": "MD",
                  "REGION": 2,
                  "ADM_RATE": "0.7174",
                  "TUITIONFEE_IN": "8780.0",
                  "YEAR": "2008",
                  "_deepnote_index_column": 1767
                },
                {
                  "UNITID": 163268,
                  "INSTNM": "University of Maryland-Baltimore County",
                  "STABBR": "MD",
                  "REGION": 2,
                  "ADM_RATE": "0.689",
                  "TUITIONFEE_IN": "8872.0",
                  "YEAR": "2009",
                  "_deepnote_index_column": 1745
                },
                {
                  "UNITID": 163268,
                  "INSTNM": "University of Maryland-Baltimore County",
                  "STABBR": "MD",
                  "REGION": 2,
                  "ADM_RATE": "0.6589",
                  "TUITIONFEE_IN": "9171.0",
                  "YEAR": "2010",
                  "_deepnote_index_column": 1710
                },
                {
                  "UNITID": 163268,
                  "INSTNM": "University of Maryland-Baltimore County",
                  "STABBR": "MD",
                  "REGION": 2,
                  "ADM_RATE": "0.6081",
                  "TUITIONFEE_IN": "9467.0",
                  "YEAR": "2011",
                  "_deepnote_index_column": 1694
                },
                {
                  "UNITID": 163268,
                  "INSTNM": "University of Maryland-Baltimore County",
                  "STABBR": "MD",
                  "REGION": 2,
                  "ADM_RATE": "0.6035",
                  "TUITIONFEE_IN": "9764.0",
                  "YEAR": "2012",
                  "_deepnote_index_column": 1660
                },
                {
                  "UNITID": 163268,
                  "INSTNM": "University of Maryland-Baltimore County",
                  "STABBR": "MD",
                  "REGION": 2,
                  "ADM_RATE": "0.6315",
                  "TUITIONFEE_IN": "10068.0",
                  "YEAR": "2013",
                  "_deepnote_index_column": 1629
                },
                {
                  "UNITID": 163268,
                  "INSTNM": "University of Maryland-Baltimore County",
                  "STABBR": "MD",
                  "REGION": 2,
                  "ADM_RATE": "0.5961",
                  "TUITIONFEE_IN": "10384.0",
                  "YEAR": "2014",
                  "_deepnote_index_column": 1610
                },
                {
                  "UNITID": 163268,
                  "INSTNM": "University of Maryland-Baltimore County",
                  "STABBR": "MD",
                  "REGION": 2,
                  "ADM_RATE": "0.5942",
                  "TUITIONFEE_IN": "11006.0",
                  "YEAR": "2015",
                  "_deepnote_index_column": 1555
                },
                {
                  "UNITID": 163268,
                  "INSTNM": "University of Maryland-Baltimore County",
                  "STABBR": "MD",
                  "REGION": 2,
                  "ADM_RATE": "0.5683",
                  "TUITIONFEE_IN": "11264.0",
                  "YEAR": "2016",
                  "_deepnote_index_column": 1510
                },
                {
                  "UNITID": 163268,
                  "INSTNM": "University of Maryland-Baltimore County",
                  "STABBR": "MD",
                  "REGION": 2,
                  "ADM_RATE": "0.6021",
                  "TUITIONFEE_IN": "11518.0",
                  "YEAR": "2017",
                  "_deepnote_index_column": 1478
                },
                {
                  "UNITID": 163268,
                  "INSTNM": "University of Maryland-Baltimore County",
                  "STABBR": "MD",
                  "REGION": 2,
                  "ADM_RATE": "0.5794",
                  "TUITIONFEE_IN": "11778.0",
                  "YEAR": "2018",
                  "_deepnote_index_column": 1415
                }
              ],
              "rows_bottom": null
            },
            "text/plain": "      UNITID                                   INSTNM STABBR  REGION  \\\n2151  163268  University of Maryland-Baltimore County     MD     2.0   \n2049  163268  University of Maryland-Baltimore County     MD     2.0   \n1982  163268  University of Maryland-Baltimore County     MD     2.0   \n1955  163268  University of Maryland-Baltimore County     MD     2.0   \n1926  163268  University of Maryland-Baltimore County     MD     2.0   \n1915  163268  University of Maryland-Baltimore County     MD     2.0   \n1893  163268  University of Maryland-Baltimore County     MD     2.0   \n1873  163268  University of Maryland-Baltimore County     MD     2.0   \n1830  163268  University of Maryland-Baltimore County     MD     2.0   \n1819  163268  University of Maryland-Baltimore County     MD     2.0   \n1799  163268  University of Maryland-Baltimore County     MD     2.0   \n1779  163268  University of Maryland-Baltimore County     MD     2.0   \n1767  163268  University of Maryland-Baltimore County     MD     2.0   \n1745  163268  University of Maryland-Baltimore County     MD     2.0   \n1710  163268  University of Maryland-Baltimore County     MD     2.0   \n1694  163268  University of Maryland-Baltimore County     MD     2.0   \n1660  163268  University of Maryland-Baltimore County     MD     2.0   \n1629  163268  University of Maryland-Baltimore County     MD     2.0   \n1610  163268  University of Maryland-Baltimore County     MD     2.0   \n1555  163268  University of Maryland-Baltimore County     MD     2.0   \n1510  163268  University of Maryland-Baltimore County     MD     2.0   \n1478  163268  University of Maryland-Baltimore County     MD     2.0   \n1415  163268  University of Maryland-Baltimore County     MD     2.0   \n\n      ADM_RATE  TUITIONFEE_IN  YEAR  \n2151       NaN            NaN  1996  \n2049       NaN            NaN  1997  \n1982       NaN            NaN  1998  \n1955       NaN            NaN  1999  \n1926       NaN         5490.0  2000  \n1915    0.6551         5910.0  2001  \n1893    0.6327         6362.0  2002  \n1873    0.5757         7388.0  2003  \n1830    0.7014         8020.0  2004  \n1819    0.7143         8520.0  2005  \n1799    0.7153         8622.0  2006  \n1779    0.6895         8708.0  2007  \n1767    0.7174         8780.0  2008  \n1745    0.6890         8872.0  2009  \n1710    0.6589         9171.0  2010  \n1694    0.6081         9467.0  2011  \n1660    0.6035         9764.0  2012  \n1629    0.6315        10068.0  2013  \n1610    0.5961        10384.0  2014  \n1555    0.5942        11006.0  2015  \n1510    0.5683        11264.0  2016  \n1478    0.6021        11518.0  2017  \n1415    0.5794        11778.0  2018  ",
            "text/html": "<div>\n<style scoped>\n    .dataframe tbody tr th:only-of-type {\n        vertical-align: middle;\n    }\n\n    .dataframe tbody tr th {\n        vertical-align: top;\n    }\n\n    .dataframe thead th {\n        text-align: right;\n    }\n</style>\n<table border=\"1\" class=\"dataframe\">\n  <thead>\n    <tr style=\"text-align: right;\">\n      <th></th>\n      <th>UNITID</th>\n      <th>INSTNM</th>\n      <th>STABBR</th>\n      <th>REGION</th>\n      <th>ADM_RATE</th>\n      <th>TUITIONFEE_IN</th>\n      <th>YEAR</th>\n    </tr>\n  </thead>\n  <tbody>\n    <tr>\n      <th>2151</th>\n      <td>163268</td>\n      <td>University of Maryland-Baltimore County</td>\n      <td>MD</td>\n      <td>2.0</td>\n      <td>NaN</td>\n      <td>NaN</td>\n      <td>1996</td>\n    </tr>\n    <tr>\n      <th>2049</th>\n      <td>163268</td>\n      <td>University of Maryland-Baltimore County</td>\n      <td>MD</td>\n      <td>2.0</td>\n      <td>NaN</td>\n      <td>NaN</td>\n      <td>1997</td>\n    </tr>\n    <tr>\n      <th>1982</th>\n      <td>163268</td>\n      <td>University of Maryland-Baltimore County</td>\n      <td>MD</td>\n      <td>2.0</td>\n      <td>NaN</td>\n      <td>NaN</td>\n      <td>1998</td>\n    </tr>\n    <tr>\n      <th>1955</th>\n      <td>163268</td>\n      <td>University of Maryland-Baltimore County</td>\n      <td>MD</td>\n      <td>2.0</td>\n      <td>NaN</td>\n      <td>NaN</td>\n      <td>1999</td>\n    </tr>\n    <tr>\n      <th>1926</th>\n      <td>163268</td>\n      <td>University of Maryland-Baltimore County</td>\n      <td>MD</td>\n      <td>2.0</td>\n      <td>NaN</td>\n      <td>5490.0</td>\n      <td>2000</td>\n    </tr>\n    <tr>\n      <th>1915</th>\n      <td>163268</td>\n      <td>University of Maryland-Baltimore County</td>\n      <td>MD</td>\n      <td>2.0</td>\n      <td>0.6551</td>\n      <td>5910.0</td>\n      <td>2001</td>\n    </tr>\n    <tr>\n      <th>1893</th>\n      <td>163268</td>\n      <td>University of Maryland-Baltimore County</td>\n      <td>MD</td>\n      <td>2.0</td>\n      <td>0.6327</td>\n      <td>6362.0</td>\n      <td>2002</td>\n    </tr>\n    <tr>\n      <th>1873</th>\n      <td>163268</td>\n      <td>University of Maryland-Baltimore County</td>\n      <td>MD</td>\n      <td>2.0</td>\n      <td>0.5757</td>\n      <td>7388.0</td>\n      <td>2003</td>\n    </tr>\n    <tr>\n      <th>1830</th>\n      <td>163268</td>\n      <td>University of Maryland-Baltimore County</td>\n      <td>MD</td>\n      <td>2.0</td>\n      <td>0.7014</td>\n      <td>8020.0</td>\n      <td>2004</td>\n    </tr>\n    <tr>\n      <th>1819</th>\n      <td>163268</td>\n      <td>University of Maryland-Baltimore County</td>\n      <td>MD</td>\n      <td>2.0</td>\n      <td>0.7143</td>\n      <td>8520.0</td>\n      <td>2005</td>\n    </tr>\n    <tr>\n      <th>1799</th>\n      <td>163268</td>\n      <td>University of Maryland-Baltimore County</td>\n      <td>MD</td>\n      <td>2.0</td>\n      <td>0.7153</td>\n      <td>8622.0</td>\n      <td>2006</td>\n    </tr>\n    <tr>\n      <th>1779</th>\n      <td>163268</td>\n      <td>University of Maryland-Baltimore County</td>\n      <td>MD</td>\n      <td>2.0</td>\n      <td>0.6895</td>\n      <td>8708.0</td>\n      <td>2007</td>\n    </tr>\n    <tr>\n      <th>1767</th>\n      <td>163268</td>\n      <td>University of Maryland-Baltimore County</td>\n      <td>MD</td>\n      <td>2.0</td>\n      <td>0.7174</td>\n      <td>8780.0</td>\n      <td>2008</td>\n    </tr>\n    <tr>\n      <th>1745</th>\n      <td>163268</td>\n      <td>University of Maryland-Baltimore County</td>\n      <td>MD</td>\n      <td>2.0</td>\n      <td>0.6890</td>\n      <td>8872.0</td>\n      <td>2009</td>\n    </tr>\n    <tr>\n      <th>1710</th>\n      <td>163268</td>\n      <td>University of Maryland-Baltimore County</td>\n      <td>MD</td>\n      <td>2.0</td>\n      <td>0.6589</td>\n      <td>9171.0</td>\n      <td>2010</td>\n    </tr>\n    <tr>\n      <th>1694</th>\n      <td>163268</td>\n      <td>University of Maryland-Baltimore County</td>\n      <td>MD</td>\n      <td>2.0</td>\n      <td>0.6081</td>\n      <td>9467.0</td>\n      <td>2011</td>\n    </tr>\n    <tr>\n      <th>1660</th>\n      <td>163268</td>\n      <td>University of Maryland-Baltimore County</td>\n      <td>MD</td>\n      <td>2.0</td>\n      <td>0.6035</td>\n      <td>9764.0</td>\n      <td>2012</td>\n    </tr>\n    <tr>\n      <th>1629</th>\n      <td>163268</td>\n      <td>University of Maryland-Baltimore County</td>\n      <td>MD</td>\n      <td>2.0</td>\n      <td>0.6315</td>\n      <td>10068.0</td>\n      <td>2013</td>\n    </tr>\n    <tr>\n      <th>1610</th>\n      <td>163268</td>\n      <td>University of Maryland-Baltimore County</td>\n      <td>MD</td>\n      <td>2.0</td>\n      <td>0.5961</td>\n      <td>10384.0</td>\n      <td>2014</td>\n    </tr>\n    <tr>\n      <th>1555</th>\n      <td>163268</td>\n      <td>University of Maryland-Baltimore County</td>\n      <td>MD</td>\n      <td>2.0</td>\n      <td>0.5942</td>\n      <td>11006.0</td>\n      <td>2015</td>\n    </tr>\n    <tr>\n      <th>1510</th>\n      <td>163268</td>\n      <td>University of Maryland-Baltimore County</td>\n      <td>MD</td>\n      <td>2.0</td>\n      <td>0.5683</td>\n      <td>11264.0</td>\n      <td>2016</td>\n    </tr>\n    <tr>\n      <th>1478</th>\n      <td>163268</td>\n      <td>University of Maryland-Baltimore County</td>\n      <td>MD</td>\n      <td>2.0</td>\n      <td>0.6021</td>\n      <td>11518.0</td>\n      <td>2017</td>\n    </tr>\n    <tr>\n      <th>1415</th>\n      <td>163268</td>\n      <td>University of Maryland-Baltimore County</td>\n      <td>MD</td>\n      <td>2.0</td>\n      <td>0.5794</td>\n      <td>11778.0</td>\n      <td>2018</td>\n    </tr>\n  </tbody>\n</table>\n</div>"
          },
          "metadata": {}
        }
      ],
      "execution_count": null
    },
    {
      "cell_type": "markdown",
      "source": "## <8>\n\nExplore this UMBC dataframe (# of observations, varibles, head, tail, sample, missing values, statistics,etc.)\n\n    .shape # show the number of: (rows, columns)\n    .info() # general summary of data\n    .head() # show first five rows\n    .tail() # show last five rows\n    .sample(5) # randomly sample 5 data points\n    DATAFRAME[DATAFRAME.isna().any(axis=1)] # find and display any null data\n    DATAFRAME[['ADM_RATE', 'TUITIONFEE_IN']].describe() # overall statistics for each (other columns are omitted here because they dont contain numerical data)",
      "metadata": {
        "id": "d5X87ugp6zLt",
        "cell_id": "00009-8125aa99-2ead-48de-8f09-4bbe8f6ec08e",
        "deepnote_to_be_reexecuted": false,
        "source_hash": "cbb2bbc3",
        "execution_start": 1618162045996,
        "execution_millis": 9,
        "deepnote_cell_type": "markdown"
      }
    },
    {
      "cell_type": "code",
      "metadata": {
        "tags": [],
        "cell_id": "00022-6bd04987-0897-4dc0-b370-7b5d494add57",
        "deepnote_to_be_reexecuted": false,
        "source_hash": "fe6a813d",
        "execution_millis": 13,
        "execution_start": 1618833835219,
        "deepnote_cell_type": "code"
      },
      "source": "df_umbc.shape # show the number of: (rows, columns)",
      "outputs": [
        {
          "output_type": "execute_result",
          "execution_count": 26,
          "data": {
            "text/plain": "(23, 7)"
          },
          "metadata": {}
        }
      ],
      "execution_count": null
    },
    {
      "cell_type": "code",
      "metadata": {
        "tags": [],
        "cell_id": "00023-89c19627-f739-41fc-9441-3baeec3e2705",
        "deepnote_to_be_reexecuted": false,
        "source_hash": "b93b1c73",
        "execution_millis": 9,
        "execution_start": 1618833838379,
        "deepnote_cell_type": "code"
      },
      "source": "df_umbc.info() # general summary of data",
      "outputs": [
        {
          "name": "stdout",
          "text": "<class 'pandas.core.frame.DataFrame'>\nInt64Index: 23 entries, 2151 to 1415\nData columns (total 7 columns):\n #   Column         Non-Null Count  Dtype  \n---  ------         --------------  -----  \n 0   UNITID         23 non-null     int64  \n 1   INSTNM         23 non-null     object \n 2   STABBR         23 non-null     object \n 3   REGION         23 non-null     float64\n 4   ADM_RATE       18 non-null     float64\n 5   TUITIONFEE_IN  19 non-null     float64\n 6   YEAR           23 non-null     object \ndtypes: float64(3), int64(1), object(3)\nmemory usage: 1.4+ KB\n",
          "output_type": "stream"
        }
      ],
      "execution_count": null
    },
    {
      "cell_type": "code",
      "metadata": {
        "tags": [],
        "cell_id": "00024-3eb879c3-f87d-483c-8005-50b5cc8c0e11",
        "deepnote_to_be_reexecuted": false,
        "source_hash": "ac36a8cf",
        "execution_start": 1618196730592,
        "execution_millis": 10,
        "deepnote_cell_type": "code"
      },
      "source": "df_umbc.head() # show first five rows",
      "execution_count": null,
      "outputs": [
        {
          "output_type": "execute_result",
          "execution_count": 126,
          "data": {
            "application/vnd.deepnote.dataframe.v2+json": {
              "row_count": 5,
              "column_count": 7,
              "columns": [
                {
                  "name": "UNITID",
                  "dtype": "int64",
                  "stats": {
                    "unique_count": 1,
                    "nan_count": 0,
                    "min": 163268,
                    "max": 163268,
                    "histogram": [
                      {
                        "bin_start": 163267.5,
                        "bin_end": 163267.6,
                        "count": 0
                      },
                      {
                        "bin_start": 163267.6,
                        "bin_end": 163267.7,
                        "count": 0
                      },
                      {
                        "bin_start": 163267.7,
                        "bin_end": 163267.8,
                        "count": 0
                      },
                      {
                        "bin_start": 163267.8,
                        "bin_end": 163267.9,
                        "count": 0
                      },
                      {
                        "bin_start": 163267.9,
                        "bin_end": 163268,
                        "count": 0
                      },
                      {
                        "bin_start": 163268,
                        "bin_end": 163268.1,
                        "count": 5
                      },
                      {
                        "bin_start": 163268.1,
                        "bin_end": 163268.2,
                        "count": 0
                      },
                      {
                        "bin_start": 163268.2,
                        "bin_end": 163268.3,
                        "count": 0
                      },
                      {
                        "bin_start": 163268.3,
                        "bin_end": 163268.4,
                        "count": 0
                      },
                      {
                        "bin_start": 163268.4,
                        "bin_end": 163268.5,
                        "count": 0
                      }
                    ]
                  }
                },
                {
                  "name": "INSTNM",
                  "dtype": "object",
                  "stats": {
                    "unique_count": 1,
                    "nan_count": 0,
                    "categories": [
                      {
                        "name": "University of Maryland-Baltimore County",
                        "count": 5
                      }
                    ]
                  }
                },
                {
                  "name": "STABBR",
                  "dtype": "object",
                  "stats": {
                    "unique_count": 1,
                    "nan_count": 0,
                    "categories": [
                      {
                        "name": "MD",
                        "count": 5
                      }
                    ]
                  }
                },
                {
                  "name": "REGION",
                  "dtype": "float64",
                  "stats": {
                    "unique_count": 1,
                    "nan_count": 0,
                    "min": 2,
                    "max": 2,
                    "histogram": [
                      {
                        "bin_start": 1.5,
                        "bin_end": 1.6,
                        "count": 0
                      },
                      {
                        "bin_start": 1.6,
                        "bin_end": 1.7,
                        "count": 0
                      },
                      {
                        "bin_start": 1.7,
                        "bin_end": 1.8,
                        "count": 0
                      },
                      {
                        "bin_start": 1.8,
                        "bin_end": 1.9,
                        "count": 0
                      },
                      {
                        "bin_start": 1.9,
                        "bin_end": 2,
                        "count": 0
                      },
                      {
                        "bin_start": 2,
                        "bin_end": 2.1,
                        "count": 5
                      },
                      {
                        "bin_start": 2.1,
                        "bin_end": 2.2,
                        "count": 0
                      },
                      {
                        "bin_start": 2.2,
                        "bin_end": 2.3,
                        "count": 0
                      },
                      {
                        "bin_start": 2.3,
                        "bin_end": 2.4,
                        "count": 0
                      },
                      {
                        "bin_start": 2.4,
                        "bin_end": 2.5,
                        "count": 0
                      }
                    ]
                  }
                },
                {
                  "name": "ADM_RATE",
                  "dtype": "float64",
                  "stats": {
                    "unique_count": 0,
                    "nan_count": 5,
                    "min": null,
                    "max": null,
                    "histogram": [
                      {
                        "bin_start": 0,
                        "bin_end": 0.1,
                        "count": 0
                      },
                      {
                        "bin_start": 0.1,
                        "bin_end": 0.2,
                        "count": 0
                      },
                      {
                        "bin_start": 0.2,
                        "bin_end": 0.30000000000000004,
                        "count": 0
                      },
                      {
                        "bin_start": 0.30000000000000004,
                        "bin_end": 0.4,
                        "count": 0
                      },
                      {
                        "bin_start": 0.4,
                        "bin_end": 0.5,
                        "count": 0
                      },
                      {
                        "bin_start": 0.5,
                        "bin_end": 0.6000000000000001,
                        "count": 0
                      },
                      {
                        "bin_start": 0.6000000000000001,
                        "bin_end": 0.7000000000000001,
                        "count": 0
                      },
                      {
                        "bin_start": 0.7000000000000001,
                        "bin_end": 0.8,
                        "count": 0
                      },
                      {
                        "bin_start": 0.8,
                        "bin_end": 0.9,
                        "count": 0
                      },
                      {
                        "bin_start": 0.9,
                        "bin_end": 1,
                        "count": 0
                      }
                    ]
                  }
                },
                {
                  "name": "TUITIONFEE_IN",
                  "dtype": "float64",
                  "stats": {
                    "unique_count": 1,
                    "nan_count": 4,
                    "min": 5490,
                    "max": 5490,
                    "histogram": [
                      {
                        "bin_start": 5489.5,
                        "bin_end": 5489.6,
                        "count": 0
                      },
                      {
                        "bin_start": 5489.6,
                        "bin_end": 5489.7,
                        "count": 0
                      },
                      {
                        "bin_start": 5489.7,
                        "bin_end": 5489.8,
                        "count": 0
                      },
                      {
                        "bin_start": 5489.8,
                        "bin_end": 5489.9,
                        "count": 0
                      },
                      {
                        "bin_start": 5489.9,
                        "bin_end": 5490,
                        "count": 0
                      },
                      {
                        "bin_start": 5490,
                        "bin_end": 5490.1,
                        "count": 1
                      },
                      {
                        "bin_start": 5490.1,
                        "bin_end": 5490.2,
                        "count": 0
                      },
                      {
                        "bin_start": 5490.2,
                        "bin_end": 5490.3,
                        "count": 0
                      },
                      {
                        "bin_start": 5490.3,
                        "bin_end": 5490.4,
                        "count": 0
                      },
                      {
                        "bin_start": 5490.4,
                        "bin_end": 5490.5,
                        "count": 0
                      }
                    ]
                  }
                },
                {
                  "name": "YEAR",
                  "dtype": "object",
                  "stats": {
                    "unique_count": 5,
                    "nan_count": 0,
                    "categories": [
                      {
                        "name": "1996",
                        "count": 1
                      },
                      {
                        "name": "1997",
                        "count": 1
                      },
                      {
                        "name": "3 others",
                        "count": 3
                      }
                    ]
                  }
                },
                {
                  "name": "_deepnote_index_column",
                  "dtype": "int64"
                }
              ],
              "rows_top": [
                {
                  "UNITID": 163268,
                  "INSTNM": "University of Maryland-Baltimore County",
                  "STABBR": "MD",
                  "REGION": 2,
                  "ADM_RATE": "nan",
                  "TUITIONFEE_IN": "nan",
                  "YEAR": "1996",
                  "_deepnote_index_column": 2151
                },
                {
                  "UNITID": 163268,
                  "INSTNM": "University of Maryland-Baltimore County",
                  "STABBR": "MD",
                  "REGION": 2,
                  "ADM_RATE": "nan",
                  "TUITIONFEE_IN": "nan",
                  "YEAR": "1997",
                  "_deepnote_index_column": 2049
                },
                {
                  "UNITID": 163268,
                  "INSTNM": "University of Maryland-Baltimore County",
                  "STABBR": "MD",
                  "REGION": 2,
                  "ADM_RATE": "nan",
                  "TUITIONFEE_IN": "nan",
                  "YEAR": "1998",
                  "_deepnote_index_column": 1982
                },
                {
                  "UNITID": 163268,
                  "INSTNM": "University of Maryland-Baltimore County",
                  "STABBR": "MD",
                  "REGION": 2,
                  "ADM_RATE": "nan",
                  "TUITIONFEE_IN": "nan",
                  "YEAR": "1999",
                  "_deepnote_index_column": 1955
                },
                {
                  "UNITID": 163268,
                  "INSTNM": "University of Maryland-Baltimore County",
                  "STABBR": "MD",
                  "REGION": 2,
                  "ADM_RATE": "nan",
                  "TUITIONFEE_IN": "5490.0",
                  "YEAR": "2000",
                  "_deepnote_index_column": 1926
                }
              ],
              "rows_bottom": null
            },
            "text/plain": "      UNITID                                   INSTNM STABBR  REGION  \\\n2151  163268  University of Maryland-Baltimore County     MD     2.0   \n2049  163268  University of Maryland-Baltimore County     MD     2.0   \n1982  163268  University of Maryland-Baltimore County     MD     2.0   \n1955  163268  University of Maryland-Baltimore County     MD     2.0   \n1926  163268  University of Maryland-Baltimore County     MD     2.0   \n\n      ADM_RATE  TUITIONFEE_IN  YEAR  \n2151       NaN            NaN  1996  \n2049       NaN            NaN  1997  \n1982       NaN            NaN  1998  \n1955       NaN            NaN  1999  \n1926       NaN         5490.0  2000  ",
            "text/html": "<div>\n<style scoped>\n    .dataframe tbody tr th:only-of-type {\n        vertical-align: middle;\n    }\n\n    .dataframe tbody tr th {\n        vertical-align: top;\n    }\n\n    .dataframe thead th {\n        text-align: right;\n    }\n</style>\n<table border=\"1\" class=\"dataframe\">\n  <thead>\n    <tr style=\"text-align: right;\">\n      <th></th>\n      <th>UNITID</th>\n      <th>INSTNM</th>\n      <th>STABBR</th>\n      <th>REGION</th>\n      <th>ADM_RATE</th>\n      <th>TUITIONFEE_IN</th>\n      <th>YEAR</th>\n    </tr>\n  </thead>\n  <tbody>\n    <tr>\n      <th>2151</th>\n      <td>163268</td>\n      <td>University of Maryland-Baltimore County</td>\n      <td>MD</td>\n      <td>2.0</td>\n      <td>NaN</td>\n      <td>NaN</td>\n      <td>1996</td>\n    </tr>\n    <tr>\n      <th>2049</th>\n      <td>163268</td>\n      <td>University of Maryland-Baltimore County</td>\n      <td>MD</td>\n      <td>2.0</td>\n      <td>NaN</td>\n      <td>NaN</td>\n      <td>1997</td>\n    </tr>\n    <tr>\n      <th>1982</th>\n      <td>163268</td>\n      <td>University of Maryland-Baltimore County</td>\n      <td>MD</td>\n      <td>2.0</td>\n      <td>NaN</td>\n      <td>NaN</td>\n      <td>1998</td>\n    </tr>\n    <tr>\n      <th>1955</th>\n      <td>163268</td>\n      <td>University of Maryland-Baltimore County</td>\n      <td>MD</td>\n      <td>2.0</td>\n      <td>NaN</td>\n      <td>NaN</td>\n      <td>1999</td>\n    </tr>\n    <tr>\n      <th>1926</th>\n      <td>163268</td>\n      <td>University of Maryland-Baltimore County</td>\n      <td>MD</td>\n      <td>2.0</td>\n      <td>NaN</td>\n      <td>5490.0</td>\n      <td>2000</td>\n    </tr>\n  </tbody>\n</table>\n</div>"
          },
          "metadata": {}
        }
      ]
    },
    {
      "cell_type": "code",
      "metadata": {
        "tags": [],
        "cell_id": "00025-e80b8454-c655-4774-9b4e-1a5f8b8b069a",
        "deepnote_to_be_reexecuted": false,
        "source_hash": "945b1581",
        "execution_start": 1618196735735,
        "execution_millis": 8,
        "deepnote_cell_type": "code"
      },
      "source": "df_umbc.tail() # show last five rows",
      "execution_count": null,
      "outputs": [
        {
          "output_type": "execute_result",
          "execution_count": 127,
          "data": {
            "application/vnd.deepnote.dataframe.v2+json": {
              "row_count": 5,
              "column_count": 7,
              "columns": [
                {
                  "name": "UNITID",
                  "dtype": "int64",
                  "stats": {
                    "unique_count": 1,
                    "nan_count": 0,
                    "min": 163268,
                    "max": 163268,
                    "histogram": [
                      {
                        "bin_start": 163267.5,
                        "bin_end": 163267.6,
                        "count": 0
                      },
                      {
                        "bin_start": 163267.6,
                        "bin_end": 163267.7,
                        "count": 0
                      },
                      {
                        "bin_start": 163267.7,
                        "bin_end": 163267.8,
                        "count": 0
                      },
                      {
                        "bin_start": 163267.8,
                        "bin_end": 163267.9,
                        "count": 0
                      },
                      {
                        "bin_start": 163267.9,
                        "bin_end": 163268,
                        "count": 0
                      },
                      {
                        "bin_start": 163268,
                        "bin_end": 163268.1,
                        "count": 5
                      },
                      {
                        "bin_start": 163268.1,
                        "bin_end": 163268.2,
                        "count": 0
                      },
                      {
                        "bin_start": 163268.2,
                        "bin_end": 163268.3,
                        "count": 0
                      },
                      {
                        "bin_start": 163268.3,
                        "bin_end": 163268.4,
                        "count": 0
                      },
                      {
                        "bin_start": 163268.4,
                        "bin_end": 163268.5,
                        "count": 0
                      }
                    ]
                  }
                },
                {
                  "name": "INSTNM",
                  "dtype": "object",
                  "stats": {
                    "unique_count": 1,
                    "nan_count": 0,
                    "categories": [
                      {
                        "name": "University of Maryland-Baltimore County",
                        "count": 5
                      }
                    ]
                  }
                },
                {
                  "name": "STABBR",
                  "dtype": "object",
                  "stats": {
                    "unique_count": 1,
                    "nan_count": 0,
                    "categories": [
                      {
                        "name": "MD",
                        "count": 5
                      }
                    ]
                  }
                },
                {
                  "name": "REGION",
                  "dtype": "float64",
                  "stats": {
                    "unique_count": 1,
                    "nan_count": 0,
                    "min": 2,
                    "max": 2,
                    "histogram": [
                      {
                        "bin_start": 1.5,
                        "bin_end": 1.6,
                        "count": 0
                      },
                      {
                        "bin_start": 1.6,
                        "bin_end": 1.7,
                        "count": 0
                      },
                      {
                        "bin_start": 1.7,
                        "bin_end": 1.8,
                        "count": 0
                      },
                      {
                        "bin_start": 1.8,
                        "bin_end": 1.9,
                        "count": 0
                      },
                      {
                        "bin_start": 1.9,
                        "bin_end": 2,
                        "count": 0
                      },
                      {
                        "bin_start": 2,
                        "bin_end": 2.1,
                        "count": 5
                      },
                      {
                        "bin_start": 2.1,
                        "bin_end": 2.2,
                        "count": 0
                      },
                      {
                        "bin_start": 2.2,
                        "bin_end": 2.3,
                        "count": 0
                      },
                      {
                        "bin_start": 2.3,
                        "bin_end": 2.4,
                        "count": 0
                      },
                      {
                        "bin_start": 2.4,
                        "bin_end": 2.5,
                        "count": 0
                      }
                    ]
                  }
                },
                {
                  "name": "ADM_RATE",
                  "dtype": "float64",
                  "stats": {
                    "unique_count": 5,
                    "nan_count": 0,
                    "min": 0.5683,
                    "max": 0.6021,
                    "histogram": [
                      {
                        "bin_start": 0.5683,
                        "bin_end": 0.57168,
                        "count": 1
                      },
                      {
                        "bin_start": 0.57168,
                        "bin_end": 0.57506,
                        "count": 0
                      },
                      {
                        "bin_start": 0.57506,
                        "bin_end": 0.5784400000000001,
                        "count": 0
                      },
                      {
                        "bin_start": 0.5784400000000001,
                        "bin_end": 0.58182,
                        "count": 1
                      },
                      {
                        "bin_start": 0.58182,
                        "bin_end": 0.5851999999999999,
                        "count": 0
                      },
                      {
                        "bin_start": 0.5851999999999999,
                        "bin_end": 0.58858,
                        "count": 0
                      },
                      {
                        "bin_start": 0.58858,
                        "bin_end": 0.59196,
                        "count": 0
                      },
                      {
                        "bin_start": 0.59196,
                        "bin_end": 0.59534,
                        "count": 1
                      },
                      {
                        "bin_start": 0.59534,
                        "bin_end": 0.5987199999999999,
                        "count": 1
                      },
                      {
                        "bin_start": 0.5987199999999999,
                        "bin_end": 0.6021,
                        "count": 1
                      }
                    ]
                  }
                },
                {
                  "name": "TUITIONFEE_IN",
                  "dtype": "float64",
                  "stats": {
                    "unique_count": 5,
                    "nan_count": 0,
                    "min": 10384,
                    "max": 11778,
                    "histogram": [
                      {
                        "bin_start": 10384,
                        "bin_end": 10523.4,
                        "count": 1
                      },
                      {
                        "bin_start": 10523.4,
                        "bin_end": 10662.8,
                        "count": 0
                      },
                      {
                        "bin_start": 10662.8,
                        "bin_end": 10802.2,
                        "count": 0
                      },
                      {
                        "bin_start": 10802.2,
                        "bin_end": 10941.6,
                        "count": 0
                      },
                      {
                        "bin_start": 10941.6,
                        "bin_end": 11081,
                        "count": 1
                      },
                      {
                        "bin_start": 11081,
                        "bin_end": 11220.4,
                        "count": 0
                      },
                      {
                        "bin_start": 11220.4,
                        "bin_end": 11359.8,
                        "count": 1
                      },
                      {
                        "bin_start": 11359.8,
                        "bin_end": 11499.2,
                        "count": 0
                      },
                      {
                        "bin_start": 11499.2,
                        "bin_end": 11638.6,
                        "count": 1
                      },
                      {
                        "bin_start": 11638.6,
                        "bin_end": 11778,
                        "count": 1
                      }
                    ]
                  }
                },
                {
                  "name": "YEAR",
                  "dtype": "object",
                  "stats": {
                    "unique_count": 5,
                    "nan_count": 0,
                    "categories": [
                      {
                        "name": "2014",
                        "count": 1
                      },
                      {
                        "name": "2015",
                        "count": 1
                      },
                      {
                        "name": "3 others",
                        "count": 3
                      }
                    ]
                  }
                },
                {
                  "name": "_deepnote_index_column",
                  "dtype": "int64"
                }
              ],
              "rows_top": [
                {
                  "UNITID": 163268,
                  "INSTNM": "University of Maryland-Baltimore County",
                  "STABBR": "MD",
                  "REGION": 2,
                  "ADM_RATE": 0.5961,
                  "TUITIONFEE_IN": 10384,
                  "YEAR": "2014",
                  "_deepnote_index_column": 1610
                },
                {
                  "UNITID": 163268,
                  "INSTNM": "University of Maryland-Baltimore County",
                  "STABBR": "MD",
                  "REGION": 2,
                  "ADM_RATE": 0.5942,
                  "TUITIONFEE_IN": 11006,
                  "YEAR": "2015",
                  "_deepnote_index_column": 1555
                },
                {
                  "UNITID": 163268,
                  "INSTNM": "University of Maryland-Baltimore County",
                  "STABBR": "MD",
                  "REGION": 2,
                  "ADM_RATE": 0.5683,
                  "TUITIONFEE_IN": 11264,
                  "YEAR": "2016",
                  "_deepnote_index_column": 1510
                },
                {
                  "UNITID": 163268,
                  "INSTNM": "University of Maryland-Baltimore County",
                  "STABBR": "MD",
                  "REGION": 2,
                  "ADM_RATE": 0.6021,
                  "TUITIONFEE_IN": 11518,
                  "YEAR": "2017",
                  "_deepnote_index_column": 1478
                },
                {
                  "UNITID": 163268,
                  "INSTNM": "University of Maryland-Baltimore County",
                  "STABBR": "MD",
                  "REGION": 2,
                  "ADM_RATE": 0.5794,
                  "TUITIONFEE_IN": 11778,
                  "YEAR": "2018",
                  "_deepnote_index_column": 1415
                }
              ],
              "rows_bottom": null
            },
            "text/plain": "      UNITID                                   INSTNM STABBR  REGION  \\\n1610  163268  University of Maryland-Baltimore County     MD     2.0   \n1555  163268  University of Maryland-Baltimore County     MD     2.0   \n1510  163268  University of Maryland-Baltimore County     MD     2.0   \n1478  163268  University of Maryland-Baltimore County     MD     2.0   \n1415  163268  University of Maryland-Baltimore County     MD     2.0   \n\n      ADM_RATE  TUITIONFEE_IN  YEAR  \n1610    0.5961        10384.0  2014  \n1555    0.5942        11006.0  2015  \n1510    0.5683        11264.0  2016  \n1478    0.6021        11518.0  2017  \n1415    0.5794        11778.0  2018  ",
            "text/html": "<div>\n<style scoped>\n    .dataframe tbody tr th:only-of-type {\n        vertical-align: middle;\n    }\n\n    .dataframe tbody tr th {\n        vertical-align: top;\n    }\n\n    .dataframe thead th {\n        text-align: right;\n    }\n</style>\n<table border=\"1\" class=\"dataframe\">\n  <thead>\n    <tr style=\"text-align: right;\">\n      <th></th>\n      <th>UNITID</th>\n      <th>INSTNM</th>\n      <th>STABBR</th>\n      <th>REGION</th>\n      <th>ADM_RATE</th>\n      <th>TUITIONFEE_IN</th>\n      <th>YEAR</th>\n    </tr>\n  </thead>\n  <tbody>\n    <tr>\n      <th>1610</th>\n      <td>163268</td>\n      <td>University of Maryland-Baltimore County</td>\n      <td>MD</td>\n      <td>2.0</td>\n      <td>0.5961</td>\n      <td>10384.0</td>\n      <td>2014</td>\n    </tr>\n    <tr>\n      <th>1555</th>\n      <td>163268</td>\n      <td>University of Maryland-Baltimore County</td>\n      <td>MD</td>\n      <td>2.0</td>\n      <td>0.5942</td>\n      <td>11006.0</td>\n      <td>2015</td>\n    </tr>\n    <tr>\n      <th>1510</th>\n      <td>163268</td>\n      <td>University of Maryland-Baltimore County</td>\n      <td>MD</td>\n      <td>2.0</td>\n      <td>0.5683</td>\n      <td>11264.0</td>\n      <td>2016</td>\n    </tr>\n    <tr>\n      <th>1478</th>\n      <td>163268</td>\n      <td>University of Maryland-Baltimore County</td>\n      <td>MD</td>\n      <td>2.0</td>\n      <td>0.6021</td>\n      <td>11518.0</td>\n      <td>2017</td>\n    </tr>\n    <tr>\n      <th>1415</th>\n      <td>163268</td>\n      <td>University of Maryland-Baltimore County</td>\n      <td>MD</td>\n      <td>2.0</td>\n      <td>0.5794</td>\n      <td>11778.0</td>\n      <td>2018</td>\n    </tr>\n  </tbody>\n</table>\n</div>"
          },
          "metadata": {}
        }
      ]
    },
    {
      "cell_type": "code",
      "metadata": {
        "tags": [],
        "cell_id": "00026-41b15ade-c06f-402d-b68c-0ac6cff43bed",
        "deepnote_to_be_reexecuted": false,
        "source_hash": "7c0c95a0",
        "execution_start": 1618196737133,
        "execution_millis": 19,
        "deepnote_cell_type": "code"
      },
      "source": "df_umbc.sample(5) # randomly sample 5 data points",
      "execution_count": null,
      "outputs": [
        {
          "output_type": "execute_result",
          "execution_count": 128,
          "data": {
            "application/vnd.deepnote.dataframe.v2+json": {
              "row_count": 5,
              "column_count": 7,
              "columns": [
                {
                  "name": "UNITID",
                  "dtype": "int64",
                  "stats": {
                    "unique_count": 1,
                    "nan_count": 0,
                    "min": 163268,
                    "max": 163268,
                    "histogram": [
                      {
                        "bin_start": 163267.5,
                        "bin_end": 163267.6,
                        "count": 0
                      },
                      {
                        "bin_start": 163267.6,
                        "bin_end": 163267.7,
                        "count": 0
                      },
                      {
                        "bin_start": 163267.7,
                        "bin_end": 163267.8,
                        "count": 0
                      },
                      {
                        "bin_start": 163267.8,
                        "bin_end": 163267.9,
                        "count": 0
                      },
                      {
                        "bin_start": 163267.9,
                        "bin_end": 163268,
                        "count": 0
                      },
                      {
                        "bin_start": 163268,
                        "bin_end": 163268.1,
                        "count": 5
                      },
                      {
                        "bin_start": 163268.1,
                        "bin_end": 163268.2,
                        "count": 0
                      },
                      {
                        "bin_start": 163268.2,
                        "bin_end": 163268.3,
                        "count": 0
                      },
                      {
                        "bin_start": 163268.3,
                        "bin_end": 163268.4,
                        "count": 0
                      },
                      {
                        "bin_start": 163268.4,
                        "bin_end": 163268.5,
                        "count": 0
                      }
                    ]
                  }
                },
                {
                  "name": "INSTNM",
                  "dtype": "object",
                  "stats": {
                    "unique_count": 1,
                    "nan_count": 0,
                    "categories": [
                      {
                        "name": "University of Maryland-Baltimore County",
                        "count": 5
                      }
                    ]
                  }
                },
                {
                  "name": "STABBR",
                  "dtype": "object",
                  "stats": {
                    "unique_count": 1,
                    "nan_count": 0,
                    "categories": [
                      {
                        "name": "MD",
                        "count": 5
                      }
                    ]
                  }
                },
                {
                  "name": "REGION",
                  "dtype": "float64",
                  "stats": {
                    "unique_count": 1,
                    "nan_count": 0,
                    "min": 2,
                    "max": 2,
                    "histogram": [
                      {
                        "bin_start": 1.5,
                        "bin_end": 1.6,
                        "count": 0
                      },
                      {
                        "bin_start": 1.6,
                        "bin_end": 1.7,
                        "count": 0
                      },
                      {
                        "bin_start": 1.7,
                        "bin_end": 1.8,
                        "count": 0
                      },
                      {
                        "bin_start": 1.8,
                        "bin_end": 1.9,
                        "count": 0
                      },
                      {
                        "bin_start": 1.9,
                        "bin_end": 2,
                        "count": 0
                      },
                      {
                        "bin_start": 2,
                        "bin_end": 2.1,
                        "count": 5
                      },
                      {
                        "bin_start": 2.1,
                        "bin_end": 2.2,
                        "count": 0
                      },
                      {
                        "bin_start": 2.2,
                        "bin_end": 2.3,
                        "count": 0
                      },
                      {
                        "bin_start": 2.3,
                        "bin_end": 2.4,
                        "count": 0
                      },
                      {
                        "bin_start": 2.4,
                        "bin_end": 2.5,
                        "count": 0
                      }
                    ]
                  }
                },
                {
                  "name": "ADM_RATE",
                  "dtype": "float64",
                  "stats": {
                    "unique_count": 4,
                    "nan_count": 1,
                    "min": 0.6021,
                    "max": 0.7174,
                    "histogram": [
                      {
                        "bin_start": 0.6021,
                        "bin_end": 0.61363,
                        "count": 1
                      },
                      {
                        "bin_start": 0.61363,
                        "bin_end": 0.6251599999999999,
                        "count": 0
                      },
                      {
                        "bin_start": 0.6251599999999999,
                        "bin_end": 0.63669,
                        "count": 0
                      },
                      {
                        "bin_start": 0.63669,
                        "bin_end": 0.64822,
                        "count": 0
                      },
                      {
                        "bin_start": 0.64822,
                        "bin_end": 0.6597500000000001,
                        "count": 1
                      },
                      {
                        "bin_start": 0.6597500000000001,
                        "bin_end": 0.67128,
                        "count": 0
                      },
                      {
                        "bin_start": 0.67128,
                        "bin_end": 0.68281,
                        "count": 0
                      },
                      {
                        "bin_start": 0.68281,
                        "bin_end": 0.6943400000000001,
                        "count": 0
                      },
                      {
                        "bin_start": 0.6943400000000001,
                        "bin_end": 0.70587,
                        "count": 0
                      },
                      {
                        "bin_start": 0.70587,
                        "bin_end": 0.7174,
                        "count": 2
                      }
                    ]
                  }
                },
                {
                  "name": "TUITIONFEE_IN",
                  "dtype": "float64",
                  "stats": {
                    "unique_count": 4,
                    "nan_count": 1,
                    "min": 5910,
                    "max": 11518,
                    "histogram": [
                      {
                        "bin_start": 5910,
                        "bin_end": 6470.8,
                        "count": 1
                      },
                      {
                        "bin_start": 6470.8,
                        "bin_end": 7031.6,
                        "count": 0
                      },
                      {
                        "bin_start": 7031.6,
                        "bin_end": 7592.4,
                        "count": 0
                      },
                      {
                        "bin_start": 7592.4,
                        "bin_end": 8153.2,
                        "count": 0
                      },
                      {
                        "bin_start": 8153.2,
                        "bin_end": 8714,
                        "count": 1
                      },
                      {
                        "bin_start": 8714,
                        "bin_end": 9274.8,
                        "count": 1
                      },
                      {
                        "bin_start": 9274.8,
                        "bin_end": 9835.599999999999,
                        "count": 0
                      },
                      {
                        "bin_start": 9835.599999999999,
                        "bin_end": 10396.4,
                        "count": 0
                      },
                      {
                        "bin_start": 10396.4,
                        "bin_end": 10957.2,
                        "count": 0
                      },
                      {
                        "bin_start": 10957.2,
                        "bin_end": 11518,
                        "count": 1
                      }
                    ]
                  }
                },
                {
                  "name": "YEAR",
                  "dtype": "object",
                  "stats": {
                    "unique_count": 5,
                    "nan_count": 0,
                    "categories": [
                      {
                        "name": "2005",
                        "count": 1
                      },
                      {
                        "name": "2017",
                        "count": 1
                      },
                      {
                        "name": "3 others",
                        "count": 3
                      }
                    ]
                  }
                },
                {
                  "name": "_deepnote_index_column",
                  "dtype": "int64"
                }
              ],
              "rows_top": [
                {
                  "UNITID": 163268,
                  "INSTNM": "University of Maryland-Baltimore County",
                  "STABBR": "MD",
                  "REGION": 2,
                  "ADM_RATE": "0.7143",
                  "TUITIONFEE_IN": "8520.0",
                  "YEAR": "2005",
                  "_deepnote_index_column": 1819
                },
                {
                  "UNITID": 163268,
                  "INSTNM": "University of Maryland-Baltimore County",
                  "STABBR": "MD",
                  "REGION": 2,
                  "ADM_RATE": "0.6021",
                  "TUITIONFEE_IN": "11518.0",
                  "YEAR": "2017",
                  "_deepnote_index_column": 1478
                },
                {
                  "UNITID": 163268,
                  "INSTNM": "University of Maryland-Baltimore County",
                  "STABBR": "MD",
                  "REGION": 2,
                  "ADM_RATE": "0.6551",
                  "TUITIONFEE_IN": "5910.0",
                  "YEAR": "2001",
                  "_deepnote_index_column": 1915
                },
                {
                  "UNITID": 163268,
                  "INSTNM": "University of Maryland-Baltimore County",
                  "STABBR": "MD",
                  "REGION": 2,
                  "ADM_RATE": "0.7174",
                  "TUITIONFEE_IN": "8780.0",
                  "YEAR": "2008",
                  "_deepnote_index_column": 1767
                },
                {
                  "UNITID": 163268,
                  "INSTNM": "University of Maryland-Baltimore County",
                  "STABBR": "MD",
                  "REGION": 2,
                  "ADM_RATE": "nan",
                  "TUITIONFEE_IN": "nan",
                  "YEAR": "1997",
                  "_deepnote_index_column": 2049
                }
              ],
              "rows_bottom": null
            },
            "text/plain": "      UNITID                                   INSTNM STABBR  REGION  \\\n1819  163268  University of Maryland-Baltimore County     MD     2.0   \n1478  163268  University of Maryland-Baltimore County     MD     2.0   \n1915  163268  University of Maryland-Baltimore County     MD     2.0   \n1767  163268  University of Maryland-Baltimore County     MD     2.0   \n2049  163268  University of Maryland-Baltimore County     MD     2.0   \n\n      ADM_RATE  TUITIONFEE_IN  YEAR  \n1819    0.7143         8520.0  2005  \n1478    0.6021        11518.0  2017  \n1915    0.6551         5910.0  2001  \n1767    0.7174         8780.0  2008  \n2049       NaN            NaN  1997  ",
            "text/html": "<div>\n<style scoped>\n    .dataframe tbody tr th:only-of-type {\n        vertical-align: middle;\n    }\n\n    .dataframe tbody tr th {\n        vertical-align: top;\n    }\n\n    .dataframe thead th {\n        text-align: right;\n    }\n</style>\n<table border=\"1\" class=\"dataframe\">\n  <thead>\n    <tr style=\"text-align: right;\">\n      <th></th>\n      <th>UNITID</th>\n      <th>INSTNM</th>\n      <th>STABBR</th>\n      <th>REGION</th>\n      <th>ADM_RATE</th>\n      <th>TUITIONFEE_IN</th>\n      <th>YEAR</th>\n    </tr>\n  </thead>\n  <tbody>\n    <tr>\n      <th>1819</th>\n      <td>163268</td>\n      <td>University of Maryland-Baltimore County</td>\n      <td>MD</td>\n      <td>2.0</td>\n      <td>0.7143</td>\n      <td>8520.0</td>\n      <td>2005</td>\n    </tr>\n    <tr>\n      <th>1478</th>\n      <td>163268</td>\n      <td>University of Maryland-Baltimore County</td>\n      <td>MD</td>\n      <td>2.0</td>\n      <td>0.6021</td>\n      <td>11518.0</td>\n      <td>2017</td>\n    </tr>\n    <tr>\n      <th>1915</th>\n      <td>163268</td>\n      <td>University of Maryland-Baltimore County</td>\n      <td>MD</td>\n      <td>2.0</td>\n      <td>0.6551</td>\n      <td>5910.0</td>\n      <td>2001</td>\n    </tr>\n    <tr>\n      <th>1767</th>\n      <td>163268</td>\n      <td>University of Maryland-Baltimore County</td>\n      <td>MD</td>\n      <td>2.0</td>\n      <td>0.7174</td>\n      <td>8780.0</td>\n      <td>2008</td>\n    </tr>\n    <tr>\n      <th>2049</th>\n      <td>163268</td>\n      <td>University of Maryland-Baltimore County</td>\n      <td>MD</td>\n      <td>2.0</td>\n      <td>NaN</td>\n      <td>NaN</td>\n      <td>1997</td>\n    </tr>\n  </tbody>\n</table>\n</div>"
          },
          "metadata": {}
        }
      ]
    },
    {
      "cell_type": "code",
      "metadata": {
        "tags": [],
        "cell_id": "00027-cfe9cd3c-d5d0-4752-a9dd-537ee28e70e5",
        "deepnote_to_be_reexecuted": false,
        "source_hash": "c241ede5",
        "execution_start": 1618196739923,
        "execution_millis": 8,
        "deepnote_cell_type": "code"
      },
      "source": "df_umbc[df_umbc.isna().any(axis=1)] # find and display any null data",
      "execution_count": null,
      "outputs": [
        {
          "output_type": "execute_result",
          "execution_count": 129,
          "data": {
            "application/vnd.deepnote.dataframe.v2+json": {
              "row_count": 5,
              "column_count": 7,
              "columns": [
                {
                  "name": "UNITID",
                  "dtype": "int64",
                  "stats": {
                    "unique_count": 1,
                    "nan_count": 0,
                    "min": 163268,
                    "max": 163268,
                    "histogram": [
                      {
                        "bin_start": 163267.5,
                        "bin_end": 163267.6,
                        "count": 0
                      },
                      {
                        "bin_start": 163267.6,
                        "bin_end": 163267.7,
                        "count": 0
                      },
                      {
                        "bin_start": 163267.7,
                        "bin_end": 163267.8,
                        "count": 0
                      },
                      {
                        "bin_start": 163267.8,
                        "bin_end": 163267.9,
                        "count": 0
                      },
                      {
                        "bin_start": 163267.9,
                        "bin_end": 163268,
                        "count": 0
                      },
                      {
                        "bin_start": 163268,
                        "bin_end": 163268.1,
                        "count": 5
                      },
                      {
                        "bin_start": 163268.1,
                        "bin_end": 163268.2,
                        "count": 0
                      },
                      {
                        "bin_start": 163268.2,
                        "bin_end": 163268.3,
                        "count": 0
                      },
                      {
                        "bin_start": 163268.3,
                        "bin_end": 163268.4,
                        "count": 0
                      },
                      {
                        "bin_start": 163268.4,
                        "bin_end": 163268.5,
                        "count": 0
                      }
                    ]
                  }
                },
                {
                  "name": "INSTNM",
                  "dtype": "object",
                  "stats": {
                    "unique_count": 1,
                    "nan_count": 0,
                    "categories": [
                      {
                        "name": "University of Maryland-Baltimore County",
                        "count": 5
                      }
                    ]
                  }
                },
                {
                  "name": "STABBR",
                  "dtype": "object",
                  "stats": {
                    "unique_count": 1,
                    "nan_count": 0,
                    "categories": [
                      {
                        "name": "MD",
                        "count": 5
                      }
                    ]
                  }
                },
                {
                  "name": "REGION",
                  "dtype": "float64",
                  "stats": {
                    "unique_count": 1,
                    "nan_count": 0,
                    "min": 2,
                    "max": 2,
                    "histogram": [
                      {
                        "bin_start": 1.5,
                        "bin_end": 1.6,
                        "count": 0
                      },
                      {
                        "bin_start": 1.6,
                        "bin_end": 1.7,
                        "count": 0
                      },
                      {
                        "bin_start": 1.7,
                        "bin_end": 1.8,
                        "count": 0
                      },
                      {
                        "bin_start": 1.8,
                        "bin_end": 1.9,
                        "count": 0
                      },
                      {
                        "bin_start": 1.9,
                        "bin_end": 2,
                        "count": 0
                      },
                      {
                        "bin_start": 2,
                        "bin_end": 2.1,
                        "count": 5
                      },
                      {
                        "bin_start": 2.1,
                        "bin_end": 2.2,
                        "count": 0
                      },
                      {
                        "bin_start": 2.2,
                        "bin_end": 2.3,
                        "count": 0
                      },
                      {
                        "bin_start": 2.3,
                        "bin_end": 2.4,
                        "count": 0
                      },
                      {
                        "bin_start": 2.4,
                        "bin_end": 2.5,
                        "count": 0
                      }
                    ]
                  }
                },
                {
                  "name": "ADM_RATE",
                  "dtype": "float64",
                  "stats": {
                    "unique_count": 0,
                    "nan_count": 5,
                    "min": null,
                    "max": null,
                    "histogram": [
                      {
                        "bin_start": 0,
                        "bin_end": 0.1,
                        "count": 0
                      },
                      {
                        "bin_start": 0.1,
                        "bin_end": 0.2,
                        "count": 0
                      },
                      {
                        "bin_start": 0.2,
                        "bin_end": 0.30000000000000004,
                        "count": 0
                      },
                      {
                        "bin_start": 0.30000000000000004,
                        "bin_end": 0.4,
                        "count": 0
                      },
                      {
                        "bin_start": 0.4,
                        "bin_end": 0.5,
                        "count": 0
                      },
                      {
                        "bin_start": 0.5,
                        "bin_end": 0.6000000000000001,
                        "count": 0
                      },
                      {
                        "bin_start": 0.6000000000000001,
                        "bin_end": 0.7000000000000001,
                        "count": 0
                      },
                      {
                        "bin_start": 0.7000000000000001,
                        "bin_end": 0.8,
                        "count": 0
                      },
                      {
                        "bin_start": 0.8,
                        "bin_end": 0.9,
                        "count": 0
                      },
                      {
                        "bin_start": 0.9,
                        "bin_end": 1,
                        "count": 0
                      }
                    ]
                  }
                },
                {
                  "name": "TUITIONFEE_IN",
                  "dtype": "float64",
                  "stats": {
                    "unique_count": 1,
                    "nan_count": 4,
                    "min": 5490,
                    "max": 5490,
                    "histogram": [
                      {
                        "bin_start": 5489.5,
                        "bin_end": 5489.6,
                        "count": 0
                      },
                      {
                        "bin_start": 5489.6,
                        "bin_end": 5489.7,
                        "count": 0
                      },
                      {
                        "bin_start": 5489.7,
                        "bin_end": 5489.8,
                        "count": 0
                      },
                      {
                        "bin_start": 5489.8,
                        "bin_end": 5489.9,
                        "count": 0
                      },
                      {
                        "bin_start": 5489.9,
                        "bin_end": 5490,
                        "count": 0
                      },
                      {
                        "bin_start": 5490,
                        "bin_end": 5490.1,
                        "count": 1
                      },
                      {
                        "bin_start": 5490.1,
                        "bin_end": 5490.2,
                        "count": 0
                      },
                      {
                        "bin_start": 5490.2,
                        "bin_end": 5490.3,
                        "count": 0
                      },
                      {
                        "bin_start": 5490.3,
                        "bin_end": 5490.4,
                        "count": 0
                      },
                      {
                        "bin_start": 5490.4,
                        "bin_end": 5490.5,
                        "count": 0
                      }
                    ]
                  }
                },
                {
                  "name": "YEAR",
                  "dtype": "object",
                  "stats": {
                    "unique_count": 5,
                    "nan_count": 0,
                    "categories": [
                      {
                        "name": "1996",
                        "count": 1
                      },
                      {
                        "name": "1997",
                        "count": 1
                      },
                      {
                        "name": "3 others",
                        "count": 3
                      }
                    ]
                  }
                },
                {
                  "name": "_deepnote_index_column",
                  "dtype": "int64"
                }
              ],
              "rows_top": [
                {
                  "UNITID": 163268,
                  "INSTNM": "University of Maryland-Baltimore County",
                  "STABBR": "MD",
                  "REGION": 2,
                  "ADM_RATE": "nan",
                  "TUITIONFEE_IN": "nan",
                  "YEAR": "1996",
                  "_deepnote_index_column": 2151
                },
                {
                  "UNITID": 163268,
                  "INSTNM": "University of Maryland-Baltimore County",
                  "STABBR": "MD",
                  "REGION": 2,
                  "ADM_RATE": "nan",
                  "TUITIONFEE_IN": "nan",
                  "YEAR": "1997",
                  "_deepnote_index_column": 2049
                },
                {
                  "UNITID": 163268,
                  "INSTNM": "University of Maryland-Baltimore County",
                  "STABBR": "MD",
                  "REGION": 2,
                  "ADM_RATE": "nan",
                  "TUITIONFEE_IN": "nan",
                  "YEAR": "1998",
                  "_deepnote_index_column": 1982
                },
                {
                  "UNITID": 163268,
                  "INSTNM": "University of Maryland-Baltimore County",
                  "STABBR": "MD",
                  "REGION": 2,
                  "ADM_RATE": "nan",
                  "TUITIONFEE_IN": "nan",
                  "YEAR": "1999",
                  "_deepnote_index_column": 1955
                },
                {
                  "UNITID": 163268,
                  "INSTNM": "University of Maryland-Baltimore County",
                  "STABBR": "MD",
                  "REGION": 2,
                  "ADM_RATE": "nan",
                  "TUITIONFEE_IN": "5490.0",
                  "YEAR": "2000",
                  "_deepnote_index_column": 1926
                }
              ],
              "rows_bottom": null
            },
            "text/plain": "      UNITID                                   INSTNM STABBR  REGION  \\\n2151  163268  University of Maryland-Baltimore County     MD     2.0   \n2049  163268  University of Maryland-Baltimore County     MD     2.0   \n1982  163268  University of Maryland-Baltimore County     MD     2.0   \n1955  163268  University of Maryland-Baltimore County     MD     2.0   \n1926  163268  University of Maryland-Baltimore County     MD     2.0   \n\n      ADM_RATE  TUITIONFEE_IN  YEAR  \n2151       NaN            NaN  1996  \n2049       NaN            NaN  1997  \n1982       NaN            NaN  1998  \n1955       NaN            NaN  1999  \n1926       NaN         5490.0  2000  ",
            "text/html": "<div>\n<style scoped>\n    .dataframe tbody tr th:only-of-type {\n        vertical-align: middle;\n    }\n\n    .dataframe tbody tr th {\n        vertical-align: top;\n    }\n\n    .dataframe thead th {\n        text-align: right;\n    }\n</style>\n<table border=\"1\" class=\"dataframe\">\n  <thead>\n    <tr style=\"text-align: right;\">\n      <th></th>\n      <th>UNITID</th>\n      <th>INSTNM</th>\n      <th>STABBR</th>\n      <th>REGION</th>\n      <th>ADM_RATE</th>\n      <th>TUITIONFEE_IN</th>\n      <th>YEAR</th>\n    </tr>\n  </thead>\n  <tbody>\n    <tr>\n      <th>2151</th>\n      <td>163268</td>\n      <td>University of Maryland-Baltimore County</td>\n      <td>MD</td>\n      <td>2.0</td>\n      <td>NaN</td>\n      <td>NaN</td>\n      <td>1996</td>\n    </tr>\n    <tr>\n      <th>2049</th>\n      <td>163268</td>\n      <td>University of Maryland-Baltimore County</td>\n      <td>MD</td>\n      <td>2.0</td>\n      <td>NaN</td>\n      <td>NaN</td>\n      <td>1997</td>\n    </tr>\n    <tr>\n      <th>1982</th>\n      <td>163268</td>\n      <td>University of Maryland-Baltimore County</td>\n      <td>MD</td>\n      <td>2.0</td>\n      <td>NaN</td>\n      <td>NaN</td>\n      <td>1998</td>\n    </tr>\n    <tr>\n      <th>1955</th>\n      <td>163268</td>\n      <td>University of Maryland-Baltimore County</td>\n      <td>MD</td>\n      <td>2.0</td>\n      <td>NaN</td>\n      <td>NaN</td>\n      <td>1999</td>\n    </tr>\n    <tr>\n      <th>1926</th>\n      <td>163268</td>\n      <td>University of Maryland-Baltimore County</td>\n      <td>MD</td>\n      <td>2.0</td>\n      <td>NaN</td>\n      <td>5490.0</td>\n      <td>2000</td>\n    </tr>\n  </tbody>\n</table>\n</div>"
          },
          "metadata": {}
        }
      ]
    },
    {
      "cell_type": "code",
      "metadata": {
        "tags": [],
        "cell_id": "00028-a6f9e1f3-53bf-48d8-a662-7240d0d77ee9",
        "deepnote_to_be_reexecuted": false,
        "source_hash": "af74277b",
        "execution_millis": 39,
        "execution_start": 1618196958413,
        "deepnote_cell_type": "code"
      },
      "source": "df_umbc[['ADM_RATE', 'TUITIONFEE_IN']].describe() # overall statistics for each (other columns are omitted here because they dont contain numerical data)",
      "execution_count": null,
      "outputs": [
        {
          "output_type": "execute_result",
          "execution_count": 132,
          "data": {
            "application/vnd.deepnote.dataframe.v2+json": {
              "row_count": 8,
              "column_count": 2,
              "columns": [
                {
                  "name": "ADM_RATE",
                  "dtype": "float64",
                  "stats": {
                    "unique_count": 8,
                    "nan_count": 0,
                    "min": 0.052727651772461005,
                    "max": 18,
                    "histogram": [
                      {
                        "bin_start": 0.052727651772461005,
                        "bin_end": 1.847454886595215,
                        "count": 7
                      },
                      {
                        "bin_start": 1.847454886595215,
                        "bin_end": 3.6421821214179686,
                        "count": 0
                      },
                      {
                        "bin_start": 3.6421821214179686,
                        "bin_end": 5.436909356240722,
                        "count": 0
                      },
                      {
                        "bin_start": 5.436909356240722,
                        "bin_end": 7.231636591063476,
                        "count": 0
                      },
                      {
                        "bin_start": 7.231636591063476,
                        "bin_end": 9.02636382588623,
                        "count": 0
                      },
                      {
                        "bin_start": 9.02636382588623,
                        "bin_end": 10.821091060708984,
                        "count": 0
                      },
                      {
                        "bin_start": 10.821091060708984,
                        "bin_end": 12.615818295531739,
                        "count": 0
                      },
                      {
                        "bin_start": 12.615818295531739,
                        "bin_end": 14.410545530354492,
                        "count": 0
                      },
                      {
                        "bin_start": 14.410545530354492,
                        "bin_end": 16.205272765177245,
                        "count": 0
                      },
                      {
                        "bin_start": 16.205272765177245,
                        "bin_end": 18,
                        "count": 1
                      }
                    ]
                  }
                },
                {
                  "name": "TUITIONFEE_IN",
                  "dtype": "float64",
                  "stats": {
                    "unique_count": 8,
                    "nan_count": 0,
                    "min": 19,
                    "max": 11778,
                    "histogram": [
                      {
                        "bin_start": 19,
                        "bin_end": 1194.9,
                        "count": 1
                      },
                      {
                        "bin_start": 1194.9,
                        "bin_end": 2370.8,
                        "count": 1
                      },
                      {
                        "bin_start": 2370.8,
                        "bin_end": 3546.7000000000003,
                        "count": 0
                      },
                      {
                        "bin_start": 3546.7000000000003,
                        "bin_end": 4722.6,
                        "count": 0
                      },
                      {
                        "bin_start": 4722.6,
                        "bin_end": 5898.5,
                        "count": 1
                      },
                      {
                        "bin_start": 5898.5,
                        "bin_end": 7074.400000000001,
                        "count": 0
                      },
                      {
                        "bin_start": 7074.400000000001,
                        "bin_end": 8250.300000000001,
                        "count": 0
                      },
                      {
                        "bin_start": 8250.300000000001,
                        "bin_end": 9426.2,
                        "count": 3
                      },
                      {
                        "bin_start": 9426.2,
                        "bin_end": 10602.1,
                        "count": 1
                      },
                      {
                        "bin_start": 10602.1,
                        "bin_end": 11778,
                        "count": 1
                      }
                    ]
                  }
                },
                {
                  "name": "_deepnote_index_column",
                  "dtype": "object"
                }
              ],
              "rows_top": [
                {
                  "ADM_RATE": 18,
                  "TUITIONFEE_IN": 19,
                  "_deepnote_index_column": "count"
                },
                {
                  "ADM_RATE": 0.6406944444444446,
                  "TUITIONFEE_IN": 9004.842105263158,
                  "_deepnote_index_column": "mean"
                },
                {
                  "ADM_RATE": 0.052727651772461005,
                  "TUITIONFEE_IN": 1825.7954206670186,
                  "_deepnote_index_column": "std"
                },
                {
                  "ADM_RATE": 0.5683,
                  "TUITIONFEE_IN": 5490,
                  "_deepnote_index_column": "min"
                },
                {
                  "ADM_RATE": 0.5976,
                  "TUITIONFEE_IN": 8270,
                  "_deepnote_index_column": "25%"
                },
                {
                  "ADM_RATE": 0.6321,
                  "TUITIONFEE_IN": 8872,
                  "_deepnote_index_column": "50%"
                },
                {
                  "ADM_RATE": 0.6893750000000001,
                  "TUITIONFEE_IN": 10226,
                  "_deepnote_index_column": "75%"
                },
                {
                  "ADM_RATE": 0.7174,
                  "TUITIONFEE_IN": 11778,
                  "_deepnote_index_column": "max"
                }
              ],
              "rows_bottom": null
            },
            "text/plain": "        ADM_RATE  TUITIONFEE_IN\ncount  18.000000      19.000000\nmean    0.640694    9004.842105\nstd     0.052728    1825.795421\nmin     0.568300    5490.000000\n25%     0.597600    8270.000000\n50%     0.632100    8872.000000\n75%     0.689375   10226.000000\nmax     0.717400   11778.000000",
            "text/html": "<div>\n<style scoped>\n    .dataframe tbody tr th:only-of-type {\n        vertical-align: middle;\n    }\n\n    .dataframe tbody tr th {\n        vertical-align: top;\n    }\n\n    .dataframe thead th {\n        text-align: right;\n    }\n</style>\n<table border=\"1\" class=\"dataframe\">\n  <thead>\n    <tr style=\"text-align: right;\">\n      <th></th>\n      <th>ADM_RATE</th>\n      <th>TUITIONFEE_IN</th>\n    </tr>\n  </thead>\n  <tbody>\n    <tr>\n      <th>count</th>\n      <td>18.000000</td>\n      <td>19.000000</td>\n    </tr>\n    <tr>\n      <th>mean</th>\n      <td>0.640694</td>\n      <td>9004.842105</td>\n    </tr>\n    <tr>\n      <th>std</th>\n      <td>0.052728</td>\n      <td>1825.795421</td>\n    </tr>\n    <tr>\n      <th>min</th>\n      <td>0.568300</td>\n      <td>5490.000000</td>\n    </tr>\n    <tr>\n      <th>25%</th>\n      <td>0.597600</td>\n      <td>8270.000000</td>\n    </tr>\n    <tr>\n      <th>50%</th>\n      <td>0.632100</td>\n      <td>8872.000000</td>\n    </tr>\n    <tr>\n      <th>75%</th>\n      <td>0.689375</td>\n      <td>10226.000000</td>\n    </tr>\n    <tr>\n      <th>max</th>\n      <td>0.717400</td>\n      <td>11778.000000</td>\n    </tr>\n  </tbody>\n</table>\n</div>"
          },
          "metadata": {}
        }
      ]
    },
    {
      "cell_type": "markdown",
      "source": "## <9> \nPlot UMBC's in-state tution overtime from 1996 to 2019 using Bar Chart\n",
      "metadata": {
        "id": "5Poy4ciz6zLy",
        "cell_id": "00010-48d9353b-2cdf-473e-a9fd-bef06e1c523f",
        "deepnote_to_be_reexecuted": false,
        "source_hash": "a755c939",
        "execution_start": 1618162046019,
        "execution_millis": 0,
        "deepnote_cell_type": "markdown"
      }
    },
    {
      "cell_type": "code",
      "metadata": {
        "tags": [],
        "cell_id": "00030-cfd898ff-32c4-46ca-9c09-d4f885a89f76",
        "deepnote_to_be_reexecuted": false,
        "source_hash": "170b340e",
        "execution_millis": 58,
        "execution_start": 1618226674877,
        "deepnote_cell_type": "code"
      },
      "source": "fig_instate_bar = px.bar(df_umbc,\n                    x= 'YEAR',\n                    y='TUITIONFEE_IN'\n                    )\n\nfig_instate_bar.show()",
      "execution_count": null,
      "outputs": [
        {
          "data": {
            "text/html": "<html>\n<head><meta charset=\"utf-8\" /></head>\n<body>\n    <div>            <script src=\"https://cdnjs.cloudflare.com/ajax/libs/mathjax/2.7.5/MathJax.js?config=TeX-AMS-MML_SVG\"></script><script type=\"text/javascript\">if (window.MathJax) {MathJax.Hub.Config({SVG: {font: \"STIX-Web\"}});}</script>                <script type=\"text/javascript\">window.PlotlyConfig = {MathJaxConfig: 'local'};</script>\n        <script src=\"https://cdn.plot.ly/plotly-latest.min.js\"></script>                <div id=\"9bbdaf1a-88e1-495e-94fd-0ce3da09c3f9\" class=\"plotly-graph-div\" style=\"height:525px; width:100%;\"></div>            <script type=\"text/javascript\">                                    window.PLOTLYENV=window.PLOTLYENV || {};                                    if (document.getElementById(\"9bbdaf1a-88e1-495e-94fd-0ce3da09c3f9\")) {                    Plotly.newPlot(                        \"9bbdaf1a-88e1-495e-94fd-0ce3da09c3f9\",                        [{\"alignmentgroup\": \"True\", \"hovertemplate\": \"YEAR=%{x}<br>TUITIONFEE_IN=%{y}<extra></extra>\", \"legendgroup\": \"\", \"marker\": {\"color\": \"#636efa\"}, \"name\": \"\", \"offsetgroup\": \"\", \"orientation\": \"v\", \"showlegend\": false, \"textposition\": \"auto\", \"type\": \"bar\", \"x\": [\"1996\", \"1997\", \"1998\", \"1999\", \"2000\", \"2001\", \"2002\", \"2003\", \"2004\", \"2005\", \"2006\", \"2007\", \"2008\", \"2009\", \"2010\", \"2011\", \"2012\", \"2013\", \"2014\", \"2015\", \"2016\", \"2017\", \"2018\"], \"xaxis\": \"x\", \"y\": [null, null, null, null, 5490.0, 5910.0, 6362.0, 7388.0, 8020.0, 8520.0, 8622.0, 8708.0, 8780.0, 8872.0, 9171.0, 9467.0, 9764.0, 10068.0, 10384.0, 11006.0, 11264.0, 11518.0, 11778.0], \"yaxis\": \"y\"}],                        {\"barmode\": \"relative\", \"legend\": {\"tracegroupgap\": 0}, \"margin\": {\"t\": 60}, \"template\": {\"data\": {\"bar\": [{\"error_x\": {\"color\": \"#2a3f5f\"}, \"error_y\": {\"color\": \"#2a3f5f\"}, \"marker\": {\"line\": {\"color\": \"#E5ECF6\", \"width\": 0.5}}, \"type\": \"bar\"}], \"barpolar\": [{\"marker\": {\"line\": {\"color\": \"#E5ECF6\", \"width\": 0.5}}, \"type\": \"barpolar\"}], \"carpet\": [{\"aaxis\": {\"endlinecolor\": \"#2a3f5f\", \"gridcolor\": \"white\", \"linecolor\": \"white\", \"minorgridcolor\": \"white\", \"startlinecolor\": \"#2a3f5f\"}, \"baxis\": {\"endlinecolor\": \"#2a3f5f\", \"gridcolor\": \"white\", \"linecolor\": \"white\", \"minorgridcolor\": \"white\", \"startlinecolor\": \"#2a3f5f\"}, \"type\": \"carpet\"}], \"choropleth\": [{\"colorbar\": {\"outlinewidth\": 0, \"ticks\": \"\"}, \"type\": \"choropleth\"}], \"contour\": [{\"colorbar\": {\"outlinewidth\": 0, \"ticks\": \"\"}, \"colorscale\": [[0.0, \"#0d0887\"], [0.1111111111111111, \"#46039f\"], [0.2222222222222222, \"#7201a8\"], [0.3333333333333333, \"#9c179e\"], [0.4444444444444444, \"#bd3786\"], [0.5555555555555556, \"#d8576b\"], [0.6666666666666666, \"#ed7953\"], [0.7777777777777778, \"#fb9f3a\"], [0.8888888888888888, \"#fdca26\"], [1.0, \"#f0f921\"]], \"type\": \"contour\"}], \"contourcarpet\": [{\"colorbar\": {\"outlinewidth\": 0, \"ticks\": \"\"}, \"type\": \"contourcarpet\"}], \"heatmap\": [{\"colorbar\": {\"outlinewidth\": 0, \"ticks\": \"\"}, \"colorscale\": [[0.0, \"#0d0887\"], [0.1111111111111111, \"#46039f\"], [0.2222222222222222, \"#7201a8\"], [0.3333333333333333, \"#9c179e\"], [0.4444444444444444, \"#bd3786\"], [0.5555555555555556, \"#d8576b\"], [0.6666666666666666, \"#ed7953\"], [0.7777777777777778, \"#fb9f3a\"], [0.8888888888888888, \"#fdca26\"], [1.0, \"#f0f921\"]], \"type\": \"heatmap\"}], \"heatmapgl\": [{\"colorbar\": {\"outlinewidth\": 0, \"ticks\": \"\"}, \"colorscale\": [[0.0, \"#0d0887\"], [0.1111111111111111, \"#46039f\"], [0.2222222222222222, \"#7201a8\"], [0.3333333333333333, \"#9c179e\"], [0.4444444444444444, \"#bd3786\"], [0.5555555555555556, \"#d8576b\"], [0.6666666666666666, \"#ed7953\"], [0.7777777777777778, \"#fb9f3a\"], [0.8888888888888888, \"#fdca26\"], [1.0, \"#f0f921\"]], \"type\": \"heatmapgl\"}], \"histogram\": [{\"marker\": {\"colorbar\": {\"outlinewidth\": 0, \"ticks\": \"\"}}, \"type\": \"histogram\"}], \"histogram2d\": [{\"colorbar\": {\"outlinewidth\": 0, \"ticks\": \"\"}, \"colorscale\": [[0.0, \"#0d0887\"], [0.1111111111111111, \"#46039f\"], [0.2222222222222222, \"#7201a8\"], [0.3333333333333333, \"#9c179e\"], [0.4444444444444444, \"#bd3786\"], [0.5555555555555556, \"#d8576b\"], [0.6666666666666666, \"#ed7953\"], [0.7777777777777778, \"#fb9f3a\"], [0.8888888888888888, \"#fdca26\"], [1.0, \"#f0f921\"]], \"type\": \"histogram2d\"}], \"histogram2dcontour\": [{\"colorbar\": {\"outlinewidth\": 0, \"ticks\": \"\"}, \"colorscale\": [[0.0, \"#0d0887\"], [0.1111111111111111, \"#46039f\"], [0.2222222222222222, \"#7201a8\"], [0.3333333333333333, \"#9c179e\"], [0.4444444444444444, \"#bd3786\"], [0.5555555555555556, \"#d8576b\"], [0.6666666666666666, \"#ed7953\"], [0.7777777777777778, \"#fb9f3a\"], [0.8888888888888888, \"#fdca26\"], [1.0, \"#f0f921\"]], \"type\": \"histogram2dcontour\"}], \"mesh3d\": [{\"colorbar\": {\"outlinewidth\": 0, \"ticks\": \"\"}, \"type\": \"mesh3d\"}], \"parcoords\": [{\"line\": {\"colorbar\": {\"outlinewidth\": 0, \"ticks\": \"\"}}, \"type\": \"parcoords\"}], \"pie\": [{\"automargin\": true, \"type\": \"pie\"}], \"scatter\": [{\"marker\": {\"colorbar\": {\"outlinewidth\": 0, \"ticks\": \"\"}}, \"type\": \"scatter\"}], \"scatter3d\": [{\"line\": {\"colorbar\": {\"outlinewidth\": 0, \"ticks\": \"\"}}, \"marker\": {\"colorbar\": {\"outlinewidth\": 0, \"ticks\": \"\"}}, \"type\": \"scatter3d\"}], \"scattercarpet\": [{\"marker\": {\"colorbar\": {\"outlinewidth\": 0, \"ticks\": \"\"}}, \"type\": \"scattercarpet\"}], \"scattergeo\": [{\"marker\": {\"colorbar\": {\"outlinewidth\": 0, \"ticks\": \"\"}}, \"type\": \"scattergeo\"}], \"scattergl\": [{\"marker\": {\"colorbar\": {\"outlinewidth\": 0, \"ticks\": \"\"}}, \"type\": \"scattergl\"}], \"scattermapbox\": [{\"marker\": {\"colorbar\": {\"outlinewidth\": 0, \"ticks\": \"\"}}, \"type\": \"scattermapbox\"}], \"scatterpolar\": [{\"marker\": {\"colorbar\": {\"outlinewidth\": 0, \"ticks\": \"\"}}, \"type\": \"scatterpolar\"}], \"scatterpolargl\": [{\"marker\": {\"colorbar\": {\"outlinewidth\": 0, \"ticks\": \"\"}}, \"type\": \"scatterpolargl\"}], \"scatterternary\": [{\"marker\": {\"colorbar\": {\"outlinewidth\": 0, \"ticks\": \"\"}}, \"type\": \"scatterternary\"}], \"surface\": [{\"colorbar\": {\"outlinewidth\": 0, \"ticks\": \"\"}, \"colorscale\": [[0.0, \"#0d0887\"], [0.1111111111111111, \"#46039f\"], [0.2222222222222222, \"#7201a8\"], [0.3333333333333333, \"#9c179e\"], [0.4444444444444444, \"#bd3786\"], [0.5555555555555556, \"#d8576b\"], [0.6666666666666666, \"#ed7953\"], [0.7777777777777778, \"#fb9f3a\"], [0.8888888888888888, \"#fdca26\"], [1.0, \"#f0f921\"]], \"type\": \"surface\"}], \"table\": [{\"cells\": {\"fill\": {\"color\": \"#EBF0F8\"}, \"line\": {\"color\": \"white\"}}, \"header\": {\"fill\": {\"color\": \"#C8D4E3\"}, \"line\": {\"color\": \"white\"}}, \"type\": \"table\"}]}, \"layout\": {\"annotationdefaults\": {\"arrowcolor\": \"#2a3f5f\", \"arrowhead\": 0, \"arrowwidth\": 1}, \"autotypenumbers\": \"strict\", \"coloraxis\": {\"colorbar\": {\"outlinewidth\": 0, \"ticks\": \"\"}}, \"colorscale\": {\"diverging\": [[0, \"#8e0152\"], [0.1, \"#c51b7d\"], [0.2, \"#de77ae\"], [0.3, \"#f1b6da\"], [0.4, \"#fde0ef\"], [0.5, \"#f7f7f7\"], [0.6, \"#e6f5d0\"], [0.7, \"#b8e186\"], [0.8, \"#7fbc41\"], [0.9, \"#4d9221\"], [1, \"#276419\"]], \"sequential\": [[0.0, \"#0d0887\"], [0.1111111111111111, \"#46039f\"], [0.2222222222222222, \"#7201a8\"], [0.3333333333333333, \"#9c179e\"], [0.4444444444444444, \"#bd3786\"], [0.5555555555555556, \"#d8576b\"], [0.6666666666666666, \"#ed7953\"], [0.7777777777777778, \"#fb9f3a\"], [0.8888888888888888, \"#fdca26\"], [1.0, \"#f0f921\"]], \"sequentialminus\": [[0.0, \"#0d0887\"], [0.1111111111111111, \"#46039f\"], [0.2222222222222222, \"#7201a8\"], [0.3333333333333333, \"#9c179e\"], [0.4444444444444444, \"#bd3786\"], [0.5555555555555556, \"#d8576b\"], [0.6666666666666666, \"#ed7953\"], [0.7777777777777778, \"#fb9f3a\"], [0.8888888888888888, \"#fdca26\"], [1.0, \"#f0f921\"]]}, \"colorway\": [\"#636efa\", \"#EF553B\", \"#00cc96\", \"#ab63fa\", \"#FFA15A\", \"#19d3f3\", \"#FF6692\", \"#B6E880\", \"#FF97FF\", \"#FECB52\"], \"font\": {\"color\": \"#2a3f5f\"}, \"geo\": {\"bgcolor\": \"white\", \"lakecolor\": \"white\", \"landcolor\": \"#E5ECF6\", \"showlakes\": true, \"showland\": true, \"subunitcolor\": \"white\"}, \"hoverlabel\": {\"align\": \"left\"}, \"hovermode\": \"closest\", \"mapbox\": {\"style\": \"light\"}, \"paper_bgcolor\": \"white\", \"plot_bgcolor\": \"#E5ECF6\", \"polar\": {\"angularaxis\": {\"gridcolor\": \"white\", \"linecolor\": \"white\", \"ticks\": \"\"}, \"bgcolor\": \"#E5ECF6\", \"radialaxis\": {\"gridcolor\": \"white\", \"linecolor\": \"white\", \"ticks\": \"\"}}, \"scene\": {\"xaxis\": {\"backgroundcolor\": \"#E5ECF6\", \"gridcolor\": \"white\", \"gridwidth\": 2, \"linecolor\": \"white\", \"showbackground\": true, \"ticks\": \"\", \"zerolinecolor\": \"white\"}, \"yaxis\": {\"backgroundcolor\": \"#E5ECF6\", \"gridcolor\": \"white\", \"gridwidth\": 2, \"linecolor\": \"white\", \"showbackground\": true, \"ticks\": \"\", \"zerolinecolor\": \"white\"}, \"zaxis\": {\"backgroundcolor\": \"#E5ECF6\", \"gridcolor\": \"white\", \"gridwidth\": 2, \"linecolor\": \"white\", \"showbackground\": true, \"ticks\": \"\", \"zerolinecolor\": \"white\"}}, \"shapedefaults\": {\"line\": {\"color\": \"#2a3f5f\"}}, \"ternary\": {\"aaxis\": {\"gridcolor\": \"white\", \"linecolor\": \"white\", \"ticks\": \"\"}, \"baxis\": {\"gridcolor\": \"white\", \"linecolor\": \"white\", \"ticks\": \"\"}, \"bgcolor\": \"#E5ECF6\", \"caxis\": {\"gridcolor\": \"white\", \"linecolor\": \"white\", \"ticks\": \"\"}}, \"title\": {\"x\": 0.05}, \"xaxis\": {\"automargin\": true, \"gridcolor\": \"white\", \"linecolor\": \"white\", \"ticks\": \"\", \"title\": {\"standoff\": 15}, \"zerolinecolor\": \"white\", \"zerolinewidth\": 2}, \"yaxis\": {\"automargin\": true, \"gridcolor\": \"white\", \"linecolor\": \"white\", \"ticks\": \"\", \"title\": {\"standoff\": 15}, \"zerolinecolor\": \"white\", \"zerolinewidth\": 2}}}, \"xaxis\": {\"anchor\": \"y\", \"domain\": [0.0, 1.0], \"title\": {\"text\": \"YEAR\"}}, \"yaxis\": {\"anchor\": \"x\", \"domain\": [0.0, 1.0], \"title\": {\"text\": \"TUITIONFEE_IN\"}}},                        {\"responsive\": true}                    ).then(function(){\n                            \nvar gd = document.getElementById('9bbdaf1a-88e1-495e-94fd-0ce3da09c3f9');\nvar x = new MutationObserver(function (mutations, observer) {{\n        var display = window.getComputedStyle(gd).display;\n        if (!display || display === 'none') {{\n            console.log([gd, 'removed!']);\n            Plotly.purge(gd);\n            observer.disconnect();\n        }}\n}});\n\n// Listen for the removal of the full notebook cells\nvar notebookContainer = gd.closest('#notebook-container');\nif (notebookContainer) {{\n    x.observe(notebookContainer, {childList: true});\n}}\n\n// Listen for the clearing of the current output cell\nvar outputEl = gd.closest('.output');\nif (outputEl) {{\n    x.observe(outputEl, {childList: true});\n}}\n\n                        })                };                            </script>        </div>\n</body>\n</html>"
          },
          "metadata": {},
          "output_type": "display_data"
        }
      ]
    },
    {
      "cell_type": "markdown",
      "source": "## <10> \nPlot UMBC's in-state tution overtime from 1996 to 2019 using Line Chart\n",
      "metadata": {
        "id": "afOQjc1w6zL4",
        "cell_id": "00011-c7dc5816-1eb9-4a76-b305-45633c38594a",
        "deepnote_to_be_reexecuted": false,
        "source_hash": "63adc600",
        "execution_start": 1618162046062,
        "execution_millis": 1,
        "deepnote_cell_type": "markdown"
      }
    },
    {
      "cell_type": "code",
      "metadata": {
        "tags": [],
        "cell_id": "00033-ef584ed2-d056-42cf-a80e-0b8abe531830",
        "deepnote_to_be_reexecuted": false,
        "source_hash": "8fadea62",
        "execution_millis": 110,
        "execution_start": 1618226641531,
        "deepnote_cell_type": "code"
      },
      "source": "fig_instate = px.line(df_umbc,\n                    x= 'YEAR',\n                    y='TUITIONFEE_IN'\n                    )\n\nfig_instate.show()",
      "execution_count": null,
      "outputs": [
        {
          "data": {
            "text/html": "<html>\n<head><meta charset=\"utf-8\" /></head>\n<body>\n    <div>            <script src=\"https://cdnjs.cloudflare.com/ajax/libs/mathjax/2.7.5/MathJax.js?config=TeX-AMS-MML_SVG\"></script><script type=\"text/javascript\">if (window.MathJax) {MathJax.Hub.Config({SVG: {font: \"STIX-Web\"}});}</script>                <script type=\"text/javascript\">window.PlotlyConfig = {MathJaxConfig: 'local'};</script>\n        <script src=\"https://cdn.plot.ly/plotly-latest.min.js\"></script>                <div id=\"f6357289-7910-4067-a051-aa4d026578a2\" class=\"plotly-graph-div\" style=\"height:525px; width:100%;\"></div>            <script type=\"text/javascript\">                                    window.PLOTLYENV=window.PLOTLYENV || {};                                    if (document.getElementById(\"f6357289-7910-4067-a051-aa4d026578a2\")) {                    Plotly.newPlot(                        \"f6357289-7910-4067-a051-aa4d026578a2\",                        [{\"hovertemplate\": \"YEAR=%{x}<br>TUITIONFEE_IN=%{y}<extra></extra>\", \"legendgroup\": \"\", \"line\": {\"color\": \"#636efa\", \"dash\": \"solid\"}, \"mode\": \"lines\", \"name\": \"\", \"orientation\": \"v\", \"showlegend\": false, \"type\": \"scatter\", \"x\": [\"1996\", \"1997\", \"1998\", \"1999\", \"2000\", \"2001\", \"2002\", \"2003\", \"2004\", \"2005\", \"2006\", \"2007\", \"2008\", \"2009\", \"2010\", \"2011\", \"2012\", \"2013\", \"2014\", \"2015\", \"2016\", \"2017\", \"2018\"], \"xaxis\": \"x\", \"y\": [null, null, null, null, 5490.0, 5910.0, 6362.0, 7388.0, 8020.0, 8520.0, 8622.0, 8708.0, 8780.0, 8872.0, 9171.0, 9467.0, 9764.0, 10068.0, 10384.0, 11006.0, 11264.0, 11518.0, 11778.0], \"yaxis\": \"y\"}],                        {\"legend\": {\"tracegroupgap\": 0}, \"margin\": {\"t\": 60}, \"template\": {\"data\": {\"bar\": [{\"error_x\": {\"color\": \"#2a3f5f\"}, \"error_y\": {\"color\": \"#2a3f5f\"}, \"marker\": {\"line\": {\"color\": \"#E5ECF6\", \"width\": 0.5}}, \"type\": \"bar\"}], \"barpolar\": [{\"marker\": {\"line\": {\"color\": \"#E5ECF6\", \"width\": 0.5}}, \"type\": \"barpolar\"}], \"carpet\": [{\"aaxis\": {\"endlinecolor\": \"#2a3f5f\", \"gridcolor\": \"white\", \"linecolor\": \"white\", \"minorgridcolor\": \"white\", \"startlinecolor\": \"#2a3f5f\"}, \"baxis\": {\"endlinecolor\": \"#2a3f5f\", \"gridcolor\": \"white\", \"linecolor\": \"white\", \"minorgridcolor\": \"white\", \"startlinecolor\": \"#2a3f5f\"}, \"type\": \"carpet\"}], \"choropleth\": [{\"colorbar\": {\"outlinewidth\": 0, \"ticks\": \"\"}, \"type\": \"choropleth\"}], \"contour\": [{\"colorbar\": {\"outlinewidth\": 0, \"ticks\": \"\"}, \"colorscale\": [[0.0, \"#0d0887\"], [0.1111111111111111, \"#46039f\"], [0.2222222222222222, \"#7201a8\"], [0.3333333333333333, \"#9c179e\"], [0.4444444444444444, \"#bd3786\"], [0.5555555555555556, \"#d8576b\"], [0.6666666666666666, \"#ed7953\"], [0.7777777777777778, \"#fb9f3a\"], [0.8888888888888888, \"#fdca26\"], [1.0, \"#f0f921\"]], \"type\": \"contour\"}], \"contourcarpet\": [{\"colorbar\": {\"outlinewidth\": 0, \"ticks\": \"\"}, \"type\": \"contourcarpet\"}], \"heatmap\": [{\"colorbar\": {\"outlinewidth\": 0, \"ticks\": \"\"}, \"colorscale\": [[0.0, \"#0d0887\"], [0.1111111111111111, \"#46039f\"], [0.2222222222222222, \"#7201a8\"], [0.3333333333333333, \"#9c179e\"], [0.4444444444444444, \"#bd3786\"], [0.5555555555555556, \"#d8576b\"], [0.6666666666666666, \"#ed7953\"], [0.7777777777777778, \"#fb9f3a\"], [0.8888888888888888, \"#fdca26\"], [1.0, \"#f0f921\"]], \"type\": \"heatmap\"}], \"heatmapgl\": [{\"colorbar\": {\"outlinewidth\": 0, \"ticks\": \"\"}, \"colorscale\": [[0.0, \"#0d0887\"], [0.1111111111111111, \"#46039f\"], [0.2222222222222222, \"#7201a8\"], [0.3333333333333333, \"#9c179e\"], [0.4444444444444444, \"#bd3786\"], [0.5555555555555556, \"#d8576b\"], [0.6666666666666666, \"#ed7953\"], [0.7777777777777778, \"#fb9f3a\"], [0.8888888888888888, \"#fdca26\"], [1.0, \"#f0f921\"]], \"type\": \"heatmapgl\"}], \"histogram\": [{\"marker\": {\"colorbar\": {\"outlinewidth\": 0, \"ticks\": \"\"}}, \"type\": \"histogram\"}], \"histogram2d\": [{\"colorbar\": {\"outlinewidth\": 0, \"ticks\": \"\"}, \"colorscale\": [[0.0, \"#0d0887\"], [0.1111111111111111, \"#46039f\"], [0.2222222222222222, \"#7201a8\"], [0.3333333333333333, \"#9c179e\"], [0.4444444444444444, \"#bd3786\"], [0.5555555555555556, \"#d8576b\"], [0.6666666666666666, \"#ed7953\"], [0.7777777777777778, \"#fb9f3a\"], [0.8888888888888888, \"#fdca26\"], [1.0, \"#f0f921\"]], \"type\": \"histogram2d\"}], \"histogram2dcontour\": [{\"colorbar\": {\"outlinewidth\": 0, \"ticks\": \"\"}, \"colorscale\": [[0.0, \"#0d0887\"], [0.1111111111111111, \"#46039f\"], [0.2222222222222222, \"#7201a8\"], [0.3333333333333333, \"#9c179e\"], [0.4444444444444444, \"#bd3786\"], [0.5555555555555556, \"#d8576b\"], [0.6666666666666666, \"#ed7953\"], [0.7777777777777778, \"#fb9f3a\"], [0.8888888888888888, \"#fdca26\"], [1.0, \"#f0f921\"]], \"type\": \"histogram2dcontour\"}], \"mesh3d\": [{\"colorbar\": {\"outlinewidth\": 0, \"ticks\": \"\"}, \"type\": \"mesh3d\"}], \"parcoords\": [{\"line\": {\"colorbar\": {\"outlinewidth\": 0, \"ticks\": \"\"}}, \"type\": \"parcoords\"}], \"pie\": [{\"automargin\": true, \"type\": \"pie\"}], \"scatter\": [{\"marker\": {\"colorbar\": {\"outlinewidth\": 0, \"ticks\": \"\"}}, \"type\": \"scatter\"}], \"scatter3d\": [{\"line\": {\"colorbar\": {\"outlinewidth\": 0, \"ticks\": \"\"}}, \"marker\": {\"colorbar\": {\"outlinewidth\": 0, \"ticks\": \"\"}}, \"type\": \"scatter3d\"}], \"scattercarpet\": [{\"marker\": {\"colorbar\": {\"outlinewidth\": 0, \"ticks\": \"\"}}, \"type\": \"scattercarpet\"}], \"scattergeo\": [{\"marker\": {\"colorbar\": {\"outlinewidth\": 0, \"ticks\": \"\"}}, \"type\": \"scattergeo\"}], \"scattergl\": [{\"marker\": {\"colorbar\": {\"outlinewidth\": 0, \"ticks\": \"\"}}, \"type\": \"scattergl\"}], \"scattermapbox\": [{\"marker\": {\"colorbar\": {\"outlinewidth\": 0, \"ticks\": \"\"}}, \"type\": \"scattermapbox\"}], \"scatterpolar\": [{\"marker\": {\"colorbar\": {\"outlinewidth\": 0, \"ticks\": \"\"}}, \"type\": \"scatterpolar\"}], \"scatterpolargl\": [{\"marker\": {\"colorbar\": {\"outlinewidth\": 0, \"ticks\": \"\"}}, \"type\": \"scatterpolargl\"}], \"scatterternary\": [{\"marker\": {\"colorbar\": {\"outlinewidth\": 0, \"ticks\": \"\"}}, \"type\": \"scatterternary\"}], \"surface\": [{\"colorbar\": {\"outlinewidth\": 0, \"ticks\": \"\"}, \"colorscale\": [[0.0, \"#0d0887\"], [0.1111111111111111, \"#46039f\"], [0.2222222222222222, \"#7201a8\"], [0.3333333333333333, \"#9c179e\"], [0.4444444444444444, \"#bd3786\"], [0.5555555555555556, \"#d8576b\"], [0.6666666666666666, \"#ed7953\"], [0.7777777777777778, \"#fb9f3a\"], [0.8888888888888888, \"#fdca26\"], [1.0, \"#f0f921\"]], \"type\": \"surface\"}], \"table\": [{\"cells\": {\"fill\": {\"color\": \"#EBF0F8\"}, \"line\": {\"color\": \"white\"}}, \"header\": {\"fill\": {\"color\": \"#C8D4E3\"}, \"line\": {\"color\": \"white\"}}, \"type\": \"table\"}]}, \"layout\": {\"annotationdefaults\": {\"arrowcolor\": \"#2a3f5f\", \"arrowhead\": 0, \"arrowwidth\": 1}, \"autotypenumbers\": \"strict\", \"coloraxis\": {\"colorbar\": {\"outlinewidth\": 0, \"ticks\": \"\"}}, \"colorscale\": {\"diverging\": [[0, \"#8e0152\"], [0.1, \"#c51b7d\"], [0.2, \"#de77ae\"], [0.3, \"#f1b6da\"], [0.4, \"#fde0ef\"], [0.5, \"#f7f7f7\"], [0.6, \"#e6f5d0\"], [0.7, \"#b8e186\"], [0.8, \"#7fbc41\"], [0.9, \"#4d9221\"], [1, \"#276419\"]], \"sequential\": [[0.0, \"#0d0887\"], [0.1111111111111111, \"#46039f\"], [0.2222222222222222, \"#7201a8\"], [0.3333333333333333, \"#9c179e\"], [0.4444444444444444, \"#bd3786\"], [0.5555555555555556, \"#d8576b\"], [0.6666666666666666, \"#ed7953\"], [0.7777777777777778, \"#fb9f3a\"], [0.8888888888888888, \"#fdca26\"], [1.0, \"#f0f921\"]], \"sequentialminus\": [[0.0, \"#0d0887\"], [0.1111111111111111, \"#46039f\"], [0.2222222222222222, \"#7201a8\"], [0.3333333333333333, \"#9c179e\"], [0.4444444444444444, \"#bd3786\"], [0.5555555555555556, \"#d8576b\"], [0.6666666666666666, \"#ed7953\"], [0.7777777777777778, \"#fb9f3a\"], [0.8888888888888888, \"#fdca26\"], [1.0, \"#f0f921\"]]}, \"colorway\": [\"#636efa\", \"#EF553B\", \"#00cc96\", \"#ab63fa\", \"#FFA15A\", \"#19d3f3\", \"#FF6692\", \"#B6E880\", \"#FF97FF\", \"#FECB52\"], \"font\": {\"color\": \"#2a3f5f\"}, \"geo\": {\"bgcolor\": \"white\", \"lakecolor\": \"white\", \"landcolor\": \"#E5ECF6\", \"showlakes\": true, \"showland\": true, \"subunitcolor\": \"white\"}, \"hoverlabel\": {\"align\": \"left\"}, \"hovermode\": \"closest\", \"mapbox\": {\"style\": \"light\"}, \"paper_bgcolor\": \"white\", \"plot_bgcolor\": \"#E5ECF6\", \"polar\": {\"angularaxis\": {\"gridcolor\": \"white\", \"linecolor\": \"white\", \"ticks\": \"\"}, \"bgcolor\": \"#E5ECF6\", \"radialaxis\": {\"gridcolor\": \"white\", \"linecolor\": \"white\", \"ticks\": \"\"}}, \"scene\": {\"xaxis\": {\"backgroundcolor\": \"#E5ECF6\", \"gridcolor\": \"white\", \"gridwidth\": 2, \"linecolor\": \"white\", \"showbackground\": true, \"ticks\": \"\", \"zerolinecolor\": \"white\"}, \"yaxis\": {\"backgroundcolor\": \"#E5ECF6\", \"gridcolor\": \"white\", \"gridwidth\": 2, \"linecolor\": \"white\", \"showbackground\": true, \"ticks\": \"\", \"zerolinecolor\": \"white\"}, \"zaxis\": {\"backgroundcolor\": \"#E5ECF6\", \"gridcolor\": \"white\", \"gridwidth\": 2, \"linecolor\": \"white\", \"showbackground\": true, \"ticks\": \"\", \"zerolinecolor\": \"white\"}}, \"shapedefaults\": {\"line\": {\"color\": \"#2a3f5f\"}}, \"ternary\": {\"aaxis\": {\"gridcolor\": \"white\", \"linecolor\": \"white\", \"ticks\": \"\"}, \"baxis\": {\"gridcolor\": \"white\", \"linecolor\": \"white\", \"ticks\": \"\"}, \"bgcolor\": \"#E5ECF6\", \"caxis\": {\"gridcolor\": \"white\", \"linecolor\": \"white\", \"ticks\": \"\"}}, \"title\": {\"x\": 0.05}, \"xaxis\": {\"automargin\": true, \"gridcolor\": \"white\", \"linecolor\": \"white\", \"ticks\": \"\", \"title\": {\"standoff\": 15}, \"zerolinecolor\": \"white\", \"zerolinewidth\": 2}, \"yaxis\": {\"automargin\": true, \"gridcolor\": \"white\", \"linecolor\": \"white\", \"ticks\": \"\", \"title\": {\"standoff\": 15}, \"zerolinecolor\": \"white\", \"zerolinewidth\": 2}}}, \"xaxis\": {\"anchor\": \"y\", \"domain\": [0.0, 1.0], \"title\": {\"text\": \"YEAR\"}}, \"yaxis\": {\"anchor\": \"x\", \"domain\": [0.0, 1.0], \"title\": {\"text\": \"TUITIONFEE_IN\"}}},                        {\"responsive\": true}                    ).then(function(){\n                            \nvar gd = document.getElementById('f6357289-7910-4067-a051-aa4d026578a2');\nvar x = new MutationObserver(function (mutations, observer) {{\n        var display = window.getComputedStyle(gd).display;\n        if (!display || display === 'none') {{\n            console.log([gd, 'removed!']);\n            Plotly.purge(gd);\n            observer.disconnect();\n        }}\n}});\n\n// Listen for the removal of the full notebook cells\nvar notebookContainer = gd.closest('#notebook-container');\nif (notebookContainer) {{\n    x.observe(notebookContainer, {childList: true});\n}}\n\n// Listen for the clearing of the current output cell\nvar outputEl = gd.closest('.output');\nif (outputEl) {{\n    x.observe(outputEl, {childList: true});\n}}\n\n                        })                };                            </script>        </div>\n</body>\n</html>"
          },
          "metadata": {},
          "output_type": "display_data"
        }
      ]
    },
    {
      "cell_type": "markdown",
      "source": "## <11>\nNow let's look at the tuition growth rate year over year. We need to calculate UMBC tuition change percentage each year.\n\nFirst convert the TUITIONFEE_IN column to a Python List",
      "metadata": {
        "id": "xQLB2f7J6zL-",
        "cell_id": "00012-3cda41ca-1a21-4215-b641-c8452a61360d",
        "deepnote_to_be_reexecuted": false,
        "source_hash": "4802f085",
        "execution_start": 1618162046063,
        "execution_millis": 1,
        "deepnote_cell_type": "markdown"
      }
    },
    {
      "cell_type": "code",
      "metadata": {
        "tags": [],
        "cell_id": "00034-7f4e7763-07de-4a7b-9b69-282f42119f5a",
        "deepnote_to_be_reexecuted": false,
        "source_hash": "657d3340",
        "execution_millis": 7,
        "execution_start": 1618224890152,
        "deepnote_cell_type": "code"
      },
      "source": "umbc_tuition = df_umbc['TUITIONFEE_IN'].tolist()\numbc_tuition",
      "execution_count": null,
      "outputs": [
        {
          "output_type": "execute_result",
          "execution_count": 152,
          "data": {
            "text/plain": "[nan,\n nan,\n nan,\n nan,\n 5490.0,\n 5910.0,\n 6362.0,\n 7388.0,\n 8020.0,\n 8520.0,\n 8622.0,\n 8708.0,\n 8780.0,\n 8872.0,\n 9171.0,\n 9467.0,\n 9764.0,\n 10068.0,\n 10384.0,\n 11006.0,\n 11264.0,\n 11518.0,\n 11778.0]"
          },
          "metadata": {}
        }
      ]
    },
    {
      "cell_type": "markdown",
      "source": "Loop through the list and calculate the % change each year over the prior year\nThis takes some effort. Not hard, just some abstract/logical thinking and some experiments\nHave fun on this one",
      "metadata": {
        "id": "LRUyQCtJ6zMB",
        "cell_id": "00013-214debb0-d591-40d3-94a4-4fbca0861939",
        "deepnote_to_be_reexecuted": false,
        "source_hash": "10989b73",
        "execution_start": 1618162046064,
        "deepnote_cell_type": "markdown"
      }
    },
    {
      "cell_type": "code",
      "metadata": {
        "tags": [],
        "cell_id": "00036-77e95249-ebb7-4171-bf66-cd40cde22836",
        "deepnote_to_be_reexecuted": false,
        "source_hash": "cde6e1af",
        "execution_millis": 10,
        "execution_start": 1618226489976,
        "deepnote_cell_type": "code"
      },
      "source": "prev_tuition = 0\numbc_tuition_change = []\n\nfor cost in umbc_tuition:\n    if cost == cost:\n        if prev_tuition == 0:\n            prev_tuition = cost\n        umbc_pctchange = ((cost - prev_tuition)/prev_tuition) * 100\n        umbc_tuition_change.append(umbc_pctchange)\n    else:\n        umbc_tuition_change.append(cost)\n    prev_tuition = cost\n\numbc_tuition_change",
      "execution_count": null,
      "outputs": [
        {
          "output_type": "execute_result",
          "execution_count": 166,
          "data": {
            "text/plain": "[nan,\n nan,\n nan,\n nan,\n nan,\n 7.650273224043716,\n 7.648054145516074,\n 16.12700408676517,\n 8.554412560909583,\n 6.234413965087282,\n 1.1971830985915493,\n 0.9974483878450475,\n 0.8268259072117593,\n 1.0478359908883828,\n 3.370153291253381,\n 3.227565151019518,\n 3.1372134783986483,\n 3.11347808275297,\n 3.1386571315057608,\n 5.989984591679507,\n 2.344175904052335,\n 2.254971590909091,\n 2.2573363431151243]"
          },
          "metadata": {}
        }
      ]
    },
    {
      "cell_type": "markdown",
      "source": "The resulting number has many decimal points which are unnecessary and not visually appealing.\nRound up the percentage to two decimal points\nYou can use for loop. Or better, use list comprehension for simplicity/brevity",
      "metadata": {
        "id": "9sxMk1hc6zML",
        "cell_id": "00014-7edb2f7f-a6c0-4264-a85a-276624e0a415",
        "deepnote_to_be_reexecuted": false,
        "source_hash": "f37427b5",
        "execution_start": 1618162046066,
        "deepnote_cell_type": "markdown"
      }
    },
    {
      "cell_type": "code",
      "metadata": {
        "tags": [],
        "cell_id": "00038-48f135bb-19e6-41c9-a2ab-91831b380292",
        "deepnote_to_be_reexecuted": false,
        "source_hash": "90107dc8",
        "execution_millis": 23,
        "execution_start": 1618226583060,
        "deepnote_cell_type": "code"
      },
      "source": "umbc_tuition_change = [round(pctchange, 2) for pctchange in umbc_tuition_change]\numbc_tuition_change",
      "execution_count": null,
      "outputs": [
        {
          "output_type": "execute_result",
          "execution_count": 170,
          "data": {
            "text/plain": "[nan,\n nan,\n nan,\n nan,\n nan,\n 7.65,\n 7.65,\n 16.13,\n 8.55,\n 6.23,\n 1.2,\n 1.0,\n 0.83,\n 1.05,\n 3.37,\n 3.23,\n 3.14,\n 3.11,\n 3.14,\n 5.99,\n 2.34,\n 2.25,\n 2.26]"
          },
          "metadata": {}
        }
      ]
    },
    {
      "cell_type": "markdown",
      "source": "Add the list of the percentages to the dataframe as a new column (\"PCT_CHANGE\")\nNot as hard as you might think. If you get stuck, you're thinking too hard. \nGoogle it and you will find the answer.",
      "metadata": {
        "id": "_04rVaZ16zMR",
        "cell_id": "00015-0c0ad0d5-4720-4332-bef0-c922363f2e47",
        "deepnote_to_be_reexecuted": false,
        "source_hash": "738523ba",
        "execution_start": 1618162046113,
        "deepnote_cell_type": "markdown"
      }
    },
    {
      "cell_type": "code",
      "metadata": {
        "tags": [],
        "cell_id": "00040-17fb3fa0-557e-4860-9080-025a7cd4dbb0",
        "deepnote_to_be_reexecuted": false,
        "source_hash": "a844e168",
        "execution_millis": 62,
        "execution_start": 1618226588387,
        "deepnote_cell_type": "code"
      },
      "source": "df_umbc['PCT_CHANGE'] = umbc_tuition_change\ndf_umbc",
      "execution_count": null,
      "outputs": [
        {
          "name": "stderr",
          "text": "/shared-libs/python3.7/py-core/lib/python3.7/site-packages/ipykernel_launcher.py:1: SettingWithCopyWarning:\n\n\nA value is trying to be set on a copy of a slice from a DataFrame.\nTry using .loc[row_indexer,col_indexer] = value instead\n\nSee the caveats in the documentation: https://pandas.pydata.org/pandas-docs/stable/user_guide/indexing.html#returning-a-view-versus-a-copy\n\n",
          "output_type": "stream"
        },
        {
          "output_type": "execute_result",
          "execution_count": 171,
          "data": {
            "application/vnd.deepnote.dataframe.v2+json": {
              "row_count": 23,
              "column_count": 8,
              "columns": [
                {
                  "name": "UNITID",
                  "dtype": "int64",
                  "stats": {
                    "unique_count": 1,
                    "nan_count": 0,
                    "min": 163268,
                    "max": 163268,
                    "histogram": [
                      {
                        "bin_start": 163267.5,
                        "bin_end": 163267.6,
                        "count": 0
                      },
                      {
                        "bin_start": 163267.6,
                        "bin_end": 163267.7,
                        "count": 0
                      },
                      {
                        "bin_start": 163267.7,
                        "bin_end": 163267.8,
                        "count": 0
                      },
                      {
                        "bin_start": 163267.8,
                        "bin_end": 163267.9,
                        "count": 0
                      },
                      {
                        "bin_start": 163267.9,
                        "bin_end": 163268,
                        "count": 0
                      },
                      {
                        "bin_start": 163268,
                        "bin_end": 163268.1,
                        "count": 23
                      },
                      {
                        "bin_start": 163268.1,
                        "bin_end": 163268.2,
                        "count": 0
                      },
                      {
                        "bin_start": 163268.2,
                        "bin_end": 163268.3,
                        "count": 0
                      },
                      {
                        "bin_start": 163268.3,
                        "bin_end": 163268.4,
                        "count": 0
                      },
                      {
                        "bin_start": 163268.4,
                        "bin_end": 163268.5,
                        "count": 0
                      }
                    ]
                  }
                },
                {
                  "name": "INSTNM",
                  "dtype": "object",
                  "stats": {
                    "unique_count": 1,
                    "nan_count": 0,
                    "categories": [
                      {
                        "name": "University of Maryland-Baltimore County",
                        "count": 23
                      }
                    ]
                  }
                },
                {
                  "name": "STABBR",
                  "dtype": "object",
                  "stats": {
                    "unique_count": 1,
                    "nan_count": 0,
                    "categories": [
                      {
                        "name": "MD",
                        "count": 23
                      }
                    ]
                  }
                },
                {
                  "name": "REGION",
                  "dtype": "float64",
                  "stats": {
                    "unique_count": 1,
                    "nan_count": 0,
                    "min": 2,
                    "max": 2,
                    "histogram": [
                      {
                        "bin_start": 1.5,
                        "bin_end": 1.6,
                        "count": 0
                      },
                      {
                        "bin_start": 1.6,
                        "bin_end": 1.7,
                        "count": 0
                      },
                      {
                        "bin_start": 1.7,
                        "bin_end": 1.8,
                        "count": 0
                      },
                      {
                        "bin_start": 1.8,
                        "bin_end": 1.9,
                        "count": 0
                      },
                      {
                        "bin_start": 1.9,
                        "bin_end": 2,
                        "count": 0
                      },
                      {
                        "bin_start": 2,
                        "bin_end": 2.1,
                        "count": 23
                      },
                      {
                        "bin_start": 2.1,
                        "bin_end": 2.2,
                        "count": 0
                      },
                      {
                        "bin_start": 2.2,
                        "bin_end": 2.3,
                        "count": 0
                      },
                      {
                        "bin_start": 2.3,
                        "bin_end": 2.4,
                        "count": 0
                      },
                      {
                        "bin_start": 2.4,
                        "bin_end": 2.5,
                        "count": 0
                      }
                    ]
                  }
                },
                {
                  "name": "ADM_RATE",
                  "dtype": "float64",
                  "stats": {
                    "unique_count": 18,
                    "nan_count": 5,
                    "min": 0.5683,
                    "max": 0.7174,
                    "histogram": [
                      {
                        "bin_start": 0.5683,
                        "bin_end": 0.58321,
                        "count": 3
                      },
                      {
                        "bin_start": 0.58321,
                        "bin_end": 0.59812,
                        "count": 2
                      },
                      {
                        "bin_start": 0.59812,
                        "bin_end": 0.6130300000000001,
                        "count": 3
                      },
                      {
                        "bin_start": 0.6130300000000001,
                        "bin_end": 0.62794,
                        "count": 0
                      },
                      {
                        "bin_start": 0.62794,
                        "bin_end": 0.64285,
                        "count": 2
                      },
                      {
                        "bin_start": 0.64285,
                        "bin_end": 0.65776,
                        "count": 1
                      },
                      {
                        "bin_start": 0.65776,
                        "bin_end": 0.67267,
                        "count": 1
                      },
                      {
                        "bin_start": 0.67267,
                        "bin_end": 0.6875800000000001,
                        "count": 0
                      },
                      {
                        "bin_start": 0.6875800000000001,
                        "bin_end": 0.7024900000000001,
                        "count": 3
                      },
                      {
                        "bin_start": 0.7024900000000001,
                        "bin_end": 0.7174,
                        "count": 3
                      }
                    ]
                  }
                },
                {
                  "name": "TUITIONFEE_IN",
                  "dtype": "float64",
                  "stats": {
                    "unique_count": 19,
                    "nan_count": 4,
                    "min": 5490,
                    "max": 11778,
                    "histogram": [
                      {
                        "bin_start": 5490,
                        "bin_end": 6118.8,
                        "count": 2
                      },
                      {
                        "bin_start": 6118.8,
                        "bin_end": 6747.6,
                        "count": 1
                      },
                      {
                        "bin_start": 6747.6,
                        "bin_end": 7376.4,
                        "count": 0
                      },
                      {
                        "bin_start": 7376.4,
                        "bin_end": 8005.2,
                        "count": 1
                      },
                      {
                        "bin_start": 8005.2,
                        "bin_end": 8634,
                        "count": 3
                      },
                      {
                        "bin_start": 8634,
                        "bin_end": 9262.8,
                        "count": 4
                      },
                      {
                        "bin_start": 9262.8,
                        "bin_end": 9891.599999999999,
                        "count": 2
                      },
                      {
                        "bin_start": 9891.599999999999,
                        "bin_end": 10520.4,
                        "count": 2
                      },
                      {
                        "bin_start": 10520.4,
                        "bin_end": 11149.2,
                        "count": 1
                      },
                      {
                        "bin_start": 11149.2,
                        "bin_end": 11778,
                        "count": 3
                      }
                    ]
                  }
                },
                {
                  "name": "YEAR",
                  "dtype": "object",
                  "stats": {
                    "unique_count": 23,
                    "nan_count": 0,
                    "categories": [
                      {
                        "name": "1996",
                        "count": 1
                      },
                      {
                        "name": "1997",
                        "count": 1
                      },
                      {
                        "name": "21 others",
                        "count": 21
                      }
                    ]
                  }
                },
                {
                  "name": "PCT_CHANGE",
                  "dtype": "float64",
                  "stats": {
                    "unique_count": 16,
                    "nan_count": 5,
                    "min": 0.83,
                    "max": 16.13,
                    "histogram": [
                      {
                        "bin_start": 0.83,
                        "bin_end": 2.36,
                        "count": 7
                      },
                      {
                        "bin_start": 2.36,
                        "bin_end": 3.8899999999999997,
                        "count": 5
                      },
                      {
                        "bin_start": 3.8899999999999997,
                        "bin_end": 5.42,
                        "count": 0
                      },
                      {
                        "bin_start": 5.42,
                        "bin_end": 6.949999999999999,
                        "count": 2
                      },
                      {
                        "bin_start": 6.949999999999999,
                        "bin_end": 8.479999999999999,
                        "count": 2
                      },
                      {
                        "bin_start": 8.479999999999999,
                        "bin_end": 10.01,
                        "count": 1
                      },
                      {
                        "bin_start": 10.01,
                        "bin_end": 11.54,
                        "count": 0
                      },
                      {
                        "bin_start": 11.54,
                        "bin_end": 13.069999999999999,
                        "count": 0
                      },
                      {
                        "bin_start": 13.069999999999999,
                        "bin_end": 14.599999999999998,
                        "count": 0
                      },
                      {
                        "bin_start": 14.599999999999998,
                        "bin_end": 16.13,
                        "count": 1
                      }
                    ]
                  }
                },
                {
                  "name": "_deepnote_index_column",
                  "dtype": "int64"
                }
              ],
              "rows_top": [
                {
                  "UNITID": 163268,
                  "INSTNM": "University of Maryland-Baltimore County",
                  "STABBR": "MD",
                  "REGION": 2,
                  "ADM_RATE": "nan",
                  "TUITIONFEE_IN": "nan",
                  "YEAR": "1996",
                  "PCT_CHANGE": "nan",
                  "_deepnote_index_column": 2151
                },
                {
                  "UNITID": 163268,
                  "INSTNM": "University of Maryland-Baltimore County",
                  "STABBR": "MD",
                  "REGION": 2,
                  "ADM_RATE": "nan",
                  "TUITIONFEE_IN": "nan",
                  "YEAR": "1997",
                  "PCT_CHANGE": "nan",
                  "_deepnote_index_column": 2049
                },
                {
                  "UNITID": 163268,
                  "INSTNM": "University of Maryland-Baltimore County",
                  "STABBR": "MD",
                  "REGION": 2,
                  "ADM_RATE": "nan",
                  "TUITIONFEE_IN": "nan",
                  "YEAR": "1998",
                  "PCT_CHANGE": "nan",
                  "_deepnote_index_column": 1982
                },
                {
                  "UNITID": 163268,
                  "INSTNM": "University of Maryland-Baltimore County",
                  "STABBR": "MD",
                  "REGION": 2,
                  "ADM_RATE": "nan",
                  "TUITIONFEE_IN": "nan",
                  "YEAR": "1999",
                  "PCT_CHANGE": "nan",
                  "_deepnote_index_column": 1955
                },
                {
                  "UNITID": 163268,
                  "INSTNM": "University of Maryland-Baltimore County",
                  "STABBR": "MD",
                  "REGION": 2,
                  "ADM_RATE": "nan",
                  "TUITIONFEE_IN": "5490.0",
                  "YEAR": "2000",
                  "PCT_CHANGE": "nan",
                  "_deepnote_index_column": 1926
                },
                {
                  "UNITID": 163268,
                  "INSTNM": "University of Maryland-Baltimore County",
                  "STABBR": "MD",
                  "REGION": 2,
                  "ADM_RATE": "0.6551",
                  "TUITIONFEE_IN": "5910.0",
                  "YEAR": "2001",
                  "PCT_CHANGE": "7.65",
                  "_deepnote_index_column": 1915
                },
                {
                  "UNITID": 163268,
                  "INSTNM": "University of Maryland-Baltimore County",
                  "STABBR": "MD",
                  "REGION": 2,
                  "ADM_RATE": "0.6327",
                  "TUITIONFEE_IN": "6362.0",
                  "YEAR": "2002",
                  "PCT_CHANGE": "7.65",
                  "_deepnote_index_column": 1893
                },
                {
                  "UNITID": 163268,
                  "INSTNM": "University of Maryland-Baltimore County",
                  "STABBR": "MD",
                  "REGION": 2,
                  "ADM_RATE": "0.5757",
                  "TUITIONFEE_IN": "7388.0",
                  "YEAR": "2003",
                  "PCT_CHANGE": "16.13",
                  "_deepnote_index_column": 1873
                },
                {
                  "UNITID": 163268,
                  "INSTNM": "University of Maryland-Baltimore County",
                  "STABBR": "MD",
                  "REGION": 2,
                  "ADM_RATE": "0.7014",
                  "TUITIONFEE_IN": "8020.0",
                  "YEAR": "2004",
                  "PCT_CHANGE": "8.55",
                  "_deepnote_index_column": 1830
                },
                {
                  "UNITID": 163268,
                  "INSTNM": "University of Maryland-Baltimore County",
                  "STABBR": "MD",
                  "REGION": 2,
                  "ADM_RATE": "0.7143",
                  "TUITIONFEE_IN": "8520.0",
                  "YEAR": "2005",
                  "PCT_CHANGE": "6.23",
                  "_deepnote_index_column": 1819
                },
                {
                  "UNITID": 163268,
                  "INSTNM": "University of Maryland-Baltimore County",
                  "STABBR": "MD",
                  "REGION": 2,
                  "ADM_RATE": "0.7153",
                  "TUITIONFEE_IN": "8622.0",
                  "YEAR": "2006",
                  "PCT_CHANGE": "1.2",
                  "_deepnote_index_column": 1799
                },
                {
                  "UNITID": 163268,
                  "INSTNM": "University of Maryland-Baltimore County",
                  "STABBR": "MD",
                  "REGION": 2,
                  "ADM_RATE": "0.6895",
                  "TUITIONFEE_IN": "8708.0",
                  "YEAR": "2007",
                  "PCT_CHANGE": "1.0",
                  "_deepnote_index_column": 1779
                },
                {
                  "UNITID": 163268,
                  "INSTNM": "University of Maryland-Baltimore County",
                  "STABBR": "MD",
                  "REGION": 2,
                  "ADM_RATE": "0.7174",
                  "TUITIONFEE_IN": "8780.0",
                  "YEAR": "2008",
                  "PCT_CHANGE": "0.83",
                  "_deepnote_index_column": 1767
                },
                {
                  "UNITID": 163268,
                  "INSTNM": "University of Maryland-Baltimore County",
                  "STABBR": "MD",
                  "REGION": 2,
                  "ADM_RATE": "0.689",
                  "TUITIONFEE_IN": "8872.0",
                  "YEAR": "2009",
                  "PCT_CHANGE": "1.05",
                  "_deepnote_index_column": 1745
                },
                {
                  "UNITID": 163268,
                  "INSTNM": "University of Maryland-Baltimore County",
                  "STABBR": "MD",
                  "REGION": 2,
                  "ADM_RATE": "0.6589",
                  "TUITIONFEE_IN": "9171.0",
                  "YEAR": "2010",
                  "PCT_CHANGE": "3.37",
                  "_deepnote_index_column": 1710
                },
                {
                  "UNITID": 163268,
                  "INSTNM": "University of Maryland-Baltimore County",
                  "STABBR": "MD",
                  "REGION": 2,
                  "ADM_RATE": "0.6081",
                  "TUITIONFEE_IN": "9467.0",
                  "YEAR": "2011",
                  "PCT_CHANGE": "3.23",
                  "_deepnote_index_column": 1694
                },
                {
                  "UNITID": 163268,
                  "INSTNM": "University of Maryland-Baltimore County",
                  "STABBR": "MD",
                  "REGION": 2,
                  "ADM_RATE": "0.6035",
                  "TUITIONFEE_IN": "9764.0",
                  "YEAR": "2012",
                  "PCT_CHANGE": "3.14",
                  "_deepnote_index_column": 1660
                },
                {
                  "UNITID": 163268,
                  "INSTNM": "University of Maryland-Baltimore County",
                  "STABBR": "MD",
                  "REGION": 2,
                  "ADM_RATE": "0.6315",
                  "TUITIONFEE_IN": "10068.0",
                  "YEAR": "2013",
                  "PCT_CHANGE": "3.11",
                  "_deepnote_index_column": 1629
                },
                {
                  "UNITID": 163268,
                  "INSTNM": "University of Maryland-Baltimore County",
                  "STABBR": "MD",
                  "REGION": 2,
                  "ADM_RATE": "0.5961",
                  "TUITIONFEE_IN": "10384.0",
                  "YEAR": "2014",
                  "PCT_CHANGE": "3.14",
                  "_deepnote_index_column": 1610
                },
                {
                  "UNITID": 163268,
                  "INSTNM": "University of Maryland-Baltimore County",
                  "STABBR": "MD",
                  "REGION": 2,
                  "ADM_RATE": "0.5942",
                  "TUITIONFEE_IN": "11006.0",
                  "YEAR": "2015",
                  "PCT_CHANGE": "5.99",
                  "_deepnote_index_column": 1555
                },
                {
                  "UNITID": 163268,
                  "INSTNM": "University of Maryland-Baltimore County",
                  "STABBR": "MD",
                  "REGION": 2,
                  "ADM_RATE": "0.5683",
                  "TUITIONFEE_IN": "11264.0",
                  "YEAR": "2016",
                  "PCT_CHANGE": "2.34",
                  "_deepnote_index_column": 1510
                },
                {
                  "UNITID": 163268,
                  "INSTNM": "University of Maryland-Baltimore County",
                  "STABBR": "MD",
                  "REGION": 2,
                  "ADM_RATE": "0.6021",
                  "TUITIONFEE_IN": "11518.0",
                  "YEAR": "2017",
                  "PCT_CHANGE": "2.25",
                  "_deepnote_index_column": 1478
                },
                {
                  "UNITID": 163268,
                  "INSTNM": "University of Maryland-Baltimore County",
                  "STABBR": "MD",
                  "REGION": 2,
                  "ADM_RATE": "0.5794",
                  "TUITIONFEE_IN": "11778.0",
                  "YEAR": "2018",
                  "PCT_CHANGE": "2.26",
                  "_deepnote_index_column": 1415
                }
              ],
              "rows_bottom": null
            },
            "text/plain": "      UNITID                                   INSTNM STABBR  REGION  \\\n2151  163268  University of Maryland-Baltimore County     MD     2.0   \n2049  163268  University of Maryland-Baltimore County     MD     2.0   \n1982  163268  University of Maryland-Baltimore County     MD     2.0   \n1955  163268  University of Maryland-Baltimore County     MD     2.0   \n1926  163268  University of Maryland-Baltimore County     MD     2.0   \n1915  163268  University of Maryland-Baltimore County     MD     2.0   \n1893  163268  University of Maryland-Baltimore County     MD     2.0   \n1873  163268  University of Maryland-Baltimore County     MD     2.0   \n1830  163268  University of Maryland-Baltimore County     MD     2.0   \n1819  163268  University of Maryland-Baltimore County     MD     2.0   \n1799  163268  University of Maryland-Baltimore County     MD     2.0   \n1779  163268  University of Maryland-Baltimore County     MD     2.0   \n1767  163268  University of Maryland-Baltimore County     MD     2.0   \n1745  163268  University of Maryland-Baltimore County     MD     2.0   \n1710  163268  University of Maryland-Baltimore County     MD     2.0   \n1694  163268  University of Maryland-Baltimore County     MD     2.0   \n1660  163268  University of Maryland-Baltimore County     MD     2.0   \n1629  163268  University of Maryland-Baltimore County     MD     2.0   \n1610  163268  University of Maryland-Baltimore County     MD     2.0   \n1555  163268  University of Maryland-Baltimore County     MD     2.0   \n1510  163268  University of Maryland-Baltimore County     MD     2.0   \n1478  163268  University of Maryland-Baltimore County     MD     2.0   \n1415  163268  University of Maryland-Baltimore County     MD     2.0   \n\n      ADM_RATE  TUITIONFEE_IN  YEAR  PCT_CHANGE  \n2151       NaN            NaN  1996         NaN  \n2049       NaN            NaN  1997         NaN  \n1982       NaN            NaN  1998         NaN  \n1955       NaN            NaN  1999         NaN  \n1926       NaN         5490.0  2000         NaN  \n1915    0.6551         5910.0  2001        7.65  \n1893    0.6327         6362.0  2002        7.65  \n1873    0.5757         7388.0  2003       16.13  \n1830    0.7014         8020.0  2004        8.55  \n1819    0.7143         8520.0  2005        6.23  \n1799    0.7153         8622.0  2006        1.20  \n1779    0.6895         8708.0  2007        1.00  \n1767    0.7174         8780.0  2008        0.83  \n1745    0.6890         8872.0  2009        1.05  \n1710    0.6589         9171.0  2010        3.37  \n1694    0.6081         9467.0  2011        3.23  \n1660    0.6035         9764.0  2012        3.14  \n1629    0.6315        10068.0  2013        3.11  \n1610    0.5961        10384.0  2014        3.14  \n1555    0.5942        11006.0  2015        5.99  \n1510    0.5683        11264.0  2016        2.34  \n1478    0.6021        11518.0  2017        2.25  \n1415    0.5794        11778.0  2018        2.26  ",
            "text/html": "<div>\n<style scoped>\n    .dataframe tbody tr th:only-of-type {\n        vertical-align: middle;\n    }\n\n    .dataframe tbody tr th {\n        vertical-align: top;\n    }\n\n    .dataframe thead th {\n        text-align: right;\n    }\n</style>\n<table border=\"1\" class=\"dataframe\">\n  <thead>\n    <tr style=\"text-align: right;\">\n      <th></th>\n      <th>UNITID</th>\n      <th>INSTNM</th>\n      <th>STABBR</th>\n      <th>REGION</th>\n      <th>ADM_RATE</th>\n      <th>TUITIONFEE_IN</th>\n      <th>YEAR</th>\n      <th>PCT_CHANGE</th>\n    </tr>\n  </thead>\n  <tbody>\n    <tr>\n      <th>2151</th>\n      <td>163268</td>\n      <td>University of Maryland-Baltimore County</td>\n      <td>MD</td>\n      <td>2.0</td>\n      <td>NaN</td>\n      <td>NaN</td>\n      <td>1996</td>\n      <td>NaN</td>\n    </tr>\n    <tr>\n      <th>2049</th>\n      <td>163268</td>\n      <td>University of Maryland-Baltimore County</td>\n      <td>MD</td>\n      <td>2.0</td>\n      <td>NaN</td>\n      <td>NaN</td>\n      <td>1997</td>\n      <td>NaN</td>\n    </tr>\n    <tr>\n      <th>1982</th>\n      <td>163268</td>\n      <td>University of Maryland-Baltimore County</td>\n      <td>MD</td>\n      <td>2.0</td>\n      <td>NaN</td>\n      <td>NaN</td>\n      <td>1998</td>\n      <td>NaN</td>\n    </tr>\n    <tr>\n      <th>1955</th>\n      <td>163268</td>\n      <td>University of Maryland-Baltimore County</td>\n      <td>MD</td>\n      <td>2.0</td>\n      <td>NaN</td>\n      <td>NaN</td>\n      <td>1999</td>\n      <td>NaN</td>\n    </tr>\n    <tr>\n      <th>1926</th>\n      <td>163268</td>\n      <td>University of Maryland-Baltimore County</td>\n      <td>MD</td>\n      <td>2.0</td>\n      <td>NaN</td>\n      <td>5490.0</td>\n      <td>2000</td>\n      <td>NaN</td>\n    </tr>\n    <tr>\n      <th>1915</th>\n      <td>163268</td>\n      <td>University of Maryland-Baltimore County</td>\n      <td>MD</td>\n      <td>2.0</td>\n      <td>0.6551</td>\n      <td>5910.0</td>\n      <td>2001</td>\n      <td>7.65</td>\n    </tr>\n    <tr>\n      <th>1893</th>\n      <td>163268</td>\n      <td>University of Maryland-Baltimore County</td>\n      <td>MD</td>\n      <td>2.0</td>\n      <td>0.6327</td>\n      <td>6362.0</td>\n      <td>2002</td>\n      <td>7.65</td>\n    </tr>\n    <tr>\n      <th>1873</th>\n      <td>163268</td>\n      <td>University of Maryland-Baltimore County</td>\n      <td>MD</td>\n      <td>2.0</td>\n      <td>0.5757</td>\n      <td>7388.0</td>\n      <td>2003</td>\n      <td>16.13</td>\n    </tr>\n    <tr>\n      <th>1830</th>\n      <td>163268</td>\n      <td>University of Maryland-Baltimore County</td>\n      <td>MD</td>\n      <td>2.0</td>\n      <td>0.7014</td>\n      <td>8020.0</td>\n      <td>2004</td>\n      <td>8.55</td>\n    </tr>\n    <tr>\n      <th>1819</th>\n      <td>163268</td>\n      <td>University of Maryland-Baltimore County</td>\n      <td>MD</td>\n      <td>2.0</td>\n      <td>0.7143</td>\n      <td>8520.0</td>\n      <td>2005</td>\n      <td>6.23</td>\n    </tr>\n    <tr>\n      <th>1799</th>\n      <td>163268</td>\n      <td>University of Maryland-Baltimore County</td>\n      <td>MD</td>\n      <td>2.0</td>\n      <td>0.7153</td>\n      <td>8622.0</td>\n      <td>2006</td>\n      <td>1.20</td>\n    </tr>\n    <tr>\n      <th>1779</th>\n      <td>163268</td>\n      <td>University of Maryland-Baltimore County</td>\n      <td>MD</td>\n      <td>2.0</td>\n      <td>0.6895</td>\n      <td>8708.0</td>\n      <td>2007</td>\n      <td>1.00</td>\n    </tr>\n    <tr>\n      <th>1767</th>\n      <td>163268</td>\n      <td>University of Maryland-Baltimore County</td>\n      <td>MD</td>\n      <td>2.0</td>\n      <td>0.7174</td>\n      <td>8780.0</td>\n      <td>2008</td>\n      <td>0.83</td>\n    </tr>\n    <tr>\n      <th>1745</th>\n      <td>163268</td>\n      <td>University of Maryland-Baltimore County</td>\n      <td>MD</td>\n      <td>2.0</td>\n      <td>0.6890</td>\n      <td>8872.0</td>\n      <td>2009</td>\n      <td>1.05</td>\n    </tr>\n    <tr>\n      <th>1710</th>\n      <td>163268</td>\n      <td>University of Maryland-Baltimore County</td>\n      <td>MD</td>\n      <td>2.0</td>\n      <td>0.6589</td>\n      <td>9171.0</td>\n      <td>2010</td>\n      <td>3.37</td>\n    </tr>\n    <tr>\n      <th>1694</th>\n      <td>163268</td>\n      <td>University of Maryland-Baltimore County</td>\n      <td>MD</td>\n      <td>2.0</td>\n      <td>0.6081</td>\n      <td>9467.0</td>\n      <td>2011</td>\n      <td>3.23</td>\n    </tr>\n    <tr>\n      <th>1660</th>\n      <td>163268</td>\n      <td>University of Maryland-Baltimore County</td>\n      <td>MD</td>\n      <td>2.0</td>\n      <td>0.6035</td>\n      <td>9764.0</td>\n      <td>2012</td>\n      <td>3.14</td>\n    </tr>\n    <tr>\n      <th>1629</th>\n      <td>163268</td>\n      <td>University of Maryland-Baltimore County</td>\n      <td>MD</td>\n      <td>2.0</td>\n      <td>0.6315</td>\n      <td>10068.0</td>\n      <td>2013</td>\n      <td>3.11</td>\n    </tr>\n    <tr>\n      <th>1610</th>\n      <td>163268</td>\n      <td>University of Maryland-Baltimore County</td>\n      <td>MD</td>\n      <td>2.0</td>\n      <td>0.5961</td>\n      <td>10384.0</td>\n      <td>2014</td>\n      <td>3.14</td>\n    </tr>\n    <tr>\n      <th>1555</th>\n      <td>163268</td>\n      <td>University of Maryland-Baltimore County</td>\n      <td>MD</td>\n      <td>2.0</td>\n      <td>0.5942</td>\n      <td>11006.0</td>\n      <td>2015</td>\n      <td>5.99</td>\n    </tr>\n    <tr>\n      <th>1510</th>\n      <td>163268</td>\n      <td>University of Maryland-Baltimore County</td>\n      <td>MD</td>\n      <td>2.0</td>\n      <td>0.5683</td>\n      <td>11264.0</td>\n      <td>2016</td>\n      <td>2.34</td>\n    </tr>\n    <tr>\n      <th>1478</th>\n      <td>163268</td>\n      <td>University of Maryland-Baltimore County</td>\n      <td>MD</td>\n      <td>2.0</td>\n      <td>0.6021</td>\n      <td>11518.0</td>\n      <td>2017</td>\n      <td>2.25</td>\n    </tr>\n    <tr>\n      <th>1415</th>\n      <td>163268</td>\n      <td>University of Maryland-Baltimore County</td>\n      <td>MD</td>\n      <td>2.0</td>\n      <td>0.5794</td>\n      <td>11778.0</td>\n      <td>2018</td>\n      <td>2.26</td>\n    </tr>\n  </tbody>\n</table>\n</div>"
          },
          "metadata": {}
        }
      ]
    },
    {
      "cell_type": "markdown",
      "source": "Finaly, we can make the plot tuition growth rate year over year - bar first, then line chart",
      "metadata": {
        "id": "5Evbjx-g6zMX",
        "cell_id": "00016-eb113cb5-ed0c-4c7d-a841-8fe97056cb6c",
        "deepnote_to_be_reexecuted": false,
        "source_hash": "3b4b790a",
        "execution_start": 1618162046114,
        "deepnote_cell_type": "markdown"
      }
    },
    {
      "cell_type": "code",
      "metadata": {
        "tags": [],
        "cell_id": "00043-77084919-e64f-45a5-ab8a-2c463c745a31",
        "deepnote_to_be_reexecuted": false,
        "source_hash": "b7e88eb1",
        "execution_millis": 107,
        "execution_start": 1618226807252,
        "deepnote_cell_type": "code"
      },
      "source": "umbc_pctchange_bar = px.bar(df_umbc,\n                    x= 'YEAR',\n                    y='PCT_CHANGE'\n                    )\n\numbc_pctchange_line = px.line(df_umbc,\n                    x= 'YEAR',\n                    y='PCT_CHANGE'\n                    )\n\numbc_pctchange_bar.show()\numbc_pctchange_line.show()",
      "execution_count": null,
      "outputs": [
        {
          "data": {
            "text/html": "<html>\n<head><meta charset=\"utf-8\" /></head>\n<body>\n    <div>            <script src=\"https://cdnjs.cloudflare.com/ajax/libs/mathjax/2.7.5/MathJax.js?config=TeX-AMS-MML_SVG\"></script><script type=\"text/javascript\">if (window.MathJax) {MathJax.Hub.Config({SVG: {font: \"STIX-Web\"}});}</script>                <script type=\"text/javascript\">window.PlotlyConfig = {MathJaxConfig: 'local'};</script>\n        <script src=\"https://cdn.plot.ly/plotly-latest.min.js\"></script>                <div id=\"08c2cb75-a32a-4fe3-8d1c-e4dcf29f6739\" class=\"plotly-graph-div\" style=\"height:525px; width:100%;\"></div>            <script type=\"text/javascript\">                                    window.PLOTLYENV=window.PLOTLYENV || {};                                    if (document.getElementById(\"08c2cb75-a32a-4fe3-8d1c-e4dcf29f6739\")) {                    Plotly.newPlot(                        \"08c2cb75-a32a-4fe3-8d1c-e4dcf29f6739\",                        [{\"alignmentgroup\": \"True\", \"hovertemplate\": \"YEAR=%{x}<br>PCT_CHANGE=%{y}<extra></extra>\", \"legendgroup\": \"\", \"marker\": {\"color\": \"#636efa\"}, \"name\": \"\", \"offsetgroup\": \"\", \"orientation\": \"v\", \"showlegend\": false, \"textposition\": \"auto\", \"type\": \"bar\", \"x\": [\"1996\", \"1997\", \"1998\", \"1999\", \"2000\", \"2001\", \"2002\", \"2003\", \"2004\", \"2005\", \"2006\", \"2007\", \"2008\", \"2009\", \"2010\", \"2011\", \"2012\", \"2013\", \"2014\", \"2015\", \"2016\", \"2017\", \"2018\"], \"xaxis\": \"x\", \"y\": [null, null, null, null, null, 7.65, 7.65, 16.13, 8.55, 6.23, 1.2, 1.0, 0.83, 1.05, 3.37, 3.23, 3.14, 3.11, 3.14, 5.99, 2.34, 2.25, 2.26], \"yaxis\": \"y\"}],                        {\"barmode\": \"relative\", \"legend\": {\"tracegroupgap\": 0}, \"margin\": {\"t\": 60}, \"template\": {\"data\": {\"bar\": [{\"error_x\": {\"color\": \"#2a3f5f\"}, \"error_y\": {\"color\": \"#2a3f5f\"}, \"marker\": {\"line\": {\"color\": \"#E5ECF6\", \"width\": 0.5}}, \"type\": \"bar\"}], \"barpolar\": [{\"marker\": {\"line\": {\"color\": \"#E5ECF6\", \"width\": 0.5}}, \"type\": \"barpolar\"}], \"carpet\": [{\"aaxis\": {\"endlinecolor\": \"#2a3f5f\", \"gridcolor\": \"white\", \"linecolor\": \"white\", \"minorgridcolor\": \"white\", \"startlinecolor\": \"#2a3f5f\"}, \"baxis\": {\"endlinecolor\": \"#2a3f5f\", \"gridcolor\": \"white\", \"linecolor\": \"white\", \"minorgridcolor\": \"white\", \"startlinecolor\": \"#2a3f5f\"}, \"type\": \"carpet\"}], \"choropleth\": [{\"colorbar\": {\"outlinewidth\": 0, \"ticks\": \"\"}, \"type\": \"choropleth\"}], \"contour\": [{\"colorbar\": {\"outlinewidth\": 0, \"ticks\": \"\"}, \"colorscale\": [[0.0, \"#0d0887\"], [0.1111111111111111, \"#46039f\"], [0.2222222222222222, \"#7201a8\"], [0.3333333333333333, \"#9c179e\"], [0.4444444444444444, \"#bd3786\"], [0.5555555555555556, \"#d8576b\"], [0.6666666666666666, \"#ed7953\"], [0.7777777777777778, \"#fb9f3a\"], [0.8888888888888888, \"#fdca26\"], [1.0, \"#f0f921\"]], \"type\": \"contour\"}], \"contourcarpet\": [{\"colorbar\": {\"outlinewidth\": 0, \"ticks\": \"\"}, \"type\": \"contourcarpet\"}], \"heatmap\": [{\"colorbar\": {\"outlinewidth\": 0, \"ticks\": \"\"}, \"colorscale\": [[0.0, \"#0d0887\"], [0.1111111111111111, \"#46039f\"], [0.2222222222222222, \"#7201a8\"], [0.3333333333333333, \"#9c179e\"], [0.4444444444444444, \"#bd3786\"], [0.5555555555555556, \"#d8576b\"], [0.6666666666666666, \"#ed7953\"], [0.7777777777777778, \"#fb9f3a\"], [0.8888888888888888, \"#fdca26\"], [1.0, \"#f0f921\"]], \"type\": \"heatmap\"}], \"heatmapgl\": [{\"colorbar\": {\"outlinewidth\": 0, \"ticks\": \"\"}, \"colorscale\": [[0.0, \"#0d0887\"], [0.1111111111111111, \"#46039f\"], [0.2222222222222222, \"#7201a8\"], [0.3333333333333333, \"#9c179e\"], [0.4444444444444444, \"#bd3786\"], [0.5555555555555556, \"#d8576b\"], [0.6666666666666666, \"#ed7953\"], [0.7777777777777778, \"#fb9f3a\"], [0.8888888888888888, \"#fdca26\"], [1.0, \"#f0f921\"]], \"type\": \"heatmapgl\"}], \"histogram\": [{\"marker\": {\"colorbar\": {\"outlinewidth\": 0, \"ticks\": \"\"}}, \"type\": \"histogram\"}], \"histogram2d\": [{\"colorbar\": {\"outlinewidth\": 0, \"ticks\": \"\"}, \"colorscale\": [[0.0, \"#0d0887\"], [0.1111111111111111, \"#46039f\"], [0.2222222222222222, \"#7201a8\"], [0.3333333333333333, \"#9c179e\"], [0.4444444444444444, \"#bd3786\"], [0.5555555555555556, \"#d8576b\"], [0.6666666666666666, \"#ed7953\"], [0.7777777777777778, \"#fb9f3a\"], [0.8888888888888888, \"#fdca26\"], [1.0, \"#f0f921\"]], \"type\": \"histogram2d\"}], \"histogram2dcontour\": [{\"colorbar\": {\"outlinewidth\": 0, \"ticks\": \"\"}, \"colorscale\": [[0.0, \"#0d0887\"], [0.1111111111111111, \"#46039f\"], [0.2222222222222222, \"#7201a8\"], [0.3333333333333333, \"#9c179e\"], [0.4444444444444444, \"#bd3786\"], [0.5555555555555556, \"#d8576b\"], [0.6666666666666666, \"#ed7953\"], [0.7777777777777778, \"#fb9f3a\"], [0.8888888888888888, \"#fdca26\"], [1.0, \"#f0f921\"]], \"type\": \"histogram2dcontour\"}], \"mesh3d\": [{\"colorbar\": {\"outlinewidth\": 0, \"ticks\": \"\"}, \"type\": \"mesh3d\"}], \"parcoords\": [{\"line\": {\"colorbar\": {\"outlinewidth\": 0, \"ticks\": \"\"}}, \"type\": \"parcoords\"}], \"pie\": [{\"automargin\": true, \"type\": \"pie\"}], \"scatter\": [{\"marker\": {\"colorbar\": {\"outlinewidth\": 0, \"ticks\": \"\"}}, \"type\": \"scatter\"}], \"scatter3d\": [{\"line\": {\"colorbar\": {\"outlinewidth\": 0, \"ticks\": \"\"}}, \"marker\": {\"colorbar\": {\"outlinewidth\": 0, \"ticks\": \"\"}}, \"type\": \"scatter3d\"}], \"scattercarpet\": [{\"marker\": {\"colorbar\": {\"outlinewidth\": 0, \"ticks\": \"\"}}, \"type\": \"scattercarpet\"}], \"scattergeo\": [{\"marker\": {\"colorbar\": {\"outlinewidth\": 0, \"ticks\": \"\"}}, \"type\": \"scattergeo\"}], \"scattergl\": [{\"marker\": {\"colorbar\": {\"outlinewidth\": 0, \"ticks\": \"\"}}, \"type\": \"scattergl\"}], \"scattermapbox\": [{\"marker\": {\"colorbar\": {\"outlinewidth\": 0, \"ticks\": \"\"}}, \"type\": \"scattermapbox\"}], \"scatterpolar\": [{\"marker\": {\"colorbar\": {\"outlinewidth\": 0, \"ticks\": \"\"}}, \"type\": \"scatterpolar\"}], \"scatterpolargl\": [{\"marker\": {\"colorbar\": {\"outlinewidth\": 0, \"ticks\": \"\"}}, \"type\": \"scatterpolargl\"}], \"scatterternary\": [{\"marker\": {\"colorbar\": {\"outlinewidth\": 0, \"ticks\": \"\"}}, \"type\": \"scatterternary\"}], \"surface\": [{\"colorbar\": {\"outlinewidth\": 0, \"ticks\": \"\"}, \"colorscale\": [[0.0, \"#0d0887\"], [0.1111111111111111, \"#46039f\"], [0.2222222222222222, \"#7201a8\"], [0.3333333333333333, \"#9c179e\"], [0.4444444444444444, \"#bd3786\"], [0.5555555555555556, \"#d8576b\"], [0.6666666666666666, \"#ed7953\"], [0.7777777777777778, \"#fb9f3a\"], [0.8888888888888888, \"#fdca26\"], [1.0, \"#f0f921\"]], \"type\": \"surface\"}], \"table\": [{\"cells\": {\"fill\": {\"color\": \"#EBF0F8\"}, \"line\": {\"color\": \"white\"}}, \"header\": {\"fill\": {\"color\": \"#C8D4E3\"}, \"line\": {\"color\": \"white\"}}, \"type\": \"table\"}]}, \"layout\": {\"annotationdefaults\": {\"arrowcolor\": \"#2a3f5f\", \"arrowhead\": 0, \"arrowwidth\": 1}, \"autotypenumbers\": \"strict\", \"coloraxis\": {\"colorbar\": {\"outlinewidth\": 0, \"ticks\": \"\"}}, \"colorscale\": {\"diverging\": [[0, \"#8e0152\"], [0.1, \"#c51b7d\"], [0.2, \"#de77ae\"], [0.3, \"#f1b6da\"], [0.4, \"#fde0ef\"], [0.5, \"#f7f7f7\"], [0.6, \"#e6f5d0\"], [0.7, \"#b8e186\"], [0.8, \"#7fbc41\"], [0.9, \"#4d9221\"], [1, \"#276419\"]], \"sequential\": [[0.0, \"#0d0887\"], [0.1111111111111111, \"#46039f\"], [0.2222222222222222, \"#7201a8\"], [0.3333333333333333, \"#9c179e\"], [0.4444444444444444, \"#bd3786\"], [0.5555555555555556, \"#d8576b\"], [0.6666666666666666, \"#ed7953\"], [0.7777777777777778, \"#fb9f3a\"], [0.8888888888888888, \"#fdca26\"], [1.0, \"#f0f921\"]], \"sequentialminus\": [[0.0, \"#0d0887\"], [0.1111111111111111, \"#46039f\"], [0.2222222222222222, \"#7201a8\"], [0.3333333333333333, \"#9c179e\"], [0.4444444444444444, \"#bd3786\"], [0.5555555555555556, \"#d8576b\"], [0.6666666666666666, \"#ed7953\"], [0.7777777777777778, \"#fb9f3a\"], [0.8888888888888888, \"#fdca26\"], [1.0, \"#f0f921\"]]}, \"colorway\": [\"#636efa\", \"#EF553B\", \"#00cc96\", \"#ab63fa\", \"#FFA15A\", \"#19d3f3\", \"#FF6692\", \"#B6E880\", \"#FF97FF\", \"#FECB52\"], \"font\": {\"color\": \"#2a3f5f\"}, \"geo\": {\"bgcolor\": \"white\", \"lakecolor\": \"white\", \"landcolor\": \"#E5ECF6\", \"showlakes\": true, \"showland\": true, \"subunitcolor\": \"white\"}, \"hoverlabel\": {\"align\": \"left\"}, \"hovermode\": \"closest\", \"mapbox\": {\"style\": \"light\"}, \"paper_bgcolor\": \"white\", \"plot_bgcolor\": \"#E5ECF6\", \"polar\": {\"angularaxis\": {\"gridcolor\": \"white\", \"linecolor\": \"white\", \"ticks\": \"\"}, \"bgcolor\": \"#E5ECF6\", \"radialaxis\": {\"gridcolor\": \"white\", \"linecolor\": \"white\", \"ticks\": \"\"}}, \"scene\": {\"xaxis\": {\"backgroundcolor\": \"#E5ECF6\", \"gridcolor\": \"white\", \"gridwidth\": 2, \"linecolor\": \"white\", \"showbackground\": true, \"ticks\": \"\", \"zerolinecolor\": \"white\"}, \"yaxis\": {\"backgroundcolor\": \"#E5ECF6\", \"gridcolor\": \"white\", \"gridwidth\": 2, \"linecolor\": \"white\", \"showbackground\": true, \"ticks\": \"\", \"zerolinecolor\": \"white\"}, \"zaxis\": {\"backgroundcolor\": \"#E5ECF6\", \"gridcolor\": \"white\", \"gridwidth\": 2, \"linecolor\": \"white\", \"showbackground\": true, \"ticks\": \"\", \"zerolinecolor\": \"white\"}}, \"shapedefaults\": {\"line\": {\"color\": \"#2a3f5f\"}}, \"ternary\": {\"aaxis\": {\"gridcolor\": \"white\", \"linecolor\": \"white\", \"ticks\": \"\"}, \"baxis\": {\"gridcolor\": \"white\", \"linecolor\": \"white\", \"ticks\": \"\"}, \"bgcolor\": \"#E5ECF6\", \"caxis\": {\"gridcolor\": \"white\", \"linecolor\": \"white\", \"ticks\": \"\"}}, \"title\": {\"x\": 0.05}, \"xaxis\": {\"automargin\": true, \"gridcolor\": \"white\", \"linecolor\": \"white\", \"ticks\": \"\", \"title\": {\"standoff\": 15}, \"zerolinecolor\": \"white\", \"zerolinewidth\": 2}, \"yaxis\": {\"automargin\": true, \"gridcolor\": \"white\", \"linecolor\": \"white\", \"ticks\": \"\", \"title\": {\"standoff\": 15}, \"zerolinecolor\": \"white\", \"zerolinewidth\": 2}}}, \"xaxis\": {\"anchor\": \"y\", \"domain\": [0.0, 1.0], \"title\": {\"text\": \"YEAR\"}}, \"yaxis\": {\"anchor\": \"x\", \"domain\": [0.0, 1.0], \"title\": {\"text\": \"PCT_CHANGE\"}}},                        {\"responsive\": true}                    ).then(function(){\n                            \nvar gd = document.getElementById('08c2cb75-a32a-4fe3-8d1c-e4dcf29f6739');\nvar x = new MutationObserver(function (mutations, observer) {{\n        var display = window.getComputedStyle(gd).display;\n        if (!display || display === 'none') {{\n            console.log([gd, 'removed!']);\n            Plotly.purge(gd);\n            observer.disconnect();\n        }}\n}});\n\n// Listen for the removal of the full notebook cells\nvar notebookContainer = gd.closest('#notebook-container');\nif (notebookContainer) {{\n    x.observe(notebookContainer, {childList: true});\n}}\n\n// Listen for the clearing of the current output cell\nvar outputEl = gd.closest('.output');\nif (outputEl) {{\n    x.observe(outputEl, {childList: true});\n}}\n\n                        })                };                            </script>        </div>\n</body>\n</html>"
          },
          "metadata": {},
          "output_type": "display_data"
        },
        {
          "data": {
            "text/html": "<html>\n<head><meta charset=\"utf-8\" /></head>\n<body>\n    <div>            <script src=\"https://cdnjs.cloudflare.com/ajax/libs/mathjax/2.7.5/MathJax.js?config=TeX-AMS-MML_SVG\"></script><script type=\"text/javascript\">if (window.MathJax) {MathJax.Hub.Config({SVG: {font: \"STIX-Web\"}});}</script>                <script type=\"text/javascript\">window.PlotlyConfig = {MathJaxConfig: 'local'};</script>\n        <script src=\"https://cdn.plot.ly/plotly-latest.min.js\"></script>                <div id=\"4b64e6f4-d1e9-4c0b-9ce9-3613f293b93c\" class=\"plotly-graph-div\" style=\"height:525px; width:100%;\"></div>            <script type=\"text/javascript\">                                    window.PLOTLYENV=window.PLOTLYENV || {};                                    if (document.getElementById(\"4b64e6f4-d1e9-4c0b-9ce9-3613f293b93c\")) {                    Plotly.newPlot(                        \"4b64e6f4-d1e9-4c0b-9ce9-3613f293b93c\",                        [{\"hovertemplate\": \"YEAR=%{x}<br>PCT_CHANGE=%{y}<extra></extra>\", \"legendgroup\": \"\", \"line\": {\"color\": \"#636efa\", \"dash\": \"solid\"}, \"mode\": \"lines\", \"name\": \"\", \"orientation\": \"v\", \"showlegend\": false, \"type\": \"scatter\", \"x\": [\"1996\", \"1997\", \"1998\", \"1999\", \"2000\", \"2001\", \"2002\", \"2003\", \"2004\", \"2005\", \"2006\", \"2007\", \"2008\", \"2009\", \"2010\", \"2011\", \"2012\", \"2013\", \"2014\", \"2015\", \"2016\", \"2017\", \"2018\"], \"xaxis\": \"x\", \"y\": [null, null, null, null, null, 7.65, 7.65, 16.13, 8.55, 6.23, 1.2, 1.0, 0.83, 1.05, 3.37, 3.23, 3.14, 3.11, 3.14, 5.99, 2.34, 2.25, 2.26], \"yaxis\": \"y\"}],                        {\"legend\": {\"tracegroupgap\": 0}, \"margin\": {\"t\": 60}, \"template\": {\"data\": {\"bar\": [{\"error_x\": {\"color\": \"#2a3f5f\"}, \"error_y\": {\"color\": \"#2a3f5f\"}, \"marker\": {\"line\": {\"color\": \"#E5ECF6\", \"width\": 0.5}}, \"type\": \"bar\"}], \"barpolar\": [{\"marker\": {\"line\": {\"color\": \"#E5ECF6\", \"width\": 0.5}}, \"type\": \"barpolar\"}], \"carpet\": [{\"aaxis\": {\"endlinecolor\": \"#2a3f5f\", \"gridcolor\": \"white\", \"linecolor\": \"white\", \"minorgridcolor\": \"white\", \"startlinecolor\": \"#2a3f5f\"}, \"baxis\": {\"endlinecolor\": \"#2a3f5f\", \"gridcolor\": \"white\", \"linecolor\": \"white\", \"minorgridcolor\": \"white\", \"startlinecolor\": \"#2a3f5f\"}, \"type\": \"carpet\"}], \"choropleth\": [{\"colorbar\": {\"outlinewidth\": 0, \"ticks\": \"\"}, \"type\": \"choropleth\"}], \"contour\": [{\"colorbar\": {\"outlinewidth\": 0, \"ticks\": \"\"}, \"colorscale\": [[0.0, \"#0d0887\"], [0.1111111111111111, \"#46039f\"], [0.2222222222222222, \"#7201a8\"], [0.3333333333333333, \"#9c179e\"], [0.4444444444444444, \"#bd3786\"], [0.5555555555555556, \"#d8576b\"], [0.6666666666666666, \"#ed7953\"], [0.7777777777777778, \"#fb9f3a\"], [0.8888888888888888, \"#fdca26\"], [1.0, \"#f0f921\"]], \"type\": \"contour\"}], \"contourcarpet\": [{\"colorbar\": {\"outlinewidth\": 0, \"ticks\": \"\"}, \"type\": \"contourcarpet\"}], \"heatmap\": [{\"colorbar\": {\"outlinewidth\": 0, \"ticks\": \"\"}, \"colorscale\": [[0.0, \"#0d0887\"], [0.1111111111111111, \"#46039f\"], [0.2222222222222222, \"#7201a8\"], [0.3333333333333333, \"#9c179e\"], [0.4444444444444444, \"#bd3786\"], [0.5555555555555556, \"#d8576b\"], [0.6666666666666666, \"#ed7953\"], [0.7777777777777778, \"#fb9f3a\"], [0.8888888888888888, \"#fdca26\"], [1.0, \"#f0f921\"]], \"type\": \"heatmap\"}], \"heatmapgl\": [{\"colorbar\": {\"outlinewidth\": 0, \"ticks\": \"\"}, \"colorscale\": [[0.0, \"#0d0887\"], [0.1111111111111111, \"#46039f\"], [0.2222222222222222, \"#7201a8\"], [0.3333333333333333, \"#9c179e\"], [0.4444444444444444, \"#bd3786\"], [0.5555555555555556, \"#d8576b\"], [0.6666666666666666, \"#ed7953\"], [0.7777777777777778, \"#fb9f3a\"], [0.8888888888888888, \"#fdca26\"], [1.0, \"#f0f921\"]], \"type\": \"heatmapgl\"}], \"histogram\": [{\"marker\": {\"colorbar\": {\"outlinewidth\": 0, \"ticks\": \"\"}}, \"type\": \"histogram\"}], \"histogram2d\": [{\"colorbar\": {\"outlinewidth\": 0, \"ticks\": \"\"}, \"colorscale\": [[0.0, \"#0d0887\"], [0.1111111111111111, \"#46039f\"], [0.2222222222222222, \"#7201a8\"], [0.3333333333333333, \"#9c179e\"], [0.4444444444444444, \"#bd3786\"], [0.5555555555555556, \"#d8576b\"], [0.6666666666666666, \"#ed7953\"], [0.7777777777777778, \"#fb9f3a\"], [0.8888888888888888, \"#fdca26\"], [1.0, \"#f0f921\"]], \"type\": \"histogram2d\"}], \"histogram2dcontour\": [{\"colorbar\": {\"outlinewidth\": 0, \"ticks\": \"\"}, \"colorscale\": [[0.0, \"#0d0887\"], [0.1111111111111111, \"#46039f\"], [0.2222222222222222, \"#7201a8\"], [0.3333333333333333, \"#9c179e\"], [0.4444444444444444, \"#bd3786\"], [0.5555555555555556, \"#d8576b\"], [0.6666666666666666, \"#ed7953\"], [0.7777777777777778, \"#fb9f3a\"], [0.8888888888888888, \"#fdca26\"], [1.0, \"#f0f921\"]], \"type\": \"histogram2dcontour\"}], \"mesh3d\": [{\"colorbar\": {\"outlinewidth\": 0, \"ticks\": \"\"}, \"type\": \"mesh3d\"}], \"parcoords\": [{\"line\": {\"colorbar\": {\"outlinewidth\": 0, \"ticks\": \"\"}}, \"type\": \"parcoords\"}], \"pie\": [{\"automargin\": true, \"type\": \"pie\"}], \"scatter\": [{\"marker\": {\"colorbar\": {\"outlinewidth\": 0, \"ticks\": \"\"}}, \"type\": \"scatter\"}], \"scatter3d\": [{\"line\": {\"colorbar\": {\"outlinewidth\": 0, \"ticks\": \"\"}}, \"marker\": {\"colorbar\": {\"outlinewidth\": 0, \"ticks\": \"\"}}, \"type\": \"scatter3d\"}], \"scattercarpet\": [{\"marker\": {\"colorbar\": {\"outlinewidth\": 0, \"ticks\": \"\"}}, \"type\": \"scattercarpet\"}], \"scattergeo\": [{\"marker\": {\"colorbar\": {\"outlinewidth\": 0, \"ticks\": \"\"}}, \"type\": \"scattergeo\"}], \"scattergl\": [{\"marker\": {\"colorbar\": {\"outlinewidth\": 0, \"ticks\": \"\"}}, \"type\": \"scattergl\"}], \"scattermapbox\": [{\"marker\": {\"colorbar\": {\"outlinewidth\": 0, \"ticks\": \"\"}}, \"type\": \"scattermapbox\"}], \"scatterpolar\": [{\"marker\": {\"colorbar\": {\"outlinewidth\": 0, \"ticks\": \"\"}}, \"type\": \"scatterpolar\"}], \"scatterpolargl\": [{\"marker\": {\"colorbar\": {\"outlinewidth\": 0, \"ticks\": \"\"}}, \"type\": \"scatterpolargl\"}], \"scatterternary\": [{\"marker\": {\"colorbar\": {\"outlinewidth\": 0, \"ticks\": \"\"}}, \"type\": \"scatterternary\"}], \"surface\": [{\"colorbar\": {\"outlinewidth\": 0, \"ticks\": \"\"}, \"colorscale\": [[0.0, \"#0d0887\"], [0.1111111111111111, \"#46039f\"], [0.2222222222222222, \"#7201a8\"], [0.3333333333333333, \"#9c179e\"], [0.4444444444444444, \"#bd3786\"], [0.5555555555555556, \"#d8576b\"], [0.6666666666666666, \"#ed7953\"], [0.7777777777777778, \"#fb9f3a\"], [0.8888888888888888, \"#fdca26\"], [1.0, \"#f0f921\"]], \"type\": \"surface\"}], \"table\": [{\"cells\": {\"fill\": {\"color\": \"#EBF0F8\"}, \"line\": {\"color\": \"white\"}}, \"header\": {\"fill\": {\"color\": \"#C8D4E3\"}, \"line\": {\"color\": \"white\"}}, \"type\": \"table\"}]}, \"layout\": {\"annotationdefaults\": {\"arrowcolor\": \"#2a3f5f\", \"arrowhead\": 0, \"arrowwidth\": 1}, \"autotypenumbers\": \"strict\", \"coloraxis\": {\"colorbar\": {\"outlinewidth\": 0, \"ticks\": \"\"}}, \"colorscale\": {\"diverging\": [[0, \"#8e0152\"], [0.1, \"#c51b7d\"], [0.2, \"#de77ae\"], [0.3, \"#f1b6da\"], [0.4, \"#fde0ef\"], [0.5, \"#f7f7f7\"], [0.6, \"#e6f5d0\"], [0.7, \"#b8e186\"], [0.8, \"#7fbc41\"], [0.9, \"#4d9221\"], [1, \"#276419\"]], \"sequential\": [[0.0, \"#0d0887\"], [0.1111111111111111, \"#46039f\"], [0.2222222222222222, \"#7201a8\"], [0.3333333333333333, \"#9c179e\"], [0.4444444444444444, \"#bd3786\"], [0.5555555555555556, \"#d8576b\"], [0.6666666666666666, \"#ed7953\"], [0.7777777777777778, \"#fb9f3a\"], [0.8888888888888888, \"#fdca26\"], [1.0, \"#f0f921\"]], \"sequentialminus\": [[0.0, \"#0d0887\"], [0.1111111111111111, \"#46039f\"], [0.2222222222222222, \"#7201a8\"], [0.3333333333333333, \"#9c179e\"], [0.4444444444444444, \"#bd3786\"], [0.5555555555555556, \"#d8576b\"], [0.6666666666666666, \"#ed7953\"], [0.7777777777777778, \"#fb9f3a\"], [0.8888888888888888, \"#fdca26\"], [1.0, \"#f0f921\"]]}, \"colorway\": [\"#636efa\", \"#EF553B\", \"#00cc96\", \"#ab63fa\", \"#FFA15A\", \"#19d3f3\", \"#FF6692\", \"#B6E880\", \"#FF97FF\", \"#FECB52\"], \"font\": {\"color\": \"#2a3f5f\"}, \"geo\": {\"bgcolor\": \"white\", \"lakecolor\": \"white\", \"landcolor\": \"#E5ECF6\", \"showlakes\": true, \"showland\": true, \"subunitcolor\": \"white\"}, \"hoverlabel\": {\"align\": \"left\"}, \"hovermode\": \"closest\", \"mapbox\": {\"style\": \"light\"}, \"paper_bgcolor\": \"white\", \"plot_bgcolor\": \"#E5ECF6\", \"polar\": {\"angularaxis\": {\"gridcolor\": \"white\", \"linecolor\": \"white\", \"ticks\": \"\"}, \"bgcolor\": \"#E5ECF6\", \"radialaxis\": {\"gridcolor\": \"white\", \"linecolor\": \"white\", \"ticks\": \"\"}}, \"scene\": {\"xaxis\": {\"backgroundcolor\": \"#E5ECF6\", \"gridcolor\": \"white\", \"gridwidth\": 2, \"linecolor\": \"white\", \"showbackground\": true, \"ticks\": \"\", \"zerolinecolor\": \"white\"}, \"yaxis\": {\"backgroundcolor\": \"#E5ECF6\", \"gridcolor\": \"white\", \"gridwidth\": 2, \"linecolor\": \"white\", \"showbackground\": true, \"ticks\": \"\", \"zerolinecolor\": \"white\"}, \"zaxis\": {\"backgroundcolor\": \"#E5ECF6\", \"gridcolor\": \"white\", \"gridwidth\": 2, \"linecolor\": \"white\", \"showbackground\": true, \"ticks\": \"\", \"zerolinecolor\": \"white\"}}, \"shapedefaults\": {\"line\": {\"color\": \"#2a3f5f\"}}, \"ternary\": {\"aaxis\": {\"gridcolor\": \"white\", \"linecolor\": \"white\", \"ticks\": \"\"}, \"baxis\": {\"gridcolor\": \"white\", \"linecolor\": \"white\", \"ticks\": \"\"}, \"bgcolor\": \"#E5ECF6\", \"caxis\": {\"gridcolor\": \"white\", \"linecolor\": \"white\", \"ticks\": \"\"}}, \"title\": {\"x\": 0.05}, \"xaxis\": {\"automargin\": true, \"gridcolor\": \"white\", \"linecolor\": \"white\", \"ticks\": \"\", \"title\": {\"standoff\": 15}, \"zerolinecolor\": \"white\", \"zerolinewidth\": 2}, \"yaxis\": {\"automargin\": true, \"gridcolor\": \"white\", \"linecolor\": \"white\", \"ticks\": \"\", \"title\": {\"standoff\": 15}, \"zerolinecolor\": \"white\", \"zerolinewidth\": 2}}}, \"xaxis\": {\"anchor\": \"y\", \"domain\": [0.0, 1.0], \"title\": {\"text\": \"YEAR\"}}, \"yaxis\": {\"anchor\": \"x\", \"domain\": [0.0, 1.0], \"title\": {\"text\": \"PCT_CHANGE\"}}},                        {\"responsive\": true}                    ).then(function(){\n                            \nvar gd = document.getElementById('4b64e6f4-d1e9-4c0b-9ce9-3613f293b93c');\nvar x = new MutationObserver(function (mutations, observer) {{\n        var display = window.getComputedStyle(gd).display;\n        if (!display || display === 'none') {{\n            console.log([gd, 'removed!']);\n            Plotly.purge(gd);\n            observer.disconnect();\n        }}\n}});\n\n// Listen for the removal of the full notebook cells\nvar notebookContainer = gd.closest('#notebook-container');\nif (notebookContainer) {{\n    x.observe(notebookContainer, {childList: true});\n}}\n\n// Listen for the clearing of the current output cell\nvar outputEl = gd.closest('.output');\nif (outputEl) {{\n    x.observe(outputEl, {childList: true});\n}}\n\n                        })                };                            </script>        </div>\n</body>\n</html>"
          },
          "metadata": {},
          "output_type": "display_data"
        }
      ]
    },
    {
      "cell_type": "markdown",
      "source": "## <12>\nSince we want to do the same calculation for JHU. \nInstead of doing it piecemeal as we did for UMBC\nLet's create a function which can be reused for any college.\nThis function takes a list of tuitions and return a list of percentage changes year over year\nThis function can be used later  ",
      "metadata": {
        "id": "eCqEe_646zMc",
        "cell_id": "00017-bd85d9c1-d9b3-4802-b647-56bd4e71ffba",
        "deepnote_to_be_reexecuted": false,
        "source_hash": "ae9f0ccf",
        "execution_start": 1618162046115,
        "deepnote_cell_type": "markdown"
      }
    },
    {
      "cell_type": "code",
      "metadata": {
        "tags": [],
        "cell_id": "00045-925c7617-a798-43d2-82e3-e8b12e184dbe",
        "deepnote_to_be_reexecuted": false,
        "source_hash": "87cb11d5",
        "execution_millis": 1,
        "execution_start": 1618232826270,
        "deepnote_cell_type": "code"
      },
      "source": "def pct_change(df_inst):\n\n    tuition = df_inst['TUITIONFEE_IN'].tolist()\n\n    prev_tuition = 0\n    tuition_change = []\n\n    for cost in tuition:\n        if cost == cost:\n            if prev_tuition == 0:\n                prev_tuition = cost\n            pctchange = ((cost - prev_tuition)/prev_tuition) * 100\n            tuition_change.append(pctchange)\n        else:\n            tuition_change.append(cost)\n        prev_tuition = cost\n\n    tuition_change = [round(pctchange, 2) for pctchange in tuition_change]\n\n    df_inst['PCT_CHANGE'] = tuition_change\n\n    return df_inst",
      "execution_count": null,
      "outputs": []
    },
    {
      "cell_type": "markdown",
      "source": "## <13>\nthe dataframe contains many years of data of all U.S. colleges.\nlet's just look at JHU\nfilter/query the dataframe to retrieve only rows that belong to JHU\nsave the JHU data to a new data frame. using a new variable \nso that the old big data frame is still available for later use.\n\n",
      "metadata": {
        "id": "f2mhYOjV6zMj",
        "cell_id": "00018-2d1982db-7826-47dd-8fa6-c511624b21e7",
        "deepnote_to_be_reexecuted": false,
        "source_hash": "342407df",
        "execution_start": 1618162046119,
        "deepnote_cell_type": "markdown"
      }
    },
    {
      "cell_type": "code",
      "metadata": {
        "tags": [],
        "cell_id": "00047-da300818-aa35-4fcd-818e-b7ce8fc9a8d7",
        "deepnote_to_be_reexecuted": false,
        "source_hash": "9a8ffc71",
        "execution_millis": 91,
        "execution_start": 1618227426143,
        "deepnote_cell_type": "code"
      },
      "source": "df_jhu = df.query('INSTNM == \"Johns Hopkins University\"')\ndf_jhu",
      "execution_count": null,
      "outputs": [
        {
          "output_type": "execute_result",
          "execution_count": 177,
          "data": {
            "application/vnd.deepnote.dataframe.v2+json": {
              "row_count": 23,
              "column_count": 7,
              "columns": [
                {
                  "name": "UNITID",
                  "dtype": "int64",
                  "stats": {
                    "unique_count": 1,
                    "nan_count": 0,
                    "min": 162928,
                    "max": 162928,
                    "histogram": [
                      {
                        "bin_start": 162927.5,
                        "bin_end": 162927.6,
                        "count": 0
                      },
                      {
                        "bin_start": 162927.6,
                        "bin_end": 162927.7,
                        "count": 0
                      },
                      {
                        "bin_start": 162927.7,
                        "bin_end": 162927.8,
                        "count": 0
                      },
                      {
                        "bin_start": 162927.8,
                        "bin_end": 162927.9,
                        "count": 0
                      },
                      {
                        "bin_start": 162927.9,
                        "bin_end": 162928,
                        "count": 0
                      },
                      {
                        "bin_start": 162928,
                        "bin_end": 162928.1,
                        "count": 23
                      },
                      {
                        "bin_start": 162928.1,
                        "bin_end": 162928.2,
                        "count": 0
                      },
                      {
                        "bin_start": 162928.2,
                        "bin_end": 162928.3,
                        "count": 0
                      },
                      {
                        "bin_start": 162928.3,
                        "bin_end": 162928.4,
                        "count": 0
                      },
                      {
                        "bin_start": 162928.4,
                        "bin_end": 162928.5,
                        "count": 0
                      }
                    ]
                  }
                },
                {
                  "name": "INSTNM",
                  "dtype": "object",
                  "stats": {
                    "unique_count": 1,
                    "nan_count": 0,
                    "categories": [
                      {
                        "name": "Johns Hopkins University",
                        "count": 23
                      }
                    ]
                  }
                },
                {
                  "name": "STABBR",
                  "dtype": "object",
                  "stats": {
                    "unique_count": 1,
                    "nan_count": 0,
                    "categories": [
                      {
                        "name": "MD",
                        "count": 23
                      }
                    ]
                  }
                },
                {
                  "name": "REGION",
                  "dtype": "float64",
                  "stats": {
                    "unique_count": 1,
                    "nan_count": 0,
                    "min": 2,
                    "max": 2,
                    "histogram": [
                      {
                        "bin_start": 1.5,
                        "bin_end": 1.6,
                        "count": 0
                      },
                      {
                        "bin_start": 1.6,
                        "bin_end": 1.7,
                        "count": 0
                      },
                      {
                        "bin_start": 1.7,
                        "bin_end": 1.8,
                        "count": 0
                      },
                      {
                        "bin_start": 1.8,
                        "bin_end": 1.9,
                        "count": 0
                      },
                      {
                        "bin_start": 1.9,
                        "bin_end": 2,
                        "count": 0
                      },
                      {
                        "bin_start": 2,
                        "bin_end": 2.1,
                        "count": 23
                      },
                      {
                        "bin_start": 2.1,
                        "bin_end": 2.2,
                        "count": 0
                      },
                      {
                        "bin_start": 2.2,
                        "bin_end": 2.3,
                        "count": 0
                      },
                      {
                        "bin_start": 2.3,
                        "bin_end": 2.4,
                        "count": 0
                      },
                      {
                        "bin_start": 2.4,
                        "bin_end": 2.5,
                        "count": 0
                      }
                    ]
                  }
                },
                {
                  "name": "ADM_RATE",
                  "dtype": "float64",
                  "stats": {
                    "unique_count": 18,
                    "nan_count": 5,
                    "min": 0.1148,
                    "max": 0.3509,
                    "histogram": [
                      {
                        "bin_start": 0.1148,
                        "bin_end": 0.13841,
                        "count": 3
                      },
                      {
                        "bin_start": 0.13841,
                        "bin_end": 0.16202,
                        "count": 2
                      },
                      {
                        "bin_start": 0.16202,
                        "bin_end": 0.18563000000000002,
                        "count": 2
                      },
                      {
                        "bin_start": 0.18563000000000002,
                        "bin_end": 0.20923999999999998,
                        "count": 1
                      },
                      {
                        "bin_start": 0.20923999999999998,
                        "bin_end": 0.23285,
                        "count": 1
                      },
                      {
                        "bin_start": 0.23285,
                        "bin_end": 0.25646,
                        "count": 0
                      },
                      {
                        "bin_start": 0.25646,
                        "bin_end": 0.28007,
                        "count": 4
                      },
                      {
                        "bin_start": 0.28007,
                        "bin_end": 0.30368,
                        "count": 0
                      },
                      {
                        "bin_start": 0.30368,
                        "bin_end": 0.32728999999999997,
                        "count": 2
                      },
                      {
                        "bin_start": 0.32728999999999997,
                        "bin_end": 0.3509,
                        "count": 3
                      }
                    ]
                  }
                },
                {
                  "name": "TUITIONFEE_IN",
                  "dtype": "float64",
                  "stats": {
                    "unique_count": 19,
                    "nan_count": 4,
                    "min": 24930,
                    "max": 53740,
                    "histogram": [
                      {
                        "bin_start": 24930,
                        "bin_end": 27811,
                        "count": 3
                      },
                      {
                        "bin_start": 27811,
                        "bin_end": 30692,
                        "count": 2
                      },
                      {
                        "bin_start": 30692,
                        "bin_end": 33573,
                        "count": 1
                      },
                      {
                        "bin_start": 33573,
                        "bin_end": 36454,
                        "count": 2
                      },
                      {
                        "bin_start": 36454,
                        "bin_end": 39335,
                        "count": 2
                      },
                      {
                        "bin_start": 39335,
                        "bin_end": 42216,
                        "count": 1
                      },
                      {
                        "bin_start": 42216,
                        "bin_end": 45097,
                        "count": 2
                      },
                      {
                        "bin_start": 45097,
                        "bin_end": 47978,
                        "count": 2
                      },
                      {
                        "bin_start": 47978,
                        "bin_end": 50859,
                        "count": 2
                      },
                      {
                        "bin_start": 50859,
                        "bin_end": 53740,
                        "count": 2
                      }
                    ]
                  }
                },
                {
                  "name": "YEAR",
                  "dtype": "object",
                  "stats": {
                    "unique_count": 23,
                    "nan_count": 0,
                    "categories": [
                      {
                        "name": "1996",
                        "count": 1
                      },
                      {
                        "name": "1997",
                        "count": 1
                      },
                      {
                        "name": "21 others",
                        "count": 21
                      }
                    ]
                  }
                },
                {
                  "name": "_deepnote_index_column",
                  "dtype": "int64"
                }
              ],
              "rows_top": [
                {
                  "UNITID": 162928,
                  "INSTNM": "Johns Hopkins University",
                  "STABBR": "MD",
                  "REGION": 2,
                  "ADM_RATE": "nan",
                  "TUITIONFEE_IN": "nan",
                  "YEAR": "1996",
                  "_deepnote_index_column": 2139
                },
                {
                  "UNITID": 162928,
                  "INSTNM": "Johns Hopkins University",
                  "STABBR": "MD",
                  "REGION": 2,
                  "ADM_RATE": "nan",
                  "TUITIONFEE_IN": "nan",
                  "YEAR": "1997",
                  "_deepnote_index_column": 2039
                },
                {
                  "UNITID": 162928,
                  "INSTNM": "Johns Hopkins University",
                  "STABBR": "MD",
                  "REGION": 2,
                  "ADM_RATE": "nan",
                  "TUITIONFEE_IN": "nan",
                  "YEAR": "1998",
                  "_deepnote_index_column": 1973
                },
                {
                  "UNITID": 162928,
                  "INSTNM": "Johns Hopkins University",
                  "STABBR": "MD",
                  "REGION": 2,
                  "ADM_RATE": "nan",
                  "TUITIONFEE_IN": "nan",
                  "YEAR": "1999",
                  "_deepnote_index_column": 1946
                },
                {
                  "UNITID": 162928,
                  "INSTNM": "Johns Hopkins University",
                  "STABBR": "MD",
                  "REGION": 2,
                  "ADM_RATE": "nan",
                  "TUITIONFEE_IN": "24930.0",
                  "YEAR": "2000",
                  "_deepnote_index_column": 1917
                },
                {
                  "UNITID": 162928,
                  "INSTNM": "Johns Hopkins University",
                  "STABBR": "MD",
                  "REGION": 2,
                  "ADM_RATE": "0.3431",
                  "TUITIONFEE_IN": "26210.0",
                  "YEAR": "2001",
                  "_deepnote_index_column": 1906
                },
                {
                  "UNITID": 162928,
                  "INSTNM": "Johns Hopkins University",
                  "STABBR": "MD",
                  "REGION": 2,
                  "ADM_RATE": "0.3506",
                  "TUITIONFEE_IN": "27390.0",
                  "YEAR": "2002",
                  "_deepnote_index_column": 1884
                },
                {
                  "UNITID": 162928,
                  "INSTNM": "Johns Hopkins University",
                  "STABBR": "MD",
                  "REGION": 2,
                  "ADM_RATE": "0.306",
                  "TUITIONFEE_IN": "28730.0",
                  "YEAR": "2003",
                  "_deepnote_index_column": 1865
                },
                {
                  "UNITID": 162928,
                  "INSTNM": "Johns Hopkins University",
                  "STABBR": "MD",
                  "REGION": 2,
                  "ADM_RATE": "0.3071",
                  "TUITIONFEE_IN": "30140.0",
                  "YEAR": "2004",
                  "_deepnote_index_column": 1823
                },
                {
                  "UNITID": 162928,
                  "INSTNM": "Johns Hopkins University",
                  "STABBR": "MD",
                  "REGION": 2,
                  "ADM_RATE": "0.3509",
                  "TUITIONFEE_IN": "31620.0",
                  "YEAR": "2005",
                  "_deepnote_index_column": 1812
                },
                {
                  "UNITID": 162928,
                  "INSTNM": "Johns Hopkins University",
                  "STABBR": "MD",
                  "REGION": 2,
                  "ADM_RATE": "0.2792",
                  "TUITIONFEE_IN": "33900.0",
                  "YEAR": "2006",
                  "_deepnote_index_column": 1792
                },
                {
                  "UNITID": 162928,
                  "INSTNM": "Johns Hopkins University",
                  "STABBR": "MD",
                  "REGION": 2,
                  "ADM_RATE": "0.2571",
                  "TUITIONFEE_IN": "35900.0",
                  "YEAR": "2007",
                  "_deepnote_index_column": 1772
                },
                {
                  "UNITID": 162928,
                  "INSTNM": "Johns Hopkins University",
                  "STABBR": "MD",
                  "REGION": 2,
                  "ADM_RATE": "0.2609",
                  "TUITIONFEE_IN": "37700.0",
                  "YEAR": "2008",
                  "_deepnote_index_column": 1760
                },
                {
                  "UNITID": 162928,
                  "INSTNM": "Johns Hopkins University",
                  "STABBR": "MD",
                  "REGION": 2,
                  "ADM_RATE": "0.2782",
                  "TUITIONFEE_IN": "39150.0",
                  "YEAR": "2009",
                  "_deepnote_index_column": 1738
                },
                {
                  "UNITID": 162928,
                  "INSTNM": "Johns Hopkins University",
                  "STABBR": "MD",
                  "REGION": 2,
                  "ADM_RATE": "0.2225",
                  "TUITIONFEE_IN": "40680.0",
                  "YEAR": "2010",
                  "_deepnote_index_column": 1703
                },
                {
                  "UNITID": 162928,
                  "INSTNM": "Johns Hopkins University",
                  "STABBR": "MD",
                  "REGION": 2,
                  "ADM_RATE": "0.194",
                  "TUITIONFEE_IN": "42280.0",
                  "YEAR": "2011",
                  "_deepnote_index_column": 1687
                },
                {
                  "UNITID": 162928,
                  "INSTNM": "Johns Hopkins University",
                  "STABBR": "MD",
                  "REGION": 2,
                  "ADM_RATE": "0.1843",
                  "TUITIONFEE_IN": "43390.0",
                  "YEAR": "2012",
                  "_deepnote_index_column": 1653
                },
                {
                  "UNITID": 162928,
                  "INSTNM": "Johns Hopkins University",
                  "STABBR": "MD",
                  "REGION": 2,
                  "ADM_RATE": "0.1813",
                  "TUITIONFEE_IN": "45470.0",
                  "YEAR": "2013",
                  "_deepnote_index_column": 1622
                },
                {
                  "UNITID": 162928,
                  "INSTNM": "Johns Hopkins University",
                  "STABBR": "MD",
                  "REGION": 2,
                  "ADM_RATE": "0.1608",
                  "TUITIONFEE_IN": "47060.0",
                  "YEAR": "2014",
                  "_deepnote_index_column": 1603
                },
                {
                  "UNITID": 162928,
                  "INSTNM": "Johns Hopkins University",
                  "STABBR": "MD",
                  "REGION": 2,
                  "ADM_RATE": "0.1412",
                  "TUITIONFEE_IN": "48710.0",
                  "YEAR": "2015",
                  "_deepnote_index_column": 1548
                },
                {
                  "UNITID": 162928,
                  "INSTNM": "Johns Hopkins University",
                  "STABBR": "MD",
                  "REGION": 2,
                  "ADM_RATE": "0.1284",
                  "TUITIONFEE_IN": "50410.0",
                  "YEAR": "2016",
                  "_deepnote_index_column": 1503
                },
                {
                  "UNITID": 162928,
                  "INSTNM": "Johns Hopkins University",
                  "STABBR": "MD",
                  "REGION": 2,
                  "ADM_RATE": "0.1254",
                  "TUITIONFEE_IN": "52170.0",
                  "YEAR": "2017",
                  "_deepnote_index_column": 1473
                },
                {
                  "UNITID": 162928,
                  "INSTNM": "Johns Hopkins University",
                  "STABBR": "MD",
                  "REGION": 2,
                  "ADM_RATE": "0.1148",
                  "TUITIONFEE_IN": "53740.0",
                  "YEAR": "2018",
                  "_deepnote_index_column": 1410
                }
              ],
              "rows_bottom": null
            },
            "text/plain": "      UNITID                    INSTNM STABBR  REGION  ADM_RATE  \\\n2139  162928  Johns Hopkins University     MD     2.0       NaN   \n2039  162928  Johns Hopkins University     MD     2.0       NaN   \n1973  162928  Johns Hopkins University     MD     2.0       NaN   \n1946  162928  Johns Hopkins University     MD     2.0       NaN   \n1917  162928  Johns Hopkins University     MD     2.0       NaN   \n1906  162928  Johns Hopkins University     MD     2.0    0.3431   \n1884  162928  Johns Hopkins University     MD     2.0    0.3506   \n1865  162928  Johns Hopkins University     MD     2.0    0.3060   \n1823  162928  Johns Hopkins University     MD     2.0    0.3071   \n1812  162928  Johns Hopkins University     MD     2.0    0.3509   \n1792  162928  Johns Hopkins University     MD     2.0    0.2792   \n1772  162928  Johns Hopkins University     MD     2.0    0.2571   \n1760  162928  Johns Hopkins University     MD     2.0    0.2609   \n1738  162928  Johns Hopkins University     MD     2.0    0.2782   \n1703  162928  Johns Hopkins University     MD     2.0    0.2225   \n1687  162928  Johns Hopkins University     MD     2.0    0.1940   \n1653  162928  Johns Hopkins University     MD     2.0    0.1843   \n1622  162928  Johns Hopkins University     MD     2.0    0.1813   \n1603  162928  Johns Hopkins University     MD     2.0    0.1608   \n1548  162928  Johns Hopkins University     MD     2.0    0.1412   \n1503  162928  Johns Hopkins University     MD     2.0    0.1284   \n1473  162928  Johns Hopkins University     MD     2.0    0.1254   \n1410  162928  Johns Hopkins University     MD     2.0    0.1148   \n\n      TUITIONFEE_IN  YEAR  \n2139            NaN  1996  \n2039            NaN  1997  \n1973            NaN  1998  \n1946            NaN  1999  \n1917        24930.0  2000  \n1906        26210.0  2001  \n1884        27390.0  2002  \n1865        28730.0  2003  \n1823        30140.0  2004  \n1812        31620.0  2005  \n1792        33900.0  2006  \n1772        35900.0  2007  \n1760        37700.0  2008  \n1738        39150.0  2009  \n1703        40680.0  2010  \n1687        42280.0  2011  \n1653        43390.0  2012  \n1622        45470.0  2013  \n1603        47060.0  2014  \n1548        48710.0  2015  \n1503        50410.0  2016  \n1473        52170.0  2017  \n1410        53740.0  2018  ",
            "text/html": "<div>\n<style scoped>\n    .dataframe tbody tr th:only-of-type {\n        vertical-align: middle;\n    }\n\n    .dataframe tbody tr th {\n        vertical-align: top;\n    }\n\n    .dataframe thead th {\n        text-align: right;\n    }\n</style>\n<table border=\"1\" class=\"dataframe\">\n  <thead>\n    <tr style=\"text-align: right;\">\n      <th></th>\n      <th>UNITID</th>\n      <th>INSTNM</th>\n      <th>STABBR</th>\n      <th>REGION</th>\n      <th>ADM_RATE</th>\n      <th>TUITIONFEE_IN</th>\n      <th>YEAR</th>\n    </tr>\n  </thead>\n  <tbody>\n    <tr>\n      <th>2139</th>\n      <td>162928</td>\n      <td>Johns Hopkins University</td>\n      <td>MD</td>\n      <td>2.0</td>\n      <td>NaN</td>\n      <td>NaN</td>\n      <td>1996</td>\n    </tr>\n    <tr>\n      <th>2039</th>\n      <td>162928</td>\n      <td>Johns Hopkins University</td>\n      <td>MD</td>\n      <td>2.0</td>\n      <td>NaN</td>\n      <td>NaN</td>\n      <td>1997</td>\n    </tr>\n    <tr>\n      <th>1973</th>\n      <td>162928</td>\n      <td>Johns Hopkins University</td>\n      <td>MD</td>\n      <td>2.0</td>\n      <td>NaN</td>\n      <td>NaN</td>\n      <td>1998</td>\n    </tr>\n    <tr>\n      <th>1946</th>\n      <td>162928</td>\n      <td>Johns Hopkins University</td>\n      <td>MD</td>\n      <td>2.0</td>\n      <td>NaN</td>\n      <td>NaN</td>\n      <td>1999</td>\n    </tr>\n    <tr>\n      <th>1917</th>\n      <td>162928</td>\n      <td>Johns Hopkins University</td>\n      <td>MD</td>\n      <td>2.0</td>\n      <td>NaN</td>\n      <td>24930.0</td>\n      <td>2000</td>\n    </tr>\n    <tr>\n      <th>1906</th>\n      <td>162928</td>\n      <td>Johns Hopkins University</td>\n      <td>MD</td>\n      <td>2.0</td>\n      <td>0.3431</td>\n      <td>26210.0</td>\n      <td>2001</td>\n    </tr>\n    <tr>\n      <th>1884</th>\n      <td>162928</td>\n      <td>Johns Hopkins University</td>\n      <td>MD</td>\n      <td>2.0</td>\n      <td>0.3506</td>\n      <td>27390.0</td>\n      <td>2002</td>\n    </tr>\n    <tr>\n      <th>1865</th>\n      <td>162928</td>\n      <td>Johns Hopkins University</td>\n      <td>MD</td>\n      <td>2.0</td>\n      <td>0.3060</td>\n      <td>28730.0</td>\n      <td>2003</td>\n    </tr>\n    <tr>\n      <th>1823</th>\n      <td>162928</td>\n      <td>Johns Hopkins University</td>\n      <td>MD</td>\n      <td>2.0</td>\n      <td>0.3071</td>\n      <td>30140.0</td>\n      <td>2004</td>\n    </tr>\n    <tr>\n      <th>1812</th>\n      <td>162928</td>\n      <td>Johns Hopkins University</td>\n      <td>MD</td>\n      <td>2.0</td>\n      <td>0.3509</td>\n      <td>31620.0</td>\n      <td>2005</td>\n    </tr>\n    <tr>\n      <th>1792</th>\n      <td>162928</td>\n      <td>Johns Hopkins University</td>\n      <td>MD</td>\n      <td>2.0</td>\n      <td>0.2792</td>\n      <td>33900.0</td>\n      <td>2006</td>\n    </tr>\n    <tr>\n      <th>1772</th>\n      <td>162928</td>\n      <td>Johns Hopkins University</td>\n      <td>MD</td>\n      <td>2.0</td>\n      <td>0.2571</td>\n      <td>35900.0</td>\n      <td>2007</td>\n    </tr>\n    <tr>\n      <th>1760</th>\n      <td>162928</td>\n      <td>Johns Hopkins University</td>\n      <td>MD</td>\n      <td>2.0</td>\n      <td>0.2609</td>\n      <td>37700.0</td>\n      <td>2008</td>\n    </tr>\n    <tr>\n      <th>1738</th>\n      <td>162928</td>\n      <td>Johns Hopkins University</td>\n      <td>MD</td>\n      <td>2.0</td>\n      <td>0.2782</td>\n      <td>39150.0</td>\n      <td>2009</td>\n    </tr>\n    <tr>\n      <th>1703</th>\n      <td>162928</td>\n      <td>Johns Hopkins University</td>\n      <td>MD</td>\n      <td>2.0</td>\n      <td>0.2225</td>\n      <td>40680.0</td>\n      <td>2010</td>\n    </tr>\n    <tr>\n      <th>1687</th>\n      <td>162928</td>\n      <td>Johns Hopkins University</td>\n      <td>MD</td>\n      <td>2.0</td>\n      <td>0.1940</td>\n      <td>42280.0</td>\n      <td>2011</td>\n    </tr>\n    <tr>\n      <th>1653</th>\n      <td>162928</td>\n      <td>Johns Hopkins University</td>\n      <td>MD</td>\n      <td>2.0</td>\n      <td>0.1843</td>\n      <td>43390.0</td>\n      <td>2012</td>\n    </tr>\n    <tr>\n      <th>1622</th>\n      <td>162928</td>\n      <td>Johns Hopkins University</td>\n      <td>MD</td>\n      <td>2.0</td>\n      <td>0.1813</td>\n      <td>45470.0</td>\n      <td>2013</td>\n    </tr>\n    <tr>\n      <th>1603</th>\n      <td>162928</td>\n      <td>Johns Hopkins University</td>\n      <td>MD</td>\n      <td>2.0</td>\n      <td>0.1608</td>\n      <td>47060.0</td>\n      <td>2014</td>\n    </tr>\n    <tr>\n      <th>1548</th>\n      <td>162928</td>\n      <td>Johns Hopkins University</td>\n      <td>MD</td>\n      <td>2.0</td>\n      <td>0.1412</td>\n      <td>48710.0</td>\n      <td>2015</td>\n    </tr>\n    <tr>\n      <th>1503</th>\n      <td>162928</td>\n      <td>Johns Hopkins University</td>\n      <td>MD</td>\n      <td>2.0</td>\n      <td>0.1284</td>\n      <td>50410.0</td>\n      <td>2016</td>\n    </tr>\n    <tr>\n      <th>1473</th>\n      <td>162928</td>\n      <td>Johns Hopkins University</td>\n      <td>MD</td>\n      <td>2.0</td>\n      <td>0.1254</td>\n      <td>52170.0</td>\n      <td>2017</td>\n    </tr>\n    <tr>\n      <th>1410</th>\n      <td>162928</td>\n      <td>Johns Hopkins University</td>\n      <td>MD</td>\n      <td>2.0</td>\n      <td>0.1148</td>\n      <td>53740.0</td>\n      <td>2018</td>\n    </tr>\n  </tbody>\n</table>\n</div>"
          },
          "metadata": {}
        }
      ]
    },
    {
      "cell_type": "markdown",
      "source": "## <14> \nPlot JHU's in-state tuition overtime from 1996 to 2019. \nLet's plot bar and line chart together",
      "metadata": {
        "id": "wGXcNTJ46zMo",
        "cell_id": "00019-cc3697b0-5c20-4193-8371-cfb249d28792",
        "deepnote_to_be_reexecuted": false,
        "source_hash": "62fd7e34",
        "execution_start": 1618198064686,
        "execution_millis": 9,
        "deepnote_cell_type": "markdown"
      }
    },
    {
      "cell_type": "code",
      "metadata": {
        "tags": [],
        "cell_id": "00049-c87f376b-cc0d-49fd-8c2e-4f69cfa21092",
        "deepnote_to_be_reexecuted": false,
        "source_hash": "7d641f90",
        "execution_start": 1618227709488,
        "execution_millis": 160,
        "deepnote_cell_type": "code"
      },
      "source": "jhu_instate_bar = px.bar(df_jhu,\n                        x='YEAR',\n                        y='TUITIONFEE_IN')\n                        \njhu_instate_line = px.line(df_jhu,\n                        x='YEAR',\n                        y='TUITIONFEE_IN')\n\njhu_instate_bar.show()\njhu_instate_line.show()\n",
      "execution_count": null,
      "outputs": [
        {
          "data": {
            "text/html": "<html>\n<head><meta charset=\"utf-8\" /></head>\n<body>\n    <div>            <script src=\"https://cdnjs.cloudflare.com/ajax/libs/mathjax/2.7.5/MathJax.js?config=TeX-AMS-MML_SVG\"></script><script type=\"text/javascript\">if (window.MathJax) {MathJax.Hub.Config({SVG: {font: \"STIX-Web\"}});}</script>                <script type=\"text/javascript\">window.PlotlyConfig = {MathJaxConfig: 'local'};</script>\n        <script src=\"https://cdn.plot.ly/plotly-latest.min.js\"></script>                <div id=\"79e1f6ac-18aa-4c13-9749-8b41804dc6e1\" class=\"plotly-graph-div\" style=\"height:525px; width:100%;\"></div>            <script type=\"text/javascript\">                                    window.PLOTLYENV=window.PLOTLYENV || {};                                    if (document.getElementById(\"79e1f6ac-18aa-4c13-9749-8b41804dc6e1\")) {                    Plotly.newPlot(                        \"79e1f6ac-18aa-4c13-9749-8b41804dc6e1\",                        [{\"alignmentgroup\": \"True\", \"hovertemplate\": \"YEAR=%{x}<br>TUITIONFEE_IN=%{y}<extra></extra>\", \"legendgroup\": \"\", \"marker\": {\"color\": \"#636efa\"}, \"name\": \"\", \"offsetgroup\": \"\", \"orientation\": \"v\", \"showlegend\": false, \"textposition\": \"auto\", \"type\": \"bar\", \"x\": [\"1996\", \"1997\", \"1998\", \"1999\", \"2000\", \"2001\", \"2002\", \"2003\", \"2004\", \"2005\", \"2006\", \"2007\", \"2008\", \"2009\", \"2010\", \"2011\", \"2012\", \"2013\", \"2014\", \"2015\", \"2016\", \"2017\", \"2018\"], \"xaxis\": \"x\", \"y\": [null, null, null, null, 24930.0, 26210.0, 27390.0, 28730.0, 30140.0, 31620.0, 33900.0, 35900.0, 37700.0, 39150.0, 40680.0, 42280.0, 43390.0, 45470.0, 47060.0, 48710.0, 50410.0, 52170.0, 53740.0], \"yaxis\": \"y\"}],                        {\"barmode\": \"relative\", \"legend\": {\"tracegroupgap\": 0}, \"margin\": {\"t\": 60}, \"template\": {\"data\": {\"bar\": [{\"error_x\": {\"color\": \"#2a3f5f\"}, \"error_y\": {\"color\": \"#2a3f5f\"}, \"marker\": {\"line\": {\"color\": \"#E5ECF6\", \"width\": 0.5}}, \"type\": \"bar\"}], \"barpolar\": [{\"marker\": {\"line\": {\"color\": \"#E5ECF6\", \"width\": 0.5}}, \"type\": \"barpolar\"}], \"carpet\": [{\"aaxis\": {\"endlinecolor\": \"#2a3f5f\", \"gridcolor\": \"white\", \"linecolor\": \"white\", \"minorgridcolor\": \"white\", \"startlinecolor\": \"#2a3f5f\"}, \"baxis\": {\"endlinecolor\": \"#2a3f5f\", \"gridcolor\": \"white\", \"linecolor\": \"white\", \"minorgridcolor\": \"white\", \"startlinecolor\": \"#2a3f5f\"}, \"type\": \"carpet\"}], \"choropleth\": [{\"colorbar\": {\"outlinewidth\": 0, \"ticks\": \"\"}, \"type\": \"choropleth\"}], \"contour\": [{\"colorbar\": {\"outlinewidth\": 0, \"ticks\": \"\"}, \"colorscale\": [[0.0, \"#0d0887\"], [0.1111111111111111, \"#46039f\"], [0.2222222222222222, \"#7201a8\"], [0.3333333333333333, \"#9c179e\"], [0.4444444444444444, \"#bd3786\"], [0.5555555555555556, \"#d8576b\"], [0.6666666666666666, \"#ed7953\"], [0.7777777777777778, \"#fb9f3a\"], [0.8888888888888888, \"#fdca26\"], [1.0, \"#f0f921\"]], \"type\": \"contour\"}], \"contourcarpet\": [{\"colorbar\": {\"outlinewidth\": 0, \"ticks\": \"\"}, \"type\": \"contourcarpet\"}], \"heatmap\": [{\"colorbar\": {\"outlinewidth\": 0, \"ticks\": \"\"}, \"colorscale\": [[0.0, \"#0d0887\"], [0.1111111111111111, \"#46039f\"], [0.2222222222222222, \"#7201a8\"], [0.3333333333333333, \"#9c179e\"], [0.4444444444444444, \"#bd3786\"], [0.5555555555555556, \"#d8576b\"], [0.6666666666666666, \"#ed7953\"], [0.7777777777777778, \"#fb9f3a\"], [0.8888888888888888, \"#fdca26\"], [1.0, \"#f0f921\"]], \"type\": \"heatmap\"}], \"heatmapgl\": [{\"colorbar\": {\"outlinewidth\": 0, \"ticks\": \"\"}, \"colorscale\": [[0.0, \"#0d0887\"], [0.1111111111111111, \"#46039f\"], [0.2222222222222222, \"#7201a8\"], [0.3333333333333333, \"#9c179e\"], [0.4444444444444444, \"#bd3786\"], [0.5555555555555556, \"#d8576b\"], [0.6666666666666666, \"#ed7953\"], [0.7777777777777778, \"#fb9f3a\"], [0.8888888888888888, \"#fdca26\"], [1.0, \"#f0f921\"]], \"type\": \"heatmapgl\"}], \"histogram\": [{\"marker\": {\"colorbar\": {\"outlinewidth\": 0, \"ticks\": \"\"}}, \"type\": \"histogram\"}], \"histogram2d\": [{\"colorbar\": {\"outlinewidth\": 0, \"ticks\": \"\"}, \"colorscale\": [[0.0, \"#0d0887\"], [0.1111111111111111, \"#46039f\"], [0.2222222222222222, \"#7201a8\"], [0.3333333333333333, \"#9c179e\"], [0.4444444444444444, \"#bd3786\"], [0.5555555555555556, \"#d8576b\"], [0.6666666666666666, \"#ed7953\"], [0.7777777777777778, \"#fb9f3a\"], [0.8888888888888888, \"#fdca26\"], [1.0, \"#f0f921\"]], \"type\": \"histogram2d\"}], \"histogram2dcontour\": [{\"colorbar\": {\"outlinewidth\": 0, \"ticks\": \"\"}, \"colorscale\": [[0.0, \"#0d0887\"], [0.1111111111111111, \"#46039f\"], [0.2222222222222222, \"#7201a8\"], [0.3333333333333333, \"#9c179e\"], [0.4444444444444444, \"#bd3786\"], [0.5555555555555556, \"#d8576b\"], [0.6666666666666666, \"#ed7953\"], [0.7777777777777778, \"#fb9f3a\"], [0.8888888888888888, \"#fdca26\"], [1.0, \"#f0f921\"]], \"type\": \"histogram2dcontour\"}], \"mesh3d\": [{\"colorbar\": {\"outlinewidth\": 0, \"ticks\": \"\"}, \"type\": \"mesh3d\"}], \"parcoords\": [{\"line\": {\"colorbar\": {\"outlinewidth\": 0, \"ticks\": \"\"}}, \"type\": \"parcoords\"}], \"pie\": [{\"automargin\": true, \"type\": \"pie\"}], \"scatter\": [{\"marker\": {\"colorbar\": {\"outlinewidth\": 0, \"ticks\": \"\"}}, \"type\": \"scatter\"}], \"scatter3d\": [{\"line\": {\"colorbar\": {\"outlinewidth\": 0, \"ticks\": \"\"}}, \"marker\": {\"colorbar\": {\"outlinewidth\": 0, \"ticks\": \"\"}}, \"type\": \"scatter3d\"}], \"scattercarpet\": [{\"marker\": {\"colorbar\": {\"outlinewidth\": 0, \"ticks\": \"\"}}, \"type\": \"scattercarpet\"}], \"scattergeo\": [{\"marker\": {\"colorbar\": {\"outlinewidth\": 0, \"ticks\": \"\"}}, \"type\": \"scattergeo\"}], \"scattergl\": [{\"marker\": {\"colorbar\": {\"outlinewidth\": 0, \"ticks\": \"\"}}, \"type\": \"scattergl\"}], \"scattermapbox\": [{\"marker\": {\"colorbar\": {\"outlinewidth\": 0, \"ticks\": \"\"}}, \"type\": \"scattermapbox\"}], \"scatterpolar\": [{\"marker\": {\"colorbar\": {\"outlinewidth\": 0, \"ticks\": \"\"}}, \"type\": \"scatterpolar\"}], \"scatterpolargl\": [{\"marker\": {\"colorbar\": {\"outlinewidth\": 0, \"ticks\": \"\"}}, \"type\": \"scatterpolargl\"}], \"scatterternary\": [{\"marker\": {\"colorbar\": {\"outlinewidth\": 0, \"ticks\": \"\"}}, \"type\": \"scatterternary\"}], \"surface\": [{\"colorbar\": {\"outlinewidth\": 0, \"ticks\": \"\"}, \"colorscale\": [[0.0, \"#0d0887\"], [0.1111111111111111, \"#46039f\"], [0.2222222222222222, \"#7201a8\"], [0.3333333333333333, \"#9c179e\"], [0.4444444444444444, \"#bd3786\"], [0.5555555555555556, \"#d8576b\"], [0.6666666666666666, \"#ed7953\"], [0.7777777777777778, \"#fb9f3a\"], [0.8888888888888888, \"#fdca26\"], [1.0, \"#f0f921\"]], \"type\": \"surface\"}], \"table\": [{\"cells\": {\"fill\": {\"color\": \"#EBF0F8\"}, \"line\": {\"color\": \"white\"}}, \"header\": {\"fill\": {\"color\": \"#C8D4E3\"}, \"line\": {\"color\": \"white\"}}, \"type\": \"table\"}]}, \"layout\": {\"annotationdefaults\": {\"arrowcolor\": \"#2a3f5f\", \"arrowhead\": 0, \"arrowwidth\": 1}, \"autotypenumbers\": \"strict\", \"coloraxis\": {\"colorbar\": {\"outlinewidth\": 0, \"ticks\": \"\"}}, \"colorscale\": {\"diverging\": [[0, \"#8e0152\"], [0.1, \"#c51b7d\"], [0.2, \"#de77ae\"], [0.3, \"#f1b6da\"], [0.4, \"#fde0ef\"], [0.5, \"#f7f7f7\"], [0.6, \"#e6f5d0\"], [0.7, \"#b8e186\"], [0.8, \"#7fbc41\"], [0.9, \"#4d9221\"], [1, \"#276419\"]], \"sequential\": [[0.0, \"#0d0887\"], [0.1111111111111111, \"#46039f\"], [0.2222222222222222, \"#7201a8\"], [0.3333333333333333, \"#9c179e\"], [0.4444444444444444, \"#bd3786\"], [0.5555555555555556, \"#d8576b\"], [0.6666666666666666, \"#ed7953\"], [0.7777777777777778, \"#fb9f3a\"], [0.8888888888888888, \"#fdca26\"], [1.0, \"#f0f921\"]], \"sequentialminus\": [[0.0, \"#0d0887\"], [0.1111111111111111, \"#46039f\"], [0.2222222222222222, \"#7201a8\"], [0.3333333333333333, \"#9c179e\"], [0.4444444444444444, \"#bd3786\"], [0.5555555555555556, \"#d8576b\"], [0.6666666666666666, \"#ed7953\"], [0.7777777777777778, \"#fb9f3a\"], [0.8888888888888888, \"#fdca26\"], [1.0, \"#f0f921\"]]}, \"colorway\": [\"#636efa\", \"#EF553B\", \"#00cc96\", \"#ab63fa\", \"#FFA15A\", \"#19d3f3\", \"#FF6692\", \"#B6E880\", \"#FF97FF\", \"#FECB52\"], \"font\": {\"color\": \"#2a3f5f\"}, \"geo\": {\"bgcolor\": \"white\", \"lakecolor\": \"white\", \"landcolor\": \"#E5ECF6\", \"showlakes\": true, \"showland\": true, \"subunitcolor\": \"white\"}, \"hoverlabel\": {\"align\": \"left\"}, \"hovermode\": \"closest\", \"mapbox\": {\"style\": \"light\"}, \"paper_bgcolor\": \"white\", \"plot_bgcolor\": \"#E5ECF6\", \"polar\": {\"angularaxis\": {\"gridcolor\": \"white\", \"linecolor\": \"white\", \"ticks\": \"\"}, \"bgcolor\": \"#E5ECF6\", \"radialaxis\": {\"gridcolor\": \"white\", \"linecolor\": \"white\", \"ticks\": \"\"}}, \"scene\": {\"xaxis\": {\"backgroundcolor\": \"#E5ECF6\", \"gridcolor\": \"white\", \"gridwidth\": 2, \"linecolor\": \"white\", \"showbackground\": true, \"ticks\": \"\", \"zerolinecolor\": \"white\"}, \"yaxis\": {\"backgroundcolor\": \"#E5ECF6\", \"gridcolor\": \"white\", \"gridwidth\": 2, \"linecolor\": \"white\", \"showbackground\": true, \"ticks\": \"\", \"zerolinecolor\": \"white\"}, \"zaxis\": {\"backgroundcolor\": \"#E5ECF6\", \"gridcolor\": \"white\", \"gridwidth\": 2, \"linecolor\": \"white\", \"showbackground\": true, \"ticks\": \"\", \"zerolinecolor\": \"white\"}}, \"shapedefaults\": {\"line\": {\"color\": \"#2a3f5f\"}}, \"ternary\": {\"aaxis\": {\"gridcolor\": \"white\", \"linecolor\": \"white\", \"ticks\": \"\"}, \"baxis\": {\"gridcolor\": \"white\", \"linecolor\": \"white\", \"ticks\": \"\"}, \"bgcolor\": \"#E5ECF6\", \"caxis\": {\"gridcolor\": \"white\", \"linecolor\": \"white\", \"ticks\": \"\"}}, \"title\": {\"x\": 0.05}, \"xaxis\": {\"automargin\": true, \"gridcolor\": \"white\", \"linecolor\": \"white\", \"ticks\": \"\", \"title\": {\"standoff\": 15}, \"zerolinecolor\": \"white\", \"zerolinewidth\": 2}, \"yaxis\": {\"automargin\": true, \"gridcolor\": \"white\", \"linecolor\": \"white\", \"ticks\": \"\", \"title\": {\"standoff\": 15}, \"zerolinecolor\": \"white\", \"zerolinewidth\": 2}}}, \"xaxis\": {\"anchor\": \"y\", \"domain\": [0.0, 1.0], \"title\": {\"text\": \"YEAR\"}}, \"yaxis\": {\"anchor\": \"x\", \"domain\": [0.0, 1.0], \"title\": {\"text\": \"TUITIONFEE_IN\"}}},                        {\"responsive\": true}                    ).then(function(){\n                            \nvar gd = document.getElementById('79e1f6ac-18aa-4c13-9749-8b41804dc6e1');\nvar x = new MutationObserver(function (mutations, observer) {{\n        var display = window.getComputedStyle(gd).display;\n        if (!display || display === 'none') {{\n            console.log([gd, 'removed!']);\n            Plotly.purge(gd);\n            observer.disconnect();\n        }}\n}});\n\n// Listen for the removal of the full notebook cells\nvar notebookContainer = gd.closest('#notebook-container');\nif (notebookContainer) {{\n    x.observe(notebookContainer, {childList: true});\n}}\n\n// Listen for the clearing of the current output cell\nvar outputEl = gd.closest('.output');\nif (outputEl) {{\n    x.observe(outputEl, {childList: true});\n}}\n\n                        })                };                            </script>        </div>\n</body>\n</html>"
          },
          "metadata": {},
          "output_type": "display_data"
        },
        {
          "data": {
            "text/html": "<html>\n<head><meta charset=\"utf-8\" /></head>\n<body>\n    <div>            <script src=\"https://cdnjs.cloudflare.com/ajax/libs/mathjax/2.7.5/MathJax.js?config=TeX-AMS-MML_SVG\"></script><script type=\"text/javascript\">if (window.MathJax) {MathJax.Hub.Config({SVG: {font: \"STIX-Web\"}});}</script>                <script type=\"text/javascript\">window.PlotlyConfig = {MathJaxConfig: 'local'};</script>\n        <script src=\"https://cdn.plot.ly/plotly-latest.min.js\"></script>                <div id=\"c4c4735d-19e8-4ec4-974b-fb2494fec1f8\" class=\"plotly-graph-div\" style=\"height:525px; width:100%;\"></div>            <script type=\"text/javascript\">                                    window.PLOTLYENV=window.PLOTLYENV || {};                                    if (document.getElementById(\"c4c4735d-19e8-4ec4-974b-fb2494fec1f8\")) {                    Plotly.newPlot(                        \"c4c4735d-19e8-4ec4-974b-fb2494fec1f8\",                        [{\"hovertemplate\": \"YEAR=%{x}<br>TUITIONFEE_IN=%{y}<extra></extra>\", \"legendgroup\": \"\", \"line\": {\"color\": \"#636efa\", \"dash\": \"solid\"}, \"mode\": \"lines\", \"name\": \"\", \"orientation\": \"v\", \"showlegend\": false, \"type\": \"scatter\", \"x\": [\"1996\", \"1997\", \"1998\", \"1999\", \"2000\", \"2001\", \"2002\", \"2003\", \"2004\", \"2005\", \"2006\", \"2007\", \"2008\", \"2009\", \"2010\", \"2011\", \"2012\", \"2013\", \"2014\", \"2015\", \"2016\", \"2017\", \"2018\"], \"xaxis\": \"x\", \"y\": [null, null, null, null, 24930.0, 26210.0, 27390.0, 28730.0, 30140.0, 31620.0, 33900.0, 35900.0, 37700.0, 39150.0, 40680.0, 42280.0, 43390.0, 45470.0, 47060.0, 48710.0, 50410.0, 52170.0, 53740.0], \"yaxis\": \"y\"}],                        {\"legend\": {\"tracegroupgap\": 0}, \"margin\": {\"t\": 60}, \"template\": {\"data\": {\"bar\": [{\"error_x\": {\"color\": \"#2a3f5f\"}, \"error_y\": {\"color\": \"#2a3f5f\"}, \"marker\": {\"line\": {\"color\": \"#E5ECF6\", \"width\": 0.5}}, \"type\": \"bar\"}], \"barpolar\": [{\"marker\": {\"line\": {\"color\": \"#E5ECF6\", \"width\": 0.5}}, \"type\": \"barpolar\"}], \"carpet\": [{\"aaxis\": {\"endlinecolor\": \"#2a3f5f\", \"gridcolor\": \"white\", \"linecolor\": \"white\", \"minorgridcolor\": \"white\", \"startlinecolor\": \"#2a3f5f\"}, \"baxis\": {\"endlinecolor\": \"#2a3f5f\", \"gridcolor\": \"white\", \"linecolor\": \"white\", \"minorgridcolor\": \"white\", \"startlinecolor\": \"#2a3f5f\"}, \"type\": \"carpet\"}], \"choropleth\": [{\"colorbar\": {\"outlinewidth\": 0, \"ticks\": \"\"}, \"type\": \"choropleth\"}], \"contour\": [{\"colorbar\": {\"outlinewidth\": 0, \"ticks\": \"\"}, \"colorscale\": [[0.0, \"#0d0887\"], [0.1111111111111111, \"#46039f\"], [0.2222222222222222, \"#7201a8\"], [0.3333333333333333, \"#9c179e\"], [0.4444444444444444, \"#bd3786\"], [0.5555555555555556, \"#d8576b\"], [0.6666666666666666, \"#ed7953\"], [0.7777777777777778, \"#fb9f3a\"], [0.8888888888888888, \"#fdca26\"], [1.0, \"#f0f921\"]], \"type\": \"contour\"}], \"contourcarpet\": [{\"colorbar\": {\"outlinewidth\": 0, \"ticks\": \"\"}, \"type\": \"contourcarpet\"}], \"heatmap\": [{\"colorbar\": {\"outlinewidth\": 0, \"ticks\": \"\"}, \"colorscale\": [[0.0, \"#0d0887\"], [0.1111111111111111, \"#46039f\"], [0.2222222222222222, \"#7201a8\"], [0.3333333333333333, \"#9c179e\"], [0.4444444444444444, \"#bd3786\"], [0.5555555555555556, \"#d8576b\"], [0.6666666666666666, \"#ed7953\"], [0.7777777777777778, \"#fb9f3a\"], [0.8888888888888888, \"#fdca26\"], [1.0, \"#f0f921\"]], \"type\": \"heatmap\"}], \"heatmapgl\": [{\"colorbar\": {\"outlinewidth\": 0, \"ticks\": \"\"}, \"colorscale\": [[0.0, \"#0d0887\"], [0.1111111111111111, \"#46039f\"], [0.2222222222222222, \"#7201a8\"], [0.3333333333333333, \"#9c179e\"], [0.4444444444444444, \"#bd3786\"], [0.5555555555555556, \"#d8576b\"], [0.6666666666666666, \"#ed7953\"], [0.7777777777777778, \"#fb9f3a\"], [0.8888888888888888, \"#fdca26\"], [1.0, \"#f0f921\"]], \"type\": \"heatmapgl\"}], \"histogram\": [{\"marker\": {\"colorbar\": {\"outlinewidth\": 0, \"ticks\": \"\"}}, \"type\": \"histogram\"}], \"histogram2d\": [{\"colorbar\": {\"outlinewidth\": 0, \"ticks\": \"\"}, \"colorscale\": [[0.0, \"#0d0887\"], [0.1111111111111111, \"#46039f\"], [0.2222222222222222, \"#7201a8\"], [0.3333333333333333, \"#9c179e\"], [0.4444444444444444, \"#bd3786\"], [0.5555555555555556, \"#d8576b\"], [0.6666666666666666, \"#ed7953\"], [0.7777777777777778, \"#fb9f3a\"], [0.8888888888888888, \"#fdca26\"], [1.0, \"#f0f921\"]], \"type\": \"histogram2d\"}], \"histogram2dcontour\": [{\"colorbar\": {\"outlinewidth\": 0, \"ticks\": \"\"}, \"colorscale\": [[0.0, \"#0d0887\"], [0.1111111111111111, \"#46039f\"], [0.2222222222222222, \"#7201a8\"], [0.3333333333333333, \"#9c179e\"], [0.4444444444444444, \"#bd3786\"], [0.5555555555555556, \"#d8576b\"], [0.6666666666666666, \"#ed7953\"], [0.7777777777777778, \"#fb9f3a\"], [0.8888888888888888, \"#fdca26\"], [1.0, \"#f0f921\"]], \"type\": \"histogram2dcontour\"}], \"mesh3d\": [{\"colorbar\": {\"outlinewidth\": 0, \"ticks\": \"\"}, \"type\": \"mesh3d\"}], \"parcoords\": [{\"line\": {\"colorbar\": {\"outlinewidth\": 0, \"ticks\": \"\"}}, \"type\": \"parcoords\"}], \"pie\": [{\"automargin\": true, \"type\": \"pie\"}], \"scatter\": [{\"marker\": {\"colorbar\": {\"outlinewidth\": 0, \"ticks\": \"\"}}, \"type\": \"scatter\"}], \"scatter3d\": [{\"line\": {\"colorbar\": {\"outlinewidth\": 0, \"ticks\": \"\"}}, \"marker\": {\"colorbar\": {\"outlinewidth\": 0, \"ticks\": \"\"}}, \"type\": \"scatter3d\"}], \"scattercarpet\": [{\"marker\": {\"colorbar\": {\"outlinewidth\": 0, \"ticks\": \"\"}}, \"type\": \"scattercarpet\"}], \"scattergeo\": [{\"marker\": {\"colorbar\": {\"outlinewidth\": 0, \"ticks\": \"\"}}, \"type\": \"scattergeo\"}], \"scattergl\": [{\"marker\": {\"colorbar\": {\"outlinewidth\": 0, \"ticks\": \"\"}}, \"type\": \"scattergl\"}], \"scattermapbox\": [{\"marker\": {\"colorbar\": {\"outlinewidth\": 0, \"ticks\": \"\"}}, \"type\": \"scattermapbox\"}], \"scatterpolar\": [{\"marker\": {\"colorbar\": {\"outlinewidth\": 0, \"ticks\": \"\"}}, \"type\": \"scatterpolar\"}], \"scatterpolargl\": [{\"marker\": {\"colorbar\": {\"outlinewidth\": 0, \"ticks\": \"\"}}, \"type\": \"scatterpolargl\"}], \"scatterternary\": [{\"marker\": {\"colorbar\": {\"outlinewidth\": 0, \"ticks\": \"\"}}, \"type\": \"scatterternary\"}], \"surface\": [{\"colorbar\": {\"outlinewidth\": 0, \"ticks\": \"\"}, \"colorscale\": [[0.0, \"#0d0887\"], [0.1111111111111111, \"#46039f\"], [0.2222222222222222, \"#7201a8\"], [0.3333333333333333, \"#9c179e\"], [0.4444444444444444, \"#bd3786\"], [0.5555555555555556, \"#d8576b\"], [0.6666666666666666, \"#ed7953\"], [0.7777777777777778, \"#fb9f3a\"], [0.8888888888888888, \"#fdca26\"], [1.0, \"#f0f921\"]], \"type\": \"surface\"}], \"table\": [{\"cells\": {\"fill\": {\"color\": \"#EBF0F8\"}, \"line\": {\"color\": \"white\"}}, \"header\": {\"fill\": {\"color\": \"#C8D4E3\"}, \"line\": {\"color\": \"white\"}}, \"type\": \"table\"}]}, \"layout\": {\"annotationdefaults\": {\"arrowcolor\": \"#2a3f5f\", \"arrowhead\": 0, \"arrowwidth\": 1}, \"autotypenumbers\": \"strict\", \"coloraxis\": {\"colorbar\": {\"outlinewidth\": 0, \"ticks\": \"\"}}, \"colorscale\": {\"diverging\": [[0, \"#8e0152\"], [0.1, \"#c51b7d\"], [0.2, \"#de77ae\"], [0.3, \"#f1b6da\"], [0.4, \"#fde0ef\"], [0.5, \"#f7f7f7\"], [0.6, \"#e6f5d0\"], [0.7, \"#b8e186\"], [0.8, \"#7fbc41\"], [0.9, \"#4d9221\"], [1, \"#276419\"]], \"sequential\": [[0.0, \"#0d0887\"], [0.1111111111111111, \"#46039f\"], [0.2222222222222222, \"#7201a8\"], [0.3333333333333333, \"#9c179e\"], [0.4444444444444444, \"#bd3786\"], [0.5555555555555556, \"#d8576b\"], [0.6666666666666666, \"#ed7953\"], [0.7777777777777778, \"#fb9f3a\"], [0.8888888888888888, \"#fdca26\"], [1.0, \"#f0f921\"]], \"sequentialminus\": [[0.0, \"#0d0887\"], [0.1111111111111111, \"#46039f\"], [0.2222222222222222, \"#7201a8\"], [0.3333333333333333, \"#9c179e\"], [0.4444444444444444, \"#bd3786\"], [0.5555555555555556, \"#d8576b\"], [0.6666666666666666, \"#ed7953\"], [0.7777777777777778, \"#fb9f3a\"], [0.8888888888888888, \"#fdca26\"], [1.0, \"#f0f921\"]]}, \"colorway\": [\"#636efa\", \"#EF553B\", \"#00cc96\", \"#ab63fa\", \"#FFA15A\", \"#19d3f3\", \"#FF6692\", \"#B6E880\", \"#FF97FF\", \"#FECB52\"], \"font\": {\"color\": \"#2a3f5f\"}, \"geo\": {\"bgcolor\": \"white\", \"lakecolor\": \"white\", \"landcolor\": \"#E5ECF6\", \"showlakes\": true, \"showland\": true, \"subunitcolor\": \"white\"}, \"hoverlabel\": {\"align\": \"left\"}, \"hovermode\": \"closest\", \"mapbox\": {\"style\": \"light\"}, \"paper_bgcolor\": \"white\", \"plot_bgcolor\": \"#E5ECF6\", \"polar\": {\"angularaxis\": {\"gridcolor\": \"white\", \"linecolor\": \"white\", \"ticks\": \"\"}, \"bgcolor\": \"#E5ECF6\", \"radialaxis\": {\"gridcolor\": \"white\", \"linecolor\": \"white\", \"ticks\": \"\"}}, \"scene\": {\"xaxis\": {\"backgroundcolor\": \"#E5ECF6\", \"gridcolor\": \"white\", \"gridwidth\": 2, \"linecolor\": \"white\", \"showbackground\": true, \"ticks\": \"\", \"zerolinecolor\": \"white\"}, \"yaxis\": {\"backgroundcolor\": \"#E5ECF6\", \"gridcolor\": \"white\", \"gridwidth\": 2, \"linecolor\": \"white\", \"showbackground\": true, \"ticks\": \"\", \"zerolinecolor\": \"white\"}, \"zaxis\": {\"backgroundcolor\": \"#E5ECF6\", \"gridcolor\": \"white\", \"gridwidth\": 2, \"linecolor\": \"white\", \"showbackground\": true, \"ticks\": \"\", \"zerolinecolor\": \"white\"}}, \"shapedefaults\": {\"line\": {\"color\": \"#2a3f5f\"}}, \"ternary\": {\"aaxis\": {\"gridcolor\": \"white\", \"linecolor\": \"white\", \"ticks\": \"\"}, \"baxis\": {\"gridcolor\": \"white\", \"linecolor\": \"white\", \"ticks\": \"\"}, \"bgcolor\": \"#E5ECF6\", \"caxis\": {\"gridcolor\": \"white\", \"linecolor\": \"white\", \"ticks\": \"\"}}, \"title\": {\"x\": 0.05}, \"xaxis\": {\"automargin\": true, \"gridcolor\": \"white\", \"linecolor\": \"white\", \"ticks\": \"\", \"title\": {\"standoff\": 15}, \"zerolinecolor\": \"white\", \"zerolinewidth\": 2}, \"yaxis\": {\"automargin\": true, \"gridcolor\": \"white\", \"linecolor\": \"white\", \"ticks\": \"\", \"title\": {\"standoff\": 15}, \"zerolinecolor\": \"white\", \"zerolinewidth\": 2}}}, \"xaxis\": {\"anchor\": \"y\", \"domain\": [0.0, 1.0], \"title\": {\"text\": \"YEAR\"}}, \"yaxis\": {\"anchor\": \"x\", \"domain\": [0.0, 1.0], \"title\": {\"text\": \"TUITIONFEE_IN\"}}},                        {\"responsive\": true}                    ).then(function(){\n                            \nvar gd = document.getElementById('c4c4735d-19e8-4ec4-974b-fb2494fec1f8');\nvar x = new MutationObserver(function (mutations, observer) {{\n        var display = window.getComputedStyle(gd).display;\n        if (!display || display === 'none') {{\n            console.log([gd, 'removed!']);\n            Plotly.purge(gd);\n            observer.disconnect();\n        }}\n}});\n\n// Listen for the removal of the full notebook cells\nvar notebookContainer = gd.closest('#notebook-container');\nif (notebookContainer) {{\n    x.observe(notebookContainer, {childList: true});\n}}\n\n// Listen for the clearing of the current output cell\nvar outputEl = gd.closest('.output');\nif (outputEl) {{\n    x.observe(outputEl, {childList: true});\n}}\n\n                        })                };                            </script>        </div>\n</body>\n</html>"
          },
          "metadata": {},
          "output_type": "display_data"
        }
      ]
    },
    {
      "cell_type": "markdown",
      "source": "## <15>\nLet's calculate the JHU tuition percentge growth using the function defined earlier",
      "metadata": {
        "id": "RPXTrsZT6zMx",
        "cell_id": "00020-efe6f423-4f45-4bda-90c8-e53cdafa3da6",
        "deepnote_to_be_reexecuted": false,
        "source_hash": "77589446",
        "execution_start": 1618198079500,
        "execution_millis": 7,
        "deepnote_cell_type": "markdown"
      }
    },
    {
      "cell_type": "code",
      "metadata": {
        "tags": [],
        "cell_id": "00051-b23ce4da-f5ad-4953-95d3-6e38b1c6ef8a",
        "deepnote_to_be_reexecuted": false,
        "source_hash": "58d4ed83",
        "execution_millis": 55,
        "execution_start": 1618232835456,
        "deepnote_cell_type": "code"
      },
      "source": "pct_change(df_jhu)\ndf_jhu",
      "execution_count": null,
      "outputs": [
        {
          "name": "stderr",
          "text": "/shared-libs/python3.7/py-core/lib/python3.7/site-packages/ipykernel_launcher.py:20: SettingWithCopyWarning:\n\n\nA value is trying to be set on a copy of a slice from a DataFrame.\nTry using .loc[row_indexer,col_indexer] = value instead\n\nSee the caveats in the documentation: https://pandas.pydata.org/pandas-docs/stable/user_guide/indexing.html#returning-a-view-versus-a-copy\n\n",
          "output_type": "stream"
        },
        {
          "output_type": "execute_result",
          "execution_count": 218,
          "data": {
            "application/vnd.deepnote.dataframe.v2+json": {
              "row_count": 23,
              "column_count": 8,
              "columns": [
                {
                  "name": "UNITID",
                  "dtype": "int64",
                  "stats": {
                    "unique_count": 1,
                    "nan_count": 0,
                    "min": 162928,
                    "max": 162928,
                    "histogram": [
                      {
                        "bin_start": 162927.5,
                        "bin_end": 162927.6,
                        "count": 0
                      },
                      {
                        "bin_start": 162927.6,
                        "bin_end": 162927.7,
                        "count": 0
                      },
                      {
                        "bin_start": 162927.7,
                        "bin_end": 162927.8,
                        "count": 0
                      },
                      {
                        "bin_start": 162927.8,
                        "bin_end": 162927.9,
                        "count": 0
                      },
                      {
                        "bin_start": 162927.9,
                        "bin_end": 162928,
                        "count": 0
                      },
                      {
                        "bin_start": 162928,
                        "bin_end": 162928.1,
                        "count": 23
                      },
                      {
                        "bin_start": 162928.1,
                        "bin_end": 162928.2,
                        "count": 0
                      },
                      {
                        "bin_start": 162928.2,
                        "bin_end": 162928.3,
                        "count": 0
                      },
                      {
                        "bin_start": 162928.3,
                        "bin_end": 162928.4,
                        "count": 0
                      },
                      {
                        "bin_start": 162928.4,
                        "bin_end": 162928.5,
                        "count": 0
                      }
                    ]
                  }
                },
                {
                  "name": "INSTNM",
                  "dtype": "object",
                  "stats": {
                    "unique_count": 1,
                    "nan_count": 0,
                    "categories": [
                      {
                        "name": "Johns Hopkins University",
                        "count": 23
                      }
                    ]
                  }
                },
                {
                  "name": "STABBR",
                  "dtype": "object",
                  "stats": {
                    "unique_count": 1,
                    "nan_count": 0,
                    "categories": [
                      {
                        "name": "MD",
                        "count": 23
                      }
                    ]
                  }
                },
                {
                  "name": "REGION",
                  "dtype": "float64",
                  "stats": {
                    "unique_count": 1,
                    "nan_count": 0,
                    "min": 2,
                    "max": 2,
                    "histogram": [
                      {
                        "bin_start": 1.5,
                        "bin_end": 1.6,
                        "count": 0
                      },
                      {
                        "bin_start": 1.6,
                        "bin_end": 1.7,
                        "count": 0
                      },
                      {
                        "bin_start": 1.7,
                        "bin_end": 1.8,
                        "count": 0
                      },
                      {
                        "bin_start": 1.8,
                        "bin_end": 1.9,
                        "count": 0
                      },
                      {
                        "bin_start": 1.9,
                        "bin_end": 2,
                        "count": 0
                      },
                      {
                        "bin_start": 2,
                        "bin_end": 2.1,
                        "count": 23
                      },
                      {
                        "bin_start": 2.1,
                        "bin_end": 2.2,
                        "count": 0
                      },
                      {
                        "bin_start": 2.2,
                        "bin_end": 2.3,
                        "count": 0
                      },
                      {
                        "bin_start": 2.3,
                        "bin_end": 2.4,
                        "count": 0
                      },
                      {
                        "bin_start": 2.4,
                        "bin_end": 2.5,
                        "count": 0
                      }
                    ]
                  }
                },
                {
                  "name": "ADM_RATE",
                  "dtype": "float64",
                  "stats": {
                    "unique_count": 18,
                    "nan_count": 5,
                    "min": 0.1148,
                    "max": 0.3509,
                    "histogram": [
                      {
                        "bin_start": 0.1148,
                        "bin_end": 0.13841,
                        "count": 3
                      },
                      {
                        "bin_start": 0.13841,
                        "bin_end": 0.16202,
                        "count": 2
                      },
                      {
                        "bin_start": 0.16202,
                        "bin_end": 0.18563000000000002,
                        "count": 2
                      },
                      {
                        "bin_start": 0.18563000000000002,
                        "bin_end": 0.20923999999999998,
                        "count": 1
                      },
                      {
                        "bin_start": 0.20923999999999998,
                        "bin_end": 0.23285,
                        "count": 1
                      },
                      {
                        "bin_start": 0.23285,
                        "bin_end": 0.25646,
                        "count": 0
                      },
                      {
                        "bin_start": 0.25646,
                        "bin_end": 0.28007,
                        "count": 4
                      },
                      {
                        "bin_start": 0.28007,
                        "bin_end": 0.30368,
                        "count": 0
                      },
                      {
                        "bin_start": 0.30368,
                        "bin_end": 0.32728999999999997,
                        "count": 2
                      },
                      {
                        "bin_start": 0.32728999999999997,
                        "bin_end": 0.3509,
                        "count": 3
                      }
                    ]
                  }
                },
                {
                  "name": "TUITIONFEE_IN",
                  "dtype": "float64",
                  "stats": {
                    "unique_count": 19,
                    "nan_count": 4,
                    "min": 24930,
                    "max": 53740,
                    "histogram": [
                      {
                        "bin_start": 24930,
                        "bin_end": 27811,
                        "count": 3
                      },
                      {
                        "bin_start": 27811,
                        "bin_end": 30692,
                        "count": 2
                      },
                      {
                        "bin_start": 30692,
                        "bin_end": 33573,
                        "count": 1
                      },
                      {
                        "bin_start": 33573,
                        "bin_end": 36454,
                        "count": 2
                      },
                      {
                        "bin_start": 36454,
                        "bin_end": 39335,
                        "count": 2
                      },
                      {
                        "bin_start": 39335,
                        "bin_end": 42216,
                        "count": 1
                      },
                      {
                        "bin_start": 42216,
                        "bin_end": 45097,
                        "count": 2
                      },
                      {
                        "bin_start": 45097,
                        "bin_end": 47978,
                        "count": 2
                      },
                      {
                        "bin_start": 47978,
                        "bin_end": 50859,
                        "count": 2
                      },
                      {
                        "bin_start": 50859,
                        "bin_end": 53740,
                        "count": 2
                      }
                    ]
                  }
                },
                {
                  "name": "YEAR",
                  "dtype": "object",
                  "stats": {
                    "unique_count": 23,
                    "nan_count": 0,
                    "categories": [
                      {
                        "name": "1996",
                        "count": 1
                      },
                      {
                        "name": "1997",
                        "count": 1
                      },
                      {
                        "name": "21 others",
                        "count": 21
                      }
                    ]
                  }
                },
                {
                  "name": "PCT_CHANGE",
                  "dtype": "float64",
                  "stats": {
                    "unique_count": 16,
                    "nan_count": 5,
                    "min": 2.63,
                    "max": 7.21,
                    "histogram": [
                      {
                        "bin_start": 2.63,
                        "bin_end": 3.088,
                        "count": 2
                      },
                      {
                        "bin_start": 3.088,
                        "bin_end": 3.546,
                        "count": 4
                      },
                      {
                        "bin_start": 3.546,
                        "bin_end": 4.004,
                        "count": 3
                      },
                      {
                        "bin_start": 4.004,
                        "bin_end": 4.462,
                        "count": 0
                      },
                      {
                        "bin_start": 4.462,
                        "bin_end": 4.92,
                        "count": 5
                      },
                      {
                        "bin_start": 4.92,
                        "bin_end": 5.378,
                        "count": 2
                      },
                      {
                        "bin_start": 5.378,
                        "bin_end": 5.836,
                        "count": 0
                      },
                      {
                        "bin_start": 5.836,
                        "bin_end": 6.2940000000000005,
                        "count": 1
                      },
                      {
                        "bin_start": 6.2940000000000005,
                        "bin_end": 6.752,
                        "count": 0
                      },
                      {
                        "bin_start": 6.752,
                        "bin_end": 7.21,
                        "count": 1
                      }
                    ]
                  }
                },
                {
                  "name": "_deepnote_index_column",
                  "dtype": "int64"
                }
              ],
              "rows_top": [
                {
                  "UNITID": 162928,
                  "INSTNM": "Johns Hopkins University",
                  "STABBR": "MD",
                  "REGION": 2,
                  "ADM_RATE": "nan",
                  "TUITIONFEE_IN": "nan",
                  "YEAR": "1996",
                  "PCT_CHANGE": "nan",
                  "_deepnote_index_column": 2139
                },
                {
                  "UNITID": 162928,
                  "INSTNM": "Johns Hopkins University",
                  "STABBR": "MD",
                  "REGION": 2,
                  "ADM_RATE": "nan",
                  "TUITIONFEE_IN": "nan",
                  "YEAR": "1997",
                  "PCT_CHANGE": "nan",
                  "_deepnote_index_column": 2039
                },
                {
                  "UNITID": 162928,
                  "INSTNM": "Johns Hopkins University",
                  "STABBR": "MD",
                  "REGION": 2,
                  "ADM_RATE": "nan",
                  "TUITIONFEE_IN": "nan",
                  "YEAR": "1998",
                  "PCT_CHANGE": "nan",
                  "_deepnote_index_column": 1973
                },
                {
                  "UNITID": 162928,
                  "INSTNM": "Johns Hopkins University",
                  "STABBR": "MD",
                  "REGION": 2,
                  "ADM_RATE": "nan",
                  "TUITIONFEE_IN": "nan",
                  "YEAR": "1999",
                  "PCT_CHANGE": "nan",
                  "_deepnote_index_column": 1946
                },
                {
                  "UNITID": 162928,
                  "INSTNM": "Johns Hopkins University",
                  "STABBR": "MD",
                  "REGION": 2,
                  "ADM_RATE": "nan",
                  "TUITIONFEE_IN": "24930.0",
                  "YEAR": "2000",
                  "PCT_CHANGE": "nan",
                  "_deepnote_index_column": 1917
                },
                {
                  "UNITID": 162928,
                  "INSTNM": "Johns Hopkins University",
                  "STABBR": "MD",
                  "REGION": 2,
                  "ADM_RATE": "0.3431",
                  "TUITIONFEE_IN": "26210.0",
                  "YEAR": "2001",
                  "PCT_CHANGE": "5.13",
                  "_deepnote_index_column": 1906
                },
                {
                  "UNITID": 162928,
                  "INSTNM": "Johns Hopkins University",
                  "STABBR": "MD",
                  "REGION": 2,
                  "ADM_RATE": "0.3506",
                  "TUITIONFEE_IN": "27390.0",
                  "YEAR": "2002",
                  "PCT_CHANGE": "4.5",
                  "_deepnote_index_column": 1884
                },
                {
                  "UNITID": 162928,
                  "INSTNM": "Johns Hopkins University",
                  "STABBR": "MD",
                  "REGION": 2,
                  "ADM_RATE": "0.306",
                  "TUITIONFEE_IN": "28730.0",
                  "YEAR": "2003",
                  "PCT_CHANGE": "4.89",
                  "_deepnote_index_column": 1865
                },
                {
                  "UNITID": 162928,
                  "INSTNM": "Johns Hopkins University",
                  "STABBR": "MD",
                  "REGION": 2,
                  "ADM_RATE": "0.3071",
                  "TUITIONFEE_IN": "30140.0",
                  "YEAR": "2004",
                  "PCT_CHANGE": "4.91",
                  "_deepnote_index_column": 1823
                },
                {
                  "UNITID": 162928,
                  "INSTNM": "Johns Hopkins University",
                  "STABBR": "MD",
                  "REGION": 2,
                  "ADM_RATE": "0.3509",
                  "TUITIONFEE_IN": "31620.0",
                  "YEAR": "2005",
                  "PCT_CHANGE": "4.91",
                  "_deepnote_index_column": 1812
                },
                {
                  "UNITID": 162928,
                  "INSTNM": "Johns Hopkins University",
                  "STABBR": "MD",
                  "REGION": 2,
                  "ADM_RATE": "0.2792",
                  "TUITIONFEE_IN": "33900.0",
                  "YEAR": "2006",
                  "PCT_CHANGE": "7.21",
                  "_deepnote_index_column": 1792
                },
                {
                  "UNITID": 162928,
                  "INSTNM": "Johns Hopkins University",
                  "STABBR": "MD",
                  "REGION": 2,
                  "ADM_RATE": "0.2571",
                  "TUITIONFEE_IN": "35900.0",
                  "YEAR": "2007",
                  "PCT_CHANGE": "5.9",
                  "_deepnote_index_column": 1772
                },
                {
                  "UNITID": 162928,
                  "INSTNM": "Johns Hopkins University",
                  "STABBR": "MD",
                  "REGION": 2,
                  "ADM_RATE": "0.2609",
                  "TUITIONFEE_IN": "37700.0",
                  "YEAR": "2008",
                  "PCT_CHANGE": "5.01",
                  "_deepnote_index_column": 1760
                },
                {
                  "UNITID": 162928,
                  "INSTNM": "Johns Hopkins University",
                  "STABBR": "MD",
                  "REGION": 2,
                  "ADM_RATE": "0.2782",
                  "TUITIONFEE_IN": "39150.0",
                  "YEAR": "2009",
                  "PCT_CHANGE": "3.85",
                  "_deepnote_index_column": 1738
                },
                {
                  "UNITID": 162928,
                  "INSTNM": "Johns Hopkins University",
                  "STABBR": "MD",
                  "REGION": 2,
                  "ADM_RATE": "0.2225",
                  "TUITIONFEE_IN": "40680.0",
                  "YEAR": "2010",
                  "PCT_CHANGE": "3.91",
                  "_deepnote_index_column": 1703
                },
                {
                  "UNITID": 162928,
                  "INSTNM": "Johns Hopkins University",
                  "STABBR": "MD",
                  "REGION": 2,
                  "ADM_RATE": "0.194",
                  "TUITIONFEE_IN": "42280.0",
                  "YEAR": "2011",
                  "PCT_CHANGE": "3.93",
                  "_deepnote_index_column": 1687
                },
                {
                  "UNITID": 162928,
                  "INSTNM": "Johns Hopkins University",
                  "STABBR": "MD",
                  "REGION": 2,
                  "ADM_RATE": "0.1843",
                  "TUITIONFEE_IN": "43390.0",
                  "YEAR": "2012",
                  "PCT_CHANGE": "2.63",
                  "_deepnote_index_column": 1653
                },
                {
                  "UNITID": 162928,
                  "INSTNM": "Johns Hopkins University",
                  "STABBR": "MD",
                  "REGION": 2,
                  "ADM_RATE": "0.1813",
                  "TUITIONFEE_IN": "45470.0",
                  "YEAR": "2013",
                  "PCT_CHANGE": "4.79",
                  "_deepnote_index_column": 1622
                },
                {
                  "UNITID": 162928,
                  "INSTNM": "Johns Hopkins University",
                  "STABBR": "MD",
                  "REGION": 2,
                  "ADM_RATE": "0.1608",
                  "TUITIONFEE_IN": "47060.0",
                  "YEAR": "2014",
                  "PCT_CHANGE": "3.5",
                  "_deepnote_index_column": 1603
                },
                {
                  "UNITID": 162928,
                  "INSTNM": "Johns Hopkins University",
                  "STABBR": "MD",
                  "REGION": 2,
                  "ADM_RATE": "0.1412",
                  "TUITIONFEE_IN": "48710.0",
                  "YEAR": "2015",
                  "PCT_CHANGE": "3.51",
                  "_deepnote_index_column": 1548
                },
                {
                  "UNITID": 162928,
                  "INSTNM": "Johns Hopkins University",
                  "STABBR": "MD",
                  "REGION": 2,
                  "ADM_RATE": "0.1284",
                  "TUITIONFEE_IN": "50410.0",
                  "YEAR": "2016",
                  "PCT_CHANGE": "3.49",
                  "_deepnote_index_column": 1503
                },
                {
                  "UNITID": 162928,
                  "INSTNM": "Johns Hopkins University",
                  "STABBR": "MD",
                  "REGION": 2,
                  "ADM_RATE": "0.1254",
                  "TUITIONFEE_IN": "52170.0",
                  "YEAR": "2017",
                  "PCT_CHANGE": "3.49",
                  "_deepnote_index_column": 1473
                },
                {
                  "UNITID": 162928,
                  "INSTNM": "Johns Hopkins University",
                  "STABBR": "MD",
                  "REGION": 2,
                  "ADM_RATE": "0.1148",
                  "TUITIONFEE_IN": "53740.0",
                  "YEAR": "2018",
                  "PCT_CHANGE": "3.01",
                  "_deepnote_index_column": 1410
                }
              ],
              "rows_bottom": null
            },
            "text/plain": "      UNITID                    INSTNM STABBR  REGION  ADM_RATE  \\\n2139  162928  Johns Hopkins University     MD     2.0       NaN   \n2039  162928  Johns Hopkins University     MD     2.0       NaN   \n1973  162928  Johns Hopkins University     MD     2.0       NaN   \n1946  162928  Johns Hopkins University     MD     2.0       NaN   \n1917  162928  Johns Hopkins University     MD     2.0       NaN   \n1906  162928  Johns Hopkins University     MD     2.0    0.3431   \n1884  162928  Johns Hopkins University     MD     2.0    0.3506   \n1865  162928  Johns Hopkins University     MD     2.0    0.3060   \n1823  162928  Johns Hopkins University     MD     2.0    0.3071   \n1812  162928  Johns Hopkins University     MD     2.0    0.3509   \n1792  162928  Johns Hopkins University     MD     2.0    0.2792   \n1772  162928  Johns Hopkins University     MD     2.0    0.2571   \n1760  162928  Johns Hopkins University     MD     2.0    0.2609   \n1738  162928  Johns Hopkins University     MD     2.0    0.2782   \n1703  162928  Johns Hopkins University     MD     2.0    0.2225   \n1687  162928  Johns Hopkins University     MD     2.0    0.1940   \n1653  162928  Johns Hopkins University     MD     2.0    0.1843   \n1622  162928  Johns Hopkins University     MD     2.0    0.1813   \n1603  162928  Johns Hopkins University     MD     2.0    0.1608   \n1548  162928  Johns Hopkins University     MD     2.0    0.1412   \n1503  162928  Johns Hopkins University     MD     2.0    0.1284   \n1473  162928  Johns Hopkins University     MD     2.0    0.1254   \n1410  162928  Johns Hopkins University     MD     2.0    0.1148   \n\n      TUITIONFEE_IN  YEAR  PCT_CHANGE  \n2139            NaN  1996         NaN  \n2039            NaN  1997         NaN  \n1973            NaN  1998         NaN  \n1946            NaN  1999         NaN  \n1917        24930.0  2000         NaN  \n1906        26210.0  2001        5.13  \n1884        27390.0  2002        4.50  \n1865        28730.0  2003        4.89  \n1823        30140.0  2004        4.91  \n1812        31620.0  2005        4.91  \n1792        33900.0  2006        7.21  \n1772        35900.0  2007        5.90  \n1760        37700.0  2008        5.01  \n1738        39150.0  2009        3.85  \n1703        40680.0  2010        3.91  \n1687        42280.0  2011        3.93  \n1653        43390.0  2012        2.63  \n1622        45470.0  2013        4.79  \n1603        47060.0  2014        3.50  \n1548        48710.0  2015        3.51  \n1503        50410.0  2016        3.49  \n1473        52170.0  2017        3.49  \n1410        53740.0  2018        3.01  ",
            "text/html": "<div>\n<style scoped>\n    .dataframe tbody tr th:only-of-type {\n        vertical-align: middle;\n    }\n\n    .dataframe tbody tr th {\n        vertical-align: top;\n    }\n\n    .dataframe thead th {\n        text-align: right;\n    }\n</style>\n<table border=\"1\" class=\"dataframe\">\n  <thead>\n    <tr style=\"text-align: right;\">\n      <th></th>\n      <th>UNITID</th>\n      <th>INSTNM</th>\n      <th>STABBR</th>\n      <th>REGION</th>\n      <th>ADM_RATE</th>\n      <th>TUITIONFEE_IN</th>\n      <th>YEAR</th>\n      <th>PCT_CHANGE</th>\n    </tr>\n  </thead>\n  <tbody>\n    <tr>\n      <th>2139</th>\n      <td>162928</td>\n      <td>Johns Hopkins University</td>\n      <td>MD</td>\n      <td>2.0</td>\n      <td>NaN</td>\n      <td>NaN</td>\n      <td>1996</td>\n      <td>NaN</td>\n    </tr>\n    <tr>\n      <th>2039</th>\n      <td>162928</td>\n      <td>Johns Hopkins University</td>\n      <td>MD</td>\n      <td>2.0</td>\n      <td>NaN</td>\n      <td>NaN</td>\n      <td>1997</td>\n      <td>NaN</td>\n    </tr>\n    <tr>\n      <th>1973</th>\n      <td>162928</td>\n      <td>Johns Hopkins University</td>\n      <td>MD</td>\n      <td>2.0</td>\n      <td>NaN</td>\n      <td>NaN</td>\n      <td>1998</td>\n      <td>NaN</td>\n    </tr>\n    <tr>\n      <th>1946</th>\n      <td>162928</td>\n      <td>Johns Hopkins University</td>\n      <td>MD</td>\n      <td>2.0</td>\n      <td>NaN</td>\n      <td>NaN</td>\n      <td>1999</td>\n      <td>NaN</td>\n    </tr>\n    <tr>\n      <th>1917</th>\n      <td>162928</td>\n      <td>Johns Hopkins University</td>\n      <td>MD</td>\n      <td>2.0</td>\n      <td>NaN</td>\n      <td>24930.0</td>\n      <td>2000</td>\n      <td>NaN</td>\n    </tr>\n    <tr>\n      <th>1906</th>\n      <td>162928</td>\n      <td>Johns Hopkins University</td>\n      <td>MD</td>\n      <td>2.0</td>\n      <td>0.3431</td>\n      <td>26210.0</td>\n      <td>2001</td>\n      <td>5.13</td>\n    </tr>\n    <tr>\n      <th>1884</th>\n      <td>162928</td>\n      <td>Johns Hopkins University</td>\n      <td>MD</td>\n      <td>2.0</td>\n      <td>0.3506</td>\n      <td>27390.0</td>\n      <td>2002</td>\n      <td>4.50</td>\n    </tr>\n    <tr>\n      <th>1865</th>\n      <td>162928</td>\n      <td>Johns Hopkins University</td>\n      <td>MD</td>\n      <td>2.0</td>\n      <td>0.3060</td>\n      <td>28730.0</td>\n      <td>2003</td>\n      <td>4.89</td>\n    </tr>\n    <tr>\n      <th>1823</th>\n      <td>162928</td>\n      <td>Johns Hopkins University</td>\n      <td>MD</td>\n      <td>2.0</td>\n      <td>0.3071</td>\n      <td>30140.0</td>\n      <td>2004</td>\n      <td>4.91</td>\n    </tr>\n    <tr>\n      <th>1812</th>\n      <td>162928</td>\n      <td>Johns Hopkins University</td>\n      <td>MD</td>\n      <td>2.0</td>\n      <td>0.3509</td>\n      <td>31620.0</td>\n      <td>2005</td>\n      <td>4.91</td>\n    </tr>\n    <tr>\n      <th>1792</th>\n      <td>162928</td>\n      <td>Johns Hopkins University</td>\n      <td>MD</td>\n      <td>2.0</td>\n      <td>0.2792</td>\n      <td>33900.0</td>\n      <td>2006</td>\n      <td>7.21</td>\n    </tr>\n    <tr>\n      <th>1772</th>\n      <td>162928</td>\n      <td>Johns Hopkins University</td>\n      <td>MD</td>\n      <td>2.0</td>\n      <td>0.2571</td>\n      <td>35900.0</td>\n      <td>2007</td>\n      <td>5.90</td>\n    </tr>\n    <tr>\n      <th>1760</th>\n      <td>162928</td>\n      <td>Johns Hopkins University</td>\n      <td>MD</td>\n      <td>2.0</td>\n      <td>0.2609</td>\n      <td>37700.0</td>\n      <td>2008</td>\n      <td>5.01</td>\n    </tr>\n    <tr>\n      <th>1738</th>\n      <td>162928</td>\n      <td>Johns Hopkins University</td>\n      <td>MD</td>\n      <td>2.0</td>\n      <td>0.2782</td>\n      <td>39150.0</td>\n      <td>2009</td>\n      <td>3.85</td>\n    </tr>\n    <tr>\n      <th>1703</th>\n      <td>162928</td>\n      <td>Johns Hopkins University</td>\n      <td>MD</td>\n      <td>2.0</td>\n      <td>0.2225</td>\n      <td>40680.0</td>\n      <td>2010</td>\n      <td>3.91</td>\n    </tr>\n    <tr>\n      <th>1687</th>\n      <td>162928</td>\n      <td>Johns Hopkins University</td>\n      <td>MD</td>\n      <td>2.0</td>\n      <td>0.1940</td>\n      <td>42280.0</td>\n      <td>2011</td>\n      <td>3.93</td>\n    </tr>\n    <tr>\n      <th>1653</th>\n      <td>162928</td>\n      <td>Johns Hopkins University</td>\n      <td>MD</td>\n      <td>2.0</td>\n      <td>0.1843</td>\n      <td>43390.0</td>\n      <td>2012</td>\n      <td>2.63</td>\n    </tr>\n    <tr>\n      <th>1622</th>\n      <td>162928</td>\n      <td>Johns Hopkins University</td>\n      <td>MD</td>\n      <td>2.0</td>\n      <td>0.1813</td>\n      <td>45470.0</td>\n      <td>2013</td>\n      <td>4.79</td>\n    </tr>\n    <tr>\n      <th>1603</th>\n      <td>162928</td>\n      <td>Johns Hopkins University</td>\n      <td>MD</td>\n      <td>2.0</td>\n      <td>0.1608</td>\n      <td>47060.0</td>\n      <td>2014</td>\n      <td>3.50</td>\n    </tr>\n    <tr>\n      <th>1548</th>\n      <td>162928</td>\n      <td>Johns Hopkins University</td>\n      <td>MD</td>\n      <td>2.0</td>\n      <td>0.1412</td>\n      <td>48710.0</td>\n      <td>2015</td>\n      <td>3.51</td>\n    </tr>\n    <tr>\n      <th>1503</th>\n      <td>162928</td>\n      <td>Johns Hopkins University</td>\n      <td>MD</td>\n      <td>2.0</td>\n      <td>0.1284</td>\n      <td>50410.0</td>\n      <td>2016</td>\n      <td>3.49</td>\n    </tr>\n    <tr>\n      <th>1473</th>\n      <td>162928</td>\n      <td>Johns Hopkins University</td>\n      <td>MD</td>\n      <td>2.0</td>\n      <td>0.1254</td>\n      <td>52170.0</td>\n      <td>2017</td>\n      <td>3.49</td>\n    </tr>\n    <tr>\n      <th>1410</th>\n      <td>162928</td>\n      <td>Johns Hopkins University</td>\n      <td>MD</td>\n      <td>2.0</td>\n      <td>0.1148</td>\n      <td>53740.0</td>\n      <td>2018</td>\n      <td>3.01</td>\n    </tr>\n  </tbody>\n</table>\n</div>"
          },
          "metadata": {}
        }
      ]
    },
    {
      "cell_type": "markdown",
      "source": "## <16>\nAdd the list of percentage changes to the dataframe as a new column (\"PCT_CHANGE\")\n\n##### Note: this is all handeled internally in my function 'pct_change()'",
      "metadata": {
        "id": "7KM74FQH6zM4",
        "cell_id": "00021-1f8e9593-8bad-4082-b09c-71c3fd7d58e1",
        "deepnote_to_be_reexecuted": false,
        "source_hash": "c5aefbc6",
        "execution_start": 1618198095607,
        "execution_millis": 7,
        "deepnote_cell_type": "markdown"
      }
    },
    {
      "cell_type": "markdown",
      "source": "## <17> \n\nMake a bar plot of the JHU percentage changes tuitions over time",
      "metadata": {
        "id": "vGi8YI_A6zM7",
        "cell_id": "00022-cf1a0107-2b3c-4bb1-974f-c2d1d659e855",
        "deepnote_to_be_reexecuted": false,
        "source_hash": "7a8928f2",
        "execution_start": 1618198113111,
        "execution_millis": 10,
        "deepnote_cell_type": "markdown"
      }
    },
    {
      "cell_type": "code",
      "metadata": {
        "tags": [],
        "cell_id": "00054-f8d7e39d-21b9-43ff-afaa-c4d21050eed4",
        "deepnote_to_be_reexecuted": false,
        "source_hash": "a9e2547d",
        "execution_millis": 54,
        "execution_start": 1618232844746,
        "deepnote_cell_type": "code"
      },
      "source": "jhu_pctchange_bar = px.bar(df_jhu,\n                    x= 'YEAR',\n                    y='PCT_CHANGE'\n                    )\n\njhu_pctchange_bar.show()",
      "execution_count": null,
      "outputs": [
        {
          "data": {
            "text/html": "<html>\n<head><meta charset=\"utf-8\" /></head>\n<body>\n    <div>            <script src=\"https://cdnjs.cloudflare.com/ajax/libs/mathjax/2.7.5/MathJax.js?config=TeX-AMS-MML_SVG\"></script><script type=\"text/javascript\">if (window.MathJax) {MathJax.Hub.Config({SVG: {font: \"STIX-Web\"}});}</script>                <script type=\"text/javascript\">window.PlotlyConfig = {MathJaxConfig: 'local'};</script>\n        <script src=\"https://cdn.plot.ly/plotly-latest.min.js\"></script>                <div id=\"10eb3577-e0c7-4b83-8263-044fb91d6221\" class=\"plotly-graph-div\" style=\"height:525px; width:100%;\"></div>            <script type=\"text/javascript\">                                    window.PLOTLYENV=window.PLOTLYENV || {};                                    if (document.getElementById(\"10eb3577-e0c7-4b83-8263-044fb91d6221\")) {                    Plotly.newPlot(                        \"10eb3577-e0c7-4b83-8263-044fb91d6221\",                        [{\"alignmentgroup\": \"True\", \"hovertemplate\": \"YEAR=%{x}<br>PCT_CHANGE=%{y}<extra></extra>\", \"legendgroup\": \"\", \"marker\": {\"color\": \"#636efa\"}, \"name\": \"\", \"offsetgroup\": \"\", \"orientation\": \"v\", \"showlegend\": false, \"textposition\": \"auto\", \"type\": \"bar\", \"x\": [\"1996\", \"1997\", \"1998\", \"1999\", \"2000\", \"2001\", \"2002\", \"2003\", \"2004\", \"2005\", \"2006\", \"2007\", \"2008\", \"2009\", \"2010\", \"2011\", \"2012\", \"2013\", \"2014\", \"2015\", \"2016\", \"2017\", \"2018\"], \"xaxis\": \"x\", \"y\": [null, null, null, null, null, 5.13, 4.5, 4.89, 4.91, 4.91, 7.21, 5.9, 5.01, 3.85, 3.91, 3.93, 2.63, 4.79, 3.5, 3.51, 3.49, 3.49, 3.01], \"yaxis\": \"y\"}],                        {\"barmode\": \"relative\", \"legend\": {\"tracegroupgap\": 0}, \"margin\": {\"t\": 60}, \"template\": {\"data\": {\"bar\": [{\"error_x\": {\"color\": \"#2a3f5f\"}, \"error_y\": {\"color\": \"#2a3f5f\"}, \"marker\": {\"line\": {\"color\": \"#E5ECF6\", \"width\": 0.5}}, \"type\": \"bar\"}], \"barpolar\": [{\"marker\": {\"line\": {\"color\": \"#E5ECF6\", \"width\": 0.5}}, \"type\": \"barpolar\"}], \"carpet\": [{\"aaxis\": {\"endlinecolor\": \"#2a3f5f\", \"gridcolor\": \"white\", \"linecolor\": \"white\", \"minorgridcolor\": \"white\", \"startlinecolor\": \"#2a3f5f\"}, \"baxis\": {\"endlinecolor\": \"#2a3f5f\", \"gridcolor\": \"white\", \"linecolor\": \"white\", \"minorgridcolor\": \"white\", \"startlinecolor\": \"#2a3f5f\"}, \"type\": \"carpet\"}], \"choropleth\": [{\"colorbar\": {\"outlinewidth\": 0, \"ticks\": \"\"}, \"type\": \"choropleth\"}], \"contour\": [{\"colorbar\": {\"outlinewidth\": 0, \"ticks\": \"\"}, \"colorscale\": [[0.0, \"#0d0887\"], [0.1111111111111111, \"#46039f\"], [0.2222222222222222, \"#7201a8\"], [0.3333333333333333, \"#9c179e\"], [0.4444444444444444, \"#bd3786\"], [0.5555555555555556, \"#d8576b\"], [0.6666666666666666, \"#ed7953\"], [0.7777777777777778, \"#fb9f3a\"], [0.8888888888888888, \"#fdca26\"], [1.0, \"#f0f921\"]], \"type\": \"contour\"}], \"contourcarpet\": [{\"colorbar\": {\"outlinewidth\": 0, \"ticks\": \"\"}, \"type\": \"contourcarpet\"}], \"heatmap\": [{\"colorbar\": {\"outlinewidth\": 0, \"ticks\": \"\"}, \"colorscale\": [[0.0, \"#0d0887\"], [0.1111111111111111, \"#46039f\"], [0.2222222222222222, \"#7201a8\"], [0.3333333333333333, \"#9c179e\"], [0.4444444444444444, \"#bd3786\"], [0.5555555555555556, \"#d8576b\"], [0.6666666666666666, \"#ed7953\"], [0.7777777777777778, \"#fb9f3a\"], [0.8888888888888888, \"#fdca26\"], [1.0, \"#f0f921\"]], \"type\": \"heatmap\"}], \"heatmapgl\": [{\"colorbar\": {\"outlinewidth\": 0, \"ticks\": \"\"}, \"colorscale\": [[0.0, \"#0d0887\"], [0.1111111111111111, \"#46039f\"], [0.2222222222222222, \"#7201a8\"], [0.3333333333333333, \"#9c179e\"], [0.4444444444444444, \"#bd3786\"], [0.5555555555555556, \"#d8576b\"], [0.6666666666666666, \"#ed7953\"], [0.7777777777777778, \"#fb9f3a\"], [0.8888888888888888, \"#fdca26\"], [1.0, \"#f0f921\"]], \"type\": \"heatmapgl\"}], \"histogram\": [{\"marker\": {\"colorbar\": {\"outlinewidth\": 0, \"ticks\": \"\"}}, \"type\": \"histogram\"}], \"histogram2d\": [{\"colorbar\": {\"outlinewidth\": 0, \"ticks\": \"\"}, \"colorscale\": [[0.0, \"#0d0887\"], [0.1111111111111111, \"#46039f\"], [0.2222222222222222, \"#7201a8\"], [0.3333333333333333, \"#9c179e\"], [0.4444444444444444, \"#bd3786\"], [0.5555555555555556, \"#d8576b\"], [0.6666666666666666, \"#ed7953\"], [0.7777777777777778, \"#fb9f3a\"], [0.8888888888888888, \"#fdca26\"], [1.0, \"#f0f921\"]], \"type\": \"histogram2d\"}], \"histogram2dcontour\": [{\"colorbar\": {\"outlinewidth\": 0, \"ticks\": \"\"}, \"colorscale\": [[0.0, \"#0d0887\"], [0.1111111111111111, \"#46039f\"], [0.2222222222222222, \"#7201a8\"], [0.3333333333333333, \"#9c179e\"], [0.4444444444444444, \"#bd3786\"], [0.5555555555555556, \"#d8576b\"], [0.6666666666666666, \"#ed7953\"], [0.7777777777777778, \"#fb9f3a\"], [0.8888888888888888, \"#fdca26\"], [1.0, \"#f0f921\"]], \"type\": \"histogram2dcontour\"}], \"mesh3d\": [{\"colorbar\": {\"outlinewidth\": 0, \"ticks\": \"\"}, \"type\": \"mesh3d\"}], \"parcoords\": [{\"line\": {\"colorbar\": {\"outlinewidth\": 0, \"ticks\": \"\"}}, \"type\": \"parcoords\"}], \"pie\": [{\"automargin\": true, \"type\": \"pie\"}], \"scatter\": [{\"marker\": {\"colorbar\": {\"outlinewidth\": 0, \"ticks\": \"\"}}, \"type\": \"scatter\"}], \"scatter3d\": [{\"line\": {\"colorbar\": {\"outlinewidth\": 0, \"ticks\": \"\"}}, \"marker\": {\"colorbar\": {\"outlinewidth\": 0, \"ticks\": \"\"}}, \"type\": \"scatter3d\"}], \"scattercarpet\": [{\"marker\": {\"colorbar\": {\"outlinewidth\": 0, \"ticks\": \"\"}}, \"type\": \"scattercarpet\"}], \"scattergeo\": [{\"marker\": {\"colorbar\": {\"outlinewidth\": 0, \"ticks\": \"\"}}, \"type\": \"scattergeo\"}], \"scattergl\": [{\"marker\": {\"colorbar\": {\"outlinewidth\": 0, \"ticks\": \"\"}}, \"type\": \"scattergl\"}], \"scattermapbox\": [{\"marker\": {\"colorbar\": {\"outlinewidth\": 0, \"ticks\": \"\"}}, \"type\": \"scattermapbox\"}], \"scatterpolar\": [{\"marker\": {\"colorbar\": {\"outlinewidth\": 0, \"ticks\": \"\"}}, \"type\": \"scatterpolar\"}], \"scatterpolargl\": [{\"marker\": {\"colorbar\": {\"outlinewidth\": 0, \"ticks\": \"\"}}, \"type\": \"scatterpolargl\"}], \"scatterternary\": [{\"marker\": {\"colorbar\": {\"outlinewidth\": 0, \"ticks\": \"\"}}, \"type\": \"scatterternary\"}], \"surface\": [{\"colorbar\": {\"outlinewidth\": 0, \"ticks\": \"\"}, \"colorscale\": [[0.0, \"#0d0887\"], [0.1111111111111111, \"#46039f\"], [0.2222222222222222, \"#7201a8\"], [0.3333333333333333, \"#9c179e\"], [0.4444444444444444, \"#bd3786\"], [0.5555555555555556, \"#d8576b\"], [0.6666666666666666, \"#ed7953\"], [0.7777777777777778, \"#fb9f3a\"], [0.8888888888888888, \"#fdca26\"], [1.0, \"#f0f921\"]], \"type\": \"surface\"}], \"table\": [{\"cells\": {\"fill\": {\"color\": \"#EBF0F8\"}, \"line\": {\"color\": \"white\"}}, \"header\": {\"fill\": {\"color\": \"#C8D4E3\"}, \"line\": {\"color\": \"white\"}}, \"type\": \"table\"}]}, \"layout\": {\"annotationdefaults\": {\"arrowcolor\": \"#2a3f5f\", \"arrowhead\": 0, \"arrowwidth\": 1}, \"autotypenumbers\": \"strict\", \"coloraxis\": {\"colorbar\": {\"outlinewidth\": 0, \"ticks\": \"\"}}, \"colorscale\": {\"diverging\": [[0, \"#8e0152\"], [0.1, \"#c51b7d\"], [0.2, \"#de77ae\"], [0.3, \"#f1b6da\"], [0.4, \"#fde0ef\"], [0.5, \"#f7f7f7\"], [0.6, \"#e6f5d0\"], [0.7, \"#b8e186\"], [0.8, \"#7fbc41\"], [0.9, \"#4d9221\"], [1, \"#276419\"]], \"sequential\": [[0.0, \"#0d0887\"], [0.1111111111111111, \"#46039f\"], [0.2222222222222222, \"#7201a8\"], [0.3333333333333333, \"#9c179e\"], [0.4444444444444444, \"#bd3786\"], [0.5555555555555556, \"#d8576b\"], [0.6666666666666666, \"#ed7953\"], [0.7777777777777778, \"#fb9f3a\"], [0.8888888888888888, \"#fdca26\"], [1.0, \"#f0f921\"]], \"sequentialminus\": [[0.0, \"#0d0887\"], [0.1111111111111111, \"#46039f\"], [0.2222222222222222, \"#7201a8\"], [0.3333333333333333, \"#9c179e\"], [0.4444444444444444, \"#bd3786\"], [0.5555555555555556, \"#d8576b\"], [0.6666666666666666, \"#ed7953\"], [0.7777777777777778, \"#fb9f3a\"], [0.8888888888888888, \"#fdca26\"], [1.0, \"#f0f921\"]]}, \"colorway\": [\"#636efa\", \"#EF553B\", \"#00cc96\", \"#ab63fa\", \"#FFA15A\", \"#19d3f3\", \"#FF6692\", \"#B6E880\", \"#FF97FF\", \"#FECB52\"], \"font\": {\"color\": \"#2a3f5f\"}, \"geo\": {\"bgcolor\": \"white\", \"lakecolor\": \"white\", \"landcolor\": \"#E5ECF6\", \"showlakes\": true, \"showland\": true, \"subunitcolor\": \"white\"}, \"hoverlabel\": {\"align\": \"left\"}, \"hovermode\": \"closest\", \"mapbox\": {\"style\": \"light\"}, \"paper_bgcolor\": \"white\", \"plot_bgcolor\": \"#E5ECF6\", \"polar\": {\"angularaxis\": {\"gridcolor\": \"white\", \"linecolor\": \"white\", \"ticks\": \"\"}, \"bgcolor\": \"#E5ECF6\", \"radialaxis\": {\"gridcolor\": \"white\", \"linecolor\": \"white\", \"ticks\": \"\"}}, \"scene\": {\"xaxis\": {\"backgroundcolor\": \"#E5ECF6\", \"gridcolor\": \"white\", \"gridwidth\": 2, \"linecolor\": \"white\", \"showbackground\": true, \"ticks\": \"\", \"zerolinecolor\": \"white\"}, \"yaxis\": {\"backgroundcolor\": \"#E5ECF6\", \"gridcolor\": \"white\", \"gridwidth\": 2, \"linecolor\": \"white\", \"showbackground\": true, \"ticks\": \"\", \"zerolinecolor\": \"white\"}, \"zaxis\": {\"backgroundcolor\": \"#E5ECF6\", \"gridcolor\": \"white\", \"gridwidth\": 2, \"linecolor\": \"white\", \"showbackground\": true, \"ticks\": \"\", \"zerolinecolor\": \"white\"}}, \"shapedefaults\": {\"line\": {\"color\": \"#2a3f5f\"}}, \"ternary\": {\"aaxis\": {\"gridcolor\": \"white\", \"linecolor\": \"white\", \"ticks\": \"\"}, \"baxis\": {\"gridcolor\": \"white\", \"linecolor\": \"white\", \"ticks\": \"\"}, \"bgcolor\": \"#E5ECF6\", \"caxis\": {\"gridcolor\": \"white\", \"linecolor\": \"white\", \"ticks\": \"\"}}, \"title\": {\"x\": 0.05}, \"xaxis\": {\"automargin\": true, \"gridcolor\": \"white\", \"linecolor\": \"white\", \"ticks\": \"\", \"title\": {\"standoff\": 15}, \"zerolinecolor\": \"white\", \"zerolinewidth\": 2}, \"yaxis\": {\"automargin\": true, \"gridcolor\": \"white\", \"linecolor\": \"white\", \"ticks\": \"\", \"title\": {\"standoff\": 15}, \"zerolinecolor\": \"white\", \"zerolinewidth\": 2}}}, \"xaxis\": {\"anchor\": \"y\", \"domain\": [0.0, 1.0], \"title\": {\"text\": \"YEAR\"}}, \"yaxis\": {\"anchor\": \"x\", \"domain\": [0.0, 1.0], \"title\": {\"text\": \"PCT_CHANGE\"}}},                        {\"responsive\": true}                    ).then(function(){\n                            \nvar gd = document.getElementById('10eb3577-e0c7-4b83-8263-044fb91d6221');\nvar x = new MutationObserver(function (mutations, observer) {{\n        var display = window.getComputedStyle(gd).display;\n        if (!display || display === 'none') {{\n            console.log([gd, 'removed!']);\n            Plotly.purge(gd);\n            observer.disconnect();\n        }}\n}});\n\n// Listen for the removal of the full notebook cells\nvar notebookContainer = gd.closest('#notebook-container');\nif (notebookContainer) {{\n    x.observe(notebookContainer, {childList: true});\n}}\n\n// Listen for the clearing of the current output cell\nvar outputEl = gd.closest('.output');\nif (outputEl) {{\n    x.observe(outputEl, {childList: true});\n}}\n\n                        })                };                            </script>        </div>\n</body>\n</html>"
          },
          "metadata": {},
          "output_type": "display_data"
        }
      ]
    },
    {
      "cell_type": "markdown",
      "source": "## <18>\nIn order to plot both UMBC and JHU tuition change over time in the same plot,\nwe need to combine the two datasets using the common key of YEAR \nFirst make a umbc2 dataframe with only two columns needed. WE don't need other columns.\nAlso change the column name from \"PCT_CHANGE\" to \"UMBC_PCT\" in preparation for the merge.\nThis is because both umbc and jhu dataframe have the same column name \"PCT_CHANGE\",\nWe rename them to there is no collision during the merge. BTW, Pandas handles collision gracefully,\nFeel free to try it without changing the column names.",
      "metadata": {
        "id": "bGYYULq16zNA",
        "cell_id": "00023-bebc52c3-ffa0-4b04-acc9-675197f9a505",
        "deepnote_to_be_reexecuted": false,
        "source_hash": "75ebaca7",
        "execution_start": 1618162046203,
        "deepnote_cell_type": "markdown"
      }
    },
    {
      "cell_type": "code",
      "metadata": {
        "tags": [],
        "cell_id": "00056-7117a2ba-ed0f-4d7e-9b8c-b1afb6cd8ba0",
        "deepnote_to_be_reexecuted": false,
        "source_hash": "7c764628",
        "execution_millis": 17,
        "execution_start": 1618232853951,
        "deepnote_cell_type": "code"
      },
      "source": "df_umbc2 =df_umbc[['YEAR', 'PCT_CHANGE']]\ndf_umbc2.rename(columns={'PCT_CHANGE':'UMBC_PCT'}, inplace=True)\ndf_umbc2",
      "execution_count": null,
      "outputs": [
        {
          "name": "stderr",
          "text": "/shared-libs/python3.7/py/lib/python3.7/site-packages/pandas/core/frame.py:4449: SettingWithCopyWarning:\n\n\nA value is trying to be set on a copy of a slice from a DataFrame\n\nSee the caveats in the documentation: https://pandas.pydata.org/pandas-docs/stable/user_guide/indexing.html#returning-a-view-versus-a-copy\n\n",
          "output_type": "stream"
        },
        {
          "output_type": "execute_result",
          "execution_count": 220,
          "data": {
            "application/vnd.deepnote.dataframe.v2+json": {
              "row_count": 23,
              "column_count": 2,
              "columns": [
                {
                  "name": "YEAR",
                  "dtype": "object",
                  "stats": {
                    "unique_count": 23,
                    "nan_count": 0,
                    "categories": [
                      {
                        "name": "1996",
                        "count": 1
                      },
                      {
                        "name": "1997",
                        "count": 1
                      },
                      {
                        "name": "21 others",
                        "count": 21
                      }
                    ]
                  }
                },
                {
                  "name": "UMBC_PCT",
                  "dtype": "float64",
                  "stats": {
                    "unique_count": 16,
                    "nan_count": 5,
                    "min": 0.83,
                    "max": 16.13,
                    "histogram": [
                      {
                        "bin_start": 0.83,
                        "bin_end": 2.36,
                        "count": 7
                      },
                      {
                        "bin_start": 2.36,
                        "bin_end": 3.8899999999999997,
                        "count": 5
                      },
                      {
                        "bin_start": 3.8899999999999997,
                        "bin_end": 5.42,
                        "count": 0
                      },
                      {
                        "bin_start": 5.42,
                        "bin_end": 6.949999999999999,
                        "count": 2
                      },
                      {
                        "bin_start": 6.949999999999999,
                        "bin_end": 8.479999999999999,
                        "count": 2
                      },
                      {
                        "bin_start": 8.479999999999999,
                        "bin_end": 10.01,
                        "count": 1
                      },
                      {
                        "bin_start": 10.01,
                        "bin_end": 11.54,
                        "count": 0
                      },
                      {
                        "bin_start": 11.54,
                        "bin_end": 13.069999999999999,
                        "count": 0
                      },
                      {
                        "bin_start": 13.069999999999999,
                        "bin_end": 14.599999999999998,
                        "count": 0
                      },
                      {
                        "bin_start": 14.599999999999998,
                        "bin_end": 16.13,
                        "count": 1
                      }
                    ]
                  }
                },
                {
                  "name": "_deepnote_index_column",
                  "dtype": "int64"
                }
              ],
              "rows_top": [
                {
                  "YEAR": "1996",
                  "UMBC_PCT": "nan",
                  "_deepnote_index_column": 2151
                },
                {
                  "YEAR": "1997",
                  "UMBC_PCT": "nan",
                  "_deepnote_index_column": 2049
                },
                {
                  "YEAR": "1998",
                  "UMBC_PCT": "nan",
                  "_deepnote_index_column": 1982
                },
                {
                  "YEAR": "1999",
                  "UMBC_PCT": "nan",
                  "_deepnote_index_column": 1955
                },
                {
                  "YEAR": "2000",
                  "UMBC_PCT": "nan",
                  "_deepnote_index_column": 1926
                },
                {
                  "YEAR": "2001",
                  "UMBC_PCT": "7.65",
                  "_deepnote_index_column": 1915
                },
                {
                  "YEAR": "2002",
                  "UMBC_PCT": "7.65",
                  "_deepnote_index_column": 1893
                },
                {
                  "YEAR": "2003",
                  "UMBC_PCT": "16.13",
                  "_deepnote_index_column": 1873
                },
                {
                  "YEAR": "2004",
                  "UMBC_PCT": "8.55",
                  "_deepnote_index_column": 1830
                },
                {
                  "YEAR": "2005",
                  "UMBC_PCT": "6.23",
                  "_deepnote_index_column": 1819
                },
                {
                  "YEAR": "2006",
                  "UMBC_PCT": "1.2",
                  "_deepnote_index_column": 1799
                },
                {
                  "YEAR": "2007",
                  "UMBC_PCT": "1.0",
                  "_deepnote_index_column": 1779
                },
                {
                  "YEAR": "2008",
                  "UMBC_PCT": "0.83",
                  "_deepnote_index_column": 1767
                },
                {
                  "YEAR": "2009",
                  "UMBC_PCT": "1.05",
                  "_deepnote_index_column": 1745
                },
                {
                  "YEAR": "2010",
                  "UMBC_PCT": "3.37",
                  "_deepnote_index_column": 1710
                },
                {
                  "YEAR": "2011",
                  "UMBC_PCT": "3.23",
                  "_deepnote_index_column": 1694
                },
                {
                  "YEAR": "2012",
                  "UMBC_PCT": "3.14",
                  "_deepnote_index_column": 1660
                },
                {
                  "YEAR": "2013",
                  "UMBC_PCT": "3.11",
                  "_deepnote_index_column": 1629
                },
                {
                  "YEAR": "2014",
                  "UMBC_PCT": "3.14",
                  "_deepnote_index_column": 1610
                },
                {
                  "YEAR": "2015",
                  "UMBC_PCT": "5.99",
                  "_deepnote_index_column": 1555
                },
                {
                  "YEAR": "2016",
                  "UMBC_PCT": "2.34",
                  "_deepnote_index_column": 1510
                },
                {
                  "YEAR": "2017",
                  "UMBC_PCT": "2.25",
                  "_deepnote_index_column": 1478
                },
                {
                  "YEAR": "2018",
                  "UMBC_PCT": "2.26",
                  "_deepnote_index_column": 1415
                }
              ],
              "rows_bottom": null
            },
            "text/plain": "      YEAR  UMBC_PCT\n2151  1996       NaN\n2049  1997       NaN\n1982  1998       NaN\n1955  1999       NaN\n1926  2000       NaN\n1915  2001      7.65\n1893  2002      7.65\n1873  2003     16.13\n1830  2004      8.55\n1819  2005      6.23\n1799  2006      1.20\n1779  2007      1.00\n1767  2008      0.83\n1745  2009      1.05\n1710  2010      3.37\n1694  2011      3.23\n1660  2012      3.14\n1629  2013      3.11\n1610  2014      3.14\n1555  2015      5.99\n1510  2016      2.34\n1478  2017      2.25\n1415  2018      2.26",
            "text/html": "<div>\n<style scoped>\n    .dataframe tbody tr th:only-of-type {\n        vertical-align: middle;\n    }\n\n    .dataframe tbody tr th {\n        vertical-align: top;\n    }\n\n    .dataframe thead th {\n        text-align: right;\n    }\n</style>\n<table border=\"1\" class=\"dataframe\">\n  <thead>\n    <tr style=\"text-align: right;\">\n      <th></th>\n      <th>YEAR</th>\n      <th>UMBC_PCT</th>\n    </tr>\n  </thead>\n  <tbody>\n    <tr>\n      <th>2151</th>\n      <td>1996</td>\n      <td>NaN</td>\n    </tr>\n    <tr>\n      <th>2049</th>\n      <td>1997</td>\n      <td>NaN</td>\n    </tr>\n    <tr>\n      <th>1982</th>\n      <td>1998</td>\n      <td>NaN</td>\n    </tr>\n    <tr>\n      <th>1955</th>\n      <td>1999</td>\n      <td>NaN</td>\n    </tr>\n    <tr>\n      <th>1926</th>\n      <td>2000</td>\n      <td>NaN</td>\n    </tr>\n    <tr>\n      <th>1915</th>\n      <td>2001</td>\n      <td>7.65</td>\n    </tr>\n    <tr>\n      <th>1893</th>\n      <td>2002</td>\n      <td>7.65</td>\n    </tr>\n    <tr>\n      <th>1873</th>\n      <td>2003</td>\n      <td>16.13</td>\n    </tr>\n    <tr>\n      <th>1830</th>\n      <td>2004</td>\n      <td>8.55</td>\n    </tr>\n    <tr>\n      <th>1819</th>\n      <td>2005</td>\n      <td>6.23</td>\n    </tr>\n    <tr>\n      <th>1799</th>\n      <td>2006</td>\n      <td>1.20</td>\n    </tr>\n    <tr>\n      <th>1779</th>\n      <td>2007</td>\n      <td>1.00</td>\n    </tr>\n    <tr>\n      <th>1767</th>\n      <td>2008</td>\n      <td>0.83</td>\n    </tr>\n    <tr>\n      <th>1745</th>\n      <td>2009</td>\n      <td>1.05</td>\n    </tr>\n    <tr>\n      <th>1710</th>\n      <td>2010</td>\n      <td>3.37</td>\n    </tr>\n    <tr>\n      <th>1694</th>\n      <td>2011</td>\n      <td>3.23</td>\n    </tr>\n    <tr>\n      <th>1660</th>\n      <td>2012</td>\n      <td>3.14</td>\n    </tr>\n    <tr>\n      <th>1629</th>\n      <td>2013</td>\n      <td>3.11</td>\n    </tr>\n    <tr>\n      <th>1610</th>\n      <td>2014</td>\n      <td>3.14</td>\n    </tr>\n    <tr>\n      <th>1555</th>\n      <td>2015</td>\n      <td>5.99</td>\n    </tr>\n    <tr>\n      <th>1510</th>\n      <td>2016</td>\n      <td>2.34</td>\n    </tr>\n    <tr>\n      <th>1478</th>\n      <td>2017</td>\n      <td>2.25</td>\n    </tr>\n    <tr>\n      <th>1415</th>\n      <td>2018</td>\n      <td>2.26</td>\n    </tr>\n  </tbody>\n</table>\n</div>"
          },
          "metadata": {}
        }
      ]
    },
    {
      "cell_type": "markdown",
      "source": "Then make a jhu2 dataframe with only two columns needed. WE don't need other columns.\nAlso change the column name from \"PCT_CHANGE\" to \"JHU_PCT\"  in preparation for the merge",
      "metadata": {
        "id": "DX95nFyG6zNF",
        "cell_id": "00024-761ece5f-cf30-42b7-a17b-60b585a6c5a5",
        "deepnote_to_be_reexecuted": false,
        "source_hash": "c5c070ee",
        "execution_start": 1618162046224,
        "deepnote_cell_type": "markdown"
      }
    },
    {
      "cell_type": "code",
      "metadata": {
        "tags": [],
        "cell_id": "00058-e4b02913-9054-462a-b972-f0a8109e7e87",
        "deepnote_to_be_reexecuted": false,
        "source_hash": "8f774e71",
        "execution_millis": 18,
        "execution_start": 1618232858649,
        "deepnote_cell_type": "code"
      },
      "source": "df_jhu2 =df_jhu[['YEAR', 'PCT_CHANGE']]\ndf_jhu2.rename(columns={'PCT_CHANGE':'JHU_PCT'}, inplace=True)\ndf_jhu2",
      "execution_count": null,
      "outputs": [
        {
          "name": "stderr",
          "text": "/shared-libs/python3.7/py/lib/python3.7/site-packages/pandas/core/frame.py:4449: SettingWithCopyWarning:\n\n\nA value is trying to be set on a copy of a slice from a DataFrame\n\nSee the caveats in the documentation: https://pandas.pydata.org/pandas-docs/stable/user_guide/indexing.html#returning-a-view-versus-a-copy\n\n",
          "output_type": "stream"
        },
        {
          "output_type": "execute_result",
          "execution_count": 221,
          "data": {
            "application/vnd.deepnote.dataframe.v2+json": {
              "row_count": 23,
              "column_count": 2,
              "columns": [
                {
                  "name": "YEAR",
                  "dtype": "object",
                  "stats": {
                    "unique_count": 23,
                    "nan_count": 0,
                    "categories": [
                      {
                        "name": "1996",
                        "count": 1
                      },
                      {
                        "name": "1997",
                        "count": 1
                      },
                      {
                        "name": "21 others",
                        "count": 21
                      }
                    ]
                  }
                },
                {
                  "name": "JHU_PCT",
                  "dtype": "float64",
                  "stats": {
                    "unique_count": 16,
                    "nan_count": 5,
                    "min": 2.63,
                    "max": 7.21,
                    "histogram": [
                      {
                        "bin_start": 2.63,
                        "bin_end": 3.088,
                        "count": 2
                      },
                      {
                        "bin_start": 3.088,
                        "bin_end": 3.546,
                        "count": 4
                      },
                      {
                        "bin_start": 3.546,
                        "bin_end": 4.004,
                        "count": 3
                      },
                      {
                        "bin_start": 4.004,
                        "bin_end": 4.462,
                        "count": 0
                      },
                      {
                        "bin_start": 4.462,
                        "bin_end": 4.92,
                        "count": 5
                      },
                      {
                        "bin_start": 4.92,
                        "bin_end": 5.378,
                        "count": 2
                      },
                      {
                        "bin_start": 5.378,
                        "bin_end": 5.836,
                        "count": 0
                      },
                      {
                        "bin_start": 5.836,
                        "bin_end": 6.2940000000000005,
                        "count": 1
                      },
                      {
                        "bin_start": 6.2940000000000005,
                        "bin_end": 6.752,
                        "count": 0
                      },
                      {
                        "bin_start": 6.752,
                        "bin_end": 7.21,
                        "count": 1
                      }
                    ]
                  }
                },
                {
                  "name": "_deepnote_index_column",
                  "dtype": "int64"
                }
              ],
              "rows_top": [
                {
                  "YEAR": "1996",
                  "JHU_PCT": "nan",
                  "_deepnote_index_column": 2139
                },
                {
                  "YEAR": "1997",
                  "JHU_PCT": "nan",
                  "_deepnote_index_column": 2039
                },
                {
                  "YEAR": "1998",
                  "JHU_PCT": "nan",
                  "_deepnote_index_column": 1973
                },
                {
                  "YEAR": "1999",
                  "JHU_PCT": "nan",
                  "_deepnote_index_column": 1946
                },
                {
                  "YEAR": "2000",
                  "JHU_PCT": "nan",
                  "_deepnote_index_column": 1917
                },
                {
                  "YEAR": "2001",
                  "JHU_PCT": "5.13",
                  "_deepnote_index_column": 1906
                },
                {
                  "YEAR": "2002",
                  "JHU_PCT": "4.5",
                  "_deepnote_index_column": 1884
                },
                {
                  "YEAR": "2003",
                  "JHU_PCT": "4.89",
                  "_deepnote_index_column": 1865
                },
                {
                  "YEAR": "2004",
                  "JHU_PCT": "4.91",
                  "_deepnote_index_column": 1823
                },
                {
                  "YEAR": "2005",
                  "JHU_PCT": "4.91",
                  "_deepnote_index_column": 1812
                },
                {
                  "YEAR": "2006",
                  "JHU_PCT": "7.21",
                  "_deepnote_index_column": 1792
                },
                {
                  "YEAR": "2007",
                  "JHU_PCT": "5.9",
                  "_deepnote_index_column": 1772
                },
                {
                  "YEAR": "2008",
                  "JHU_PCT": "5.01",
                  "_deepnote_index_column": 1760
                },
                {
                  "YEAR": "2009",
                  "JHU_PCT": "3.85",
                  "_deepnote_index_column": 1738
                },
                {
                  "YEAR": "2010",
                  "JHU_PCT": "3.91",
                  "_deepnote_index_column": 1703
                },
                {
                  "YEAR": "2011",
                  "JHU_PCT": "3.93",
                  "_deepnote_index_column": 1687
                },
                {
                  "YEAR": "2012",
                  "JHU_PCT": "2.63",
                  "_deepnote_index_column": 1653
                },
                {
                  "YEAR": "2013",
                  "JHU_PCT": "4.79",
                  "_deepnote_index_column": 1622
                },
                {
                  "YEAR": "2014",
                  "JHU_PCT": "3.5",
                  "_deepnote_index_column": 1603
                },
                {
                  "YEAR": "2015",
                  "JHU_PCT": "3.51",
                  "_deepnote_index_column": 1548
                },
                {
                  "YEAR": "2016",
                  "JHU_PCT": "3.49",
                  "_deepnote_index_column": 1503
                },
                {
                  "YEAR": "2017",
                  "JHU_PCT": "3.49",
                  "_deepnote_index_column": 1473
                },
                {
                  "YEAR": "2018",
                  "JHU_PCT": "3.01",
                  "_deepnote_index_column": 1410
                }
              ],
              "rows_bottom": null
            },
            "text/plain": "      YEAR  JHU_PCT\n2139  1996      NaN\n2039  1997      NaN\n1973  1998      NaN\n1946  1999      NaN\n1917  2000      NaN\n1906  2001     5.13\n1884  2002     4.50\n1865  2003     4.89\n1823  2004     4.91\n1812  2005     4.91\n1792  2006     7.21\n1772  2007     5.90\n1760  2008     5.01\n1738  2009     3.85\n1703  2010     3.91\n1687  2011     3.93\n1653  2012     2.63\n1622  2013     4.79\n1603  2014     3.50\n1548  2015     3.51\n1503  2016     3.49\n1473  2017     3.49\n1410  2018     3.01",
            "text/html": "<div>\n<style scoped>\n    .dataframe tbody tr th:only-of-type {\n        vertical-align: middle;\n    }\n\n    .dataframe tbody tr th {\n        vertical-align: top;\n    }\n\n    .dataframe thead th {\n        text-align: right;\n    }\n</style>\n<table border=\"1\" class=\"dataframe\">\n  <thead>\n    <tr style=\"text-align: right;\">\n      <th></th>\n      <th>YEAR</th>\n      <th>JHU_PCT</th>\n    </tr>\n  </thead>\n  <tbody>\n    <tr>\n      <th>2139</th>\n      <td>1996</td>\n      <td>NaN</td>\n    </tr>\n    <tr>\n      <th>2039</th>\n      <td>1997</td>\n      <td>NaN</td>\n    </tr>\n    <tr>\n      <th>1973</th>\n      <td>1998</td>\n      <td>NaN</td>\n    </tr>\n    <tr>\n      <th>1946</th>\n      <td>1999</td>\n      <td>NaN</td>\n    </tr>\n    <tr>\n      <th>1917</th>\n      <td>2000</td>\n      <td>NaN</td>\n    </tr>\n    <tr>\n      <th>1906</th>\n      <td>2001</td>\n      <td>5.13</td>\n    </tr>\n    <tr>\n      <th>1884</th>\n      <td>2002</td>\n      <td>4.50</td>\n    </tr>\n    <tr>\n      <th>1865</th>\n      <td>2003</td>\n      <td>4.89</td>\n    </tr>\n    <tr>\n      <th>1823</th>\n      <td>2004</td>\n      <td>4.91</td>\n    </tr>\n    <tr>\n      <th>1812</th>\n      <td>2005</td>\n      <td>4.91</td>\n    </tr>\n    <tr>\n      <th>1792</th>\n      <td>2006</td>\n      <td>7.21</td>\n    </tr>\n    <tr>\n      <th>1772</th>\n      <td>2007</td>\n      <td>5.90</td>\n    </tr>\n    <tr>\n      <th>1760</th>\n      <td>2008</td>\n      <td>5.01</td>\n    </tr>\n    <tr>\n      <th>1738</th>\n      <td>2009</td>\n      <td>3.85</td>\n    </tr>\n    <tr>\n      <th>1703</th>\n      <td>2010</td>\n      <td>3.91</td>\n    </tr>\n    <tr>\n      <th>1687</th>\n      <td>2011</td>\n      <td>3.93</td>\n    </tr>\n    <tr>\n      <th>1653</th>\n      <td>2012</td>\n      <td>2.63</td>\n    </tr>\n    <tr>\n      <th>1622</th>\n      <td>2013</td>\n      <td>4.79</td>\n    </tr>\n    <tr>\n      <th>1603</th>\n      <td>2014</td>\n      <td>3.50</td>\n    </tr>\n    <tr>\n      <th>1548</th>\n      <td>2015</td>\n      <td>3.51</td>\n    </tr>\n    <tr>\n      <th>1503</th>\n      <td>2016</td>\n      <td>3.49</td>\n    </tr>\n    <tr>\n      <th>1473</th>\n      <td>2017</td>\n      <td>3.49</td>\n    </tr>\n    <tr>\n      <th>1410</th>\n      <td>2018</td>\n      <td>3.01</td>\n    </tr>\n  </tbody>\n</table>\n</div>"
          },
          "metadata": {}
        }
      ]
    },
    {
      "cell_type": "markdown",
      "source": "Now, merge the two data frames\nand display the new dataframe\n",
      "metadata": {
        "id": "LJ_6wKKU6zNL",
        "cell_id": "00025-ea622e5c-d34a-4932-9fbc-a5b7eb5731df",
        "deepnote_to_be_reexecuted": false,
        "source_hash": "be1e5557",
        "execution_start": 1618162046225,
        "deepnote_cell_type": "markdown"
      }
    },
    {
      "cell_type": "code",
      "metadata": {
        "tags": [],
        "cell_id": "00060-6c115eff-3e39-4d55-94c2-3abf046f283a",
        "deepnote_to_be_reexecuted": false,
        "source_hash": "651b75be",
        "execution_millis": 42,
        "execution_start": 1618232864657,
        "deepnote_cell_type": "code"
      },
      "source": "df_pctchg_mrgd = pd.merge(left = df_umbc2, right = df_jhu2, left_on = 'YEAR', right_on='YEAR')\ndf_pctchg_mrgd",
      "execution_count": null,
      "outputs": [
        {
          "output_type": "execute_result",
          "execution_count": 222,
          "data": {
            "application/vnd.deepnote.dataframe.v2+json": {
              "row_count": 23,
              "column_count": 3,
              "columns": [
                {
                  "name": "YEAR",
                  "dtype": "object",
                  "stats": {
                    "unique_count": 23,
                    "nan_count": 0,
                    "categories": [
                      {
                        "name": "1996",
                        "count": 1
                      },
                      {
                        "name": "1997",
                        "count": 1
                      },
                      {
                        "name": "21 others",
                        "count": 21
                      }
                    ]
                  }
                },
                {
                  "name": "UMBC_PCT",
                  "dtype": "float64",
                  "stats": {
                    "unique_count": 16,
                    "nan_count": 5,
                    "min": 0.83,
                    "max": 16.13,
                    "histogram": [
                      {
                        "bin_start": 0.83,
                        "bin_end": 2.36,
                        "count": 7
                      },
                      {
                        "bin_start": 2.36,
                        "bin_end": 3.8899999999999997,
                        "count": 5
                      },
                      {
                        "bin_start": 3.8899999999999997,
                        "bin_end": 5.42,
                        "count": 0
                      },
                      {
                        "bin_start": 5.42,
                        "bin_end": 6.949999999999999,
                        "count": 2
                      },
                      {
                        "bin_start": 6.949999999999999,
                        "bin_end": 8.479999999999999,
                        "count": 2
                      },
                      {
                        "bin_start": 8.479999999999999,
                        "bin_end": 10.01,
                        "count": 1
                      },
                      {
                        "bin_start": 10.01,
                        "bin_end": 11.54,
                        "count": 0
                      },
                      {
                        "bin_start": 11.54,
                        "bin_end": 13.069999999999999,
                        "count": 0
                      },
                      {
                        "bin_start": 13.069999999999999,
                        "bin_end": 14.599999999999998,
                        "count": 0
                      },
                      {
                        "bin_start": 14.599999999999998,
                        "bin_end": 16.13,
                        "count": 1
                      }
                    ]
                  }
                },
                {
                  "name": "JHU_PCT",
                  "dtype": "float64",
                  "stats": {
                    "unique_count": 16,
                    "nan_count": 5,
                    "min": 2.63,
                    "max": 7.21,
                    "histogram": [
                      {
                        "bin_start": 2.63,
                        "bin_end": 3.088,
                        "count": 2
                      },
                      {
                        "bin_start": 3.088,
                        "bin_end": 3.546,
                        "count": 4
                      },
                      {
                        "bin_start": 3.546,
                        "bin_end": 4.004,
                        "count": 3
                      },
                      {
                        "bin_start": 4.004,
                        "bin_end": 4.462,
                        "count": 0
                      },
                      {
                        "bin_start": 4.462,
                        "bin_end": 4.92,
                        "count": 5
                      },
                      {
                        "bin_start": 4.92,
                        "bin_end": 5.378,
                        "count": 2
                      },
                      {
                        "bin_start": 5.378,
                        "bin_end": 5.836,
                        "count": 0
                      },
                      {
                        "bin_start": 5.836,
                        "bin_end": 6.2940000000000005,
                        "count": 1
                      },
                      {
                        "bin_start": 6.2940000000000005,
                        "bin_end": 6.752,
                        "count": 0
                      },
                      {
                        "bin_start": 6.752,
                        "bin_end": 7.21,
                        "count": 1
                      }
                    ]
                  }
                },
                {
                  "name": "_deepnote_index_column",
                  "dtype": "int64"
                }
              ],
              "rows_top": [
                {
                  "YEAR": "1996",
                  "UMBC_PCT": "nan",
                  "JHU_PCT": "nan",
                  "_deepnote_index_column": 0
                },
                {
                  "YEAR": "1997",
                  "UMBC_PCT": "nan",
                  "JHU_PCT": "nan",
                  "_deepnote_index_column": 1
                },
                {
                  "YEAR": "1998",
                  "UMBC_PCT": "nan",
                  "JHU_PCT": "nan",
                  "_deepnote_index_column": 2
                },
                {
                  "YEAR": "1999",
                  "UMBC_PCT": "nan",
                  "JHU_PCT": "nan",
                  "_deepnote_index_column": 3
                },
                {
                  "YEAR": "2000",
                  "UMBC_PCT": "nan",
                  "JHU_PCT": "nan",
                  "_deepnote_index_column": 4
                },
                {
                  "YEAR": "2001",
                  "UMBC_PCT": "7.65",
                  "JHU_PCT": "5.13",
                  "_deepnote_index_column": 5
                },
                {
                  "YEAR": "2002",
                  "UMBC_PCT": "7.65",
                  "JHU_PCT": "4.5",
                  "_deepnote_index_column": 6
                },
                {
                  "YEAR": "2003",
                  "UMBC_PCT": "16.13",
                  "JHU_PCT": "4.89",
                  "_deepnote_index_column": 7
                },
                {
                  "YEAR": "2004",
                  "UMBC_PCT": "8.55",
                  "JHU_PCT": "4.91",
                  "_deepnote_index_column": 8
                },
                {
                  "YEAR": "2005",
                  "UMBC_PCT": "6.23",
                  "JHU_PCT": "4.91",
                  "_deepnote_index_column": 9
                },
                {
                  "YEAR": "2006",
                  "UMBC_PCT": "1.2",
                  "JHU_PCT": "7.21",
                  "_deepnote_index_column": 10
                },
                {
                  "YEAR": "2007",
                  "UMBC_PCT": "1.0",
                  "JHU_PCT": "5.9",
                  "_deepnote_index_column": 11
                },
                {
                  "YEAR": "2008",
                  "UMBC_PCT": "0.83",
                  "JHU_PCT": "5.01",
                  "_deepnote_index_column": 12
                },
                {
                  "YEAR": "2009",
                  "UMBC_PCT": "1.05",
                  "JHU_PCT": "3.85",
                  "_deepnote_index_column": 13
                },
                {
                  "YEAR": "2010",
                  "UMBC_PCT": "3.37",
                  "JHU_PCT": "3.91",
                  "_deepnote_index_column": 14
                },
                {
                  "YEAR": "2011",
                  "UMBC_PCT": "3.23",
                  "JHU_PCT": "3.93",
                  "_deepnote_index_column": 15
                },
                {
                  "YEAR": "2012",
                  "UMBC_PCT": "3.14",
                  "JHU_PCT": "2.63",
                  "_deepnote_index_column": 16
                },
                {
                  "YEAR": "2013",
                  "UMBC_PCT": "3.11",
                  "JHU_PCT": "4.79",
                  "_deepnote_index_column": 17
                },
                {
                  "YEAR": "2014",
                  "UMBC_PCT": "3.14",
                  "JHU_PCT": "3.5",
                  "_deepnote_index_column": 18
                },
                {
                  "YEAR": "2015",
                  "UMBC_PCT": "5.99",
                  "JHU_PCT": "3.51",
                  "_deepnote_index_column": 19
                },
                {
                  "YEAR": "2016",
                  "UMBC_PCT": "2.34",
                  "JHU_PCT": "3.49",
                  "_deepnote_index_column": 20
                },
                {
                  "YEAR": "2017",
                  "UMBC_PCT": "2.25",
                  "JHU_PCT": "3.49",
                  "_deepnote_index_column": 21
                },
                {
                  "YEAR": "2018",
                  "UMBC_PCT": "2.26",
                  "JHU_PCT": "3.01",
                  "_deepnote_index_column": 22
                }
              ],
              "rows_bottom": null
            },
            "text/plain": "    YEAR  UMBC_PCT  JHU_PCT\n0   1996       NaN      NaN\n1   1997       NaN      NaN\n2   1998       NaN      NaN\n3   1999       NaN      NaN\n4   2000       NaN      NaN\n5   2001      7.65     5.13\n6   2002      7.65     4.50\n7   2003     16.13     4.89\n8   2004      8.55     4.91\n9   2005      6.23     4.91\n10  2006      1.20     7.21\n11  2007      1.00     5.90\n12  2008      0.83     5.01\n13  2009      1.05     3.85\n14  2010      3.37     3.91\n15  2011      3.23     3.93\n16  2012      3.14     2.63\n17  2013      3.11     4.79\n18  2014      3.14     3.50\n19  2015      5.99     3.51\n20  2016      2.34     3.49\n21  2017      2.25     3.49\n22  2018      2.26     3.01",
            "text/html": "<div>\n<style scoped>\n    .dataframe tbody tr th:only-of-type {\n        vertical-align: middle;\n    }\n\n    .dataframe tbody tr th {\n        vertical-align: top;\n    }\n\n    .dataframe thead th {\n        text-align: right;\n    }\n</style>\n<table border=\"1\" class=\"dataframe\">\n  <thead>\n    <tr style=\"text-align: right;\">\n      <th></th>\n      <th>YEAR</th>\n      <th>UMBC_PCT</th>\n      <th>JHU_PCT</th>\n    </tr>\n  </thead>\n  <tbody>\n    <tr>\n      <th>0</th>\n      <td>1996</td>\n      <td>NaN</td>\n      <td>NaN</td>\n    </tr>\n    <tr>\n      <th>1</th>\n      <td>1997</td>\n      <td>NaN</td>\n      <td>NaN</td>\n    </tr>\n    <tr>\n      <th>2</th>\n      <td>1998</td>\n      <td>NaN</td>\n      <td>NaN</td>\n    </tr>\n    <tr>\n      <th>3</th>\n      <td>1999</td>\n      <td>NaN</td>\n      <td>NaN</td>\n    </tr>\n    <tr>\n      <th>4</th>\n      <td>2000</td>\n      <td>NaN</td>\n      <td>NaN</td>\n    </tr>\n    <tr>\n      <th>5</th>\n      <td>2001</td>\n      <td>7.65</td>\n      <td>5.13</td>\n    </tr>\n    <tr>\n      <th>6</th>\n      <td>2002</td>\n      <td>7.65</td>\n      <td>4.50</td>\n    </tr>\n    <tr>\n      <th>7</th>\n      <td>2003</td>\n      <td>16.13</td>\n      <td>4.89</td>\n    </tr>\n    <tr>\n      <th>8</th>\n      <td>2004</td>\n      <td>8.55</td>\n      <td>4.91</td>\n    </tr>\n    <tr>\n      <th>9</th>\n      <td>2005</td>\n      <td>6.23</td>\n      <td>4.91</td>\n    </tr>\n    <tr>\n      <th>10</th>\n      <td>2006</td>\n      <td>1.20</td>\n      <td>7.21</td>\n    </tr>\n    <tr>\n      <th>11</th>\n      <td>2007</td>\n      <td>1.00</td>\n      <td>5.90</td>\n    </tr>\n    <tr>\n      <th>12</th>\n      <td>2008</td>\n      <td>0.83</td>\n      <td>5.01</td>\n    </tr>\n    <tr>\n      <th>13</th>\n      <td>2009</td>\n      <td>1.05</td>\n      <td>3.85</td>\n    </tr>\n    <tr>\n      <th>14</th>\n      <td>2010</td>\n      <td>3.37</td>\n      <td>3.91</td>\n    </tr>\n    <tr>\n      <th>15</th>\n      <td>2011</td>\n      <td>3.23</td>\n      <td>3.93</td>\n    </tr>\n    <tr>\n      <th>16</th>\n      <td>2012</td>\n      <td>3.14</td>\n      <td>2.63</td>\n    </tr>\n    <tr>\n      <th>17</th>\n      <td>2013</td>\n      <td>3.11</td>\n      <td>4.79</td>\n    </tr>\n    <tr>\n      <th>18</th>\n      <td>2014</td>\n      <td>3.14</td>\n      <td>3.50</td>\n    </tr>\n    <tr>\n      <th>19</th>\n      <td>2015</td>\n      <td>5.99</td>\n      <td>3.51</td>\n    </tr>\n    <tr>\n      <th>20</th>\n      <td>2016</td>\n      <td>2.34</td>\n      <td>3.49</td>\n    </tr>\n    <tr>\n      <th>21</th>\n      <td>2017</td>\n      <td>2.25</td>\n      <td>3.49</td>\n    </tr>\n    <tr>\n      <th>22</th>\n      <td>2018</td>\n      <td>2.26</td>\n      <td>3.01</td>\n    </tr>\n  </tbody>\n</table>\n</div>"
          },
          "metadata": {}
        }
      ]
    },
    {
      "cell_type": "markdown",
      "source": "Plot UMBC and JHU separately on the same plot \nHowever, this does not work since the bars overlap.",
      "metadata": {
        "id": "Ng3bbP076zNW",
        "cell_id": "00026-68b0303c-2707-4283-b8f5-ac31a1a08cdc",
        "deepnote_to_be_reexecuted": false,
        "source_hash": "ac5d6443",
        "execution_start": 1618162046226,
        "deepnote_cell_type": "markdown"
      }
    },
    {
      "cell_type": "code",
      "metadata": {
        "tags": [],
        "cell_id": "00062-12655070-7a92-4c0a-9222-0581ebbffbfe",
        "deepnote_to_be_reexecuted": false,
        "source_hash": "4d800204",
        "execution_millis": 16,
        "execution_start": 1618232881322,
        "deepnote_cell_type": "code"
      },
      "source": "merged_bar = px.bar(df_pctchg_mrgd,\n                    x='YEAR',\n                    y=['UMBC_PCT', 'JHU_PCT']\n                    )\nmerged_bar.show()            ",
      "execution_count": null,
      "outputs": [
        {
          "data": {
            "text/html": "<html>\n<head><meta charset=\"utf-8\" /></head>\n<body>\n    <div>            <script src=\"https://cdnjs.cloudflare.com/ajax/libs/mathjax/2.7.5/MathJax.js?config=TeX-AMS-MML_SVG\"></script><script type=\"text/javascript\">if (window.MathJax) {MathJax.Hub.Config({SVG: {font: \"STIX-Web\"}});}</script>                <script type=\"text/javascript\">window.PlotlyConfig = {MathJaxConfig: 'local'};</script>\n        <script src=\"https://cdn.plot.ly/plotly-latest.min.js\"></script>                <div id=\"18b32733-73c0-4eaf-ba36-993d6aee48b9\" class=\"plotly-graph-div\" style=\"height:525px; width:100%;\"></div>            <script type=\"text/javascript\">                                    window.PLOTLYENV=window.PLOTLYENV || {};                                    if (document.getElementById(\"18b32733-73c0-4eaf-ba36-993d6aee48b9\")) {                    Plotly.newPlot(                        \"18b32733-73c0-4eaf-ba36-993d6aee48b9\",                        [{\"alignmentgroup\": \"True\", \"hovertemplate\": \"variable=UMBC_PCT<br>YEAR=%{x}<br>value=%{y}<extra></extra>\", \"legendgroup\": \"UMBC_PCT\", \"marker\": {\"color\": \"#636efa\"}, \"name\": \"UMBC_PCT\", \"offsetgroup\": \"UMBC_PCT\", \"orientation\": \"v\", \"showlegend\": true, \"textposition\": \"auto\", \"type\": \"bar\", \"x\": [\"1996\", \"1997\", \"1998\", \"1999\", \"2000\", \"2001\", \"2002\", \"2003\", \"2004\", \"2005\", \"2006\", \"2007\", \"2008\", \"2009\", \"2010\", \"2011\", \"2012\", \"2013\", \"2014\", \"2015\", \"2016\", \"2017\", \"2018\"], \"xaxis\": \"x\", \"y\": [null, null, null, null, null, 7.65, 7.65, 16.13, 8.55, 6.23, 1.2, 1.0, 0.83, 1.05, 3.37, 3.23, 3.14, 3.11, 3.14, 5.99, 2.34, 2.25, 2.26], \"yaxis\": \"y\"}, {\"alignmentgroup\": \"True\", \"hovertemplate\": \"variable=JHU_PCT<br>YEAR=%{x}<br>value=%{y}<extra></extra>\", \"legendgroup\": \"JHU_PCT\", \"marker\": {\"color\": \"#EF553B\"}, \"name\": \"JHU_PCT\", \"offsetgroup\": \"JHU_PCT\", \"orientation\": \"v\", \"showlegend\": true, \"textposition\": \"auto\", \"type\": \"bar\", \"x\": [\"1996\", \"1997\", \"1998\", \"1999\", \"2000\", \"2001\", \"2002\", \"2003\", \"2004\", \"2005\", \"2006\", \"2007\", \"2008\", \"2009\", \"2010\", \"2011\", \"2012\", \"2013\", \"2014\", \"2015\", \"2016\", \"2017\", \"2018\"], \"xaxis\": \"x\", \"y\": [null, null, null, null, null, 5.13, 4.5, 4.89, 4.91, 4.91, 7.21, 5.9, 5.01, 3.85, 3.91, 3.93, 2.63, 4.79, 3.5, 3.51, 3.49, 3.49, 3.01], \"yaxis\": \"y\"}],                        {\"barmode\": \"relative\", \"legend\": {\"title\": {\"text\": \"variable\"}, \"tracegroupgap\": 0}, \"margin\": {\"t\": 60}, \"template\": {\"data\": {\"bar\": [{\"error_x\": {\"color\": \"#2a3f5f\"}, \"error_y\": {\"color\": \"#2a3f5f\"}, \"marker\": {\"line\": {\"color\": \"#E5ECF6\", \"width\": 0.5}}, \"type\": \"bar\"}], \"barpolar\": [{\"marker\": {\"line\": {\"color\": \"#E5ECF6\", \"width\": 0.5}}, \"type\": \"barpolar\"}], \"carpet\": [{\"aaxis\": {\"endlinecolor\": \"#2a3f5f\", \"gridcolor\": \"white\", \"linecolor\": \"white\", \"minorgridcolor\": \"white\", \"startlinecolor\": \"#2a3f5f\"}, \"baxis\": {\"endlinecolor\": \"#2a3f5f\", \"gridcolor\": \"white\", \"linecolor\": \"white\", \"minorgridcolor\": \"white\", \"startlinecolor\": \"#2a3f5f\"}, \"type\": \"carpet\"}], \"choropleth\": [{\"colorbar\": {\"outlinewidth\": 0, \"ticks\": \"\"}, \"type\": \"choropleth\"}], \"contour\": [{\"colorbar\": {\"outlinewidth\": 0, \"ticks\": \"\"}, \"colorscale\": [[0.0, \"#0d0887\"], [0.1111111111111111, \"#46039f\"], [0.2222222222222222, \"#7201a8\"], [0.3333333333333333, \"#9c179e\"], [0.4444444444444444, \"#bd3786\"], [0.5555555555555556, \"#d8576b\"], [0.6666666666666666, \"#ed7953\"], [0.7777777777777778, \"#fb9f3a\"], [0.8888888888888888, \"#fdca26\"], [1.0, \"#f0f921\"]], \"type\": \"contour\"}], \"contourcarpet\": [{\"colorbar\": {\"outlinewidth\": 0, \"ticks\": \"\"}, \"type\": \"contourcarpet\"}], \"heatmap\": [{\"colorbar\": {\"outlinewidth\": 0, \"ticks\": \"\"}, \"colorscale\": [[0.0, \"#0d0887\"], [0.1111111111111111, \"#46039f\"], [0.2222222222222222, \"#7201a8\"], [0.3333333333333333, \"#9c179e\"], [0.4444444444444444, \"#bd3786\"], [0.5555555555555556, \"#d8576b\"], [0.6666666666666666, \"#ed7953\"], [0.7777777777777778, \"#fb9f3a\"], [0.8888888888888888, \"#fdca26\"], [1.0, \"#f0f921\"]], \"type\": \"heatmap\"}], \"heatmapgl\": [{\"colorbar\": {\"outlinewidth\": 0, \"ticks\": \"\"}, \"colorscale\": [[0.0, \"#0d0887\"], [0.1111111111111111, \"#46039f\"], [0.2222222222222222, \"#7201a8\"], [0.3333333333333333, \"#9c179e\"], [0.4444444444444444, \"#bd3786\"], [0.5555555555555556, \"#d8576b\"], [0.6666666666666666, \"#ed7953\"], [0.7777777777777778, \"#fb9f3a\"], [0.8888888888888888, \"#fdca26\"], [1.0, \"#f0f921\"]], \"type\": \"heatmapgl\"}], \"histogram\": [{\"marker\": {\"colorbar\": {\"outlinewidth\": 0, \"ticks\": \"\"}}, \"type\": \"histogram\"}], \"histogram2d\": [{\"colorbar\": {\"outlinewidth\": 0, \"ticks\": \"\"}, \"colorscale\": [[0.0, \"#0d0887\"], [0.1111111111111111, \"#46039f\"], [0.2222222222222222, \"#7201a8\"], [0.3333333333333333, \"#9c179e\"], [0.4444444444444444, \"#bd3786\"], [0.5555555555555556, \"#d8576b\"], [0.6666666666666666, \"#ed7953\"], [0.7777777777777778, \"#fb9f3a\"], [0.8888888888888888, \"#fdca26\"], [1.0, \"#f0f921\"]], \"type\": \"histogram2d\"}], \"histogram2dcontour\": [{\"colorbar\": {\"outlinewidth\": 0, \"ticks\": \"\"}, \"colorscale\": [[0.0, \"#0d0887\"], [0.1111111111111111, \"#46039f\"], [0.2222222222222222, \"#7201a8\"], [0.3333333333333333, \"#9c179e\"], [0.4444444444444444, \"#bd3786\"], [0.5555555555555556, \"#d8576b\"], [0.6666666666666666, \"#ed7953\"], [0.7777777777777778, \"#fb9f3a\"], [0.8888888888888888, \"#fdca26\"], [1.0, \"#f0f921\"]], \"type\": \"histogram2dcontour\"}], \"mesh3d\": [{\"colorbar\": {\"outlinewidth\": 0, \"ticks\": \"\"}, \"type\": \"mesh3d\"}], \"parcoords\": [{\"line\": {\"colorbar\": {\"outlinewidth\": 0, \"ticks\": \"\"}}, \"type\": \"parcoords\"}], \"pie\": [{\"automargin\": true, \"type\": \"pie\"}], \"scatter\": [{\"marker\": {\"colorbar\": {\"outlinewidth\": 0, \"ticks\": \"\"}}, \"type\": \"scatter\"}], \"scatter3d\": [{\"line\": {\"colorbar\": {\"outlinewidth\": 0, \"ticks\": \"\"}}, \"marker\": {\"colorbar\": {\"outlinewidth\": 0, \"ticks\": \"\"}}, \"type\": \"scatter3d\"}], \"scattercarpet\": [{\"marker\": {\"colorbar\": {\"outlinewidth\": 0, \"ticks\": \"\"}}, \"type\": \"scattercarpet\"}], \"scattergeo\": [{\"marker\": {\"colorbar\": {\"outlinewidth\": 0, \"ticks\": \"\"}}, \"type\": \"scattergeo\"}], \"scattergl\": [{\"marker\": {\"colorbar\": {\"outlinewidth\": 0, \"ticks\": \"\"}}, \"type\": \"scattergl\"}], \"scattermapbox\": [{\"marker\": {\"colorbar\": {\"outlinewidth\": 0, \"ticks\": \"\"}}, \"type\": \"scattermapbox\"}], \"scatterpolar\": [{\"marker\": {\"colorbar\": {\"outlinewidth\": 0, \"ticks\": \"\"}}, \"type\": \"scatterpolar\"}], \"scatterpolargl\": [{\"marker\": {\"colorbar\": {\"outlinewidth\": 0, \"ticks\": \"\"}}, \"type\": \"scatterpolargl\"}], \"scatterternary\": [{\"marker\": {\"colorbar\": {\"outlinewidth\": 0, \"ticks\": \"\"}}, \"type\": \"scatterternary\"}], \"surface\": [{\"colorbar\": {\"outlinewidth\": 0, \"ticks\": \"\"}, \"colorscale\": [[0.0, \"#0d0887\"], [0.1111111111111111, \"#46039f\"], [0.2222222222222222, \"#7201a8\"], [0.3333333333333333, \"#9c179e\"], [0.4444444444444444, \"#bd3786\"], [0.5555555555555556, \"#d8576b\"], [0.6666666666666666, \"#ed7953\"], [0.7777777777777778, \"#fb9f3a\"], [0.8888888888888888, \"#fdca26\"], [1.0, \"#f0f921\"]], \"type\": \"surface\"}], \"table\": [{\"cells\": {\"fill\": {\"color\": \"#EBF0F8\"}, \"line\": {\"color\": \"white\"}}, \"header\": {\"fill\": {\"color\": \"#C8D4E3\"}, \"line\": {\"color\": \"white\"}}, \"type\": \"table\"}]}, \"layout\": {\"annotationdefaults\": {\"arrowcolor\": \"#2a3f5f\", \"arrowhead\": 0, \"arrowwidth\": 1}, \"autotypenumbers\": \"strict\", \"coloraxis\": {\"colorbar\": {\"outlinewidth\": 0, \"ticks\": \"\"}}, \"colorscale\": {\"diverging\": [[0, \"#8e0152\"], [0.1, \"#c51b7d\"], [0.2, \"#de77ae\"], [0.3, \"#f1b6da\"], [0.4, \"#fde0ef\"], [0.5, \"#f7f7f7\"], [0.6, \"#e6f5d0\"], [0.7, \"#b8e186\"], [0.8, \"#7fbc41\"], [0.9, \"#4d9221\"], [1, \"#276419\"]], \"sequential\": [[0.0, \"#0d0887\"], [0.1111111111111111, \"#46039f\"], [0.2222222222222222, \"#7201a8\"], [0.3333333333333333, \"#9c179e\"], [0.4444444444444444, \"#bd3786\"], [0.5555555555555556, \"#d8576b\"], [0.6666666666666666, \"#ed7953\"], [0.7777777777777778, \"#fb9f3a\"], [0.8888888888888888, \"#fdca26\"], [1.0, \"#f0f921\"]], \"sequentialminus\": [[0.0, \"#0d0887\"], [0.1111111111111111, \"#46039f\"], [0.2222222222222222, \"#7201a8\"], [0.3333333333333333, \"#9c179e\"], [0.4444444444444444, \"#bd3786\"], [0.5555555555555556, \"#d8576b\"], [0.6666666666666666, \"#ed7953\"], [0.7777777777777778, \"#fb9f3a\"], [0.8888888888888888, \"#fdca26\"], [1.0, \"#f0f921\"]]}, \"colorway\": [\"#636efa\", \"#EF553B\", \"#00cc96\", \"#ab63fa\", \"#FFA15A\", \"#19d3f3\", \"#FF6692\", \"#B6E880\", \"#FF97FF\", \"#FECB52\"], \"font\": {\"color\": \"#2a3f5f\"}, \"geo\": {\"bgcolor\": \"white\", \"lakecolor\": \"white\", \"landcolor\": \"#E5ECF6\", \"showlakes\": true, \"showland\": true, \"subunitcolor\": \"white\"}, \"hoverlabel\": {\"align\": \"left\"}, \"hovermode\": \"closest\", \"mapbox\": {\"style\": \"light\"}, \"paper_bgcolor\": \"white\", \"plot_bgcolor\": \"#E5ECF6\", \"polar\": {\"angularaxis\": {\"gridcolor\": \"white\", \"linecolor\": \"white\", \"ticks\": \"\"}, \"bgcolor\": \"#E5ECF6\", \"radialaxis\": {\"gridcolor\": \"white\", \"linecolor\": \"white\", \"ticks\": \"\"}}, \"scene\": {\"xaxis\": {\"backgroundcolor\": \"#E5ECF6\", \"gridcolor\": \"white\", \"gridwidth\": 2, \"linecolor\": \"white\", \"showbackground\": true, \"ticks\": \"\", \"zerolinecolor\": \"white\"}, \"yaxis\": {\"backgroundcolor\": \"#E5ECF6\", \"gridcolor\": \"white\", \"gridwidth\": 2, \"linecolor\": \"white\", \"showbackground\": true, \"ticks\": \"\", \"zerolinecolor\": \"white\"}, \"zaxis\": {\"backgroundcolor\": \"#E5ECF6\", \"gridcolor\": \"white\", \"gridwidth\": 2, \"linecolor\": \"white\", \"showbackground\": true, \"ticks\": \"\", \"zerolinecolor\": \"white\"}}, \"shapedefaults\": {\"line\": {\"color\": \"#2a3f5f\"}}, \"ternary\": {\"aaxis\": {\"gridcolor\": \"white\", \"linecolor\": \"white\", \"ticks\": \"\"}, \"baxis\": {\"gridcolor\": \"white\", \"linecolor\": \"white\", \"ticks\": \"\"}, \"bgcolor\": \"#E5ECF6\", \"caxis\": {\"gridcolor\": \"white\", \"linecolor\": \"white\", \"ticks\": \"\"}}, \"title\": {\"x\": 0.05}, \"xaxis\": {\"automargin\": true, \"gridcolor\": \"white\", \"linecolor\": \"white\", \"ticks\": \"\", \"title\": {\"standoff\": 15}, \"zerolinecolor\": \"white\", \"zerolinewidth\": 2}, \"yaxis\": {\"automargin\": true, \"gridcolor\": \"white\", \"linecolor\": \"white\", \"ticks\": \"\", \"title\": {\"standoff\": 15}, \"zerolinecolor\": \"white\", \"zerolinewidth\": 2}}}, \"xaxis\": {\"anchor\": \"y\", \"domain\": [0.0, 1.0], \"title\": {\"text\": \"YEAR\"}}, \"yaxis\": {\"anchor\": \"x\", \"domain\": [0.0, 1.0], \"title\": {\"text\": \"value\"}}},                        {\"responsive\": true}                    ).then(function(){\n                            \nvar gd = document.getElementById('18b32733-73c0-4eaf-ba36-993d6aee48b9');\nvar x = new MutationObserver(function (mutations, observer) {{\n        var display = window.getComputedStyle(gd).display;\n        if (!display || display === 'none') {{\n            console.log([gd, 'removed!']);\n            Plotly.purge(gd);\n            observer.disconnect();\n        }}\n}});\n\n// Listen for the removal of the full notebook cells\nvar notebookContainer = gd.closest('#notebook-container');\nif (notebookContainer) {{\n    x.observe(notebookContainer, {childList: true});\n}}\n\n// Listen for the clearing of the current output cell\nvar outputEl = gd.closest('.output');\nif (outputEl) {{\n    x.observe(outputEl, {childList: true});\n}}\n\n                        })                };                            </script>        </div>\n</body>\n</html>"
          },
          "metadata": {},
          "output_type": "display_data"
        }
      ]
    },
    {
      "cell_type": "markdown",
      "source": "Plot them together using y=\\[\"UMBC_PCT\",\"JHU_PCT\"\\] option of bar plot\n\n",
      "metadata": {
        "id": "gqeDG8Xf6zNg",
        "cell_id": "00027-cd71fc25-79ef-4587-94e4-7c0fa9f53d80",
        "deepnote_to_be_reexecuted": false,
        "source_hash": "2e089188",
        "execution_start": 1618162046226,
        "deepnote_cell_type": "markdown"
      }
    },
    {
      "cell_type": "code",
      "metadata": {
        "tags": [],
        "cell_id": "00064-44b50557-aea1-4ea8-954c-e60d625637d1",
        "deepnote_to_be_reexecuted": false,
        "source_hash": "26fa5133",
        "execution_millis": 72,
        "execution_start": 1618232893719,
        "deepnote_cell_type": "code"
      },
      "source": "merged_bar = px.bar(df_pctchg_mrgd,\n                    x='YEAR',\n                    y=['UMBC_PCT', 'JHU_PCT'],\n                    barmode='group'\n                    )\nmerged_bar.show()            ",
      "execution_count": null,
      "outputs": [
        {
          "data": {
            "text/html": "<html>\n<head><meta charset=\"utf-8\" /></head>\n<body>\n    <div>            <script src=\"https://cdnjs.cloudflare.com/ajax/libs/mathjax/2.7.5/MathJax.js?config=TeX-AMS-MML_SVG\"></script><script type=\"text/javascript\">if (window.MathJax) {MathJax.Hub.Config({SVG: {font: \"STIX-Web\"}});}</script>                <script type=\"text/javascript\">window.PlotlyConfig = {MathJaxConfig: 'local'};</script>\n        <script src=\"https://cdn.plot.ly/plotly-latest.min.js\"></script>                <div id=\"51513dc5-5794-48df-a889-469776391dac\" class=\"plotly-graph-div\" style=\"height:525px; width:100%;\"></div>            <script type=\"text/javascript\">                                    window.PLOTLYENV=window.PLOTLYENV || {};                                    if (document.getElementById(\"51513dc5-5794-48df-a889-469776391dac\")) {                    Plotly.newPlot(                        \"51513dc5-5794-48df-a889-469776391dac\",                        [{\"alignmentgroup\": \"True\", \"hovertemplate\": \"variable=UMBC_PCT<br>YEAR=%{x}<br>value=%{y}<extra></extra>\", \"legendgroup\": \"UMBC_PCT\", \"marker\": {\"color\": \"#636efa\"}, \"name\": \"UMBC_PCT\", \"offsetgroup\": \"UMBC_PCT\", \"orientation\": \"v\", \"showlegend\": true, \"textposition\": \"auto\", \"type\": \"bar\", \"x\": [\"1996\", \"1997\", \"1998\", \"1999\", \"2000\", \"2001\", \"2002\", \"2003\", \"2004\", \"2005\", \"2006\", \"2007\", \"2008\", \"2009\", \"2010\", \"2011\", \"2012\", \"2013\", \"2014\", \"2015\", \"2016\", \"2017\", \"2018\"], \"xaxis\": \"x\", \"y\": [null, null, null, null, null, 7.65, 7.65, 16.13, 8.55, 6.23, 1.2, 1.0, 0.83, 1.05, 3.37, 3.23, 3.14, 3.11, 3.14, 5.99, 2.34, 2.25, 2.26], \"yaxis\": \"y\"}, {\"alignmentgroup\": \"True\", \"hovertemplate\": \"variable=JHU_PCT<br>YEAR=%{x}<br>value=%{y}<extra></extra>\", \"legendgroup\": \"JHU_PCT\", \"marker\": {\"color\": \"#EF553B\"}, \"name\": \"JHU_PCT\", \"offsetgroup\": \"JHU_PCT\", \"orientation\": \"v\", \"showlegend\": true, \"textposition\": \"auto\", \"type\": \"bar\", \"x\": [\"1996\", \"1997\", \"1998\", \"1999\", \"2000\", \"2001\", \"2002\", \"2003\", \"2004\", \"2005\", \"2006\", \"2007\", \"2008\", \"2009\", \"2010\", \"2011\", \"2012\", \"2013\", \"2014\", \"2015\", \"2016\", \"2017\", \"2018\"], \"xaxis\": \"x\", \"y\": [null, null, null, null, null, 5.13, 4.5, 4.89, 4.91, 4.91, 7.21, 5.9, 5.01, 3.85, 3.91, 3.93, 2.63, 4.79, 3.5, 3.51, 3.49, 3.49, 3.01], \"yaxis\": \"y\"}],                        {\"barmode\": \"group\", \"legend\": {\"title\": {\"text\": \"variable\"}, \"tracegroupgap\": 0}, \"margin\": {\"t\": 60}, \"template\": {\"data\": {\"bar\": [{\"error_x\": {\"color\": \"#2a3f5f\"}, \"error_y\": {\"color\": \"#2a3f5f\"}, \"marker\": {\"line\": {\"color\": \"#E5ECF6\", \"width\": 0.5}}, \"type\": \"bar\"}], \"barpolar\": [{\"marker\": {\"line\": {\"color\": \"#E5ECF6\", \"width\": 0.5}}, \"type\": \"barpolar\"}], \"carpet\": [{\"aaxis\": {\"endlinecolor\": \"#2a3f5f\", \"gridcolor\": \"white\", \"linecolor\": \"white\", \"minorgridcolor\": \"white\", \"startlinecolor\": \"#2a3f5f\"}, \"baxis\": {\"endlinecolor\": \"#2a3f5f\", \"gridcolor\": \"white\", \"linecolor\": \"white\", \"minorgridcolor\": \"white\", \"startlinecolor\": \"#2a3f5f\"}, \"type\": \"carpet\"}], \"choropleth\": [{\"colorbar\": {\"outlinewidth\": 0, \"ticks\": \"\"}, \"type\": \"choropleth\"}], \"contour\": [{\"colorbar\": {\"outlinewidth\": 0, \"ticks\": \"\"}, \"colorscale\": [[0.0, \"#0d0887\"], [0.1111111111111111, \"#46039f\"], [0.2222222222222222, \"#7201a8\"], [0.3333333333333333, \"#9c179e\"], [0.4444444444444444, \"#bd3786\"], [0.5555555555555556, \"#d8576b\"], [0.6666666666666666, \"#ed7953\"], [0.7777777777777778, \"#fb9f3a\"], [0.8888888888888888, \"#fdca26\"], [1.0, \"#f0f921\"]], \"type\": \"contour\"}], \"contourcarpet\": [{\"colorbar\": {\"outlinewidth\": 0, \"ticks\": \"\"}, \"type\": \"contourcarpet\"}], \"heatmap\": [{\"colorbar\": {\"outlinewidth\": 0, \"ticks\": \"\"}, \"colorscale\": [[0.0, \"#0d0887\"], [0.1111111111111111, \"#46039f\"], [0.2222222222222222, \"#7201a8\"], [0.3333333333333333, \"#9c179e\"], [0.4444444444444444, \"#bd3786\"], [0.5555555555555556, \"#d8576b\"], [0.6666666666666666, \"#ed7953\"], [0.7777777777777778, \"#fb9f3a\"], [0.8888888888888888, \"#fdca26\"], [1.0, \"#f0f921\"]], \"type\": \"heatmap\"}], \"heatmapgl\": [{\"colorbar\": {\"outlinewidth\": 0, \"ticks\": \"\"}, \"colorscale\": [[0.0, \"#0d0887\"], [0.1111111111111111, \"#46039f\"], [0.2222222222222222, \"#7201a8\"], [0.3333333333333333, \"#9c179e\"], [0.4444444444444444, \"#bd3786\"], [0.5555555555555556, \"#d8576b\"], [0.6666666666666666, \"#ed7953\"], [0.7777777777777778, \"#fb9f3a\"], [0.8888888888888888, \"#fdca26\"], [1.0, \"#f0f921\"]], \"type\": \"heatmapgl\"}], \"histogram\": [{\"marker\": {\"colorbar\": {\"outlinewidth\": 0, \"ticks\": \"\"}}, \"type\": \"histogram\"}], \"histogram2d\": [{\"colorbar\": {\"outlinewidth\": 0, \"ticks\": \"\"}, \"colorscale\": [[0.0, \"#0d0887\"], [0.1111111111111111, \"#46039f\"], [0.2222222222222222, \"#7201a8\"], [0.3333333333333333, \"#9c179e\"], [0.4444444444444444, \"#bd3786\"], [0.5555555555555556, \"#d8576b\"], [0.6666666666666666, \"#ed7953\"], [0.7777777777777778, \"#fb9f3a\"], [0.8888888888888888, \"#fdca26\"], [1.0, \"#f0f921\"]], \"type\": \"histogram2d\"}], \"histogram2dcontour\": [{\"colorbar\": {\"outlinewidth\": 0, \"ticks\": \"\"}, \"colorscale\": [[0.0, \"#0d0887\"], [0.1111111111111111, \"#46039f\"], [0.2222222222222222, \"#7201a8\"], [0.3333333333333333, \"#9c179e\"], [0.4444444444444444, \"#bd3786\"], [0.5555555555555556, \"#d8576b\"], [0.6666666666666666, \"#ed7953\"], [0.7777777777777778, \"#fb9f3a\"], [0.8888888888888888, \"#fdca26\"], [1.0, \"#f0f921\"]], \"type\": \"histogram2dcontour\"}], \"mesh3d\": [{\"colorbar\": {\"outlinewidth\": 0, \"ticks\": \"\"}, \"type\": \"mesh3d\"}], \"parcoords\": [{\"line\": {\"colorbar\": {\"outlinewidth\": 0, \"ticks\": \"\"}}, \"type\": \"parcoords\"}], \"pie\": [{\"automargin\": true, \"type\": \"pie\"}], \"scatter\": [{\"marker\": {\"colorbar\": {\"outlinewidth\": 0, \"ticks\": \"\"}}, \"type\": \"scatter\"}], \"scatter3d\": [{\"line\": {\"colorbar\": {\"outlinewidth\": 0, \"ticks\": \"\"}}, \"marker\": {\"colorbar\": {\"outlinewidth\": 0, \"ticks\": \"\"}}, \"type\": \"scatter3d\"}], \"scattercarpet\": [{\"marker\": {\"colorbar\": {\"outlinewidth\": 0, \"ticks\": \"\"}}, \"type\": \"scattercarpet\"}], \"scattergeo\": [{\"marker\": {\"colorbar\": {\"outlinewidth\": 0, \"ticks\": \"\"}}, \"type\": \"scattergeo\"}], \"scattergl\": [{\"marker\": {\"colorbar\": {\"outlinewidth\": 0, \"ticks\": \"\"}}, \"type\": \"scattergl\"}], \"scattermapbox\": [{\"marker\": {\"colorbar\": {\"outlinewidth\": 0, \"ticks\": \"\"}}, \"type\": \"scattermapbox\"}], \"scatterpolar\": [{\"marker\": {\"colorbar\": {\"outlinewidth\": 0, \"ticks\": \"\"}}, \"type\": \"scatterpolar\"}], \"scatterpolargl\": [{\"marker\": {\"colorbar\": {\"outlinewidth\": 0, \"ticks\": \"\"}}, \"type\": \"scatterpolargl\"}], \"scatterternary\": [{\"marker\": {\"colorbar\": {\"outlinewidth\": 0, \"ticks\": \"\"}}, \"type\": \"scatterternary\"}], \"surface\": [{\"colorbar\": {\"outlinewidth\": 0, \"ticks\": \"\"}, \"colorscale\": [[0.0, \"#0d0887\"], [0.1111111111111111, \"#46039f\"], [0.2222222222222222, \"#7201a8\"], [0.3333333333333333, \"#9c179e\"], [0.4444444444444444, \"#bd3786\"], [0.5555555555555556, \"#d8576b\"], [0.6666666666666666, \"#ed7953\"], [0.7777777777777778, \"#fb9f3a\"], [0.8888888888888888, \"#fdca26\"], [1.0, \"#f0f921\"]], \"type\": \"surface\"}], \"table\": [{\"cells\": {\"fill\": {\"color\": \"#EBF0F8\"}, \"line\": {\"color\": \"white\"}}, \"header\": {\"fill\": {\"color\": \"#C8D4E3\"}, \"line\": {\"color\": \"white\"}}, \"type\": \"table\"}]}, \"layout\": {\"annotationdefaults\": {\"arrowcolor\": \"#2a3f5f\", \"arrowhead\": 0, \"arrowwidth\": 1}, \"autotypenumbers\": \"strict\", \"coloraxis\": {\"colorbar\": {\"outlinewidth\": 0, \"ticks\": \"\"}}, \"colorscale\": {\"diverging\": [[0, \"#8e0152\"], [0.1, \"#c51b7d\"], [0.2, \"#de77ae\"], [0.3, \"#f1b6da\"], [0.4, \"#fde0ef\"], [0.5, \"#f7f7f7\"], [0.6, \"#e6f5d0\"], [0.7, \"#b8e186\"], [0.8, \"#7fbc41\"], [0.9, \"#4d9221\"], [1, \"#276419\"]], \"sequential\": [[0.0, \"#0d0887\"], [0.1111111111111111, \"#46039f\"], [0.2222222222222222, \"#7201a8\"], [0.3333333333333333, \"#9c179e\"], [0.4444444444444444, \"#bd3786\"], [0.5555555555555556, \"#d8576b\"], [0.6666666666666666, \"#ed7953\"], [0.7777777777777778, \"#fb9f3a\"], [0.8888888888888888, \"#fdca26\"], [1.0, \"#f0f921\"]], \"sequentialminus\": [[0.0, \"#0d0887\"], [0.1111111111111111, \"#46039f\"], [0.2222222222222222, \"#7201a8\"], [0.3333333333333333, \"#9c179e\"], [0.4444444444444444, \"#bd3786\"], [0.5555555555555556, \"#d8576b\"], [0.6666666666666666, \"#ed7953\"], [0.7777777777777778, \"#fb9f3a\"], [0.8888888888888888, \"#fdca26\"], [1.0, \"#f0f921\"]]}, \"colorway\": [\"#636efa\", \"#EF553B\", \"#00cc96\", \"#ab63fa\", \"#FFA15A\", \"#19d3f3\", \"#FF6692\", \"#B6E880\", \"#FF97FF\", \"#FECB52\"], \"font\": {\"color\": \"#2a3f5f\"}, \"geo\": {\"bgcolor\": \"white\", \"lakecolor\": \"white\", \"landcolor\": \"#E5ECF6\", \"showlakes\": true, \"showland\": true, \"subunitcolor\": \"white\"}, \"hoverlabel\": {\"align\": \"left\"}, \"hovermode\": \"closest\", \"mapbox\": {\"style\": \"light\"}, \"paper_bgcolor\": \"white\", \"plot_bgcolor\": \"#E5ECF6\", \"polar\": {\"angularaxis\": {\"gridcolor\": \"white\", \"linecolor\": \"white\", \"ticks\": \"\"}, \"bgcolor\": \"#E5ECF6\", \"radialaxis\": {\"gridcolor\": \"white\", \"linecolor\": \"white\", \"ticks\": \"\"}}, \"scene\": {\"xaxis\": {\"backgroundcolor\": \"#E5ECF6\", \"gridcolor\": \"white\", \"gridwidth\": 2, \"linecolor\": \"white\", \"showbackground\": true, \"ticks\": \"\", \"zerolinecolor\": \"white\"}, \"yaxis\": {\"backgroundcolor\": \"#E5ECF6\", \"gridcolor\": \"white\", \"gridwidth\": 2, \"linecolor\": \"white\", \"showbackground\": true, \"ticks\": \"\", \"zerolinecolor\": \"white\"}, \"zaxis\": {\"backgroundcolor\": \"#E5ECF6\", \"gridcolor\": \"white\", \"gridwidth\": 2, \"linecolor\": \"white\", \"showbackground\": true, \"ticks\": \"\", \"zerolinecolor\": \"white\"}}, \"shapedefaults\": {\"line\": {\"color\": \"#2a3f5f\"}}, \"ternary\": {\"aaxis\": {\"gridcolor\": \"white\", \"linecolor\": \"white\", \"ticks\": \"\"}, \"baxis\": {\"gridcolor\": \"white\", \"linecolor\": \"white\", \"ticks\": \"\"}, \"bgcolor\": \"#E5ECF6\", \"caxis\": {\"gridcolor\": \"white\", \"linecolor\": \"white\", \"ticks\": \"\"}}, \"title\": {\"x\": 0.05}, \"xaxis\": {\"automargin\": true, \"gridcolor\": \"white\", \"linecolor\": \"white\", \"ticks\": \"\", \"title\": {\"standoff\": 15}, \"zerolinecolor\": \"white\", \"zerolinewidth\": 2}, \"yaxis\": {\"automargin\": true, \"gridcolor\": \"white\", \"linecolor\": \"white\", \"ticks\": \"\", \"title\": {\"standoff\": 15}, \"zerolinecolor\": \"white\", \"zerolinewidth\": 2}}}, \"xaxis\": {\"anchor\": \"y\", \"domain\": [0.0, 1.0], \"title\": {\"text\": \"YEAR\"}}, \"yaxis\": {\"anchor\": \"x\", \"domain\": [0.0, 1.0], \"title\": {\"text\": \"value\"}}},                        {\"responsive\": true}                    ).then(function(){\n                            \nvar gd = document.getElementById('51513dc5-5794-48df-a889-469776391dac');\nvar x = new MutationObserver(function (mutations, observer) {{\n        var display = window.getComputedStyle(gd).display;\n        if (!display || display === 'none') {{\n            console.log([gd, 'removed!']);\n            Plotly.purge(gd);\n            observer.disconnect();\n        }}\n}});\n\n// Listen for the removal of the full notebook cells\nvar notebookContainer = gd.closest('#notebook-container');\nif (notebookContainer) {{\n    x.observe(notebookContainer, {childList: true});\n}}\n\n// Listen for the clearing of the current output cell\nvar outputEl = gd.closest('.output');\nif (outputEl) {{\n    x.observe(outputEl, {childList: true});\n}}\n\n                        })                };                            </script>        </div>\n</body>\n</html>"
          },
          "metadata": {},
          "output_type": "display_data"
        }
      ]
    },
    {
      "cell_type": "markdown",
      "source": "Plot them together using y=\\[\"UMBC_PCT\",\"JHU_PCT\"\\] option of line plot\n",
      "metadata": {
        "id": "uGgmDKrF6zNq",
        "cell_id": "00028-b3643570-a60b-4c97-a2e0-ad2643002bde",
        "deepnote_to_be_reexecuted": false,
        "source_hash": "1c60c3ec",
        "execution_start": 1618162046227,
        "deepnote_cell_type": "markdown"
      }
    },
    {
      "cell_type": "code",
      "metadata": {
        "tags": [],
        "cell_id": "00066-39438b4f-6de3-4b85-b587-84952ccbff35",
        "deepnote_to_be_reexecuted": false,
        "source_hash": "c6a6e440",
        "execution_start": 1618232940578,
        "execution_millis": 63,
        "deepnote_cell_type": "code"
      },
      "source": "merged_line = px.line(df_pctchg_mrgd,\n                    x='YEAR',\n                    y=['UMBC_PCT', 'JHU_PCT'],\n                    )\nmerged_line.show()            ",
      "execution_count": null,
      "outputs": [
        {
          "data": {
            "text/html": "<html>\n<head><meta charset=\"utf-8\" /></head>\n<body>\n    <div>            <script src=\"https://cdnjs.cloudflare.com/ajax/libs/mathjax/2.7.5/MathJax.js?config=TeX-AMS-MML_SVG\"></script><script type=\"text/javascript\">if (window.MathJax) {MathJax.Hub.Config({SVG: {font: \"STIX-Web\"}});}</script>                <script type=\"text/javascript\">window.PlotlyConfig = {MathJaxConfig: 'local'};</script>\n        <script src=\"https://cdn.plot.ly/plotly-latest.min.js\"></script>                <div id=\"47b65511-95a4-43a7-93ac-1db02b42efd0\" class=\"plotly-graph-div\" style=\"height:525px; width:100%;\"></div>            <script type=\"text/javascript\">                                    window.PLOTLYENV=window.PLOTLYENV || {};                                    if (document.getElementById(\"47b65511-95a4-43a7-93ac-1db02b42efd0\")) {                    Plotly.newPlot(                        \"47b65511-95a4-43a7-93ac-1db02b42efd0\",                        [{\"hovertemplate\": \"variable=UMBC_PCT<br>YEAR=%{x}<br>value=%{y}<extra></extra>\", \"legendgroup\": \"UMBC_PCT\", \"line\": {\"color\": \"#636efa\", \"dash\": \"solid\"}, \"mode\": \"lines\", \"name\": \"UMBC_PCT\", \"orientation\": \"v\", \"showlegend\": true, \"type\": \"scatter\", \"x\": [\"1996\", \"1997\", \"1998\", \"1999\", \"2000\", \"2001\", \"2002\", \"2003\", \"2004\", \"2005\", \"2006\", \"2007\", \"2008\", \"2009\", \"2010\", \"2011\", \"2012\", \"2013\", \"2014\", \"2015\", \"2016\", \"2017\", \"2018\"], \"xaxis\": \"x\", \"y\": [null, null, null, null, null, 7.65, 7.65, 16.13, 8.55, 6.23, 1.2, 1.0, 0.83, 1.05, 3.37, 3.23, 3.14, 3.11, 3.14, 5.99, 2.34, 2.25, 2.26], \"yaxis\": \"y\"}, {\"hovertemplate\": \"variable=JHU_PCT<br>YEAR=%{x}<br>value=%{y}<extra></extra>\", \"legendgroup\": \"JHU_PCT\", \"line\": {\"color\": \"#EF553B\", \"dash\": \"solid\"}, \"mode\": \"lines\", \"name\": \"JHU_PCT\", \"orientation\": \"v\", \"showlegend\": true, \"type\": \"scatter\", \"x\": [\"1996\", \"1997\", \"1998\", \"1999\", \"2000\", \"2001\", \"2002\", \"2003\", \"2004\", \"2005\", \"2006\", \"2007\", \"2008\", \"2009\", \"2010\", \"2011\", \"2012\", \"2013\", \"2014\", \"2015\", \"2016\", \"2017\", \"2018\"], \"xaxis\": \"x\", \"y\": [null, null, null, null, null, 5.13, 4.5, 4.89, 4.91, 4.91, 7.21, 5.9, 5.01, 3.85, 3.91, 3.93, 2.63, 4.79, 3.5, 3.51, 3.49, 3.49, 3.01], \"yaxis\": \"y\"}],                        {\"legend\": {\"title\": {\"text\": \"variable\"}, \"tracegroupgap\": 0}, \"margin\": {\"t\": 60}, \"template\": {\"data\": {\"bar\": [{\"error_x\": {\"color\": \"#2a3f5f\"}, \"error_y\": {\"color\": \"#2a3f5f\"}, \"marker\": {\"line\": {\"color\": \"#E5ECF6\", \"width\": 0.5}}, \"type\": \"bar\"}], \"barpolar\": [{\"marker\": {\"line\": {\"color\": \"#E5ECF6\", \"width\": 0.5}}, \"type\": \"barpolar\"}], \"carpet\": [{\"aaxis\": {\"endlinecolor\": \"#2a3f5f\", \"gridcolor\": \"white\", \"linecolor\": \"white\", \"minorgridcolor\": \"white\", \"startlinecolor\": \"#2a3f5f\"}, \"baxis\": {\"endlinecolor\": \"#2a3f5f\", \"gridcolor\": \"white\", \"linecolor\": \"white\", \"minorgridcolor\": \"white\", \"startlinecolor\": \"#2a3f5f\"}, \"type\": \"carpet\"}], \"choropleth\": [{\"colorbar\": {\"outlinewidth\": 0, \"ticks\": \"\"}, \"type\": \"choropleth\"}], \"contour\": [{\"colorbar\": {\"outlinewidth\": 0, \"ticks\": \"\"}, \"colorscale\": [[0.0, \"#0d0887\"], [0.1111111111111111, \"#46039f\"], [0.2222222222222222, \"#7201a8\"], [0.3333333333333333, \"#9c179e\"], [0.4444444444444444, \"#bd3786\"], [0.5555555555555556, \"#d8576b\"], [0.6666666666666666, \"#ed7953\"], [0.7777777777777778, \"#fb9f3a\"], [0.8888888888888888, \"#fdca26\"], [1.0, \"#f0f921\"]], \"type\": \"contour\"}], \"contourcarpet\": [{\"colorbar\": {\"outlinewidth\": 0, \"ticks\": \"\"}, \"type\": \"contourcarpet\"}], \"heatmap\": [{\"colorbar\": {\"outlinewidth\": 0, \"ticks\": \"\"}, \"colorscale\": [[0.0, \"#0d0887\"], [0.1111111111111111, \"#46039f\"], [0.2222222222222222, \"#7201a8\"], [0.3333333333333333, \"#9c179e\"], [0.4444444444444444, \"#bd3786\"], [0.5555555555555556, \"#d8576b\"], [0.6666666666666666, \"#ed7953\"], [0.7777777777777778, \"#fb9f3a\"], [0.8888888888888888, \"#fdca26\"], [1.0, \"#f0f921\"]], \"type\": \"heatmap\"}], \"heatmapgl\": [{\"colorbar\": {\"outlinewidth\": 0, \"ticks\": \"\"}, \"colorscale\": [[0.0, \"#0d0887\"], [0.1111111111111111, \"#46039f\"], [0.2222222222222222, \"#7201a8\"], [0.3333333333333333, \"#9c179e\"], [0.4444444444444444, \"#bd3786\"], [0.5555555555555556, \"#d8576b\"], [0.6666666666666666, \"#ed7953\"], [0.7777777777777778, \"#fb9f3a\"], [0.8888888888888888, \"#fdca26\"], [1.0, \"#f0f921\"]], \"type\": \"heatmapgl\"}], \"histogram\": [{\"marker\": {\"colorbar\": {\"outlinewidth\": 0, \"ticks\": \"\"}}, \"type\": \"histogram\"}], \"histogram2d\": [{\"colorbar\": {\"outlinewidth\": 0, \"ticks\": \"\"}, \"colorscale\": [[0.0, \"#0d0887\"], [0.1111111111111111, \"#46039f\"], [0.2222222222222222, \"#7201a8\"], [0.3333333333333333, \"#9c179e\"], [0.4444444444444444, \"#bd3786\"], [0.5555555555555556, \"#d8576b\"], [0.6666666666666666, \"#ed7953\"], [0.7777777777777778, \"#fb9f3a\"], [0.8888888888888888, \"#fdca26\"], [1.0, \"#f0f921\"]], \"type\": \"histogram2d\"}], \"histogram2dcontour\": [{\"colorbar\": {\"outlinewidth\": 0, \"ticks\": \"\"}, \"colorscale\": [[0.0, \"#0d0887\"], [0.1111111111111111, \"#46039f\"], [0.2222222222222222, \"#7201a8\"], [0.3333333333333333, \"#9c179e\"], [0.4444444444444444, \"#bd3786\"], [0.5555555555555556, \"#d8576b\"], [0.6666666666666666, \"#ed7953\"], [0.7777777777777778, \"#fb9f3a\"], [0.8888888888888888, \"#fdca26\"], [1.0, \"#f0f921\"]], \"type\": \"histogram2dcontour\"}], \"mesh3d\": [{\"colorbar\": {\"outlinewidth\": 0, \"ticks\": \"\"}, \"type\": \"mesh3d\"}], \"parcoords\": [{\"line\": {\"colorbar\": {\"outlinewidth\": 0, \"ticks\": \"\"}}, \"type\": \"parcoords\"}], \"pie\": [{\"automargin\": true, \"type\": \"pie\"}], \"scatter\": [{\"marker\": {\"colorbar\": {\"outlinewidth\": 0, \"ticks\": \"\"}}, \"type\": \"scatter\"}], \"scatter3d\": [{\"line\": {\"colorbar\": {\"outlinewidth\": 0, \"ticks\": \"\"}}, \"marker\": {\"colorbar\": {\"outlinewidth\": 0, \"ticks\": \"\"}}, \"type\": \"scatter3d\"}], \"scattercarpet\": [{\"marker\": {\"colorbar\": {\"outlinewidth\": 0, \"ticks\": \"\"}}, \"type\": \"scattercarpet\"}], \"scattergeo\": [{\"marker\": {\"colorbar\": {\"outlinewidth\": 0, \"ticks\": \"\"}}, \"type\": \"scattergeo\"}], \"scattergl\": [{\"marker\": {\"colorbar\": {\"outlinewidth\": 0, \"ticks\": \"\"}}, \"type\": \"scattergl\"}], \"scattermapbox\": [{\"marker\": {\"colorbar\": {\"outlinewidth\": 0, \"ticks\": \"\"}}, \"type\": \"scattermapbox\"}], \"scatterpolar\": [{\"marker\": {\"colorbar\": {\"outlinewidth\": 0, \"ticks\": \"\"}}, \"type\": \"scatterpolar\"}], \"scatterpolargl\": [{\"marker\": {\"colorbar\": {\"outlinewidth\": 0, \"ticks\": \"\"}}, \"type\": \"scatterpolargl\"}], \"scatterternary\": [{\"marker\": {\"colorbar\": {\"outlinewidth\": 0, \"ticks\": \"\"}}, \"type\": \"scatterternary\"}], \"surface\": [{\"colorbar\": {\"outlinewidth\": 0, \"ticks\": \"\"}, \"colorscale\": [[0.0, \"#0d0887\"], [0.1111111111111111, \"#46039f\"], [0.2222222222222222, \"#7201a8\"], [0.3333333333333333, \"#9c179e\"], [0.4444444444444444, \"#bd3786\"], [0.5555555555555556, \"#d8576b\"], [0.6666666666666666, \"#ed7953\"], [0.7777777777777778, \"#fb9f3a\"], [0.8888888888888888, \"#fdca26\"], [1.0, \"#f0f921\"]], \"type\": \"surface\"}], \"table\": [{\"cells\": {\"fill\": {\"color\": \"#EBF0F8\"}, \"line\": {\"color\": \"white\"}}, \"header\": {\"fill\": {\"color\": \"#C8D4E3\"}, \"line\": {\"color\": \"white\"}}, \"type\": \"table\"}]}, \"layout\": {\"annotationdefaults\": {\"arrowcolor\": \"#2a3f5f\", \"arrowhead\": 0, \"arrowwidth\": 1}, \"autotypenumbers\": \"strict\", \"coloraxis\": {\"colorbar\": {\"outlinewidth\": 0, \"ticks\": \"\"}}, \"colorscale\": {\"diverging\": [[0, \"#8e0152\"], [0.1, \"#c51b7d\"], [0.2, \"#de77ae\"], [0.3, \"#f1b6da\"], [0.4, \"#fde0ef\"], [0.5, \"#f7f7f7\"], [0.6, \"#e6f5d0\"], [0.7, \"#b8e186\"], [0.8, \"#7fbc41\"], [0.9, \"#4d9221\"], [1, \"#276419\"]], \"sequential\": [[0.0, \"#0d0887\"], [0.1111111111111111, \"#46039f\"], [0.2222222222222222, \"#7201a8\"], [0.3333333333333333, \"#9c179e\"], [0.4444444444444444, \"#bd3786\"], [0.5555555555555556, \"#d8576b\"], [0.6666666666666666, \"#ed7953\"], [0.7777777777777778, \"#fb9f3a\"], [0.8888888888888888, \"#fdca26\"], [1.0, \"#f0f921\"]], \"sequentialminus\": [[0.0, \"#0d0887\"], [0.1111111111111111, \"#46039f\"], [0.2222222222222222, \"#7201a8\"], [0.3333333333333333, \"#9c179e\"], [0.4444444444444444, \"#bd3786\"], [0.5555555555555556, \"#d8576b\"], [0.6666666666666666, \"#ed7953\"], [0.7777777777777778, \"#fb9f3a\"], [0.8888888888888888, \"#fdca26\"], [1.0, \"#f0f921\"]]}, \"colorway\": [\"#636efa\", \"#EF553B\", \"#00cc96\", \"#ab63fa\", \"#FFA15A\", \"#19d3f3\", \"#FF6692\", \"#B6E880\", \"#FF97FF\", \"#FECB52\"], \"font\": {\"color\": \"#2a3f5f\"}, \"geo\": {\"bgcolor\": \"white\", \"lakecolor\": \"white\", \"landcolor\": \"#E5ECF6\", \"showlakes\": true, \"showland\": true, \"subunitcolor\": \"white\"}, \"hoverlabel\": {\"align\": \"left\"}, \"hovermode\": \"closest\", \"mapbox\": {\"style\": \"light\"}, \"paper_bgcolor\": \"white\", \"plot_bgcolor\": \"#E5ECF6\", \"polar\": {\"angularaxis\": {\"gridcolor\": \"white\", \"linecolor\": \"white\", \"ticks\": \"\"}, \"bgcolor\": \"#E5ECF6\", \"radialaxis\": {\"gridcolor\": \"white\", \"linecolor\": \"white\", \"ticks\": \"\"}}, \"scene\": {\"xaxis\": {\"backgroundcolor\": \"#E5ECF6\", \"gridcolor\": \"white\", \"gridwidth\": 2, \"linecolor\": \"white\", \"showbackground\": true, \"ticks\": \"\", \"zerolinecolor\": \"white\"}, \"yaxis\": {\"backgroundcolor\": \"#E5ECF6\", \"gridcolor\": \"white\", \"gridwidth\": 2, \"linecolor\": \"white\", \"showbackground\": true, \"ticks\": \"\", \"zerolinecolor\": \"white\"}, \"zaxis\": {\"backgroundcolor\": \"#E5ECF6\", \"gridcolor\": \"white\", \"gridwidth\": 2, \"linecolor\": \"white\", \"showbackground\": true, \"ticks\": \"\", \"zerolinecolor\": \"white\"}}, \"shapedefaults\": {\"line\": {\"color\": \"#2a3f5f\"}}, \"ternary\": {\"aaxis\": {\"gridcolor\": \"white\", \"linecolor\": \"white\", \"ticks\": \"\"}, \"baxis\": {\"gridcolor\": \"white\", \"linecolor\": \"white\", \"ticks\": \"\"}, \"bgcolor\": \"#E5ECF6\", \"caxis\": {\"gridcolor\": \"white\", \"linecolor\": \"white\", \"ticks\": \"\"}}, \"title\": {\"x\": 0.05}, \"xaxis\": {\"automargin\": true, \"gridcolor\": \"white\", \"linecolor\": \"white\", \"ticks\": \"\", \"title\": {\"standoff\": 15}, \"zerolinecolor\": \"white\", \"zerolinewidth\": 2}, \"yaxis\": {\"automargin\": true, \"gridcolor\": \"white\", \"linecolor\": \"white\", \"ticks\": \"\", \"title\": {\"standoff\": 15}, \"zerolinecolor\": \"white\", \"zerolinewidth\": 2}}}, \"xaxis\": {\"anchor\": \"y\", \"domain\": [0.0, 1.0], \"title\": {\"text\": \"YEAR\"}}, \"yaxis\": {\"anchor\": \"x\", \"domain\": [0.0, 1.0], \"title\": {\"text\": \"value\"}}},                        {\"responsive\": true}                    ).then(function(){\n                            \nvar gd = document.getElementById('47b65511-95a4-43a7-93ac-1db02b42efd0');\nvar x = new MutationObserver(function (mutations, observer) {{\n        var display = window.getComputedStyle(gd).display;\n        if (!display || display === 'none') {{\n            console.log([gd, 'removed!']);\n            Plotly.purge(gd);\n            observer.disconnect();\n        }}\n}});\n\n// Listen for the removal of the full notebook cells\nvar notebookContainer = gd.closest('#notebook-container');\nif (notebookContainer) {{\n    x.observe(notebookContainer, {childList: true});\n}}\n\n// Listen for the clearing of the current output cell\nvar outputEl = gd.closest('.output');\nif (outputEl) {{\n    x.observe(outputEl, {childList: true});\n}}\n\n                        })                };                            </script>        </div>\n</body>\n</html>"
          },
          "metadata": {},
          "output_type": "display_data"
        }
      ]
    },
    {
      "cell_type": "markdown",
      "source": "## <19> \ndocument your observation/conclusion of the comparison plots (bar/line)\nuse the following Markdown cell",
      "metadata": {
        "id": "6YNmMkgW6zNv",
        "cell_id": "00029-f4aa3b39-4c8e-4a78-a5cf-5875c2e3dcd5",
        "deepnote_to_be_reexecuted": false,
        "source_hash": "1425f2c8",
        "execution_start": 1618198248322,
        "execution_millis": 7,
        "deepnote_cell_type": "markdown"
      }
    },
    {
      "cell_type": "markdown",
      "source": "#### Based on my observation of the plots\n\n##### The Big Picture\n\n- UMBC has a much greater variance in year of year precentage change for in-state tuition fees.\n\n- In comparison JHU is much more consistent for percentage change every year.\n\n#### The Nitty Gritty\n- UMBC's greatest increase is in 2003, a whopping 16% change from the previous year. This is followed by a steady decline continuing to 2006, UMBC's smallest yearly increase during this period (1.2%). From 2010 onwards, the yearly increase remains between 3.3-2.267% with an exception noted at 2015(5.99).\n\n- JHU, on the other hand does not reflect the same roller coaster of increases as UMBC. The early 2000's show yearly inrceases hovering around 5%. The percent change peaks during 2006 (7.21%). Thereon, the percent change remains positive but steadily decreases to 2009 (3.85%). From then on it remains fairly constant with a slight downward trajectory. There are notable exceptions in 2012 (2.63%) and 2013 (4.79%).",
      "metadata": {
        "id": "tzeP_v8E6zNz",
        "cell_id": "00030-e609cf97-27a5-41a5-ba34-86fd6587cb1f",
        "deepnote_cell_type": "markdown"
      }
    },
    {
      "cell_type": "markdown",
      "source": "# The end.",
      "metadata": {
        "id": "njPmmLLA6zN0",
        "cell_id": "00031-dc356c85-03e9-42ed-80e6-dbcacf1661e0",
        "deepnote_to_be_reexecuted": false,
        "source_hash": "d1b4db5d",
        "execution_start": 1618162046274,
        "deepnote_cell_type": "markdown"
      }
    },
    {
      "cell_type": "markdown",
      "source": "<a style='text-decoration:none;line-height:16px;display:flex;color:#5B5B62;padding:10px;justify-content:end;' href='https://deepnote.com?utm_source=created-in-deepnote-cell&projectId=0aee4006-0af7-4619-8637-ef17c840cb78' target=\"_blank\">\n<img alt='Created in deepnote.com' style='display:inline;max-height:16px;margin:0px;margin-right:7.5px;' src='data:image/svg+xml;base64,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' > </img>\nCreated in <span style='font-weight:600;margin-left:4px;'>Deepnote</span></a>",
      "metadata": {
        "tags": [],
        "created_in_deepnote_cell": true,
        "deepnote_cell_type": "markdown"
      }
    }
  ],
  "nbformat": 4,
  "nbformat_minor": 0,
  "metadata": {
    "kernelspec": {
      "display_name": "Python 3",
      "language": "python",
      "name": "python3"
    },
    "language_info": {
      "codemirror_mode": {
        "name": "ipython",
        "version": 3
      },
      "file_extension": ".py",
      "mimetype": "text/x-python",
      "name": "python",
      "nbconvert_exporter": "python",
      "pygments_lexer": "ipython3",
      "version": "3.7.1"
    },
    "colab": {
      "name": "assignment_07.ipynb.txt",
      "provenance": [],
      "include_colab_link": true
    },
    "deepnote_notebook_id": "a4adf951-d399-4e66-ad38-70d47c8c23f7",
    "deepnote": {},
    "deepnote_execution_queue": []
  }
}